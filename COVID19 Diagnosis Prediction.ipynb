{
 "cells": [
  {
   "cell_type": "code",
   "execution_count": 1,
   "metadata": {},
   "outputs": [],
   "source": [
    "import numpy as np\n",
    "import pandas as pd\n",
    "import matplotlib.pyplot as plt \n",
    "import seaborn as sns\n",
    "from sklearn.preprocessing import LabelEncoder\n",
    "import warnings\n",
    "# ignore all warnings\n",
    "warnings.filterwarnings('ignore')\n",
    "from sklearn.model_selection import train_test_split\n",
    "from sklearn.dummy import DummyClassifier\n",
    "from sklearn.ensemble import RandomForestClassifier, GradientBoostingClassifier\n",
    "from sklearn.linear_model import Perceptron\n",
    "from sklearn.tree import DecisionTreeClassifier\n",
    "from sklearn.neighbors import KNeighborsClassifier\n",
    "from sklearn.naive_bayes import GaussianNB, BernoulliNB, MultinomialNB\n",
    "from sklearn.metrics import f1_score,confusion_matrix, roc_auc_score\n",
    "from sklearn.metrics import accuracy_score\n",
    "from xgboost import XGBClassifier\n",
    "import matplotlib\n",
    "import matplotlib.pyplot as plt\n",
    "from collections import Counter\n",
    "from sklearn.model_selection import StratifiedKFold"
   ]
  },
  {
   "cell_type": "markdown",
   "metadata": {},
   "source": [
    "## 1 Load the data set"
   ]
  },
  {
   "cell_type": "code",
   "execution_count": 2,
   "metadata": {},
   "outputs": [],
   "source": [
    "df = pd.read_csv(\"~/downloads/corona_tested_individuals_ver_00166.csv\", header=0, parse_dates = ['test_date']) ## load the date in local\n",
    "# df_np = np.loadtxt('corona_tested_individuals_ver_00166.csv', delimiter=',', skiprows=1,\n",
    "#                           usecols= (1,7), unpack=True)\n",
    "# df = pd.DataFrame(df)\n",
    "df.columns = ['date','cough','fever','sore_throat','shortness_of_breath','head_ache','corona_result','age','gender','test_indication']"
   ]
  },
  {
   "cell_type": "markdown",
   "metadata": {},
   "source": [
    "## 2 Data Exploration¶"
   ]
  },
  {
   "cell_type": "markdown",
   "metadata": {},
   "source": [
    "Explanation of the data:\n",
    "https://data.gov.il/dataset/covid-19/resource/0ac4cffc-3746-473a-8d4a-ab874b8d8d62\n",
    "\n",
    "Gender: appears from March 22nd 2020\n",
    "\n",
    "Corona_result: Results of first Covid-19 test, by category:\n",
    "    a.Positive – carrying Covid-19\n",
    "    b.Negative – not carrying Covid-19\n",
    "    c.Other – Not tested, in testing, inconclusive\n",
    "\n",
    "Age_60_and_above: Indicator of the test taker's age - 60 or over (1) or below 60 (0). Appears from March 17th 2020.\n",
    "\n",
    "Test_indication: What is the indication for testing? Abroad – arrived from abroad, contact_with_confirmed – contact with a confirmed case, other – other indication or not specified\n",
    "\n",
    "Symptoms (whether developed before testing):\n",
    "cough, fever, sore_throat, shortness of breath, headache: 1 – Yes, 0 – No, NULL – Unknown\n",
    "\n",
    "The corona_result is the label class."
   ]
  },
  {
   "cell_type": "code",
   "execution_count": 3,
   "metadata": {},
   "outputs": [],
   "source": [
    "df = df[df[\"date\"] > \"2021-05-30\"] # for simplicity and computability for a laptop, use data after 2021-05-30"
   ]
  },
  {
   "cell_type": "code",
   "execution_count": 4,
   "metadata": {},
   "outputs": [
    {
     "data": {
      "text/html": [
       "<div>\n",
       "<style scoped>\n",
       "    .dataframe tbody tr th:only-of-type {\n",
       "        vertical-align: middle;\n",
       "    }\n",
       "\n",
       "    .dataframe tbody tr th {\n",
       "        vertical-align: top;\n",
       "    }\n",
       "\n",
       "    .dataframe thead th {\n",
       "        text-align: right;\n",
       "    }\n",
       "</style>\n",
       "<table border=\"1\" class=\"dataframe\">\n",
       "  <thead>\n",
       "    <tr style=\"text-align: right;\">\n",
       "      <th></th>\n",
       "      <th>date</th>\n",
       "      <th>cough</th>\n",
       "      <th>fever</th>\n",
       "      <th>sore_throat</th>\n",
       "      <th>shortness_of_breath</th>\n",
       "      <th>head_ache</th>\n",
       "      <th>corona_result</th>\n",
       "      <th>age</th>\n",
       "      <th>gender</th>\n",
       "      <th>test_indication</th>\n",
       "    </tr>\n",
       "  </thead>\n",
       "  <tbody>\n",
       "    <tr>\n",
       "      <th>0</th>\n",
       "      <td>2021-07-25</td>\n",
       "      <td>0</td>\n",
       "      <td>0</td>\n",
       "      <td>0</td>\n",
       "      <td>0</td>\n",
       "      <td>0</td>\n",
       "      <td>שלילי</td>\n",
       "      <td>No</td>\n",
       "      <td>נקבה</td>\n",
       "      <td>Other</td>\n",
       "    </tr>\n",
       "    <tr>\n",
       "      <th>1</th>\n",
       "      <td>2021-07-25</td>\n",
       "      <td>0</td>\n",
       "      <td>0</td>\n",
       "      <td>0</td>\n",
       "      <td>0</td>\n",
       "      <td>0</td>\n",
       "      <td>שלילי</td>\n",
       "      <td>No</td>\n",
       "      <td>נקבה</td>\n",
       "      <td>Other</td>\n",
       "    </tr>\n",
       "    <tr>\n",
       "      <th>2</th>\n",
       "      <td>2021-07-25</td>\n",
       "      <td>1</td>\n",
       "      <td>1</td>\n",
       "      <td>1</td>\n",
       "      <td>0</td>\n",
       "      <td>1</td>\n",
       "      <td>אחר</td>\n",
       "      <td>No</td>\n",
       "      <td>נקבה</td>\n",
       "      <td>Abroad</td>\n",
       "    </tr>\n",
       "    <tr>\n",
       "      <th>3</th>\n",
       "      <td>2021-07-25</td>\n",
       "      <td>0</td>\n",
       "      <td>0</td>\n",
       "      <td>0</td>\n",
       "      <td>0</td>\n",
       "      <td>0</td>\n",
       "      <td>שלילי</td>\n",
       "      <td>No</td>\n",
       "      <td>זכר</td>\n",
       "      <td>Other</td>\n",
       "    </tr>\n",
       "    <tr>\n",
       "      <th>4</th>\n",
       "      <td>2021-07-25</td>\n",
       "      <td>0</td>\n",
       "      <td>0</td>\n",
       "      <td>0</td>\n",
       "      <td>0</td>\n",
       "      <td>0</td>\n",
       "      <td>שלילי</td>\n",
       "      <td>No</td>\n",
       "      <td>נקבה</td>\n",
       "      <td>Other</td>\n",
       "    </tr>\n",
       "  </tbody>\n",
       "</table>\n",
       "</div>"
      ],
      "text/plain": [
       "        date  cough  fever  sore_throat  shortness_of_breath  head_ache  \\\n",
       "0 2021-07-25      0      0            0                    0          0   \n",
       "1 2021-07-25      0      0            0                    0          0   \n",
       "2 2021-07-25      1      1            1                    0          1   \n",
       "3 2021-07-25      0      0            0                    0          0   \n",
       "4 2021-07-25      0      0            0                    0          0   \n",
       "\n",
       "  corona_result age gender test_indication  \n",
       "0         שלילי  No   נקבה           Other  \n",
       "1         שלילי  No   נקבה           Other  \n",
       "2           אחר  No   נקבה          Abroad  \n",
       "3         שלילי  No    זכר           Other  \n",
       "4         שלילי  No   נקבה           Other  "
      ]
     },
     "execution_count": 4,
     "metadata": {},
     "output_type": "execute_result"
    }
   ],
   "source": [
    "df.head()"
   ]
  },
  {
   "cell_type": "code",
   "execution_count": 5,
   "metadata": {},
   "outputs": [
    {
     "data": {
      "text/plain": [
       "(486659, 10)"
      ]
     },
     "execution_count": 5,
     "metadata": {},
     "output_type": "execute_result"
    }
   ],
   "source": [
    "df.shape"
   ]
  },
  {
   "cell_type": "code",
   "execution_count": 6,
   "metadata": {},
   "outputs": [
    {
     "name": "stdout",
     "output_type": "stream",
     "text": [
      "<class 'pandas.core.frame.DataFrame'>\n",
      "Int64Index: 486659 entries, 0 to 486658\n",
      "Data columns (total 10 columns):\n",
      " #   Column               Non-Null Count   Dtype         \n",
      "---  ------               --------------   -----         \n",
      " 0   date                 486659 non-null  datetime64[ns]\n",
      " 1   cough                486659 non-null  int64         \n",
      " 2   fever                486659 non-null  int64         \n",
      " 3   sore_throat          486659 non-null  int64         \n",
      " 4   shortness_of_breath  486659 non-null  int64         \n",
      " 5   head_ache            486659 non-null  int64         \n",
      " 6   corona_result        486659 non-null  object        \n",
      " 7   age                  201480 non-null  object        \n",
      " 8   gender               271191 non-null  object        \n",
      " 9   test_indication      486659 non-null  object        \n",
      "dtypes: datetime64[ns](1), int64(5), object(4)\n",
      "memory usage: 40.8+ MB\n"
     ]
    }
   ],
   "source": [
    "df.info()"
   ]
  },
  {
   "cell_type": "code",
   "execution_count": 7,
   "metadata": {},
   "outputs": [
    {
     "data": {
      "text/plain": [
       "date                        0\n",
       "cough                       0\n",
       "fever                       0\n",
       "sore_throat                 0\n",
       "shortness_of_breath         0\n",
       "head_ache                   0\n",
       "corona_result               0\n",
       "age                    285179\n",
       "gender                 215468\n",
       "test_indication             0\n",
       "dtype: int64"
      ]
     },
     "execution_count": 7,
     "metadata": {},
     "output_type": "execute_result"
    }
   ],
   "source": [
    "df.isnull().sum()"
   ]
  },
  {
   "cell_type": "markdown",
   "metadata": {},
   "source": [
    "According to the offical documents, testing for the virus started in February. However,due to privacy concerns:\n",
    "1. The information is available from 11 March 2020.\n",
    "2. Ages have been divided to under 60 and 60 and over, and are published from 17 March until 14 April (before 17 March until 14 April age equals NULL)\n",
    "3. Sex is published from 22 March (before the date, sex was represented as NULL)"
   ]
  },
  {
   "cell_type": "code",
   "execution_count": 8,
   "metadata": {},
   "outputs": [
    {
     "data": {
      "image/png": "[encoded data removed]",
      "text/plain": [
       "<Figure size 432x288 with 1 Axes>"
      ]
     },
     "metadata": {
      "needs_background": "light"
     },
     "output_type": "display_data"
    }
   ],
   "source": [
    "plt.hist(df[df[\"gender\"].isnull()]['date'], bins = 10)\n",
    "plt.xticks(rotation='vertical');"
   ]
  },
  {
   "cell_type": "code",
   "execution_count": 9,
   "metadata": {},
   "outputs": [
    {
     "data": {
      "image/png": "[encoded data removed]",
      "text/plain": [
       "<Figure size 432x288 with 1 Axes>"
      ]
     },
     "metadata": {
      "needs_background": "light"
     },
     "output_type": "display_data"
    }
   ],
   "source": [
    "plt.hist(df[df[\"age\"].isnull()]['date'], bins = 10)\n",
    "plt.xticks(rotation='vertical');"
   ]
  },
  {
   "cell_type": "code",
   "execution_count": 10,
   "metadata": {},
   "outputs": [
    {
     "data": {
      "text/html": [
       "<div>\n",
       "<style scoped>\n",
       "    .dataframe tbody tr th:only-of-type {\n",
       "        vertical-align: middle;\n",
       "    }\n",
       "\n",
       "    .dataframe tbody tr th {\n",
       "        vertical-align: top;\n",
       "    }\n",
       "\n",
       "    .dataframe thead th {\n",
       "        text-align: right;\n",
       "    }\n",
       "</style>\n",
       "<table border=\"1\" class=\"dataframe\">\n",
       "  <thead>\n",
       "    <tr style=\"text-align: right;\">\n",
       "      <th></th>\n",
       "      <th>cough</th>\n",
       "      <th>fever</th>\n",
       "      <th>sore_throat</th>\n",
       "      <th>shortness_of_breath</th>\n",
       "      <th>head_ache</th>\n",
       "      <th>date</th>\n",
       "      <th>corona_result</th>\n",
       "      <th>age</th>\n",
       "      <th>gender</th>\n",
       "      <th>test_indication</th>\n",
       "    </tr>\n",
       "  </thead>\n",
       "  <tbody>\n",
       "    <tr>\n",
       "      <th>count</th>\n",
       "      <td>486659.000000</td>\n",
       "      <td>486659.000000</td>\n",
       "      <td>486659.000000</td>\n",
       "      <td>486659.000000</td>\n",
       "      <td>486659.000000</td>\n",
       "      <td>NaN</td>\n",
       "      <td>NaN</td>\n",
       "      <td>NaN</td>\n",
       "      <td>NaN</td>\n",
       "      <td>NaN</td>\n",
       "    </tr>\n",
       "    <tr>\n",
       "      <th>mean</th>\n",
       "      <td>0.005190</td>\n",
       "      <td>0.004886</td>\n",
       "      <td>0.001942</td>\n",
       "      <td>0.000271</td>\n",
       "      <td>0.003339</td>\n",
       "      <td>NaN</td>\n",
       "      <td>NaN</td>\n",
       "      <td>NaN</td>\n",
       "      <td>NaN</td>\n",
       "      <td>NaN</td>\n",
       "    </tr>\n",
       "    <tr>\n",
       "      <th>std</th>\n",
       "      <td>0.071858</td>\n",
       "      <td>0.069732</td>\n",
       "      <td>0.044023</td>\n",
       "      <td>0.016467</td>\n",
       "      <td>0.057688</td>\n",
       "      <td>NaN</td>\n",
       "      <td>NaN</td>\n",
       "      <td>NaN</td>\n",
       "      <td>NaN</td>\n",
       "      <td>NaN</td>\n",
       "    </tr>\n",
       "    <tr>\n",
       "      <th>min</th>\n",
       "      <td>0.000000</td>\n",
       "      <td>0.000000</td>\n",
       "      <td>0.000000</td>\n",
       "      <td>0.000000</td>\n",
       "      <td>0.000000</td>\n",
       "      <td>NaN</td>\n",
       "      <td>NaN</td>\n",
       "      <td>NaN</td>\n",
       "      <td>NaN</td>\n",
       "      <td>NaN</td>\n",
       "    </tr>\n",
       "    <tr>\n",
       "      <th>25%</th>\n",
       "      <td>0.000000</td>\n",
       "      <td>0.000000</td>\n",
       "      <td>0.000000</td>\n",
       "      <td>0.000000</td>\n",
       "      <td>0.000000</td>\n",
       "      <td>NaN</td>\n",
       "      <td>NaN</td>\n",
       "      <td>NaN</td>\n",
       "      <td>NaN</td>\n",
       "      <td>NaN</td>\n",
       "    </tr>\n",
       "    <tr>\n",
       "      <th>50%</th>\n",
       "      <td>0.000000</td>\n",
       "      <td>0.000000</td>\n",
       "      <td>0.000000</td>\n",
       "      <td>0.000000</td>\n",
       "      <td>0.000000</td>\n",
       "      <td>NaN</td>\n",
       "      <td>NaN</td>\n",
       "      <td>NaN</td>\n",
       "      <td>NaN</td>\n",
       "      <td>NaN</td>\n",
       "    </tr>\n",
       "    <tr>\n",
       "      <th>75%</th>\n",
       "      <td>0.000000</td>\n",
       "      <td>0.000000</td>\n",
       "      <td>0.000000</td>\n",
       "      <td>0.000000</td>\n",
       "      <td>0.000000</td>\n",
       "      <td>NaN</td>\n",
       "      <td>NaN</td>\n",
       "      <td>NaN</td>\n",
       "      <td>NaN</td>\n",
       "      <td>NaN</td>\n",
       "    </tr>\n",
       "    <tr>\n",
       "      <th>max</th>\n",
       "      <td>1.000000</td>\n",
       "      <td>1.000000</td>\n",
       "      <td>1.000000</td>\n",
       "      <td>1.000000</td>\n",
       "      <td>1.000000</td>\n",
       "      <td>NaN</td>\n",
       "      <td>NaN</td>\n",
       "      <td>NaN</td>\n",
       "      <td>NaN</td>\n",
       "      <td>NaN</td>\n",
       "    </tr>\n",
       "    <tr>\n",
       "      <th>mad</th>\n",
       "      <td>0.010327</td>\n",
       "      <td>0.009725</td>\n",
       "      <td>0.003876</td>\n",
       "      <td>0.000542</td>\n",
       "      <td>0.006656</td>\n",
       "      <td>NaN</td>\n",
       "      <td>NaN</td>\n",
       "      <td>NaN</td>\n",
       "      <td>NaN</td>\n",
       "      <td>NaN</td>\n",
       "    </tr>\n",
       "    <tr>\n",
       "      <th>skew</th>\n",
       "      <td>13.771940</td>\n",
       "      <td>14.200588</td>\n",
       "      <td>22.627156</td>\n",
       "      <td>60.694593</td>\n",
       "      <td>17.218816</td>\n",
       "      <td>NaN</td>\n",
       "      <td>NaN</td>\n",
       "      <td>NaN</td>\n",
       "      <td>NaN</td>\n",
       "      <td>NaN</td>\n",
       "    </tr>\n",
       "    <tr>\n",
       "      <th>kurt</th>\n",
       "      <td>187.667095</td>\n",
       "      <td>199.657521</td>\n",
       "      <td>509.990266</td>\n",
       "      <td>3681.848717</td>\n",
       "      <td>294.488850</td>\n",
       "      <td>NaN</td>\n",
       "      <td>NaN</td>\n",
       "      <td>NaN</td>\n",
       "      <td>NaN</td>\n",
       "      <td>NaN</td>\n",
       "    </tr>\n",
       "    <tr>\n",
       "      <th>nunique</th>\n",
       "      <td>2.000000</td>\n",
       "      <td>2.000000</td>\n",
       "      <td>2.000000</td>\n",
       "      <td>2.000000</td>\n",
       "      <td>2.000000</td>\n",
       "      <td>56.0</td>\n",
       "      <td>3.0</td>\n",
       "      <td>2.0</td>\n",
       "      <td>2.0</td>\n",
       "      <td>3.0</td>\n",
       "    </tr>\n",
       "  </tbody>\n",
       "</table>\n",
       "</div>"
      ],
      "text/plain": [
       "                 cough          fever    sore_throat  shortness_of_breath  \\\n",
       "count    486659.000000  486659.000000  486659.000000        486659.000000   \n",
       "mean          0.005190       0.004886       0.001942             0.000271   \n",
       "std           0.071858       0.069732       0.044023             0.016467   \n",
       "min           0.000000       0.000000       0.000000             0.000000   \n",
       "25%           0.000000       0.000000       0.000000             0.000000   \n",
       "50%           0.000000       0.000000       0.000000             0.000000   \n",
       "75%           0.000000       0.000000       0.000000             0.000000   \n",
       "max           1.000000       1.000000       1.000000             1.000000   \n",
       "mad           0.010327       0.009725       0.003876             0.000542   \n",
       "skew         13.771940      14.200588      22.627156            60.694593   \n",
       "kurt        187.667095     199.657521     509.990266          3681.848717   \n",
       "nunique       2.000000       2.000000       2.000000             2.000000   \n",
       "\n",
       "             head_ache  date  corona_result  age  gender  test_indication  \n",
       "count    486659.000000   NaN            NaN  NaN     NaN              NaN  \n",
       "mean          0.003339   NaN            NaN  NaN     NaN              NaN  \n",
       "std           0.057688   NaN            NaN  NaN     NaN              NaN  \n",
       "min           0.000000   NaN            NaN  NaN     NaN              NaN  \n",
       "25%           0.000000   NaN            NaN  NaN     NaN              NaN  \n",
       "50%           0.000000   NaN            NaN  NaN     NaN              NaN  \n",
       "75%           0.000000   NaN            NaN  NaN     NaN              NaN  \n",
       "max           1.000000   NaN            NaN  NaN     NaN              NaN  \n",
       "mad           0.006656   NaN            NaN  NaN     NaN              NaN  \n",
       "skew         17.218816   NaN            NaN  NaN     NaN              NaN  \n",
       "kurt        294.488850   NaN            NaN  NaN     NaN              NaN  \n",
       "nunique       2.000000  56.0            3.0  2.0     2.0              3.0  "
      ]
     },
     "execution_count": 10,
     "metadata": {},
     "output_type": "execute_result"
    }
   ],
   "source": [
    "pd.concat([\n",
    "    df.describe().T,\n",
    "    df.mad().rename('mad'),\n",
    "    df.skew().rename('skew'),\n",
    "    df.kurt().rename('kurt'),\n",
    "    df.nunique().rename('nunique')\n",
    "], axis=1).T"
   ]
  },
  {
   "cell_type": "code",
   "execution_count": 11,
   "metadata": {},
   "outputs": [
    {
     "data": {
      "text/plain": [
       "array(['שלילי', 'אחר', 'חיובי'], dtype=object)"
      ]
     },
     "execution_count": 11,
     "metadata": {},
     "output_type": "execute_result"
    }
   ],
   "source": [
    "df['corona_result'].unique() "
   ]
  },
  {
   "cell_type": "code",
   "execution_count": 12,
   "metadata": {},
   "outputs": [],
   "source": [
    "# replacing all the characters in Hebrew by English\n",
    "df['corona_result'] = df['corona_result'].str.replace('חיובי','Positive')\n",
    "df['corona_result'] = df['corona_result'].str.replace('אחר','Other')\n",
    "df['corona_result'] = df['corona_result'].str.replace('שלילי','Negative')\n",
    "\n",
    "df['gender'] = df['gender'].str.replace('נקבה','Female')\n",
    "df['gender'] = df['gender'].str.replace('זכר','Male')"
   ]
  },
  {
   "cell_type": "markdown",
   "metadata": {},
   "source": [
    "## 3 Data Understanding"
   ]
  },
  {
   "cell_type": "markdown",
   "metadata": {},
   "source": [
    "**BreakDown of Class**"
   ]
  },
  {
   "cell_type": "code",
   "execution_count": 13,
   "metadata": {},
   "outputs": [
    {
     "data": {
      "image/png": "[encoded data removed]",
      "text/plain": [
       "<Figure size 360x360 with 1 Axes>"
      ]
     },
     "metadata": {
      "needs_background": "light"
     },
     "output_type": "display_data"
    }
   ],
   "source": [
    "plt.figure(figsize=(5,5))\n",
    "corona_result = sns.countplot(df['corona_result'],label=\"Count\")\n",
    "\n",
    "for p in corona_result.patches:\n",
    "    height = p.get_height()\n",
    "    corona_result.text(p.get_x()+p.get_width()/2., height + 0.1,height ,ha=\"center\")"
   ]
  },
  {
   "cell_type": "markdown",
   "metadata": {},
   "source": [
    "The class lable is highly imbalanced. The proportion of positive instances is less than **1%**. We need to be cautious about this."
   ]
  },
  {
   "cell_type": "markdown",
   "metadata": {},
   "source": [
    "**BreakDown of feature distribution**"
   ]
  },
  {
   "cell_type": "code",
   "execution_count": 14,
   "metadata": {},
   "outputs": [
    {
     "data": {
      "image/png": "[encoded data removed]",
      "text/plain": [
       "<Figure size 360x216 with 1 Axes>"
      ]
     },
     "metadata": {
      "needs_background": "light"
     },
     "output_type": "display_data"
    }
   ],
   "source": [
    "df.plot.box(figsize=(5, 3)) # visualize the feature distribution\n",
    "plt.xticks(rotation='vertical');\n",
    "# the value distribution of 5 numeric features are highly skewed with over 75% being 0."
   ]
  },
  {
   "cell_type": "markdown",
   "metadata": {},
   "source": [
    "**BreakDown of cough**"
   ]
  },
  {
   "cell_type": "code",
   "execution_count": 15,
   "metadata": {},
   "outputs": [
    {
     "data": {
      "image/png": "[encoded data removed]",
      "text/plain": [
       "<Figure size 360x360 with 1 Axes>"
      ]
     },
     "metadata": {
      "needs_background": "light"
     },
     "output_type": "display_data"
    }
   ],
   "source": [
    "plt.figure(figsize=(5,5))\n",
    "cough = sns.countplot(data=df, x=\"cough\")\n",
    "\n",
    "for p in cough.patches:\n",
    "    height = p.get_height()\n",
    "    cough.text(p.get_x()+p.get_width()/2., height + 0.1,height ,ha=\"center\")"
   ]
  },
  {
   "cell_type": "code",
   "execution_count": 16,
   "metadata": {},
   "outputs": [
    {
     "data": {
      "image/png": "[encoded data removed]",
      "text/plain": [
       "<Figure size 1512x360 with 3 Axes>"
      ]
     },
     "metadata": {
      "needs_background": "light"
     },
     "output_type": "display_data"
    }
   ],
   "source": [
    "f, axes = plt.subplots(1, 3, figsize=(21,5))\n",
    "positive = sns.countplot(df[df['corona_result'] == 'Positive'][\"cough\"], ax=axes[0]) \n",
    "axes[0].set_title(\"Positive Corona Results versus Cough\")\n",
    "for p in positive.patches:\n",
    "    height = p.get_height()\n",
    "    positive.text(p.get_x()+p.get_width()/2., height + 0.1,height ,ha=\"center\")\n",
    "\n",
    "# we don't need kernel desity estimate because the feature is discrete.\n",
    "negative = sns.countplot(df[df['corona_result'] == 'Negative'][\"cough\"], ax=axes[1])\n",
    "axes[1].set_title('Negative Corona Results versus Cough')\n",
    "for p in negative.patches:\n",
    "    height = p.get_height()\n",
    "    negative.text(p.get_x()+p.get_width()/2., height + 0.1,height ,ha=\"center\")\n",
    "\n",
    "other = sns.countplot(df[df['corona_result'] == 'Other'][\"cough\"], ax=axes[2])\n",
    "axes[2].set_title('Other Corona Results versus Cough')\n",
    "for p in other.patches:\n",
    "    height = p.get_height()\n",
    "    other.text(p.get_x()+p.get_width()/2., height + 0.1,height ,ha=\"center\")\n",
    "\n",
    "plt.show()\n"
   ]
  },
  {
   "cell_type": "markdown",
   "metadata": {},
   "source": [
    "**BreakDown of fever**"
   ]
  },
  {
   "cell_type": "code",
   "execution_count": 17,
   "metadata": {
    "scrolled": false
   },
   "outputs": [
    {
     "data": {
      "image/png": "[encoded data removed]",
      "text/plain": [
       "<Figure size 360x360 with 1 Axes>"
      ]
     },
     "metadata": {
      "needs_background": "light"
     },
     "output_type": "display_data"
    }
   ],
   "source": [
    "plt.figure(figsize=(5,5))\n",
    "fever = sns.countplot(data=df, x=\"fever\")\n",
    "\n",
    "for p in fever.patches:\n",
    "    height = p.get_height()\n",
    "    fever.text(p.get_x()+p.get_width()/2., height + 0.1,height ,ha=\"center\")"
   ]
  },
  {
   "cell_type": "code",
   "execution_count": 18,
   "metadata": {},
   "outputs": [
    {
     "data": {
      "image/png": "[encoded data removed]",
      "text/plain": [
       "<Figure size 1512x360 with 3 Axes>"
      ]
     },
     "metadata": {
      "needs_background": "light"
     },
     "output_type": "display_data"
    }
   ],
   "source": [
    "f, axes = plt.subplots(1, 3, figsize=(21,5))\n",
    "\n",
    "positive = sns.countplot(df[df['corona_result'] == 'Positive'][\"fever\"], ax=axes[0]) \n",
    "axes[0].set_title(\"Positive Corona Results versus fever\")\n",
    "for p in positive.patches:\n",
    "    height = p.get_height()\n",
    "    positive.text(p.get_x()+p.get_width()/2., height + 0.1,height ,ha=\"center\")\n",
    "\n",
    "# we don't need kernel desity estimate because the feature is discrete.\n",
    "negative = sns.countplot(df[df['corona_result'] == 'Negative'][\"fever\"], ax=axes[1])\n",
    "axes[1].set_title('Negative Corona Results versus fever')\n",
    "for p in negative.patches:\n",
    "    height = p.get_height()\n",
    "    negative.text(p.get_x()+p.get_width()/2., height + 0.1,height ,ha=\"center\")\n",
    "\n",
    "other = sns.countplot(df[df['corona_result'] == 'Other'][\"fever\"], ax=axes[2])\n",
    "axes[2].set_title('Other Corona Results versus fever')\n",
    "for p in other.patches:\n",
    "    height = p.get_height()\n",
    "    other.text(p.get_x()+p.get_width()/2., height + 0.1,height ,ha=\"center\")\n",
    "\n",
    "plt.show()\n"
   ]
  },
  {
   "cell_type": "markdown",
   "metadata": {},
   "source": [
    "**BreakDown of sore_throat**"
   ]
  },
  {
   "cell_type": "code",
   "execution_count": 19,
   "metadata": {},
   "outputs": [
    {
     "data": {
      "image/png": "[encoded data removed]",
      "text/plain": [
       "<Figure size 360x360 with 1 Axes>"
      ]
     },
     "metadata": {
      "needs_background": "light"
     },
     "output_type": "display_data"
    }
   ],
   "source": [
    "plt.figure(figsize=(5,5))\n",
    "sore_throat = sns.countplot(data=df, x=\"sore_throat\")\n",
    "\n",
    "for p in sore_throat.patches:\n",
    "    height = p.get_height()\n",
    "    sore_throat.text(p.get_x()+p.get_width()/2., height + 0.1,height ,ha=\"center\")\n",
    "\n"
   ]
  },
  {
   "cell_type": "code",
   "execution_count": 20,
   "metadata": {},
   "outputs": [
    {
     "data": {
      "image/png": "[encoded data removed]",
      "text/plain": [
       "<Figure size 1512x360 with 3 Axes>"
      ]
     },
     "metadata": {
      "needs_background": "light"
     },
     "output_type": "display_data"
    }
   ],
   "source": [
    "f, axes = plt.subplots(1, 3, figsize=(21,5))\n",
    "\n",
    "positive = sns.countplot(df[df['corona_result'] == 'Positive'][\"sore_throat\"], ax=axes[0]) \n",
    "axes[0].set_title(\"Positive Corona Results versus sore_throat\")\n",
    "for p in positive.patches:\n",
    "    height = p.get_height()\n",
    "    positive.text(p.get_x()+p.get_width()/2., height + 0.1,height ,ha=\"center\")\n",
    "\n",
    "# we don't need kernel desity estimate because the feature is discrete.\n",
    "negative = sns.countplot(df[df['corona_result'] == 'Negative'][\"sore_throat\"], ax=axes[1])\n",
    "axes[1].set_title('Negative Corona Results versus sore_throat')\n",
    "for p in negative.patches:\n",
    "    height = p.get_height()\n",
    "    negative.text(p.get_x()+p.get_width()/2., height + 0.1,height ,ha=\"center\")\n",
    "\n",
    "other = sns.countplot(df[df['corona_result'] == 'Other'][\"sore_throat\"], ax=axes[2])\n",
    "axes[2].set_title('Other Corona Results versus sore_throat')\n",
    "for p in other.patches:\n",
    "    height = p.get_height()\n",
    "    other.text(p.get_x()+p.get_width()/2., height + 0.1,height ,ha=\"center\")\n",
    "\n",
    "plt.show()\n"
   ]
  },
  {
   "cell_type": "markdown",
   "metadata": {},
   "source": [
    "**BreakDown of shortness_of_breath**"
   ]
  },
  {
   "cell_type": "code",
   "execution_count": 21,
   "metadata": {},
   "outputs": [
    {
     "data": {
      "image/png": "[encoded data removed]",
      "text/plain": [
       "<Figure size 360x360 with 1 Axes>"
      ]
     },
     "metadata": {
      "needs_background": "light"
     },
     "output_type": "display_data"
    }
   ],
   "source": [
    "plt.figure(figsize=(5,5))\n",
    "shortness_of_breath = sns.countplot(data=df, x=\"shortness_of_breath\")\n",
    "\n",
    "for p in shortness_of_breath.patches:\n",
    "    height = p.get_height()\n",
    "    shortness_of_breath.text(p.get_x()+p.get_width()/2., height + 0.1,height ,ha=\"center\")\n",
    "plt.show()"
   ]
  },
  {
   "cell_type": "code",
   "execution_count": 22,
   "metadata": {},
   "outputs": [
    {
     "data": {
      "image/png": "[encoded data removed]",
      "text/plain": [
       "<Figure size 1512x360 with 3 Axes>"
      ]
     },
     "metadata": {
      "needs_background": "light"
     },
     "output_type": "display_data"
    }
   ],
   "source": [
    "f, axes = plt.subplots(1, 3, figsize=(21,5))\n",
    "\n",
    "positive = sns.countplot(df[df['corona_result'] == 'Positive'][\"shortness_of_breath\"], ax=axes[0]) \n",
    "axes[0].set_title(\"Positive Corona Results versus shortness_of_breath\")\n",
    "for p in positive.patches:\n",
    "    height = p.get_height()\n",
    "    positive.text(p.get_x()+p.get_width()/2., height + 0.1,height ,ha=\"center\")\n",
    "\n",
    "# we don't need kernel desity estimate because the feature is discrete.\n",
    "negative = sns.countplot(df[df['corona_result'] == 'Negative'][\"shortness_of_breath\"], ax=axes[1])\n",
    "axes[1].set_title('Negative Corona Results versus shortness_of_breath')\n",
    "for p in negative.patches:\n",
    "    height = p.get_height()\n",
    "    negative.text(p.get_x()+p.get_width()/2., height + 0.1,height ,ha=\"center\")\n",
    "\n",
    "other = sns.countplot(df[df['corona_result'] == 'Other'][\"shortness_of_breath\"], ax=axes[2])\n",
    "axes[2].set_title('Other Corona Results versus shortness_of_breath')\n",
    "for p in other.patches:\n",
    "    height = p.get_height()\n",
    "    other.text(p.get_x()+p.get_width()/2., height + 0.1,height ,ha=\"center\")\n",
    "\n",
    "plt.show()\n"
   ]
  },
  {
   "cell_type": "markdown",
   "metadata": {},
   "source": [
    "**BreakDown of head_ache**"
   ]
  },
  {
   "cell_type": "code",
   "execution_count": 23,
   "metadata": {},
   "outputs": [
    {
     "data": {
      "image/png": "[encoded data removed]",
      "text/plain": [
       "<Figure size 360x360 with 1 Axes>"
      ]
     },
     "metadata": {
      "needs_background": "light"
     },
     "output_type": "display_data"
    }
   ],
   "source": [
    "plt.figure(figsize=(5,5))\n",
    "head_ache = sns.countplot(data=df, x=\"head_ache\")\n",
    "\n",
    "for p in head_ache.patches:\n",
    "    height = p.get_height()\n",
    "    head_ache.text(p.get_x()+p.get_width()/2., height + 0.1,height ,ha=\"center\")\n",
    "plt.show()"
   ]
  },
  {
   "cell_type": "code",
   "execution_count": 24,
   "metadata": {},
   "outputs": [
    {
     "data": {
      "image/png": "[encoded data removed]",
      "text/plain": [
       "<Figure size 1512x360 with 3 Axes>"
      ]
     },
     "metadata": {
      "needs_background": "light"
     },
     "output_type": "display_data"
    }
   ],
   "source": [
    "f, axes = plt.subplots(1, 3, figsize=(21,5))\n",
    "\n",
    "positive = sns.countplot(df[df['corona_result'] == 'Positive'][\"head_ache\"], ax=axes[0]) \n",
    "axes[0].set_title(\"Positive Corona Results versus head_ache\")\n",
    "for p in positive.patches:\n",
    "    height = p.get_height()\n",
    "    positive.text(p.get_x()+p.get_width()/2., height + 0.1,height ,ha=\"center\")\n",
    "\n",
    "# we don't need kernel desity estimate because the feature is discrete.\n",
    "negative = sns.countplot(df[df['corona_result'] == 'Negative'][\"head_ache\"], ax=axes[1])\n",
    "axes[1].set_title('Negative Corona Results versus head_ache')\n",
    "for p in negative.patches:\n",
    "    height = p.get_height()\n",
    "    negative.text(p.get_x()+p.get_width()/2., height + 0.1,height ,ha=\"center\")\n",
    "\n",
    "other = sns.countplot(df[df['corona_result'] == 'Other'][\"head_ache\"], ax=axes[2])\n",
    "axes[2].set_title('Other Corona Results versus head_ache')\n",
    "for p in other.patches:\n",
    "    height = p.get_height()\n",
    "    other.text(p.get_x()+p.get_width()/2., height + 0.1,height ,ha=\"center\")\n",
    "\n",
    "plt.show()"
   ]
  },
  {
   "cell_type": "markdown",
   "metadata": {},
   "source": [
    "**Corona Result along with time**"
   ]
  },
  {
   "cell_type": "code",
   "execution_count": 25,
   "metadata": {},
   "outputs": [],
   "source": [
    "matplotlib.style.use('seaborn-white')"
   ]
  },
  {
   "cell_type": "code",
   "execution_count": 26,
   "metadata": {},
   "outputs": [
    {
     "data": {
      "text/html": [
       "<div>\n",
       "<style scoped>\n",
       "    .dataframe tbody tr th:only-of-type {\n",
       "        vertical-align: middle;\n",
       "    }\n",
       "\n",
       "    .dataframe tbody tr th {\n",
       "        vertical-align: top;\n",
       "    }\n",
       "\n",
       "    .dataframe thead th {\n",
       "        text-align: right;\n",
       "    }\n",
       "</style>\n",
       "<table border=\"1\" class=\"dataframe\">\n",
       "  <thead>\n",
       "    <tr style=\"text-align: right;\">\n",
       "      <th></th>\n",
       "      <th>date</th>\n",
       "      <th>cough</th>\n",
       "      <th>fever</th>\n",
       "      <th>sore_throat</th>\n",
       "      <th>shortness_of_breath</th>\n",
       "      <th>head_ache</th>\n",
       "      <th>corona_result</th>\n",
       "      <th>age</th>\n",
       "      <th>gender</th>\n",
       "      <th>test_indication</th>\n",
       "    </tr>\n",
       "  </thead>\n",
       "  <tbody>\n",
       "    <tr>\n",
       "      <th>0</th>\n",
       "      <td>2021-07-25</td>\n",
       "      <td>0</td>\n",
       "      <td>0</td>\n",
       "      <td>0</td>\n",
       "      <td>0</td>\n",
       "      <td>0</td>\n",
       "      <td>Negative</td>\n",
       "      <td>No</td>\n",
       "      <td>Female</td>\n",
       "      <td>Other</td>\n",
       "    </tr>\n",
       "    <tr>\n",
       "      <th>1</th>\n",
       "      <td>2021-07-25</td>\n",
       "      <td>0</td>\n",
       "      <td>0</td>\n",
       "      <td>0</td>\n",
       "      <td>0</td>\n",
       "      <td>0</td>\n",
       "      <td>Negative</td>\n",
       "      <td>No</td>\n",
       "      <td>Female</td>\n",
       "      <td>Other</td>\n",
       "    </tr>\n",
       "    <tr>\n",
       "      <th>2</th>\n",
       "      <td>2021-07-25</td>\n",
       "      <td>1</td>\n",
       "      <td>1</td>\n",
       "      <td>1</td>\n",
       "      <td>0</td>\n",
       "      <td>1</td>\n",
       "      <td>Other</td>\n",
       "      <td>No</td>\n",
       "      <td>Female</td>\n",
       "      <td>Abroad</td>\n",
       "    </tr>\n",
       "    <tr>\n",
       "      <th>3</th>\n",
       "      <td>2021-07-25</td>\n",
       "      <td>0</td>\n",
       "      <td>0</td>\n",
       "      <td>0</td>\n",
       "      <td>0</td>\n",
       "      <td>0</td>\n",
       "      <td>Negative</td>\n",
       "      <td>No</td>\n",
       "      <td>Male</td>\n",
       "      <td>Other</td>\n",
       "    </tr>\n",
       "    <tr>\n",
       "      <th>4</th>\n",
       "      <td>2021-07-25</td>\n",
       "      <td>0</td>\n",
       "      <td>0</td>\n",
       "      <td>0</td>\n",
       "      <td>0</td>\n",
       "      <td>0</td>\n",
       "      <td>Negative</td>\n",
       "      <td>No</td>\n",
       "      <td>Female</td>\n",
       "      <td>Other</td>\n",
       "    </tr>\n",
       "    <tr>\n",
       "      <th>...</th>\n",
       "      <td>...</td>\n",
       "      <td>...</td>\n",
       "      <td>...</td>\n",
       "      <td>...</td>\n",
       "      <td>...</td>\n",
       "      <td>...</td>\n",
       "      <td>...</td>\n",
       "      <td>...</td>\n",
       "      <td>...</td>\n",
       "      <td>...</td>\n",
       "    </tr>\n",
       "    <tr>\n",
       "      <th>486654</th>\n",
       "      <td>2021-05-31</td>\n",
       "      <td>0</td>\n",
       "      <td>0</td>\n",
       "      <td>0</td>\n",
       "      <td>0</td>\n",
       "      <td>0</td>\n",
       "      <td>Negative</td>\n",
       "      <td>NaN</td>\n",
       "      <td>NaN</td>\n",
       "      <td>Other</td>\n",
       "    </tr>\n",
       "    <tr>\n",
       "      <th>486655</th>\n",
       "      <td>2021-05-31</td>\n",
       "      <td>0</td>\n",
       "      <td>0</td>\n",
       "      <td>0</td>\n",
       "      <td>0</td>\n",
       "      <td>0</td>\n",
       "      <td>Negative</td>\n",
       "      <td>NaN</td>\n",
       "      <td>NaN</td>\n",
       "      <td>Other</td>\n",
       "    </tr>\n",
       "    <tr>\n",
       "      <th>486656</th>\n",
       "      <td>2021-05-31</td>\n",
       "      <td>0</td>\n",
       "      <td>0</td>\n",
       "      <td>0</td>\n",
       "      <td>0</td>\n",
       "      <td>0</td>\n",
       "      <td>Negative</td>\n",
       "      <td>NaN</td>\n",
       "      <td>NaN</td>\n",
       "      <td>Other</td>\n",
       "    </tr>\n",
       "    <tr>\n",
       "      <th>486657</th>\n",
       "      <td>2021-05-31</td>\n",
       "      <td>0</td>\n",
       "      <td>0</td>\n",
       "      <td>0</td>\n",
       "      <td>0</td>\n",
       "      <td>0</td>\n",
       "      <td>Negative</td>\n",
       "      <td>NaN</td>\n",
       "      <td>NaN</td>\n",
       "      <td>Other</td>\n",
       "    </tr>\n",
       "    <tr>\n",
       "      <th>486658</th>\n",
       "      <td>2021-05-31</td>\n",
       "      <td>0</td>\n",
       "      <td>0</td>\n",
       "      <td>0</td>\n",
       "      <td>0</td>\n",
       "      <td>0</td>\n",
       "      <td>Negative</td>\n",
       "      <td>NaN</td>\n",
       "      <td>NaN</td>\n",
       "      <td>Other</td>\n",
       "    </tr>\n",
       "  </tbody>\n",
       "</table>\n",
       "<p>486659 rows × 10 columns</p>\n",
       "</div>"
      ],
      "text/plain": [
       "             date  cough  fever  sore_throat  shortness_of_breath  head_ache  \\\n",
       "0      2021-07-25      0      0            0                    0          0   \n",
       "1      2021-07-25      0      0            0                    0          0   \n",
       "2      2021-07-25      1      1            1                    0          1   \n",
       "3      2021-07-25      0      0            0                    0          0   \n",
       "4      2021-07-25      0      0            0                    0          0   \n",
       "...           ...    ...    ...          ...                  ...        ...   \n",
       "486654 2021-05-31      0      0            0                    0          0   \n",
       "486655 2021-05-31      0      0            0                    0          0   \n",
       "486656 2021-05-31      0      0            0                    0          0   \n",
       "486657 2021-05-31      0      0            0                    0          0   \n",
       "486658 2021-05-31      0      0            0                    0          0   \n",
       "\n",
       "       corona_result  age  gender test_indication  \n",
       "0           Negative   No  Female           Other  \n",
       "1           Negative   No  Female           Other  \n",
       "2              Other   No  Female          Abroad  \n",
       "3           Negative   No    Male           Other  \n",
       "4           Negative   No  Female           Other  \n",
       "...              ...  ...     ...             ...  \n",
       "486654      Negative  NaN     NaN           Other  \n",
       "486655      Negative  NaN     NaN           Other  \n",
       "486656      Negative  NaN     NaN           Other  \n",
       "486657      Negative  NaN     NaN           Other  \n",
       "486658      Negative  NaN     NaN           Other  \n",
       "\n",
       "[486659 rows x 10 columns]"
      ]
     },
     "execution_count": 26,
     "metadata": {},
     "output_type": "execute_result"
    }
   ],
   "source": [
    "df"
   ]
  },
  {
   "cell_type": "code",
   "execution_count": 27,
   "metadata": {
    "scrolled": true
   },
   "outputs": [
    {
     "data": {
      "image/png": "[encoded data removed]",
      "text/plain": [
       "<Figure size 1440x360 with 1 Axes>"
      ]
     },
     "metadata": {},
     "output_type": "display_data"
    }
   ],
   "source": [
    "df[df['corona_result'] == \"Positive\"].groupby('date').size().plot(figsize=(20, 5), title=\"Number of Positive COVID Test\");"
   ]
  },
  {
   "cell_type": "code",
   "execution_count": 28,
   "metadata": {},
   "outputs": [
    {
     "data": {
      "image/png": "[encoded data removed]",
      "text/plain": [
       "<Figure size 1440x360 with 1 Axes>"
      ]
     },
     "metadata": {},
     "output_type": "display_data"
    }
   ],
   "source": [
    "df[df['corona_result'] == \"Negative\"].groupby('date').size().plot(figsize=(20, 5), title=\"Number of Negative COVID Test\");"
   ]
  },
  {
   "cell_type": "code",
   "execution_count": 29,
   "metadata": {
    "scrolled": true
   },
   "outputs": [
    {
     "data": {
      "image/png": "[encoded data removed]",
      "text/plain": [
       "<Figure size 1440x360 with 1 Axes>"
      ]
     },
     "metadata": {},
     "output_type": "display_data"
    }
   ],
   "source": [
    "df[df['corona_result'] == \"Other\"].groupby('date').size().plot(figsize=(20, 5), title=\"Number of Other COVID Test\");"
   ]
  },
  {
   "cell_type": "code",
   "execution_count": null,
   "metadata": {},
   "outputs": [],
   "source": [
    "import pandas as pd, datetime as dt\n",
    "\n",
    "df_weekly = pd.DataFrame(df.apply(lambda row: row['date'] - dt.timedelta(days=row['date'].weekday()), axis=1), columns = ['WeekDate'])\n",
    "df_weekly['WeekDate'] = pd.to_datetime(df_weekly['WeekDate']).dt.date\n",
    "\n",
    "perweek = df_weekly['WeekDate'].groupby(df_weekly['WeekDate']).count()\n",
    "perweek.plot(kind=\"bar\", figsize=(20, 5));\n",
    "plt.title(\"Total COVID Test Per Week\")\n",
    "plt.xlabel(\"Week Date\")\n",
    "plt.ylabel(\"Test Counts\")\n",
    "plt.show()"
   ]
  },
  {
   "cell_type": "markdown",
   "metadata": {},
   "source": [
    "Combining what we have analyzed above, the volume of test cases varies week by week but is generally trending upwards."
   ]
  },
  {
   "cell_type": "markdown",
   "metadata": {},
   "source": [
    "## 4 Data Preprocessing"
   ]
  },
  {
   "cell_type": "markdown",
   "metadata": {},
   "source": [
    "**Remove the instances with results of *Others* (not tested, testing)**"
   ]
  },
  {
   "cell_type": "code",
   "execution_count": null,
   "metadata": {},
   "outputs": [],
   "source": [
    "df = df[df['corona_result'] != 'Other']\n",
    "df = df.drop(\"date\", axis = 1)"
   ]
  },
  {
   "cell_type": "markdown",
   "metadata": {},
   "source": [
    "### Imputation"
   ]
  },
  {
   "cell_type": "code",
   "execution_count": null,
   "metadata": {},
   "outputs": [],
   "source": [
    "# How many features have missing values?\n",
    "n_missing = len(df.columns[df.isnull().any()])\n",
    "\"{} features have missing values.\".format(n_missing)"
   ]
  },
  {
   "cell_type": "code",
   "execution_count": null,
   "metadata": {
    "scrolled": true
   },
   "outputs": [],
   "source": [
    "keys = ['Total', 'Percent']\n",
    "\n",
    "null_total = df.isnull().sum().sort_values(ascending=False)\n",
    "null_percent = (df.isnull().sum() /df.isnull().count())\n",
    "\n",
    "df_missing = pd.concat([null_total, null_percent], axis=1, keys=keys, sort=False)\n",
    "df_missing = df_missing.sort_values(by='Percent', ascending=False)\n",
    "df_missing.head(n_missing)"
   ]
  },
  {
   "cell_type": "markdown",
   "metadata": {},
   "source": [
    "The percentage of the missing values is large. We will test on filled and dropped datasets and see if one improves the accuracy"
   ]
  },
  {
   "cell_type": "code",
   "execution_count": null,
   "metadata": {},
   "outputs": [],
   "source": [
    "# replace the missing value\n",
    "X_filled = df.copy().drop(\"corona_result\", axis = 1)\n",
    "y_filled = df.copy()[\"corona_result\"]\n",
    "X_filled_nom = X_filled.select_dtypes(include=[object])\n",
    "X_filled_num = X_filled.select_dtypes(include=[np.number])\n",
    "\n",
    "X_filled[X_filled_nom.columns] = X_filled_nom.fillna('Missing')\n",
    "X_filled.head()"
   ]
  },
  {
   "cell_type": "code",
   "execution_count": null,
   "metadata": {},
   "outputs": [],
   "source": [
    "# drop the rows with missing value\n",
    "df_dropped = df.dropna(how = 'any', axis=0)\n",
    "X_dropped = df_dropped.drop(\"corona_result\", axis = 1)\n",
    "y_dropped = df_dropped[\"corona_result\"]"
   ]
  },
  {
   "cell_type": "code",
   "execution_count": null,
   "metadata": {},
   "outputs": [],
   "source": [
    "n_missing = len(X_dropped.columns[X_dropped.isnull().any()])\n",
    "\"{} features have missing values.\".format(n_missing)"
   ]
  },
  {
   "cell_type": "markdown",
   "metadata": {},
   "source": [
    "### Encoding"
   ]
  },
  {
   "cell_type": "code",
   "execution_count": null,
   "metadata": {},
   "outputs": [],
   "source": [
    "X_filled_nom_trans = pd.get_dummies(X_filled[X_filled_nom.columns])"
   ]
  },
  {
   "cell_type": "code",
   "execution_count": null,
   "metadata": {},
   "outputs": [],
   "source": [
    "X_filled = pd.concat([X_filled_num, X_filled_nom_trans], axis = 1)"
   ]
  },
  {
   "cell_type": "code",
   "execution_count": null,
   "metadata": {},
   "outputs": [],
   "source": [
    "X_filled.head()"
   ]
  },
  {
   "cell_type": "markdown",
   "metadata": {},
   "source": [
    "**When dropping the missing value, the two nominal features (gender and age) are all binary feature. Thus we can encode these features as 0 and 1**"
   ]
  },
  {
   "cell_type": "code",
   "execution_count": null,
   "metadata": {},
   "outputs": [],
   "source": [
    "# gender and age features are binary so use labelEncoder to be consistent with the syndrome features (binary)\n",
    "le = LabelEncoder()\n",
    "le.fit(X_dropped[\"gender\"])\n",
    "X_dropped[\"gender\"] = le.transform(X_dropped[\"gender\"])\n",
    "le.fit(X_dropped[\"age\"])\n",
    "X_dropped[\"age\"] = le.transform(X_dropped[\"age\"])\n",
    "# X_indication have multi variable so use get dummies instead. OneHotEncoder can't convert df with some string\n",
    "X_indication = pd.get_dummies(X_dropped[\"test_indication\"])\n",
    "X_dropped = pd.concat([X_dropped.drop(\"test_indication\", axis=1), X_indication], axis=1)"
   ]
  },
  {
   "cell_type": "code",
   "execution_count": null,
   "metadata": {},
   "outputs": [],
   "source": [
    "X_dropped.head()"
   ]
  },
  {
   "cell_type": "markdown",
   "metadata": {},
   "source": [
    "**Encoding the class label value**"
   ]
  },
  {
   "cell_type": "code",
   "execution_count": null,
   "metadata": {},
   "outputs": [],
   "source": [
    "le.fit(y_dropped)\n",
    "y_dropped = le.transform(y_dropped)\n",
    "le.fit(y_filled)\n",
    "y_filled = le.transform(y_filled)"
   ]
  },
  {
   "cell_type": "markdown",
   "metadata": {},
   "source": [
    "NOTE: moved feature selection to after modeling as we want to see the baseline performance scores and some features selections are based on models"
   ]
  },
  {
   "cell_type": "markdown",
   "metadata": {},
   "source": [
    "<!-- **Correlation between features in X_dropped (missing values dropped)** -->"
   ]
  },
  {
   "cell_type": "markdown",
   "metadata": {},
   "source": [
    "## Feature selection"
   ]
  },
  {
   "cell_type": "markdown",
   "metadata": {},
   "source": [
    "https://www.kaggle.com/kanncaa1/feature-selection-and-data-visualization\n",
    "https://www.kaggle.com/prashant111/comprehensive-guide-on-feature-selection"
   ]
  },
  {
   "cell_type": "markdown",
   "metadata": {},
   "source": [
    "Conclusion drawn from the above article:\n",
    "SelectKBest with Fisher Score\n",
    "Recursive Feature Elimination with Cross-Validation (RFECV)\n",
    "Correlation-matrix with heatmap\n",
    "Random-Forest Importance"
   ]
  },
  {
   "cell_type": "markdown",
   "metadata": {},
   "source": [
    "**Performance metrics tailored for imbalanced data**"
   ]
  },
  {
   "cell_type": "markdown",
   "metadata": {},
   "source": [
    "https://imbalanced-learn.org/stable/references/metrics.html#module-imblearn.metrics"
   ]
  },
  {
   "cell_type": "code",
   "execution_count": null,
   "metadata": {},
   "outputs": [],
   "source": [
    "from sklearn.metrics import balanced_accuracy_score\n",
    "from imblearn.metrics import sensitivity_specificity_support\n",
    "from imblearn.metrics import sensitivity_score\n",
    "from imblearn.metrics import specificity_score\n",
    "from imblearn.metrics import geometric_mean_score\n",
    "from imblearn.metrics import classification_report_imbalanced\n",
    "from imblearn.metrics import macro_averaged_mean_absolute_error"
   ]
  },
  {
   "cell_type": "code",
   "execution_count": null,
   "metadata": {},
   "outputs": [],
   "source": [
    "def evaluate_imbalanced(y_test, y_pred):\n",
    "    output = dict()\n",
    "    output[\"Balanced Accuracy\"] = balanced_accuracy_score(y_test, y_pred)\n",
    "    output[\"Sensitivity\"] = sensitivity_score(y_test, y_pred, average='weighted') ## high indicates low false negative\n",
    "    output[\"Specificity\"] = specificity_score(y_test, y_pred, average='weighted') ## high indicates low false positive\n",
    "    output[\"AUROC\"] = roc_auc_score(y_test, y_pred) ##TPR\n",
    "    output[\"F1\"] = f1_score(y_test, y_pred, average=\"binary\") ##weighted precision and recall (both positive dominated)\n",
    "    output[\"Geometric Mean\"] = geometric_mean_score(y_test, y_pred, average='weighted') ## class-wise sensitivity\n",
    "    output[\"Macro Average MAE\"] = macro_averaged_mean_absolute_error(y_test, y_pred)\n",
    "    return output"
   ]
  },
  {
   "cell_type": "markdown",
   "metadata": {},
   "source": [
    "1. The sensitivity is the ratio tp / (tp + fn) where tp is the number of true positives and fn the number of false negatives. The sensitivity quantifies the ability to avoid false negatives. The best value is 1 and the worst value is 0."
   ]
  },
  {
   "cell_type": "markdown",
   "metadata": {},
   "source": [
    "2. 'weighted':\n",
    "Calculate metrics for each label, and find their average, weighted by support (the number of true instances for each label). This alters ‘macro’ to account for label imbalance; it can result in an F-score that is not between precision and recall."
   ]
  },
  {
   "cell_type": "markdown",
   "metadata": {},
   "source": [
    "3. The specificity is the ratio tn / (tn + fp) where tn is the number of true negatives and fp the number of false positives. The specificity quantifies the ability to avoid false positives. The best value is 1 and the worst value is 0."
   ]
  },
  {
   "cell_type": "markdown",
   "metadata": {},
   "source": [
    "4. The geometric mean (G-mean) is the root of the product of class-wise sensitivity. "
   ]
  },
  {
   "cell_type": "markdown",
   "metadata": {},
   "source": [
    "5. This function computes each MAE for each class and average them, giving an equal weight to each class."
   ]
  },
  {
   "cell_type": "markdown",
   "metadata": {},
   "source": [
    "## Original performance without feature selection"
   ]
  },
  {
   "cell_type": "code",
   "execution_count": null,
   "metadata": {},
   "outputs": [],
   "source": [
    "# prepare a df to store the results from each method\n",
    "# TO DO: random_state, most cases are 42 or 43 why?\n",
    "x_train, x_test, y_train, y_test = train_test_split(X_filled, y_filled, test_size=0.2, random_state=0)\n"
   ]
  },
  {
   "cell_type": "code",
   "execution_count": null,
   "metadata": {},
   "outputs": [],
   "source": [
    "#random forest classifier with n_estimators=10 (default) tree-based model is well-suited for imbalanced data\n",
    "def make_y_pred(x_train, x_test, y_train):\n",
    "    model_ori = RandomForestClassifier(random_state=43)      \n",
    "    model_ori = model_ori.fit(x_train,y_train)\n",
    "    y_pred = model_ori.predict(x_test)\n",
    "    return y_pred"
   ]
  },
  {
   "cell_type": "code",
   "execution_count": null,
   "metadata": {},
   "outputs": [],
   "source": [
    "y_pred = make_y_pred(x_train, x_test, y_train)"
   ]
  },
  {
   "cell_type": "code",
   "execution_count": null,
   "metadata": {},
   "outputs": [],
   "source": [
    "results_1 = pd.DataFrame(evaluate_imbalanced(y_test, y_pred).items(),columns=[ 'Method', 'Original'])\n",
    "results_1"
   ]
  },
  {
   "cell_type": "code",
   "execution_count": null,
   "metadata": {},
   "outputs": [],
   "source": [
    "def make_confusion_matrix(y_test,y_pred):\n",
    "    cf_matrix = confusion_matrix(y_test,y_pred)\n",
    "    fig, ax = plt.subplots(figsize=(5,5))         # Sample figsize in inches\n",
    "    sns.heatmap(cf_matrix/np.sum(cf_matrix), annot=True, \n",
    "            fmt='.2%', cmap='Greens', linewidths=.1, ax=ax);\n",
    "    ax.set_title('Confusion Matrix');"
   ]
  },
  {
   "cell_type": "code",
   "execution_count": null,
   "metadata": {},
   "outputs": [],
   "source": [
    "make_confusion_matrix(y_test,y_pred)"
   ]
  },
  {
   "cell_type": "markdown",
   "metadata": {},
   "source": [
    "## Feature selection--Filter method"
   ]
  },
  {
   "cell_type": "markdown",
   "metadata": {},
   "source": [
    "**1. Mutual Info between features and class label (drop date column for now)**"
   ]
  },
  {
   "cell_type": "code",
   "execution_count": null,
   "metadata": {},
   "outputs": [],
   "source": [
    "from sklearn.feature_selection import mutual_info_regression\n",
    "from sklearn.feature_selection import mutual_info_classif\n",
    "from sklearn.metrics import mutual_info_score"
   ]
  },
  {
   "cell_type": "code",
   "execution_count": null,
   "metadata": {},
   "outputs": [],
   "source": [
    "mi_reg = mutual_info_regression(X_filled, y_filled)\n",
    "mi_cla = mutual_info_regression(X_filled, y_filled)"
   ]
  },
  {
   "cell_type": "code",
   "execution_count": null,
   "metadata": {},
   "outputs": [],
   "source": [
    "df_mi = pd.DataFrame(mi_reg, index=X_filled.columns, columns=['mutual_info_reg'])"
   ]
  },
  {
   "cell_type": "code",
   "execution_count": null,
   "metadata": {},
   "outputs": [],
   "source": [
    "def highlight_top6(s):\n",
    "    \"\"\"Highlight the maximum in a Series green.\"\"\"\n",
    "    is_large = s.nlargest(6).values\n",
    "    return ['background-color: green' if v in is_large else '' for v in s ]"
   ]
  },
  {
   "cell_type": "code",
   "execution_count": null,
   "metadata": {
    "scrolled": true
   },
   "outputs": [],
   "source": [
    "# top 6 are highlighted\n",
    "df_mi.sort_values(\"mutual_info_reg\", ascending=False).style.apply(highlight_top6)"
   ]
  },
  {
   "cell_type": "markdown",
   "metadata": {},
   "source": [
    "**Most features are nearly independent. No feature filtered out with this method**"
   ]
  },
  {
   "cell_type": "code",
   "execution_count": null,
   "metadata": {},
   "outputs": [],
   "source": [
    "# for scoring only, need to combine with other methods\n",
    "from sklearn.feature_selection import f_regression, f_classif\n",
    "f_reg = f_regression(X_filled, y_filled)\n",
    "f_clasif = f_classif(X_filled, y_filled)"
   ]
  },
  {
   "cell_type": "markdown",
   "metadata": {},
   "source": [
    "**2. Correlation matrix with heatmap for features in X_filled (missing values filled)**"
   ]
  },
  {
   "cell_type": "code",
   "execution_count": null,
   "metadata": {},
   "outputs": [],
   "source": [
    "# corr for mean\n",
    "corr1 = X_filled.corr();\n",
    "corr2 = X_dropped.corr();"
   ]
  },
  {
   "cell_type": "code",
   "execution_count": null,
   "metadata": {},
   "outputs": [],
   "source": [
    "plt.rc(\"figure\", figsize=(15, 15))\n",
    "grid=sns.heatmap(corr1,annot=True,cbar = True, square = True, cmap=sns.diverging_palette(220, 10, as_cmap=True))\n",
    "grid.set_xticklabels(corr1.columns,rotation=90)\n",
    "plt.subplots_adjust(left=0.3,right=1,bottom=0.35,top=0.9)\n",
    "plt.show()"
   ]
  },
  {
   "cell_type": "markdown",
   "metadata": {},
   "source": [
    "**Findings: The correlations between any two features are low. No correlation is higher than 0.9. No feature filtered out with this method**"
   ]
  },
  {
   "cell_type": "code",
   "execution_count": null,
   "metadata": {},
   "outputs": [],
   "source": [
    "from sklearn.feature_selection import SelectKBest\n",
    "from sklearn.feature_selection import chi2"
   ]
  },
  {
   "cell_type": "code",
   "execution_count": null,
   "metadata": {},
   "outputs": [],
   "source": [
    "# # refresher\n",
    "x_train, x_test, y_train, y_test = train_test_split(X_filled, y_filled, test_size=0.2, random_state=0)"
   ]
  },
  {
   "cell_type": "code",
   "execution_count": null,
   "metadata": {
    "scrolled": true
   },
   "outputs": [],
   "source": [
    "# find best scored 5 features\n",
    "selector = SelectKBest(chi2, k=5)\n",
    "select_feature = selector.fit(x_train, y_train)\n",
    "df_chi2 = pd.DataFrame(select_feature.scores_, index=x_train.columns, columns=['SelectKBest-chi2'])\n",
    "df_chi2.sort_values('SelectKBest-chi2', ascending=False).style.apply(highlight_top6)"
   ]
  },
  {
   "cell_type": "code",
   "execution_count": null,
   "metadata": {},
   "outputs": [],
   "source": [
    "# side-by-side comparison with mi\n",
    "merged = df_chi2.join(df_mi)\n",
    "merged.sort_values('SelectKBest-chi2', ascending=False).style.apply(highlight_top6)"
   ]
  },
  {
   "cell_type": "code",
   "execution_count": null,
   "metadata": {},
   "outputs": [],
   "source": [
    "x_train_2 = select_feature.transform(x_train)\n",
    "x_test_2 = select_feature.transform(x_test)\n",
    "\n",
    "y_pred = make_y_pred(x_train_2, x_test_2, y_train)"
   ]
  },
  {
   "cell_type": "code",
   "execution_count": null,
   "metadata": {
    "scrolled": true
   },
   "outputs": [],
   "source": [
    "results_select = pd.DataFrame(evaluate_imbalanced(y_test, y_pred).items(),columns=[ 'Method', 'SelectedKBest-chi2'])\n",
    "results_select"
   ]
  },
  {
   "cell_type": "code",
   "execution_count": null,
   "metadata": {
    "scrolled": true
   },
   "outputs": [],
   "source": [
    "results = results_1.set_index('Method').join(results_select.set_index('Method'))\n",
    "results['%'] = (((results['SelectedKBest-chi2'] - results['Original']) / results['Original'])*100 ).round(2).astype(str) + '%'\n",
    "results"
   ]
  },
  {
   "cell_type": "code",
   "execution_count": null,
   "metadata": {},
   "outputs": [],
   "source": [
    "make_confusion_matrix(y_test,y_pred)"
   ]
  },
  {
   "cell_type": "markdown",
   "metadata": {},
   "source": [
    "## Feature selection--Wrapper method"
   ]
  },
  {
   "cell_type": "markdown",
   "metadata": {},
   "source": [
    "**Recursive feature elimination (RFE) with random forest**"
   ]
  },
  {
   "cell_type": "code",
   "execution_count": null,
   "metadata": {},
   "outputs": [],
   "source": [
    "from sklearn.feature_selection import RFE\n",
    "# Create the RFE object and rank each pixel\n",
    "# using the same classifer as original \n",
    "model_ori = RandomForestClassifier(random_state=43)\n",
    "rfe = RFE(estimator=model_ori, n_features_to_select=6, step=1)\n",
    "rfe = rfe.fit(x_train, y_train)"
   ]
  },
  {
   "cell_type": "code",
   "execution_count": null,
   "metadata": {
    "scrolled": false
   },
   "outputs": [],
   "source": [
    "df_rfe = pd.DataFrame(rfe.support_, index=x_train.columns, columns=['RFE'])\n",
    "df_rfe.sort_values('RFE', ascending=False).style.apply(highlight_top6)"
   ]
  },
  {
   "cell_type": "code",
   "execution_count": null,
   "metadata": {},
   "outputs": [],
   "source": [
    "merged = df_mi.join(df_chi2.join(df_rfe))\n",
    "merged.sort_values('SelectKBest-chi2', ascending=False).style.apply(highlight_top6)"
   ]
  },
  {
   "cell_type": "markdown",
   "metadata": {},
   "source": [
    "**Findings: align mostly with SelectedKBest and the same as MI**"
   ]
  },
  {
   "cell_type": "code",
   "execution_count": null,
   "metadata": {},
   "outputs": [],
   "source": [
    "# TO DO:\n",
    "# Why MI and RFE have test_indication_other"
   ]
  },
  {
   "cell_type": "markdown",
   "metadata": {},
   "source": [
    "## <font color='red'> DO NOT RUN THE SECTION BELOW THROUGH THE RFECV TABLE, THIS WILL TAKE FOREVER</font> \n",
    "\n"
   ]
  },
  {
   "cell_type": "markdown",
   "metadata": {},
   "source": [
    "**Recursive feature elimination with cross validation and random forest classification**"
   ]
  },
  {
   "cell_type": "code",
   "execution_count": null,
   "metadata": {},
   "outputs": [],
   "source": [
    "from sklearn.feature_selection import RFECV\n",
    "\n",
    "# The \"accuracy\" scoring is proportional to the number of correct classifications\n",
    "# using the same classifer as original \n",
    "# rfecv = RFECV(estimator=model_ori, step=1, cv=5,scoring='accuracy')   #5-fold cross-validation\n",
    "# rfecv = rfecv.fit(x_train, y_train)"
   ]
  },
  {
   "cell_type": "code",
   "execution_count": null,
   "metadata": {},
   "outputs": [],
   "source": [
    "# df_RFECV = pd.DataFrame(rfecv.n_features_, index=x_train.columns, columns=['RFECV'])\n",
    "# df_RFECV.sort_values('RFECV', ascending=False).style.apply(highlight_top6)"
   ]
  },
  {
   "cell_type": "markdown",
   "metadata": {},
   "source": [
    "grid_scores_ : array of shape [n_subsets_of_features]\n",
    "The cross-validation scores such that grid_scores_[i] corresponds to the CV score of the i-th subset of features."
   ]
  },
  {
   "cell_type": "code",
   "execution_count": null,
   "metadata": {
    "scrolled": false
   },
   "outputs": [],
   "source": [
    "# Plot number of features VS. cross-validation scores\n",
    "# import matplotlib.pyplot as plt\n",
    "# plt.figure()\n",
    "# plt.xlabel(\"Number of features selected\")\n",
    "# plt.ylabel(\"Cross validation score of number of selected features\")\n",
    "# plt.plot(range(1, len(rfecv.grid_scores_) + 1), rfecv.grid_scores_)\n",
    "# plt.show()"
   ]
  },
  {
   "cell_type": "markdown",
   "metadata": {},
   "source": [
    "**Findings: we can observe the validation score peaks at 8 features**"
   ]
  },
  {
   "cell_type": "markdown",
   "metadata": {},
   "source": [
    "## Embedded Methods"
   ]
  },
  {
   "cell_type": "markdown",
   "metadata": {},
   "source": [
    "**Random Forest Importance**"
   ]
  },
  {
   "cell_type": "code",
   "execution_count": null,
   "metadata": {},
   "outputs": [],
   "source": [
    "clf_rf_5 = RandomForestClassifier()      \n",
    "clr_rf_5 = clf_rf_5.fit(x_train,y_train)\n",
    "importances = clr_rf_5.feature_importances_\n",
    "std = np.std([tree.feature_importances_ for tree in clf_rf_5.estimators_],\n",
    "             axis=0)\n",
    "indices = np.argsort(importances)[::-1]"
   ]
  },
  {
   "cell_type": "code",
   "execution_count": null,
   "metadata": {
    "scrolled": false
   },
   "outputs": [],
   "source": [
    "df_RF_importance = pd.DataFrame(clr_rf_5.feature_importances_, index=x_train.columns, columns=['RF_importance'])\n",
    "df_RF_importance.sort_values('RF_importance', ascending=False).style.apply(highlight_top6)"
   ]
  },
  {
   "cell_type": "code",
   "execution_count": null,
   "metadata": {},
   "outputs": [],
   "source": [
    "merged = merged.join(df_RF_importance)\n",
    "merged.sort_values('SelectKBest-chi2', ascending=False).style.apply(highlight_top6)"
   ]
  },
  {
   "cell_type": "code",
   "execution_count": null,
   "metadata": {},
   "outputs": [],
   "source": [
    "#  to determine how many should be selected\n",
    "\n",
    "# Plot the feature importances of the forest\n",
    "plt.figure(1, figsize=(14, 13))\n",
    "plt.title(\"Feature importances\")\n",
    "plt.bar(range(x_train.shape[1]), importances[indices],\n",
    "     color=\"g\", yerr=std[indices], align=\"center\")\n",
    "plt.xticks(range(x_train.shape[1]), x_train.columns[indices],rotation=90)\n",
    "plt.xlim([-1, x_train.shape[1]])\n",
    "plt.show()"
   ]
  },
  {
   "cell_type": "markdown",
   "metadata": {},
   "source": [
    "**Feature Extraction with PCA**"
   ]
  },
  {
   "cell_type": "code",
   "execution_count": null,
   "metadata": {
    "scrolled": false
   },
   "outputs": [],
   "source": [
    "#  to determine how many should be selected\n",
    "from sklearn.decomposition import PCA\n",
    "pca = PCA()\n",
    "pca.fit(x_train)\n",
    "\n",
    "plt.figure(1, figsize=(14, 13))\n",
    "plt.clf()\n",
    "plt.axes([.2, .2, .7, .7])\n",
    "plt.plot(pca.explained_variance_ratio_, linewidth=2)\n",
    "plt.axis('tight')\n",
    "plt.xlabel('n_components')\n",
    "plt.ylabel('explained_variance_ratio_');"
   ]
  },
  {
   "cell_type": "markdown",
   "metadata": {},
   "source": [
    "6 features are definitely enough"
   ]
  },
  {
   "cell_type": "markdown",
   "metadata": {},
   "source": [
    "**Conclusion: We believe it's safe to select the top 6 features: \n",
    "'test_indication_Contact with confirmed', 'head_ache', 'fever', 'cough','sore_throat','shortness_of_breath'"
   ]
  },
  {
   "cell_type": "markdown",
   "metadata": {},
   "source": [
    "**TO DO:\n",
    "    validate if test_indication_Other should be dropped"
   ]
  },
  {
   "cell_type": "code",
   "execution_count": null,
   "metadata": {},
   "outputs": [],
   "source": [
    "#prepare the selected dataset with the 6th being test_indication_Other\n",
    "selected_columns = ['test_indication_Contact with confirmed', 'head_ache', 'fever', 'cough','sore_throat','test_indication_Other']\n",
    "# X_selected = X_filled.drop(\"corona_result\", axis = 1)\n",
    "X_selected = X_filled[X_filled.columns[X_filled.columns.isin(selected_columns)]]"
   ]
  },
  {
   "cell_type": "code",
   "execution_count": null,
   "metadata": {},
   "outputs": [],
   "source": [
    "# update the train and test split\n",
    "x_train, x_test, y_train, y_test = train_test_split(X_selected, y_filled, test_size=0.2, random_state=0)"
   ]
  },
  {
   "cell_type": "code",
   "execution_count": null,
   "metadata": {},
   "outputs": [],
   "source": [
    "y_pred = make_y_pred(x_train, x_test, y_train)"
   ]
  },
  {
   "cell_type": "code",
   "execution_count": null,
   "metadata": {
    "scrolled": true
   },
   "outputs": [],
   "source": [
    "results_other = pd.DataFrame(evaluate_imbalanced(y_test, y_pred).items(),columns=['Method', 'All other 5 methods'])\n",
    "results_other"
   ]
  },
  {
   "cell_type": "code",
   "execution_count": null,
   "metadata": {},
   "outputs": [],
   "source": [
    "# results = results.set_index('Method').join(results_other.set_index('Method'))\n",
    "results = results_1.set_index('Method').join(results_select.set_index('Method')).join(results_other.set_index('Method'))\n",
    "results['original vs other 5 %'] = (((results['All other 5 methods'] - results['Original']) / results['Original'])*100 ).round(2).astype(str) + '%'\n",
    "results['original sel-chi2 %'] = (((results['SelectedKBest-chi2'] - results['Original']) / results['Original'])*100 ).round(2).astype(str) + '%'\n",
    "\n",
    "results"
   ]
  },
  {
   "cell_type": "markdown",
   "metadata": {},
   "source": [
    "**test_indication_other has a positive effect on the performance metrics. We decide to add it as the seventh feature**"
   ]
  },
  {
   "cell_type": "markdown",
   "metadata": {},
   "source": [
    "**TO DO:\n",
    "    selecting a subset from df.copy() may need to redo the normalization"
   ]
  },
  {
   "cell_type": "code",
   "execution_count": null,
   "metadata": {},
   "outputs": [],
   "source": [
    "# prepare the selected dataset with the 6th feature being shortness_of_breath and 7th feature being test_indication_Other\n",
    "selected_columns = ['test_indication_Contact with confirmed', 'head_ache', 'fever', 'cough','sore_throat','shortness_of_breath', 'test_indication_Other']\n",
    "X_selected = X_filled[X_filled.columns[X_filled.columns.isin(selected_columns)]]\n",
    "y_selected = y_filled"
   ]
  },
  {
   "cell_type": "code",
   "execution_count": null,
   "metadata": {},
   "outputs": [],
   "source": [
    "# update the train and test split\n",
    "x_train, x_test, y_train, y_test = train_test_split(X_selected, y_filled, test_size=0.2, random_state=0)"
   ]
  },
  {
   "cell_type": "markdown",
   "metadata": {},
   "source": [
    "## Imbalanced sampling"
   ]
  },
  {
   "cell_type": "markdown",
   "metadata": {},
   "source": [
    "https://imbalanced-learn.org/stable/over_sampling.html#naive-random-over-sampling"
   ]
  },
  {
   "cell_type": "markdown",
   "metadata": {},
   "source": [
    "pip install imbalanced-learn"
   ]
  },
  {
   "cell_type": "code",
   "execution_count": null,
   "metadata": {},
   "outputs": [],
   "source": [
    "X = X_selected.copy()\n",
    "Y = y_selected.copy()\n",
    "print(X.shape)\n",
    "print(Y.shape)"
   ]
  },
  {
   "cell_type": "markdown",
   "metadata": {},
   "source": [
    "**Oversampling: Naive Random Over-Sampling (ROS) to increase the sample size of under-represented data by replication with replacement**"
   ]
  },
  {
   "cell_type": "code",
   "execution_count": null,
   "metadata": {},
   "outputs": [],
   "source": [
    "from imblearn.over_sampling import RandomOverSampler\n",
    "def oversample(X, Y):\n",
    "    ros = RandomOverSampler(random_state=0)\n",
    "    return ros.fit_resample(X, Y)"
   ]
  },
  {
   "cell_type": "markdown",
   "metadata": {},
   "source": [
    "**Oversampling:SMOTE based on KNN and generating new samples**"
   ]
  },
  {
   "cell_type": "code",
   "execution_count": null,
   "metadata": {},
   "outputs": [],
   "source": [
    "from imblearn.over_sampling import SMOTE\n",
    "def oversample_smote(X, Y):\n",
    "    return SMOTE().fit_resample(X, Y)"
   ]
  },
  {
   "cell_type": "markdown",
   "metadata": {},
   "source": [
    "**Under-sampling:Random Under-Sampler (RUS) is a fast and easy way to balance the data by randomly selecting a subset of data for the targeted classes**"
   ]
  },
  {
   "cell_type": "code",
   "execution_count": null,
   "metadata": {},
   "outputs": [],
   "source": [
    "from imblearn.under_sampling import RandomUnderSampler\n",
    "def undersample(X, Y):\n",
    "    rus = RandomUnderSampler(random_state=0)\n",
    "    return rus.fit_resample(X, Y)"
   ]
  },
  {
   "cell_type": "markdown",
   "metadata": {},
   "source": [
    "## Modeling"
   ]
  },
  {
   "cell_type": "markdown",
   "metadata": {},
   "source": [
    "**the paramter of all classifier are tested and determined to be optimal by prior demos.**"
   ]
  },
  {
   "cell_type": "code",
   "execution_count": null,
   "metadata": {},
   "outputs": [],
   "source": [
    "models = {\n",
    "    \"Dummy Classifier\" : DummyClassifier(strategy='uniform'), # dummy classifier to predict randomly\n",
    "    \"Most Frequent Clasifier\" : DummyClassifier(strategy='most_frequent'), # dummy classifier to always predict the majority\n",
    "    \"Perceptron\": Perceptron(alpha = 0.1),\n",
    "    \"Decision Tree (max_depth=None)\": DecisionTreeClassifier(max_depth=None, random_state=0),\n",
    "    \"GNB\": GaussianNB(),\n",
    "    \"RandomForest\": RandomForestClassifier(random_state=0, n_estimators = 101),\n",
    "    \"GradientBoostingForest\": GradientBoostingClassifier(random_state=0, n_estimators = 101),\n",
    "    \"XGBoost\": XGBClassifier(n_estimators=1000, tree_method='hist', random_state=0, eval_metric='mlogloss')\n",
    "}"
   ]
  },
  {
   "cell_type": "markdown",
   "metadata": {},
   "source": [
    "**Apply Neural Netword model to the dataset**"
   ]
  },
  {
   "cell_type": "code",
   "execution_count": null,
   "metadata": {},
   "outputs": [],
   "source": [
    "from keras.models import Sequential\n",
    "from keras.layers import Dense\n",
    "from sklearn.metrics import roc_curve\n",
    "from numpy import sqrt\n",
    "from numpy import argmax\n",
    "# define the keras model\n",
    "nmodel = Sequential()\n",
    "# add layers\n",
    "nmodel.add(Dense(12, input_dim=7, activation='relu'))\n",
    "nmodel.add(Dense(7, activation='relu'))\n",
    "nmodel.add(Dense(1, activation='sigmoid'))\n",
    "nmodel.compile(loss='binary_crossentropy', optimizer='adam', metrics=['binary_accuracy', 'AUC'])\n",
    "models['Neural Network'] = nmodel"
   ]
  },
  {
   "cell_type": "code",
   "execution_count": null,
   "metadata": {},
   "outputs": [],
   "source": [
    "def thresholding(pred, y): # threasholding the continuous predicted value to binary labels\n",
    "    # calculate roc curves\n",
    "    fpr, tpr, thresholds = roc_curve(y, pred)\n",
    "    # use gemans to select the optimal threshold\n",
    "    gmeans = sqrt(tpr * (1-fpr))\n",
    "    # locate the index of the largest g-mean\n",
    "    ix = argmax(gmeans)\n",
    "    threshold = thresholds[ix]\n",
    "    for i in range(len(y)):\n",
    "        pred[i] = 1 if pred[i] >= threshold else 0\n",
    "    return pred"
   ]
  },
  {
   "cell_type": "markdown",
   "metadata": {},
   "source": [
    "### original sampling"
   ]
  },
  {
   "cell_type": "code",
   "execution_count": null,
   "metadata": {
    "scrolled": true
   },
   "outputs": [],
   "source": [
    "n_splits = 10;\n",
    "skf = StratifiedKFold(n_splits=n_splits, shuffle=True, random_state=0)\n",
    "prediction = dict() # store the metrics\n",
    "prediction_train = dict() # store the metrics for the trainning set\n",
    "for train_index, test_index in skf.split(X, Y):\n",
    "    \n",
    "    X_train, X_test = X.iloc[train_index], X.iloc[test_index]\n",
    "    y_train, y_test = Y[train_index], Y[test_index]\n",
    "    for classif_name in models.keys():\n",
    "        classif = models[classif_name]\n",
    "        classif.fit(X_train, y_train)\n",
    "        y_pred = classif.predict(X_test) # test\n",
    "        # threasholding the continuous predicted value to binary labels\n",
    "        y_pred = thresholding(y_pred, y_test)\n",
    "        output = evaluate_imbalanced(y_test, y_pred)\n",
    "        y_pred_train = classif.predict(X_train) # train\n",
    "        # threasholding the continuous predicted value to binary labels\n",
    "        y_pred_train = thresholding(y_pred_train, y_train)\n",
    "        output_train = evaluate_imbalanced(y_train, y_pred_train)\n",
    "        ## store the metrics in a dict\n",
    "        if classif_name in prediction:\n",
    "            for metric in prediction[classif_name].keys():\n",
    "                prediction[classif_name][metric] += output[metric]\n",
    "                prediction_train[classif_name][metric] += output_train[metric]\n",
    "        else:\n",
    "            prediction[classif_name] = output\n",
    "            prediction_train[classif_name] = output_train"
   ]
  },
  {
   "cell_type": "code",
   "execution_count": null,
   "metadata": {},
   "outputs": [],
   "source": [
    "# calculate the avereage of metrics for k-folds\n",
    "for classif_name in prediction.keys():\n",
    "    for metric in prediction[classif_name].keys():\n",
    "        prediction[classif_name][metric] /= n_splits\n",
    "        prediction_train[classif_name][metric] /= n_splits"
   ]
  },
  {
   "cell_type": "code",
   "execution_count": null,
   "metadata": {
    "scrolled": true
   },
   "outputs": [],
   "source": [
    "results = pd.DataFrame([prediction[name] for name in models.keys()], index=models.keys())\n",
    "results.sort_values('AUROC', ascending=False)"
   ]
  },
  {
   "cell_type": "code",
   "execution_count": null,
   "metadata": {},
   "outputs": [],
   "source": [
    "results_train = pd.DataFrame([prediction_train[name] for name in models.keys()], index=models.keys())\n",
    "results.sort_values('AUROC', ascending=False)"
   ]
  },
  {
   "cell_type": "markdown",
   "metadata": {},
   "source": [
    "### over sampling"
   ]
  },
  {
   "cell_type": "code",
   "execution_count": null,
   "metadata": {},
   "outputs": [],
   "source": [
    "n_splits = 10;\n",
    "skf = StratifiedKFold(n_splits=n_splits, shuffle=True, random_state=0)\n",
    "prediction = dict() # store the metrics\n",
    "prediction_train = dict() # store the metrics for the trainning set\n",
    "for train_index, test_index in skf.split(X, Y):\n",
    "    X_train, X_test = X.iloc[train_index], X.iloc[test_index]\n",
    "    y_train, y_test = Y[train_index], Y[test_index]\n",
    "    X_train, y_train = oversample(X_train, y_train)\n",
    "    for classif_name in models.keys():\n",
    "        classif = models[classif_name]\n",
    "        classif.fit(X_train, y_train)\n",
    "        y_pred = classif.predict(X_test) # test\n",
    "        # threasholding the continuous predicted value to binary labels\n",
    "        y_pred = thresholding(y_pred, y_test)\n",
    "        output = evaluate_imbalanced(y_test, y_pred)\n",
    "        y_pred_train = classif.predict(X_train) # train\n",
    "        # threasholding the continuous predicted value to binary labels\n",
    "        y_pred_train = thresholding(y_pred_train, y_train)\n",
    "        output_train = evaluate_imbalanced(y_train, y_pred_train)\n",
    "        ## store the metrics in a dict\n",
    "        if classif_name in prediction:\n",
    "            for metric in prediction[classif_name].keys():\n",
    "                prediction[classif_name][metric] += output[metric]\n",
    "                prediction_train[classif_name][metric] += output_train[metric]\n",
    "        else:\n",
    "            prediction[classif_name] = output\n",
    "            prediction_train[classif_name] = output_train"
   ]
  },
  {
   "cell_type": "code",
   "execution_count": null,
   "metadata": {},
   "outputs": [],
   "source": [
    "# calculate the avereage of metrics for k-folds\n",
    "for classif_name in prediction.keys():\n",
    "    for metric in prediction[classif_name].keys():\n",
    "        prediction[classif_name][metric] /= n_splits\n",
    "        prediction_train[classif_name][metric] /= n_splits"
   ]
  },
  {
   "cell_type": "code",
   "execution_count": null,
   "metadata": {},
   "outputs": [],
   "source": [
    "results = pd.DataFrame([prediction[name] for name in models.keys()], index=models.keys())\n",
    "results.sort_values('AUROC', ascending=False)"
   ]
  },
  {
   "cell_type": "code",
   "execution_count": null,
   "metadata": {},
   "outputs": [],
   "source": [
    "results = pd.DataFrame([prediction_train[name] for name in models.keys()], index=models.keys())\n",
    "results.sort_values('AUROC', ascending=False)"
   ]
  },
  {
   "cell_type": "markdown",
   "metadata": {},
   "source": [
    "### over sampling with SMOTE"
   ]
  },
  {
   "cell_type": "code",
   "execution_count": null,
   "metadata": {},
   "outputs": [],
   "source": [
    "n_splits = 10;\n",
    "skf = StratifiedKFold(n_splits=n_splits, shuffle=True, random_state=0)\n",
    "prediction = dict() # store the metrics\n",
    "prediction_train = dict() # store the metrics for the trainning set\n",
    "for train_index, test_index in skf.split(X, Y):\n",
    "    X_train, X_test = X.iloc[train_index], X.iloc[test_index]\n",
    "    y_train, y_test = Y[train_index], Y[test_index]\n",
    "    X_train, y_train = oversample_smote(X_train, y_train)\n",
    "    for classif_name in models.keys():\n",
    "        classif = models[classif_name]\n",
    "        classif.fit(X_train, y_train)\n",
    "        y_pred = classif.predict(X_test) # test\n",
    "        # threasholding the continuous predicted value to binary labels\n",
    "        y_pred = thresholding(y_pred, y_test)\n",
    "        output = evaluate_imbalanced(y_test, y_pred)\n",
    "        y_pred_train = classif.predict(X_train) # train\n",
    "        # threasholding the continuous predicted value to binary labels\n",
    "        y_pred_train = thresholding(y_pred_train, y_train)\n",
    "        output_train = evaluate_imbalanced(y_train, y_pred_train)\n",
    "        ## store the metrics in a dict\n",
    "        if classif_name in prediction:\n",
    "            for metric in prediction[classif_name].keys():\n",
    "                prediction[classif_name][metric] += output[metric]\n",
    "                prediction_train[classif_name][metric] += output_train[metric]\n",
    "        else:\n",
    "            prediction[classif_name] = output\n",
    "            prediction_train[classif_name] = output_train"
   ]
  },
  {
   "cell_type": "code",
   "execution_count": null,
   "metadata": {},
   "outputs": [],
   "source": [
    "# calculate the avereage of metrics for k-folds\n",
    "for classif_name in prediction.keys():\n",
    "    for metric in prediction[classif_name].keys():\n",
    "        prediction[classif_name][metric] /= n_splits\n",
    "        prediction_train[classif_name][metric] /= n_splits"
   ]
  },
  {
   "cell_type": "code",
   "execution_count": null,
   "metadata": {},
   "outputs": [],
   "source": [
    "results = pd.DataFrame([prediction[name] for name in models.keys()], index=models.keys())\n",
    "results.sort_values('AUROC', ascending=False)"
   ]
  },
  {
   "cell_type": "code",
   "execution_count": null,
   "metadata": {},
   "outputs": [],
   "source": [
    "results = pd.DataFrame([prediction_train[name] for name in models.keys()], index=models.keys())\n",
    "results.sort_values('AUROC', ascending=False)"
   ]
  },
  {
   "cell_type": "markdown",
   "metadata": {},
   "source": [
    "### under sampling"
   ]
  },
  {
   "cell_type": "code",
   "execution_count": null,
   "metadata": {},
   "outputs": [],
   "source": [
    "n_splits = 10;\n",
    "skf = StratifiedKFold(n_splits=n_splits, shuffle=True, random_state=0)\n",
    "prediction = dict() # store the metrics\n",
    "prediction_train = dict() # store the metrics for the trainning set\n",
    "for train_index, test_index in skf.split(X_undersampled, y_undersampled):\n",
    "    X_train, X_test = X.iloc[train_index], X.iloc[test_index]\n",
    "    y_train, y_test = Y[train_index], Y[test_index]\n",
    "    X_train, y_train = undersample(X_train, y_train)\n",
    "    for classif_name in models.keys():\n",
    "        classif = models[classif_name]\n",
    "        classif.fit(X_train, y_train)\n",
    "        y_pred = classif.predict(X_test) # test\n",
    "        # threasholding the continuous predicted value to binary labels\n",
    "        y_pred = thresholding(y_pred, y_test)\n",
    "        output = evaluate_imbalanced(y_test, y_pred)\n",
    "        y_pred_train = classif.predict(X_train) # train\n",
    "        # threasholding the continuous predicted value to binary labels\n",
    "        y_pred_train = thresholding(y_pred_train, y_train)\n",
    "        output_train = evaluate_imbalanced(y_train, y_pred_train)\n",
    "        ## store the metrics in a dict\n",
    "        if classif_name in prediction:\n",
    "            for metric in prediction[classif_name].keys():\n",
    "                prediction[classif_name][metric] += output[metric]\n",
    "                prediction_train[classif_name][metric] += output_train[metric]\n",
    "        else:\n",
    "            prediction[classif_name] = output\n",
    "            prediction_train[classif_name] = output_train"
   ]
  },
  {
   "cell_type": "code",
   "execution_count": null,
   "metadata": {},
   "outputs": [],
   "source": [
    "# calculate the avereage of metrics for k-folds\n",
    "for classif_name in prediction.keys():\n",
    "    for metric in prediction[classif_name].keys():\n",
    "        prediction[classif_name][metric] /= n_splits\n",
    "        prediction_train[classif_name][metric] /= n_splits"
   ]
  },
  {
   "cell_type": "code",
   "execution_count": null,
   "metadata": {},
   "outputs": [],
   "source": [
    "results = pd.DataFrame([prediction[name] for name in models.keys()], index=models.keys())\n",
    "results.sort_values('AUROC', ascending=False)"
   ]
  },
  {
   "cell_type": "code",
   "execution_count": null,
   "metadata": {},
   "outputs": [],
   "source": [
    "results = pd.DataFrame([prediction_train[name] for name in models.keys()], index=models.keys())\n",
    "results.sort_values('AUROC', ascending=False)"
   ]
  }
 ],
 "metadata": {
  "kernelspec": {
   "display_name": "Python 3",
   "language": "python",
   "name": "python3"
  },
  "language_info": {
   "codemirror_mode": {
    "name": "ipython",
    "version": 3
   },
   "file_extension": ".py",
   "mimetype": "text/x-python",
   "name": "python",
   "nbconvert_exporter": "python",
   "pygments_lexer": "ipython3",
   "version": "3.8.8"
  }
 },
 "nbformat": 4,
 "nbformat_minor": 4
}
