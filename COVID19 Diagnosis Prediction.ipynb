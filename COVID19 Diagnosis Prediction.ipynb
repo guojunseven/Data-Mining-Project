{
 "cells": [
  {
   "cell_type": "code",
   "execution_count": 344,
   "metadata": {},
   "outputs": [],
   "source": [
    "import numpy as np\n",
    "import pandas as pd\n",
    "import matplotlib.pyplot as plt \n",
    "import seaborn as sns\n",
    "from sklearn.preprocessing import LabelEncoder\n",
    "import warnings\n",
    "# ignore all warnings\n",
    "warnings.filterwarnings('ignore')\n",
    "from sklearn.model_selection import train_test_split\n",
    "from sklearn.dummy import DummyClassifier\n",
    "from sklearn.ensemble import RandomForestClassifier, GradientBoostingClassifier\n",
    "from sklearn.linear_model import Perceptron\n",
    "from sklearn.tree import DecisionTreeClassifier\n",
    "from sklearn.neighbors import KNeighborsClassifier\n",
    "from sklearn.naive_bayes import GaussianNB, BernoulliNB, MultinomialNB\n",
    "from sklearn.metrics import f1_score,confusion_matrix, roc_auc_score\n",
    "from sklearn.metrics import accuracy_score\n",
    "from xgboost import XGBClassifier\n",
    "import matplotlib\n",
    "import matplotlib.pyplot as plt\n",
    "from collections import Counter\n",
    "from sklearn.model_selection import StratifiedKFold"
   ]
  },
  {
   "cell_type": "markdown",
   "metadata": {},
   "source": [
    "## 1 Load the data set"
   ]
  },
  {
   "cell_type": "code",
   "execution_count": 182,
   "metadata": {},
   "outputs": [],
   "source": [
    "df = pd.read_csv(\"~/downloads/corona_tested_individuals_ver_00166.csv\", header=0, parse_dates = ['test_date']) ## load the date in local\n",
    "# df_np = np.loadtxt('corona_tested_individuals_ver_00166.csv', delimiter=',', skiprows=1,\n",
    "#                           usecols= (1,7), unpack=True)\n",
    "# df = pd.DataFrame(df)\n",
    "df.columns = ['date','cough','fever','sore_throat','shortness_of_breath','head_ache','corona_result','age','gender','test_indication']"
   ]
  },
  {
   "cell_type": "markdown",
   "metadata": {},
   "source": [
    "## 2 Data Exploration¶"
   ]
  },
  {
   "cell_type": "markdown",
   "metadata": {},
   "source": [
    "Explanation of the data:\n",
    "https://data.gov.il/dataset/covid-19/resource/0ac4cffc-3746-473a-8d4a-ab874b8d8d62\n",
    "\n",
    "Gender: appears from March 22nd 2020\n",
    "\n",
    "Corona_result: Results of first Covid-19 test, by category:\n",
    "    a.Positive – carrying Covid-19\n",
    "    b.Negative – not carrying Covid-19\n",
    "    c.Other – Not tested, in testing, inconclusive\n",
    "\n",
    "Age_60_and_above: Indicator of the test taker's age - 60 or over (1) or below 60 (0). Appears from March 17th 2020.\n",
    "\n",
    "Test_indication: What is the indication for testing? Abroad – arrived from abroad, contact_with_confirmed – contact with a confirmed case, other – other indication or not specified\n",
    "\n",
    "Symptoms (whether developed before testing):\n",
    "cough, fever, sore_throat, shortness of breath, headache: 1 – Yes, 0 – No, NULL – Unknown\n",
    "\n",
    "Obviously, the corona_result is the label class.\n",
    "\n",
    "Here we have questions on 1) how to handle missing age values before March 22 and age before March 17. 2)null values (drop or replace) 3) the meaningful use of test date data"
   ]
  },
  {
   "cell_type": "code",
   "execution_count": 183,
   "metadata": {},
   "outputs": [],
   "source": [
    "df = df[df[\"date\"] > \"2021-05-30\"] # for simplicity and computability for a laptop, use data after 2021-05-30"
   ]
  },
  {
   "cell_type": "code",
   "execution_count": 184,
   "metadata": {},
   "outputs": [
    {
     "data": {
      "text/html": [
       "<div>\n",
       "<style scoped>\n",
       "    .dataframe tbody tr th:only-of-type {\n",
       "        vertical-align: middle;\n",
       "    }\n",
       "\n",
       "    .dataframe tbody tr th {\n",
       "        vertical-align: top;\n",
       "    }\n",
       "\n",
       "    .dataframe thead th {\n",
       "        text-align: right;\n",
       "    }\n",
       "</style>\n",
       "<table border=\"1\" class=\"dataframe\">\n",
       "  <thead>\n",
       "    <tr style=\"text-align: right;\">\n",
       "      <th></th>\n",
       "      <th>date</th>\n",
       "      <th>cough</th>\n",
       "      <th>fever</th>\n",
       "      <th>sore_throat</th>\n",
       "      <th>shortness_of_breath</th>\n",
       "      <th>head_ache</th>\n",
       "      <th>corona_result</th>\n",
       "      <th>age</th>\n",
       "      <th>gender</th>\n",
       "      <th>test_indication</th>\n",
       "    </tr>\n",
       "  </thead>\n",
       "  <tbody>\n",
       "    <tr>\n",
       "      <th>0</th>\n",
       "      <td>2021-07-25</td>\n",
       "      <td>0</td>\n",
       "      <td>0</td>\n",
       "      <td>0</td>\n",
       "      <td>0</td>\n",
       "      <td>0</td>\n",
       "      <td>שלילי</td>\n",
       "      <td>No</td>\n",
       "      <td>נקבה</td>\n",
       "      <td>Other</td>\n",
       "    </tr>\n",
       "    <tr>\n",
       "      <th>1</th>\n",
       "      <td>2021-07-25</td>\n",
       "      <td>0</td>\n",
       "      <td>0</td>\n",
       "      <td>0</td>\n",
       "      <td>0</td>\n",
       "      <td>0</td>\n",
       "      <td>שלילי</td>\n",
       "      <td>No</td>\n",
       "      <td>נקבה</td>\n",
       "      <td>Other</td>\n",
       "    </tr>\n",
       "    <tr>\n",
       "      <th>2</th>\n",
       "      <td>2021-07-25</td>\n",
       "      <td>1</td>\n",
       "      <td>1</td>\n",
       "      <td>1</td>\n",
       "      <td>0</td>\n",
       "      <td>1</td>\n",
       "      <td>אחר</td>\n",
       "      <td>No</td>\n",
       "      <td>נקבה</td>\n",
       "      <td>Abroad</td>\n",
       "    </tr>\n",
       "    <tr>\n",
       "      <th>3</th>\n",
       "      <td>2021-07-25</td>\n",
       "      <td>0</td>\n",
       "      <td>0</td>\n",
       "      <td>0</td>\n",
       "      <td>0</td>\n",
       "      <td>0</td>\n",
       "      <td>שלילי</td>\n",
       "      <td>No</td>\n",
       "      <td>זכר</td>\n",
       "      <td>Other</td>\n",
       "    </tr>\n",
       "    <tr>\n",
       "      <th>4</th>\n",
       "      <td>2021-07-25</td>\n",
       "      <td>0</td>\n",
       "      <td>0</td>\n",
       "      <td>0</td>\n",
       "      <td>0</td>\n",
       "      <td>0</td>\n",
       "      <td>שלילי</td>\n",
       "      <td>No</td>\n",
       "      <td>נקבה</td>\n",
       "      <td>Other</td>\n",
       "    </tr>\n",
       "  </tbody>\n",
       "</table>\n",
       "</div>"
      ],
      "text/plain": [
       "        date  cough  fever  sore_throat  shortness_of_breath  head_ache  \\\n",
       "0 2021-07-25      0      0            0                    0          0   \n",
       "1 2021-07-25      0      0            0                    0          0   \n",
       "2 2021-07-25      1      1            1                    0          1   \n",
       "3 2021-07-25      0      0            0                    0          0   \n",
       "4 2021-07-25      0      0            0                    0          0   \n",
       "\n",
       "  corona_result age gender test_indication  \n",
       "0         שלילי  No   נקבה           Other  \n",
       "1         שלילי  No   נקבה           Other  \n",
       "2           אחר  No   נקבה          Abroad  \n",
       "3         שלילי  No    זכר           Other  \n",
       "4         שלילי  No   נקבה           Other  "
      ]
     },
     "execution_count": 184,
     "metadata": {},
     "output_type": "execute_result"
    }
   ],
   "source": [
    "df.head()"
   ]
  },
  {
   "cell_type": "code",
   "execution_count": 185,
   "metadata": {},
   "outputs": [
    {
     "data": {
      "text/plain": [
       "(486659, 10)"
      ]
     },
     "execution_count": 185,
     "metadata": {},
     "output_type": "execute_result"
    }
   ],
   "source": [
    "df.shape"
   ]
  },
  {
   "cell_type": "code",
   "execution_count": 186,
   "metadata": {},
   "outputs": [
    {
     "name": "stdout",
     "output_type": "stream",
     "text": [
      "<class 'pandas.core.frame.DataFrame'>\n",
      "Int64Index: 486659 entries, 0 to 486658\n",
      "Data columns (total 10 columns):\n",
      " #   Column               Non-Null Count   Dtype         \n",
      "---  ------               --------------   -----         \n",
      " 0   date                 486659 non-null  datetime64[ns]\n",
      " 1   cough                486659 non-null  int64         \n",
      " 2   fever                486659 non-null  int64         \n",
      " 3   sore_throat          486659 non-null  int64         \n",
      " 4   shortness_of_breath  486659 non-null  int64         \n",
      " 5   head_ache            486659 non-null  int64         \n",
      " 6   corona_result        486659 non-null  object        \n",
      " 7   age                  201480 non-null  object        \n",
      " 8   gender               271191 non-null  object        \n",
      " 9   test_indication      486659 non-null  object        \n",
      "dtypes: datetime64[ns](1), int64(5), object(4)\n",
      "memory usage: 40.8+ MB\n"
     ]
    }
   ],
   "source": [
    "df.info()"
   ]
  },
  {
   "cell_type": "code",
   "execution_count": 187,
   "metadata": {},
   "outputs": [
    {
     "data": {
      "text/plain": [
       "date                        0\n",
       "cough                       0\n",
       "fever                       0\n",
       "sore_throat                 0\n",
       "shortness_of_breath         0\n",
       "head_ache                   0\n",
       "corona_result               0\n",
       "age                    285179\n",
       "gender                 215468\n",
       "test_indication             0\n",
       "dtype: int64"
      ]
     },
     "execution_count": 187,
     "metadata": {},
     "output_type": "execute_result"
    }
   ],
   "source": [
    "df.isnull().sum()"
   ]
  },
  {
   "cell_type": "markdown",
   "metadata": {},
   "source": [
    "According to the offical documents, testing for the virus started in February. However,due to privacy concerns:\n",
    "1. The information is available from 11 March 2020.\n",
    "2. Ages have been divided to under 60 and 60 and over, and are published from 17 March until 14 April (before 17 March until 14 April age equals NULL)\n",
    "3. Sex is published from 22 March (before the date, sex was represented as NULL)"
   ]
  },
  {
   "cell_type": "code",
   "execution_count": 188,
   "metadata": {},
   "outputs": [
    {
     "data": {
      "image/png": "[encoded data removed]",
      "text/plain": [
       "<Figure size 1080x1080 with 1 Axes>"
      ]
     },
     "metadata": {},
     "output_type": "display_data"
    }
   ],
   "source": [
    "plt.hist(df[df[\"gender\"].isnull()]['date'], bins = 10)\n",
    "plt.xticks(rotation='vertical');"
   ]
  },
  {
   "cell_type": "code",
   "execution_count": 189,
   "metadata": {},
   "outputs": [
    {
     "data": {
      "image/png": "[encoded data removed]",
      "text/plain": [
       "<Figure size 1080x1080 with 1 Axes>"
      ]
     },
     "metadata": {},
     "output_type": "display_data"
    }
   ],
   "source": [
    "plt.hist(df[df[\"age\"].isnull()]['date'], bins = 10)\n",
    "plt.xticks(rotation='vertical');"
   ]
  },
  {
   "cell_type": "code",
   "execution_count": 190,
   "metadata": {},
   "outputs": [
    {
     "data": {
      "text/html": [
       "<div>\n",
       "<style scoped>\n",
       "    .dataframe tbody tr th:only-of-type {\n",
       "        vertical-align: middle;\n",
       "    }\n",
       "\n",
       "    .dataframe tbody tr th {\n",
       "        vertical-align: top;\n",
       "    }\n",
       "\n",
       "    .dataframe thead th {\n",
       "        text-align: right;\n",
       "    }\n",
       "</style>\n",
       "<table border=\"1\" class=\"dataframe\">\n",
       "  <thead>\n",
       "    <tr style=\"text-align: right;\">\n",
       "      <th></th>\n",
       "      <th>cough</th>\n",
       "      <th>fever</th>\n",
       "      <th>sore_throat</th>\n",
       "      <th>shortness_of_breath</th>\n",
       "      <th>head_ache</th>\n",
       "      <th>date</th>\n",
       "      <th>corona_result</th>\n",
       "      <th>age</th>\n",
       "      <th>gender</th>\n",
       "      <th>test_indication</th>\n",
       "    </tr>\n",
       "  </thead>\n",
       "  <tbody>\n",
       "    <tr>\n",
       "      <th>count</th>\n",
       "      <td>486659.000000</td>\n",
       "      <td>486659.000000</td>\n",
       "      <td>486659.000000</td>\n",
       "      <td>486659.000000</td>\n",
       "      <td>486659.000000</td>\n",
       "      <td>NaN</td>\n",
       "      <td>NaN</td>\n",
       "      <td>NaN</td>\n",
       "      <td>NaN</td>\n",
       "      <td>NaN</td>\n",
       "    </tr>\n",
       "    <tr>\n",
       "      <th>mean</th>\n",
       "      <td>0.005190</td>\n",
       "      <td>0.004886</td>\n",
       "      <td>0.001942</td>\n",
       "      <td>0.000271</td>\n",
       "      <td>0.003339</td>\n",
       "      <td>NaN</td>\n",
       "      <td>NaN</td>\n",
       "      <td>NaN</td>\n",
       "      <td>NaN</td>\n",
       "      <td>NaN</td>\n",
       "    </tr>\n",
       "    <tr>\n",
       "      <th>std</th>\n",
       "      <td>0.071858</td>\n",
       "      <td>0.069732</td>\n",
       "      <td>0.044023</td>\n",
       "      <td>0.016467</td>\n",
       "      <td>0.057688</td>\n",
       "      <td>NaN</td>\n",
       "      <td>NaN</td>\n",
       "      <td>NaN</td>\n",
       "      <td>NaN</td>\n",
       "      <td>NaN</td>\n",
       "    </tr>\n",
       "    <tr>\n",
       "      <th>min</th>\n",
       "      <td>0.000000</td>\n",
       "      <td>0.000000</td>\n",
       "      <td>0.000000</td>\n",
       "      <td>0.000000</td>\n",
       "      <td>0.000000</td>\n",
       "      <td>NaN</td>\n",
       "      <td>NaN</td>\n",
       "      <td>NaN</td>\n",
       "      <td>NaN</td>\n",
       "      <td>NaN</td>\n",
       "    </tr>\n",
       "    <tr>\n",
       "      <th>25%</th>\n",
       "      <td>0.000000</td>\n",
       "      <td>0.000000</td>\n",
       "      <td>0.000000</td>\n",
       "      <td>0.000000</td>\n",
       "      <td>0.000000</td>\n",
       "      <td>NaN</td>\n",
       "      <td>NaN</td>\n",
       "      <td>NaN</td>\n",
       "      <td>NaN</td>\n",
       "      <td>NaN</td>\n",
       "    </tr>\n",
       "    <tr>\n",
       "      <th>50%</th>\n",
       "      <td>0.000000</td>\n",
       "      <td>0.000000</td>\n",
       "      <td>0.000000</td>\n",
       "      <td>0.000000</td>\n",
       "      <td>0.000000</td>\n",
       "      <td>NaN</td>\n",
       "      <td>NaN</td>\n",
       "      <td>NaN</td>\n",
       "      <td>NaN</td>\n",
       "      <td>NaN</td>\n",
       "    </tr>\n",
       "    <tr>\n",
       "      <th>75%</th>\n",
       "      <td>0.000000</td>\n",
       "      <td>0.000000</td>\n",
       "      <td>0.000000</td>\n",
       "      <td>0.000000</td>\n",
       "      <td>0.000000</td>\n",
       "      <td>NaN</td>\n",
       "      <td>NaN</td>\n",
       "      <td>NaN</td>\n",
       "      <td>NaN</td>\n",
       "      <td>NaN</td>\n",
       "    </tr>\n",
       "    <tr>\n",
       "      <th>max</th>\n",
       "      <td>1.000000</td>\n",
       "      <td>1.000000</td>\n",
       "      <td>1.000000</td>\n",
       "      <td>1.000000</td>\n",
       "      <td>1.000000</td>\n",
       "      <td>NaN</td>\n",
       "      <td>NaN</td>\n",
       "      <td>NaN</td>\n",
       "      <td>NaN</td>\n",
       "      <td>NaN</td>\n",
       "    </tr>\n",
       "    <tr>\n",
       "      <th>mad</th>\n",
       "      <td>0.010327</td>\n",
       "      <td>0.009725</td>\n",
       "      <td>0.003876</td>\n",
       "      <td>0.000542</td>\n",
       "      <td>0.006656</td>\n",
       "      <td>NaN</td>\n",
       "      <td>NaN</td>\n",
       "      <td>NaN</td>\n",
       "      <td>NaN</td>\n",
       "      <td>NaN</td>\n",
       "    </tr>\n",
       "    <tr>\n",
       "      <th>skew</th>\n",
       "      <td>13.771940</td>\n",
       "      <td>14.200588</td>\n",
       "      <td>22.627156</td>\n",
       "      <td>60.694593</td>\n",
       "      <td>17.218816</td>\n",
       "      <td>NaN</td>\n",
       "      <td>NaN</td>\n",
       "      <td>NaN</td>\n",
       "      <td>NaN</td>\n",
       "      <td>NaN</td>\n",
       "    </tr>\n",
       "    <tr>\n",
       "      <th>kurt</th>\n",
       "      <td>187.667095</td>\n",
       "      <td>199.657521</td>\n",
       "      <td>509.990266</td>\n",
       "      <td>3681.848717</td>\n",
       "      <td>294.488850</td>\n",
       "      <td>NaN</td>\n",
       "      <td>NaN</td>\n",
       "      <td>NaN</td>\n",
       "      <td>NaN</td>\n",
       "      <td>NaN</td>\n",
       "    </tr>\n",
       "    <tr>\n",
       "      <th>nunique</th>\n",
       "      <td>2.000000</td>\n",
       "      <td>2.000000</td>\n",
       "      <td>2.000000</td>\n",
       "      <td>2.000000</td>\n",
       "      <td>2.000000</td>\n",
       "      <td>56.0</td>\n",
       "      <td>3.0</td>\n",
       "      <td>2.0</td>\n",
       "      <td>2.0</td>\n",
       "      <td>3.0</td>\n",
       "    </tr>\n",
       "  </tbody>\n",
       "</table>\n",
       "</div>"
      ],
      "text/plain": [
       "                 cough          fever    sore_throat  shortness_of_breath  \\\n",
       "count    486659.000000  486659.000000  486659.000000        486659.000000   \n",
       "mean          0.005190       0.004886       0.001942             0.000271   \n",
       "std           0.071858       0.069732       0.044023             0.016467   \n",
       "min           0.000000       0.000000       0.000000             0.000000   \n",
       "25%           0.000000       0.000000       0.000000             0.000000   \n",
       "50%           0.000000       0.000000       0.000000             0.000000   \n",
       "75%           0.000000       0.000000       0.000000             0.000000   \n",
       "max           1.000000       1.000000       1.000000             1.000000   \n",
       "mad           0.010327       0.009725       0.003876             0.000542   \n",
       "skew         13.771940      14.200588      22.627156            60.694593   \n",
       "kurt        187.667095     199.657521     509.990266          3681.848717   \n",
       "nunique       2.000000       2.000000       2.000000             2.000000   \n",
       "\n",
       "             head_ache  date  corona_result  age  gender  test_indication  \n",
       "count    486659.000000   NaN            NaN  NaN     NaN              NaN  \n",
       "mean          0.003339   NaN            NaN  NaN     NaN              NaN  \n",
       "std           0.057688   NaN            NaN  NaN     NaN              NaN  \n",
       "min           0.000000   NaN            NaN  NaN     NaN              NaN  \n",
       "25%           0.000000   NaN            NaN  NaN     NaN              NaN  \n",
       "50%           0.000000   NaN            NaN  NaN     NaN              NaN  \n",
       "75%           0.000000   NaN            NaN  NaN     NaN              NaN  \n",
       "max           1.000000   NaN            NaN  NaN     NaN              NaN  \n",
       "mad           0.006656   NaN            NaN  NaN     NaN              NaN  \n",
       "skew         17.218816   NaN            NaN  NaN     NaN              NaN  \n",
       "kurt        294.488850   NaN            NaN  NaN     NaN              NaN  \n",
       "nunique       2.000000  56.0            3.0  2.0     2.0              3.0  "
      ]
     },
     "execution_count": 190,
     "metadata": {},
     "output_type": "execute_result"
    }
   ],
   "source": [
    "pd.concat([\n",
    "    df.describe().T,\n",
    "    df.mad().rename('mad'),\n",
    "    df.skew().rename('skew'),\n",
    "    df.kurt().rename('kurt'),\n",
    "    df.nunique().rename('nunique')\n",
    "], axis=1).T"
   ]
  },
  {
   "cell_type": "code",
   "execution_count": 191,
   "metadata": {},
   "outputs": [
    {
     "data": {
      "text/plain": [
       "array(['שלילי', 'אחר', 'חיובי'], dtype=object)"
      ]
     },
     "execution_count": 191,
     "metadata": {},
     "output_type": "execute_result"
    }
   ],
   "source": [
    "df['corona_result'].unique() "
   ]
  },
  {
   "cell_type": "code",
   "execution_count": 192,
   "metadata": {},
   "outputs": [],
   "source": [
    "# replacing all the characters in Hebrew by English\n",
    "df['corona_result'] = df['corona_result'].str.replace('חיובי','Positive')\n",
    "df['corona_result'] = df['corona_result'].str.replace('אחר','Other')\n",
    "df['corona_result'] = df['corona_result'].str.replace('שלילי','Negative')\n",
    "\n",
    "df['gender'] = df['gender'].str.replace('נקבה','Female')\n",
    "df['gender'] = df['gender'].str.replace('זכר','Male')"
   ]
  },
  {
   "cell_type": "markdown",
   "metadata": {},
   "source": [
    "## 3 Data Understanding"
   ]
  },
  {
   "cell_type": "markdown",
   "metadata": {},
   "source": [
    "**BreakDown of Class**"
   ]
  },
  {
   "cell_type": "code",
   "execution_count": 193,
   "metadata": {},
   "outputs": [
    {
     "data": {
      "image/png": "[encoded data removed]",
      "text/plain": [
       "<Figure size 360x360 with 1 Axes>"
      ]
     },
     "metadata": {},
     "output_type": "display_data"
    }
   ],
   "source": [
    "plt.figure(figsize=(5,5))\n",
    "corona_result = sns.countplot(df['corona_result'],label=\"Count\")\n",
    "\n",
    "for p in corona_result.patches:\n",
    "    height = p.get_height()\n",
    "    corona_result.text(p.get_x()+p.get_width()/2., height + 0.1,height ,ha=\"center\")"
   ]
  },
  {
   "cell_type": "markdown",
   "metadata": {},
   "source": [
    "The class lable is highly imbalanced. The proportion of positive instances is less than **5%**. We need to be cautious about this."
   ]
  },
  {
   "cell_type": "markdown",
   "metadata": {},
   "source": [
    "**BreakDown of feature distribution**"
   ]
  },
  {
   "cell_type": "code",
   "execution_count": 194,
   "metadata": {},
   "outputs": [
    {
     "data": {
      "image/png": "[encoded data removed]",
      "text/plain": [
       "<Figure size 360x216 with 1 Axes>"
      ]
     },
     "metadata": {},
     "output_type": "display_data"
    }
   ],
   "source": [
    "df.plot.box(figsize=(5, 3)) # visualize the feature distribution\n",
    "plt.xticks(rotation='vertical');\n",
    "# the value distribution of 5 numeric features are highly skewed with over 75% being 0."
   ]
  },
  {
   "cell_type": "markdown",
   "metadata": {},
   "source": [
    "**BreakDown of cough**"
   ]
  },
  {
   "cell_type": "code",
   "execution_count": 195,
   "metadata": {},
   "outputs": [
    {
     "data": {
      "image/png": "[encoded data removed]",
      "text/plain": [
       "<Figure size 360x360 with 1 Axes>"
      ]
     },
     "metadata": {},
     "output_type": "display_data"
    }
   ],
   "source": [
    "plt.figure(figsize=(5,5))\n",
    "cough = sns.countplot(data=df, x=\"cough\")\n",
    "\n",
    "for p in cough.patches:\n",
    "    height = p.get_height()\n",
    "    cough.text(p.get_x()+p.get_width()/2., height + 0.1,height ,ha=\"center\")"
   ]
  },
  {
   "cell_type": "code",
   "execution_count": 196,
   "metadata": {},
   "outputs": [
    {
     "data": {
      "image/png": "[encoded data removed]",
      "text/plain": [
       "<Figure size 1512x360 with 3 Axes>"
      ]
     },
     "metadata": {},
     "output_type": "display_data"
    }
   ],
   "source": [
    "# plt.figure(figsize=(5,5))\n",
    "#sns.distplot(df[df['corona_result'] == 'Positive'][\"cough\"], color='red', kde=False) \n",
    "# we don't need kernel desity estimate because the feature is discrete.\n",
    "#sns.distplot(df[df['corona_result'] == 'Negative'][\"cough\"], color='green', kde=False)\n",
    "#plt.title('Corona Results versus Cough')\n",
    "#plt.show()\n",
    "\n",
    "\n",
    "f, axes = plt.subplots(1, 3, figsize=(21,5))\n",
    "positive = sns.countplot(df[df['corona_result'] == 'Positive'][\"cough\"], ax=axes[0]) \n",
    "axes[0].set_title(\"Positive Corona Results versus Cough\")\n",
    "for p in positive.patches:\n",
    "    height = p.get_height()\n",
    "    positive.text(p.get_x()+p.get_width()/2., height + 0.1,height ,ha=\"center\")\n",
    "\n",
    "# we don't need kernel desity estimate because the feature is discrete.\n",
    "negative = sns.countplot(df[df['corona_result'] == 'Negative'][\"cough\"], ax=axes[1])\n",
    "axes[1].set_title('Negative Corona Results versus Cough')\n",
    "for p in negative.patches:\n",
    "    height = p.get_height()\n",
    "    negative.text(p.get_x()+p.get_width()/2., height + 0.1,height ,ha=\"center\")\n",
    "\n",
    "other = sns.countplot(df[df['corona_result'] == 'Other'][\"cough\"], ax=axes[2])\n",
    "axes[2].set_title('Other Corona Results versus Cough')\n",
    "for p in other.patches:\n",
    "    height = p.get_height()\n",
    "    other.text(p.get_x()+p.get_width()/2., height + 0.1,height ,ha=\"center\")\n",
    "\n",
    "plt.show()\n"
   ]
  },
  {
   "cell_type": "markdown",
   "metadata": {},
   "source": [
    "**BreakDown of fever**"
   ]
  },
  {
   "cell_type": "code",
   "execution_count": 197,
   "metadata": {
    "scrolled": false
   },
   "outputs": [
    {
     "data": {
      "image/png": "[encoded data removed]",
      "text/plain": [
       "<Figure size 360x360 with 1 Axes>"
      ]
     },
     "metadata": {},
     "output_type": "display_data"
    }
   ],
   "source": [
    "#p = sns.countplot(data=df, x=\"fever\")\n",
    "#plt.show()\n",
    "\n",
    "plt.figure(figsize=(5,5))\n",
    "fever = sns.countplot(data=df, x=\"fever\")\n",
    "\n",
    "for p in fever.patches:\n",
    "    height = p.get_height()\n",
    "    fever.text(p.get_x()+p.get_width()/2., height + 0.1,height ,ha=\"center\")"
   ]
  },
  {
   "cell_type": "code",
   "execution_count": 198,
   "metadata": {},
   "outputs": [
    {
     "data": {
      "image/png": "[encoded data removed]",
      "text/plain": [
       "<Figure size 1512x360 with 3 Axes>"
      ]
     },
     "metadata": {},
     "output_type": "display_data"
    }
   ],
   "source": [
    "#plt.figure(figsize=(5,5))\n",
    "#sns.distplot(df[df['corona_result'] == 'Positive'][\"fever\"], color='red',kde=False) \n",
    "#sns.distplot(df[df['corona_result'] == 'Negative'][\"fever\"], color='green',kde=False)\n",
    "#plt.title('Corona Results versus Fever')\n",
    "#plt.show()\n",
    "\n",
    "\n",
    "f, axes = plt.subplots(1, 3, figsize=(21,5))\n",
    "\n",
    "positive = sns.countplot(df[df['corona_result'] == 'Positive'][\"fever\"], ax=axes[0]) \n",
    "axes[0].set_title(\"Positive Corona Results versus fever\")\n",
    "for p in positive.patches:\n",
    "    height = p.get_height()\n",
    "    positive.text(p.get_x()+p.get_width()/2., height + 0.1,height ,ha=\"center\")\n",
    "\n",
    "# we don't need kernel desity estimate because the feature is discrete.\n",
    "negative = sns.countplot(df[df['corona_result'] == 'Negative'][\"fever\"], ax=axes[1])\n",
    "axes[1].set_title('Negative Corona Results versus fever')\n",
    "for p in negative.patches:\n",
    "    height = p.get_height()\n",
    "    negative.text(p.get_x()+p.get_width()/2., height + 0.1,height ,ha=\"center\")\n",
    "\n",
    "other = sns.countplot(df[df['corona_result'] == 'Other'][\"fever\"], ax=axes[2])\n",
    "axes[2].set_title('Other Corona Results versus fever')\n",
    "for p in other.patches:\n",
    "    height = p.get_height()\n",
    "    other.text(p.get_x()+p.get_width()/2., height + 0.1,height ,ha=\"center\")\n",
    "\n",
    "plt.show()\n"
   ]
  },
  {
   "cell_type": "markdown",
   "metadata": {},
   "source": [
    "**BreakDown of sore_throat**"
   ]
  },
  {
   "cell_type": "code",
   "execution_count": 199,
   "metadata": {},
   "outputs": [
    {
     "data": {
      "image/png": "[encoded data removed]",
      "text/plain": [
       "<Figure size 360x360 with 1 Axes>"
      ]
     },
     "metadata": {},
     "output_type": "display_data"
    }
   ],
   "source": [
    "#p = sns.countplot(data=df, x=\"sore_throat\")\n",
    "#plt.show()\n",
    "\n",
    "plt.figure(figsize=(5,5))\n",
    "sore_throat = sns.countplot(data=df, x=\"sore_throat\")\n",
    "\n",
    "for p in sore_throat.patches:\n",
    "    height = p.get_height()\n",
    "    sore_throat.text(p.get_x()+p.get_width()/2., height + 0.1,height ,ha=\"center\")\n",
    "\n"
   ]
  },
  {
   "cell_type": "code",
   "execution_count": 200,
   "metadata": {},
   "outputs": [
    {
     "data": {
      "image/png": "[encoded data removed]",
      "text/plain": [
       "<Figure size 1512x360 with 3 Axes>"
      ]
     },
     "metadata": {},
     "output_type": "display_data"
    }
   ],
   "source": [
    "#plt.figure(figsize=(5,5))\n",
    "#sns.distplot(df[df['corona_result'] == 'Positive'][\"sore_throat\"], color='red',kde=False) \n",
    "#sns.distplot(df[df['corona_result'] == 'Negative'][\"sore_throat\"], color='green',kde=False)\n",
    "#plt.title('Corona Results versus sore_throat')\n",
    "#plt.show()\n",
    "\n",
    "f, axes = plt.subplots(1, 3, figsize=(21,5))\n",
    "\n",
    "positive = sns.countplot(df[df['corona_result'] == 'Positive'][\"sore_throat\"], ax=axes[0]) \n",
    "axes[0].set_title(\"Positive Corona Results versus sore_throat\")\n",
    "for p in positive.patches:\n",
    "    height = p.get_height()\n",
    "    positive.text(p.get_x()+p.get_width()/2., height + 0.1,height ,ha=\"center\")\n",
    "\n",
    "# we don't need kernel desity estimate because the feature is discrete.\n",
    "negative = sns.countplot(df[df['corona_result'] == 'Negative'][\"sore_throat\"], ax=axes[1])\n",
    "axes[1].set_title('Negative Corona Results versus sore_throat')\n",
    "for p in negative.patches:\n",
    "    height = p.get_height()\n",
    "    negative.text(p.get_x()+p.get_width()/2., height + 0.1,height ,ha=\"center\")\n",
    "\n",
    "other = sns.countplot(df[df['corona_result'] == 'Other'][\"sore_throat\"], ax=axes[2])\n",
    "axes[2].set_title('Other Corona Results versus sore_throat')\n",
    "for p in other.patches:\n",
    "    height = p.get_height()\n",
    "    other.text(p.get_x()+p.get_width()/2., height + 0.1,height ,ha=\"center\")\n",
    "\n",
    "plt.show()\n"
   ]
  },
  {
   "cell_type": "markdown",
   "metadata": {},
   "source": [
    "**BreakDown of shortness_of_breath**"
   ]
  },
  {
   "cell_type": "code",
   "execution_count": 201,
   "metadata": {},
   "outputs": [
    {
     "data": {
      "image/png": "[encoded data removed]",
      "text/plain": [
       "<Figure size 360x360 with 1 Axes>"
      ]
     },
     "metadata": {},
     "output_type": "display_data"
    }
   ],
   "source": [
    "#p = sns.countplot(data=df, x=\"shortness_of_breath\")\n",
    "#plt.show()\n",
    "\n",
    "plt.figure(figsize=(5,5))\n",
    "shortness_of_breath = sns.countplot(data=df, x=\"shortness_of_breath\")\n",
    "\n",
    "for p in shortness_of_breath.patches:\n",
    "    height = p.get_height()\n",
    "    shortness_of_breath.text(p.get_x()+p.get_width()/2., height + 0.1,height ,ha=\"center\")\n",
    "plt.show()"
   ]
  },
  {
   "cell_type": "code",
   "execution_count": 202,
   "metadata": {},
   "outputs": [
    {
     "data": {
      "image/png": "[encoded data removed]",
      "text/plain": [
       "<Figure size 1512x360 with 3 Axes>"
      ]
     },
     "metadata": {},
     "output_type": "display_data"
    }
   ],
   "source": [
    "#plt.figure(figsize=(5,5))\n",
    "#sns.distplot(df[df['corona_result'] == 'Positive'][\"shortness_of_breath\"], color='red',kde=False) \n",
    "#sns.distplot(df[df['corona_result'] == 'Negative'][\"shortness_of_breath\"], color='green',kde=False)\n",
    "#plt.title('Corona Results versus shortness_of_breath')\n",
    "#plt.show()\n",
    "\n",
    "f, axes = plt.subplots(1, 3, figsize=(21,5))\n",
    "\n",
    "positive = sns.countplot(df[df['corona_result'] == 'Positive'][\"shortness_of_breath\"], ax=axes[0]) \n",
    "axes[0].set_title(\"Positive Corona Results versus shortness_of_breath\")\n",
    "for p in positive.patches:\n",
    "    height = p.get_height()\n",
    "    positive.text(p.get_x()+p.get_width()/2., height + 0.1,height ,ha=\"center\")\n",
    "\n",
    "# we don't need kernel desity estimate because the feature is discrete.\n",
    "negative = sns.countplot(df[df['corona_result'] == 'Negative'][\"shortness_of_breath\"], ax=axes[1])\n",
    "axes[1].set_title('Negative Corona Results versus shortness_of_breath')\n",
    "for p in negative.patches:\n",
    "    height = p.get_height()\n",
    "    negative.text(p.get_x()+p.get_width()/2., height + 0.1,height ,ha=\"center\")\n",
    "\n",
    "other = sns.countplot(df[df['corona_result'] == 'Other'][\"shortness_of_breath\"], ax=axes[2])\n",
    "axes[2].set_title('Other Corona Results versus shortness_of_breath')\n",
    "for p in other.patches:\n",
    "    height = p.get_height()\n",
    "    other.text(p.get_x()+p.get_width()/2., height + 0.1,height ,ha=\"center\")\n",
    "\n",
    "plt.show()\n"
   ]
  },
  {
   "cell_type": "markdown",
   "metadata": {},
   "source": [
    "**BreakDown of head_ache**"
   ]
  },
  {
   "cell_type": "code",
   "execution_count": 203,
   "metadata": {},
   "outputs": [
    {
     "data": {
      "image/png": "[encoded data removed]",
      "text/plain": [
       "<Figure size 360x360 with 1 Axes>"
      ]
     },
     "metadata": {},
     "output_type": "display_data"
    }
   ],
   "source": [
    "#p = sns.countplot(data=df, x=\"head_ache\")\n",
    "#plt.show()\n",
    "\n",
    "plt.figure(figsize=(5,5))\n",
    "head_ache = sns.countplot(data=df, x=\"head_ache\")\n",
    "\n",
    "for p in head_ache.patches:\n",
    "    height = p.get_height()\n",
    "    head_ache.text(p.get_x()+p.get_width()/2., height + 0.1,height ,ha=\"center\")\n",
    "plt.show()"
   ]
  },
  {
   "cell_type": "code",
   "execution_count": 204,
   "metadata": {},
   "outputs": [
    {
     "data": {
      "image/png": "[encoded data removed]",
      "text/plain": [
       "<Figure size 1512x360 with 3 Axes>"
      ]
     },
     "metadata": {},
     "output_type": "display_data"
    }
   ],
   "source": [
    "#plt.figure(figsize=(5,5))\n",
    "#sns.distplot(df[df['corona_result'] == 'Positive'][\"head_ache\"], color='red',kde=False) \n",
    "#sns.distplot(df[df['corona_result'] == 'Negative'][\"head_ache\"], color='green',kde=False)\n",
    "#plt.title('Corona Results versus head_ache')\n",
    "#plt.show()\n",
    "\n",
    "f, axes = plt.subplots(1, 3, figsize=(21,5))\n",
    "\n",
    "positive = sns.countplot(df[df['corona_result'] == 'Positive'][\"head_ache\"], ax=axes[0]) \n",
    "axes[0].set_title(\"Positive Corona Results versus head_ache\")\n",
    "for p in positive.patches:\n",
    "    height = p.get_height()\n",
    "    positive.text(p.get_x()+p.get_width()/2., height + 0.1,height ,ha=\"center\")\n",
    "\n",
    "# we don't need kernel desity estimate because the feature is discrete.\n",
    "negative = sns.countplot(df[df['corona_result'] == 'Negative'][\"head_ache\"], ax=axes[1])\n",
    "axes[1].set_title('Negative Corona Results versus head_ache')\n",
    "for p in negative.patches:\n",
    "    height = p.get_height()\n",
    "    negative.text(p.get_x()+p.get_width()/2., height + 0.1,height ,ha=\"center\")\n",
    "\n",
    "other = sns.countplot(df[df['corona_result'] == 'Other'][\"head_ache\"], ax=axes[2])\n",
    "axes[2].set_title('Other Corona Results versus head_ache')\n",
    "for p in other.patches:\n",
    "    height = p.get_height()\n",
    "    other.text(p.get_x()+p.get_width()/2., height + 0.1,height ,ha=\"center\")\n",
    "\n",
    "plt.show()"
   ]
  },
  {
   "cell_type": "markdown",
   "metadata": {},
   "source": [
    "**Corona Result along with time**"
   ]
  },
  {
   "cell_type": "code",
   "execution_count": 205,
   "metadata": {},
   "outputs": [],
   "source": [
    "matplotlib.style.use('seaborn-white')"
   ]
  },
  {
   "cell_type": "code",
   "execution_count": 206,
   "metadata": {},
   "outputs": [
    {
     "data": {
      "text/html": [
       "<div>\n",
       "<style scoped>\n",
       "    .dataframe tbody tr th:only-of-type {\n",
       "        vertical-align: middle;\n",
       "    }\n",
       "\n",
       "    .dataframe tbody tr th {\n",
       "        vertical-align: top;\n",
       "    }\n",
       "\n",
       "    .dataframe thead th {\n",
       "        text-align: right;\n",
       "    }\n",
       "</style>\n",
       "<table border=\"1\" class=\"dataframe\">\n",
       "  <thead>\n",
       "    <tr style=\"text-align: right;\">\n",
       "      <th></th>\n",
       "      <th>date</th>\n",
       "      <th>cough</th>\n",
       "      <th>fever</th>\n",
       "      <th>sore_throat</th>\n",
       "      <th>shortness_of_breath</th>\n",
       "      <th>head_ache</th>\n",
       "      <th>corona_result</th>\n",
       "      <th>age</th>\n",
       "      <th>gender</th>\n",
       "      <th>test_indication</th>\n",
       "    </tr>\n",
       "  </thead>\n",
       "  <tbody>\n",
       "    <tr>\n",
       "      <th>0</th>\n",
       "      <td>2021-07-25</td>\n",
       "      <td>0</td>\n",
       "      <td>0</td>\n",
       "      <td>0</td>\n",
       "      <td>0</td>\n",
       "      <td>0</td>\n",
       "      <td>Negative</td>\n",
       "      <td>No</td>\n",
       "      <td>Female</td>\n",
       "      <td>Other</td>\n",
       "    </tr>\n",
       "    <tr>\n",
       "      <th>1</th>\n",
       "      <td>2021-07-25</td>\n",
       "      <td>0</td>\n",
       "      <td>0</td>\n",
       "      <td>0</td>\n",
       "      <td>0</td>\n",
       "      <td>0</td>\n",
       "      <td>Negative</td>\n",
       "      <td>No</td>\n",
       "      <td>Female</td>\n",
       "      <td>Other</td>\n",
       "    </tr>\n",
       "    <tr>\n",
       "      <th>2</th>\n",
       "      <td>2021-07-25</td>\n",
       "      <td>1</td>\n",
       "      <td>1</td>\n",
       "      <td>1</td>\n",
       "      <td>0</td>\n",
       "      <td>1</td>\n",
       "      <td>Other</td>\n",
       "      <td>No</td>\n",
       "      <td>Female</td>\n",
       "      <td>Abroad</td>\n",
       "    </tr>\n",
       "    <tr>\n",
       "      <th>3</th>\n",
       "      <td>2021-07-25</td>\n",
       "      <td>0</td>\n",
       "      <td>0</td>\n",
       "      <td>0</td>\n",
       "      <td>0</td>\n",
       "      <td>0</td>\n",
       "      <td>Negative</td>\n",
       "      <td>No</td>\n",
       "      <td>Male</td>\n",
       "      <td>Other</td>\n",
       "    </tr>\n",
       "    <tr>\n",
       "      <th>4</th>\n",
       "      <td>2021-07-25</td>\n",
       "      <td>0</td>\n",
       "      <td>0</td>\n",
       "      <td>0</td>\n",
       "      <td>0</td>\n",
       "      <td>0</td>\n",
       "      <td>Negative</td>\n",
       "      <td>No</td>\n",
       "      <td>Female</td>\n",
       "      <td>Other</td>\n",
       "    </tr>\n",
       "    <tr>\n",
       "      <th>...</th>\n",
       "      <td>...</td>\n",
       "      <td>...</td>\n",
       "      <td>...</td>\n",
       "      <td>...</td>\n",
       "      <td>...</td>\n",
       "      <td>...</td>\n",
       "      <td>...</td>\n",
       "      <td>...</td>\n",
       "      <td>...</td>\n",
       "      <td>...</td>\n",
       "    </tr>\n",
       "    <tr>\n",
       "      <th>486654</th>\n",
       "      <td>2021-05-31</td>\n",
       "      <td>0</td>\n",
       "      <td>0</td>\n",
       "      <td>0</td>\n",
       "      <td>0</td>\n",
       "      <td>0</td>\n",
       "      <td>Negative</td>\n",
       "      <td>NaN</td>\n",
       "      <td>NaN</td>\n",
       "      <td>Other</td>\n",
       "    </tr>\n",
       "    <tr>\n",
       "      <th>486655</th>\n",
       "      <td>2021-05-31</td>\n",
       "      <td>0</td>\n",
       "      <td>0</td>\n",
       "      <td>0</td>\n",
       "      <td>0</td>\n",
       "      <td>0</td>\n",
       "      <td>Negative</td>\n",
       "      <td>NaN</td>\n",
       "      <td>NaN</td>\n",
       "      <td>Other</td>\n",
       "    </tr>\n",
       "    <tr>\n",
       "      <th>486656</th>\n",
       "      <td>2021-05-31</td>\n",
       "      <td>0</td>\n",
       "      <td>0</td>\n",
       "      <td>0</td>\n",
       "      <td>0</td>\n",
       "      <td>0</td>\n",
       "      <td>Negative</td>\n",
       "      <td>NaN</td>\n",
       "      <td>NaN</td>\n",
       "      <td>Other</td>\n",
       "    </tr>\n",
       "    <tr>\n",
       "      <th>486657</th>\n",
       "      <td>2021-05-31</td>\n",
       "      <td>0</td>\n",
       "      <td>0</td>\n",
       "      <td>0</td>\n",
       "      <td>0</td>\n",
       "      <td>0</td>\n",
       "      <td>Negative</td>\n",
       "      <td>NaN</td>\n",
       "      <td>NaN</td>\n",
       "      <td>Other</td>\n",
       "    </tr>\n",
       "    <tr>\n",
       "      <th>486658</th>\n",
       "      <td>2021-05-31</td>\n",
       "      <td>0</td>\n",
       "      <td>0</td>\n",
       "      <td>0</td>\n",
       "      <td>0</td>\n",
       "      <td>0</td>\n",
       "      <td>Negative</td>\n",
       "      <td>NaN</td>\n",
       "      <td>NaN</td>\n",
       "      <td>Other</td>\n",
       "    </tr>\n",
       "  </tbody>\n",
       "</table>\n",
       "<p>486659 rows × 10 columns</p>\n",
       "</div>"
      ],
      "text/plain": [
       "             date  cough  fever  sore_throat  shortness_of_breath  head_ache  \\\n",
       "0      2021-07-25      0      0            0                    0          0   \n",
       "1      2021-07-25      0      0            0                    0          0   \n",
       "2      2021-07-25      1      1            1                    0          1   \n",
       "3      2021-07-25      0      0            0                    0          0   \n",
       "4      2021-07-25      0      0            0                    0          0   \n",
       "...           ...    ...    ...          ...                  ...        ...   \n",
       "486654 2021-05-31      0      0            0                    0          0   \n",
       "486655 2021-05-31      0      0            0                    0          0   \n",
       "486656 2021-05-31      0      0            0                    0          0   \n",
       "486657 2021-05-31      0      0            0                    0          0   \n",
       "486658 2021-05-31      0      0            0                    0          0   \n",
       "\n",
       "       corona_result  age  gender test_indication  \n",
       "0           Negative   No  Female           Other  \n",
       "1           Negative   No  Female           Other  \n",
       "2              Other   No  Female          Abroad  \n",
       "3           Negative   No    Male           Other  \n",
       "4           Negative   No  Female           Other  \n",
       "...              ...  ...     ...             ...  \n",
       "486654      Negative  NaN     NaN           Other  \n",
       "486655      Negative  NaN     NaN           Other  \n",
       "486656      Negative  NaN     NaN           Other  \n",
       "486657      Negative  NaN     NaN           Other  \n",
       "486658      Negative  NaN     NaN           Other  \n",
       "\n",
       "[486659 rows x 10 columns]"
      ]
     },
     "execution_count": 206,
     "metadata": {},
     "output_type": "execute_result"
    }
   ],
   "source": [
    "df"
   ]
  },
  {
   "cell_type": "code",
   "execution_count": 207,
   "metadata": {
    "scrolled": true
   },
   "outputs": [
    {
     "data": {
      "image/png": "[encoded data removed]",
      "text/plain": [
       "<Figure size 1440x360 with 1 Axes>"
      ]
     },
     "metadata": {},
     "output_type": "display_data"
    }
   ],
   "source": [
    "df[df['corona_result'] == \"Positive\"].groupby('date').size().plot(figsize=(20, 5));"
   ]
  },
  {
   "cell_type": "markdown",
   "metadata": {},
   "source": [
    "There are two peaks for testing positive results in 2021-07-25 and 2021-07-19"
   ]
  },
  {
   "cell_type": "code",
   "execution_count": 208,
   "metadata": {},
   "outputs": [
    {
     "data": {
      "image/png": "[encoded data removed]",
      "text/plain": [
       "<Figure size 1440x360 with 1 Axes>"
      ]
     },
     "metadata": {},
     "output_type": "display_data"
    }
   ],
   "source": [
    "df[df['corona_result'] == \"Negative\"].groupby('date').size().plot(figsize=(20, 5));"
   ]
  },
  {
   "cell_type": "code",
   "execution_count": 209,
   "metadata": {
    "scrolled": true
   },
   "outputs": [
    {
     "data": {
      "image/png": "[encoded data removed]",
      "text/plain": [
       "<Figure size 1440x360 with 1 Axes>"
      ]
     },
     "metadata": {},
     "output_type": "display_data"
    }
   ],
   "source": [
    "df[df['corona_result'] == \"Other\"].groupby('date').size().plot(figsize=(20, 5));"
   ]
  },
  {
   "cell_type": "code",
   "execution_count": 210,
   "metadata": {},
   "outputs": [
    {
     "data": {
      "image/png": "[encoded data removed]",
      "text/plain": [
       "<Figure size 1440x360 with 1 Axes>"
      ]
     },
     "metadata": {},
     "output_type": "display_data"
    }
   ],
   "source": [
    "import pandas as pd, datetime as dt\n",
    "\n",
    "df_weekly = pd.DataFrame(df.apply(lambda row: row['date'] - dt.timedelta(days=row['date'].weekday()), axis=1), columns = ['WeekDate'])\n",
    "df_weekly['WeekDate'] = pd.to_datetime(df_weekly['WeekDate']).dt.date\n",
    "\n",
    "perweek = df_weekly['WeekDate'].groupby(df_weekly['WeekDate']).count()\n",
    "perweek.plot(kind=\"bar\", figsize=(20, 5));\n",
    "plt.title(\"Total COVID Test Per Week\")\n",
    "plt.xlabel(\"Week Date\")\n",
    "plt.ylabel(\"Test Counts\")\n",
    "plt.show()"
   ]
  },
  {
   "cell_type": "markdown",
   "metadata": {},
   "source": [
    "Combining what we have analyzed above, the volume of test cases varies week by week but is generally trending upwards."
   ]
  },
  {
   "cell_type": "markdown",
   "metadata": {},
   "source": [
    "## 4 Data Preprocessing"
   ]
  },
  {
   "cell_type": "markdown",
   "metadata": {},
   "source": [
    "**Remove the instances with results of *Others* (not tested, testing)**"
   ]
  },
  {
   "cell_type": "code",
   "execution_count": 211,
   "metadata": {},
   "outputs": [],
   "source": [
    "df = df[df['corona_result'] != 'Other']\n",
    "df = df.drop(\"date\", axis = 1)"
   ]
  },
  {
   "cell_type": "markdown",
   "metadata": {},
   "source": [
    "### Imputation"
   ]
  },
  {
   "cell_type": "code",
   "execution_count": 212,
   "metadata": {},
   "outputs": [
    {
     "data": {
      "text/plain": [
       "'2 features have missing values.'"
      ]
     },
     "execution_count": 212,
     "metadata": {},
     "output_type": "execute_result"
    }
   ],
   "source": [
    "# How many features have missing values?\n",
    "n_missing = len(df.columns[df.isnull().any()])\n",
    "\"{} features have missing values.\".format(n_missing)"
   ]
  },
  {
   "cell_type": "code",
   "execution_count": 213,
   "metadata": {
    "scrolled": true
   },
   "outputs": [
    {
     "data": {
      "text/html": [
       "<div>\n",
       "<style scoped>\n",
       "    .dataframe tbody tr th:only-of-type {\n",
       "        vertical-align: middle;\n",
       "    }\n",
       "\n",
       "    .dataframe tbody tr th {\n",
       "        vertical-align: top;\n",
       "    }\n",
       "\n",
       "    .dataframe thead th {\n",
       "        text-align: right;\n",
       "    }\n",
       "</style>\n",
       "<table border=\"1\" class=\"dataframe\">\n",
       "  <thead>\n",
       "    <tr style=\"text-align: right;\">\n",
       "      <th></th>\n",
       "      <th>Total</th>\n",
       "      <th>Percent</th>\n",
       "    </tr>\n",
       "  </thead>\n",
       "  <tbody>\n",
       "    <tr>\n",
       "      <th>age</th>\n",
       "      <td>275466</td>\n",
       "      <td>0.592103</td>\n",
       "    </tr>\n",
       "    <tr>\n",
       "      <th>gender</th>\n",
       "      <td>208245</td>\n",
       "      <td>0.447614</td>\n",
       "    </tr>\n",
       "  </tbody>\n",
       "</table>\n",
       "</div>"
      ],
      "text/plain": [
       "         Total   Percent\n",
       "age     275466  0.592103\n",
       "gender  208245  0.447614"
      ]
     },
     "execution_count": 213,
     "metadata": {},
     "output_type": "execute_result"
    }
   ],
   "source": [
    "keys = ['Total', 'Percent']\n",
    "\n",
    "null_total = df.isnull().sum().sort_values(ascending=False)\n",
    "null_percent = (df.isnull().sum() /df.isnull().count())\n",
    "\n",
    "df_missing = pd.concat([null_total, null_percent], axis=1, keys=keys, sort=False)\n",
    "df_missing = df_missing.sort_values(by='Percent', ascending=False)\n",
    "df_missing.head(n_missing)"
   ]
  },
  {
   "cell_type": "markdown",
   "metadata": {},
   "source": [
    "The percentage of the missing values is large. We will test on filled and dropped datasets and see if one improves the accuracy"
   ]
  },
  {
   "cell_type": "code",
   "execution_count": 214,
   "metadata": {},
   "outputs": [
    {
     "data": {
      "text/html": [
       "<div>\n",
       "<style scoped>\n",
       "    .dataframe tbody tr th:only-of-type {\n",
       "        vertical-align: middle;\n",
       "    }\n",
       "\n",
       "    .dataframe tbody tr th {\n",
       "        vertical-align: top;\n",
       "    }\n",
       "\n",
       "    .dataframe thead th {\n",
       "        text-align: right;\n",
       "    }\n",
       "</style>\n",
       "<table border=\"1\" class=\"dataframe\">\n",
       "  <thead>\n",
       "    <tr style=\"text-align: right;\">\n",
       "      <th></th>\n",
       "      <th>cough</th>\n",
       "      <th>fever</th>\n",
       "      <th>sore_throat</th>\n",
       "      <th>shortness_of_breath</th>\n",
       "      <th>head_ache</th>\n",
       "      <th>age</th>\n",
       "      <th>gender</th>\n",
       "      <th>test_indication</th>\n",
       "    </tr>\n",
       "  </thead>\n",
       "  <tbody>\n",
       "    <tr>\n",
       "      <th>0</th>\n",
       "      <td>0</td>\n",
       "      <td>0</td>\n",
       "      <td>0</td>\n",
       "      <td>0</td>\n",
       "      <td>0</td>\n",
       "      <td>No</td>\n",
       "      <td>Female</td>\n",
       "      <td>Other</td>\n",
       "    </tr>\n",
       "    <tr>\n",
       "      <th>1</th>\n",
       "      <td>0</td>\n",
       "      <td>0</td>\n",
       "      <td>0</td>\n",
       "      <td>0</td>\n",
       "      <td>0</td>\n",
       "      <td>No</td>\n",
       "      <td>Female</td>\n",
       "      <td>Other</td>\n",
       "    </tr>\n",
       "    <tr>\n",
       "      <th>3</th>\n",
       "      <td>0</td>\n",
       "      <td>0</td>\n",
       "      <td>0</td>\n",
       "      <td>0</td>\n",
       "      <td>0</td>\n",
       "      <td>No</td>\n",
       "      <td>Male</td>\n",
       "      <td>Other</td>\n",
       "    </tr>\n",
       "    <tr>\n",
       "      <th>4</th>\n",
       "      <td>0</td>\n",
       "      <td>0</td>\n",
       "      <td>0</td>\n",
       "      <td>0</td>\n",
       "      <td>0</td>\n",
       "      <td>No</td>\n",
       "      <td>Female</td>\n",
       "      <td>Other</td>\n",
       "    </tr>\n",
       "    <tr>\n",
       "      <th>5</th>\n",
       "      <td>0</td>\n",
       "      <td>0</td>\n",
       "      <td>0</td>\n",
       "      <td>0</td>\n",
       "      <td>0</td>\n",
       "      <td>No</td>\n",
       "      <td>Missing</td>\n",
       "      <td>Other</td>\n",
       "    </tr>\n",
       "  </tbody>\n",
       "</table>\n",
       "</div>"
      ],
      "text/plain": [
       "   cough  fever  sore_throat  shortness_of_breath  head_ache age   gender  \\\n",
       "0      0      0            0                    0          0  No   Female   \n",
       "1      0      0            0                    0          0  No   Female   \n",
       "3      0      0            0                    0          0  No     Male   \n",
       "4      0      0            0                    0          0  No   Female   \n",
       "5      0      0            0                    0          0  No  Missing   \n",
       "\n",
       "  test_indication  \n",
       "0           Other  \n",
       "1           Other  \n",
       "3           Other  \n",
       "4           Other  \n",
       "5           Other  "
      ]
     },
     "execution_count": 214,
     "metadata": {},
     "output_type": "execute_result"
    }
   ],
   "source": [
    "# replace the missing value\n",
    "X_filled = df.copy().drop(\"corona_result\", axis = 1)\n",
    "y_filled = df.copy()[\"corona_result\"]\n",
    "X_filled_nom = X_filled.select_dtypes(include=[object])\n",
    "X_filled_num = X_filled.select_dtypes(include=[np.number])\n",
    "\n",
    "X_filled[X_filled_nom.columns] = X_filled_nom.fillna('Missing')\n",
    "X_filled.head()"
   ]
  },
  {
   "cell_type": "code",
   "execution_count": 215,
   "metadata": {},
   "outputs": [],
   "source": [
    "# drop the rows with missing value\n",
    "df_dropped = df.dropna(how = 'any', axis=0)\n",
    "X_dropped = df_dropped.drop(\"corona_result\", axis = 1)\n",
    "y_dropped = df_dropped[\"corona_result\"]"
   ]
  },
  {
   "cell_type": "code",
   "execution_count": 216,
   "metadata": {},
   "outputs": [
    {
     "data": {
      "text/plain": [
       "'0 features have missing values.'"
      ]
     },
     "execution_count": 216,
     "metadata": {},
     "output_type": "execute_result"
    }
   ],
   "source": [
    "n_missing = len(X_dropped.columns[X_dropped.isnull().any()])\n",
    "\"{} features have missing values.\".format(n_missing)"
   ]
  },
  {
   "cell_type": "markdown",
   "metadata": {},
   "source": [
    "### Encoding"
   ]
  },
  {
   "cell_type": "code",
   "execution_count": 217,
   "metadata": {},
   "outputs": [],
   "source": [
    "X_filled_nom_trans = pd.get_dummies(X_filled[X_filled_nom.columns])"
   ]
  },
  {
   "cell_type": "code",
   "execution_count": 218,
   "metadata": {},
   "outputs": [],
   "source": [
    "X_filled = pd.concat([X_filled_num, X_filled_nom_trans], axis = 1)"
   ]
  },
  {
   "cell_type": "code",
   "execution_count": 219,
   "metadata": {},
   "outputs": [
    {
     "data": {
      "text/html": [
       "<div>\n",
       "<style scoped>\n",
       "    .dataframe tbody tr th:only-of-type {\n",
       "        vertical-align: middle;\n",
       "    }\n",
       "\n",
       "    .dataframe tbody tr th {\n",
       "        vertical-align: top;\n",
       "    }\n",
       "\n",
       "    .dataframe thead th {\n",
       "        text-align: right;\n",
       "    }\n",
       "</style>\n",
       "<table border=\"1\" class=\"dataframe\">\n",
       "  <thead>\n",
       "    <tr style=\"text-align: right;\">\n",
       "      <th></th>\n",
       "      <th>cough</th>\n",
       "      <th>fever</th>\n",
       "      <th>sore_throat</th>\n",
       "      <th>shortness_of_breath</th>\n",
       "      <th>head_ache</th>\n",
       "      <th>age_Missing</th>\n",
       "      <th>age_No</th>\n",
       "      <th>age_Yes</th>\n",
       "      <th>gender_Female</th>\n",
       "      <th>gender_Male</th>\n",
       "      <th>gender_Missing</th>\n",
       "      <th>test_indication_Abroad</th>\n",
       "      <th>test_indication_Contact with confirmed</th>\n",
       "      <th>test_indication_Other</th>\n",
       "    </tr>\n",
       "  </thead>\n",
       "  <tbody>\n",
       "    <tr>\n",
       "      <th>0</th>\n",
       "      <td>0</td>\n",
       "      <td>0</td>\n",
       "      <td>0</td>\n",
       "      <td>0</td>\n",
       "      <td>0</td>\n",
       "      <td>0</td>\n",
       "      <td>1</td>\n",
       "      <td>0</td>\n",
       "      <td>1</td>\n",
       "      <td>0</td>\n",
       "      <td>0</td>\n",
       "      <td>0</td>\n",
       "      <td>0</td>\n",
       "      <td>1</td>\n",
       "    </tr>\n",
       "    <tr>\n",
       "      <th>1</th>\n",
       "      <td>0</td>\n",
       "      <td>0</td>\n",
       "      <td>0</td>\n",
       "      <td>0</td>\n",
       "      <td>0</td>\n",
       "      <td>0</td>\n",
       "      <td>1</td>\n",
       "      <td>0</td>\n",
       "      <td>1</td>\n",
       "      <td>0</td>\n",
       "      <td>0</td>\n",
       "      <td>0</td>\n",
       "      <td>0</td>\n",
       "      <td>1</td>\n",
       "    </tr>\n",
       "    <tr>\n",
       "      <th>3</th>\n",
       "      <td>0</td>\n",
       "      <td>0</td>\n",
       "      <td>0</td>\n",
       "      <td>0</td>\n",
       "      <td>0</td>\n",
       "      <td>0</td>\n",
       "      <td>1</td>\n",
       "      <td>0</td>\n",
       "      <td>0</td>\n",
       "      <td>1</td>\n",
       "      <td>0</td>\n",
       "      <td>0</td>\n",
       "      <td>0</td>\n",
       "      <td>1</td>\n",
       "    </tr>\n",
       "    <tr>\n",
       "      <th>4</th>\n",
       "      <td>0</td>\n",
       "      <td>0</td>\n",
       "      <td>0</td>\n",
       "      <td>0</td>\n",
       "      <td>0</td>\n",
       "      <td>0</td>\n",
       "      <td>1</td>\n",
       "      <td>0</td>\n",
       "      <td>1</td>\n",
       "      <td>0</td>\n",
       "      <td>0</td>\n",
       "      <td>0</td>\n",
       "      <td>0</td>\n",
       "      <td>1</td>\n",
       "    </tr>\n",
       "    <tr>\n",
       "      <th>5</th>\n",
       "      <td>0</td>\n",
       "      <td>0</td>\n",
       "      <td>0</td>\n",
       "      <td>0</td>\n",
       "      <td>0</td>\n",
       "      <td>0</td>\n",
       "      <td>1</td>\n",
       "      <td>0</td>\n",
       "      <td>0</td>\n",
       "      <td>0</td>\n",
       "      <td>1</td>\n",
       "      <td>0</td>\n",
       "      <td>0</td>\n",
       "      <td>1</td>\n",
       "    </tr>\n",
       "  </tbody>\n",
       "</table>\n",
       "</div>"
      ],
      "text/plain": [
       "   cough  fever  sore_throat  shortness_of_breath  head_ache  age_Missing  \\\n",
       "0      0      0            0                    0          0            0   \n",
       "1      0      0            0                    0          0            0   \n",
       "3      0      0            0                    0          0            0   \n",
       "4      0      0            0                    0          0            0   \n",
       "5      0      0            0                    0          0            0   \n",
       "\n",
       "   age_No  age_Yes  gender_Female  gender_Male  gender_Missing  \\\n",
       "0       1        0              1            0               0   \n",
       "1       1        0              1            0               0   \n",
       "3       1        0              0            1               0   \n",
       "4       1        0              1            0               0   \n",
       "5       1        0              0            0               1   \n",
       "\n",
       "   test_indication_Abroad  test_indication_Contact with confirmed  \\\n",
       "0                       0                                       0   \n",
       "1                       0                                       0   \n",
       "3                       0                                       0   \n",
       "4                       0                                       0   \n",
       "5                       0                                       0   \n",
       "\n",
       "   test_indication_Other  \n",
       "0                      1  \n",
       "1                      1  \n",
       "3                      1  \n",
       "4                      1  \n",
       "5                      1  "
      ]
     },
     "execution_count": 219,
     "metadata": {},
     "output_type": "execute_result"
    }
   ],
   "source": [
    "X_filled.head()"
   ]
  },
  {
   "cell_type": "markdown",
   "metadata": {},
   "source": [
    "**When dropping the missing value, the two nominal features (gender and age) are all binary feature. Thus we can encode these features as 0 and 1**"
   ]
  },
  {
   "cell_type": "code",
   "execution_count": 220,
   "metadata": {},
   "outputs": [],
   "source": [
    "# gender and age features are binary so use labelEncoder to be consistent with the syndrome features (binary)\n",
    "le = LabelEncoder()\n",
    "le.fit(X_dropped[\"gender\"])\n",
    "X_dropped[\"gender\"] = le.transform(X_dropped[\"gender\"])\n",
    "le.fit(X_dropped[\"age\"])\n",
    "X_dropped[\"age\"] = le.transform(X_dropped[\"age\"])\n",
    "# X_indication have multi variable so use get dummies instead. OneHotEncoder can't convert df with some string\n",
    "X_indication = pd.get_dummies(X_dropped[\"test_indication\"])\n",
    "X_dropped = pd.concat([X_dropped.drop(\"test_indication\", axis=1), X_indication], axis=1)"
   ]
  },
  {
   "cell_type": "code",
   "execution_count": 221,
   "metadata": {},
   "outputs": [
    {
     "data": {
      "text/html": [
       "<div>\n",
       "<style scoped>\n",
       "    .dataframe tbody tr th:only-of-type {\n",
       "        vertical-align: middle;\n",
       "    }\n",
       "\n",
       "    .dataframe tbody tr th {\n",
       "        vertical-align: top;\n",
       "    }\n",
       "\n",
       "    .dataframe thead th {\n",
       "        text-align: right;\n",
       "    }\n",
       "</style>\n",
       "<table border=\"1\" class=\"dataframe\">\n",
       "  <thead>\n",
       "    <tr style=\"text-align: right;\">\n",
       "      <th></th>\n",
       "      <th>cough</th>\n",
       "      <th>fever</th>\n",
       "      <th>sore_throat</th>\n",
       "      <th>shortness_of_breath</th>\n",
       "      <th>head_ache</th>\n",
       "      <th>age</th>\n",
       "      <th>gender</th>\n",
       "      <th>Abroad</th>\n",
       "      <th>Contact with confirmed</th>\n",
       "      <th>Other</th>\n",
       "    </tr>\n",
       "  </thead>\n",
       "  <tbody>\n",
       "    <tr>\n",
       "      <th>0</th>\n",
       "      <td>0</td>\n",
       "      <td>0</td>\n",
       "      <td>0</td>\n",
       "      <td>0</td>\n",
       "      <td>0</td>\n",
       "      <td>0</td>\n",
       "      <td>0</td>\n",
       "      <td>0</td>\n",
       "      <td>0</td>\n",
       "      <td>1</td>\n",
       "    </tr>\n",
       "    <tr>\n",
       "      <th>1</th>\n",
       "      <td>0</td>\n",
       "      <td>0</td>\n",
       "      <td>0</td>\n",
       "      <td>0</td>\n",
       "      <td>0</td>\n",
       "      <td>0</td>\n",
       "      <td>0</td>\n",
       "      <td>0</td>\n",
       "      <td>0</td>\n",
       "      <td>1</td>\n",
       "    </tr>\n",
       "    <tr>\n",
       "      <th>3</th>\n",
       "      <td>0</td>\n",
       "      <td>0</td>\n",
       "      <td>0</td>\n",
       "      <td>0</td>\n",
       "      <td>0</td>\n",
       "      <td>0</td>\n",
       "      <td>1</td>\n",
       "      <td>0</td>\n",
       "      <td>0</td>\n",
       "      <td>1</td>\n",
       "    </tr>\n",
       "    <tr>\n",
       "      <th>4</th>\n",
       "      <td>0</td>\n",
       "      <td>0</td>\n",
       "      <td>0</td>\n",
       "      <td>0</td>\n",
       "      <td>0</td>\n",
       "      <td>0</td>\n",
       "      <td>0</td>\n",
       "      <td>0</td>\n",
       "      <td>0</td>\n",
       "      <td>1</td>\n",
       "    </tr>\n",
       "    <tr>\n",
       "      <th>6</th>\n",
       "      <td>0</td>\n",
       "      <td>0</td>\n",
       "      <td>0</td>\n",
       "      <td>0</td>\n",
       "      <td>0</td>\n",
       "      <td>0</td>\n",
       "      <td>1</td>\n",
       "      <td>0</td>\n",
       "      <td>0</td>\n",
       "      <td>1</td>\n",
       "    </tr>\n",
       "  </tbody>\n",
       "</table>\n",
       "</div>"
      ],
      "text/plain": [
       "   cough  fever  sore_throat  shortness_of_breath  head_ache  age  gender  \\\n",
       "0      0      0            0                    0          0    0       0   \n",
       "1      0      0            0                    0          0    0       0   \n",
       "3      0      0            0                    0          0    0       1   \n",
       "4      0      0            0                    0          0    0       0   \n",
       "6      0      0            0                    0          0    0       1   \n",
       "\n",
       "   Abroad  Contact with confirmed  Other  \n",
       "0       0                       0      1  \n",
       "1       0                       0      1  \n",
       "3       0                       0      1  \n",
       "4       0                       0      1  \n",
       "6       0                       0      1  "
      ]
     },
     "execution_count": 221,
     "metadata": {},
     "output_type": "execute_result"
    }
   ],
   "source": [
    "X_dropped.head()"
   ]
  },
  {
   "cell_type": "markdown",
   "metadata": {},
   "source": [
    "**Encoding the class label value**"
   ]
  },
  {
   "cell_type": "code",
   "execution_count": 222,
   "metadata": {},
   "outputs": [],
   "source": [
    "le.fit(y_dropped)\n",
    "y_dropped = le.transform(y_dropped)\n",
    "le.fit(y_filled)\n",
    "y_filled = le.transform(y_filled)"
   ]
  },
  {
   "cell_type": "markdown",
   "metadata": {},
   "source": [
    "NOTE: moved feature selection to after modeling as we want to see the baseline performance scores and some features selections are based on models"
   ]
  },
  {
   "cell_type": "markdown",
   "metadata": {},
   "source": [
    "<!-- **Correlation between features in X_dropped (missing values dropped)** -->"
   ]
  },
  {
   "cell_type": "markdown",
   "metadata": {},
   "source": [
    "## Feature selection"
   ]
  },
  {
   "cell_type": "markdown",
   "metadata": {},
   "source": [
    "https://www.kaggle.com/kanncaa1/feature-selection-and-data-visualization\n",
    "https://www.kaggle.com/prashant111/comprehensive-guide-on-feature-selection"
   ]
  },
  {
   "cell_type": "markdown",
   "metadata": {},
   "source": [
    "Conclusion drawn from the above article:\n",
    "SelectKBest with Fisher Score\n",
    "Recursive Feature Elimination with Cross-Validation (RFECV)\n",
    "Correlation-matrix with heatmap\n",
    "Random-Forest Importance"
   ]
  },
  {
   "cell_type": "markdown",
   "metadata": {},
   "source": [
    "**Performance metrics tailored for imbalanced data**"
   ]
  },
  {
   "cell_type": "markdown",
   "metadata": {},
   "source": [
    "https://imbalanced-learn.org/stable/references/metrics.html#module-imblearn.metrics"
   ]
  },
  {
   "cell_type": "code",
   "execution_count": 172,
   "metadata": {},
   "outputs": [],
   "source": [
    "from sklearn.metrics import balanced_accuracy_score\n",
    "from imblearn.metrics import sensitivity_specificity_support\n",
    "from imblearn.metrics import sensitivity_score\n",
    "from imblearn.metrics import specificity_score\n",
    "from imblearn.metrics import geometric_mean_score\n",
    "from imblearn.metrics import classification_report_imbalanced\n",
    "from imblearn.metrics import macro_averaged_mean_absolute_error"
   ]
  },
  {
   "cell_type": "code",
   "execution_count": 289,
   "metadata": {},
   "outputs": [],
   "source": [
    "def evaluate_imbalanced(y_test, y_pred):\n",
    "    output = dict()\n",
    "    output[\"Balanced Accuracy\"] = balanced_accuracy_score(y_test, y_pred)\n",
    "    output[\"Sensitivity\"] = sensitivity_score(y_test, y_pred, average='weighted') ## high indicates low false negative\n",
    "    output[\"Specificity\"] = specificity_score(y_test, y_pred, average='weighted') ## high indicates low false positive\n",
    "    output[\"AUROC\"] = roc_auc_score(y_test, y_pred) ##TPR\n",
    "    output[\"F1\"] = f1_score(y_test, y_pred, average=\"binary\") ##weighted precision and recall (both positive dominated)\n",
    "    output[\"Geometric Mean\"] = geometric_mean_score(y_test, y_pred, average='weighted') ## class-wise sensitivity\n",
    "    output[\"Macro Average MAE\"] = macro_averaged_mean_absolute_error(y_test, y_pred)\n",
    "    return output"
   ]
  },
  {
   "cell_type": "markdown",
   "metadata": {},
   "source": [
    "1. The sensitivity is the ratio tp / (tp + fn) where tp is the number of true positives and fn the number of false negatives. The sensitivity quantifies the ability to avoid false negatives. The best value is 1 and the worst value is 0."
   ]
  },
  {
   "cell_type": "markdown",
   "metadata": {},
   "source": [
    "2. 'weighted':\n",
    "Calculate metrics for each label, and find their average, weighted by support (the number of true instances for each label). This alters ‘macro’ to account for label imbalance; it can result in an F-score that is not between precision and recall."
   ]
  },
  {
   "cell_type": "markdown",
   "metadata": {},
   "source": [
    "3. The specificity is the ratio tn / (tn + fp) where tn is the number of true negatives and fp the number of false positives. The specificity quantifies the ability to avoid false positives. The best value is 1 and the worst value is 0."
   ]
  },
  {
   "cell_type": "markdown",
   "metadata": {},
   "source": [
    "4. The geometric mean (G-mean) is the root of the product of class-wise sensitivity. "
   ]
  },
  {
   "cell_type": "markdown",
   "metadata": {},
   "source": [
    "5. This function computes each MAE for each class and average them, giving an equal weight to each class."
   ]
  },
  {
   "cell_type": "markdown",
   "metadata": {},
   "source": [
    "## Original performance without feature selection"
   ]
  },
  {
   "cell_type": "code",
   "execution_count": 224,
   "metadata": {},
   "outputs": [],
   "source": [
    "# prepare a df to store the results from each method\n",
    "# TO DO: random_state, most cases are 42 or 43 why?\n",
    "x_train, x_test, y_train, y_test = train_test_split(X_filled, y_filled, test_size=0.2, random_state=0)\n"
   ]
  },
  {
   "cell_type": "code",
   "execution_count": 225,
   "metadata": {},
   "outputs": [],
   "source": [
    "#random forest classifier with n_estimators=10 (default) tree-based model is well-suited for imbalanced data\n",
    "def make_y_pred(x_train, x_test, y_train):\n",
    "    model_ori = RandomForestClassifier(random_state=43)      \n",
    "    model_ori = model_ori.fit(x_train,y_train)\n",
    "    y_pred = model_ori.predict(x_test)\n",
    "    return y_pred"
   ]
  },
  {
   "cell_type": "code",
   "execution_count": 226,
   "metadata": {},
   "outputs": [],
   "source": [
    "y_pred = make_y_pred(x_train, x_test, y_train)"
   ]
  },
  {
   "cell_type": "code",
   "execution_count": 227,
   "metadata": {},
   "outputs": [
    {
     "data": {
      "text/html": [
       "<div>\n",
       "<style scoped>\n",
       "    .dataframe tbody tr th:only-of-type {\n",
       "        vertical-align: middle;\n",
       "    }\n",
       "\n",
       "    .dataframe tbody tr th {\n",
       "        vertical-align: top;\n",
       "    }\n",
       "\n",
       "    .dataframe thead th {\n",
       "        text-align: right;\n",
       "    }\n",
       "</style>\n",
       "<table border=\"1\" class=\"dataframe\">\n",
       "  <thead>\n",
       "    <tr style=\"text-align: right;\">\n",
       "      <th></th>\n",
       "      <th>Method</th>\n",
       "      <th>Original</th>\n",
       "    </tr>\n",
       "  </thead>\n",
       "  <tbody>\n",
       "    <tr>\n",
       "      <th>0</th>\n",
       "      <td>Balanced Accuracy</td>\n",
       "      <td>0.824516</td>\n",
       "    </tr>\n",
       "    <tr>\n",
       "      <th>1</th>\n",
       "      <td>Sensitivity</td>\n",
       "      <td>0.994691</td>\n",
       "    </tr>\n",
       "    <tr>\n",
       "      <th>2</th>\n",
       "      <td>Specificity</td>\n",
       "      <td>0.654340</td>\n",
       "    </tr>\n",
       "    <tr>\n",
       "      <th>3</th>\n",
       "      <td>AUROC</td>\n",
       "      <td>0.824516</td>\n",
       "    </tr>\n",
       "    <tr>\n",
       "      <th>4</th>\n",
       "      <td>F1</td>\n",
       "      <td>0.684547</td>\n",
       "    </tr>\n",
       "    <tr>\n",
       "      <th>5</th>\n",
       "      <td>Geometric Mean</td>\n",
       "      <td>0.806763</td>\n",
       "    </tr>\n",
       "    <tr>\n",
       "      <th>6</th>\n",
       "      <td>Macro Average MAE</td>\n",
       "      <td>0.175484</td>\n",
       "    </tr>\n",
       "  </tbody>\n",
       "</table>\n",
       "</div>"
      ],
      "text/plain": [
       "              Method  Original\n",
       "0  Balanced Accuracy  0.824516\n",
       "1        Sensitivity  0.994691\n",
       "2        Specificity  0.654340\n",
       "3              AUROC  0.824516\n",
       "4                 F1  0.684547\n",
       "5     Geometric Mean  0.806763\n",
       "6  Macro Average MAE  0.175484"
      ]
     },
     "execution_count": 227,
     "metadata": {},
     "output_type": "execute_result"
    }
   ],
   "source": [
    "results_1 = pd.DataFrame(evaluate_imbalanced(y_test, y_pred).items(),columns=[ 'Method', 'Original'])\n",
    "results_1"
   ]
  },
  {
   "cell_type": "code",
   "execution_count": 228,
   "metadata": {},
   "outputs": [],
   "source": [
    "def make_confusion_matrix(y_test,y_pred):\n",
    "    cf_matrix = confusion_matrix(y_test,y_pred)\n",
    "    fig, ax = plt.subplots(figsize=(5,5))         # Sample figsize in inches\n",
    "    sns.heatmap(cf_matrix/np.sum(cf_matrix), annot=True, \n",
    "            fmt='.2%', cmap='Greens', linewidths=.1, ax=ax);\n",
    "    ax.set_title('Confusion Matrix');"
   ]
  },
  {
   "cell_type": "code",
   "execution_count": 229,
   "metadata": {},
   "outputs": [
    {
     "data": {
      "image/png": "[encoded data removed]",
      "text/plain": [
       "<Figure size 360x360 with 2 Axes>"
      ]
     },
     "metadata": {},
     "output_type": "display_data"
    }
   ],
   "source": [
    "make_confusion_matrix(y_test,y_pred)"
   ]
  },
  {
   "cell_type": "markdown",
   "metadata": {},
   "source": [
    "## Feature selection--Filter method"
   ]
  },
  {
   "cell_type": "markdown",
   "metadata": {},
   "source": [
    "**1. Mutual Info between features and class label (drop date column for now)**"
   ]
  },
  {
   "cell_type": "code",
   "execution_count": 230,
   "metadata": {},
   "outputs": [],
   "source": [
    "from sklearn.feature_selection import mutual_info_regression\n",
    "from sklearn.feature_selection import mutual_info_classif\n",
    "from sklearn.metrics import mutual_info_score"
   ]
  },
  {
   "cell_type": "code",
   "execution_count": 231,
   "metadata": {},
   "outputs": [],
   "source": [
    "mi_reg = mutual_info_regression(X_filled, y_filled)\n",
    "mi_cla = mutual_info_regression(X_filled, y_filled)"
   ]
  },
  {
   "cell_type": "code",
   "execution_count": 232,
   "metadata": {},
   "outputs": [],
   "source": [
    "df_mi = pd.DataFrame(mi_reg, index=X_filled.columns, columns=['mutual_info_reg'])"
   ]
  },
  {
   "cell_type": "code",
   "execution_count": 233,
   "metadata": {},
   "outputs": [],
   "source": [
    "def highlight_top6(s):\n",
    "    \"\"\"Highlight the maximum in a Series green.\"\"\"\n",
    "    is_large = s.nlargest(6).values\n",
    "    return ['background-color: green' if v in is_large else '' for v in s ]"
   ]
  },
  {
   "cell_type": "code",
   "execution_count": 234,
   "metadata": {
    "scrolled": true
   },
   "outputs": [
    {
     "data": {
      "text/html": [
       "<style  type=\"text/css\" >\n",
       "#T_35ab95d8_fbb8_11eb_a47c_acde48001122row0_col0,#T_35ab95d8_fbb8_11eb_a47c_acde48001122row1_col0,#T_35ab95d8_fbb8_11eb_a47c_acde48001122row2_col0,#T_35ab95d8_fbb8_11eb_a47c_acde48001122row3_col0,#T_35ab95d8_fbb8_11eb_a47c_acde48001122row4_col0,#T_35ab95d8_fbb8_11eb_a47c_acde48001122row5_col0{\n",
       "            background-color:  green;\n",
       "        }</style><table id=\"T_35ab95d8_fbb8_11eb_a47c_acde48001122\" ><thead>    <tr>        <th class=\"blank level0\" ></th>        <th class=\"col_heading level0 col0\" >mutual_info_reg</th>    </tr></thead><tbody>\n",
       "                <tr>\n",
       "                        <th id=\"T_35ab95d8_fbb8_11eb_a47c_acde48001122level0_row0\" class=\"row_heading level0 row0\" >test_indication_Contact with confirmed</th>\n",
       "                        <td id=\"T_35ab95d8_fbb8_11eb_a47c_acde48001122row0_col0\" class=\"data row0 col0\" >0.015279</td>\n",
       "            </tr>\n",
       "            <tr>\n",
       "                        <th id=\"T_35ab95d8_fbb8_11eb_a47c_acde48001122level0_row1\" class=\"row_heading level0 row1\" >test_indication_Other</th>\n",
       "                        <td id=\"T_35ab95d8_fbb8_11eb_a47c_acde48001122row1_col0\" class=\"data row1 col0\" >0.015208</td>\n",
       "            </tr>\n",
       "            <tr>\n",
       "                        <th id=\"T_35ab95d8_fbb8_11eb_a47c_acde48001122level0_row2\" class=\"row_heading level0 row2\" >cough</th>\n",
       "                        <td id=\"T_35ab95d8_fbb8_11eb_a47c_acde48001122row2_col0\" class=\"data row2 col0\" >0.009274</td>\n",
       "            </tr>\n",
       "            <tr>\n",
       "                        <th id=\"T_35ab95d8_fbb8_11eb_a47c_acde48001122level0_row3\" class=\"row_heading level0 row3\" >fever</th>\n",
       "                        <td id=\"T_35ab95d8_fbb8_11eb_a47c_acde48001122row3_col0\" class=\"data row3 col0\" >0.009154</td>\n",
       "            </tr>\n",
       "            <tr>\n",
       "                        <th id=\"T_35ab95d8_fbb8_11eb_a47c_acde48001122level0_row4\" class=\"row_heading level0 row4\" >head_ache</th>\n",
       "                        <td id=\"T_35ab95d8_fbb8_11eb_a47c_acde48001122row4_col0\" class=\"data row4 col0\" >0.008361</td>\n",
       "            </tr>\n",
       "            <tr>\n",
       "                        <th id=\"T_35ab95d8_fbb8_11eb_a47c_acde48001122level0_row5\" class=\"row_heading level0 row5\" >sore_throat</th>\n",
       "                        <td id=\"T_35ab95d8_fbb8_11eb_a47c_acde48001122row5_col0\" class=\"data row5 col0\" >0.006552</td>\n",
       "            </tr>\n",
       "            <tr>\n",
       "                        <th id=\"T_35ab95d8_fbb8_11eb_a47c_acde48001122level0_row6\" class=\"row_heading level0 row6\" >gender_Missing</th>\n",
       "                        <td id=\"T_35ab95d8_fbb8_11eb_a47c_acde48001122row6_col0\" class=\"data row6 col0\" >0.002270</td>\n",
       "            </tr>\n",
       "            <tr>\n",
       "                        <th id=\"T_35ab95d8_fbb8_11eb_a47c_acde48001122level0_row7\" class=\"row_heading level0 row7\" >age_Missing</th>\n",
       "                        <td id=\"T_35ab95d8_fbb8_11eb_a47c_acde48001122row7_col0\" class=\"data row7 col0\" >0.001534</td>\n",
       "            </tr>\n",
       "            <tr>\n",
       "                        <th id=\"T_35ab95d8_fbb8_11eb_a47c_acde48001122level0_row8\" class=\"row_heading level0 row8\" >age_Yes</th>\n",
       "                        <td id=\"T_35ab95d8_fbb8_11eb_a47c_acde48001122row8_col0\" class=\"data row8 col0\" >0.001061</td>\n",
       "            </tr>\n",
       "            <tr>\n",
       "                        <th id=\"T_35ab95d8_fbb8_11eb_a47c_acde48001122level0_row9\" class=\"row_heading level0 row9\" >test_indication_Abroad</th>\n",
       "                        <td id=\"T_35ab95d8_fbb8_11eb_a47c_acde48001122row9_col0\" class=\"data row9 col0\" >0.000975</td>\n",
       "            </tr>\n",
       "            <tr>\n",
       "                        <th id=\"T_35ab95d8_fbb8_11eb_a47c_acde48001122level0_row10\" class=\"row_heading level0 row10\" >shortness_of_breath</th>\n",
       "                        <td id=\"T_35ab95d8_fbb8_11eb_a47c_acde48001122row10_col0\" class=\"data row10 col0\" >0.000609</td>\n",
       "            </tr>\n",
       "            <tr>\n",
       "                        <th id=\"T_35ab95d8_fbb8_11eb_a47c_acde48001122level0_row11\" class=\"row_heading level0 row11\" >gender_Male</th>\n",
       "                        <td id=\"T_35ab95d8_fbb8_11eb_a47c_acde48001122row11_col0\" class=\"data row11 col0\" >0.000512</td>\n",
       "            </tr>\n",
       "            <tr>\n",
       "                        <th id=\"T_35ab95d8_fbb8_11eb_a47c_acde48001122level0_row12\" class=\"row_heading level0 row12\" >age_No</th>\n",
       "                        <td id=\"T_35ab95d8_fbb8_11eb_a47c_acde48001122row12_col0\" class=\"data row12 col0\" >0.000002</td>\n",
       "            </tr>\n",
       "            <tr>\n",
       "                        <th id=\"T_35ab95d8_fbb8_11eb_a47c_acde48001122level0_row13\" class=\"row_heading level0 row13\" >gender_Female</th>\n",
       "                        <td id=\"T_35ab95d8_fbb8_11eb_a47c_acde48001122row13_col0\" class=\"data row13 col0\" >0.000000</td>\n",
       "            </tr>\n",
       "    </tbody></table>"
      ],
      "text/plain": [
       "<pandas.io.formats.style.Styler at 0x7f9875557d00>"
      ]
     },
     "execution_count": 234,
     "metadata": {},
     "output_type": "execute_result"
    }
   ],
   "source": [
    "# top 6 are highlighted\n",
    "df_mi.sort_values(\"mutual_info_reg\", ascending=False).style.apply(highlight_top6)"
   ]
  },
  {
   "cell_type": "markdown",
   "metadata": {},
   "source": [
    "**Most features are nearly independent. No feature filtered out with this method**"
   ]
  },
  {
   "cell_type": "code",
   "execution_count": 235,
   "metadata": {},
   "outputs": [],
   "source": [
    "# for scoring only, need to combine with other methods\n",
    "from sklearn.feature_selection import f_regression, f_classif\n",
    "f_reg = f_regression(X_filled, y_filled)\n",
    "f_clasif = f_classif(X_filled, y_filled)"
   ]
  },
  {
   "cell_type": "markdown",
   "metadata": {},
   "source": [
    "**2. Correlation matrix with heatmap for features in X_filled (missing values filled)**"
   ]
  },
  {
   "cell_type": "code",
   "execution_count": 236,
   "metadata": {},
   "outputs": [],
   "source": [
    "# corr for mean\n",
    "corr1 = X_filled.corr();\n",
    "corr2 = X_dropped.corr();"
   ]
  },
  {
   "cell_type": "code",
   "execution_count": 237,
   "metadata": {},
   "outputs": [
    {
     "data": {
      "image/png": "[encoded data removed]",
      "text/plain": [
       "<Figure size 1080x1080 with 2 Axes>"
      ]
     },
     "metadata": {},
     "output_type": "display_data"
    }
   ],
   "source": [
    "plt.rc(\"figure\", figsize=(15, 15))\n",
    "grid=sns.heatmap(corr1,annot=True,cbar = True, square = True, cmap=sns.diverging_palette(220, 10, as_cmap=True))\n",
    "grid.set_xticklabels(corr1.columns,rotation=90)\n",
    "plt.subplots_adjust(left=0.3,right=1,bottom=0.35,top=0.9)\n",
    "plt.show()"
   ]
  },
  {
   "cell_type": "markdown",
   "metadata": {},
   "source": [
    "**Findings: The correlations between any two features are low. No correlation is higher than 0.9. No feature filtered out with this method**"
   ]
  },
  {
   "cell_type": "code",
   "execution_count": 238,
   "metadata": {},
   "outputs": [],
   "source": [
    "from sklearn.feature_selection import SelectKBest\n",
    "from sklearn.feature_selection import chi2"
   ]
  },
  {
   "cell_type": "code",
   "execution_count": 239,
   "metadata": {},
   "outputs": [],
   "source": [
    "# # refresher\n",
    "x_train, x_test, y_train, y_test = train_test_split(X_filled, y_filled, test_size=0.2, random_state=0)"
   ]
  },
  {
   "cell_type": "code",
   "execution_count": 240,
   "metadata": {
    "scrolled": true
   },
   "outputs": [
    {
     "data": {
      "text/html": [
       "<style  type=\"text/css\" >\n",
       "#T_369e4404_fbb8_11eb_a47c_acde48001122row0_col0,#T_369e4404_fbb8_11eb_a47c_acde48001122row1_col0,#T_369e4404_fbb8_11eb_a47c_acde48001122row2_col0,#T_369e4404_fbb8_11eb_a47c_acde48001122row3_col0,#T_369e4404_fbb8_11eb_a47c_acde48001122row4_col0,#T_369e4404_fbb8_11eb_a47c_acde48001122row5_col0{\n",
       "            background-color:  green;\n",
       "        }</style><table id=\"T_369e4404_fbb8_11eb_a47c_acde48001122\" ><thead>    <tr>        <th class=\"blank level0\" ></th>        <th class=\"col_heading level0 col0\" >SelectKBest-chi2</th>    </tr></thead><tbody>\n",
       "                <tr>\n",
       "                        <th id=\"T_369e4404_fbb8_11eb_a47c_acde48001122level0_row0\" class=\"row_heading level0 row0\" >test_indication_Contact with confirmed</th>\n",
       "                        <td id=\"T_369e4404_fbb8_11eb_a47c_acde48001122row0_col0\" class=\"data row0 col0\" >97792.214762</td>\n",
       "            </tr>\n",
       "            <tr>\n",
       "                        <th id=\"T_369e4404_fbb8_11eb_a47c_acde48001122level0_row1\" class=\"row_heading level0 row1\" >fever</th>\n",
       "                        <td id=\"T_369e4404_fbb8_11eb_a47c_acde48001122row1_col0\" class=\"data row1 col0\" >70120.384480</td>\n",
       "            </tr>\n",
       "            <tr>\n",
       "                        <th id=\"T_369e4404_fbb8_11eb_a47c_acde48001122level0_row2\" class=\"row_heading level0 row2\" >head_ache</th>\n",
       "                        <td id=\"T_369e4404_fbb8_11eb_a47c_acde48001122row2_col0\" class=\"data row2 col0\" >62286.259488</td>\n",
       "            </tr>\n",
       "            <tr>\n",
       "                        <th id=\"T_369e4404_fbb8_11eb_a47c_acde48001122level0_row3\" class=\"row_heading level0 row3\" >cough</th>\n",
       "                        <td id=\"T_369e4404_fbb8_11eb_a47c_acde48001122row3_col0\" class=\"data row3 col0\" >56200.021071</td>\n",
       "            </tr>\n",
       "            <tr>\n",
       "                        <th id=\"T_369e4404_fbb8_11eb_a47c_acde48001122level0_row4\" class=\"row_heading level0 row4\" >sore_throat</th>\n",
       "                        <td id=\"T_369e4404_fbb8_11eb_a47c_acde48001122row4_col0\" class=\"data row4 col0\" >30008.323534</td>\n",
       "            </tr>\n",
       "            <tr>\n",
       "                        <th id=\"T_369e4404_fbb8_11eb_a47c_acde48001122level0_row5\" class=\"row_heading level0 row5\" >shortness_of_breath</th>\n",
       "                        <td id=\"T_369e4404_fbb8_11eb_a47c_acde48001122row5_col0\" class=\"data row5 col0\" >4462.521708</td>\n",
       "            </tr>\n",
       "            <tr>\n",
       "                        <th id=\"T_369e4404_fbb8_11eb_a47c_acde48001122level0_row6\" class=\"row_heading level0 row6\" >age_Yes</th>\n",
       "                        <td id=\"T_369e4404_fbb8_11eb_a47c_acde48001122row6_col0\" class=\"data row6 col0\" >754.507236</td>\n",
       "            </tr>\n",
       "            <tr>\n",
       "                        <th id=\"T_369e4404_fbb8_11eb_a47c_acde48001122level0_row7\" class=\"row_heading level0 row7\" >test_indication_Other</th>\n",
       "                        <td id=\"T_369e4404_fbb8_11eb_a47c_acde48001122row7_col0\" class=\"data row7 col0\" >710.261205</td>\n",
       "            </tr>\n",
       "            <tr>\n",
       "                        <th id=\"T_369e4404_fbb8_11eb_a47c_acde48001122level0_row8\" class=\"row_heading level0 row8\" >gender_Missing</th>\n",
       "                        <td id=\"T_369e4404_fbb8_11eb_a47c_acde48001122row8_col0\" class=\"data row8 col0\" >661.563719</td>\n",
       "            </tr>\n",
       "            <tr>\n",
       "                        <th id=\"T_369e4404_fbb8_11eb_a47c_acde48001122level0_row9\" class=\"row_heading level0 row9\" >age_Missing</th>\n",
       "                        <td id=\"T_369e4404_fbb8_11eb_a47c_acde48001122row9_col0\" class=\"data row9 col0\" >598.631176</td>\n",
       "            </tr>\n",
       "            <tr>\n",
       "                        <th id=\"T_369e4404_fbb8_11eb_a47c_acde48001122level0_row10\" class=\"row_heading level0 row10\" >test_indication_Abroad</th>\n",
       "                        <td id=\"T_369e4404_fbb8_11eb_a47c_acde48001122row10_col0\" class=\"data row10 col0\" >550.946819</td>\n",
       "            </tr>\n",
       "            <tr>\n",
       "                        <th id=\"T_369e4404_fbb8_11eb_a47c_acde48001122level0_row11\" class=\"row_heading level0 row11\" >age_No</th>\n",
       "                        <td id=\"T_369e4404_fbb8_11eb_a47c_acde48001122row11_col0\" class=\"data row11 col0\" >393.129661</td>\n",
       "            </tr>\n",
       "            <tr>\n",
       "                        <th id=\"T_369e4404_fbb8_11eb_a47c_acde48001122level0_row12\" class=\"row_heading level0 row12\" >gender_Male</th>\n",
       "                        <td id=\"T_369e4404_fbb8_11eb_a47c_acde48001122row12_col0\" class=\"data row12 col0\" >340.249068</td>\n",
       "            </tr>\n",
       "            <tr>\n",
       "                        <th id=\"T_369e4404_fbb8_11eb_a47c_acde48001122level0_row13\" class=\"row_heading level0 row13\" >gender_Female</th>\n",
       "                        <td id=\"T_369e4404_fbb8_11eb_a47c_acde48001122row13_col0\" class=\"data row13 col0\" >209.165600</td>\n",
       "            </tr>\n",
       "    </tbody></table>"
      ],
      "text/plain": [
       "<pandas.io.formats.style.Styler at 0x7f98be1595b0>"
      ]
     },
     "execution_count": 240,
     "metadata": {},
     "output_type": "execute_result"
    }
   ],
   "source": [
    "# find best scored 5 features\n",
    "selector = SelectKBest(chi2, k=5)\n",
    "select_feature = selector.fit(x_train, y_train)\n",
    "df_chi2 = pd.DataFrame(select_feature.scores_, index=x_train.columns, columns=['SelectKBest-chi2'])\n",
    "df_chi2.sort_values('SelectKBest-chi2', ascending=False).style.apply(highlight_top6)"
   ]
  },
  {
   "cell_type": "code",
   "execution_count": 241,
   "metadata": {},
   "outputs": [
    {
     "data": {
      "text/html": [
       "<style  type=\"text/css\" >\n",
       "#T_369fe6e2_fbb8_11eb_a47c_acde48001122row0_col0,#T_369fe6e2_fbb8_11eb_a47c_acde48001122row0_col1,#T_369fe6e2_fbb8_11eb_a47c_acde48001122row1_col0,#T_369fe6e2_fbb8_11eb_a47c_acde48001122row1_col1,#T_369fe6e2_fbb8_11eb_a47c_acde48001122row2_col0,#T_369fe6e2_fbb8_11eb_a47c_acde48001122row2_col1,#T_369fe6e2_fbb8_11eb_a47c_acde48001122row3_col0,#T_369fe6e2_fbb8_11eb_a47c_acde48001122row3_col1,#T_369fe6e2_fbb8_11eb_a47c_acde48001122row4_col0,#T_369fe6e2_fbb8_11eb_a47c_acde48001122row4_col1,#T_369fe6e2_fbb8_11eb_a47c_acde48001122row5_col0,#T_369fe6e2_fbb8_11eb_a47c_acde48001122row7_col1{\n",
       "            background-color:  green;\n",
       "        }</style><table id=\"T_369fe6e2_fbb8_11eb_a47c_acde48001122\" ><thead>    <tr>        <th class=\"blank level0\" ></th>        <th class=\"col_heading level0 col0\" >SelectKBest-chi2</th>        <th class=\"col_heading level0 col1\" >mutual_info_reg</th>    </tr></thead><tbody>\n",
       "                <tr>\n",
       "                        <th id=\"T_369fe6e2_fbb8_11eb_a47c_acde48001122level0_row0\" class=\"row_heading level0 row0\" >test_indication_Contact with confirmed</th>\n",
       "                        <td id=\"T_369fe6e2_fbb8_11eb_a47c_acde48001122row0_col0\" class=\"data row0 col0\" >97792.214762</td>\n",
       "                        <td id=\"T_369fe6e2_fbb8_11eb_a47c_acde48001122row0_col1\" class=\"data row0 col1\" >0.015279</td>\n",
       "            </tr>\n",
       "            <tr>\n",
       "                        <th id=\"T_369fe6e2_fbb8_11eb_a47c_acde48001122level0_row1\" class=\"row_heading level0 row1\" >fever</th>\n",
       "                        <td id=\"T_369fe6e2_fbb8_11eb_a47c_acde48001122row1_col0\" class=\"data row1 col0\" >70120.384480</td>\n",
       "                        <td id=\"T_369fe6e2_fbb8_11eb_a47c_acde48001122row1_col1\" class=\"data row1 col1\" >0.009154</td>\n",
       "            </tr>\n",
       "            <tr>\n",
       "                        <th id=\"T_369fe6e2_fbb8_11eb_a47c_acde48001122level0_row2\" class=\"row_heading level0 row2\" >head_ache</th>\n",
       "                        <td id=\"T_369fe6e2_fbb8_11eb_a47c_acde48001122row2_col0\" class=\"data row2 col0\" >62286.259488</td>\n",
       "                        <td id=\"T_369fe6e2_fbb8_11eb_a47c_acde48001122row2_col1\" class=\"data row2 col1\" >0.008361</td>\n",
       "            </tr>\n",
       "            <tr>\n",
       "                        <th id=\"T_369fe6e2_fbb8_11eb_a47c_acde48001122level0_row3\" class=\"row_heading level0 row3\" >cough</th>\n",
       "                        <td id=\"T_369fe6e2_fbb8_11eb_a47c_acde48001122row3_col0\" class=\"data row3 col0\" >56200.021071</td>\n",
       "                        <td id=\"T_369fe6e2_fbb8_11eb_a47c_acde48001122row3_col1\" class=\"data row3 col1\" >0.009274</td>\n",
       "            </tr>\n",
       "            <tr>\n",
       "                        <th id=\"T_369fe6e2_fbb8_11eb_a47c_acde48001122level0_row4\" class=\"row_heading level0 row4\" >sore_throat</th>\n",
       "                        <td id=\"T_369fe6e2_fbb8_11eb_a47c_acde48001122row4_col0\" class=\"data row4 col0\" >30008.323534</td>\n",
       "                        <td id=\"T_369fe6e2_fbb8_11eb_a47c_acde48001122row4_col1\" class=\"data row4 col1\" >0.006552</td>\n",
       "            </tr>\n",
       "            <tr>\n",
       "                        <th id=\"T_369fe6e2_fbb8_11eb_a47c_acde48001122level0_row5\" class=\"row_heading level0 row5\" >shortness_of_breath</th>\n",
       "                        <td id=\"T_369fe6e2_fbb8_11eb_a47c_acde48001122row5_col0\" class=\"data row5 col0\" >4462.521708</td>\n",
       "                        <td id=\"T_369fe6e2_fbb8_11eb_a47c_acde48001122row5_col1\" class=\"data row5 col1\" >0.000609</td>\n",
       "            </tr>\n",
       "            <tr>\n",
       "                        <th id=\"T_369fe6e2_fbb8_11eb_a47c_acde48001122level0_row6\" class=\"row_heading level0 row6\" >age_Yes</th>\n",
       "                        <td id=\"T_369fe6e2_fbb8_11eb_a47c_acde48001122row6_col0\" class=\"data row6 col0\" >754.507236</td>\n",
       "                        <td id=\"T_369fe6e2_fbb8_11eb_a47c_acde48001122row6_col1\" class=\"data row6 col1\" >0.001061</td>\n",
       "            </tr>\n",
       "            <tr>\n",
       "                        <th id=\"T_369fe6e2_fbb8_11eb_a47c_acde48001122level0_row7\" class=\"row_heading level0 row7\" >test_indication_Other</th>\n",
       "                        <td id=\"T_369fe6e2_fbb8_11eb_a47c_acde48001122row7_col0\" class=\"data row7 col0\" >710.261205</td>\n",
       "                        <td id=\"T_369fe6e2_fbb8_11eb_a47c_acde48001122row7_col1\" class=\"data row7 col1\" >0.015208</td>\n",
       "            </tr>\n",
       "            <tr>\n",
       "                        <th id=\"T_369fe6e2_fbb8_11eb_a47c_acde48001122level0_row8\" class=\"row_heading level0 row8\" >gender_Missing</th>\n",
       "                        <td id=\"T_369fe6e2_fbb8_11eb_a47c_acde48001122row8_col0\" class=\"data row8 col0\" >661.563719</td>\n",
       "                        <td id=\"T_369fe6e2_fbb8_11eb_a47c_acde48001122row8_col1\" class=\"data row8 col1\" >0.002270</td>\n",
       "            </tr>\n",
       "            <tr>\n",
       "                        <th id=\"T_369fe6e2_fbb8_11eb_a47c_acde48001122level0_row9\" class=\"row_heading level0 row9\" >age_Missing</th>\n",
       "                        <td id=\"T_369fe6e2_fbb8_11eb_a47c_acde48001122row9_col0\" class=\"data row9 col0\" >598.631176</td>\n",
       "                        <td id=\"T_369fe6e2_fbb8_11eb_a47c_acde48001122row9_col1\" class=\"data row9 col1\" >0.001534</td>\n",
       "            </tr>\n",
       "            <tr>\n",
       "                        <th id=\"T_369fe6e2_fbb8_11eb_a47c_acde48001122level0_row10\" class=\"row_heading level0 row10\" >test_indication_Abroad</th>\n",
       "                        <td id=\"T_369fe6e2_fbb8_11eb_a47c_acde48001122row10_col0\" class=\"data row10 col0\" >550.946819</td>\n",
       "                        <td id=\"T_369fe6e2_fbb8_11eb_a47c_acde48001122row10_col1\" class=\"data row10 col1\" >0.000975</td>\n",
       "            </tr>\n",
       "            <tr>\n",
       "                        <th id=\"T_369fe6e2_fbb8_11eb_a47c_acde48001122level0_row11\" class=\"row_heading level0 row11\" >age_No</th>\n",
       "                        <td id=\"T_369fe6e2_fbb8_11eb_a47c_acde48001122row11_col0\" class=\"data row11 col0\" >393.129661</td>\n",
       "                        <td id=\"T_369fe6e2_fbb8_11eb_a47c_acde48001122row11_col1\" class=\"data row11 col1\" >0.000002</td>\n",
       "            </tr>\n",
       "            <tr>\n",
       "                        <th id=\"T_369fe6e2_fbb8_11eb_a47c_acde48001122level0_row12\" class=\"row_heading level0 row12\" >gender_Male</th>\n",
       "                        <td id=\"T_369fe6e2_fbb8_11eb_a47c_acde48001122row12_col0\" class=\"data row12 col0\" >340.249068</td>\n",
       "                        <td id=\"T_369fe6e2_fbb8_11eb_a47c_acde48001122row12_col1\" class=\"data row12 col1\" >0.000512</td>\n",
       "            </tr>\n",
       "            <tr>\n",
       "                        <th id=\"T_369fe6e2_fbb8_11eb_a47c_acde48001122level0_row13\" class=\"row_heading level0 row13\" >gender_Female</th>\n",
       "                        <td id=\"T_369fe6e2_fbb8_11eb_a47c_acde48001122row13_col0\" class=\"data row13 col0\" >209.165600</td>\n",
       "                        <td id=\"T_369fe6e2_fbb8_11eb_a47c_acde48001122row13_col1\" class=\"data row13 col1\" >0.000000</td>\n",
       "            </tr>\n",
       "    </tbody></table>"
      ],
      "text/plain": [
       "<pandas.io.formats.style.Styler at 0x7f9874d4c0a0>"
      ]
     },
     "execution_count": 241,
     "metadata": {},
     "output_type": "execute_result"
    }
   ],
   "source": [
    "# side-by-side comparison with mi\n",
    "merged = df_chi2.join(df_mi)\n",
    "merged.sort_values('SelectKBest-chi2', ascending=False).style.apply(highlight_top6)"
   ]
  },
  {
   "cell_type": "code",
   "execution_count": 242,
   "metadata": {},
   "outputs": [],
   "source": [
    "x_train_2 = select_feature.transform(x_train)\n",
    "x_test_2 = select_feature.transform(x_test)\n",
    "\n",
    "y_pred = make_y_pred(x_train_2, x_test_2, y_train)"
   ]
  },
  {
   "cell_type": "code",
   "execution_count": 243,
   "metadata": {
    "scrolled": true
   },
   "outputs": [
    {
     "data": {
      "text/html": [
       "<div>\n",
       "<style scoped>\n",
       "    .dataframe tbody tr th:only-of-type {\n",
       "        vertical-align: middle;\n",
       "    }\n",
       "\n",
       "    .dataframe tbody tr th {\n",
       "        vertical-align: top;\n",
       "    }\n",
       "\n",
       "    .dataframe thead th {\n",
       "        text-align: right;\n",
       "    }\n",
       "</style>\n",
       "<table border=\"1\" class=\"dataframe\">\n",
       "  <thead>\n",
       "    <tr style=\"text-align: right;\">\n",
       "      <th></th>\n",
       "      <th>Method</th>\n",
       "      <th>SelectedKBest-chi2</th>\n",
       "    </tr>\n",
       "  </thead>\n",
       "  <tbody>\n",
       "    <tr>\n",
       "      <th>0</th>\n",
       "      <td>Balanced Accuracy</td>\n",
       "      <td>0.831920</td>\n",
       "    </tr>\n",
       "    <tr>\n",
       "      <th>1</th>\n",
       "      <td>Sensitivity</td>\n",
       "      <td>0.993853</td>\n",
       "    </tr>\n",
       "    <tr>\n",
       "      <th>2</th>\n",
       "      <td>Specificity</td>\n",
       "      <td>0.669988</td>\n",
       "    </tr>\n",
       "    <tr>\n",
       "      <th>3</th>\n",
       "      <td>AUROC</td>\n",
       "      <td>0.831920</td>\n",
       "    </tr>\n",
       "    <tr>\n",
       "      <th>4</th>\n",
       "      <td>F1</td>\n",
       "      <td>0.657485</td>\n",
       "    </tr>\n",
       "    <tr>\n",
       "      <th>5</th>\n",
       "      <td>Geometric Mean</td>\n",
       "      <td>0.816008</td>\n",
       "    </tr>\n",
       "    <tr>\n",
       "      <th>6</th>\n",
       "      <td>Macro Average MAE</td>\n",
       "      <td>0.168080</td>\n",
       "    </tr>\n",
       "  </tbody>\n",
       "</table>\n",
       "</div>"
      ],
      "text/plain": [
       "              Method  SelectedKBest-chi2\n",
       "0  Balanced Accuracy            0.831920\n",
       "1        Sensitivity            0.993853\n",
       "2        Specificity            0.669988\n",
       "3              AUROC            0.831920\n",
       "4                 F1            0.657485\n",
       "5     Geometric Mean            0.816008\n",
       "6  Macro Average MAE            0.168080"
      ]
     },
     "execution_count": 243,
     "metadata": {},
     "output_type": "execute_result"
    }
   ],
   "source": [
    "results_select = pd.DataFrame(evaluate_imbalanced(y_test, y_pred).items(),columns=[ 'Method', 'SelectedKBest-chi2'])\n",
    "results_select"
   ]
  },
  {
   "cell_type": "code",
   "execution_count": 244,
   "metadata": {
    "scrolled": true
   },
   "outputs": [
    {
     "data": {
      "text/html": [
       "<div>\n",
       "<style scoped>\n",
       "    .dataframe tbody tr th:only-of-type {\n",
       "        vertical-align: middle;\n",
       "    }\n",
       "\n",
       "    .dataframe tbody tr th {\n",
       "        vertical-align: top;\n",
       "    }\n",
       "\n",
       "    .dataframe thead th {\n",
       "        text-align: right;\n",
       "    }\n",
       "</style>\n",
       "<table border=\"1\" class=\"dataframe\">\n",
       "  <thead>\n",
       "    <tr style=\"text-align: right;\">\n",
       "      <th></th>\n",
       "      <th>Original</th>\n",
       "      <th>SelectedKBest-chi2</th>\n",
       "      <th>%</th>\n",
       "    </tr>\n",
       "    <tr>\n",
       "      <th>Method</th>\n",
       "      <th></th>\n",
       "      <th></th>\n",
       "      <th></th>\n",
       "    </tr>\n",
       "  </thead>\n",
       "  <tbody>\n",
       "    <tr>\n",
       "      <th>Balanced Accuracy</th>\n",
       "      <td>0.824516</td>\n",
       "      <td>0.831920</td>\n",
       "      <td>0.9%</td>\n",
       "    </tr>\n",
       "    <tr>\n",
       "      <th>Sensitivity</th>\n",
       "      <td>0.994691</td>\n",
       "      <td>0.993853</td>\n",
       "      <td>-0.08%</td>\n",
       "    </tr>\n",
       "    <tr>\n",
       "      <th>Specificity</th>\n",
       "      <td>0.654340</td>\n",
       "      <td>0.669988</td>\n",
       "      <td>2.39%</td>\n",
       "    </tr>\n",
       "    <tr>\n",
       "      <th>AUROC</th>\n",
       "      <td>0.824516</td>\n",
       "      <td>0.831920</td>\n",
       "      <td>0.9%</td>\n",
       "    </tr>\n",
       "    <tr>\n",
       "      <th>F1</th>\n",
       "      <td>0.684547</td>\n",
       "      <td>0.657485</td>\n",
       "      <td>-3.95%</td>\n",
       "    </tr>\n",
       "    <tr>\n",
       "      <th>Geometric Mean</th>\n",
       "      <td>0.806763</td>\n",
       "      <td>0.816008</td>\n",
       "      <td>1.15%</td>\n",
       "    </tr>\n",
       "    <tr>\n",
       "      <th>Macro Average MAE</th>\n",
       "      <td>0.175484</td>\n",
       "      <td>0.168080</td>\n",
       "      <td>-4.22%</td>\n",
       "    </tr>\n",
       "  </tbody>\n",
       "</table>\n",
       "</div>"
      ],
      "text/plain": [
       "                   Original  SelectedKBest-chi2       %\n",
       "Method                                                 \n",
       "Balanced Accuracy  0.824516            0.831920    0.9%\n",
       "Sensitivity        0.994691            0.993853  -0.08%\n",
       "Specificity        0.654340            0.669988   2.39%\n",
       "AUROC              0.824516            0.831920    0.9%\n",
       "F1                 0.684547            0.657485  -3.95%\n",
       "Geometric Mean     0.806763            0.816008   1.15%\n",
       "Macro Average MAE  0.175484            0.168080  -4.22%"
      ]
     },
     "execution_count": 244,
     "metadata": {},
     "output_type": "execute_result"
    }
   ],
   "source": [
    "results = results_1.set_index('Method').join(results_select.set_index('Method'))\n",
    "results['%'] = (((results['SelectedKBest-chi2'] - results['Original']) / results['Original'])*100 ).round(2).astype(str) + '%'\n",
    "results"
   ]
  },
  {
   "cell_type": "code",
   "execution_count": 245,
   "metadata": {},
   "outputs": [
    {
     "data": {
      "image/png": "[encoded data removed]",
      "text/plain": [
       "<Figure size 360x360 with 2 Axes>"
      ]
     },
     "metadata": {},
     "output_type": "display_data"
    }
   ],
   "source": [
    "make_confusion_matrix(y_test,y_pred)"
   ]
  },
  {
   "cell_type": "markdown",
   "metadata": {},
   "source": [
    "## Feature selection--Wrapper method"
   ]
  },
  {
   "cell_type": "markdown",
   "metadata": {},
   "source": [
    "**Recursive feature elimination (RFE) with random forest**"
   ]
  },
  {
   "cell_type": "code",
   "execution_count": 246,
   "metadata": {},
   "outputs": [],
   "source": [
    "from sklearn.feature_selection import RFE\n",
    "# Create the RFE object and rank each pixel\n",
    "# using the same classifer as original \n",
    "model_ori = RandomForestClassifier(random_state=43)\n",
    "rfe = RFE(estimator=model_ori, n_features_to_select=6, step=1)\n",
    "rfe = rfe.fit(x_train, y_train)"
   ]
  },
  {
   "cell_type": "code",
   "execution_count": 247,
   "metadata": {
    "scrolled": false
   },
   "outputs": [
    {
     "data": {
      "text/html": [
       "<style  type=\"text/css\" >\n",
       "#T_61121eea_fbb8_11eb_a47c_acde48001122row0_col0,#T_61121eea_fbb8_11eb_a47c_acde48001122row1_col0,#T_61121eea_fbb8_11eb_a47c_acde48001122row2_col0,#T_61121eea_fbb8_11eb_a47c_acde48001122row3_col0,#T_61121eea_fbb8_11eb_a47c_acde48001122row4_col0,#T_61121eea_fbb8_11eb_a47c_acde48001122row5_col0{\n",
       "            background-color:  green;\n",
       "        }</style><table id=\"T_61121eea_fbb8_11eb_a47c_acde48001122\" ><thead>    <tr>        <th class=\"blank level0\" ></th>        <th class=\"col_heading level0 col0\" >RFE</th>    </tr></thead><tbody>\n",
       "                <tr>\n",
       "                        <th id=\"T_61121eea_fbb8_11eb_a47c_acde48001122level0_row0\" class=\"row_heading level0 row0\" >cough</th>\n",
       "                        <td id=\"T_61121eea_fbb8_11eb_a47c_acde48001122row0_col0\" class=\"data row0 col0\" >True</td>\n",
       "            </tr>\n",
       "            <tr>\n",
       "                        <th id=\"T_61121eea_fbb8_11eb_a47c_acde48001122level0_row1\" class=\"row_heading level0 row1\" >fever</th>\n",
       "                        <td id=\"T_61121eea_fbb8_11eb_a47c_acde48001122row1_col0\" class=\"data row1 col0\" >True</td>\n",
       "            </tr>\n",
       "            <tr>\n",
       "                        <th id=\"T_61121eea_fbb8_11eb_a47c_acde48001122level0_row2\" class=\"row_heading level0 row2\" >sore_throat</th>\n",
       "                        <td id=\"T_61121eea_fbb8_11eb_a47c_acde48001122row2_col0\" class=\"data row2 col0\" >True</td>\n",
       "            </tr>\n",
       "            <tr>\n",
       "                        <th id=\"T_61121eea_fbb8_11eb_a47c_acde48001122level0_row3\" class=\"row_heading level0 row3\" >head_ache</th>\n",
       "                        <td id=\"T_61121eea_fbb8_11eb_a47c_acde48001122row3_col0\" class=\"data row3 col0\" >True</td>\n",
       "            </tr>\n",
       "            <tr>\n",
       "                        <th id=\"T_61121eea_fbb8_11eb_a47c_acde48001122level0_row4\" class=\"row_heading level0 row4\" >test_indication_Contact with confirmed</th>\n",
       "                        <td id=\"T_61121eea_fbb8_11eb_a47c_acde48001122row4_col0\" class=\"data row4 col0\" >True</td>\n",
       "            </tr>\n",
       "            <tr>\n",
       "                        <th id=\"T_61121eea_fbb8_11eb_a47c_acde48001122level0_row5\" class=\"row_heading level0 row5\" >test_indication_Other</th>\n",
       "                        <td id=\"T_61121eea_fbb8_11eb_a47c_acde48001122row5_col0\" class=\"data row5 col0\" >True</td>\n",
       "            </tr>\n",
       "            <tr>\n",
       "                        <th id=\"T_61121eea_fbb8_11eb_a47c_acde48001122level0_row6\" class=\"row_heading level0 row6\" >shortness_of_breath</th>\n",
       "                        <td id=\"T_61121eea_fbb8_11eb_a47c_acde48001122row6_col0\" class=\"data row6 col0\" >False</td>\n",
       "            </tr>\n",
       "            <tr>\n",
       "                        <th id=\"T_61121eea_fbb8_11eb_a47c_acde48001122level0_row7\" class=\"row_heading level0 row7\" >age_Missing</th>\n",
       "                        <td id=\"T_61121eea_fbb8_11eb_a47c_acde48001122row7_col0\" class=\"data row7 col0\" >False</td>\n",
       "            </tr>\n",
       "            <tr>\n",
       "                        <th id=\"T_61121eea_fbb8_11eb_a47c_acde48001122level0_row8\" class=\"row_heading level0 row8\" >age_No</th>\n",
       "                        <td id=\"T_61121eea_fbb8_11eb_a47c_acde48001122row8_col0\" class=\"data row8 col0\" >False</td>\n",
       "            </tr>\n",
       "            <tr>\n",
       "                        <th id=\"T_61121eea_fbb8_11eb_a47c_acde48001122level0_row9\" class=\"row_heading level0 row9\" >age_Yes</th>\n",
       "                        <td id=\"T_61121eea_fbb8_11eb_a47c_acde48001122row9_col0\" class=\"data row9 col0\" >False</td>\n",
       "            </tr>\n",
       "            <tr>\n",
       "                        <th id=\"T_61121eea_fbb8_11eb_a47c_acde48001122level0_row10\" class=\"row_heading level0 row10\" >gender_Female</th>\n",
       "                        <td id=\"T_61121eea_fbb8_11eb_a47c_acde48001122row10_col0\" class=\"data row10 col0\" >False</td>\n",
       "            </tr>\n",
       "            <tr>\n",
       "                        <th id=\"T_61121eea_fbb8_11eb_a47c_acde48001122level0_row11\" class=\"row_heading level0 row11\" >gender_Male</th>\n",
       "                        <td id=\"T_61121eea_fbb8_11eb_a47c_acde48001122row11_col0\" class=\"data row11 col0\" >False</td>\n",
       "            </tr>\n",
       "            <tr>\n",
       "                        <th id=\"T_61121eea_fbb8_11eb_a47c_acde48001122level0_row12\" class=\"row_heading level0 row12\" >gender_Missing</th>\n",
       "                        <td id=\"T_61121eea_fbb8_11eb_a47c_acde48001122row12_col0\" class=\"data row12 col0\" >False</td>\n",
       "            </tr>\n",
       "            <tr>\n",
       "                        <th id=\"T_61121eea_fbb8_11eb_a47c_acde48001122level0_row13\" class=\"row_heading level0 row13\" >test_indication_Abroad</th>\n",
       "                        <td id=\"T_61121eea_fbb8_11eb_a47c_acde48001122row13_col0\" class=\"data row13 col0\" >False</td>\n",
       "            </tr>\n",
       "    </tbody></table>"
      ],
      "text/plain": [
       "<pandas.io.formats.style.Styler at 0x7f98b9102610>"
      ]
     },
     "execution_count": 247,
     "metadata": {},
     "output_type": "execute_result"
    }
   ],
   "source": [
    "df_rfe = pd.DataFrame(rfe.support_, index=x_train.columns, columns=['RFE'])\n",
    "df_rfe.sort_values('RFE', ascending=False).style.apply(highlight_top6)"
   ]
  },
  {
   "cell_type": "code",
   "execution_count": 248,
   "metadata": {},
   "outputs": [
    {
     "data": {
      "text/html": [
       "<style  type=\"text/css\" >\n",
       "#T_61142a28_fbb8_11eb_a47c_acde48001122row0_col0,#T_61142a28_fbb8_11eb_a47c_acde48001122row0_col1,#T_61142a28_fbb8_11eb_a47c_acde48001122row0_col2,#T_61142a28_fbb8_11eb_a47c_acde48001122row1_col0,#T_61142a28_fbb8_11eb_a47c_acde48001122row1_col1,#T_61142a28_fbb8_11eb_a47c_acde48001122row1_col2,#T_61142a28_fbb8_11eb_a47c_acde48001122row2_col0,#T_61142a28_fbb8_11eb_a47c_acde48001122row2_col1,#T_61142a28_fbb8_11eb_a47c_acde48001122row2_col2,#T_61142a28_fbb8_11eb_a47c_acde48001122row3_col0,#T_61142a28_fbb8_11eb_a47c_acde48001122row3_col1,#T_61142a28_fbb8_11eb_a47c_acde48001122row3_col2,#T_61142a28_fbb8_11eb_a47c_acde48001122row4_col0,#T_61142a28_fbb8_11eb_a47c_acde48001122row4_col1,#T_61142a28_fbb8_11eb_a47c_acde48001122row4_col2,#T_61142a28_fbb8_11eb_a47c_acde48001122row5_col1,#T_61142a28_fbb8_11eb_a47c_acde48001122row7_col0,#T_61142a28_fbb8_11eb_a47c_acde48001122row7_col2{\n",
       "            background-color:  green;\n",
       "        }</style><table id=\"T_61142a28_fbb8_11eb_a47c_acde48001122\" ><thead>    <tr>        <th class=\"blank level0\" ></th>        <th class=\"col_heading level0 col0\" >mutual_info_reg</th>        <th class=\"col_heading level0 col1\" >SelectKBest-chi2</th>        <th class=\"col_heading level0 col2\" >RFE</th>    </tr></thead><tbody>\n",
       "                <tr>\n",
       "                        <th id=\"T_61142a28_fbb8_11eb_a47c_acde48001122level0_row0\" class=\"row_heading level0 row0\" >test_indication_Contact with confirmed</th>\n",
       "                        <td id=\"T_61142a28_fbb8_11eb_a47c_acde48001122row0_col0\" class=\"data row0 col0\" >0.015279</td>\n",
       "                        <td id=\"T_61142a28_fbb8_11eb_a47c_acde48001122row0_col1\" class=\"data row0 col1\" >97792.214762</td>\n",
       "                        <td id=\"T_61142a28_fbb8_11eb_a47c_acde48001122row0_col2\" class=\"data row0 col2\" >True</td>\n",
       "            </tr>\n",
       "            <tr>\n",
       "                        <th id=\"T_61142a28_fbb8_11eb_a47c_acde48001122level0_row1\" class=\"row_heading level0 row1\" >fever</th>\n",
       "                        <td id=\"T_61142a28_fbb8_11eb_a47c_acde48001122row1_col0\" class=\"data row1 col0\" >0.009154</td>\n",
       "                        <td id=\"T_61142a28_fbb8_11eb_a47c_acde48001122row1_col1\" class=\"data row1 col1\" >70120.384480</td>\n",
       "                        <td id=\"T_61142a28_fbb8_11eb_a47c_acde48001122row1_col2\" class=\"data row1 col2\" >True</td>\n",
       "            </tr>\n",
       "            <tr>\n",
       "                        <th id=\"T_61142a28_fbb8_11eb_a47c_acde48001122level0_row2\" class=\"row_heading level0 row2\" >head_ache</th>\n",
       "                        <td id=\"T_61142a28_fbb8_11eb_a47c_acde48001122row2_col0\" class=\"data row2 col0\" >0.008361</td>\n",
       "                        <td id=\"T_61142a28_fbb8_11eb_a47c_acde48001122row2_col1\" class=\"data row2 col1\" >62286.259488</td>\n",
       "                        <td id=\"T_61142a28_fbb8_11eb_a47c_acde48001122row2_col2\" class=\"data row2 col2\" >True</td>\n",
       "            </tr>\n",
       "            <tr>\n",
       "                        <th id=\"T_61142a28_fbb8_11eb_a47c_acde48001122level0_row3\" class=\"row_heading level0 row3\" >cough</th>\n",
       "                        <td id=\"T_61142a28_fbb8_11eb_a47c_acde48001122row3_col0\" class=\"data row3 col0\" >0.009274</td>\n",
       "                        <td id=\"T_61142a28_fbb8_11eb_a47c_acde48001122row3_col1\" class=\"data row3 col1\" >56200.021071</td>\n",
       "                        <td id=\"T_61142a28_fbb8_11eb_a47c_acde48001122row3_col2\" class=\"data row3 col2\" >True</td>\n",
       "            </tr>\n",
       "            <tr>\n",
       "                        <th id=\"T_61142a28_fbb8_11eb_a47c_acde48001122level0_row4\" class=\"row_heading level0 row4\" >sore_throat</th>\n",
       "                        <td id=\"T_61142a28_fbb8_11eb_a47c_acde48001122row4_col0\" class=\"data row4 col0\" >0.006552</td>\n",
       "                        <td id=\"T_61142a28_fbb8_11eb_a47c_acde48001122row4_col1\" class=\"data row4 col1\" >30008.323534</td>\n",
       "                        <td id=\"T_61142a28_fbb8_11eb_a47c_acde48001122row4_col2\" class=\"data row4 col2\" >True</td>\n",
       "            </tr>\n",
       "            <tr>\n",
       "                        <th id=\"T_61142a28_fbb8_11eb_a47c_acde48001122level0_row5\" class=\"row_heading level0 row5\" >shortness_of_breath</th>\n",
       "                        <td id=\"T_61142a28_fbb8_11eb_a47c_acde48001122row5_col0\" class=\"data row5 col0\" >0.000609</td>\n",
       "                        <td id=\"T_61142a28_fbb8_11eb_a47c_acde48001122row5_col1\" class=\"data row5 col1\" >4462.521708</td>\n",
       "                        <td id=\"T_61142a28_fbb8_11eb_a47c_acde48001122row5_col2\" class=\"data row5 col2\" >False</td>\n",
       "            </tr>\n",
       "            <tr>\n",
       "                        <th id=\"T_61142a28_fbb8_11eb_a47c_acde48001122level0_row6\" class=\"row_heading level0 row6\" >age_Yes</th>\n",
       "                        <td id=\"T_61142a28_fbb8_11eb_a47c_acde48001122row6_col0\" class=\"data row6 col0\" >0.001061</td>\n",
       "                        <td id=\"T_61142a28_fbb8_11eb_a47c_acde48001122row6_col1\" class=\"data row6 col1\" >754.507236</td>\n",
       "                        <td id=\"T_61142a28_fbb8_11eb_a47c_acde48001122row6_col2\" class=\"data row6 col2\" >False</td>\n",
       "            </tr>\n",
       "            <tr>\n",
       "                        <th id=\"T_61142a28_fbb8_11eb_a47c_acde48001122level0_row7\" class=\"row_heading level0 row7\" >test_indication_Other</th>\n",
       "                        <td id=\"T_61142a28_fbb8_11eb_a47c_acde48001122row7_col0\" class=\"data row7 col0\" >0.015208</td>\n",
       "                        <td id=\"T_61142a28_fbb8_11eb_a47c_acde48001122row7_col1\" class=\"data row7 col1\" >710.261205</td>\n",
       "                        <td id=\"T_61142a28_fbb8_11eb_a47c_acde48001122row7_col2\" class=\"data row7 col2\" >True</td>\n",
       "            </tr>\n",
       "            <tr>\n",
       "                        <th id=\"T_61142a28_fbb8_11eb_a47c_acde48001122level0_row8\" class=\"row_heading level0 row8\" >gender_Missing</th>\n",
       "                        <td id=\"T_61142a28_fbb8_11eb_a47c_acde48001122row8_col0\" class=\"data row8 col0\" >0.002270</td>\n",
       "                        <td id=\"T_61142a28_fbb8_11eb_a47c_acde48001122row8_col1\" class=\"data row8 col1\" >661.563719</td>\n",
       "                        <td id=\"T_61142a28_fbb8_11eb_a47c_acde48001122row8_col2\" class=\"data row8 col2\" >False</td>\n",
       "            </tr>\n",
       "            <tr>\n",
       "                        <th id=\"T_61142a28_fbb8_11eb_a47c_acde48001122level0_row9\" class=\"row_heading level0 row9\" >age_Missing</th>\n",
       "                        <td id=\"T_61142a28_fbb8_11eb_a47c_acde48001122row9_col0\" class=\"data row9 col0\" >0.001534</td>\n",
       "                        <td id=\"T_61142a28_fbb8_11eb_a47c_acde48001122row9_col1\" class=\"data row9 col1\" >598.631176</td>\n",
       "                        <td id=\"T_61142a28_fbb8_11eb_a47c_acde48001122row9_col2\" class=\"data row9 col2\" >False</td>\n",
       "            </tr>\n",
       "            <tr>\n",
       "                        <th id=\"T_61142a28_fbb8_11eb_a47c_acde48001122level0_row10\" class=\"row_heading level0 row10\" >test_indication_Abroad</th>\n",
       "                        <td id=\"T_61142a28_fbb8_11eb_a47c_acde48001122row10_col0\" class=\"data row10 col0\" >0.000975</td>\n",
       "                        <td id=\"T_61142a28_fbb8_11eb_a47c_acde48001122row10_col1\" class=\"data row10 col1\" >550.946819</td>\n",
       "                        <td id=\"T_61142a28_fbb8_11eb_a47c_acde48001122row10_col2\" class=\"data row10 col2\" >False</td>\n",
       "            </tr>\n",
       "            <tr>\n",
       "                        <th id=\"T_61142a28_fbb8_11eb_a47c_acde48001122level0_row11\" class=\"row_heading level0 row11\" >age_No</th>\n",
       "                        <td id=\"T_61142a28_fbb8_11eb_a47c_acde48001122row11_col0\" class=\"data row11 col0\" >0.000002</td>\n",
       "                        <td id=\"T_61142a28_fbb8_11eb_a47c_acde48001122row11_col1\" class=\"data row11 col1\" >393.129661</td>\n",
       "                        <td id=\"T_61142a28_fbb8_11eb_a47c_acde48001122row11_col2\" class=\"data row11 col2\" >False</td>\n",
       "            </tr>\n",
       "            <tr>\n",
       "                        <th id=\"T_61142a28_fbb8_11eb_a47c_acde48001122level0_row12\" class=\"row_heading level0 row12\" >gender_Male</th>\n",
       "                        <td id=\"T_61142a28_fbb8_11eb_a47c_acde48001122row12_col0\" class=\"data row12 col0\" >0.000512</td>\n",
       "                        <td id=\"T_61142a28_fbb8_11eb_a47c_acde48001122row12_col1\" class=\"data row12 col1\" >340.249068</td>\n",
       "                        <td id=\"T_61142a28_fbb8_11eb_a47c_acde48001122row12_col2\" class=\"data row12 col2\" >False</td>\n",
       "            </tr>\n",
       "            <tr>\n",
       "                        <th id=\"T_61142a28_fbb8_11eb_a47c_acde48001122level0_row13\" class=\"row_heading level0 row13\" >gender_Female</th>\n",
       "                        <td id=\"T_61142a28_fbb8_11eb_a47c_acde48001122row13_col0\" class=\"data row13 col0\" >0.000000</td>\n",
       "                        <td id=\"T_61142a28_fbb8_11eb_a47c_acde48001122row13_col1\" class=\"data row13 col1\" >209.165600</td>\n",
       "                        <td id=\"T_61142a28_fbb8_11eb_a47c_acde48001122row13_col2\" class=\"data row13 col2\" >False</td>\n",
       "            </tr>\n",
       "    </tbody></table>"
      ],
      "text/plain": [
       "<pandas.io.formats.style.Styler at 0x7f98bde6ccd0>"
      ]
     },
     "execution_count": 248,
     "metadata": {},
     "output_type": "execute_result"
    }
   ],
   "source": [
    "merged = df_mi.join(df_chi2.join(df_rfe))\n",
    "merged.sort_values('SelectKBest-chi2', ascending=False).style.apply(highlight_top6)"
   ]
  },
  {
   "cell_type": "markdown",
   "metadata": {},
   "source": [
    "**Findings: align mostly with SelectedKBest and the same as MI**"
   ]
  },
  {
   "cell_type": "code",
   "execution_count": 249,
   "metadata": {},
   "outputs": [],
   "source": [
    "# TO DO:\n",
    "# Why MI and RFE have test_indication_other"
   ]
  },
  {
   "cell_type": "markdown",
   "metadata": {},
   "source": [
    "## <font color='red'> DO NOT RUN THE SECTION BELOW THROUGH THE RFECV TABLE, THIS WILL TAKE FOREVER</font> \n",
    "\n"
   ]
  },
  {
   "cell_type": "markdown",
   "metadata": {},
   "source": [
    "**Recursive feature elimination with cross validation and random forest classification**"
   ]
  },
  {
   "cell_type": "code",
   "execution_count": 79,
   "metadata": {},
   "outputs": [
    {
     "ename": "KeyboardInterrupt",
     "evalue": "",
     "output_type": "error",
     "traceback": [
      "\u001b[0;31m---------------------------------------------------------------------------\u001b[0m",
      "\u001b[0;31mKeyboardInterrupt\u001b[0m                         Traceback (most recent call last)",
      "\u001b[0;32m<ipython-input-79-904ea99b5d39>\u001b[0m in \u001b[0;36m<module>\u001b[0;34m\u001b[0m\n\u001b[1;32m      4\u001b[0m \u001b[0;31m# using the same classifer as original\u001b[0m\u001b[0;34m\u001b[0m\u001b[0;34m\u001b[0m\u001b[0;34m\u001b[0m\u001b[0m\n\u001b[1;32m      5\u001b[0m \u001b[0mrfecv\u001b[0m \u001b[0;34m=\u001b[0m \u001b[0mRFECV\u001b[0m\u001b[0;34m(\u001b[0m\u001b[0mestimator\u001b[0m\u001b[0;34m=\u001b[0m\u001b[0mmodel_ori\u001b[0m\u001b[0;34m,\u001b[0m \u001b[0mstep\u001b[0m\u001b[0;34m=\u001b[0m\u001b[0;36m1\u001b[0m\u001b[0;34m,\u001b[0m \u001b[0mcv\u001b[0m\u001b[0;34m=\u001b[0m\u001b[0;36m5\u001b[0m\u001b[0;34m,\u001b[0m\u001b[0mscoring\u001b[0m\u001b[0;34m=\u001b[0m\u001b[0;34m'accuracy'\u001b[0m\u001b[0;34m)\u001b[0m   \u001b[0;31m#5-fold cross-validation\u001b[0m\u001b[0;34m\u001b[0m\u001b[0;34m\u001b[0m\u001b[0m\n\u001b[0;32m----> 6\u001b[0;31m \u001b[0mrfecv\u001b[0m \u001b[0;34m=\u001b[0m \u001b[0mrfecv\u001b[0m\u001b[0;34m.\u001b[0m\u001b[0mfit\u001b[0m\u001b[0;34m(\u001b[0m\u001b[0mx_train\u001b[0m\u001b[0;34m,\u001b[0m \u001b[0my_train\u001b[0m\u001b[0;34m)\u001b[0m\u001b[0;34m\u001b[0m\u001b[0;34m\u001b[0m\u001b[0m\n\u001b[0m",
      "\u001b[0;32m~/opt/anaconda3/lib/python3.8/site-packages/sklearn/feature_selection/_rfe.py\u001b[0m in \u001b[0;36mfit\u001b[0;34m(self, X, y, groups)\u001b[0m\n\u001b[1;32m    603\u001b[0m             \u001b[0mfunc\u001b[0m \u001b[0;34m=\u001b[0m \u001b[0mdelayed\u001b[0m\u001b[0;34m(\u001b[0m\u001b[0m_rfe_single_fit\u001b[0m\u001b[0;34m)\u001b[0m\u001b[0;34m\u001b[0m\u001b[0;34m\u001b[0m\u001b[0m\n\u001b[1;32m    604\u001b[0m \u001b[0;34m\u001b[0m\u001b[0m\n\u001b[0;32m--> 605\u001b[0;31m         scores = parallel(\n\u001b[0m\u001b[1;32m    606\u001b[0m             \u001b[0mfunc\u001b[0m\u001b[0;34m(\u001b[0m\u001b[0mrfe\u001b[0m\u001b[0;34m,\u001b[0m \u001b[0mself\u001b[0m\u001b[0;34m.\u001b[0m\u001b[0mestimator\u001b[0m\u001b[0;34m,\u001b[0m \u001b[0mX\u001b[0m\u001b[0;34m,\u001b[0m \u001b[0my\u001b[0m\u001b[0;34m,\u001b[0m \u001b[0mtrain\u001b[0m\u001b[0;34m,\u001b[0m \u001b[0mtest\u001b[0m\u001b[0;34m,\u001b[0m \u001b[0mscorer\u001b[0m\u001b[0;34m)\u001b[0m\u001b[0;34m\u001b[0m\u001b[0;34m\u001b[0m\u001b[0m\n\u001b[1;32m    607\u001b[0m             for train, test in cv.split(X, y, groups))\n",
      "\u001b[0;32m~/opt/anaconda3/lib/python3.8/site-packages/sklearn/feature_selection/_rfe.py\u001b[0m in \u001b[0;36m<genexpr>\u001b[0;34m(.0)\u001b[0m\n\u001b[1;32m    604\u001b[0m \u001b[0;34m\u001b[0m\u001b[0m\n\u001b[1;32m    605\u001b[0m         scores = parallel(\n\u001b[0;32m--> 606\u001b[0;31m             \u001b[0mfunc\u001b[0m\u001b[0;34m(\u001b[0m\u001b[0mrfe\u001b[0m\u001b[0;34m,\u001b[0m \u001b[0mself\u001b[0m\u001b[0;34m.\u001b[0m\u001b[0mestimator\u001b[0m\u001b[0;34m,\u001b[0m \u001b[0mX\u001b[0m\u001b[0;34m,\u001b[0m \u001b[0my\u001b[0m\u001b[0;34m,\u001b[0m \u001b[0mtrain\u001b[0m\u001b[0;34m,\u001b[0m \u001b[0mtest\u001b[0m\u001b[0;34m,\u001b[0m \u001b[0mscorer\u001b[0m\u001b[0;34m)\u001b[0m\u001b[0;34m\u001b[0m\u001b[0;34m\u001b[0m\u001b[0m\n\u001b[0m\u001b[1;32m    607\u001b[0m             for train, test in cv.split(X, y, groups))\n\u001b[1;32m    608\u001b[0m \u001b[0;34m\u001b[0m\u001b[0m\n",
      "\u001b[0;32m~/opt/anaconda3/lib/python3.8/site-packages/sklearn/feature_selection/_rfe.py\u001b[0m in \u001b[0;36m_rfe_single_fit\u001b[0;34m(rfe, estimator, X, y, train, test, scorer)\u001b[0m\n\u001b[1;32m     35\u001b[0m     \u001b[0mX_train\u001b[0m\u001b[0;34m,\u001b[0m \u001b[0my_train\u001b[0m \u001b[0;34m=\u001b[0m \u001b[0m_safe_split\u001b[0m\u001b[0;34m(\u001b[0m\u001b[0mestimator\u001b[0m\u001b[0;34m,\u001b[0m \u001b[0mX\u001b[0m\u001b[0;34m,\u001b[0m \u001b[0my\u001b[0m\u001b[0;34m,\u001b[0m \u001b[0mtrain\u001b[0m\u001b[0;34m)\u001b[0m\u001b[0;34m\u001b[0m\u001b[0;34m\u001b[0m\u001b[0m\n\u001b[1;32m     36\u001b[0m     \u001b[0mX_test\u001b[0m\u001b[0;34m,\u001b[0m \u001b[0my_test\u001b[0m \u001b[0;34m=\u001b[0m \u001b[0m_safe_split\u001b[0m\u001b[0;34m(\u001b[0m\u001b[0mestimator\u001b[0m\u001b[0;34m,\u001b[0m \u001b[0mX\u001b[0m\u001b[0;34m,\u001b[0m \u001b[0my\u001b[0m\u001b[0;34m,\u001b[0m \u001b[0mtest\u001b[0m\u001b[0;34m,\u001b[0m \u001b[0mtrain\u001b[0m\u001b[0;34m)\u001b[0m\u001b[0;34m\u001b[0m\u001b[0;34m\u001b[0m\u001b[0m\n\u001b[0;32m---> 37\u001b[0;31m     return rfe._fit(\n\u001b[0m\u001b[1;32m     38\u001b[0m         \u001b[0mX_train\u001b[0m\u001b[0;34m,\u001b[0m \u001b[0my_train\u001b[0m\u001b[0;34m,\u001b[0m\u001b[0;34m\u001b[0m\u001b[0;34m\u001b[0m\u001b[0m\n\u001b[1;32m     39\u001b[0m         lambda estimator, features: _score(\n",
      "\u001b[0;32m~/opt/anaconda3/lib/python3.8/site-packages/sklearn/feature_selection/_rfe.py\u001b[0m in \u001b[0;36m_fit\u001b[0;34m(self, X, y, step_score)\u001b[0m\n\u001b[1;32m    257\u001b[0m             \u001b[0;31m# that have not been eliminated yet\u001b[0m\u001b[0;34m\u001b[0m\u001b[0;34m\u001b[0m\u001b[0;34m\u001b[0m\u001b[0m\n\u001b[1;32m    258\u001b[0m             \u001b[0;32mif\u001b[0m \u001b[0mstep_score\u001b[0m\u001b[0;34m:\u001b[0m\u001b[0;34m\u001b[0m\u001b[0;34m\u001b[0m\u001b[0m\n\u001b[0;32m--> 259\u001b[0;31m                 \u001b[0mself\u001b[0m\u001b[0;34m.\u001b[0m\u001b[0mscores_\u001b[0m\u001b[0;34m.\u001b[0m\u001b[0mappend\u001b[0m\u001b[0;34m(\u001b[0m\u001b[0mstep_score\u001b[0m\u001b[0;34m(\u001b[0m\u001b[0mestimator\u001b[0m\u001b[0;34m,\u001b[0m \u001b[0mfeatures\u001b[0m\u001b[0;34m)\u001b[0m\u001b[0;34m)\u001b[0m\u001b[0;34m\u001b[0m\u001b[0;34m\u001b[0m\u001b[0m\n\u001b[0m\u001b[1;32m    260\u001b[0m             \u001b[0msupport_\u001b[0m\u001b[0;34m[\u001b[0m\u001b[0mfeatures\u001b[0m\u001b[0;34m[\u001b[0m\u001b[0mranks\u001b[0m\u001b[0;34m]\u001b[0m\u001b[0;34m[\u001b[0m\u001b[0;34m:\u001b[0m\u001b[0mthreshold\u001b[0m\u001b[0;34m]\u001b[0m\u001b[0;34m]\u001b[0m \u001b[0;34m=\u001b[0m \u001b[0;32mFalse\u001b[0m\u001b[0;34m\u001b[0m\u001b[0;34m\u001b[0m\u001b[0m\n\u001b[1;32m    261\u001b[0m             \u001b[0mranking_\u001b[0m\u001b[0;34m[\u001b[0m\u001b[0mnp\u001b[0m\u001b[0;34m.\u001b[0m\u001b[0mlogical_not\u001b[0m\u001b[0;34m(\u001b[0m\u001b[0msupport_\u001b[0m\u001b[0;34m)\u001b[0m\u001b[0;34m]\u001b[0m \u001b[0;34m+=\u001b[0m \u001b[0;36m1\u001b[0m\u001b[0;34m\u001b[0m\u001b[0;34m\u001b[0m\u001b[0m\n",
      "\u001b[0;32m~/opt/anaconda3/lib/python3.8/site-packages/sklearn/feature_selection/_rfe.py\u001b[0m in \u001b[0;36m<lambda>\u001b[0;34m(estimator, features)\u001b[0m\n\u001b[1;32m     37\u001b[0m     return rfe._fit(\n\u001b[1;32m     38\u001b[0m         \u001b[0mX_train\u001b[0m\u001b[0;34m,\u001b[0m \u001b[0my_train\u001b[0m\u001b[0;34m,\u001b[0m\u001b[0;34m\u001b[0m\u001b[0;34m\u001b[0m\u001b[0m\n\u001b[0;32m---> 39\u001b[0;31m         lambda estimator, features: _score(\n\u001b[0m\u001b[1;32m     40\u001b[0m             \u001b[0mestimator\u001b[0m\u001b[0;34m,\u001b[0m \u001b[0mX_test\u001b[0m\u001b[0;34m[\u001b[0m\u001b[0;34m:\u001b[0m\u001b[0;34m,\u001b[0m \u001b[0mfeatures\u001b[0m\u001b[0;34m]\u001b[0m\u001b[0;34m,\u001b[0m \u001b[0my_test\u001b[0m\u001b[0;34m,\u001b[0m \u001b[0mscorer\u001b[0m\u001b[0;34m\u001b[0m\u001b[0;34m\u001b[0m\u001b[0m\n\u001b[1;32m     41\u001b[0m         )).scores_\n",
      "\u001b[0;32m~/opt/anaconda3/lib/python3.8/site-packages/sklearn/model_selection/_validation.py\u001b[0m in \u001b[0;36m_score\u001b[0;34m(estimator, X_test, y_test, scorer, error_score)\u001b[0m\n\u001b[1;32m    685\u001b[0m             \u001b[0mscores\u001b[0m \u001b[0;34m=\u001b[0m \u001b[0mscorer\u001b[0m\u001b[0;34m(\u001b[0m\u001b[0mestimator\u001b[0m\u001b[0;34m,\u001b[0m \u001b[0mX_test\u001b[0m\u001b[0;34m)\u001b[0m\u001b[0;34m\u001b[0m\u001b[0;34m\u001b[0m\u001b[0m\n\u001b[1;32m    686\u001b[0m         \u001b[0;32melse\u001b[0m\u001b[0;34m:\u001b[0m\u001b[0;34m\u001b[0m\u001b[0;34m\u001b[0m\u001b[0m\n\u001b[0;32m--> 687\u001b[0;31m             \u001b[0mscores\u001b[0m \u001b[0;34m=\u001b[0m \u001b[0mscorer\u001b[0m\u001b[0;34m(\u001b[0m\u001b[0mestimator\u001b[0m\u001b[0;34m,\u001b[0m \u001b[0mX_test\u001b[0m\u001b[0;34m,\u001b[0m \u001b[0my_test\u001b[0m\u001b[0;34m)\u001b[0m\u001b[0;34m\u001b[0m\u001b[0;34m\u001b[0m\u001b[0m\n\u001b[0m\u001b[1;32m    688\u001b[0m     \u001b[0;32mexcept\u001b[0m \u001b[0mException\u001b[0m\u001b[0;34m:\u001b[0m\u001b[0;34m\u001b[0m\u001b[0;34m\u001b[0m\u001b[0m\n\u001b[1;32m    689\u001b[0m         \u001b[0;32mif\u001b[0m \u001b[0merror_score\u001b[0m \u001b[0;34m==\u001b[0m \u001b[0;34m'raise'\u001b[0m\u001b[0;34m:\u001b[0m\u001b[0;34m\u001b[0m\u001b[0;34m\u001b[0m\u001b[0m\n",
      "\u001b[0;32m~/opt/anaconda3/lib/python3.8/site-packages/sklearn/metrics/_scorer.py\u001b[0m in \u001b[0;36m__call__\u001b[0;34m(self, estimator, X, y_true, sample_weight)\u001b[0m\n\u001b[1;32m    197\u001b[0m             \u001b[0mScore\u001b[0m \u001b[0mfunction\u001b[0m \u001b[0mapplied\u001b[0m \u001b[0mto\u001b[0m \u001b[0mprediction\u001b[0m \u001b[0mof\u001b[0m \u001b[0mestimator\u001b[0m \u001b[0mon\u001b[0m \u001b[0mX\u001b[0m\u001b[0;34m.\u001b[0m\u001b[0;34m\u001b[0m\u001b[0;34m\u001b[0m\u001b[0m\n\u001b[1;32m    198\u001b[0m         \"\"\"\n\u001b[0;32m--> 199\u001b[0;31m         return self._score(partial(_cached_call, None), estimator, X, y_true,\n\u001b[0m\u001b[1;32m    200\u001b[0m                            sample_weight=sample_weight)\n\u001b[1;32m    201\u001b[0m \u001b[0;34m\u001b[0m\u001b[0m\n",
      "\u001b[0;32m~/opt/anaconda3/lib/python3.8/site-packages/sklearn/metrics/_scorer.py\u001b[0m in \u001b[0;36m_score\u001b[0;34m(self, method_caller, estimator, X, y_true, sample_weight)\u001b[0m\n\u001b[1;32m    234\u001b[0m         \"\"\"\n\u001b[1;32m    235\u001b[0m \u001b[0;34m\u001b[0m\u001b[0m\n\u001b[0;32m--> 236\u001b[0;31m         \u001b[0my_pred\u001b[0m \u001b[0;34m=\u001b[0m \u001b[0mmethod_caller\u001b[0m\u001b[0;34m(\u001b[0m\u001b[0mestimator\u001b[0m\u001b[0;34m,\u001b[0m \u001b[0;34m\"predict\"\u001b[0m\u001b[0;34m,\u001b[0m \u001b[0mX\u001b[0m\u001b[0;34m)\u001b[0m\u001b[0;34m\u001b[0m\u001b[0;34m\u001b[0m\u001b[0m\n\u001b[0m\u001b[1;32m    237\u001b[0m         \u001b[0;32mif\u001b[0m \u001b[0msample_weight\u001b[0m \u001b[0;32mis\u001b[0m \u001b[0;32mnot\u001b[0m \u001b[0;32mNone\u001b[0m\u001b[0;34m:\u001b[0m\u001b[0;34m\u001b[0m\u001b[0;34m\u001b[0m\u001b[0m\n\u001b[1;32m    238\u001b[0m             return self._sign * self._score_func(y_true, y_pred,\n",
      "\u001b[0;32m~/opt/anaconda3/lib/python3.8/site-packages/sklearn/metrics/_scorer.py\u001b[0m in \u001b[0;36m_cached_call\u001b[0;34m(cache, estimator, method, *args, **kwargs)\u001b[0m\n\u001b[1;32m     51\u001b[0m     \u001b[0;34m\"\"\"Call estimator with method and args and kwargs.\"\"\"\u001b[0m\u001b[0;34m\u001b[0m\u001b[0;34m\u001b[0m\u001b[0m\n\u001b[1;32m     52\u001b[0m     \u001b[0;32mif\u001b[0m \u001b[0mcache\u001b[0m \u001b[0;32mis\u001b[0m \u001b[0;32mNone\u001b[0m\u001b[0;34m:\u001b[0m\u001b[0;34m\u001b[0m\u001b[0;34m\u001b[0m\u001b[0m\n\u001b[0;32m---> 53\u001b[0;31m         \u001b[0;32mreturn\u001b[0m \u001b[0mgetattr\u001b[0m\u001b[0;34m(\u001b[0m\u001b[0mestimator\u001b[0m\u001b[0;34m,\u001b[0m \u001b[0mmethod\u001b[0m\u001b[0;34m)\u001b[0m\u001b[0;34m(\u001b[0m\u001b[0;34m*\u001b[0m\u001b[0margs\u001b[0m\u001b[0;34m,\u001b[0m \u001b[0;34m**\u001b[0m\u001b[0mkwargs\u001b[0m\u001b[0;34m)\u001b[0m\u001b[0;34m\u001b[0m\u001b[0;34m\u001b[0m\u001b[0m\n\u001b[0m\u001b[1;32m     54\u001b[0m \u001b[0;34m\u001b[0m\u001b[0m\n\u001b[1;32m     55\u001b[0m     \u001b[0;32mtry\u001b[0m\u001b[0;34m:\u001b[0m\u001b[0;34m\u001b[0m\u001b[0;34m\u001b[0m\u001b[0m\n",
      "\u001b[0;32m~/opt/anaconda3/lib/python3.8/site-packages/sklearn/ensemble/_forest.py\u001b[0m in \u001b[0;36mpredict\u001b[0;34m(self, X)\u001b[0m\n\u001b[1;32m    628\u001b[0m             \u001b[0mThe\u001b[0m \u001b[0mpredicted\u001b[0m \u001b[0mclasses\u001b[0m\u001b[0;34m.\u001b[0m\u001b[0;34m\u001b[0m\u001b[0;34m\u001b[0m\u001b[0m\n\u001b[1;32m    629\u001b[0m         \"\"\"\n\u001b[0;32m--> 630\u001b[0;31m         \u001b[0mproba\u001b[0m \u001b[0;34m=\u001b[0m \u001b[0mself\u001b[0m\u001b[0;34m.\u001b[0m\u001b[0mpredict_proba\u001b[0m\u001b[0;34m(\u001b[0m\u001b[0mX\u001b[0m\u001b[0;34m)\u001b[0m\u001b[0;34m\u001b[0m\u001b[0;34m\u001b[0m\u001b[0m\n\u001b[0m\u001b[1;32m    631\u001b[0m \u001b[0;34m\u001b[0m\u001b[0m\n\u001b[1;32m    632\u001b[0m         \u001b[0;32mif\u001b[0m \u001b[0mself\u001b[0m\u001b[0;34m.\u001b[0m\u001b[0mn_outputs_\u001b[0m \u001b[0;34m==\u001b[0m \u001b[0;36m1\u001b[0m\u001b[0;34m:\u001b[0m\u001b[0;34m\u001b[0m\u001b[0;34m\u001b[0m\u001b[0m\n",
      "\u001b[0;32m~/opt/anaconda3/lib/python3.8/site-packages/sklearn/ensemble/_forest.py\u001b[0m in \u001b[0;36mpredict_proba\u001b[0;34m(self, X)\u001b[0m\n\u001b[1;32m    681\u001b[0m                      for j in np.atleast_1d(self.n_classes_)]\n\u001b[1;32m    682\u001b[0m         \u001b[0mlock\u001b[0m \u001b[0;34m=\u001b[0m \u001b[0mthreading\u001b[0m\u001b[0;34m.\u001b[0m\u001b[0mLock\u001b[0m\u001b[0;34m(\u001b[0m\u001b[0;34m)\u001b[0m\u001b[0;34m\u001b[0m\u001b[0;34m\u001b[0m\u001b[0m\n\u001b[0;32m--> 683\u001b[0;31m         Parallel(n_jobs=n_jobs, verbose=self.verbose,\n\u001b[0m\u001b[1;32m    684\u001b[0m                  \u001b[0;34m**\u001b[0m\u001b[0m_joblib_parallel_args\u001b[0m\u001b[0;34m(\u001b[0m\u001b[0mrequire\u001b[0m\u001b[0;34m=\u001b[0m\u001b[0;34m\"sharedmem\"\u001b[0m\u001b[0;34m)\u001b[0m\u001b[0;34m)\u001b[0m\u001b[0;34m(\u001b[0m\u001b[0;34m\u001b[0m\u001b[0;34m\u001b[0m\u001b[0m\n\u001b[1;32m    685\u001b[0m             delayed(_accumulate_prediction)(e.predict_proba, X, all_proba,\n",
      "\u001b[0;32m~/opt/anaconda3/lib/python3.8/site-packages/joblib/parallel.py\u001b[0m in \u001b[0;36m__call__\u001b[0;34m(self, iterable)\u001b[0m\n\u001b[1;32m   1049\u001b[0m                 \u001b[0mself\u001b[0m\u001b[0;34m.\u001b[0m\u001b[0m_iterating\u001b[0m \u001b[0;34m=\u001b[0m \u001b[0mself\u001b[0m\u001b[0;34m.\u001b[0m\u001b[0m_original_iterator\u001b[0m \u001b[0;32mis\u001b[0m \u001b[0;32mnot\u001b[0m \u001b[0;32mNone\u001b[0m\u001b[0;34m\u001b[0m\u001b[0;34m\u001b[0m\u001b[0m\n\u001b[1;32m   1050\u001b[0m \u001b[0;34m\u001b[0m\u001b[0m\n\u001b[0;32m-> 1051\u001b[0;31m             \u001b[0;32mwhile\u001b[0m \u001b[0mself\u001b[0m\u001b[0;34m.\u001b[0m\u001b[0mdispatch_one_batch\u001b[0m\u001b[0;34m(\u001b[0m\u001b[0miterator\u001b[0m\u001b[0;34m)\u001b[0m\u001b[0;34m:\u001b[0m\u001b[0;34m\u001b[0m\u001b[0;34m\u001b[0m\u001b[0m\n\u001b[0m\u001b[1;32m   1052\u001b[0m                 \u001b[0;32mpass\u001b[0m\u001b[0;34m\u001b[0m\u001b[0;34m\u001b[0m\u001b[0m\n\u001b[1;32m   1053\u001b[0m \u001b[0;34m\u001b[0m\u001b[0m\n",
      "\u001b[0;32m~/opt/anaconda3/lib/python3.8/site-packages/joblib/parallel.py\u001b[0m in \u001b[0;36mdispatch_one_batch\u001b[0;34m(self, iterator)\u001b[0m\n\u001b[1;32m    864\u001b[0m                 \u001b[0;32mreturn\u001b[0m \u001b[0;32mFalse\u001b[0m\u001b[0;34m\u001b[0m\u001b[0;34m\u001b[0m\u001b[0m\n\u001b[1;32m    865\u001b[0m             \u001b[0;32melse\u001b[0m\u001b[0;34m:\u001b[0m\u001b[0;34m\u001b[0m\u001b[0;34m\u001b[0m\u001b[0m\n\u001b[0;32m--> 866\u001b[0;31m                 \u001b[0mself\u001b[0m\u001b[0;34m.\u001b[0m\u001b[0m_dispatch\u001b[0m\u001b[0;34m(\u001b[0m\u001b[0mtasks\u001b[0m\u001b[0;34m)\u001b[0m\u001b[0;34m\u001b[0m\u001b[0;34m\u001b[0m\u001b[0m\n\u001b[0m\u001b[1;32m    867\u001b[0m                 \u001b[0;32mreturn\u001b[0m \u001b[0;32mTrue\u001b[0m\u001b[0;34m\u001b[0m\u001b[0;34m\u001b[0m\u001b[0m\n\u001b[1;32m    868\u001b[0m \u001b[0;34m\u001b[0m\u001b[0m\n",
      "\u001b[0;32m~/opt/anaconda3/lib/python3.8/site-packages/joblib/parallel.py\u001b[0m in \u001b[0;36m_dispatch\u001b[0;34m(self, batch)\u001b[0m\n\u001b[1;32m    782\u001b[0m         \u001b[0;32mwith\u001b[0m \u001b[0mself\u001b[0m\u001b[0;34m.\u001b[0m\u001b[0m_lock\u001b[0m\u001b[0;34m:\u001b[0m\u001b[0;34m\u001b[0m\u001b[0;34m\u001b[0m\u001b[0m\n\u001b[1;32m    783\u001b[0m             \u001b[0mjob_idx\u001b[0m \u001b[0;34m=\u001b[0m \u001b[0mlen\u001b[0m\u001b[0;34m(\u001b[0m\u001b[0mself\u001b[0m\u001b[0;34m.\u001b[0m\u001b[0m_jobs\u001b[0m\u001b[0;34m)\u001b[0m\u001b[0;34m\u001b[0m\u001b[0;34m\u001b[0m\u001b[0m\n\u001b[0;32m--> 784\u001b[0;31m             \u001b[0mjob\u001b[0m \u001b[0;34m=\u001b[0m \u001b[0mself\u001b[0m\u001b[0;34m.\u001b[0m\u001b[0m_backend\u001b[0m\u001b[0;34m.\u001b[0m\u001b[0mapply_async\u001b[0m\u001b[0;34m(\u001b[0m\u001b[0mbatch\u001b[0m\u001b[0;34m,\u001b[0m \u001b[0mcallback\u001b[0m\u001b[0;34m=\u001b[0m\u001b[0mcb\u001b[0m\u001b[0;34m)\u001b[0m\u001b[0;34m\u001b[0m\u001b[0;34m\u001b[0m\u001b[0m\n\u001b[0m\u001b[1;32m    785\u001b[0m             \u001b[0;31m# A job can complete so quickly than its callback is\u001b[0m\u001b[0;34m\u001b[0m\u001b[0;34m\u001b[0m\u001b[0;34m\u001b[0m\u001b[0m\n\u001b[1;32m    786\u001b[0m             \u001b[0;31m# called before we get here, causing self._jobs to\u001b[0m\u001b[0;34m\u001b[0m\u001b[0;34m\u001b[0m\u001b[0;34m\u001b[0m\u001b[0m\n",
      "\u001b[0;32m~/opt/anaconda3/lib/python3.8/site-packages/joblib/_parallel_backends.py\u001b[0m in \u001b[0;36mapply_async\u001b[0;34m(self, func, callback)\u001b[0m\n\u001b[1;32m    206\u001b[0m     \u001b[0;32mdef\u001b[0m \u001b[0mapply_async\u001b[0m\u001b[0;34m(\u001b[0m\u001b[0mself\u001b[0m\u001b[0;34m,\u001b[0m \u001b[0mfunc\u001b[0m\u001b[0;34m,\u001b[0m \u001b[0mcallback\u001b[0m\u001b[0;34m=\u001b[0m\u001b[0;32mNone\u001b[0m\u001b[0;34m)\u001b[0m\u001b[0;34m:\u001b[0m\u001b[0;34m\u001b[0m\u001b[0;34m\u001b[0m\u001b[0m\n\u001b[1;32m    207\u001b[0m         \u001b[0;34m\"\"\"Schedule a func to be run\"\"\"\u001b[0m\u001b[0;34m\u001b[0m\u001b[0;34m\u001b[0m\u001b[0m\n\u001b[0;32m--> 208\u001b[0;31m         \u001b[0mresult\u001b[0m \u001b[0;34m=\u001b[0m \u001b[0mImmediateResult\u001b[0m\u001b[0;34m(\u001b[0m\u001b[0mfunc\u001b[0m\u001b[0;34m)\u001b[0m\u001b[0;34m\u001b[0m\u001b[0;34m\u001b[0m\u001b[0m\n\u001b[0m\u001b[1;32m    209\u001b[0m         \u001b[0;32mif\u001b[0m \u001b[0mcallback\u001b[0m\u001b[0;34m:\u001b[0m\u001b[0;34m\u001b[0m\u001b[0;34m\u001b[0m\u001b[0m\n\u001b[1;32m    210\u001b[0m             \u001b[0mcallback\u001b[0m\u001b[0;34m(\u001b[0m\u001b[0mresult\u001b[0m\u001b[0;34m)\u001b[0m\u001b[0;34m\u001b[0m\u001b[0;34m\u001b[0m\u001b[0m\n",
      "\u001b[0;32m~/opt/anaconda3/lib/python3.8/site-packages/joblib/_parallel_backends.py\u001b[0m in \u001b[0;36m__init__\u001b[0;34m(self, batch)\u001b[0m\n\u001b[1;32m    570\u001b[0m         \u001b[0;31m# Don't delay the application, to avoid keeping the input\u001b[0m\u001b[0;34m\u001b[0m\u001b[0;34m\u001b[0m\u001b[0;34m\u001b[0m\u001b[0m\n\u001b[1;32m    571\u001b[0m         \u001b[0;31m# arguments in memory\u001b[0m\u001b[0;34m\u001b[0m\u001b[0;34m\u001b[0m\u001b[0;34m\u001b[0m\u001b[0m\n\u001b[0;32m--> 572\u001b[0;31m         \u001b[0mself\u001b[0m\u001b[0;34m.\u001b[0m\u001b[0mresults\u001b[0m \u001b[0;34m=\u001b[0m \u001b[0mbatch\u001b[0m\u001b[0;34m(\u001b[0m\u001b[0;34m)\u001b[0m\u001b[0;34m\u001b[0m\u001b[0;34m\u001b[0m\u001b[0m\n\u001b[0m\u001b[1;32m    573\u001b[0m \u001b[0;34m\u001b[0m\u001b[0m\n\u001b[1;32m    574\u001b[0m     \u001b[0;32mdef\u001b[0m \u001b[0mget\u001b[0m\u001b[0;34m(\u001b[0m\u001b[0mself\u001b[0m\u001b[0;34m)\u001b[0m\u001b[0;34m:\u001b[0m\u001b[0;34m\u001b[0m\u001b[0;34m\u001b[0m\u001b[0m\n",
      "\u001b[0;32m~/opt/anaconda3/lib/python3.8/site-packages/joblib/parallel.py\u001b[0m in \u001b[0;36m__call__\u001b[0;34m(self)\u001b[0m\n\u001b[1;32m    260\u001b[0m         \u001b[0;31m# change the default number of processes to -1\u001b[0m\u001b[0;34m\u001b[0m\u001b[0;34m\u001b[0m\u001b[0;34m\u001b[0m\u001b[0m\n\u001b[1;32m    261\u001b[0m         \u001b[0;32mwith\u001b[0m \u001b[0mparallel_backend\u001b[0m\u001b[0;34m(\u001b[0m\u001b[0mself\u001b[0m\u001b[0;34m.\u001b[0m\u001b[0m_backend\u001b[0m\u001b[0;34m,\u001b[0m \u001b[0mn_jobs\u001b[0m\u001b[0;34m=\u001b[0m\u001b[0mself\u001b[0m\u001b[0;34m.\u001b[0m\u001b[0m_n_jobs\u001b[0m\u001b[0;34m)\u001b[0m\u001b[0;34m:\u001b[0m\u001b[0;34m\u001b[0m\u001b[0;34m\u001b[0m\u001b[0m\n\u001b[0;32m--> 262\u001b[0;31m             return [func(*args, **kwargs)\n\u001b[0m\u001b[1;32m    263\u001b[0m                     for func, args, kwargs in self.items]\n\u001b[1;32m    264\u001b[0m \u001b[0;34m\u001b[0m\u001b[0m\n",
      "\u001b[0;32m~/opt/anaconda3/lib/python3.8/site-packages/joblib/parallel.py\u001b[0m in \u001b[0;36m<listcomp>\u001b[0;34m(.0)\u001b[0m\n\u001b[1;32m    260\u001b[0m         \u001b[0;31m# change the default number of processes to -1\u001b[0m\u001b[0;34m\u001b[0m\u001b[0;34m\u001b[0m\u001b[0;34m\u001b[0m\u001b[0m\n\u001b[1;32m    261\u001b[0m         \u001b[0;32mwith\u001b[0m \u001b[0mparallel_backend\u001b[0m\u001b[0;34m(\u001b[0m\u001b[0mself\u001b[0m\u001b[0;34m.\u001b[0m\u001b[0m_backend\u001b[0m\u001b[0;34m,\u001b[0m \u001b[0mn_jobs\u001b[0m\u001b[0;34m=\u001b[0m\u001b[0mself\u001b[0m\u001b[0;34m.\u001b[0m\u001b[0m_n_jobs\u001b[0m\u001b[0;34m)\u001b[0m\u001b[0;34m:\u001b[0m\u001b[0;34m\u001b[0m\u001b[0;34m\u001b[0m\u001b[0m\n\u001b[0;32m--> 262\u001b[0;31m             return [func(*args, **kwargs)\n\u001b[0m\u001b[1;32m    263\u001b[0m                     for func, args, kwargs in self.items]\n\u001b[1;32m    264\u001b[0m \u001b[0;34m\u001b[0m\u001b[0m\n",
      "\u001b[0;32m~/opt/anaconda3/lib/python3.8/site-packages/sklearn/utils/fixes.py\u001b[0m in \u001b[0;36m__call__\u001b[0;34m(self, *args, **kwargs)\u001b[0m\n\u001b[1;32m    220\u001b[0m     \u001b[0;32mdef\u001b[0m \u001b[0m__call__\u001b[0m\u001b[0;34m(\u001b[0m\u001b[0mself\u001b[0m\u001b[0;34m,\u001b[0m \u001b[0;34m*\u001b[0m\u001b[0margs\u001b[0m\u001b[0;34m,\u001b[0m \u001b[0;34m**\u001b[0m\u001b[0mkwargs\u001b[0m\u001b[0;34m)\u001b[0m\u001b[0;34m:\u001b[0m\u001b[0;34m\u001b[0m\u001b[0;34m\u001b[0m\u001b[0m\n\u001b[1;32m    221\u001b[0m         \u001b[0;32mwith\u001b[0m \u001b[0mconfig_context\u001b[0m\u001b[0;34m(\u001b[0m\u001b[0;34m**\u001b[0m\u001b[0mself\u001b[0m\u001b[0;34m.\u001b[0m\u001b[0mconfig\u001b[0m\u001b[0;34m)\u001b[0m\u001b[0;34m:\u001b[0m\u001b[0;34m\u001b[0m\u001b[0;34m\u001b[0m\u001b[0m\n\u001b[0;32m--> 222\u001b[0;31m             \u001b[0;32mreturn\u001b[0m \u001b[0mself\u001b[0m\u001b[0;34m.\u001b[0m\u001b[0mfunction\u001b[0m\u001b[0;34m(\u001b[0m\u001b[0;34m*\u001b[0m\u001b[0margs\u001b[0m\u001b[0;34m,\u001b[0m \u001b[0;34m**\u001b[0m\u001b[0mkwargs\u001b[0m\u001b[0;34m)\u001b[0m\u001b[0;34m\u001b[0m\u001b[0;34m\u001b[0m\u001b[0m\n\u001b[0m",
      "\u001b[0;32m~/opt/anaconda3/lib/python3.8/site-packages/sklearn/ensemble/_forest.py\u001b[0m in \u001b[0;36m_accumulate_prediction\u001b[0;34m(predict, X, out, lock)\u001b[0m\n\u001b[1;32m    465\u001b[0m     \u001b[0mcomplains\u001b[0m \u001b[0mthat\u001b[0m \u001b[0mit\u001b[0m \u001b[0mcannot\u001b[0m \u001b[0mpickle\u001b[0m \u001b[0mit\u001b[0m \u001b[0mwhen\u001b[0m \u001b[0mplaced\u001b[0m \u001b[0mthere\u001b[0m\u001b[0;34m.\u001b[0m\u001b[0;34m\u001b[0m\u001b[0;34m\u001b[0m\u001b[0m\n\u001b[1;32m    466\u001b[0m     \"\"\"\n\u001b[0;32m--> 467\u001b[0;31m     \u001b[0mprediction\u001b[0m \u001b[0;34m=\u001b[0m \u001b[0mpredict\u001b[0m\u001b[0;34m(\u001b[0m\u001b[0mX\u001b[0m\u001b[0;34m,\u001b[0m \u001b[0mcheck_input\u001b[0m\u001b[0;34m=\u001b[0m\u001b[0;32mFalse\u001b[0m\u001b[0;34m)\u001b[0m\u001b[0;34m\u001b[0m\u001b[0;34m\u001b[0m\u001b[0m\n\u001b[0m\u001b[1;32m    468\u001b[0m     \u001b[0;32mwith\u001b[0m \u001b[0mlock\u001b[0m\u001b[0;34m:\u001b[0m\u001b[0;34m\u001b[0m\u001b[0;34m\u001b[0m\u001b[0m\n\u001b[1;32m    469\u001b[0m         \u001b[0;32mif\u001b[0m \u001b[0mlen\u001b[0m\u001b[0;34m(\u001b[0m\u001b[0mout\u001b[0m\u001b[0;34m)\u001b[0m \u001b[0;34m==\u001b[0m \u001b[0;36m1\u001b[0m\u001b[0;34m:\u001b[0m\u001b[0;34m\u001b[0m\u001b[0;34m\u001b[0m\u001b[0m\n",
      "\u001b[0;32m~/opt/anaconda3/lib/python3.8/site-packages/sklearn/tree/_classes.py\u001b[0m in \u001b[0;36mpredict_proba\u001b[0;34m(self, X, check_input)\u001b[0m\n\u001b[1;32m    940\u001b[0m             \u001b[0mnormalizer\u001b[0m \u001b[0;34m=\u001b[0m \u001b[0mproba\u001b[0m\u001b[0;34m.\u001b[0m\u001b[0msum\u001b[0m\u001b[0;34m(\u001b[0m\u001b[0maxis\u001b[0m\u001b[0;34m=\u001b[0m\u001b[0;36m1\u001b[0m\u001b[0;34m)\u001b[0m\u001b[0;34m[\u001b[0m\u001b[0;34m:\u001b[0m\u001b[0;34m,\u001b[0m \u001b[0mnp\u001b[0m\u001b[0;34m.\u001b[0m\u001b[0mnewaxis\u001b[0m\u001b[0;34m]\u001b[0m\u001b[0;34m\u001b[0m\u001b[0;34m\u001b[0m\u001b[0m\n\u001b[1;32m    941\u001b[0m             \u001b[0mnormalizer\u001b[0m\u001b[0;34m[\u001b[0m\u001b[0mnormalizer\u001b[0m \u001b[0;34m==\u001b[0m \u001b[0;36m0.0\u001b[0m\u001b[0;34m]\u001b[0m \u001b[0;34m=\u001b[0m \u001b[0;36m1.0\u001b[0m\u001b[0;34m\u001b[0m\u001b[0;34m\u001b[0m\u001b[0m\n\u001b[0;32m--> 942\u001b[0;31m             \u001b[0mproba\u001b[0m \u001b[0;34m/=\u001b[0m \u001b[0mnormalizer\u001b[0m\u001b[0;34m\u001b[0m\u001b[0;34m\u001b[0m\u001b[0m\n\u001b[0m\u001b[1;32m    943\u001b[0m \u001b[0;34m\u001b[0m\u001b[0m\n\u001b[1;32m    944\u001b[0m             \u001b[0;32mreturn\u001b[0m \u001b[0mproba\u001b[0m\u001b[0;34m\u001b[0m\u001b[0;34m\u001b[0m\u001b[0m\n",
      "\u001b[0;31mKeyboardInterrupt\u001b[0m: "
     ]
    }
   ],
   "source": [
    "from sklearn.feature_selection import RFECV\n",
    "\n",
    "# The \"accuracy\" scoring is proportional to the number of correct classifications\n",
    "# using the same classifer as original \n",
    "rfecv = RFECV(estimator=model_ori, step=1, cv=5,scoring='accuracy')   #5-fold cross-validation\n",
    "rfecv = rfecv.fit(x_train, y_train)"
   ]
  },
  {
   "cell_type": "code",
   "execution_count": null,
   "metadata": {},
   "outputs": [],
   "source": [
    "df_RFECV = pd.DataFrame(rfecv.n_features_, index=x_train.columns, columns=['RFECV'])\n",
    "df_RFECV.sort_values('RFECV', ascending=False).style.apply(highlight_top6)"
   ]
  },
  {
   "cell_type": "markdown",
   "metadata": {},
   "source": [
    "grid_scores_ : array of shape [n_subsets_of_features]\n",
    "The cross-validation scores such that grid_scores_[i] corresponds to the CV score of the i-th subset of features."
   ]
  },
  {
   "cell_type": "code",
   "execution_count": 306,
   "metadata": {
    "scrolled": false
   },
   "outputs": [
    {
     "data": {
      "image/png": "[encoded data removed]",
      "text/plain": [
       "<Figure size 1080x1080 with 1 Axes>"
      ]
     },
     "metadata": {},
     "output_type": "display_data"
    }
   ],
   "source": [
    "# Plot number of features VS. cross-validation scores\n",
    "import matplotlib.pyplot as plt\n",
    "plt.figure()\n",
    "plt.xlabel(\"Number of features selected\")\n",
    "plt.ylabel(\"Cross validation score of number of selected features\")\n",
    "plt.plot(range(1, len(rfecv.grid_scores_) + 1), rfecv.grid_scores_)\n",
    "plt.show()"
   ]
  },
  {
   "cell_type": "markdown",
   "metadata": {},
   "source": [
    "**Findings: we can observe the validation score peaks at 8 features**"
   ]
  },
  {
   "cell_type": "markdown",
   "metadata": {},
   "source": [
    "## Embedded Methods"
   ]
  },
  {
   "cell_type": "markdown",
   "metadata": {},
   "source": [
    "**Random Forest Importance**"
   ]
  },
  {
   "cell_type": "code",
   "execution_count": 250,
   "metadata": {},
   "outputs": [],
   "source": [
    "clf_rf_5 = RandomForestClassifier()      \n",
    "clr_rf_5 = clf_rf_5.fit(x_train,y_train)\n",
    "importances = clr_rf_5.feature_importances_\n",
    "std = np.std([tree.feature_importances_ for tree in clf_rf_5.estimators_],\n",
    "             axis=0)\n",
    "indices = np.argsort(importances)[::-1]"
   ]
  },
  {
   "cell_type": "code",
   "execution_count": 251,
   "metadata": {
    "scrolled": false
   },
   "outputs": [
    {
     "data": {
      "text/html": [
       "<style  type=\"text/css\" >\n",
       "#T_6661d57a_fbb8_11eb_a47c_acde48001122row0_col0,#T_6661d57a_fbb8_11eb_a47c_acde48001122row1_col0,#T_6661d57a_fbb8_11eb_a47c_acde48001122row2_col0,#T_6661d57a_fbb8_11eb_a47c_acde48001122row3_col0,#T_6661d57a_fbb8_11eb_a47c_acde48001122row4_col0,#T_6661d57a_fbb8_11eb_a47c_acde48001122row5_col0{\n",
       "            background-color:  green;\n",
       "        }</style><table id=\"T_6661d57a_fbb8_11eb_a47c_acde48001122\" ><thead>    <tr>        <th class=\"blank level0\" ></th>        <th class=\"col_heading level0 col0\" >RF_importance</th>    </tr></thead><tbody>\n",
       "                <tr>\n",
       "                        <th id=\"T_6661d57a_fbb8_11eb_a47c_acde48001122level0_row0\" class=\"row_heading level0 row0\" >test_indication_Contact with confirmed</th>\n",
       "                        <td id=\"T_6661d57a_fbb8_11eb_a47c_acde48001122row0_col0\" class=\"data row0 col0\" >0.209822</td>\n",
       "            </tr>\n",
       "            <tr>\n",
       "                        <th id=\"T_6661d57a_fbb8_11eb_a47c_acde48001122level0_row1\" class=\"row_heading level0 row1\" >test_indication_Other</th>\n",
       "                        <td id=\"T_6661d57a_fbb8_11eb_a47c_acde48001122row1_col0\" class=\"data row1 col0\" >0.185825</td>\n",
       "            </tr>\n",
       "            <tr>\n",
       "                        <th id=\"T_6661d57a_fbb8_11eb_a47c_acde48001122level0_row2\" class=\"row_heading level0 row2\" >fever</th>\n",
       "                        <td id=\"T_6661d57a_fbb8_11eb_a47c_acde48001122row2_col0\" class=\"data row2 col0\" >0.173765</td>\n",
       "            </tr>\n",
       "            <tr>\n",
       "                        <th id=\"T_6661d57a_fbb8_11eb_a47c_acde48001122level0_row3\" class=\"row_heading level0 row3\" >head_ache</th>\n",
       "                        <td id=\"T_6661d57a_fbb8_11eb_a47c_acde48001122row3_col0\" class=\"data row3 col0\" >0.149506</td>\n",
       "            </tr>\n",
       "            <tr>\n",
       "                        <th id=\"T_6661d57a_fbb8_11eb_a47c_acde48001122level0_row4\" class=\"row_heading level0 row4\" >cough</th>\n",
       "                        <td id=\"T_6661d57a_fbb8_11eb_a47c_acde48001122row4_col0\" class=\"data row4 col0\" >0.126855</td>\n",
       "            </tr>\n",
       "            <tr>\n",
       "                        <th id=\"T_6661d57a_fbb8_11eb_a47c_acde48001122level0_row5\" class=\"row_heading level0 row5\" >sore_throat</th>\n",
       "                        <td id=\"T_6661d57a_fbb8_11eb_a47c_acde48001122row5_col0\" class=\"data row5 col0\" >0.052439</td>\n",
       "            </tr>\n",
       "            <tr>\n",
       "                        <th id=\"T_6661d57a_fbb8_11eb_a47c_acde48001122level0_row6\" class=\"row_heading level0 row6\" >test_indication_Abroad</th>\n",
       "                        <td id=\"T_6661d57a_fbb8_11eb_a47c_acde48001122row6_col0\" class=\"data row6 col0\" >0.026168</td>\n",
       "            </tr>\n",
       "            <tr>\n",
       "                        <th id=\"T_6661d57a_fbb8_11eb_a47c_acde48001122level0_row7\" class=\"row_heading level0 row7\" >age_Missing</th>\n",
       "                        <td id=\"T_6661d57a_fbb8_11eb_a47c_acde48001122row7_col0\" class=\"data row7 col0\" >0.018186</td>\n",
       "            </tr>\n",
       "            <tr>\n",
       "                        <th id=\"T_6661d57a_fbb8_11eb_a47c_acde48001122level0_row8\" class=\"row_heading level0 row8\" >gender_Missing</th>\n",
       "                        <td id=\"T_6661d57a_fbb8_11eb_a47c_acde48001122row8_col0\" class=\"data row8 col0\" >0.015050</td>\n",
       "            </tr>\n",
       "            <tr>\n",
       "                        <th id=\"T_6661d57a_fbb8_11eb_a47c_acde48001122level0_row9\" class=\"row_heading level0 row9\" >age_Yes</th>\n",
       "                        <td id=\"T_6661d57a_fbb8_11eb_a47c_acde48001122row9_col0\" class=\"data row9 col0\" >0.012032</td>\n",
       "            </tr>\n",
       "            <tr>\n",
       "                        <th id=\"T_6661d57a_fbb8_11eb_a47c_acde48001122level0_row10\" class=\"row_heading level0 row10\" >shortness_of_breath</th>\n",
       "                        <td id=\"T_6661d57a_fbb8_11eb_a47c_acde48001122row10_col0\" class=\"data row10 col0\" >0.009212</td>\n",
       "            </tr>\n",
       "            <tr>\n",
       "                        <th id=\"T_6661d57a_fbb8_11eb_a47c_acde48001122level0_row11\" class=\"row_heading level0 row11\" >age_No</th>\n",
       "                        <td id=\"T_6661d57a_fbb8_11eb_a47c_acde48001122row11_col0\" class=\"data row11 col0\" >0.008364</td>\n",
       "            </tr>\n",
       "            <tr>\n",
       "                        <th id=\"T_6661d57a_fbb8_11eb_a47c_acde48001122level0_row12\" class=\"row_heading level0 row12\" >gender_Male</th>\n",
       "                        <td id=\"T_6661d57a_fbb8_11eb_a47c_acde48001122row12_col0\" class=\"data row12 col0\" >0.006702</td>\n",
       "            </tr>\n",
       "            <tr>\n",
       "                        <th id=\"T_6661d57a_fbb8_11eb_a47c_acde48001122level0_row13\" class=\"row_heading level0 row13\" >gender_Female</th>\n",
       "                        <td id=\"T_6661d57a_fbb8_11eb_a47c_acde48001122row13_col0\" class=\"data row13 col0\" >0.006075</td>\n",
       "            </tr>\n",
       "    </tbody></table>"
      ],
      "text/plain": [
       "<pandas.io.formats.style.Styler at 0x7f9895db6790>"
      ]
     },
     "execution_count": 251,
     "metadata": {},
     "output_type": "execute_result"
    }
   ],
   "source": [
    "df_RF_importance = pd.DataFrame(clr_rf_5.feature_importances_, index=x_train.columns, columns=['RF_importance'])\n",
    "df_RF_importance.sort_values('RF_importance', ascending=False).style.apply(highlight_top6)"
   ]
  },
  {
   "cell_type": "code",
   "execution_count": 252,
   "metadata": {},
   "outputs": [
    {
     "data": {
      "text/html": [
       "<style  type=\"text/css\" >\n",
       "#T_66640200_fbb8_11eb_a47c_acde48001122row0_col0,#T_66640200_fbb8_11eb_a47c_acde48001122row0_col1,#T_66640200_fbb8_11eb_a47c_acde48001122row0_col2,#T_66640200_fbb8_11eb_a47c_acde48001122row0_col3,#T_66640200_fbb8_11eb_a47c_acde48001122row1_col0,#T_66640200_fbb8_11eb_a47c_acde48001122row1_col1,#T_66640200_fbb8_11eb_a47c_acde48001122row1_col2,#T_66640200_fbb8_11eb_a47c_acde48001122row1_col3,#T_66640200_fbb8_11eb_a47c_acde48001122row2_col0,#T_66640200_fbb8_11eb_a47c_acde48001122row2_col1,#T_66640200_fbb8_11eb_a47c_acde48001122row2_col2,#T_66640200_fbb8_11eb_a47c_acde48001122row2_col3,#T_66640200_fbb8_11eb_a47c_acde48001122row3_col0,#T_66640200_fbb8_11eb_a47c_acde48001122row3_col1,#T_66640200_fbb8_11eb_a47c_acde48001122row3_col2,#T_66640200_fbb8_11eb_a47c_acde48001122row3_col3,#T_66640200_fbb8_11eb_a47c_acde48001122row4_col0,#T_66640200_fbb8_11eb_a47c_acde48001122row4_col1,#T_66640200_fbb8_11eb_a47c_acde48001122row4_col2,#T_66640200_fbb8_11eb_a47c_acde48001122row4_col3,#T_66640200_fbb8_11eb_a47c_acde48001122row5_col1,#T_66640200_fbb8_11eb_a47c_acde48001122row7_col0,#T_66640200_fbb8_11eb_a47c_acde48001122row7_col2,#T_66640200_fbb8_11eb_a47c_acde48001122row7_col3{\n",
       "            background-color:  green;\n",
       "        }</style><table id=\"T_66640200_fbb8_11eb_a47c_acde48001122\" ><thead>    <tr>        <th class=\"blank level0\" ></th>        <th class=\"col_heading level0 col0\" >mutual_info_reg</th>        <th class=\"col_heading level0 col1\" >SelectKBest-chi2</th>        <th class=\"col_heading level0 col2\" >RFE</th>        <th class=\"col_heading level0 col3\" >RF_importance</th>    </tr></thead><tbody>\n",
       "                <tr>\n",
       "                        <th id=\"T_66640200_fbb8_11eb_a47c_acde48001122level0_row0\" class=\"row_heading level0 row0\" >test_indication_Contact with confirmed</th>\n",
       "                        <td id=\"T_66640200_fbb8_11eb_a47c_acde48001122row0_col0\" class=\"data row0 col0\" >0.015279</td>\n",
       "                        <td id=\"T_66640200_fbb8_11eb_a47c_acde48001122row0_col1\" class=\"data row0 col1\" >97792.214762</td>\n",
       "                        <td id=\"T_66640200_fbb8_11eb_a47c_acde48001122row0_col2\" class=\"data row0 col2\" >True</td>\n",
       "                        <td id=\"T_66640200_fbb8_11eb_a47c_acde48001122row0_col3\" class=\"data row0 col3\" >0.209822</td>\n",
       "            </tr>\n",
       "            <tr>\n",
       "                        <th id=\"T_66640200_fbb8_11eb_a47c_acde48001122level0_row1\" class=\"row_heading level0 row1\" >fever</th>\n",
       "                        <td id=\"T_66640200_fbb8_11eb_a47c_acde48001122row1_col0\" class=\"data row1 col0\" >0.009154</td>\n",
       "                        <td id=\"T_66640200_fbb8_11eb_a47c_acde48001122row1_col1\" class=\"data row1 col1\" >70120.384480</td>\n",
       "                        <td id=\"T_66640200_fbb8_11eb_a47c_acde48001122row1_col2\" class=\"data row1 col2\" >True</td>\n",
       "                        <td id=\"T_66640200_fbb8_11eb_a47c_acde48001122row1_col3\" class=\"data row1 col3\" >0.173765</td>\n",
       "            </tr>\n",
       "            <tr>\n",
       "                        <th id=\"T_66640200_fbb8_11eb_a47c_acde48001122level0_row2\" class=\"row_heading level0 row2\" >head_ache</th>\n",
       "                        <td id=\"T_66640200_fbb8_11eb_a47c_acde48001122row2_col0\" class=\"data row2 col0\" >0.008361</td>\n",
       "                        <td id=\"T_66640200_fbb8_11eb_a47c_acde48001122row2_col1\" class=\"data row2 col1\" >62286.259488</td>\n",
       "                        <td id=\"T_66640200_fbb8_11eb_a47c_acde48001122row2_col2\" class=\"data row2 col2\" >True</td>\n",
       "                        <td id=\"T_66640200_fbb8_11eb_a47c_acde48001122row2_col3\" class=\"data row2 col3\" >0.149506</td>\n",
       "            </tr>\n",
       "            <tr>\n",
       "                        <th id=\"T_66640200_fbb8_11eb_a47c_acde48001122level0_row3\" class=\"row_heading level0 row3\" >cough</th>\n",
       "                        <td id=\"T_66640200_fbb8_11eb_a47c_acde48001122row3_col0\" class=\"data row3 col0\" >0.009274</td>\n",
       "                        <td id=\"T_66640200_fbb8_11eb_a47c_acde48001122row3_col1\" class=\"data row3 col1\" >56200.021071</td>\n",
       "                        <td id=\"T_66640200_fbb8_11eb_a47c_acde48001122row3_col2\" class=\"data row3 col2\" >True</td>\n",
       "                        <td id=\"T_66640200_fbb8_11eb_a47c_acde48001122row3_col3\" class=\"data row3 col3\" >0.126855</td>\n",
       "            </tr>\n",
       "            <tr>\n",
       "                        <th id=\"T_66640200_fbb8_11eb_a47c_acde48001122level0_row4\" class=\"row_heading level0 row4\" >sore_throat</th>\n",
       "                        <td id=\"T_66640200_fbb8_11eb_a47c_acde48001122row4_col0\" class=\"data row4 col0\" >0.006552</td>\n",
       "                        <td id=\"T_66640200_fbb8_11eb_a47c_acde48001122row4_col1\" class=\"data row4 col1\" >30008.323534</td>\n",
       "                        <td id=\"T_66640200_fbb8_11eb_a47c_acde48001122row4_col2\" class=\"data row4 col2\" >True</td>\n",
       "                        <td id=\"T_66640200_fbb8_11eb_a47c_acde48001122row4_col3\" class=\"data row4 col3\" >0.052439</td>\n",
       "            </tr>\n",
       "            <tr>\n",
       "                        <th id=\"T_66640200_fbb8_11eb_a47c_acde48001122level0_row5\" class=\"row_heading level0 row5\" >shortness_of_breath</th>\n",
       "                        <td id=\"T_66640200_fbb8_11eb_a47c_acde48001122row5_col0\" class=\"data row5 col0\" >0.000609</td>\n",
       "                        <td id=\"T_66640200_fbb8_11eb_a47c_acde48001122row5_col1\" class=\"data row5 col1\" >4462.521708</td>\n",
       "                        <td id=\"T_66640200_fbb8_11eb_a47c_acde48001122row5_col2\" class=\"data row5 col2\" >False</td>\n",
       "                        <td id=\"T_66640200_fbb8_11eb_a47c_acde48001122row5_col3\" class=\"data row5 col3\" >0.009212</td>\n",
       "            </tr>\n",
       "            <tr>\n",
       "                        <th id=\"T_66640200_fbb8_11eb_a47c_acde48001122level0_row6\" class=\"row_heading level0 row6\" >age_Yes</th>\n",
       "                        <td id=\"T_66640200_fbb8_11eb_a47c_acde48001122row6_col0\" class=\"data row6 col0\" >0.001061</td>\n",
       "                        <td id=\"T_66640200_fbb8_11eb_a47c_acde48001122row6_col1\" class=\"data row6 col1\" >754.507236</td>\n",
       "                        <td id=\"T_66640200_fbb8_11eb_a47c_acde48001122row6_col2\" class=\"data row6 col2\" >False</td>\n",
       "                        <td id=\"T_66640200_fbb8_11eb_a47c_acde48001122row6_col3\" class=\"data row6 col3\" >0.012032</td>\n",
       "            </tr>\n",
       "            <tr>\n",
       "                        <th id=\"T_66640200_fbb8_11eb_a47c_acde48001122level0_row7\" class=\"row_heading level0 row7\" >test_indication_Other</th>\n",
       "                        <td id=\"T_66640200_fbb8_11eb_a47c_acde48001122row7_col0\" class=\"data row7 col0\" >0.015208</td>\n",
       "                        <td id=\"T_66640200_fbb8_11eb_a47c_acde48001122row7_col1\" class=\"data row7 col1\" >710.261205</td>\n",
       "                        <td id=\"T_66640200_fbb8_11eb_a47c_acde48001122row7_col2\" class=\"data row7 col2\" >True</td>\n",
       "                        <td id=\"T_66640200_fbb8_11eb_a47c_acde48001122row7_col3\" class=\"data row7 col3\" >0.185825</td>\n",
       "            </tr>\n",
       "            <tr>\n",
       "                        <th id=\"T_66640200_fbb8_11eb_a47c_acde48001122level0_row8\" class=\"row_heading level0 row8\" >gender_Missing</th>\n",
       "                        <td id=\"T_66640200_fbb8_11eb_a47c_acde48001122row8_col0\" class=\"data row8 col0\" >0.002270</td>\n",
       "                        <td id=\"T_66640200_fbb8_11eb_a47c_acde48001122row8_col1\" class=\"data row8 col1\" >661.563719</td>\n",
       "                        <td id=\"T_66640200_fbb8_11eb_a47c_acde48001122row8_col2\" class=\"data row8 col2\" >False</td>\n",
       "                        <td id=\"T_66640200_fbb8_11eb_a47c_acde48001122row8_col3\" class=\"data row8 col3\" >0.015050</td>\n",
       "            </tr>\n",
       "            <tr>\n",
       "                        <th id=\"T_66640200_fbb8_11eb_a47c_acde48001122level0_row9\" class=\"row_heading level0 row9\" >age_Missing</th>\n",
       "                        <td id=\"T_66640200_fbb8_11eb_a47c_acde48001122row9_col0\" class=\"data row9 col0\" >0.001534</td>\n",
       "                        <td id=\"T_66640200_fbb8_11eb_a47c_acde48001122row9_col1\" class=\"data row9 col1\" >598.631176</td>\n",
       "                        <td id=\"T_66640200_fbb8_11eb_a47c_acde48001122row9_col2\" class=\"data row9 col2\" >False</td>\n",
       "                        <td id=\"T_66640200_fbb8_11eb_a47c_acde48001122row9_col3\" class=\"data row9 col3\" >0.018186</td>\n",
       "            </tr>\n",
       "            <tr>\n",
       "                        <th id=\"T_66640200_fbb8_11eb_a47c_acde48001122level0_row10\" class=\"row_heading level0 row10\" >test_indication_Abroad</th>\n",
       "                        <td id=\"T_66640200_fbb8_11eb_a47c_acde48001122row10_col0\" class=\"data row10 col0\" >0.000975</td>\n",
       "                        <td id=\"T_66640200_fbb8_11eb_a47c_acde48001122row10_col1\" class=\"data row10 col1\" >550.946819</td>\n",
       "                        <td id=\"T_66640200_fbb8_11eb_a47c_acde48001122row10_col2\" class=\"data row10 col2\" >False</td>\n",
       "                        <td id=\"T_66640200_fbb8_11eb_a47c_acde48001122row10_col3\" class=\"data row10 col3\" >0.026168</td>\n",
       "            </tr>\n",
       "            <tr>\n",
       "                        <th id=\"T_66640200_fbb8_11eb_a47c_acde48001122level0_row11\" class=\"row_heading level0 row11\" >age_No</th>\n",
       "                        <td id=\"T_66640200_fbb8_11eb_a47c_acde48001122row11_col0\" class=\"data row11 col0\" >0.000002</td>\n",
       "                        <td id=\"T_66640200_fbb8_11eb_a47c_acde48001122row11_col1\" class=\"data row11 col1\" >393.129661</td>\n",
       "                        <td id=\"T_66640200_fbb8_11eb_a47c_acde48001122row11_col2\" class=\"data row11 col2\" >False</td>\n",
       "                        <td id=\"T_66640200_fbb8_11eb_a47c_acde48001122row11_col3\" class=\"data row11 col3\" >0.008364</td>\n",
       "            </tr>\n",
       "            <tr>\n",
       "                        <th id=\"T_66640200_fbb8_11eb_a47c_acde48001122level0_row12\" class=\"row_heading level0 row12\" >gender_Male</th>\n",
       "                        <td id=\"T_66640200_fbb8_11eb_a47c_acde48001122row12_col0\" class=\"data row12 col0\" >0.000512</td>\n",
       "                        <td id=\"T_66640200_fbb8_11eb_a47c_acde48001122row12_col1\" class=\"data row12 col1\" >340.249068</td>\n",
       "                        <td id=\"T_66640200_fbb8_11eb_a47c_acde48001122row12_col2\" class=\"data row12 col2\" >False</td>\n",
       "                        <td id=\"T_66640200_fbb8_11eb_a47c_acde48001122row12_col3\" class=\"data row12 col3\" >0.006702</td>\n",
       "            </tr>\n",
       "            <tr>\n",
       "                        <th id=\"T_66640200_fbb8_11eb_a47c_acde48001122level0_row13\" class=\"row_heading level0 row13\" >gender_Female</th>\n",
       "                        <td id=\"T_66640200_fbb8_11eb_a47c_acde48001122row13_col0\" class=\"data row13 col0\" >0.000000</td>\n",
       "                        <td id=\"T_66640200_fbb8_11eb_a47c_acde48001122row13_col1\" class=\"data row13 col1\" >209.165600</td>\n",
       "                        <td id=\"T_66640200_fbb8_11eb_a47c_acde48001122row13_col2\" class=\"data row13 col2\" >False</td>\n",
       "                        <td id=\"T_66640200_fbb8_11eb_a47c_acde48001122row13_col3\" class=\"data row13 col3\" >0.006075</td>\n",
       "            </tr>\n",
       "    </tbody></table>"
      ],
      "text/plain": [
       "<pandas.io.formats.style.Styler at 0x7f9895e058b0>"
      ]
     },
     "execution_count": 252,
     "metadata": {},
     "output_type": "execute_result"
    }
   ],
   "source": [
    "merged = merged.join(df_RF_importance)\n",
    "merged.sort_values('SelectKBest-chi2', ascending=False).style.apply(highlight_top6)"
   ]
  },
  {
   "cell_type": "code",
   "execution_count": 253,
   "metadata": {},
   "outputs": [
    {
     "data": {
      "image/png": "[encoded data removed]",
      "text/plain": [
       "<Figure size 1008x936 with 1 Axes>"
      ]
     },
     "metadata": {},
     "output_type": "display_data"
    }
   ],
   "source": [
    "#  to determine how many should be selected\n",
    "\n",
    "# Plot the feature importances of the forest\n",
    "plt.figure(1, figsize=(14, 13))\n",
    "plt.title(\"Feature importances\")\n",
    "plt.bar(range(x_train.shape[1]), importances[indices],\n",
    "     color=\"g\", yerr=std[indices], align=\"center\")\n",
    "plt.xticks(range(x_train.shape[1]), x_train.columns[indices],rotation=90)\n",
    "plt.xlim([-1, x_train.shape[1]])\n",
    "plt.show()"
   ]
  },
  {
   "cell_type": "markdown",
   "metadata": {},
   "source": [
    "**Feature Extraction with PCA**"
   ]
  },
  {
   "cell_type": "code",
   "execution_count": 254,
   "metadata": {
    "scrolled": false
   },
   "outputs": [
    {
     "data": {
      "image/png": "[encoded data removed]",
      "text/plain": [
       "<Figure size 1008x936 with 1 Axes>"
      ]
     },
     "metadata": {},
     "output_type": "display_data"
    }
   ],
   "source": [
    "#  to determine how many should be selected\n",
    "from sklearn.decomposition import PCA\n",
    "pca = PCA()\n",
    "pca.fit(x_train)\n",
    "\n",
    "plt.figure(1, figsize=(14, 13))\n",
    "plt.clf()\n",
    "plt.axes([.2, .2, .7, .7])\n",
    "plt.plot(pca.explained_variance_ratio_, linewidth=2)\n",
    "plt.axis('tight')\n",
    "plt.xlabel('n_components')\n",
    "plt.ylabel('explained_variance_ratio_');"
   ]
  },
  {
   "cell_type": "markdown",
   "metadata": {},
   "source": [
    "6 features are definitely enough"
   ]
  },
  {
   "cell_type": "markdown",
   "metadata": {},
   "source": [
    "**Conclusion: We believe it's safe to select the top 6 features: \n",
    "'test_indication_Contact with confirmed', 'head_ache', 'fever', 'cough','sore_throat','shortness_of_breath'"
   ]
  },
  {
   "cell_type": "markdown",
   "metadata": {},
   "source": [
    "**TO DO:\n",
    "    validate if test_indication_Other should be dropped"
   ]
  },
  {
   "cell_type": "code",
   "execution_count": 255,
   "metadata": {},
   "outputs": [],
   "source": [
    "#prepare the selected dataset with the 6th being test_indication_Other\n",
    "selected_columns = ['test_indication_Contact with confirmed', 'head_ache', 'fever', 'cough','sore_throat','test_indication_Other']\n",
    "# X_selected = X_filled.drop(\"corona_result\", axis = 1)\n",
    "X_selected = X_filled[X_filled.columns[X_filled.columns.isin(selected_columns)]]"
   ]
  },
  {
   "cell_type": "code",
   "execution_count": 126,
   "metadata": {},
   "outputs": [],
   "source": [
    "# update the train and test split\n",
    "x_train, x_test, y_train, y_test = train_test_split(X_selected, y_filled, test_size=0.2, random_state=0)"
   ]
  },
  {
   "cell_type": "code",
   "execution_count": 258,
   "metadata": {},
   "outputs": [],
   "source": [
    "y_pred = make_y_pred(x_train, x_test, y_train)"
   ]
  },
  {
   "cell_type": "code",
   "execution_count": 259,
   "metadata": {
    "scrolled": true
   },
   "outputs": [
    {
     "data": {
      "text/html": [
       "<div>\n",
       "<style scoped>\n",
       "    .dataframe tbody tr th:only-of-type {\n",
       "        vertical-align: middle;\n",
       "    }\n",
       "\n",
       "    .dataframe tbody tr th {\n",
       "        vertical-align: top;\n",
       "    }\n",
       "\n",
       "    .dataframe thead th {\n",
       "        text-align: right;\n",
       "    }\n",
       "</style>\n",
       "<table border=\"1\" class=\"dataframe\">\n",
       "  <thead>\n",
       "    <tr style=\"text-align: right;\">\n",
       "      <th></th>\n",
       "      <th>Method</th>\n",
       "      <th>All other 5 methods</th>\n",
       "    </tr>\n",
       "  </thead>\n",
       "  <tbody>\n",
       "    <tr>\n",
       "      <th>0</th>\n",
       "      <td>Balanced Accuracy</td>\n",
       "      <td>0.824516</td>\n",
       "    </tr>\n",
       "    <tr>\n",
       "      <th>1</th>\n",
       "      <td>Sensitivity</td>\n",
       "      <td>0.994691</td>\n",
       "    </tr>\n",
       "    <tr>\n",
       "      <th>2</th>\n",
       "      <td>Specificity</td>\n",
       "      <td>0.654340</td>\n",
       "    </tr>\n",
       "    <tr>\n",
       "      <th>3</th>\n",
       "      <td>AUROC</td>\n",
       "      <td>0.824516</td>\n",
       "    </tr>\n",
       "    <tr>\n",
       "      <th>4</th>\n",
       "      <td>F1</td>\n",
       "      <td>0.684547</td>\n",
       "    </tr>\n",
       "    <tr>\n",
       "      <th>5</th>\n",
       "      <td>Geometric Mean</td>\n",
       "      <td>0.806763</td>\n",
       "    </tr>\n",
       "    <tr>\n",
       "      <th>6</th>\n",
       "      <td>Macro Average MAE</td>\n",
       "      <td>0.175484</td>\n",
       "    </tr>\n",
       "  </tbody>\n",
       "</table>\n",
       "</div>"
      ],
      "text/plain": [
       "              Method  All other 5 methods\n",
       "0  Balanced Accuracy             0.824516\n",
       "1        Sensitivity             0.994691\n",
       "2        Specificity             0.654340\n",
       "3              AUROC             0.824516\n",
       "4                 F1             0.684547\n",
       "5     Geometric Mean             0.806763\n",
       "6  Macro Average MAE             0.175484"
      ]
     },
     "execution_count": 259,
     "metadata": {},
     "output_type": "execute_result"
    }
   ],
   "source": [
    "results_other = pd.DataFrame(evaluate_imbalanced(y_test, y_pred).items(),columns=['Method', 'All other 5 methods'])\n",
    "results_other"
   ]
  },
  {
   "cell_type": "code",
   "execution_count": 260,
   "metadata": {},
   "outputs": [
    {
     "data": {
      "text/html": [
       "<div>\n",
       "<style scoped>\n",
       "    .dataframe tbody tr th:only-of-type {\n",
       "        vertical-align: middle;\n",
       "    }\n",
       "\n",
       "    .dataframe tbody tr th {\n",
       "        vertical-align: top;\n",
       "    }\n",
       "\n",
       "    .dataframe thead th {\n",
       "        text-align: right;\n",
       "    }\n",
       "</style>\n",
       "<table border=\"1\" class=\"dataframe\">\n",
       "  <thead>\n",
       "    <tr style=\"text-align: right;\">\n",
       "      <th></th>\n",
       "      <th>Original</th>\n",
       "      <th>SelectedKBest-chi2</th>\n",
       "      <th>All other 5 methods</th>\n",
       "      <th>original vs other 5 %</th>\n",
       "      <th>original sel-chi2 %</th>\n",
       "    </tr>\n",
       "    <tr>\n",
       "      <th>Method</th>\n",
       "      <th></th>\n",
       "      <th></th>\n",
       "      <th></th>\n",
       "      <th></th>\n",
       "      <th></th>\n",
       "    </tr>\n",
       "  </thead>\n",
       "  <tbody>\n",
       "    <tr>\n",
       "      <th>Balanced Accuracy</th>\n",
       "      <td>0.824516</td>\n",
       "      <td>0.831920</td>\n",
       "      <td>0.824516</td>\n",
       "      <td>0.0%</td>\n",
       "      <td>0.9%</td>\n",
       "    </tr>\n",
       "    <tr>\n",
       "      <th>Sensitivity</th>\n",
       "      <td>0.994691</td>\n",
       "      <td>0.993853</td>\n",
       "      <td>0.994691</td>\n",
       "      <td>0.0%</td>\n",
       "      <td>-0.08%</td>\n",
       "    </tr>\n",
       "    <tr>\n",
       "      <th>Specificity</th>\n",
       "      <td>0.654340</td>\n",
       "      <td>0.669988</td>\n",
       "      <td>0.654340</td>\n",
       "      <td>0.0%</td>\n",
       "      <td>2.39%</td>\n",
       "    </tr>\n",
       "    <tr>\n",
       "      <th>AUROC</th>\n",
       "      <td>0.824516</td>\n",
       "      <td>0.831920</td>\n",
       "      <td>0.824516</td>\n",
       "      <td>0.0%</td>\n",
       "      <td>0.9%</td>\n",
       "    </tr>\n",
       "    <tr>\n",
       "      <th>F1</th>\n",
       "      <td>0.684547</td>\n",
       "      <td>0.657485</td>\n",
       "      <td>0.684547</td>\n",
       "      <td>0.0%</td>\n",
       "      <td>-3.95%</td>\n",
       "    </tr>\n",
       "    <tr>\n",
       "      <th>Geometric Mean</th>\n",
       "      <td>0.806763</td>\n",
       "      <td>0.816008</td>\n",
       "      <td>0.806763</td>\n",
       "      <td>0.0%</td>\n",
       "      <td>1.15%</td>\n",
       "    </tr>\n",
       "    <tr>\n",
       "      <th>Macro Average MAE</th>\n",
       "      <td>0.175484</td>\n",
       "      <td>0.168080</td>\n",
       "      <td>0.175484</td>\n",
       "      <td>0.0%</td>\n",
       "      <td>-4.22%</td>\n",
       "    </tr>\n",
       "  </tbody>\n",
       "</table>\n",
       "</div>"
      ],
      "text/plain": [
       "                   Original  SelectedKBest-chi2  All other 5 methods  \\\n",
       "Method                                                                 \n",
       "Balanced Accuracy  0.824516            0.831920             0.824516   \n",
       "Sensitivity        0.994691            0.993853             0.994691   \n",
       "Specificity        0.654340            0.669988             0.654340   \n",
       "AUROC              0.824516            0.831920             0.824516   \n",
       "F1                 0.684547            0.657485             0.684547   \n",
       "Geometric Mean     0.806763            0.816008             0.806763   \n",
       "Macro Average MAE  0.175484            0.168080             0.175484   \n",
       "\n",
       "                  original vs other 5 % original sel-chi2 %  \n",
       "Method                                                       \n",
       "Balanced Accuracy                  0.0%                0.9%  \n",
       "Sensitivity                        0.0%              -0.08%  \n",
       "Specificity                        0.0%               2.39%  \n",
       "AUROC                              0.0%                0.9%  \n",
       "F1                                 0.0%              -3.95%  \n",
       "Geometric Mean                     0.0%               1.15%  \n",
       "Macro Average MAE                  0.0%              -4.22%  "
      ]
     },
     "execution_count": 260,
     "metadata": {},
     "output_type": "execute_result"
    }
   ],
   "source": [
    "# results = results.set_index('Method').join(results_other.set_index('Method'))\n",
    "results = results_1.set_index('Method').join(results_select.set_index('Method')).join(results_other.set_index('Method'))\n",
    "results['original vs other 5 %'] = (((results['All other 5 methods'] - results['Original']) / results['Original'])*100 ).round(2).astype(str) + '%'\n",
    "results['original sel-chi2 %'] = (((results['SelectedKBest-chi2'] - results['Original']) / results['Original'])*100 ).round(2).astype(str) + '%'\n",
    "\n",
    "results"
   ]
  },
  {
   "cell_type": "markdown",
   "metadata": {},
   "source": [
    "**test_indication_other has a positive effect on the performance metrics. We decide to add it as the seventh feature**"
   ]
  },
  {
   "cell_type": "markdown",
   "metadata": {},
   "source": [
    "**TO DO:\n",
    "    selecting a subset from df.copy() may need to redo the normalization"
   ]
  },
  {
   "cell_type": "code",
   "execution_count": 268,
   "metadata": {},
   "outputs": [],
   "source": [
    "# prepare the selected dataset with the 6th feature being shortness_of_breath and 7th feature being test_indication_Other\n",
    "selected_columns = ['test_indication_Contact with confirmed', 'head_ache', 'fever', 'cough','sore_throat','shortness_of_breath', 'test_indication_Other']\n",
    "X_selected = X_filled[X_filled.columns[X_filled.columns.isin(selected_columns)]]\n",
    "y_selected = y_filled"
   ]
  },
  {
   "cell_type": "code",
   "execution_count": 269,
   "metadata": {},
   "outputs": [],
   "source": [
    "# update the train and test split\n",
    "x_train, x_test, y_train, y_test = train_test_split(X_selected, y_filled, test_size=0.2, random_state=0)"
   ]
  },
  {
   "cell_type": "markdown",
   "metadata": {},
   "source": [
    "## Imbalanced sampling"
   ]
  },
  {
   "cell_type": "markdown",
   "metadata": {},
   "source": [
    "https://imbalanced-learn.org/stable/over_sampling.html#naive-random-over-sampling"
   ]
  },
  {
   "cell_type": "markdown",
   "metadata": {},
   "source": [
    "pip install imbalanced-learn"
   ]
  },
  {
   "cell_type": "code",
   "execution_count": 368,
   "metadata": {},
   "outputs": [
    {
     "name": "stdout",
     "output_type": "stream",
     "text": [
      "(465233, 7)\n",
      "(465233,)\n"
     ]
    }
   ],
   "source": [
    "X = X_selected.copy()\n",
    "Y = y_selected.copy()\n",
    "\n",
    "print(X.shape)\n",
    "print(Y.shape)"
   ]
  },
  {
   "cell_type": "markdown",
   "metadata": {},
   "source": [
    "**Oversampling: Naive Random Over-Sampling (ROS) to increase the sample size of under-represented data by replication with replacement**"
   ]
  },
  {
   "cell_type": "code",
   "execution_count": 369,
   "metadata": {},
   "outputs": [
    {
     "name": "stdout",
     "output_type": "stream",
     "text": [
      "Original Counter({0: 461012, 1: 4221})\n",
      "Resampled Counter({0: 461012, 1: 461012})\n"
     ]
    }
   ],
   "source": [
    "from imblearn.over_sampling import RandomOverSampler\n",
    "ros = RandomOverSampler(random_state=0)\n",
    "X_oversampled, y_oversampled = ros.fit_resample(X, Y)\n",
    "\n",
    "print('Original {}'.format(Counter(Y)))\n",
    "print('Resampled {}'.format(Counter(y_oversampled)))"
   ]
  },
  {
   "cell_type": "markdown",
   "metadata": {},
   "source": [
    "**Oversampling:SMOTE based on KNN and generating new samples**"
   ]
  },
  {
   "cell_type": "markdown",
   "metadata": {},
   "source": [
    "** to be delete ** ADASYN focuses on generating samples next to the original samples which are wrongly classified using a k-Nearest Neighbors classifier while the basic implementation of SMOTE will not make any distinction between easy and hard samples to be classified using the nearest neighbors rule"
   ]
  },
  {
   "cell_type": "code",
   "execution_count": 370,
   "metadata": {},
   "outputs": [
    {
     "name": "stdout",
     "output_type": "stream",
     "text": [
      "Original Counter({0: 461012, 1: 4221})\n",
      "Resampled Counter({0: 461012, 1: 461012})\n"
     ]
    }
   ],
   "source": [
    "from imblearn.over_sampling import SMOTE\n",
    "X_smote, y_smote = SMOTE().fit_resample(X, Y)\n",
    "\n",
    "print('Original {}'.format(Counter(Y)))\n",
    "print('Resampled {}'.format(Counter(y_smote)))"
   ]
  },
  {
   "cell_type": "markdown",
   "metadata": {},
   "source": [
    "**Under-sampling:Random Under-Sampler (RUS) is a fast and easy way to balance the data by randomly selecting a subset of data for the targeted classes**"
   ]
  },
  {
   "cell_type": "code",
   "execution_count": 371,
   "metadata": {},
   "outputs": [
    {
     "name": "stdout",
     "output_type": "stream",
     "text": [
      "Original Counter({0: 461012, 1: 4221})\n",
      "Resampled Counter({0: 4221, 1: 4221})\n"
     ]
    }
   ],
   "source": [
    "from imblearn.under_sampling import RandomUnderSampler\n",
    "rus = RandomUnderSampler(random_state=0)\n",
    "X_undersampled, y_undersampled = rus.fit_resample(X, Y)\n",
    "\n",
    "\n",
    "print('Original {}'.format(Counter(Y)))\n",
    "print('Resampled {}'.format(Counter(y_undersampled)))\n"
   ]
  },
  {
   "cell_type": "markdown",
   "metadata": {},
   "source": [
    "(delete after review) **Mixture - SMOTETomek and SMOTEENN** Probably not going to be used as it takes too long to run on the entire dataset\n",
    "\n",
    "SMOTETomek is somewhere upsampling and downsampling. SMOTETomek is a hybrid method which is a mixture of the above two methods, it uses an under-sampling method (Tomek) with an oversampling method (SMOTE). This is present within imblearn.combine module."
   ]
  },
  {
   "cell_type": "code",
   "execution_count": 274,
   "metadata": {},
   "outputs": [
    {
     "ename": "NameError",
     "evalue": "name 'imbalance' is not defined",
     "output_type": "error",
     "traceback": [
      "\u001b[0;31m---------------------------------------------------------------------------\u001b[0m",
      "\u001b[0;31mNameError\u001b[0m                                 Traceback (most recent call last)",
      "\u001b[0;32m<ipython-input-274-42321f6b73fb>\u001b[0m in \u001b[0;36m<module>\u001b[0;34m\u001b[0m\n\u001b[1;32m      2\u001b[0m \u001b[0;32mfrom\u001b[0m \u001b[0mimblearn\u001b[0m\u001b[0;34m.\u001b[0m\u001b[0mcombine\u001b[0m \u001b[0;32mimport\u001b[0m \u001b[0mSMOTETomek\u001b[0m\u001b[0;34m\u001b[0m\u001b[0;34m\u001b[0m\u001b[0m\n\u001b[1;32m      3\u001b[0m \u001b[0;34m\u001b[0m\u001b[0m\n\u001b[0;32m----> 4\u001b[0;31m \u001b[0mimbalance_smt\u001b[0m \u001b[0;34m=\u001b[0m \u001b[0mimbalance\u001b[0m\u001b[0;34m.\u001b[0m\u001b[0mcopy\u001b[0m\u001b[0;34m(\u001b[0m\u001b[0;34m)\u001b[0m\u001b[0;34m\u001b[0m\u001b[0;34m\u001b[0m\u001b[0m\n\u001b[0m\u001b[1;32m      5\u001b[0m \u001b[0;34m\u001b[0m\u001b[0m\n\u001b[1;32m      6\u001b[0m \u001b[0mimbalance_smt\u001b[0m\u001b[0;34m[\u001b[0m\u001b[0;34m'corona_result'\u001b[0m\u001b[0;34m]\u001b[0m \u001b[0;34m=\u001b[0m \u001b[0mimbalance_smt\u001b[0m\u001b[0;34m[\u001b[0m\u001b[0;34m'corona_result'\u001b[0m\u001b[0;34m]\u001b[0m\u001b[0;34m.\u001b[0m\u001b[0mstr\u001b[0m\u001b[0;34m.\u001b[0m\u001b[0mreplace\u001b[0m\u001b[0;34m(\u001b[0m\u001b[0;34m'Positive'\u001b[0m\u001b[0;34m,\u001b[0m \u001b[0;34m'1'\u001b[0m\u001b[0;34m)\u001b[0m\u001b[0;34m\u001b[0m\u001b[0;34m\u001b[0m\u001b[0m\n",
      "\u001b[0;31mNameError\u001b[0m: name 'imbalance' is not defined"
     ]
    }
   ],
   "source": [
    "#https://analyticsindiamag.com/handling-imbalanced-datasets-a-guide-with-hands-on-implementation/\n",
    "from imblearn.combine import SMOTETomek \n",
    "\n",
    "imbalance_smt = imbalance.copy()\n",
    "\n",
    "imbalance_smt['corona_result'] = imbalance_smt['corona_result'].str.replace('Positive', '1')\n",
    "imbalance_smt['corona_result'] = imbalance_smt['corona_result'].str.replace('Negative', '0')\n",
    "\n",
    "# this is so that SMOTETomek can be use as it only accepts int\n",
    "imbalance_smt = imbalance_smt.drop(['age', 'gender', 'test_indication'], axis=1)\n",
    "\n",
    "#limit to 1000 record to ensure the below is ran\n",
    "imbalance_smt = imbalance_smt[:1000]\n",
    "\n",
    "columns = imbalance_smt.columns.tolist()\n",
    "columns = [c for c in columns if c not in [\"corona_result\"]]\n",
    "# Store the variable we are predicting \n",
    "target = \"corona_result\"\n",
    "\n",
    "Xsmt = imbalance_smt[columns]\n",
    "Ysmt = imbalance_smt[target]\n",
    "\n",
    "print(Xsmt.shape)\n",
    "print(Ysmt.shape)\n",
    "\n",
    "from imblearn.combine import SMOTEENN\n",
    "smote_enn = SMOTEENN(random_state=0)\n",
    "X_resampled, y_resampled = smote_enn.fit_resample(Xsmt, Ysmt)\n",
    "\n",
    "print('Original {}'.format(Counter(Ysmt)))\n",
    "print('Resampled {}'.format(Counter(y_resampled)))\n",
    "\n",
    "smt = SMOTETomek()\n",
    "X_resampled, y_resampled=smt.fit_resample(Xsmt,Ysmt)\n",
    "\n",
    "print('Original {}'.format(Counter(Ysmt)))\n",
    "print('Resampled {}'.format(Counter(y_resampled)))"
   ]
  },
  {
   "cell_type": "markdown",
   "metadata": {},
   "source": [
    "## Modeling"
   ]
  },
  {
   "cell_type": "markdown",
   "metadata": {},
   "source": [
    "**the paramter of all classifier are tested and determined to be optimal by prior demos.**"
   ]
  },
  {
   "cell_type": "code",
   "execution_count": 364,
   "metadata": {},
   "outputs": [],
   "source": [
    "models = {\n",
    "    \"Dummy Classifier\" : DummyClassifier(strategy='uniform'), # dummy classifier to predict randomly\n",
    "    \"Most Frequent Clasifier\" : DummyClassifier(strategy='most_frequent'), # dummy classifier to always predict the majority\n",
    "    \"Perceptron\": Perceptron(alpha = 0.1),\n",
    "    \"Decision Tree (max_depth=None)\": DecisionTreeClassifier(max_depth=None, random_state=0),\n",
    "    \"GNB\": GaussianNB(),\n",
    "    \"RandomForest\": RandomForestClassifier(random_state=0, n_estimators = 101),\n",
    "    \"GradientBoostingForest\": GradientBoostingClassifier(random_state=0, n_estimators = 101),\n",
    "    \"XGBoost\": XGBClassifier(n_estimators=1000, tree_method='hist', random_state=0, eval_metric='mlogloss')\n",
    "}"
   ]
  },
  {
   "cell_type": "markdown",
   "metadata": {},
   "source": [
    "**Apply Neural Netword model to the dataset**"
   ]
  },
  {
   "cell_type": "code",
   "execution_count": 365,
   "metadata": {},
   "outputs": [],
   "source": [
    "from keras.models import Sequential\n",
    "from keras.layers import Dense\n",
    "from sklearn.metrics import roc_curve\n",
    "from numpy import sqrt\n",
    "from numpy import argmax\n",
    "# define the keras model\n",
    "nmodel = Sequential()\n",
    "# add layers\n",
    "nmodel.add(Dense(12, input_dim=7, activation='relu'))\n",
    "nmodel.add(Dense(7, activation='relu'))\n",
    "nmodel.add(Dense(1, activation='sigmoid'))\n",
    "nmodel.compile(loss='binary_crossentropy', optimizer='adam', metrics=['binary_accuracy', 'AUC'])\n",
    "models['Neural Network'] = nmodel"
   ]
  },
  {
   "cell_type": "code",
   "execution_count": 366,
   "metadata": {},
   "outputs": [],
   "source": [
    "def thresholding(pred, y): # threasholding the continuous predicted value to binary labels\n",
    "    # calculate roc curves\n",
    "    fpr, tpr, thresholds = roc_curve(y, pred)\n",
    "    # use gemans to select the optimal threshold\n",
    "    gmeans = sqrt(tpr * (1-fpr))\n",
    "    # locate the index of the largest g-mean\n",
    "    ix = argmax(gmeans)\n",
    "    threshold = thresholds[ix]\n",
    "    for i in range(len(y)):\n",
    "        pred[i] = 1 if pred[i] >= threshold else 0\n",
    "    return pred"
   ]
  },
  {
   "cell_type": "markdown",
   "metadata": {},
   "source": [
    "### original sampling"
   ]
  },
  {
   "cell_type": "code",
   "execution_count": 351,
   "metadata": {
    "scrolled": true
   },
   "outputs": [
    {
     "name": "stdout",
     "output_type": "stream",
     "text": [
      "13085/13085 [==============================] - 10s 726us/step - loss: 0.0230 - binary_accuracy: 0.9937 - auc: 0.8778\n",
      "13085/13085 [==============================] - 9s 676us/step - loss: 0.0230 - binary_accuracy: 0.9937 - auc: 0.8776\n",
      "13085/13085 [==============================] - 9s 685us/step - loss: 0.0230 - binary_accuracy: 0.9938 - auc: 0.8762\n",
      "13085/13085 [==============================] - 9s 674us/step - loss: 0.0229 - binary_accuracy: 0.9938 - auc: 0.8770\n",
      "13085/13085 [==============================] - 9s 695us/step - loss: 0.0229 - binary_accuracy: 0.9939 - auc: 0.8771\n",
      "13085/13085 [==============================] - 9s 679us/step - loss: 0.0230 - binary_accuracy: 0.9938 - auc: 0.8767\n",
      "13085/13085 [==============================] - 9s 719us/step - loss: 0.0227 - binary_accuracy: 0.9938 - auc: 0.8790\n",
      "13085/13085 [==============================] - 9s 709us/step - loss: 0.0228 - binary_accuracy: 0.9938 - auc: 0.8775\n",
      "13085/13085 [==============================] - 9s 687us/step - loss: 0.0227 - binary_accuracy: 0.9938 - auc: 0.8783\n",
      "13085/13085 [==============================] - 9s 704us/step - loss: 0.0226 - binary_accuracy: 0.9938 - auc: 0.8794\n"
     ]
    }
   ],
   "source": [
    "n_splits = 10;\n",
    "skf = StratifiedKFold(n_splits=n_splits, shuffle=True, random_state=0)\n",
    "prediction = dict() # store the metrics\n",
    "prediction_train = dict() # store the metrics for the trainning set\n",
    "for train_index, test_index in skf.split(X, Y):\n",
    "    \n",
    "    X_train, X_test = X.iloc[train_index], X.iloc[test_index]\n",
    "    y_train, y_test = Y[train_index], Y[test_index]\n",
    "    for classif_name in models.keys():\n",
    "        classif = models[classif_name]\n",
    "        classif.fit(X_train, y_train)\n",
    "        y_pred = classif.predict(X_test) # test\n",
    "        # threasholding the continuous predicted value to binary labels\n",
    "        y_pred = thresholding(y_pred, y_test)\n",
    "        output = evaluate_imbalanced(y_test, y_pred)\n",
    "        y_pred_train = classif.predict(X_train) # train\n",
    "        # threasholding the continuous predicted value to binary labels\n",
    "        y_pred_train = thresholding(y_pred_train, y_train)\n",
    "        output_train = evaluate_imbalanced(y_train, y_pred_train)\n",
    "        ## store the metrics in a dict\n",
    "        if classif_name in prediction:\n",
    "            for metric in prediction[classif_name].keys():\n",
    "                prediction[classif_name][metric] += output[metric]\n",
    "                prediction_train[classif_name][metric] += output_train[metric]\n",
    "        else:\n",
    "            prediction[classif_name] = output\n",
    "            prediction_train[classif_name] = output_train"
   ]
  },
  {
   "cell_type": "code",
   "execution_count": 352,
   "metadata": {},
   "outputs": [],
   "source": [
    "# calculate the avereage of metrics for k-folds\n",
    "for classif_name in prediction.keys():\n",
    "    for metric in prediction[classif_name].keys():\n",
    "        prediction[classif_name][metric] /= n_splits\n",
    "        prediction_train[classif_name][metric] /= n_splits"
   ]
  },
  {
   "cell_type": "code",
   "execution_count": 353,
   "metadata": {
    "scrolled": true
   },
   "outputs": [
    {
     "data": {
      "text/html": [
       "<div>\n",
       "<style scoped>\n",
       "    .dataframe tbody tr th:only-of-type {\n",
       "        vertical-align: middle;\n",
       "    }\n",
       "\n",
       "    .dataframe tbody tr th {\n",
       "        vertical-align: top;\n",
       "    }\n",
       "\n",
       "    .dataframe thead th {\n",
       "        text-align: right;\n",
       "    }\n",
       "</style>\n",
       "<table border=\"1\" class=\"dataframe\">\n",
       "  <thead>\n",
       "    <tr style=\"text-align: right;\">\n",
       "      <th></th>\n",
       "      <th>Sensitivity</th>\n",
       "      <th>Specificity</th>\n",
       "      <th>AUROC</th>\n",
       "      <th>F1</th>\n",
       "      <th>Geometric Mean</th>\n",
       "      <th>Macro Average MAE</th>\n",
       "    </tr>\n",
       "  </thead>\n",
       "  <tbody>\n",
       "    <tr>\n",
       "      <th>Neural Network</th>\n",
       "      <td>0.992997</td>\n",
       "      <td>0.761198</td>\n",
       "      <td>0.877097</td>\n",
       "      <td>0.663236</td>\n",
       "      <td>0.869349</td>\n",
       "      <td>0.122903</td>\n",
       "    </tr>\n",
       "    <tr>\n",
       "      <th>GNB</th>\n",
       "      <td>0.992614</td>\n",
       "      <td>0.761194</td>\n",
       "      <td>0.876904</td>\n",
       "      <td>0.651144</td>\n",
       "      <td>0.869180</td>\n",
       "      <td>0.123096</td>\n",
       "    </tr>\n",
       "    <tr>\n",
       "      <th>RandomForest</th>\n",
       "      <td>0.993857</td>\n",
       "      <td>0.701814</td>\n",
       "      <td>0.847835</td>\n",
       "      <td>0.673829</td>\n",
       "      <td>0.835112</td>\n",
       "      <td>0.152165</td>\n",
       "    </tr>\n",
       "    <tr>\n",
       "      <th>XGBoost</th>\n",
       "      <td>0.993859</td>\n",
       "      <td>0.701344</td>\n",
       "      <td>0.847602</td>\n",
       "      <td>0.673744</td>\n",
       "      <td>0.834829</td>\n",
       "      <td>0.152398</td>\n",
       "    </tr>\n",
       "    <tr>\n",
       "      <th>Decision Tree (max_depth=None)</th>\n",
       "      <td>0.993855</td>\n",
       "      <td>0.700875</td>\n",
       "      <td>0.847365</td>\n",
       "      <td>0.673435</td>\n",
       "      <td>0.834544</td>\n",
       "      <td>0.152635</td>\n",
       "    </tr>\n",
       "    <tr>\n",
       "      <th>GradientBoostingForest</th>\n",
       "      <td>0.993713</td>\n",
       "      <td>0.686787</td>\n",
       "      <td>0.840250</td>\n",
       "      <td>0.663839</td>\n",
       "      <td>0.826048</td>\n",
       "      <td>0.159750</td>\n",
       "    </tr>\n",
       "    <tr>\n",
       "      <th>Perceptron_a_0.1</th>\n",
       "      <td>0.992056</td>\n",
       "      <td>0.265482</td>\n",
       "      <td>0.628769</td>\n",
       "      <td>0.338347</td>\n",
       "      <td>0.470218</td>\n",
       "      <td>0.371231</td>\n",
       "    </tr>\n",
       "    <tr>\n",
       "      <th>Dummy Classifier</th>\n",
       "      <td>0.499614</td>\n",
       "      <td>0.503402</td>\n",
       "      <td>0.501508</td>\n",
       "      <td>0.017929</td>\n",
       "      <td>0.501347</td>\n",
       "      <td>0.498492</td>\n",
       "    </tr>\n",
       "    <tr>\n",
       "      <th>Most Frequent Clasifier</th>\n",
       "      <td>0.990927</td>\n",
       "      <td>0.009073</td>\n",
       "      <td>0.500000</td>\n",
       "      <td>0.000000</td>\n",
       "      <td>0.094819</td>\n",
       "      <td>0.500000</td>\n",
       "    </tr>\n",
       "  </tbody>\n",
       "</table>\n",
       "</div>"
      ],
      "text/plain": [
       "                                Sensitivity  Specificity     AUROC        F1  \\\n",
       "Neural Network                     0.992997     0.761198  0.877097  0.663236   \n",
       "GNB                                0.992614     0.761194  0.876904  0.651144   \n",
       "RandomForest                       0.993857     0.701814  0.847835  0.673829   \n",
       "XGBoost                            0.993859     0.701344  0.847602  0.673744   \n",
       "Decision Tree (max_depth=None)     0.993855     0.700875  0.847365  0.673435   \n",
       "GradientBoostingForest             0.993713     0.686787  0.840250  0.663839   \n",
       "Perceptron_a_0.1                   0.992056     0.265482  0.628769  0.338347   \n",
       "Dummy Classifier                   0.499614     0.503402  0.501508  0.017929   \n",
       "Most Frequent Clasifier            0.990927     0.009073  0.500000  0.000000   \n",
       "\n",
       "                                Geometric Mean  Macro Average MAE  \n",
       "Neural Network                        0.869349           0.122903  \n",
       "GNB                                   0.869180           0.123096  \n",
       "RandomForest                          0.835112           0.152165  \n",
       "XGBoost                               0.834829           0.152398  \n",
       "Decision Tree (max_depth=None)        0.834544           0.152635  \n",
       "GradientBoostingForest                0.826048           0.159750  \n",
       "Perceptron_a_0.1                      0.470218           0.371231  \n",
       "Dummy Classifier                      0.501347           0.498492  \n",
       "Most Frequent Clasifier               0.094819           0.500000  "
      ]
     },
     "execution_count": 353,
     "metadata": {},
     "output_type": "execute_result"
    }
   ],
   "source": [
    "results = pd.DataFrame([prediction[name] for name in models.keys()], index=models.keys())\n",
    "results.sort_values('AUROC', ascending=False)"
   ]
  },
  {
   "cell_type": "code",
   "execution_count": 354,
   "metadata": {},
   "outputs": [
    {
     "data": {
      "text/html": [
       "<div>\n",
       "<style scoped>\n",
       "    .dataframe tbody tr th:only-of-type {\n",
       "        vertical-align: middle;\n",
       "    }\n",
       "\n",
       "    .dataframe tbody tr th {\n",
       "        vertical-align: top;\n",
       "    }\n",
       "\n",
       "    .dataframe thead th {\n",
       "        text-align: right;\n",
       "    }\n",
       "</style>\n",
       "<table border=\"1\" class=\"dataframe\">\n",
       "  <thead>\n",
       "    <tr style=\"text-align: right;\">\n",
       "      <th></th>\n",
       "      <th>Sensitivity</th>\n",
       "      <th>Specificity</th>\n",
       "      <th>AUROC</th>\n",
       "      <th>F1</th>\n",
       "      <th>Geometric Mean</th>\n",
       "      <th>Macro Average MAE</th>\n",
       "    </tr>\n",
       "  </thead>\n",
       "  <tbody>\n",
       "    <tr>\n",
       "      <th>Neural Network</th>\n",
       "      <td>0.992997</td>\n",
       "      <td>0.761198</td>\n",
       "      <td>0.877097</td>\n",
       "      <td>0.663236</td>\n",
       "      <td>0.869349</td>\n",
       "      <td>0.122903</td>\n",
       "    </tr>\n",
       "    <tr>\n",
       "      <th>GNB</th>\n",
       "      <td>0.992614</td>\n",
       "      <td>0.761194</td>\n",
       "      <td>0.876904</td>\n",
       "      <td>0.651144</td>\n",
       "      <td>0.869180</td>\n",
       "      <td>0.123096</td>\n",
       "    </tr>\n",
       "    <tr>\n",
       "      <th>RandomForest</th>\n",
       "      <td>0.993857</td>\n",
       "      <td>0.701814</td>\n",
       "      <td>0.847835</td>\n",
       "      <td>0.673829</td>\n",
       "      <td>0.835112</td>\n",
       "      <td>0.152165</td>\n",
       "    </tr>\n",
       "    <tr>\n",
       "      <th>XGBoost</th>\n",
       "      <td>0.993859</td>\n",
       "      <td>0.701344</td>\n",
       "      <td>0.847602</td>\n",
       "      <td>0.673744</td>\n",
       "      <td>0.834829</td>\n",
       "      <td>0.152398</td>\n",
       "    </tr>\n",
       "    <tr>\n",
       "      <th>Decision Tree (max_depth=None)</th>\n",
       "      <td>0.993855</td>\n",
       "      <td>0.700875</td>\n",
       "      <td>0.847365</td>\n",
       "      <td>0.673435</td>\n",
       "      <td>0.834544</td>\n",
       "      <td>0.152635</td>\n",
       "    </tr>\n",
       "    <tr>\n",
       "      <th>GradientBoostingForest</th>\n",
       "      <td>0.993713</td>\n",
       "      <td>0.686787</td>\n",
       "      <td>0.840250</td>\n",
       "      <td>0.663839</td>\n",
       "      <td>0.826048</td>\n",
       "      <td>0.159750</td>\n",
       "    </tr>\n",
       "    <tr>\n",
       "      <th>Perceptron_a_0.1</th>\n",
       "      <td>0.992056</td>\n",
       "      <td>0.265482</td>\n",
       "      <td>0.628769</td>\n",
       "      <td>0.338347</td>\n",
       "      <td>0.470218</td>\n",
       "      <td>0.371231</td>\n",
       "    </tr>\n",
       "    <tr>\n",
       "      <th>Dummy Classifier</th>\n",
       "      <td>0.499614</td>\n",
       "      <td>0.503402</td>\n",
       "      <td>0.501508</td>\n",
       "      <td>0.017929</td>\n",
       "      <td>0.501347</td>\n",
       "      <td>0.498492</td>\n",
       "    </tr>\n",
       "    <tr>\n",
       "      <th>Most Frequent Clasifier</th>\n",
       "      <td>0.990927</td>\n",
       "      <td>0.009073</td>\n",
       "      <td>0.500000</td>\n",
       "      <td>0.000000</td>\n",
       "      <td>0.094819</td>\n",
       "      <td>0.500000</td>\n",
       "    </tr>\n",
       "  </tbody>\n",
       "</table>\n",
       "</div>"
      ],
      "text/plain": [
       "                                Sensitivity  Specificity     AUROC        F1  \\\n",
       "Neural Network                     0.992997     0.761198  0.877097  0.663236   \n",
       "GNB                                0.992614     0.761194  0.876904  0.651144   \n",
       "RandomForest                       0.993857     0.701814  0.847835  0.673829   \n",
       "XGBoost                            0.993859     0.701344  0.847602  0.673744   \n",
       "Decision Tree (max_depth=None)     0.993855     0.700875  0.847365  0.673435   \n",
       "GradientBoostingForest             0.993713     0.686787  0.840250  0.663839   \n",
       "Perceptron_a_0.1                   0.992056     0.265482  0.628769  0.338347   \n",
       "Dummy Classifier                   0.499614     0.503402  0.501508  0.017929   \n",
       "Most Frequent Clasifier            0.990927     0.009073  0.500000  0.000000   \n",
       "\n",
       "                                Geometric Mean  Macro Average MAE  \n",
       "Neural Network                        0.869349           0.122903  \n",
       "GNB                                   0.869180           0.123096  \n",
       "RandomForest                          0.835112           0.152165  \n",
       "XGBoost                               0.834829           0.152398  \n",
       "Decision Tree (max_depth=None)        0.834544           0.152635  \n",
       "GradientBoostingForest                0.826048           0.159750  \n",
       "Perceptron_a_0.1                      0.470218           0.371231  \n",
       "Dummy Classifier                      0.501347           0.498492  \n",
       "Most Frequent Clasifier               0.094819           0.500000  "
      ]
     },
     "execution_count": 354,
     "metadata": {},
     "output_type": "execute_result"
    }
   ],
   "source": [
    "results_train = pd.DataFrame([prediction_train[name] for name in models.keys()], index=models.keys())\n",
    "results.sort_values('AUROC', ascending=False)"
   ]
  },
  {
   "cell_type": "markdown",
   "metadata": {},
   "source": [
    "### over sampling"
   ]
  },
  {
   "cell_type": "code",
   "execution_count": 372,
   "metadata": {},
   "outputs": [
    {
     "name": "stdout",
     "output_type": "stream",
     "text": [
      "25932/25932 [==============================] - 19s 718us/step - loss: 0.3224 - binary_accuracy: 0.8767 - auc: 0.8778\n",
      "25932/25932 [==============================] - 18s 699us/step - loss: 0.3192 - binary_accuracy: 0.8774 - auc: 0.8778\n",
      "25932/25932 [==============================] - 19s 716us/step - loss: 0.3183 - binary_accuracy: 0.8776 - auc: 0.8782\n",
      "25932/25932 [==============================] - 20s 757us/step - loss: 0.3181 - binary_accuracy: 0.8777 - auc: 0.8785\n",
      "25932/25932 [==============================] - 17s 654us/step - loss: 0.3182 - binary_accuracy: 0.8775 - auc: 0.8784\n",
      "25932/25932 [==============================] - 18s 684us/step - loss: 0.3187 - binary_accuracy: 0.8773 - auc: 0.8781\n",
      "25932/25932 [==============================] - 18s 705us/step - loss: 0.3186 - binary_accuracy: 0.8773 - auc: 0.8777\n",
      "25932/25932 [==============================] - 17s 656us/step - loss: 0.3184 - binary_accuracy: 0.8773 - auc: 0.8782\n",
      "25932/25932 [==============================] - 18s 675us/step - loss: 0.3182 - binary_accuracy: 0.8775 - auc: 0.8781\n",
      "25932/25932 [==============================] - 18s 693us/step - loss: 0.3183 - binary_accuracy: 0.8774 - auc: 0.8783\n"
     ]
    }
   ],
   "source": [
    "n_splits = 10;\n",
    "skf = StratifiedKFold(n_splits=n_splits, shuffle=True, random_state=0)\n",
    "prediction = dict() # store the metrics\n",
    "prediction_train = dict() # store the metrics for the trainning set\n",
    "for train_index, test_index in skf.split(X_oversampled, y_oversampled):\n",
    "    \n",
    "    X_train, X_test = X_oversampled.iloc[train_index], X_oversampled.iloc[test_index]\n",
    "    y_train, y_test = y_oversampled[train_index], y_oversampled[test_index]\n",
    "    for classif_name in models.keys():\n",
    "        classif = models[classif_name]\n",
    "        classif.fit(X_train, y_train)\n",
    "        y_pred = classif.predict(X_test) # test\n",
    "        # threasholding the continuous predicted value to binary labels\n",
    "        y_pred = thresholding(y_pred, y_test)\n",
    "        output = evaluate_imbalanced(y_test, y_pred)\n",
    "        y_pred_train = classif.predict(X_train) # train\n",
    "        # threasholding the continuous predicted value to binary labels\n",
    "        y_pred_train = thresholding(y_pred_train, y_train)\n",
    "        output_train = evaluate_imbalanced(y_train, y_pred_train)\n",
    "        ## store the metrics in a dict\n",
    "        if classif_name in prediction:\n",
    "            for metric in prediction[classif_name].keys():\n",
    "                prediction[classif_name][metric] += output[metric]\n",
    "                prediction_train[classif_name][metric] += output_train[metric]\n",
    "        else:\n",
    "            prediction[classif_name] = output\n",
    "            prediction_train[classif_name] = output_train"
   ]
  },
  {
   "cell_type": "code",
   "execution_count": 373,
   "metadata": {},
   "outputs": [],
   "source": [
    "# calculate the avereage of metrics for k-folds\n",
    "for classif_name in prediction.keys():\n",
    "    for metric in prediction[classif_name].keys():\n",
    "        prediction[classif_name][metric] /= n_splits\n",
    "        prediction_train[classif_name][metric] /= n_splits"
   ]
  },
  {
   "cell_type": "code",
   "execution_count": 374,
   "metadata": {},
   "outputs": [
    {
     "data": {
      "text/html": [
       "<div>\n",
       "<style scoped>\n",
       "    .dataframe tbody tr th:only-of-type {\n",
       "        vertical-align: middle;\n",
       "    }\n",
       "\n",
       "    .dataframe tbody tr th {\n",
       "        vertical-align: top;\n",
       "    }\n",
       "\n",
       "    .dataframe thead th {\n",
       "        text-align: right;\n",
       "    }\n",
       "</style>\n",
       "<table border=\"1\" class=\"dataframe\">\n",
       "  <thead>\n",
       "    <tr style=\"text-align: right;\">\n",
       "      <th></th>\n",
       "      <th>Sensitivity</th>\n",
       "      <th>Specificity</th>\n",
       "      <th>AUROC</th>\n",
       "      <th>F1</th>\n",
       "      <th>Geometric Mean</th>\n",
       "      <th>Macro Average MAE</th>\n",
       "    </tr>\n",
       "  </thead>\n",
       "  <tbody>\n",
       "    <tr>\n",
       "      <th>XGBoost</th>\n",
       "      <td>0.877509</td>\n",
       "      <td>0.877509</td>\n",
       "      <td>0.877509</td>\n",
       "      <td>0.861220</td>\n",
       "      <td>0.877509</td>\n",
       "      <td>0.122491</td>\n",
       "    </tr>\n",
       "    <tr>\n",
       "      <th>Decision Tree (max_depth=None)</th>\n",
       "      <td>0.877505</td>\n",
       "      <td>0.877505</td>\n",
       "      <td>0.877505</td>\n",
       "      <td>0.861217</td>\n",
       "      <td>0.877505</td>\n",
       "      <td>0.122495</td>\n",
       "    </tr>\n",
       "    <tr>\n",
       "      <th>RandomForest</th>\n",
       "      <td>0.877503</td>\n",
       "      <td>0.877503</td>\n",
       "      <td>0.877503</td>\n",
       "      <td>0.861215</td>\n",
       "      <td>0.877503</td>\n",
       "      <td>0.122497</td>\n",
       "    </tr>\n",
       "    <tr>\n",
       "      <th>GradientBoostingForest</th>\n",
       "      <td>0.877462</td>\n",
       "      <td>0.877462</td>\n",
       "      <td>0.877462</td>\n",
       "      <td>0.861175</td>\n",
       "      <td>0.877462</td>\n",
       "      <td>0.122538</td>\n",
       "    </tr>\n",
       "    <tr>\n",
       "      <th>Neural Network</th>\n",
       "      <td>0.877457</td>\n",
       "      <td>0.877457</td>\n",
       "      <td>0.877457</td>\n",
       "      <td>0.861170</td>\n",
       "      <td>0.877457</td>\n",
       "      <td>0.122543</td>\n",
       "    </tr>\n",
       "    <tr>\n",
       "      <th>Perceptron</th>\n",
       "      <td>0.877452</td>\n",
       "      <td>0.877452</td>\n",
       "      <td>0.877452</td>\n",
       "      <td>0.861165</td>\n",
       "      <td>0.877452</td>\n",
       "      <td>0.122548</td>\n",
       "    </tr>\n",
       "    <tr>\n",
       "      <th>GNB</th>\n",
       "      <td>0.877452</td>\n",
       "      <td>0.877452</td>\n",
       "      <td>0.877452</td>\n",
       "      <td>0.861165</td>\n",
       "      <td>0.877452</td>\n",
       "      <td>0.122548</td>\n",
       "    </tr>\n",
       "    <tr>\n",
       "      <th>Dummy Classifier</th>\n",
       "      <td>0.500148</td>\n",
       "      <td>0.500147</td>\n",
       "      <td>0.500147</td>\n",
       "      <td>0.500166</td>\n",
       "      <td>0.500147</td>\n",
       "      <td>0.499853</td>\n",
       "    </tr>\n",
       "    <tr>\n",
       "      <th>Most Frequent Clasifier</th>\n",
       "      <td>0.500000</td>\n",
       "      <td>0.500000</td>\n",
       "      <td>0.500000</td>\n",
       "      <td>0.000000</td>\n",
       "      <td>0.500000</td>\n",
       "      <td>0.500000</td>\n",
       "    </tr>\n",
       "  </tbody>\n",
       "</table>\n",
       "</div>"
      ],
      "text/plain": [
       "                                Sensitivity  Specificity     AUROC        F1  \\\n",
       "XGBoost                            0.877509     0.877509  0.877509  0.861220   \n",
       "Decision Tree (max_depth=None)     0.877505     0.877505  0.877505  0.861217   \n",
       "RandomForest                       0.877503     0.877503  0.877503  0.861215   \n",
       "GradientBoostingForest             0.877462     0.877462  0.877462  0.861175   \n",
       "Neural Network                     0.877457     0.877457  0.877457  0.861170   \n",
       "Perceptron                         0.877452     0.877452  0.877452  0.861165   \n",
       "GNB                                0.877452     0.877452  0.877452  0.861165   \n",
       "Dummy Classifier                   0.500148     0.500147  0.500147  0.500166   \n",
       "Most Frequent Clasifier            0.500000     0.500000  0.500000  0.000000   \n",
       "\n",
       "                                Geometric Mean  Macro Average MAE  \n",
       "XGBoost                               0.877509           0.122491  \n",
       "Decision Tree (max_depth=None)        0.877505           0.122495  \n",
       "RandomForest                          0.877503           0.122497  \n",
       "GradientBoostingForest                0.877462           0.122538  \n",
       "Neural Network                        0.877457           0.122543  \n",
       "Perceptron                            0.877452           0.122548  \n",
       "GNB                                   0.877452           0.122548  \n",
       "Dummy Classifier                      0.500147           0.499853  \n",
       "Most Frequent Clasifier               0.500000           0.500000  "
      ]
     },
     "execution_count": 374,
     "metadata": {},
     "output_type": "execute_result"
    }
   ],
   "source": [
    "results = pd.DataFrame([prediction[name] for name in models.keys()], index=models.keys())\n",
    "results.sort_values('AUROC', ascending=False)"
   ]
  },
  {
   "cell_type": "code",
   "execution_count": 375,
   "metadata": {},
   "outputs": [
    {
     "data": {
      "text/html": [
       "<div>\n",
       "<style scoped>\n",
       "    .dataframe tbody tr th:only-of-type {\n",
       "        vertical-align: middle;\n",
       "    }\n",
       "\n",
       "    .dataframe tbody tr th {\n",
       "        vertical-align: top;\n",
       "    }\n",
       "\n",
       "    .dataframe thead th {\n",
       "        text-align: right;\n",
       "    }\n",
       "</style>\n",
       "<table border=\"1\" class=\"dataframe\">\n",
       "  <thead>\n",
       "    <tr style=\"text-align: right;\">\n",
       "      <th></th>\n",
       "      <th>Sensitivity</th>\n",
       "      <th>Specificity</th>\n",
       "      <th>AUROC</th>\n",
       "      <th>F1</th>\n",
       "      <th>Geometric Mean</th>\n",
       "      <th>Macro Average MAE</th>\n",
       "    </tr>\n",
       "  </thead>\n",
       "  <tbody>\n",
       "    <tr>\n",
       "      <th>Decision Tree (max_depth=None)</th>\n",
       "      <td>0.877511</td>\n",
       "      <td>0.877511</td>\n",
       "      <td>0.877511</td>\n",
       "      <td>0.861224</td>\n",
       "      <td>0.877511</td>\n",
       "      <td>0.122489</td>\n",
       "    </tr>\n",
       "    <tr>\n",
       "      <th>RandomForest</th>\n",
       "      <td>0.877511</td>\n",
       "      <td>0.877511</td>\n",
       "      <td>0.877511</td>\n",
       "      <td>0.861224</td>\n",
       "      <td>0.877511</td>\n",
       "      <td>0.122489</td>\n",
       "    </tr>\n",
       "    <tr>\n",
       "      <th>XGBoost</th>\n",
       "      <td>0.877511</td>\n",
       "      <td>0.877511</td>\n",
       "      <td>0.877511</td>\n",
       "      <td>0.861224</td>\n",
       "      <td>0.877511</td>\n",
       "      <td>0.122489</td>\n",
       "    </tr>\n",
       "    <tr>\n",
       "      <th>GradientBoostingForest</th>\n",
       "      <td>0.877460</td>\n",
       "      <td>0.877460</td>\n",
       "      <td>0.877460</td>\n",
       "      <td>0.861174</td>\n",
       "      <td>0.877460</td>\n",
       "      <td>0.122540</td>\n",
       "    </tr>\n",
       "    <tr>\n",
       "      <th>Neural Network</th>\n",
       "      <td>0.877458</td>\n",
       "      <td>0.877458</td>\n",
       "      <td>0.877458</td>\n",
       "      <td>0.861173</td>\n",
       "      <td>0.877458</td>\n",
       "      <td>0.122542</td>\n",
       "    </tr>\n",
       "    <tr>\n",
       "      <th>Perceptron</th>\n",
       "      <td>0.877452</td>\n",
       "      <td>0.877452</td>\n",
       "      <td>0.877452</td>\n",
       "      <td>0.861167</td>\n",
       "      <td>0.877452</td>\n",
       "      <td>0.122548</td>\n",
       "    </tr>\n",
       "    <tr>\n",
       "      <th>GNB</th>\n",
       "      <td>0.877452</td>\n",
       "      <td>0.877452</td>\n",
       "      <td>0.877452</td>\n",
       "      <td>0.861167</td>\n",
       "      <td>0.877452</td>\n",
       "      <td>0.122548</td>\n",
       "    </tr>\n",
       "    <tr>\n",
       "      <th>Most Frequent Clasifier</th>\n",
       "      <td>0.500000</td>\n",
       "      <td>0.500000</td>\n",
       "      <td>0.500000</td>\n",
       "      <td>0.000000</td>\n",
       "      <td>0.500000</td>\n",
       "      <td>0.500000</td>\n",
       "    </tr>\n",
       "    <tr>\n",
       "      <th>Dummy Classifier</th>\n",
       "      <td>0.499626</td>\n",
       "      <td>0.499626</td>\n",
       "      <td>0.499626</td>\n",
       "      <td>0.499663</td>\n",
       "      <td>0.499626</td>\n",
       "      <td>0.500374</td>\n",
       "    </tr>\n",
       "  </tbody>\n",
       "</table>\n",
       "</div>"
      ],
      "text/plain": [
       "                                Sensitivity  Specificity     AUROC        F1  \\\n",
       "Decision Tree (max_depth=None)     0.877511     0.877511  0.877511  0.861224   \n",
       "RandomForest                       0.877511     0.877511  0.877511  0.861224   \n",
       "XGBoost                            0.877511     0.877511  0.877511  0.861224   \n",
       "GradientBoostingForest             0.877460     0.877460  0.877460  0.861174   \n",
       "Neural Network                     0.877458     0.877458  0.877458  0.861173   \n",
       "Perceptron                         0.877452     0.877452  0.877452  0.861167   \n",
       "GNB                                0.877452     0.877452  0.877452  0.861167   \n",
       "Most Frequent Clasifier            0.500000     0.500000  0.500000  0.000000   \n",
       "Dummy Classifier                   0.499626     0.499626  0.499626  0.499663   \n",
       "\n",
       "                                Geometric Mean  Macro Average MAE  \n",
       "Decision Tree (max_depth=None)        0.877511           0.122489  \n",
       "RandomForest                          0.877511           0.122489  \n",
       "XGBoost                               0.877511           0.122489  \n",
       "GradientBoostingForest                0.877460           0.122540  \n",
       "Neural Network                        0.877458           0.122542  \n",
       "Perceptron                            0.877452           0.122548  \n",
       "GNB                                   0.877452           0.122548  \n",
       "Most Frequent Clasifier               0.500000           0.500000  \n",
       "Dummy Classifier                      0.499626           0.500374  "
      ]
     },
     "execution_count": 375,
     "metadata": {},
     "output_type": "execute_result"
    }
   ],
   "source": [
    "results = pd.DataFrame([prediction_train[name] for name in models.keys()], index=models.keys())\n",
    "results.sort_values('AUROC', ascending=False)"
   ]
  },
  {
   "cell_type": "markdown",
   "metadata": {},
   "source": [
    "### over sampling with SMOTE"
   ]
  },
  {
   "cell_type": "code",
   "execution_count": 376,
   "metadata": {},
   "outputs": [
    {
     "name": "stdout",
     "output_type": "stream",
     "text": [
      "25932/25932 [==============================] - 19s 715us/step - loss: 0.3190 - binary_accuracy: 0.8770 - auc: 0.8774\n",
      "25932/25932 [==============================] - 17s 663us/step - loss: 0.3191 - binary_accuracy: 0.8770 - auc: 0.8779\n",
      "25932/25932 [==============================] - 18s 692us/step - loss: 0.3186 - binary_accuracy: 0.8772 - auc: 0.8780\n",
      "25932/25932 [==============================] - 20s 763us/step - loss: 0.3190 - binary_accuracy: 0.8770 - auc: 0.8775\n",
      "25932/25932 [==============================] - 19s 750us/step - loss: 0.3190 - binary_accuracy: 0.8769 - auc: 0.8776\n",
      "25932/25932 [==============================] - 17s 658us/step - loss: 0.3190 - binary_accuracy: 0.8770 - auc: 0.8777\n",
      "25932/25932 [==============================] - 19s 727us/step - loss: 0.3188 - binary_accuracy: 0.8771 - auc: 0.8775\n",
      "25932/25932 [==============================] - 17s 661us/step - loss: 0.3188 - binary_accuracy: 0.8771 - auc: 0.8777\n",
      "25932/25932 [==============================] - 18s 684us/step - loss: 0.3188 - binary_accuracy: 0.8770 - auc: 0.8778\n",
      "25932/25932 [==============================] - 19s 745us/step - loss: 0.3190 - binary_accuracy: 0.8770 - auc: 0.8778\n"
     ]
    }
   ],
   "source": [
    "n_splits = 10;\n",
    "skf = StratifiedKFold(n_splits=n_splits, shuffle=True, random_state=0)\n",
    "prediction = dict() # store the metrics\n",
    "prediction_train = dict() # store the metrics for the trainning set\n",
    "for train_index, test_index in skf.split(X_smote, y_smote):\n",
    "    \n",
    "    X_train, X_test = X_smote.iloc[train_index], X_smote.iloc[test_index]\n",
    "    y_train, y_test = y_smote[train_index], y_smote[test_index]\n",
    "    for classif_name in models.keys():\n",
    "        classif = models[classif_name]\n",
    "        classif.fit(X_train, y_train)\n",
    "        y_pred = classif.predict(X_test) # test\n",
    "        # threasholding the continuous predicted value to binary labels\n",
    "        y_pred = thresholding(y_pred, y_test)\n",
    "        output = evaluate_imbalanced(y_test, y_pred)\n",
    "        y_pred_train = classif.predict(X_train) # train\n",
    "        # threasholding the continuous predicted value to binary labels\n",
    "        y_pred_train = thresholding(y_pred_train, y_train)\n",
    "        output_train = evaluate_imbalanced(y_train, y_pred_train)\n",
    "        ## store the metrics in a dict\n",
    "        if classif_name in prediction:\n",
    "            for metric in prediction[classif_name].keys():\n",
    "                prediction[classif_name][metric] += output[metric]\n",
    "                prediction_train[classif_name][metric] += output_train[metric]\n",
    "        else:\n",
    "            prediction[classif_name] = output\n",
    "            prediction_train[classif_name] = output_train"
   ]
  },
  {
   "cell_type": "code",
   "execution_count": 377,
   "metadata": {},
   "outputs": [],
   "source": [
    "# calculate the avereage of metrics for k-folds\n",
    "for classif_name in prediction.keys():\n",
    "    for metric in prediction[classif_name].keys():\n",
    "        prediction[classif_name][metric] /= n_splits\n",
    "        prediction_train[classif_name][metric] /= n_splits"
   ]
  },
  {
   "cell_type": "code",
   "execution_count": 378,
   "metadata": {},
   "outputs": [
    {
     "data": {
      "text/html": [
       "<div>\n",
       "<style scoped>\n",
       "    .dataframe tbody tr th:only-of-type {\n",
       "        vertical-align: middle;\n",
       "    }\n",
       "\n",
       "    .dataframe tbody tr th {\n",
       "        vertical-align: top;\n",
       "    }\n",
       "\n",
       "    .dataframe thead th {\n",
       "        text-align: right;\n",
       "    }\n",
       "</style>\n",
       "<table border=\"1\" class=\"dataframe\">\n",
       "  <thead>\n",
       "    <tr style=\"text-align: right;\">\n",
       "      <th></th>\n",
       "      <th>Sensitivity</th>\n",
       "      <th>Specificity</th>\n",
       "      <th>AUROC</th>\n",
       "      <th>F1</th>\n",
       "      <th>Geometric Mean</th>\n",
       "      <th>Macro Average MAE</th>\n",
       "    </tr>\n",
       "  </thead>\n",
       "  <tbody>\n",
       "    <tr>\n",
       "      <th>Decision Tree (max_depth=None)</th>\n",
       "      <td>0.877055</td>\n",
       "      <td>0.877055</td>\n",
       "      <td>0.877055</td>\n",
       "      <td>0.860599</td>\n",
       "      <td>0.877055</td>\n",
       "      <td>0.122945</td>\n",
       "    </tr>\n",
       "    <tr>\n",
       "      <th>XGBoost</th>\n",
       "      <td>0.877055</td>\n",
       "      <td>0.877055</td>\n",
       "      <td>0.877055</td>\n",
       "      <td>0.860598</td>\n",
       "      <td>0.877055</td>\n",
       "      <td>0.122945</td>\n",
       "    </tr>\n",
       "    <tr>\n",
       "      <th>Neural Network</th>\n",
       "      <td>0.877049</td>\n",
       "      <td>0.877049</td>\n",
       "      <td>0.877049</td>\n",
       "      <td>0.860620</td>\n",
       "      <td>0.877049</td>\n",
       "      <td>0.122951</td>\n",
       "    </tr>\n",
       "    <tr>\n",
       "      <th>RandomForest</th>\n",
       "      <td>0.877044</td>\n",
       "      <td>0.877044</td>\n",
       "      <td>0.877044</td>\n",
       "      <td>0.860593</td>\n",
       "      <td>0.877044</td>\n",
       "      <td>0.122956</td>\n",
       "    </tr>\n",
       "    <tr>\n",
       "      <th>GradientBoostingForest</th>\n",
       "      <td>0.877012</td>\n",
       "      <td>0.877012</td>\n",
       "      <td>0.877012</td>\n",
       "      <td>0.860595</td>\n",
       "      <td>0.877012</td>\n",
       "      <td>0.122988</td>\n",
       "    </tr>\n",
       "    <tr>\n",
       "      <th>GNB</th>\n",
       "      <td>0.877002</td>\n",
       "      <td>0.877002</td>\n",
       "      <td>0.877002</td>\n",
       "      <td>0.860585</td>\n",
       "      <td>0.877002</td>\n",
       "      <td>0.122998</td>\n",
       "    </tr>\n",
       "    <tr>\n",
       "      <th>Perceptron</th>\n",
       "      <td>0.875667</td>\n",
       "      <td>0.875667</td>\n",
       "      <td>0.875667</td>\n",
       "      <td>0.858834</td>\n",
       "      <td>0.875667</td>\n",
       "      <td>0.124333</td>\n",
       "    </tr>\n",
       "    <tr>\n",
       "      <th>Most Frequent Clasifier</th>\n",
       "      <td>0.500000</td>\n",
       "      <td>0.500000</td>\n",
       "      <td>0.500000</td>\n",
       "      <td>0.000000</td>\n",
       "      <td>0.500000</td>\n",
       "      <td>0.500000</td>\n",
       "    </tr>\n",
       "    <tr>\n",
       "      <th>Dummy Classifier</th>\n",
       "      <td>0.499346</td>\n",
       "      <td>0.499346</td>\n",
       "      <td>0.499346</td>\n",
       "      <td>0.499130</td>\n",
       "      <td>0.499346</td>\n",
       "      <td>0.500654</td>\n",
       "    </tr>\n",
       "  </tbody>\n",
       "</table>\n",
       "</div>"
      ],
      "text/plain": [
       "                                Sensitivity  Specificity     AUROC        F1  \\\n",
       "Decision Tree (max_depth=None)     0.877055     0.877055  0.877055  0.860599   \n",
       "XGBoost                            0.877055     0.877055  0.877055  0.860598   \n",
       "Neural Network                     0.877049     0.877049  0.877049  0.860620   \n",
       "RandomForest                       0.877044     0.877044  0.877044  0.860593   \n",
       "GradientBoostingForest             0.877012     0.877012  0.877012  0.860595   \n",
       "GNB                                0.877002     0.877002  0.877002  0.860585   \n",
       "Perceptron                         0.875667     0.875667  0.875667  0.858834   \n",
       "Most Frequent Clasifier            0.500000     0.500000  0.500000  0.000000   \n",
       "Dummy Classifier                   0.499346     0.499346  0.499346  0.499130   \n",
       "\n",
       "                                Geometric Mean  Macro Average MAE  \n",
       "Decision Tree (max_depth=None)        0.877055           0.122945  \n",
       "XGBoost                               0.877055           0.122945  \n",
       "Neural Network                        0.877049           0.122951  \n",
       "RandomForest                          0.877044           0.122956  \n",
       "GradientBoostingForest                0.877012           0.122988  \n",
       "GNB                                   0.877002           0.122998  \n",
       "Perceptron                            0.875667           0.124333  \n",
       "Most Frequent Clasifier               0.500000           0.500000  \n",
       "Dummy Classifier                      0.499346           0.500654  "
      ]
     },
     "execution_count": 378,
     "metadata": {},
     "output_type": "execute_result"
    }
   ],
   "source": [
    "results = pd.DataFrame([prediction[name] for name in models.keys()], index=models.keys())\n",
    "results.sort_values('AUROC', ascending=False)"
   ]
  },
  {
   "cell_type": "code",
   "execution_count": 379,
   "metadata": {},
   "outputs": [
    {
     "data": {
      "text/html": [
       "<div>\n",
       "<style scoped>\n",
       "    .dataframe tbody tr th:only-of-type {\n",
       "        vertical-align: middle;\n",
       "    }\n",
       "\n",
       "    .dataframe tbody tr th {\n",
       "        vertical-align: top;\n",
       "    }\n",
       "\n",
       "    .dataframe thead th {\n",
       "        text-align: right;\n",
       "    }\n",
       "</style>\n",
       "<table border=\"1\" class=\"dataframe\">\n",
       "  <thead>\n",
       "    <tr style=\"text-align: right;\">\n",
       "      <th></th>\n",
       "      <th>Sensitivity</th>\n",
       "      <th>Specificity</th>\n",
       "      <th>AUROC</th>\n",
       "      <th>F1</th>\n",
       "      <th>Geometric Mean</th>\n",
       "      <th>Macro Average MAE</th>\n",
       "    </tr>\n",
       "  </thead>\n",
       "  <tbody>\n",
       "    <tr>\n",
       "      <th>Decision Tree (max_depth=None)</th>\n",
       "      <td>0.877069</td>\n",
       "      <td>0.877069</td>\n",
       "      <td>0.877069</td>\n",
       "      <td>0.860614</td>\n",
       "      <td>0.877069</td>\n",
       "      <td>0.122931</td>\n",
       "    </tr>\n",
       "    <tr>\n",
       "      <th>XGBoost</th>\n",
       "      <td>0.877069</td>\n",
       "      <td>0.877069</td>\n",
       "      <td>0.877069</td>\n",
       "      <td>0.860614</td>\n",
       "      <td>0.877069</td>\n",
       "      <td>0.122931</td>\n",
       "    </tr>\n",
       "    <tr>\n",
       "      <th>RandomForest</th>\n",
       "      <td>0.877068</td>\n",
       "      <td>0.877068</td>\n",
       "      <td>0.877068</td>\n",
       "      <td>0.860618</td>\n",
       "      <td>0.877068</td>\n",
       "      <td>0.122932</td>\n",
       "    </tr>\n",
       "    <tr>\n",
       "      <th>Neural Network</th>\n",
       "      <td>0.877023</td>\n",
       "      <td>0.877023</td>\n",
       "      <td>0.877023</td>\n",
       "      <td>0.860606</td>\n",
       "      <td>0.877023</td>\n",
       "      <td>0.122977</td>\n",
       "    </tr>\n",
       "    <tr>\n",
       "      <th>GradientBoostingForest</th>\n",
       "      <td>0.877011</td>\n",
       "      <td>0.877011</td>\n",
       "      <td>0.877011</td>\n",
       "      <td>0.860594</td>\n",
       "      <td>0.877011</td>\n",
       "      <td>0.122989</td>\n",
       "    </tr>\n",
       "    <tr>\n",
       "      <th>GNB</th>\n",
       "      <td>0.877002</td>\n",
       "      <td>0.877002</td>\n",
       "      <td>0.877002</td>\n",
       "      <td>0.860586</td>\n",
       "      <td>0.877002</td>\n",
       "      <td>0.122998</td>\n",
       "    </tr>\n",
       "    <tr>\n",
       "      <th>Perceptron</th>\n",
       "      <td>0.875596</td>\n",
       "      <td>0.875596</td>\n",
       "      <td>0.875596</td>\n",
       "      <td>0.858739</td>\n",
       "      <td>0.875596</td>\n",
       "      <td>0.124404</td>\n",
       "    </tr>\n",
       "    <tr>\n",
       "      <th>Dummy Classifier</th>\n",
       "      <td>0.500172</td>\n",
       "      <td>0.500172</td>\n",
       "      <td>0.500172</td>\n",
       "      <td>0.500058</td>\n",
       "      <td>0.500172</td>\n",
       "      <td>0.499828</td>\n",
       "    </tr>\n",
       "    <tr>\n",
       "      <th>Most Frequent Clasifier</th>\n",
       "      <td>0.500000</td>\n",
       "      <td>0.500000</td>\n",
       "      <td>0.500000</td>\n",
       "      <td>0.000000</td>\n",
       "      <td>0.500000</td>\n",
       "      <td>0.500000</td>\n",
       "    </tr>\n",
       "  </tbody>\n",
       "</table>\n",
       "</div>"
      ],
      "text/plain": [
       "                                Sensitivity  Specificity     AUROC        F1  \\\n",
       "Decision Tree (max_depth=None)     0.877069     0.877069  0.877069  0.860614   \n",
       "XGBoost                            0.877069     0.877069  0.877069  0.860614   \n",
       "RandomForest                       0.877068     0.877068  0.877068  0.860618   \n",
       "Neural Network                     0.877023     0.877023  0.877023  0.860606   \n",
       "GradientBoostingForest             0.877011     0.877011  0.877011  0.860594   \n",
       "GNB                                0.877002     0.877002  0.877002  0.860586   \n",
       "Perceptron                         0.875596     0.875596  0.875596  0.858739   \n",
       "Dummy Classifier                   0.500172     0.500172  0.500172  0.500058   \n",
       "Most Frequent Clasifier            0.500000     0.500000  0.500000  0.000000   \n",
       "\n",
       "                                Geometric Mean  Macro Average MAE  \n",
       "Decision Tree (max_depth=None)        0.877069           0.122931  \n",
       "XGBoost                               0.877069           0.122931  \n",
       "RandomForest                          0.877068           0.122932  \n",
       "Neural Network                        0.877023           0.122977  \n",
       "GradientBoostingForest                0.877011           0.122989  \n",
       "GNB                                   0.877002           0.122998  \n",
       "Perceptron                            0.875596           0.124404  \n",
       "Dummy Classifier                      0.500172           0.499828  \n",
       "Most Frequent Clasifier               0.500000           0.500000  "
      ]
     },
     "execution_count": 379,
     "metadata": {},
     "output_type": "execute_result"
    }
   ],
   "source": [
    "results = pd.DataFrame([prediction_train[name] for name in models.keys()], index=models.keys())\n",
    "results.sort_values('AUROC', ascending=False)"
   ]
  },
  {
   "cell_type": "markdown",
   "metadata": {},
   "source": [
    "### under sampling"
   ]
  },
  {
   "cell_type": "code",
   "execution_count": 380,
   "metadata": {},
   "outputs": [
    {
     "name": "stdout",
     "output_type": "stream",
     "text": [
      "238/238 [==============================] - 0s 778us/step - loss: 0.3199 - binary_accuracy: 0.8760 - auc: 0.8764\n",
      "238/238 [==============================] - 0s 766us/step - loss: 0.3147 - binary_accuracy: 0.8784 - auc: 0.8736\n",
      "238/238 [==============================] - 0s 781us/step - loss: 0.3154 - binary_accuracy: 0.8781 - auc: 0.8760\n",
      "238/238 [==============================] - 0s 897us/step - loss: 0.3222 - binary_accuracy: 0.8744 - auc: 0.8724\n",
      "238/238 [==============================] - 0s 932us/step - loss: 0.3197 - binary_accuracy: 0.8760 - auc: 0.8746\n",
      "238/238 [==============================] - 0s 777us/step - loss: 0.3171 - binary_accuracy: 0.8776 - auc: 0.8757\n",
      "238/238 [==============================] - 0s 786us/step - loss: 0.3188 - binary_accuracy: 0.8763 - auc: 0.8757\n",
      "238/238 [==============================] - 0s 794us/step - loss: 0.3193 - binary_accuracy: 0.8762 - auc: 0.8735\n",
      "238/238 [==============================] - 0s 787us/step - loss: 0.3159 - binary_accuracy: 0.8781 - auc: 0.8773\n",
      "238/238 [==============================] - 0s 840us/step - loss: 0.3185 - binary_accuracy: 0.8765 - auc: 0.8750\n"
     ]
    }
   ],
   "source": [
    "n_splits = 10;\n",
    "skf = StratifiedKFold(n_splits=n_splits, shuffle=True, random_state=0)\n",
    "prediction = dict() # store the metrics\n",
    "prediction_train = dict() # store the metrics for the trainning set\n",
    "for train_index, test_index in skf.split(X_undersampled, y_undersampled):\n",
    "    \n",
    "    X_train, X_test = X_undersampled.iloc[train_index], X_undersampled.iloc[test_index]\n",
    "    y_train, y_test = y_undersampled[train_index], y_undersampled[test_index]\n",
    "    for classif_name in models.keys():\n",
    "        classif = models[classif_name]\n",
    "        classif.fit(X_train, y_train)\n",
    "        y_pred = classif.predict(X_test) # test\n",
    "        # threasholding the continuous predicted value to binary labels\n",
    "        y_pred = thresholding(y_pred, y_test)\n",
    "        output = evaluate_imbalanced(y_test, y_pred)\n",
    "        y_pred_train = classif.predict(X_train) # train\n",
    "        # threasholding the continuous predicted value to binary labels\n",
    "        y_pred_train = thresholding(y_pred_train, y_train)\n",
    "        output_train = evaluate_imbalanced(y_train, y_pred_train)\n",
    "        ## store the metrics in a dict\n",
    "        if classif_name in prediction:\n",
    "            for metric in prediction[classif_name].keys():\n",
    "                prediction[classif_name][metric] += output[metric]\n",
    "                prediction_train[classif_name][metric] += output_train[metric]\n",
    "        else:\n",
    "            prediction[classif_name] = output\n",
    "            prediction_train[classif_name] = output_train"
   ]
  },
  {
   "cell_type": "code",
   "execution_count": 382,
   "metadata": {},
   "outputs": [],
   "source": [
    "# calculate the avereage of metrics for k-folds\n",
    "for classif_name in prediction.keys():\n",
    "    for metric in prediction[classif_name].keys():\n",
    "        prediction[classif_name][metric] /= n_splits\n",
    "        prediction_train[classif_name][metric] /= n_splits"
   ]
  },
  {
   "cell_type": "code",
   "execution_count": 383,
   "metadata": {},
   "outputs": [
    {
     "data": {
      "text/html": [
       "<div>\n",
       "<style scoped>\n",
       "    .dataframe tbody tr th:only-of-type {\n",
       "        vertical-align: middle;\n",
       "    }\n",
       "\n",
       "    .dataframe tbody tr th {\n",
       "        vertical-align: top;\n",
       "    }\n",
       "\n",
       "    .dataframe thead th {\n",
       "        text-align: right;\n",
       "    }\n",
       "</style>\n",
       "<table border=\"1\" class=\"dataframe\">\n",
       "  <thead>\n",
       "    <tr style=\"text-align: right;\">\n",
       "      <th></th>\n",
       "      <th>Sensitivity</th>\n",
       "      <th>Specificity</th>\n",
       "      <th>AUROC</th>\n",
       "      <th>F1</th>\n",
       "      <th>Geometric Mean</th>\n",
       "      <th>Macro Average MAE</th>\n",
       "    </tr>\n",
       "  </thead>\n",
       "  <tbody>\n",
       "    <tr>\n",
       "      <th>Neural Network</th>\n",
       "      <td>0.087716</td>\n",
       "      <td>0.087717</td>\n",
       "      <td>0.087716</td>\n",
       "      <td>0.086052</td>\n",
       "      <td>0.087716</td>\n",
       "      <td>0.012284</td>\n",
       "    </tr>\n",
       "    <tr>\n",
       "      <th>GNB</th>\n",
       "      <td>0.087681</td>\n",
       "      <td>0.087681</td>\n",
       "      <td>0.087681</td>\n",
       "      <td>0.086021</td>\n",
       "      <td>0.087681</td>\n",
       "      <td>0.012319</td>\n",
       "    </tr>\n",
       "    <tr>\n",
       "      <th>RandomForest</th>\n",
       "      <td>0.087657</td>\n",
       "      <td>0.087657</td>\n",
       "      <td>0.087657</td>\n",
       "      <td>0.085992</td>\n",
       "      <td>0.087657</td>\n",
       "      <td>0.012343</td>\n",
       "    </tr>\n",
       "    <tr>\n",
       "      <th>GradientBoostingForest</th>\n",
       "      <td>0.087657</td>\n",
       "      <td>0.087657</td>\n",
       "      <td>0.087657</td>\n",
       "      <td>0.085991</td>\n",
       "      <td>0.087657</td>\n",
       "      <td>0.012343</td>\n",
       "    </tr>\n",
       "    <tr>\n",
       "      <th>XGBoost</th>\n",
       "      <td>0.087657</td>\n",
       "      <td>0.087657</td>\n",
       "      <td>0.087657</td>\n",
       "      <td>0.085992</td>\n",
       "      <td>0.087657</td>\n",
       "      <td>0.012343</td>\n",
       "    </tr>\n",
       "    <tr>\n",
       "      <th>Decision Tree (max_depth=None)</th>\n",
       "      <td>0.087598</td>\n",
       "      <td>0.087598</td>\n",
       "      <td>0.087598</td>\n",
       "      <td>0.085908</td>\n",
       "      <td>0.087598</td>\n",
       "      <td>0.012402</td>\n",
       "    </tr>\n",
       "    <tr>\n",
       "      <th>Perceptron</th>\n",
       "      <td>0.082484</td>\n",
       "      <td>0.082493</td>\n",
       "      <td>0.082488</td>\n",
       "      <td>0.075275</td>\n",
       "      <td>0.082488</td>\n",
       "      <td>0.017512</td>\n",
       "    </tr>\n",
       "    <tr>\n",
       "      <th>Most Frequent Clasifier</th>\n",
       "      <td>0.050000</td>\n",
       "      <td>0.050000</td>\n",
       "      <td>0.050000</td>\n",
       "      <td>0.000000</td>\n",
       "      <td>0.050000</td>\n",
       "      <td>0.050000</td>\n",
       "    </tr>\n",
       "    <tr>\n",
       "      <th>Dummy Classifier</th>\n",
       "      <td>0.049976</td>\n",
       "      <td>0.049977</td>\n",
       "      <td>0.049977</td>\n",
       "      <td>0.050239</td>\n",
       "      <td>0.049977</td>\n",
       "      <td>0.050023</td>\n",
       "    </tr>\n",
       "  </tbody>\n",
       "</table>\n",
       "</div>"
      ],
      "text/plain": [
       "                                Sensitivity  Specificity     AUROC        F1  \\\n",
       "Neural Network                     0.087716     0.087717  0.087716  0.086052   \n",
       "GNB                                0.087681     0.087681  0.087681  0.086021   \n",
       "RandomForest                       0.087657     0.087657  0.087657  0.085992   \n",
       "GradientBoostingForest             0.087657     0.087657  0.087657  0.085991   \n",
       "XGBoost                            0.087657     0.087657  0.087657  0.085992   \n",
       "Decision Tree (max_depth=None)     0.087598     0.087598  0.087598  0.085908   \n",
       "Perceptron                         0.082484     0.082493  0.082488  0.075275   \n",
       "Most Frequent Clasifier            0.050000     0.050000  0.050000  0.000000   \n",
       "Dummy Classifier                   0.049976     0.049977  0.049977  0.050239   \n",
       "\n",
       "                                Geometric Mean  Macro Average MAE  \n",
       "Neural Network                        0.087716           0.012284  \n",
       "GNB                                   0.087681           0.012319  \n",
       "RandomForest                          0.087657           0.012343  \n",
       "GradientBoostingForest                0.087657           0.012343  \n",
       "XGBoost                               0.087657           0.012343  \n",
       "Decision Tree (max_depth=None)        0.087598           0.012402  \n",
       "Perceptron                            0.082488           0.017512  \n",
       "Most Frequent Clasifier               0.050000           0.050000  \n",
       "Dummy Classifier                      0.049977           0.050023  "
      ]
     },
     "execution_count": 383,
     "metadata": {},
     "output_type": "execute_result"
    }
   ],
   "source": [
    "results = pd.DataFrame([prediction[name] for name in models.keys()], index=models.keys())\n",
    "results.sort_values('AUROC', ascending=False)"
   ]
  },
  {
   "cell_type": "code",
   "execution_count": 384,
   "metadata": {},
   "outputs": [
    {
     "data": {
      "text/html": [
       "<div>\n",
       "<style scoped>\n",
       "    .dataframe tbody tr th:only-of-type {\n",
       "        vertical-align: middle;\n",
       "    }\n",
       "\n",
       "    .dataframe tbody tr th {\n",
       "        vertical-align: top;\n",
       "    }\n",
       "\n",
       "    .dataframe thead th {\n",
       "        text-align: right;\n",
       "    }\n",
       "</style>\n",
       "<table border=\"1\" class=\"dataframe\">\n",
       "  <thead>\n",
       "    <tr style=\"text-align: right;\">\n",
       "      <th></th>\n",
       "      <th>Sensitivity</th>\n",
       "      <th>Specificity</th>\n",
       "      <th>AUROC</th>\n",
       "      <th>F1</th>\n",
       "      <th>Geometric Mean</th>\n",
       "      <th>Macro Average MAE</th>\n",
       "    </tr>\n",
       "  </thead>\n",
       "  <tbody>\n",
       "    <tr>\n",
       "      <th>XGBoost</th>\n",
       "      <td>0.087682</td>\n",
       "      <td>0.087682</td>\n",
       "      <td>0.087682</td>\n",
       "      <td>0.086036</td>\n",
       "      <td>0.087682</td>\n",
       "      <td>0.012318</td>\n",
       "    </tr>\n",
       "    <tr>\n",
       "      <th>Decision Tree (max_depth=None)</th>\n",
       "      <td>0.087682</td>\n",
       "      <td>0.087682</td>\n",
       "      <td>0.087682</td>\n",
       "      <td>0.086026</td>\n",
       "      <td>0.087682</td>\n",
       "      <td>0.012318</td>\n",
       "    </tr>\n",
       "    <tr>\n",
       "      <th>RandomForest</th>\n",
       "      <td>0.087682</td>\n",
       "      <td>0.087682</td>\n",
       "      <td>0.087682</td>\n",
       "      <td>0.086030</td>\n",
       "      <td>0.087682</td>\n",
       "      <td>0.012318</td>\n",
       "    </tr>\n",
       "    <tr>\n",
       "      <th>Neural Network</th>\n",
       "      <td>0.087682</td>\n",
       "      <td>0.087682</td>\n",
       "      <td>0.087682</td>\n",
       "      <td>0.086037</td>\n",
       "      <td>0.087682</td>\n",
       "      <td>0.012318</td>\n",
       "    </tr>\n",
       "    <tr>\n",
       "      <th>GNB</th>\n",
       "      <td>0.087681</td>\n",
       "      <td>0.087681</td>\n",
       "      <td>0.087681</td>\n",
       "      <td>0.086036</td>\n",
       "      <td>0.087681</td>\n",
       "      <td>0.012319</td>\n",
       "    </tr>\n",
       "    <tr>\n",
       "      <th>GradientBoostingForest</th>\n",
       "      <td>0.087681</td>\n",
       "      <td>0.087681</td>\n",
       "      <td>0.087681</td>\n",
       "      <td>0.086035</td>\n",
       "      <td>0.087681</td>\n",
       "      <td>0.012319</td>\n",
       "    </tr>\n",
       "    <tr>\n",
       "      <th>Perceptron</th>\n",
       "      <td>0.082388</td>\n",
       "      <td>0.082387</td>\n",
       "      <td>0.082387</td>\n",
       "      <td>0.075175</td>\n",
       "      <td>0.082387</td>\n",
       "      <td>0.017613</td>\n",
       "    </tr>\n",
       "    <tr>\n",
       "      <th>Dummy Classifier</th>\n",
       "      <td>0.050351</td>\n",
       "      <td>0.050351</td>\n",
       "      <td>0.050351</td>\n",
       "      <td>0.050278</td>\n",
       "      <td>0.050351</td>\n",
       "      <td>0.049649</td>\n",
       "    </tr>\n",
       "    <tr>\n",
       "      <th>Most Frequent Clasifier</th>\n",
       "      <td>0.050000</td>\n",
       "      <td>0.050000</td>\n",
       "      <td>0.050000</td>\n",
       "      <td>0.000000</td>\n",
       "      <td>0.050000</td>\n",
       "      <td>0.050000</td>\n",
       "    </tr>\n",
       "  </tbody>\n",
       "</table>\n",
       "</div>"
      ],
      "text/plain": [
       "                                Sensitivity  Specificity     AUROC        F1  \\\n",
       "XGBoost                            0.087682     0.087682  0.087682  0.086036   \n",
       "Decision Tree (max_depth=None)     0.087682     0.087682  0.087682  0.086026   \n",
       "RandomForest                       0.087682     0.087682  0.087682  0.086030   \n",
       "Neural Network                     0.087682     0.087682  0.087682  0.086037   \n",
       "GNB                                0.087681     0.087681  0.087681  0.086036   \n",
       "GradientBoostingForest             0.087681     0.087681  0.087681  0.086035   \n",
       "Perceptron                         0.082388     0.082387  0.082387  0.075175   \n",
       "Dummy Classifier                   0.050351     0.050351  0.050351  0.050278   \n",
       "Most Frequent Clasifier            0.050000     0.050000  0.050000  0.000000   \n",
       "\n",
       "                                Geometric Mean  Macro Average MAE  \n",
       "XGBoost                               0.087682           0.012318  \n",
       "Decision Tree (max_depth=None)        0.087682           0.012318  \n",
       "RandomForest                          0.087682           0.012318  \n",
       "Neural Network                        0.087682           0.012318  \n",
       "GNB                                   0.087681           0.012319  \n",
       "GradientBoostingForest                0.087681           0.012319  \n",
       "Perceptron                            0.082387           0.017613  \n",
       "Dummy Classifier                      0.050351           0.049649  \n",
       "Most Frequent Clasifier               0.050000           0.050000  "
      ]
     },
     "execution_count": 384,
     "metadata": {},
     "output_type": "execute_result"
    }
   ],
   "source": [
    "results = pd.DataFrame([prediction_train[name] for name in models.keys()], index=models.keys())\n",
    "results.sort_values('AUROC', ascending=False)"
   ]
  }
 ],
 "metadata": {
  "kernelspec": {
   "display_name": "Python 3",
   "language": "python",
   "name": "python3"
  },
  "language_info": {
   "codemirror_mode": {
    "name": "ipython",
    "version": 3
   },
   "file_extension": ".py",
   "mimetype": "text/x-python",
   "name": "python",
   "nbconvert_exporter": "python",
   "pygments_lexer": "ipython3",
   "version": "3.8.5"
  }
 },
 "nbformat": 4,
 "nbformat_minor": 4
}
