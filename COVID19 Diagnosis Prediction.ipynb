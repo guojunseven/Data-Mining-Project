{
 "cells": [
  {
   "cell_type": "code",
   "execution_count": 1,
   "metadata": {},
   "outputs": [],
   "source": [
    "import numpy as np\n",
    "import pandas as pd\n",
    "import matplotlib.pyplot as plt \n",
    "import seaborn as sns\n",
    "from sklearn.preprocessing import LabelEncoder\n",
    "import warnings\n",
    "# ignore all warnings\n",
    "warnings.filterwarnings('ignore')\n",
    "from sklearn.model_selection import train_test_split\n",
    "from sklearn.ensemble import RandomForestClassifier\n",
    "from sklearn.linear_model import Perceptron\n",
    "from sklearn.tree import DecisionTreeClassifier\n",
    "from sklearn.neighbors import KNeighborsClassifier\n",
    "from sklearn.naive_bayes import GaussianNB\n",
    "from sklearn.naive_bayes import MultinomialNB\n",
    "from sklearn.metrics import f1_score,confusion_matrix, roc_auc_score\n",
    "from sklearn.metrics import accuracy_score\n",
    "from xgboost import XGBClassifier\n",
    "import matplotlib\n",
    "import matplotlib.pyplot as plt\n",
    "from collections import Counter\n",
    "from sklearn.model_selection import StratifiedKFold"
   ]
  },
  {
   "cell_type": "markdown",
   "metadata": {},
   "source": [
    "## 1 Load the data set"
   ]
  },
  {
   "cell_type": "code",
   "execution_count": 2,
   "metadata": {},
   "outputs": [],
   "source": [
    "df = pd.read_csv(\"~/downloads/corona_tested_individuals_ver_00166.csv\", header=0, parse_dates = ['test_date']) ## load the date in local\n",
    "# df_np = np.loadtxt('corona_tested_individuals_ver_00166.csv', delimiter=',', skiprows=1,\n",
    "#                           usecols= (1,7), unpack=True)\n",
    "# df = pd.DataFrame(df)\n",
    "df.columns = ['date','cough','fever','sore_throat','shortness_of_breath','head_ache','corona_result','age','gender','test_indication']\n",
    "df = df[df[\"date\"] > \"2021-03-30\"]"
   ]
  },
  {
   "cell_type": "markdown",
   "metadata": {},
   "source": [
    "## 2 Data Exploration¶"
   ]
  },
  {
   "cell_type": "markdown",
   "metadata": {},
   "source": [
    "Explanation of the data:\n",
    "https://data.gov.il/dataset/covid-19/resource/0ac4cffc-3746-473a-8d4a-ab874b8d8d62\n",
    "\n",
    "Gender: appears from March 22nd 2020\n",
    "\n",
    "Corona_result: Results of first Covid-19 test, by category:\n",
    "    a.Positive – carrying Covid-19\n",
    "    b.Negative – not carrying Covid-19\n",
    "    c.Other – Not tested, in testing, inconclusive\n",
    "\n",
    "Age_60_and_above: Indicator of the test taker's age - 60 or over (1) or below 60 (0). Appears from March 17th 2020.\n",
    "\n",
    "Test_indication: What is the indication for testing? Abroad – arrived from abroad, contact_with_confirmed – contact with a confirmed case, other – other indication or not specified\n",
    "\n",
    "Symptoms (whether developed before testing):\n",
    "cough, fever, sore_throat, shortness of breath, headache: 1 – Yes, 0 – No, NULL – Unknown\n",
    "\n",
    "Obviously, the corona_result is the label class.\n",
    "\n",
    "Here we have questions on 1) how to handle missing age values before March 22 and age before March 17. 2)null values (drop or replace) 3) the meaningful use of test date data"
   ]
  },
  {
   "cell_type": "code",
   "execution_count": 3,
   "metadata": {},
   "outputs": [
    {
     "data": {
      "text/html": [
       "<div>\n",
       "<style scoped>\n",
       "    .dataframe tbody tr th:only-of-type {\n",
       "        vertical-align: middle;\n",
       "    }\n",
       "\n",
       "    .dataframe tbody tr th {\n",
       "        vertical-align: top;\n",
       "    }\n",
       "\n",
       "    .dataframe thead th {\n",
       "        text-align: right;\n",
       "    }\n",
       "</style>\n",
       "<table border=\"1\" class=\"dataframe\">\n",
       "  <thead>\n",
       "    <tr style=\"text-align: right;\">\n",
       "      <th></th>\n",
       "      <th>date</th>\n",
       "      <th>cough</th>\n",
       "      <th>fever</th>\n",
       "      <th>sore_throat</th>\n",
       "      <th>shortness_of_breath</th>\n",
       "      <th>head_ache</th>\n",
       "      <th>corona_result</th>\n",
       "      <th>age</th>\n",
       "      <th>gender</th>\n",
       "      <th>test_indication</th>\n",
       "    </tr>\n",
       "  </thead>\n",
       "  <tbody>\n",
       "    <tr>\n",
       "      <th>0</th>\n",
       "      <td>2021-07-25</td>\n",
       "      <td>0</td>\n",
       "      <td>0</td>\n",
       "      <td>0</td>\n",
       "      <td>0</td>\n",
       "      <td>0</td>\n",
       "      <td>שלילי</td>\n",
       "      <td>No</td>\n",
       "      <td>נקבה</td>\n",
       "      <td>Other</td>\n",
       "    </tr>\n",
       "    <tr>\n",
       "      <th>1</th>\n",
       "      <td>2021-07-25</td>\n",
       "      <td>0</td>\n",
       "      <td>0</td>\n",
       "      <td>0</td>\n",
       "      <td>0</td>\n",
       "      <td>0</td>\n",
       "      <td>שלילי</td>\n",
       "      <td>No</td>\n",
       "      <td>נקבה</td>\n",
       "      <td>Other</td>\n",
       "    </tr>\n",
       "    <tr>\n",
       "      <th>2</th>\n",
       "      <td>2021-07-25</td>\n",
       "      <td>1</td>\n",
       "      <td>1</td>\n",
       "      <td>1</td>\n",
       "      <td>0</td>\n",
       "      <td>1</td>\n",
       "      <td>אחר</td>\n",
       "      <td>No</td>\n",
       "      <td>נקבה</td>\n",
       "      <td>Abroad</td>\n",
       "    </tr>\n",
       "    <tr>\n",
       "      <th>3</th>\n",
       "      <td>2021-07-25</td>\n",
       "      <td>0</td>\n",
       "      <td>0</td>\n",
       "      <td>0</td>\n",
       "      <td>0</td>\n",
       "      <td>0</td>\n",
       "      <td>שלילי</td>\n",
       "      <td>No</td>\n",
       "      <td>זכר</td>\n",
       "      <td>Other</td>\n",
       "    </tr>\n",
       "    <tr>\n",
       "      <th>4</th>\n",
       "      <td>2021-07-25</td>\n",
       "      <td>0</td>\n",
       "      <td>0</td>\n",
       "      <td>0</td>\n",
       "      <td>0</td>\n",
       "      <td>0</td>\n",
       "      <td>שלילי</td>\n",
       "      <td>No</td>\n",
       "      <td>נקבה</td>\n",
       "      <td>Other</td>\n",
       "    </tr>\n",
       "  </tbody>\n",
       "</table>\n",
       "</div>"
      ],
      "text/plain": [
       "        date  cough  fever  sore_throat  shortness_of_breath  head_ache  \\\n",
       "0 2021-07-25      0      0            0                    0          0   \n",
       "1 2021-07-25      0      0            0                    0          0   \n",
       "2 2021-07-25      1      1            1                    0          1   \n",
       "3 2021-07-25      0      0            0                    0          0   \n",
       "4 2021-07-25      0      0            0                    0          0   \n",
       "\n",
       "  corona_result age gender test_indication  \n",
       "0         שלילי  No   נקבה           Other  \n",
       "1         שלילי  No   נקבה           Other  \n",
       "2           אחר  No   נקבה          Abroad  \n",
       "3         שלילי  No    זכר           Other  \n",
       "4         שלילי  No   נקבה           Other  "
      ]
     },
     "execution_count": 3,
     "metadata": {},
     "output_type": "execute_result"
    }
   ],
   "source": [
    "df.head()"
   ]
  },
  {
   "cell_type": "code",
   "execution_count": 4,
   "metadata": {},
   "outputs": [
    {
     "data": {
      "text/plain": [
       "(852374, 10)"
      ]
     },
     "execution_count": 4,
     "metadata": {},
     "output_type": "execute_result"
    }
   ],
   "source": [
    "df.shape"
   ]
  },
  {
   "cell_type": "code",
   "execution_count": 5,
   "metadata": {},
   "outputs": [
    {
     "name": "stdout",
     "output_type": "stream",
     "text": [
      "<class 'pandas.core.frame.DataFrame'>\n",
      "Int64Index: 852374 entries, 0 to 852373\n",
      "Data columns (total 10 columns):\n",
      " #   Column               Non-Null Count   Dtype         \n",
      "---  ------               --------------   -----         \n",
      " 0   date                 852374 non-null  datetime64[ns]\n",
      " 1   cough                852374 non-null  int64         \n",
      " 2   fever                852374 non-null  int64         \n",
      " 3   sore_throat          852374 non-null  int64         \n",
      " 4   shortness_of_breath  852374 non-null  int64         \n",
      " 5   head_ache            852374 non-null  int64         \n",
      " 6   corona_result        852374 non-null  object        \n",
      " 7   age                  217614 non-null  object        \n",
      " 8   gender               380625 non-null  object        \n",
      " 9   test_indication      852374 non-null  object        \n",
      "dtypes: datetime64[ns](1), int64(5), object(4)\n",
      "memory usage: 71.5+ MB\n"
     ]
    }
   ],
   "source": [
    "df.info()"
   ]
  },
  {
   "cell_type": "code",
   "execution_count": 6,
   "metadata": {},
   "outputs": [
    {
     "data": {
      "text/plain": [
       "date                        0\n",
       "cough                       0\n",
       "fever                       0\n",
       "sore_throat                 0\n",
       "shortness_of_breath         0\n",
       "head_ache                   0\n",
       "corona_result               0\n",
       "age                    634760\n",
       "gender                 471749\n",
       "test_indication             0\n",
       "dtype: int64"
      ]
     },
     "execution_count": 6,
     "metadata": {},
     "output_type": "execute_result"
    }
   ],
   "source": [
    "df.isnull().sum()"
   ]
  },
  {
   "cell_type": "markdown",
   "metadata": {},
   "source": [
    "According to the offical documents, testing for the virus started in February. However,due to privacy concerns:\n",
    "1. The information is available from 11 March 2020.\n",
    "2. Ages have been divided to under 60 and 60 and over, and are published from 17 March until 14 April (before 17 March until 14 April age equals NULL)\n",
    "3. Sex is published from 22 March (before the date, sex was represented as NULL)"
   ]
  },
  {
   "cell_type": "code",
   "execution_count": 7,
   "metadata": {},
   "outputs": [
    {
     "data": {
      "image/png": "[encoded data removed]",
      "text/plain": [
       "<Figure size 432x288 with 1 Axes>"
      ]
     },
     "metadata": {
      "needs_background": "light"
     },
     "output_type": "display_data"
    }
   ],
   "source": [
    "plt.hist(df[df[\"gender\"].isnull()]['date'], bins = 10)\n",
    "plt.xticks(rotation='vertical');"
   ]
  },
  {
   "cell_type": "code",
   "execution_count": 8,
   "metadata": {},
   "outputs": [
    {
     "data": {
      "image/png": "[encoded data removed]",
      "text/plain": [
       "<Figure size 432x288 with 1 Axes>"
      ]
     },
     "metadata": {
      "needs_background": "light"
     },
     "output_type": "display_data"
    }
   ],
   "source": [
    "plt.hist(df[df[\"age\"].isnull()]['date'], bins = 10)\n",
    "plt.xticks(rotation='vertical');"
   ]
  },
  {
   "cell_type": "code",
   "execution_count": 9,
   "metadata": {},
   "outputs": [
    {
     "data": {
      "text/html": [
       "<div>\n",
       "<style scoped>\n",
       "    .dataframe tbody tr th:only-of-type {\n",
       "        vertical-align: middle;\n",
       "    }\n",
       "\n",
       "    .dataframe tbody tr th {\n",
       "        vertical-align: top;\n",
       "    }\n",
       "\n",
       "    .dataframe thead th {\n",
       "        text-align: right;\n",
       "    }\n",
       "</style>\n",
       "<table border=\"1\" class=\"dataframe\">\n",
       "  <thead>\n",
       "    <tr style=\"text-align: right;\">\n",
       "      <th></th>\n",
       "      <th>cough</th>\n",
       "      <th>fever</th>\n",
       "      <th>sore_throat</th>\n",
       "      <th>shortness_of_breath</th>\n",
       "      <th>head_ache</th>\n",
       "      <th>date</th>\n",
       "      <th>corona_result</th>\n",
       "      <th>age</th>\n",
       "      <th>gender</th>\n",
       "      <th>test_indication</th>\n",
       "    </tr>\n",
       "  </thead>\n",
       "  <tbody>\n",
       "    <tr>\n",
       "      <th>count</th>\n",
       "      <td>852374.000000</td>\n",
       "      <td>852374.000000</td>\n",
       "      <td>852374.000000</td>\n",
       "      <td>852374.000000</td>\n",
       "      <td>852374.000000</td>\n",
       "      <td>NaN</td>\n",
       "      <td>NaN</td>\n",
       "      <td>NaN</td>\n",
       "      <td>NaN</td>\n",
       "      <td>NaN</td>\n",
       "    </tr>\n",
       "    <tr>\n",
       "      <th>mean</th>\n",
       "      <td>0.004448</td>\n",
       "      <td>0.003899</td>\n",
       "      <td>0.001553</td>\n",
       "      <td>0.000318</td>\n",
       "      <td>0.002796</td>\n",
       "      <td>NaN</td>\n",
       "      <td>NaN</td>\n",
       "      <td>NaN</td>\n",
       "      <td>NaN</td>\n",
       "      <td>NaN</td>\n",
       "    </tr>\n",
       "    <tr>\n",
       "      <th>std</th>\n",
       "      <td>0.066542</td>\n",
       "      <td>0.062316</td>\n",
       "      <td>0.039381</td>\n",
       "      <td>0.017828</td>\n",
       "      <td>0.052801</td>\n",
       "      <td>NaN</td>\n",
       "      <td>NaN</td>\n",
       "      <td>NaN</td>\n",
       "      <td>NaN</td>\n",
       "      <td>NaN</td>\n",
       "    </tr>\n",
       "    <tr>\n",
       "      <th>min</th>\n",
       "      <td>0.000000</td>\n",
       "      <td>0.000000</td>\n",
       "      <td>0.000000</td>\n",
       "      <td>0.000000</td>\n",
       "      <td>0.000000</td>\n",
       "      <td>NaN</td>\n",
       "      <td>NaN</td>\n",
       "      <td>NaN</td>\n",
       "      <td>NaN</td>\n",
       "      <td>NaN</td>\n",
       "    </tr>\n",
       "    <tr>\n",
       "      <th>25%</th>\n",
       "      <td>0.000000</td>\n",
       "      <td>0.000000</td>\n",
       "      <td>0.000000</td>\n",
       "      <td>0.000000</td>\n",
       "      <td>0.000000</td>\n",
       "      <td>NaN</td>\n",
       "      <td>NaN</td>\n",
       "      <td>NaN</td>\n",
       "      <td>NaN</td>\n",
       "      <td>NaN</td>\n",
       "    </tr>\n",
       "    <tr>\n",
       "      <th>50%</th>\n",
       "      <td>0.000000</td>\n",
       "      <td>0.000000</td>\n",
       "      <td>0.000000</td>\n",
       "      <td>0.000000</td>\n",
       "      <td>0.000000</td>\n",
       "      <td>NaN</td>\n",
       "      <td>NaN</td>\n",
       "      <td>NaN</td>\n",
       "      <td>NaN</td>\n",
       "      <td>NaN</td>\n",
       "    </tr>\n",
       "    <tr>\n",
       "      <th>75%</th>\n",
       "      <td>0.000000</td>\n",
       "      <td>0.000000</td>\n",
       "      <td>0.000000</td>\n",
       "      <td>0.000000</td>\n",
       "      <td>0.000000</td>\n",
       "      <td>NaN</td>\n",
       "      <td>NaN</td>\n",
       "      <td>NaN</td>\n",
       "      <td>NaN</td>\n",
       "      <td>NaN</td>\n",
       "    </tr>\n",
       "    <tr>\n",
       "      <th>max</th>\n",
       "      <td>1.000000</td>\n",
       "      <td>1.000000</td>\n",
       "      <td>1.000000</td>\n",
       "      <td>1.000000</td>\n",
       "      <td>1.000000</td>\n",
       "      <td>NaN</td>\n",
       "      <td>NaN</td>\n",
       "      <td>NaN</td>\n",
       "      <td>NaN</td>\n",
       "      <td>NaN</td>\n",
       "    </tr>\n",
       "    <tr>\n",
       "      <th>mad</th>\n",
       "      <td>0.008856</td>\n",
       "      <td>0.007767</td>\n",
       "      <td>0.003102</td>\n",
       "      <td>0.000636</td>\n",
       "      <td>0.005576</td>\n",
       "      <td>NaN</td>\n",
       "      <td>NaN</td>\n",
       "      <td>NaN</td>\n",
       "      <td>NaN</td>\n",
       "      <td>NaN</td>\n",
       "    </tr>\n",
       "    <tr>\n",
       "      <th>skew</th>\n",
       "      <td>14.894520</td>\n",
       "      <td>15.922066</td>\n",
       "      <td>25.313846</td>\n",
       "      <td>56.056248</td>\n",
       "      <td>18.833309</td>\n",
       "      <td>NaN</td>\n",
       "      <td>NaN</td>\n",
       "      <td>NaN</td>\n",
       "      <td>NaN</td>\n",
       "      <td>NaN</td>\n",
       "    </tr>\n",
       "    <tr>\n",
       "      <th>kurt</th>\n",
       "      <td>219.847231</td>\n",
       "      <td>251.512769</td>\n",
       "      <td>638.792319</td>\n",
       "      <td>3140.310259</td>\n",
       "      <td>352.694347</td>\n",
       "      <td>NaN</td>\n",
       "      <td>NaN</td>\n",
       "      <td>NaN</td>\n",
       "      <td>NaN</td>\n",
       "      <td>NaN</td>\n",
       "    </tr>\n",
       "    <tr>\n",
       "      <th>nunique</th>\n",
       "      <td>2.000000</td>\n",
       "      <td>2.000000</td>\n",
       "      <td>2.000000</td>\n",
       "      <td>2.000000</td>\n",
       "      <td>2.000000</td>\n",
       "      <td>117.0</td>\n",
       "      <td>3.0</td>\n",
       "      <td>2.0</td>\n",
       "      <td>2.0</td>\n",
       "      <td>3.0</td>\n",
       "    </tr>\n",
       "  </tbody>\n",
       "</table>\n",
       "</div>"
      ],
      "text/plain": [
       "                 cough          fever    sore_throat  shortness_of_breath  \\\n",
       "count    852374.000000  852374.000000  852374.000000        852374.000000   \n",
       "mean          0.004448       0.003899       0.001553             0.000318   \n",
       "std           0.066542       0.062316       0.039381             0.017828   \n",
       "min           0.000000       0.000000       0.000000             0.000000   \n",
       "25%           0.000000       0.000000       0.000000             0.000000   \n",
       "50%           0.000000       0.000000       0.000000             0.000000   \n",
       "75%           0.000000       0.000000       0.000000             0.000000   \n",
       "max           1.000000       1.000000       1.000000             1.000000   \n",
       "mad           0.008856       0.007767       0.003102             0.000636   \n",
       "skew         14.894520      15.922066      25.313846            56.056248   \n",
       "kurt        219.847231     251.512769     638.792319          3140.310259   \n",
       "nunique       2.000000       2.000000       2.000000             2.000000   \n",
       "\n",
       "             head_ache   date  corona_result  age  gender  test_indication  \n",
       "count    852374.000000    NaN            NaN  NaN     NaN              NaN  \n",
       "mean          0.002796    NaN            NaN  NaN     NaN              NaN  \n",
       "std           0.052801    NaN            NaN  NaN     NaN              NaN  \n",
       "min           0.000000    NaN            NaN  NaN     NaN              NaN  \n",
       "25%           0.000000    NaN            NaN  NaN     NaN              NaN  \n",
       "50%           0.000000    NaN            NaN  NaN     NaN              NaN  \n",
       "75%           0.000000    NaN            NaN  NaN     NaN              NaN  \n",
       "max           1.000000    NaN            NaN  NaN     NaN              NaN  \n",
       "mad           0.005576    NaN            NaN  NaN     NaN              NaN  \n",
       "skew         18.833309    NaN            NaN  NaN     NaN              NaN  \n",
       "kurt        352.694347    NaN            NaN  NaN     NaN              NaN  \n",
       "nunique       2.000000  117.0            3.0  2.0     2.0              3.0  "
      ]
     },
     "execution_count": 9,
     "metadata": {},
     "output_type": "execute_result"
    }
   ],
   "source": [
    "pd.concat([\n",
    "    df.describe().T,\n",
    "    df.mad().rename('mad'),\n",
    "    df.skew().rename('skew'),\n",
    "    df.kurt().rename('kurt'),\n",
    "    df.nunique().rename('nunique')\n",
    "], axis=1).T"
   ]
  },
  {
   "cell_type": "code",
   "execution_count": 10,
   "metadata": {},
   "outputs": [
    {
     "data": {
      "text/plain": [
       "array(['שלילי', 'אחר', 'חיובי'], dtype=object)"
      ]
     },
     "execution_count": 10,
     "metadata": {},
     "output_type": "execute_result"
    }
   ],
   "source": [
    "df['corona_result'].unique() "
   ]
  },
  {
   "cell_type": "code",
   "execution_count": 11,
   "metadata": {},
   "outputs": [],
   "source": [
    "# replacing all the characters in Hebrew by English\n",
    "df['corona_result'] = df['corona_result'].str.replace('חיובי','Positive')\n",
    "df['corona_result'] = df['corona_result'].str.replace('אחר','Other')\n",
    "df['corona_result'] = df['corona_result'].str.replace('שלילי','Negative')\n",
    "\n",
    "df['gender'] = df['gender'].str.replace('נקבה','Female')\n",
    "df['gender'] = df['gender'].str.replace('זכר','Male')"
   ]
  },
  {
   "cell_type": "markdown",
   "metadata": {},
   "source": [
    "## 3 Data Understanding"
   ]
  },
  {
   "cell_type": "markdown",
   "metadata": {},
   "source": [
    "**BreakDown of Class**"
   ]
  },
  {
   "cell_type": "code",
   "execution_count": 12,
   "metadata": {},
   "outputs": [
    {
     "data": {
      "image/png": "[encoded data removed]",
      "text/plain": [
       "<Figure size 360x360 with 1 Axes>"
      ]
     },
     "metadata": {
      "needs_background": "light"
     },
     "output_type": "display_data"
    }
   ],
   "source": [
    "plt.figure(figsize=(5,5))\n",
    "corona_result = sns.countplot(df['corona_result'],label=\"Count\")\n",
    "\n",
    "for p in corona_result.patches:\n",
    "    height = p.get_height()\n",
    "    corona_result.text(p.get_x()+p.get_width()/2., height + 0.1,height ,ha=\"center\")"
   ]
  },
  {
   "cell_type": "markdown",
   "metadata": {},
   "source": [
    "The class lable is highly imbalanced. The proportion of positive instances is less than **5%**. We need to be cautious about this."
   ]
  },
  {
   "cell_type": "markdown",
   "metadata": {},
   "source": [
    "**BreakDown of feature distribution**"
   ]
  },
  {
   "cell_type": "code",
   "execution_count": 13,
   "metadata": {},
   "outputs": [
    {
     "data": {
      "image/png": "[encoded data removed]",
      "text/plain": [
       "<Figure size 360x216 with 1 Axes>"
      ]
     },
     "metadata": {
      "needs_background": "light"
     },
     "output_type": "display_data"
    }
   ],
   "source": [
    "df.plot.box(figsize=(5, 3)) # visualize the feature distribution\n",
    "plt.xticks(rotation='vertical');\n",
    "# the value distribution of 5 numeric features are highly skewed with over 75% being 0."
   ]
  },
  {
   "cell_type": "markdown",
   "metadata": {},
   "source": [
    "**BreakDown of cough**"
   ]
  },
  {
   "cell_type": "code",
   "execution_count": 14,
   "metadata": {},
   "outputs": [
    {
     "data": {
      "image/png": "[encoded data removed]",
      "text/plain": [
       "<Figure size 360x360 with 1 Axes>"
      ]
     },
     "metadata": {
      "needs_background": "light"
     },
     "output_type": "display_data"
    }
   ],
   "source": [
    "plt.figure(figsize=(5,5))\n",
    "cough = sns.countplot(data=df, x=\"cough\")\n",
    "\n",
    "for p in cough.patches:\n",
    "    height = p.get_height()\n",
    "    cough.text(p.get_x()+p.get_width()/2., height + 0.1,height ,ha=\"center\")"
   ]
  },
  {
   "cell_type": "code",
   "execution_count": 15,
   "metadata": {},
   "outputs": [
    {
     "data": {
      "image/png": "[encoded data removed]",
      "text/plain": [
       "<Figure size 1512x360 with 3 Axes>"
      ]
     },
     "metadata": {
      "needs_background": "light"
     },
     "output_type": "display_data"
    }
   ],
   "source": [
    "# plt.figure(figsize=(5,5))\n",
    "#sns.distplot(df[df['corona_result'] == 'Positive'][\"cough\"], color='red', kde=False) \n",
    "# we don't need kernel desity estimate because the feature is discrete.\n",
    "#sns.distplot(df[df['corona_result'] == 'Negative'][\"cough\"], color='green', kde=False)\n",
    "#plt.title('Corona Results versus Cough')\n",
    "#plt.show()\n",
    "\n",
    "\n",
    "f, axes = plt.subplots(1, 3, figsize=(21,5))\n",
    "positive = sns.countplot(df[df['corona_result'] == 'Positive'][\"cough\"], ax=axes[0]) \n",
    "axes[0].set_title(\"Positive Corona Results versus Cough\")\n",
    "for p in positive.patches:\n",
    "    height = p.get_height()\n",
    "    positive.text(p.get_x()+p.get_width()/2., height + 0.1,height ,ha=\"center\")\n",
    "\n",
    "# we don't need kernel desity estimate because the feature is discrete.\n",
    "negative = sns.countplot(df[df['corona_result'] == 'Negative'][\"cough\"], ax=axes[1])\n",
    "axes[1].set_title('Negative Corona Results versus Cough')\n",
    "for p in negative.patches:\n",
    "    height = p.get_height()\n",
    "    negative.text(p.get_x()+p.get_width()/2., height + 0.1,height ,ha=\"center\")\n",
    "\n",
    "other = sns.countplot(df[df['corona_result'] == 'Other'][\"cough\"], ax=axes[2])\n",
    "axes[2].set_title('Other Corona Results versus Cough')\n",
    "for p in other.patches:\n",
    "    height = p.get_height()\n",
    "    other.text(p.get_x()+p.get_width()/2., height + 0.1,height ,ha=\"center\")\n",
    "\n",
    "plt.show()\n"
   ]
  },
  {
   "cell_type": "markdown",
   "metadata": {},
   "source": [
    "**BreakDown of fever**"
   ]
  },
  {
   "cell_type": "code",
   "execution_count": 16,
   "metadata": {
    "scrolled": false
   },
   "outputs": [
    {
     "data": {
      "image/png": "[encoded data removed]",
      "text/plain": [
       "<Figure size 360x360 with 1 Axes>"
      ]
     },
     "metadata": {
      "needs_background": "light"
     },
     "output_type": "display_data"
    }
   ],
   "source": [
    "#p = sns.countplot(data=df, x=\"fever\")\n",
    "#plt.show()\n",
    "\n",
    "plt.figure(figsize=(5,5))\n",
    "fever = sns.countplot(data=df, x=\"fever\")\n",
    "\n",
    "for p in fever.patches:\n",
    "    height = p.get_height()\n",
    "    fever.text(p.get_x()+p.get_width()/2., height + 0.1,height ,ha=\"center\")"
   ]
  },
  {
   "cell_type": "code",
   "execution_count": 17,
   "metadata": {},
   "outputs": [
    {
     "data": {
      "image/png": "[encoded data removed]",
      "text/plain": [
       "<Figure size 1512x360 with 3 Axes>"
      ]
     },
     "metadata": {
      "needs_background": "light"
     },
     "output_type": "display_data"
    }
   ],
   "source": [
    "#plt.figure(figsize=(5,5))\n",
    "#sns.distplot(df[df['corona_result'] == 'Positive'][\"fever\"], color='red',kde=False) \n",
    "#sns.distplot(df[df['corona_result'] == 'Negative'][\"fever\"], color='green',kde=False)\n",
    "#plt.title('Corona Results versus Fever')\n",
    "#plt.show()\n",
    "\n",
    "\n",
    "f, axes = plt.subplots(1, 3, figsize=(21,5))\n",
    "\n",
    "positive = sns.countplot(df[df['corona_result'] == 'Positive'][\"fever\"], ax=axes[0]) \n",
    "axes[0].set_title(\"Positive Corona Results versus fever\")\n",
    "for p in positive.patches:\n",
    "    height = p.get_height()\n",
    "    positive.text(p.get_x()+p.get_width()/2., height + 0.1,height ,ha=\"center\")\n",
    "\n",
    "# we don't need kernel desity estimate because the feature is discrete.\n",
    "negative = sns.countplot(df[df['corona_result'] == 'Negative'][\"fever\"], ax=axes[1])\n",
    "axes[1].set_title('Negative Corona Results versus fever')\n",
    "for p in negative.patches:\n",
    "    height = p.get_height()\n",
    "    negative.text(p.get_x()+p.get_width()/2., height + 0.1,height ,ha=\"center\")\n",
    "\n",
    "other = sns.countplot(df[df['corona_result'] == 'Other'][\"fever\"], ax=axes[2])\n",
    "axes[2].set_title('Other Corona Results versus fever')\n",
    "for p in other.patches:\n",
    "    height = p.get_height()\n",
    "    other.text(p.get_x()+p.get_width()/2., height + 0.1,height ,ha=\"center\")\n",
    "\n",
    "plt.show()\n"
   ]
  },
  {
   "cell_type": "markdown",
   "metadata": {},
   "source": [
    "**BreakDown of sore_throat**"
   ]
  },
  {
   "cell_type": "code",
   "execution_count": 18,
   "metadata": {},
   "outputs": [
    {
     "data": {
      "image/png": "[encoded data removed]",
      "text/plain": [
       "<Figure size 360x360 with 1 Axes>"
      ]
     },
     "metadata": {
      "needs_background": "light"
     },
     "output_type": "display_data"
    }
   ],
   "source": [
    "#p = sns.countplot(data=df, x=\"sore_throat\")\n",
    "#plt.show()\n",
    "\n",
    "plt.figure(figsize=(5,5))\n",
    "sore_throat = sns.countplot(data=df, x=\"sore_throat\")\n",
    "\n",
    "for p in sore_throat.patches:\n",
    "    height = p.get_height()\n",
    "    sore_throat.text(p.get_x()+p.get_width()/2., height + 0.1,height ,ha=\"center\")\n",
    "\n"
   ]
  },
  {
   "cell_type": "code",
   "execution_count": 19,
   "metadata": {},
   "outputs": [
    {
     "data": {
      "image/png": "[encoded data removed]",
      "text/plain": [
       "<Figure size 1512x360 with 3 Axes>"
      ]
     },
     "metadata": {
      "needs_background": "light"
     },
     "output_type": "display_data"
    }
   ],
   "source": [
    "#plt.figure(figsize=(5,5))\n",
    "#sns.distplot(df[df['corona_result'] == 'Positive'][\"sore_throat\"], color='red',kde=False) \n",
    "#sns.distplot(df[df['corona_result'] == 'Negative'][\"sore_throat\"], color='green',kde=False)\n",
    "#plt.title('Corona Results versus sore_throat')\n",
    "#plt.show()\n",
    "\n",
    "f, axes = plt.subplots(1, 3, figsize=(21,5))\n",
    "\n",
    "positive = sns.countplot(df[df['corona_result'] == 'Positive'][\"sore_throat\"], ax=axes[0]) \n",
    "axes[0].set_title(\"Positive Corona Results versus sore_throat\")\n",
    "for p in positive.patches:\n",
    "    height = p.get_height()\n",
    "    positive.text(p.get_x()+p.get_width()/2., height + 0.1,height ,ha=\"center\")\n",
    "\n",
    "# we don't need kernel desity estimate because the feature is discrete.\n",
    "negative = sns.countplot(df[df['corona_result'] == 'Negative'][\"sore_throat\"], ax=axes[1])\n",
    "axes[1].set_title('Negative Corona Results versus sore_throat')\n",
    "for p in negative.patches:\n",
    "    height = p.get_height()\n",
    "    negative.text(p.get_x()+p.get_width()/2., height + 0.1,height ,ha=\"center\")\n",
    "\n",
    "other = sns.countplot(df[df['corona_result'] == 'Other'][\"sore_throat\"], ax=axes[2])\n",
    "axes[2].set_title('Other Corona Results versus sore_throat')\n",
    "for p in other.patches:\n",
    "    height = p.get_height()\n",
    "    other.text(p.get_x()+p.get_width()/2., height + 0.1,height ,ha=\"center\")\n",
    "\n",
    "plt.show()\n"
   ]
  },
  {
   "cell_type": "markdown",
   "metadata": {},
   "source": [
    "**BreakDown of shortness_of_breath**"
   ]
  },
  {
   "cell_type": "code",
   "execution_count": 20,
   "metadata": {},
   "outputs": [
    {
     "data": {
      "image/png": "[encoded data removed]",
      "text/plain": [
       "<Figure size 360x360 with 1 Axes>"
      ]
     },
     "metadata": {
      "needs_background": "light"
     },
     "output_type": "display_data"
    }
   ],
   "source": [
    "#p = sns.countplot(data=df, x=\"shortness_of_breath\")\n",
    "#plt.show()\n",
    "\n",
    "plt.figure(figsize=(5,5))\n",
    "shortness_of_breath = sns.countplot(data=df, x=\"shortness_of_breath\")\n",
    "\n",
    "for p in shortness_of_breath.patches:\n",
    "    height = p.get_height()\n",
    "    shortness_of_breath.text(p.get_x()+p.get_width()/2., height + 0.1,height ,ha=\"center\")\n",
    "plt.show()"
   ]
  },
  {
   "cell_type": "code",
   "execution_count": 21,
   "metadata": {},
   "outputs": [
    {
     "data": {
      "image/png": "[encoded data removed]",
      "text/plain": [
       "<Figure size 1512x360 with 3 Axes>"
      ]
     },
     "metadata": {
      "needs_background": "light"
     },
     "output_type": "display_data"
    }
   ],
   "source": [
    "#plt.figure(figsize=(5,5))\n",
    "#sns.distplot(df[df['corona_result'] == 'Positive'][\"shortness_of_breath\"], color='red',kde=False) \n",
    "#sns.distplot(df[df['corona_result'] == 'Negative'][\"shortness_of_breath\"], color='green',kde=False)\n",
    "#plt.title('Corona Results versus shortness_of_breath')\n",
    "#plt.show()\n",
    "\n",
    "f, axes = plt.subplots(1, 3, figsize=(21,5))\n",
    "\n",
    "positive = sns.countplot(df[df['corona_result'] == 'Positive'][\"shortness_of_breath\"], ax=axes[0]) \n",
    "axes[0].set_title(\"Positive Corona Results versus shortness_of_breath\")\n",
    "for p in positive.patches:\n",
    "    height = p.get_height()\n",
    "    positive.text(p.get_x()+p.get_width()/2., height + 0.1,height ,ha=\"center\")\n",
    "\n",
    "# we don't need kernel desity estimate because the feature is discrete.\n",
    "negative = sns.countplot(df[df['corona_result'] == 'Negative'][\"shortness_of_breath\"], ax=axes[1])\n",
    "axes[1].set_title('Negative Corona Results versus shortness_of_breath')\n",
    "for p in negative.patches:\n",
    "    height = p.get_height()\n",
    "    negative.text(p.get_x()+p.get_width()/2., height + 0.1,height ,ha=\"center\")\n",
    "\n",
    "other = sns.countplot(df[df['corona_result'] == 'Other'][\"shortness_of_breath\"], ax=axes[2])\n",
    "axes[2].set_title('Other Corona Results versus shortness_of_breath')\n",
    "for p in other.patches:\n",
    "    height = p.get_height()\n",
    "    other.text(p.get_x()+p.get_width()/2., height + 0.1,height ,ha=\"center\")\n",
    "\n",
    "plt.show()\n"
   ]
  },
  {
   "cell_type": "markdown",
   "metadata": {},
   "source": [
    "**BreakDown of head_ache**"
   ]
  },
  {
   "cell_type": "code",
   "execution_count": 22,
   "metadata": {},
   "outputs": [
    {
     "data": {
      "image/png": "[encoded data removed]",
      "text/plain": [
       "<Figure size 360x360 with 1 Axes>"
      ]
     },
     "metadata": {
      "needs_background": "light"
     },
     "output_type": "display_data"
    }
   ],
   "source": [
    "#p = sns.countplot(data=df, x=\"head_ache\")\n",
    "#plt.show()\n",
    "\n",
    "plt.figure(figsize=(5,5))\n",
    "head_ache = sns.countplot(data=df, x=\"head_ache\")\n",
    "\n",
    "for p in head_ache.patches:\n",
    "    height = p.get_height()\n",
    "    head_ache.text(p.get_x()+p.get_width()/2., height + 0.1,height ,ha=\"center\")\n",
    "plt.show()"
   ]
  },
  {
   "cell_type": "code",
   "execution_count": 23,
   "metadata": {},
   "outputs": [
    {
     "data": {
      "image/png": "[encoded data removed]",
      "text/plain": [
       "<Figure size 1512x360 with 3 Axes>"
      ]
     },
     "metadata": {
      "needs_background": "light"
     },
     "output_type": "display_data"
    }
   ],
   "source": [
    "#plt.figure(figsize=(5,5))\n",
    "#sns.distplot(df[df['corona_result'] == 'Positive'][\"head_ache\"], color='red',kde=False) \n",
    "#sns.distplot(df[df['corona_result'] == 'Negative'][\"head_ache\"], color='green',kde=False)\n",
    "#plt.title('Corona Results versus head_ache')\n",
    "#plt.show()\n",
    "\n",
    "f, axes = plt.subplots(1, 3, figsize=(21,5))\n",
    "\n",
    "positive = sns.countplot(df[df['corona_result'] == 'Positive'][\"head_ache\"], ax=axes[0]) \n",
    "axes[0].set_title(\"Positive Corona Results versus head_ache\")\n",
    "for p in positive.patches:\n",
    "    height = p.get_height()\n",
    "    positive.text(p.get_x()+p.get_width()/2., height + 0.1,height ,ha=\"center\")\n",
    "\n",
    "# we don't need kernel desity estimate because the feature is discrete.\n",
    "negative = sns.countplot(df[df['corona_result'] == 'Negative'][\"head_ache\"], ax=axes[1])\n",
    "axes[1].set_title('Negative Corona Results versus head_ache')\n",
    "for p in negative.patches:\n",
    "    height = p.get_height()\n",
    "    negative.text(p.get_x()+p.get_width()/2., height + 0.1,height ,ha=\"center\")\n",
    "\n",
    "other = sns.countplot(df[df['corona_result'] == 'Other'][\"head_ache\"], ax=axes[2])\n",
    "axes[2].set_title('Other Corona Results versus head_ache')\n",
    "for p in other.patches:\n",
    "    height = p.get_height()\n",
    "    other.text(p.get_x()+p.get_width()/2., height + 0.1,height ,ha=\"center\")\n",
    "\n",
    "plt.show()"
   ]
  },
  {
   "cell_type": "markdown",
   "metadata": {},
   "source": [
    "**Corona Result along with time**"
   ]
  },
  {
   "cell_type": "code",
   "execution_count": 24,
   "metadata": {},
   "outputs": [],
   "source": [
    "matplotlib.style.use('seaborn-white')"
   ]
  },
  {
   "cell_type": "code",
   "execution_count": 25,
   "metadata": {},
   "outputs": [
    {
     "data": {
      "text/html": [
       "<div>\n",
       "<style scoped>\n",
       "    .dataframe tbody tr th:only-of-type {\n",
       "        vertical-align: middle;\n",
       "    }\n",
       "\n",
       "    .dataframe tbody tr th {\n",
       "        vertical-align: top;\n",
       "    }\n",
       "\n",
       "    .dataframe thead th {\n",
       "        text-align: right;\n",
       "    }\n",
       "</style>\n",
       "<table border=\"1\" class=\"dataframe\">\n",
       "  <thead>\n",
       "    <tr style=\"text-align: right;\">\n",
       "      <th></th>\n",
       "      <th>date</th>\n",
       "      <th>cough</th>\n",
       "      <th>fever</th>\n",
       "      <th>sore_throat</th>\n",
       "      <th>shortness_of_breath</th>\n",
       "      <th>head_ache</th>\n",
       "      <th>corona_result</th>\n",
       "      <th>age</th>\n",
       "      <th>gender</th>\n",
       "      <th>test_indication</th>\n",
       "    </tr>\n",
       "  </thead>\n",
       "  <tbody>\n",
       "    <tr>\n",
       "      <th>0</th>\n",
       "      <td>2021-07-25</td>\n",
       "      <td>0</td>\n",
       "      <td>0</td>\n",
       "      <td>0</td>\n",
       "      <td>0</td>\n",
       "      <td>0</td>\n",
       "      <td>Negative</td>\n",
       "      <td>No</td>\n",
       "      <td>Female</td>\n",
       "      <td>Other</td>\n",
       "    </tr>\n",
       "    <tr>\n",
       "      <th>1</th>\n",
       "      <td>2021-07-25</td>\n",
       "      <td>0</td>\n",
       "      <td>0</td>\n",
       "      <td>0</td>\n",
       "      <td>0</td>\n",
       "      <td>0</td>\n",
       "      <td>Negative</td>\n",
       "      <td>No</td>\n",
       "      <td>Female</td>\n",
       "      <td>Other</td>\n",
       "    </tr>\n",
       "    <tr>\n",
       "      <th>2</th>\n",
       "      <td>2021-07-25</td>\n",
       "      <td>1</td>\n",
       "      <td>1</td>\n",
       "      <td>1</td>\n",
       "      <td>0</td>\n",
       "      <td>1</td>\n",
       "      <td>Other</td>\n",
       "      <td>No</td>\n",
       "      <td>Female</td>\n",
       "      <td>Abroad</td>\n",
       "    </tr>\n",
       "    <tr>\n",
       "      <th>3</th>\n",
       "      <td>2021-07-25</td>\n",
       "      <td>0</td>\n",
       "      <td>0</td>\n",
       "      <td>0</td>\n",
       "      <td>0</td>\n",
       "      <td>0</td>\n",
       "      <td>Negative</td>\n",
       "      <td>No</td>\n",
       "      <td>Male</td>\n",
       "      <td>Other</td>\n",
       "    </tr>\n",
       "    <tr>\n",
       "      <th>4</th>\n",
       "      <td>2021-07-25</td>\n",
       "      <td>0</td>\n",
       "      <td>0</td>\n",
       "      <td>0</td>\n",
       "      <td>0</td>\n",
       "      <td>0</td>\n",
       "      <td>Negative</td>\n",
       "      <td>No</td>\n",
       "      <td>Female</td>\n",
       "      <td>Other</td>\n",
       "    </tr>\n",
       "    <tr>\n",
       "      <th>...</th>\n",
       "      <td>...</td>\n",
       "      <td>...</td>\n",
       "      <td>...</td>\n",
       "      <td>...</td>\n",
       "      <td>...</td>\n",
       "      <td>...</td>\n",
       "      <td>...</td>\n",
       "      <td>...</td>\n",
       "      <td>...</td>\n",
       "      <td>...</td>\n",
       "    </tr>\n",
       "    <tr>\n",
       "      <th>852369</th>\n",
       "      <td>2021-03-31</td>\n",
       "      <td>0</td>\n",
       "      <td>0</td>\n",
       "      <td>0</td>\n",
       "      <td>0</td>\n",
       "      <td>0</td>\n",
       "      <td>Negative</td>\n",
       "      <td>No</td>\n",
       "      <td>NaN</td>\n",
       "      <td>Other</td>\n",
       "    </tr>\n",
       "    <tr>\n",
       "      <th>852370</th>\n",
       "      <td>2021-03-31</td>\n",
       "      <td>0</td>\n",
       "      <td>0</td>\n",
       "      <td>0</td>\n",
       "      <td>0</td>\n",
       "      <td>0</td>\n",
       "      <td>Negative</td>\n",
       "      <td>No</td>\n",
       "      <td>NaN</td>\n",
       "      <td>Other</td>\n",
       "    </tr>\n",
       "    <tr>\n",
       "      <th>852371</th>\n",
       "      <td>2021-03-31</td>\n",
       "      <td>0</td>\n",
       "      <td>0</td>\n",
       "      <td>0</td>\n",
       "      <td>0</td>\n",
       "      <td>0</td>\n",
       "      <td>Negative</td>\n",
       "      <td>No</td>\n",
       "      <td>NaN</td>\n",
       "      <td>Other</td>\n",
       "    </tr>\n",
       "    <tr>\n",
       "      <th>852372</th>\n",
       "      <td>2021-03-31</td>\n",
       "      <td>0</td>\n",
       "      <td>0</td>\n",
       "      <td>0</td>\n",
       "      <td>0</td>\n",
       "      <td>0</td>\n",
       "      <td>Negative</td>\n",
       "      <td>No</td>\n",
       "      <td>NaN</td>\n",
       "      <td>Other</td>\n",
       "    </tr>\n",
       "    <tr>\n",
       "      <th>852373</th>\n",
       "      <td>2021-03-31</td>\n",
       "      <td>0</td>\n",
       "      <td>0</td>\n",
       "      <td>0</td>\n",
       "      <td>0</td>\n",
       "      <td>0</td>\n",
       "      <td>Negative</td>\n",
       "      <td>No</td>\n",
       "      <td>NaN</td>\n",
       "      <td>Other</td>\n",
       "    </tr>\n",
       "  </tbody>\n",
       "</table>\n",
       "<p>852374 rows × 10 columns</p>\n",
       "</div>"
      ],
      "text/plain": [
       "             date  cough  fever  sore_throat  shortness_of_breath  head_ache  \\\n",
       "0      2021-07-25      0      0            0                    0          0   \n",
       "1      2021-07-25      0      0            0                    0          0   \n",
       "2      2021-07-25      1      1            1                    0          1   \n",
       "3      2021-07-25      0      0            0                    0          0   \n",
       "4      2021-07-25      0      0            0                    0          0   \n",
       "...           ...    ...    ...          ...                  ...        ...   \n",
       "852369 2021-03-31      0      0            0                    0          0   \n",
       "852370 2021-03-31      0      0            0                    0          0   \n",
       "852371 2021-03-31      0      0            0                    0          0   \n",
       "852372 2021-03-31      0      0            0                    0          0   \n",
       "852373 2021-03-31      0      0            0                    0          0   \n",
       "\n",
       "       corona_result age  gender test_indication  \n",
       "0           Negative  No  Female           Other  \n",
       "1           Negative  No  Female           Other  \n",
       "2              Other  No  Female          Abroad  \n",
       "3           Negative  No    Male           Other  \n",
       "4           Negative  No  Female           Other  \n",
       "...              ...  ..     ...             ...  \n",
       "852369      Negative  No     NaN           Other  \n",
       "852370      Negative  No     NaN           Other  \n",
       "852371      Negative  No     NaN           Other  \n",
       "852372      Negative  No     NaN           Other  \n",
       "852373      Negative  No     NaN           Other  \n",
       "\n",
       "[852374 rows x 10 columns]"
      ]
     },
     "execution_count": 25,
     "metadata": {},
     "output_type": "execute_result"
    }
   ],
   "source": [
    "df"
   ]
  },
  {
   "cell_type": "code",
   "execution_count": 26,
   "metadata": {
    "scrolled": true
   },
   "outputs": [
    {
     "data": {
      "image/png": "[encoded data removed]",
      "text/plain": [
       "<Figure size 1440x360 with 1 Axes>"
      ]
     },
     "metadata": {},
     "output_type": "display_data"
    }
   ],
   "source": [
    "df[df['corona_result'] == \"Positive\"].groupby('date').size().plot(figsize=(20, 5));"
   ]
  },
  {
   "cell_type": "markdown",
   "metadata": {},
   "source": [
    "There are two peaks for testing positive results in 2021-07-25 and 2021-07-19"
   ]
  },
  {
   "cell_type": "code",
   "execution_count": 27,
   "metadata": {},
   "outputs": [
    {
     "data": {
      "image/png": "[encoded data removed]",
      "text/plain": [
       "<Figure size 1440x360 with 1 Axes>"
      ]
     },
     "metadata": {},
     "output_type": "display_data"
    }
   ],
   "source": [
    "df[df['corona_result'] == \"Negative\"].groupby('date').size().plot(figsize=(20, 5));"
   ]
  },
  {
   "cell_type": "code",
   "execution_count": 28,
   "metadata": {
    "scrolled": true
   },
   "outputs": [
    {
     "data": {
      "image/png": "[encoded data removed]",
      "text/plain": [
       "<Figure size 1440x360 with 1 Axes>"
      ]
     },
     "metadata": {},
     "output_type": "display_data"
    }
   ],
   "source": [
    "df[df['corona_result'] == \"Other\"].groupby('date').size().plot(figsize=(20, 5));"
   ]
  },
  {
   "cell_type": "code",
   "execution_count": 73,
   "metadata": {},
   "outputs": [
    {
     "ename": "KeyError",
     "evalue": "'date'",
     "output_type": "error",
     "traceback": [
      "\u001b[0;31m---------------------------------------------------------------------------\u001b[0m",
      "\u001b[0;31mKeyError\u001b[0m                                  Traceback (most recent call last)",
      "\u001b[0;32m~/opt/anaconda3/lib/python3.8/site-packages/pandas/core/indexes/base.py\u001b[0m in \u001b[0;36mget_loc\u001b[0;34m(self, key, method, tolerance)\u001b[0m\n\u001b[1;32m   3079\u001b[0m             \u001b[0;32mtry\u001b[0m\u001b[0;34m:\u001b[0m\u001b[0;34m\u001b[0m\u001b[0;34m\u001b[0m\u001b[0m\n\u001b[0;32m-> 3080\u001b[0;31m                 \u001b[0;32mreturn\u001b[0m \u001b[0mself\u001b[0m\u001b[0;34m.\u001b[0m\u001b[0m_engine\u001b[0m\u001b[0;34m.\u001b[0m\u001b[0mget_loc\u001b[0m\u001b[0;34m(\u001b[0m\u001b[0mcasted_key\u001b[0m\u001b[0;34m)\u001b[0m\u001b[0;34m\u001b[0m\u001b[0;34m\u001b[0m\u001b[0m\n\u001b[0m\u001b[1;32m   3081\u001b[0m             \u001b[0;32mexcept\u001b[0m \u001b[0mKeyError\u001b[0m \u001b[0;32mas\u001b[0m \u001b[0merr\u001b[0m\u001b[0;34m:\u001b[0m\u001b[0;34m\u001b[0m\u001b[0;34m\u001b[0m\u001b[0m\n",
      "\u001b[0;32mpandas/_libs/index.pyx\u001b[0m in \u001b[0;36mpandas._libs.index.IndexEngine.get_loc\u001b[0;34m()\u001b[0m\n",
      "\u001b[0;32mpandas/_libs/index.pyx\u001b[0m in \u001b[0;36mpandas._libs.index.IndexEngine.get_loc\u001b[0;34m()\u001b[0m\n",
      "\u001b[0;32mpandas/_libs/hashtable_class_helper.pxi\u001b[0m in \u001b[0;36mpandas._libs.hashtable.PyObjectHashTable.get_item\u001b[0;34m()\u001b[0m\n",
      "\u001b[0;32mpandas/_libs/hashtable_class_helper.pxi\u001b[0m in \u001b[0;36mpandas._libs.hashtable.PyObjectHashTable.get_item\u001b[0;34m()\u001b[0m\n",
      "\u001b[0;31mKeyError\u001b[0m: 'date'",
      "\nThe above exception was the direct cause of the following exception:\n",
      "\u001b[0;31mKeyError\u001b[0m                                  Traceback (most recent call last)",
      "\u001b[0;32m<ipython-input-73-f807975669c6>\u001b[0m in \u001b[0;36m<module>\u001b[0;34m\u001b[0m\n\u001b[1;32m      1\u001b[0m \u001b[0;32mimport\u001b[0m \u001b[0mpandas\u001b[0m \u001b[0;32mas\u001b[0m \u001b[0mpd\u001b[0m\u001b[0;34m,\u001b[0m \u001b[0mdatetime\u001b[0m \u001b[0;32mas\u001b[0m \u001b[0mdt\u001b[0m\u001b[0;34m\u001b[0m\u001b[0;34m\u001b[0m\u001b[0m\n\u001b[1;32m      2\u001b[0m \u001b[0;34m\u001b[0m\u001b[0m\n\u001b[0;32m----> 3\u001b[0;31m \u001b[0mdf_weekly\u001b[0m \u001b[0;34m=\u001b[0m \u001b[0mpd\u001b[0m\u001b[0;34m.\u001b[0m\u001b[0mDataFrame\u001b[0m\u001b[0;34m(\u001b[0m\u001b[0mdf\u001b[0m\u001b[0;34m.\u001b[0m\u001b[0mapply\u001b[0m\u001b[0;34m(\u001b[0m\u001b[0;32mlambda\u001b[0m \u001b[0mrow\u001b[0m\u001b[0;34m:\u001b[0m \u001b[0mrow\u001b[0m\u001b[0;34m[\u001b[0m\u001b[0;34m'date'\u001b[0m\u001b[0;34m]\u001b[0m \u001b[0;34m-\u001b[0m \u001b[0mdt\u001b[0m\u001b[0;34m.\u001b[0m\u001b[0mtimedelta\u001b[0m\u001b[0;34m(\u001b[0m\u001b[0mdays\u001b[0m\u001b[0;34m=\u001b[0m\u001b[0mrow\u001b[0m\u001b[0;34m[\u001b[0m\u001b[0;34m'date'\u001b[0m\u001b[0;34m]\u001b[0m\u001b[0;34m.\u001b[0m\u001b[0mweekday\u001b[0m\u001b[0;34m(\u001b[0m\u001b[0;34m)\u001b[0m\u001b[0;34m)\u001b[0m\u001b[0;34m,\u001b[0m \u001b[0maxis\u001b[0m\u001b[0;34m=\u001b[0m\u001b[0;36m1\u001b[0m\u001b[0;34m)\u001b[0m\u001b[0;34m,\u001b[0m \u001b[0mcolumns\u001b[0m \u001b[0;34m=\u001b[0m \u001b[0;34m[\u001b[0m\u001b[0;34m'WeekDate'\u001b[0m\u001b[0;34m]\u001b[0m\u001b[0;34m)\u001b[0m\u001b[0;34m\u001b[0m\u001b[0;34m\u001b[0m\u001b[0m\n\u001b[0m\u001b[1;32m      4\u001b[0m \u001b[0mdf_weekly\u001b[0m\u001b[0;34m[\u001b[0m\u001b[0;34m'WeekDate'\u001b[0m\u001b[0;34m]\u001b[0m \u001b[0;34m=\u001b[0m \u001b[0mpd\u001b[0m\u001b[0;34m.\u001b[0m\u001b[0mto_datetime\u001b[0m\u001b[0;34m(\u001b[0m\u001b[0mdf_weekly\u001b[0m\u001b[0;34m[\u001b[0m\u001b[0;34m'WeekDate'\u001b[0m\u001b[0;34m]\u001b[0m\u001b[0;34m)\u001b[0m\u001b[0;34m.\u001b[0m\u001b[0mdt\u001b[0m\u001b[0;34m.\u001b[0m\u001b[0mdate\u001b[0m\u001b[0;34m\u001b[0m\u001b[0;34m\u001b[0m\u001b[0m\n\u001b[1;32m      5\u001b[0m \u001b[0;34m\u001b[0m\u001b[0m\n",
      "\u001b[0;32m~/opt/anaconda3/lib/python3.8/site-packages/pandas/core/frame.py\u001b[0m in \u001b[0;36mapply\u001b[0;34m(self, func, axis, raw, result_type, args, **kwds)\u001b[0m\n\u001b[1;32m   7766\u001b[0m             \u001b[0mkwds\u001b[0m\u001b[0;34m=\u001b[0m\u001b[0mkwds\u001b[0m\u001b[0;34m,\u001b[0m\u001b[0;34m\u001b[0m\u001b[0;34m\u001b[0m\u001b[0m\n\u001b[1;32m   7767\u001b[0m         )\n\u001b[0;32m-> 7768\u001b[0;31m         \u001b[0;32mreturn\u001b[0m \u001b[0mop\u001b[0m\u001b[0;34m.\u001b[0m\u001b[0mget_result\u001b[0m\u001b[0;34m(\u001b[0m\u001b[0;34m)\u001b[0m\u001b[0;34m\u001b[0m\u001b[0;34m\u001b[0m\u001b[0m\n\u001b[0m\u001b[1;32m   7769\u001b[0m \u001b[0;34m\u001b[0m\u001b[0m\n\u001b[1;32m   7770\u001b[0m     \u001b[0;32mdef\u001b[0m \u001b[0mapplymap\u001b[0m\u001b[0;34m(\u001b[0m\u001b[0mself\u001b[0m\u001b[0;34m,\u001b[0m \u001b[0mfunc\u001b[0m\u001b[0;34m,\u001b[0m \u001b[0mna_action\u001b[0m\u001b[0;34m:\u001b[0m \u001b[0mOptional\u001b[0m\u001b[0;34m[\u001b[0m\u001b[0mstr\u001b[0m\u001b[0;34m]\u001b[0m \u001b[0;34m=\u001b[0m \u001b[0;32mNone\u001b[0m\u001b[0;34m)\u001b[0m \u001b[0;34m->\u001b[0m \u001b[0mDataFrame\u001b[0m\u001b[0;34m:\u001b[0m\u001b[0;34m\u001b[0m\u001b[0;34m\u001b[0m\u001b[0m\n",
      "\u001b[0;32m~/opt/anaconda3/lib/python3.8/site-packages/pandas/core/apply.py\u001b[0m in \u001b[0;36mget_result\u001b[0;34m(self)\u001b[0m\n\u001b[1;32m    183\u001b[0m             \u001b[0;32mreturn\u001b[0m \u001b[0mself\u001b[0m\u001b[0;34m.\u001b[0m\u001b[0mapply_raw\u001b[0m\u001b[0;34m(\u001b[0m\u001b[0;34m)\u001b[0m\u001b[0;34m\u001b[0m\u001b[0;34m\u001b[0m\u001b[0m\n\u001b[1;32m    184\u001b[0m \u001b[0;34m\u001b[0m\u001b[0m\n\u001b[0;32m--> 185\u001b[0;31m         \u001b[0;32mreturn\u001b[0m \u001b[0mself\u001b[0m\u001b[0;34m.\u001b[0m\u001b[0mapply_standard\u001b[0m\u001b[0;34m(\u001b[0m\u001b[0;34m)\u001b[0m\u001b[0;34m\u001b[0m\u001b[0;34m\u001b[0m\u001b[0m\n\u001b[0m\u001b[1;32m    186\u001b[0m \u001b[0;34m\u001b[0m\u001b[0m\n\u001b[1;32m    187\u001b[0m     \u001b[0;32mdef\u001b[0m \u001b[0mapply_empty_result\u001b[0m\u001b[0;34m(\u001b[0m\u001b[0mself\u001b[0m\u001b[0;34m)\u001b[0m\u001b[0;34m:\u001b[0m\u001b[0;34m\u001b[0m\u001b[0;34m\u001b[0m\u001b[0m\n",
      "\u001b[0;32m~/opt/anaconda3/lib/python3.8/site-packages/pandas/core/apply.py\u001b[0m in \u001b[0;36mapply_standard\u001b[0;34m(self)\u001b[0m\n\u001b[1;32m    274\u001b[0m \u001b[0;34m\u001b[0m\u001b[0m\n\u001b[1;32m    275\u001b[0m     \u001b[0;32mdef\u001b[0m \u001b[0mapply_standard\u001b[0m\u001b[0;34m(\u001b[0m\u001b[0mself\u001b[0m\u001b[0;34m)\u001b[0m\u001b[0;34m:\u001b[0m\u001b[0;34m\u001b[0m\u001b[0;34m\u001b[0m\u001b[0m\n\u001b[0;32m--> 276\u001b[0;31m         \u001b[0mresults\u001b[0m\u001b[0;34m,\u001b[0m \u001b[0mres_index\u001b[0m \u001b[0;34m=\u001b[0m \u001b[0mself\u001b[0m\u001b[0;34m.\u001b[0m\u001b[0mapply_series_generator\u001b[0m\u001b[0;34m(\u001b[0m\u001b[0;34m)\u001b[0m\u001b[0;34m\u001b[0m\u001b[0;34m\u001b[0m\u001b[0m\n\u001b[0m\u001b[1;32m    277\u001b[0m \u001b[0;34m\u001b[0m\u001b[0m\n\u001b[1;32m    278\u001b[0m         \u001b[0;31m# wrap results\u001b[0m\u001b[0;34m\u001b[0m\u001b[0;34m\u001b[0m\u001b[0;34m\u001b[0m\u001b[0m\n",
      "\u001b[0;32m~/opt/anaconda3/lib/python3.8/site-packages/pandas/core/apply.py\u001b[0m in \u001b[0;36mapply_series_generator\u001b[0;34m(self)\u001b[0m\n\u001b[1;32m    288\u001b[0m             \u001b[0;32mfor\u001b[0m \u001b[0mi\u001b[0m\u001b[0;34m,\u001b[0m \u001b[0mv\u001b[0m \u001b[0;32min\u001b[0m \u001b[0menumerate\u001b[0m\u001b[0;34m(\u001b[0m\u001b[0mseries_gen\u001b[0m\u001b[0;34m)\u001b[0m\u001b[0;34m:\u001b[0m\u001b[0;34m\u001b[0m\u001b[0;34m\u001b[0m\u001b[0m\n\u001b[1;32m    289\u001b[0m                 \u001b[0;31m# ignore SettingWithCopy here in case the user mutates\u001b[0m\u001b[0;34m\u001b[0m\u001b[0;34m\u001b[0m\u001b[0;34m\u001b[0m\u001b[0m\n\u001b[0;32m--> 290\u001b[0;31m                 \u001b[0mresults\u001b[0m\u001b[0;34m[\u001b[0m\u001b[0mi\u001b[0m\u001b[0;34m]\u001b[0m \u001b[0;34m=\u001b[0m \u001b[0mself\u001b[0m\u001b[0;34m.\u001b[0m\u001b[0mf\u001b[0m\u001b[0;34m(\u001b[0m\u001b[0mv\u001b[0m\u001b[0;34m)\u001b[0m\u001b[0;34m\u001b[0m\u001b[0;34m\u001b[0m\u001b[0m\n\u001b[0m\u001b[1;32m    291\u001b[0m                 \u001b[0;32mif\u001b[0m \u001b[0misinstance\u001b[0m\u001b[0;34m(\u001b[0m\u001b[0mresults\u001b[0m\u001b[0;34m[\u001b[0m\u001b[0mi\u001b[0m\u001b[0;34m]\u001b[0m\u001b[0;34m,\u001b[0m \u001b[0mABCSeries\u001b[0m\u001b[0;34m)\u001b[0m\u001b[0;34m:\u001b[0m\u001b[0;34m\u001b[0m\u001b[0;34m\u001b[0m\u001b[0m\n\u001b[1;32m    292\u001b[0m                     \u001b[0;31m# If we have a view on v, we need to make a copy because\u001b[0m\u001b[0;34m\u001b[0m\u001b[0;34m\u001b[0m\u001b[0;34m\u001b[0m\u001b[0m\n",
      "\u001b[0;32m<ipython-input-73-f807975669c6>\u001b[0m in \u001b[0;36m<lambda>\u001b[0;34m(row)\u001b[0m\n\u001b[1;32m      1\u001b[0m \u001b[0;32mimport\u001b[0m \u001b[0mpandas\u001b[0m \u001b[0;32mas\u001b[0m \u001b[0mpd\u001b[0m\u001b[0;34m,\u001b[0m \u001b[0mdatetime\u001b[0m \u001b[0;32mas\u001b[0m \u001b[0mdt\u001b[0m\u001b[0;34m\u001b[0m\u001b[0;34m\u001b[0m\u001b[0m\n\u001b[1;32m      2\u001b[0m \u001b[0;34m\u001b[0m\u001b[0m\n\u001b[0;32m----> 3\u001b[0;31m \u001b[0mdf_weekly\u001b[0m \u001b[0;34m=\u001b[0m \u001b[0mpd\u001b[0m\u001b[0;34m.\u001b[0m\u001b[0mDataFrame\u001b[0m\u001b[0;34m(\u001b[0m\u001b[0mdf\u001b[0m\u001b[0;34m.\u001b[0m\u001b[0mapply\u001b[0m\u001b[0;34m(\u001b[0m\u001b[0;32mlambda\u001b[0m \u001b[0mrow\u001b[0m\u001b[0;34m:\u001b[0m \u001b[0mrow\u001b[0m\u001b[0;34m[\u001b[0m\u001b[0;34m'date'\u001b[0m\u001b[0;34m]\u001b[0m \u001b[0;34m-\u001b[0m \u001b[0mdt\u001b[0m\u001b[0;34m.\u001b[0m\u001b[0mtimedelta\u001b[0m\u001b[0;34m(\u001b[0m\u001b[0mdays\u001b[0m\u001b[0;34m=\u001b[0m\u001b[0mrow\u001b[0m\u001b[0;34m[\u001b[0m\u001b[0;34m'date'\u001b[0m\u001b[0;34m]\u001b[0m\u001b[0;34m.\u001b[0m\u001b[0mweekday\u001b[0m\u001b[0;34m(\u001b[0m\u001b[0;34m)\u001b[0m\u001b[0;34m)\u001b[0m\u001b[0;34m,\u001b[0m \u001b[0maxis\u001b[0m\u001b[0;34m=\u001b[0m\u001b[0;36m1\u001b[0m\u001b[0;34m)\u001b[0m\u001b[0;34m,\u001b[0m \u001b[0mcolumns\u001b[0m \u001b[0;34m=\u001b[0m \u001b[0;34m[\u001b[0m\u001b[0;34m'WeekDate'\u001b[0m\u001b[0;34m]\u001b[0m\u001b[0;34m)\u001b[0m\u001b[0;34m\u001b[0m\u001b[0;34m\u001b[0m\u001b[0m\n\u001b[0m\u001b[1;32m      4\u001b[0m \u001b[0mdf_weekly\u001b[0m\u001b[0;34m[\u001b[0m\u001b[0;34m'WeekDate'\u001b[0m\u001b[0;34m]\u001b[0m \u001b[0;34m=\u001b[0m \u001b[0mpd\u001b[0m\u001b[0;34m.\u001b[0m\u001b[0mto_datetime\u001b[0m\u001b[0;34m(\u001b[0m\u001b[0mdf_weekly\u001b[0m\u001b[0;34m[\u001b[0m\u001b[0;34m'WeekDate'\u001b[0m\u001b[0;34m]\u001b[0m\u001b[0;34m)\u001b[0m\u001b[0;34m.\u001b[0m\u001b[0mdt\u001b[0m\u001b[0;34m.\u001b[0m\u001b[0mdate\u001b[0m\u001b[0;34m\u001b[0m\u001b[0;34m\u001b[0m\u001b[0m\n\u001b[1;32m      5\u001b[0m \u001b[0;34m\u001b[0m\u001b[0m\n",
      "\u001b[0;32m~/opt/anaconda3/lib/python3.8/site-packages/pandas/core/series.py\u001b[0m in \u001b[0;36m__getitem__\u001b[0;34m(self, key)\u001b[0m\n\u001b[1;32m    851\u001b[0m \u001b[0;34m\u001b[0m\u001b[0m\n\u001b[1;32m    852\u001b[0m         \u001b[0;32melif\u001b[0m \u001b[0mkey_is_scalar\u001b[0m\u001b[0;34m:\u001b[0m\u001b[0;34m\u001b[0m\u001b[0;34m\u001b[0m\u001b[0m\n\u001b[0;32m--> 853\u001b[0;31m             \u001b[0;32mreturn\u001b[0m \u001b[0mself\u001b[0m\u001b[0;34m.\u001b[0m\u001b[0m_get_value\u001b[0m\u001b[0;34m(\u001b[0m\u001b[0mkey\u001b[0m\u001b[0;34m)\u001b[0m\u001b[0;34m\u001b[0m\u001b[0;34m\u001b[0m\u001b[0m\n\u001b[0m\u001b[1;32m    854\u001b[0m \u001b[0;34m\u001b[0m\u001b[0m\n\u001b[1;32m    855\u001b[0m         \u001b[0;32mif\u001b[0m \u001b[0mis_hashable\u001b[0m\u001b[0;34m(\u001b[0m\u001b[0mkey\u001b[0m\u001b[0;34m)\u001b[0m\u001b[0;34m:\u001b[0m\u001b[0;34m\u001b[0m\u001b[0;34m\u001b[0m\u001b[0m\n",
      "\u001b[0;32m~/opt/anaconda3/lib/python3.8/site-packages/pandas/core/series.py\u001b[0m in \u001b[0;36m_get_value\u001b[0;34m(self, label, takeable)\u001b[0m\n\u001b[1;32m    959\u001b[0m \u001b[0;34m\u001b[0m\u001b[0m\n\u001b[1;32m    960\u001b[0m         \u001b[0;31m# Similar to Index.get_value, but we do not fall back to positional\u001b[0m\u001b[0;34m\u001b[0m\u001b[0;34m\u001b[0m\u001b[0;34m\u001b[0m\u001b[0m\n\u001b[0;32m--> 961\u001b[0;31m         \u001b[0mloc\u001b[0m \u001b[0;34m=\u001b[0m \u001b[0mself\u001b[0m\u001b[0;34m.\u001b[0m\u001b[0mindex\u001b[0m\u001b[0;34m.\u001b[0m\u001b[0mget_loc\u001b[0m\u001b[0;34m(\u001b[0m\u001b[0mlabel\u001b[0m\u001b[0;34m)\u001b[0m\u001b[0;34m\u001b[0m\u001b[0;34m\u001b[0m\u001b[0m\n\u001b[0m\u001b[1;32m    962\u001b[0m         \u001b[0;32mreturn\u001b[0m \u001b[0mself\u001b[0m\u001b[0;34m.\u001b[0m\u001b[0mindex\u001b[0m\u001b[0;34m.\u001b[0m\u001b[0m_get_values_for_loc\u001b[0m\u001b[0;34m(\u001b[0m\u001b[0mself\u001b[0m\u001b[0;34m,\u001b[0m \u001b[0mloc\u001b[0m\u001b[0;34m,\u001b[0m \u001b[0mlabel\u001b[0m\u001b[0;34m)\u001b[0m\u001b[0;34m\u001b[0m\u001b[0;34m\u001b[0m\u001b[0m\n\u001b[1;32m    963\u001b[0m \u001b[0;34m\u001b[0m\u001b[0m\n",
      "\u001b[0;32m~/opt/anaconda3/lib/python3.8/site-packages/pandas/core/indexes/base.py\u001b[0m in \u001b[0;36mget_loc\u001b[0;34m(self, key, method, tolerance)\u001b[0m\n\u001b[1;32m   3080\u001b[0m                 \u001b[0;32mreturn\u001b[0m \u001b[0mself\u001b[0m\u001b[0;34m.\u001b[0m\u001b[0m_engine\u001b[0m\u001b[0;34m.\u001b[0m\u001b[0mget_loc\u001b[0m\u001b[0;34m(\u001b[0m\u001b[0mcasted_key\u001b[0m\u001b[0;34m)\u001b[0m\u001b[0;34m\u001b[0m\u001b[0;34m\u001b[0m\u001b[0m\n\u001b[1;32m   3081\u001b[0m             \u001b[0;32mexcept\u001b[0m \u001b[0mKeyError\u001b[0m \u001b[0;32mas\u001b[0m \u001b[0merr\u001b[0m\u001b[0;34m:\u001b[0m\u001b[0;34m\u001b[0m\u001b[0;34m\u001b[0m\u001b[0m\n\u001b[0;32m-> 3082\u001b[0;31m                 \u001b[0;32mraise\u001b[0m \u001b[0mKeyError\u001b[0m\u001b[0;34m(\u001b[0m\u001b[0mkey\u001b[0m\u001b[0;34m)\u001b[0m \u001b[0;32mfrom\u001b[0m \u001b[0merr\u001b[0m\u001b[0;34m\u001b[0m\u001b[0;34m\u001b[0m\u001b[0m\n\u001b[0m\u001b[1;32m   3083\u001b[0m \u001b[0;34m\u001b[0m\u001b[0m\n\u001b[1;32m   3084\u001b[0m         \u001b[0;32mif\u001b[0m \u001b[0mtolerance\u001b[0m \u001b[0;32mis\u001b[0m \u001b[0;32mnot\u001b[0m \u001b[0;32mNone\u001b[0m\u001b[0;34m:\u001b[0m\u001b[0;34m\u001b[0m\u001b[0;34m\u001b[0m\u001b[0m\n",
      "\u001b[0;31mKeyError\u001b[0m: 'date'"
     ]
    }
   ],
   "source": [
    "import pandas as pd, datetime as dt\n",
    "\n",
    "df_weekly = pd.DataFrame(df.apply(lambda row: row['date'] - dt.timedelta(days=row['date'].weekday()), axis=1), columns = ['WeekDate'])\n",
    "df_weekly['WeekDate'] = pd.to_datetime(df_weekly['WeekDate']).dt.date\n",
    "\n",
    "perweek = df_weekly['WeekDate'].groupby(df_weekly['WeekDate']).count()\n",
    "perweek.plot(kind=\"bar\", figsize=(20, 5));\n",
    "plt.title(\"Total COVID Test Per Week\")\n",
    "plt.xlabel(\"Week Date\")\n",
    "plt.ylabel(\"Test Counts\")\n",
    "plt.show()"
   ]
  },
  {
   "cell_type": "markdown",
   "metadata": {},
   "source": [
    "Combining what we have analyzed above, the volume of test cases varies week by week but is generally trending upwards."
   ]
  },
  {
   "cell_type": "markdown",
   "metadata": {},
   "source": [
    "## 4 Data Preprocessing"
   ]
  },
  {
   "cell_type": "markdown",
   "metadata": {},
   "source": [
    "**Remove the instances with results of *Others* (not tested, testing)**"
   ]
  },
  {
   "cell_type": "code",
   "execution_count": 29,
   "metadata": {},
   "outputs": [],
   "source": [
    "df = df[df['corona_result'] != 'Other']\n",
    "df = df.drop(\"date\", axis = 1)"
   ]
  },
  {
   "cell_type": "markdown",
   "metadata": {},
   "source": [
    "### Imputation"
   ]
  },
  {
   "cell_type": "code",
   "execution_count": 30,
   "metadata": {},
   "outputs": [
    {
     "data": {
      "text/plain": [
       "'2 features have missing values.'"
      ]
     },
     "execution_count": 30,
     "metadata": {},
     "output_type": "execute_result"
    }
   ],
   "source": [
    "# How many features have missing values?\n",
    "n_missing = len(df.columns[df.isnull().any()])\n",
    "\"{} features have missing values.\".format(n_missing)"
   ]
  },
  {
   "cell_type": "code",
   "execution_count": 31,
   "metadata": {
    "scrolled": true
   },
   "outputs": [
    {
     "data": {
      "text/html": [
       "<div>\n",
       "<style scoped>\n",
       "    .dataframe tbody tr th:only-of-type {\n",
       "        vertical-align: middle;\n",
       "    }\n",
       "\n",
       "    .dataframe tbody tr th {\n",
       "        vertical-align: top;\n",
       "    }\n",
       "\n",
       "    .dataframe thead th {\n",
       "        text-align: right;\n",
       "    }\n",
       "</style>\n",
       "<table border=\"1\" class=\"dataframe\">\n",
       "  <thead>\n",
       "    <tr style=\"text-align: right;\">\n",
       "      <th></th>\n",
       "      <th>Total</th>\n",
       "      <th>Percent</th>\n",
       "    </tr>\n",
       "  </thead>\n",
       "  <tbody>\n",
       "    <tr>\n",
       "      <th>age</th>\n",
       "      <td>622948</td>\n",
       "      <td>0.751702</td>\n",
       "    </tr>\n",
       "    <tr>\n",
       "      <th>gender</th>\n",
       "      <td>463000</td>\n",
       "      <td>0.558695</td>\n",
       "    </tr>\n",
       "  </tbody>\n",
       "</table>\n",
       "</div>"
      ],
      "text/plain": [
       "         Total   Percent\n",
       "age     622948  0.751702\n",
       "gender  463000  0.558695"
      ]
     },
     "execution_count": 31,
     "metadata": {},
     "output_type": "execute_result"
    }
   ],
   "source": [
    "keys = ['Total', 'Percent']\n",
    "\n",
    "null_total = df.isnull().sum().sort_values(ascending=False)\n",
    "null_percent = (df.isnull().sum() /df.isnull().count())\n",
    "\n",
    "df_missing = pd.concat([null_total, null_percent], axis=1, keys=keys, sort=False)\n",
    "df_missing = df_missing.sort_values(by='Percent', ascending=False)\n",
    "df_missing.head(n_missing)"
   ]
  },
  {
   "cell_type": "markdown",
   "metadata": {},
   "source": [
    "The percentage of the missing values is large. We will test on filled and dropped datasets and see if one improves the accuracy"
   ]
  },
  {
   "cell_type": "code",
   "execution_count": 32,
   "metadata": {},
   "outputs": [
    {
     "data": {
      "text/html": [
       "<div>\n",
       "<style scoped>\n",
       "    .dataframe tbody tr th:only-of-type {\n",
       "        vertical-align: middle;\n",
       "    }\n",
       "\n",
       "    .dataframe tbody tr th {\n",
       "        vertical-align: top;\n",
       "    }\n",
       "\n",
       "    .dataframe thead th {\n",
       "        text-align: right;\n",
       "    }\n",
       "</style>\n",
       "<table border=\"1\" class=\"dataframe\">\n",
       "  <thead>\n",
       "    <tr style=\"text-align: right;\">\n",
       "      <th></th>\n",
       "      <th>cough</th>\n",
       "      <th>fever</th>\n",
       "      <th>sore_throat</th>\n",
       "      <th>shortness_of_breath</th>\n",
       "      <th>head_ache</th>\n",
       "      <th>age</th>\n",
       "      <th>gender</th>\n",
       "      <th>test_indication</th>\n",
       "    </tr>\n",
       "  </thead>\n",
       "  <tbody>\n",
       "    <tr>\n",
       "      <th>0</th>\n",
       "      <td>0</td>\n",
       "      <td>0</td>\n",
       "      <td>0</td>\n",
       "      <td>0</td>\n",
       "      <td>0</td>\n",
       "      <td>No</td>\n",
       "      <td>Female</td>\n",
       "      <td>Other</td>\n",
       "    </tr>\n",
       "    <tr>\n",
       "      <th>1</th>\n",
       "      <td>0</td>\n",
       "      <td>0</td>\n",
       "      <td>0</td>\n",
       "      <td>0</td>\n",
       "      <td>0</td>\n",
       "      <td>No</td>\n",
       "      <td>Female</td>\n",
       "      <td>Other</td>\n",
       "    </tr>\n",
       "    <tr>\n",
       "      <th>3</th>\n",
       "      <td>0</td>\n",
       "      <td>0</td>\n",
       "      <td>0</td>\n",
       "      <td>0</td>\n",
       "      <td>0</td>\n",
       "      <td>No</td>\n",
       "      <td>Male</td>\n",
       "      <td>Other</td>\n",
       "    </tr>\n",
       "    <tr>\n",
       "      <th>4</th>\n",
       "      <td>0</td>\n",
       "      <td>0</td>\n",
       "      <td>0</td>\n",
       "      <td>0</td>\n",
       "      <td>0</td>\n",
       "      <td>No</td>\n",
       "      <td>Female</td>\n",
       "      <td>Other</td>\n",
       "    </tr>\n",
       "    <tr>\n",
       "      <th>5</th>\n",
       "      <td>0</td>\n",
       "      <td>0</td>\n",
       "      <td>0</td>\n",
       "      <td>0</td>\n",
       "      <td>0</td>\n",
       "      <td>No</td>\n",
       "      <td>Missing</td>\n",
       "      <td>Other</td>\n",
       "    </tr>\n",
       "  </tbody>\n",
       "</table>\n",
       "</div>"
      ],
      "text/plain": [
       "   cough  fever  sore_throat  shortness_of_breath  head_ache age   gender  \\\n",
       "0      0      0            0                    0          0  No   Female   \n",
       "1      0      0            0                    0          0  No   Female   \n",
       "3      0      0            0                    0          0  No     Male   \n",
       "4      0      0            0                    0          0  No   Female   \n",
       "5      0      0            0                    0          0  No  Missing   \n",
       "\n",
       "  test_indication  \n",
       "0           Other  \n",
       "1           Other  \n",
       "3           Other  \n",
       "4           Other  \n",
       "5           Other  "
      ]
     },
     "execution_count": 32,
     "metadata": {},
     "output_type": "execute_result"
    }
   ],
   "source": [
    "# replace the missing value\n",
    "X_filled = df.copy().drop(\"corona_result\", axis = 1)\n",
    "y_filled = df.copy()[\"corona_result\"]\n",
    "X_filled_nom = X_filled.select_dtypes(include=[object])\n",
    "X_filled_num = X_filled.select_dtypes(include=[np.number])\n",
    "\n",
    "X_filled[X_filled_nom.columns] = X_filled_nom.fillna('Missing')\n",
    "X_filled.head()"
   ]
  },
  {
   "cell_type": "code",
   "execution_count": 33,
   "metadata": {},
   "outputs": [],
   "source": [
    "# drop the rows with missing value\n",
    "df_dropped = df.dropna(how = 'any', axis=0)\n",
    "X_dropped = df_dropped.drop(\"corona_result\", axis = 1)\n",
    "y_dropped = df_dropped[\"corona_result\"]"
   ]
  },
  {
   "cell_type": "code",
   "execution_count": 34,
   "metadata": {},
   "outputs": [
    {
     "data": {
      "text/plain": [
       "'0 features have missing values.'"
      ]
     },
     "execution_count": 34,
     "metadata": {},
     "output_type": "execute_result"
    }
   ],
   "source": [
    "n_missing = len(X_dropped.columns[X_dropped.isnull().any()])\n",
    "\"{} features have missing values.\".format(n_missing)"
   ]
  },
  {
   "cell_type": "markdown",
   "metadata": {},
   "source": [
    "### Encoding"
   ]
  },
  {
   "cell_type": "code",
   "execution_count": 35,
   "metadata": {},
   "outputs": [],
   "source": [
    "X_filled_nom_trans = pd.get_dummies(X_filled[X_filled_nom.columns])"
   ]
  },
  {
   "cell_type": "code",
   "execution_count": 36,
   "metadata": {},
   "outputs": [],
   "source": [
    "X_filled = pd.concat([X_filled_num, X_filled_nom_trans], axis = 1)"
   ]
  },
  {
   "cell_type": "code",
   "execution_count": 37,
   "metadata": {},
   "outputs": [
    {
     "data": {
      "text/html": [
       "<div>\n",
       "<style scoped>\n",
       "    .dataframe tbody tr th:only-of-type {\n",
       "        vertical-align: middle;\n",
       "    }\n",
       "\n",
       "    .dataframe tbody tr th {\n",
       "        vertical-align: top;\n",
       "    }\n",
       "\n",
       "    .dataframe thead th {\n",
       "        text-align: right;\n",
       "    }\n",
       "</style>\n",
       "<table border=\"1\" class=\"dataframe\">\n",
       "  <thead>\n",
       "    <tr style=\"text-align: right;\">\n",
       "      <th></th>\n",
       "      <th>cough</th>\n",
       "      <th>fever</th>\n",
       "      <th>sore_throat</th>\n",
       "      <th>shortness_of_breath</th>\n",
       "      <th>head_ache</th>\n",
       "      <th>age_Missing</th>\n",
       "      <th>age_No</th>\n",
       "      <th>age_Yes</th>\n",
       "      <th>gender_Female</th>\n",
       "      <th>gender_Male</th>\n",
       "      <th>gender_Missing</th>\n",
       "      <th>test_indication_Abroad</th>\n",
       "      <th>test_indication_Contact with confirmed</th>\n",
       "      <th>test_indication_Other</th>\n",
       "    </tr>\n",
       "  </thead>\n",
       "  <tbody>\n",
       "    <tr>\n",
       "      <th>0</th>\n",
       "      <td>0</td>\n",
       "      <td>0</td>\n",
       "      <td>0</td>\n",
       "      <td>0</td>\n",
       "      <td>0</td>\n",
       "      <td>0</td>\n",
       "      <td>1</td>\n",
       "      <td>0</td>\n",
       "      <td>1</td>\n",
       "      <td>0</td>\n",
       "      <td>0</td>\n",
       "      <td>0</td>\n",
       "      <td>0</td>\n",
       "      <td>1</td>\n",
       "    </tr>\n",
       "    <tr>\n",
       "      <th>1</th>\n",
       "      <td>0</td>\n",
       "      <td>0</td>\n",
       "      <td>0</td>\n",
       "      <td>0</td>\n",
       "      <td>0</td>\n",
       "      <td>0</td>\n",
       "      <td>1</td>\n",
       "      <td>0</td>\n",
       "      <td>1</td>\n",
       "      <td>0</td>\n",
       "      <td>0</td>\n",
       "      <td>0</td>\n",
       "      <td>0</td>\n",
       "      <td>1</td>\n",
       "    </tr>\n",
       "    <tr>\n",
       "      <th>3</th>\n",
       "      <td>0</td>\n",
       "      <td>0</td>\n",
       "      <td>0</td>\n",
       "      <td>0</td>\n",
       "      <td>0</td>\n",
       "      <td>0</td>\n",
       "      <td>1</td>\n",
       "      <td>0</td>\n",
       "      <td>0</td>\n",
       "      <td>1</td>\n",
       "      <td>0</td>\n",
       "      <td>0</td>\n",
       "      <td>0</td>\n",
       "      <td>1</td>\n",
       "    </tr>\n",
       "    <tr>\n",
       "      <th>4</th>\n",
       "      <td>0</td>\n",
       "      <td>0</td>\n",
       "      <td>0</td>\n",
       "      <td>0</td>\n",
       "      <td>0</td>\n",
       "      <td>0</td>\n",
       "      <td>1</td>\n",
       "      <td>0</td>\n",
       "      <td>1</td>\n",
       "      <td>0</td>\n",
       "      <td>0</td>\n",
       "      <td>0</td>\n",
       "      <td>0</td>\n",
       "      <td>1</td>\n",
       "    </tr>\n",
       "    <tr>\n",
       "      <th>5</th>\n",
       "      <td>0</td>\n",
       "      <td>0</td>\n",
       "      <td>0</td>\n",
       "      <td>0</td>\n",
       "      <td>0</td>\n",
       "      <td>0</td>\n",
       "      <td>1</td>\n",
       "      <td>0</td>\n",
       "      <td>0</td>\n",
       "      <td>0</td>\n",
       "      <td>1</td>\n",
       "      <td>0</td>\n",
       "      <td>0</td>\n",
       "      <td>1</td>\n",
       "    </tr>\n",
       "  </tbody>\n",
       "</table>\n",
       "</div>"
      ],
      "text/plain": [
       "   cough  fever  sore_throat  shortness_of_breath  head_ache  age_Missing  \\\n",
       "0      0      0            0                    0          0            0   \n",
       "1      0      0            0                    0          0            0   \n",
       "3      0      0            0                    0          0            0   \n",
       "4      0      0            0                    0          0            0   \n",
       "5      0      0            0                    0          0            0   \n",
       "\n",
       "   age_No  age_Yes  gender_Female  gender_Male  gender_Missing  \\\n",
       "0       1        0              1            0               0   \n",
       "1       1        0              1            0               0   \n",
       "3       1        0              0            1               0   \n",
       "4       1        0              1            0               0   \n",
       "5       1        0              0            0               1   \n",
       "\n",
       "   test_indication_Abroad  test_indication_Contact with confirmed  \\\n",
       "0                       0                                       0   \n",
       "1                       0                                       0   \n",
       "3                       0                                       0   \n",
       "4                       0                                       0   \n",
       "5                       0                                       0   \n",
       "\n",
       "   test_indication_Other  \n",
       "0                      1  \n",
       "1                      1  \n",
       "3                      1  \n",
       "4                      1  \n",
       "5                      1  "
      ]
     },
     "execution_count": 37,
     "metadata": {},
     "output_type": "execute_result"
    }
   ],
   "source": [
    "X_filled.head()"
   ]
  },
  {
   "cell_type": "markdown",
   "metadata": {},
   "source": [
    "**When dropping the missing value, the two nominal features (gender and age) are all binary feature. Thus we can encode these features as 0 and 1**"
   ]
  },
  {
   "cell_type": "code",
   "execution_count": 38,
   "metadata": {},
   "outputs": [],
   "source": [
    "# gender and age features are binary so use labelEncoder to be consistent with the syndrome features (binary)\n",
    "le = LabelEncoder()\n",
    "le.fit(X_dropped[\"gender\"])\n",
    "X_dropped[\"gender\"] = le.transform(X_dropped[\"gender\"])\n",
    "le.fit(X_dropped[\"age\"])\n",
    "X_dropped[\"age\"] = le.transform(X_dropped[\"age\"])\n",
    "# X_indication have multi variable so use get dummies instead. OneHotEncoder can't convert df with some string\n",
    "X_indication = pd.get_dummies(X_dropped[\"test_indication\"])\n",
    "X_dropped = pd.concat([X_dropped.drop(\"test_indication\", axis=1), X_indication], axis=1)"
   ]
  },
  {
   "cell_type": "code",
   "execution_count": 39,
   "metadata": {},
   "outputs": [
    {
     "data": {
      "text/html": [
       "<div>\n",
       "<style scoped>\n",
       "    .dataframe tbody tr th:only-of-type {\n",
       "        vertical-align: middle;\n",
       "    }\n",
       "\n",
       "    .dataframe tbody tr th {\n",
       "        vertical-align: top;\n",
       "    }\n",
       "\n",
       "    .dataframe thead th {\n",
       "        text-align: right;\n",
       "    }\n",
       "</style>\n",
       "<table border=\"1\" class=\"dataframe\">\n",
       "  <thead>\n",
       "    <tr style=\"text-align: right;\">\n",
       "      <th></th>\n",
       "      <th>cough</th>\n",
       "      <th>fever</th>\n",
       "      <th>sore_throat</th>\n",
       "      <th>shortness_of_breath</th>\n",
       "      <th>head_ache</th>\n",
       "      <th>age</th>\n",
       "      <th>gender</th>\n",
       "      <th>Abroad</th>\n",
       "      <th>Contact with confirmed</th>\n",
       "      <th>Other</th>\n",
       "    </tr>\n",
       "  </thead>\n",
       "  <tbody>\n",
       "    <tr>\n",
       "      <th>0</th>\n",
       "      <td>0</td>\n",
       "      <td>0</td>\n",
       "      <td>0</td>\n",
       "      <td>0</td>\n",
       "      <td>0</td>\n",
       "      <td>0</td>\n",
       "      <td>0</td>\n",
       "      <td>0</td>\n",
       "      <td>0</td>\n",
       "      <td>1</td>\n",
       "    </tr>\n",
       "    <tr>\n",
       "      <th>1</th>\n",
       "      <td>0</td>\n",
       "      <td>0</td>\n",
       "      <td>0</td>\n",
       "      <td>0</td>\n",
       "      <td>0</td>\n",
       "      <td>0</td>\n",
       "      <td>0</td>\n",
       "      <td>0</td>\n",
       "      <td>0</td>\n",
       "      <td>1</td>\n",
       "    </tr>\n",
       "    <tr>\n",
       "      <th>3</th>\n",
       "      <td>0</td>\n",
       "      <td>0</td>\n",
       "      <td>0</td>\n",
       "      <td>0</td>\n",
       "      <td>0</td>\n",
       "      <td>0</td>\n",
       "      <td>1</td>\n",
       "      <td>0</td>\n",
       "      <td>0</td>\n",
       "      <td>1</td>\n",
       "    </tr>\n",
       "    <tr>\n",
       "      <th>4</th>\n",
       "      <td>0</td>\n",
       "      <td>0</td>\n",
       "      <td>0</td>\n",
       "      <td>0</td>\n",
       "      <td>0</td>\n",
       "      <td>0</td>\n",
       "      <td>0</td>\n",
       "      <td>0</td>\n",
       "      <td>0</td>\n",
       "      <td>1</td>\n",
       "    </tr>\n",
       "    <tr>\n",
       "      <th>6</th>\n",
       "      <td>0</td>\n",
       "      <td>0</td>\n",
       "      <td>0</td>\n",
       "      <td>0</td>\n",
       "      <td>0</td>\n",
       "      <td>0</td>\n",
       "      <td>1</td>\n",
       "      <td>0</td>\n",
       "      <td>0</td>\n",
       "      <td>1</td>\n",
       "    </tr>\n",
       "  </tbody>\n",
       "</table>\n",
       "</div>"
      ],
      "text/plain": [
       "   cough  fever  sore_throat  shortness_of_breath  head_ache  age  gender  \\\n",
       "0      0      0            0                    0          0    0       0   \n",
       "1      0      0            0                    0          0    0       0   \n",
       "3      0      0            0                    0          0    0       1   \n",
       "4      0      0            0                    0          0    0       0   \n",
       "6      0      0            0                    0          0    0       1   \n",
       "\n",
       "   Abroad  Contact with confirmed  Other  \n",
       "0       0                       0      1  \n",
       "1       0                       0      1  \n",
       "3       0                       0      1  \n",
       "4       0                       0      1  \n",
       "6       0                       0      1  "
      ]
     },
     "execution_count": 39,
     "metadata": {},
     "output_type": "execute_result"
    }
   ],
   "source": [
    "X_dropped.head()"
   ]
  },
  {
   "cell_type": "markdown",
   "metadata": {},
   "source": [
    "**Encoding the class label value**"
   ]
  },
  {
   "cell_type": "code",
   "execution_count": 40,
   "metadata": {},
   "outputs": [],
   "source": [
    "le.fit(y_dropped)\n",
    "y_dropped = le.transform(y_dropped)\n",
    "le.fit(y_filled)\n",
    "y_filled = le.transform(y_filled)"
   ]
  },
  {
   "cell_type": "markdown",
   "metadata": {},
   "source": [
    "NOTE: moved feature selection to after modeling as we want to see the baseline performance scores and some features selections are based on models"
   ]
  },
  {
   "cell_type": "markdown",
   "metadata": {},
   "source": [
    "<!-- **Correlation between features in X_dropped (missing values dropped)** -->"
   ]
  },
  {
   "cell_type": "code",
   "execution_count": 41,
   "metadata": {
    "scrolled": true
   },
   "outputs": [],
   "source": [
    "# plt.rc(\"figure\", figsize=(15, 15))\n",
    "# grid=sns.heatmap(corr2,annot=True,cbar = True, square = True, cmap=sns.diverging_palette(220, 10, as_cmap=True))\n",
    "# grid.set_xticklabels(corr2.columns,rotation=90)\n",
    "# plt.subplots_adjust(left=0.3,right=1,bottom=0.35,top=0.9)\n",
    "# plt.show()"
   ]
  },
  {
   "cell_type": "markdown",
   "metadata": {},
   "source": [
    "## Modeling"
   ]
  },
  {
   "cell_type": "code",
   "execution_count": 47,
   "metadata": {},
   "outputs": [],
   "source": [
    "models = {\n",
    "    \"Perceptron\": Perceptron(),\n",
    "    \"KNN (n_neighbors=10)\": KNeighborsClassifier(n_neighbors=10),\n",
    "    \"KNN (n_neighbors=50)\": KNeighborsClassifier(n_neighbors=50),\n",
    "    \"Decision Tree (max_depth=None)\": DecisionTreeClassifier(max_depth=None, random_state=0),\n",
    "    \"Decision Tree (max_depth=25)\": DecisionTreeClassifier(max_depth=25, random_state=0),\n",
    "    \"GNB\": GaussianNB(),\n",
    "    \"MNB\": MultinomialNB(),\n",
    "    \"RandomForest\": RandomForestClassifier(random_state=0),\n",
    "    \"XGBoost\": XGBClassifier(n_estimators=1000, tree_method='hist', random_state=0)\n",
    "}"
   ]
  },
  {
   "cell_type": "code",
   "execution_count": 42,
   "metadata": {},
   "outputs": [],
   "source": [
    "def evaluate(y_test, y_pred):\n",
    "    output = dict()\n",
    "    output[\"Accuracy\"] = accuracy_score(y_test, y_pred)\n",
    "    output[\"AUROC\"] = roc_auc_score(y_test, y_pred)\n",
    "    output[\"f1\"] = f1_score(y_test, y_pred)\n",
    "    return output"
   ]
  },
  {
   "cell_type": "code",
   "execution_count": 49,
   "metadata": {},
   "outputs": [],
   "source": [
    "predictions = dict()"
   ]
  },
  {
   "cell_type": "code",
   "execution_count": 107,
   "metadata": {},
   "outputs": [],
   "source": [
    "# train test random split using data filled\n",
    "x_train, x_test, y_train, y_test = train_test_split(X_filled, y_filled, test_size=0.2, random_state=0)"
   ]
  },
  {
   "cell_type": "code",
   "execution_count": 48,
   "metadata": {},
   "outputs": [],
   "source": [
    "# for key in models.keys():\n",
    "#     clf = models[key]\n",
    "#     clf.fit(x_train, y_train)\n",
    "#     predictions[key] = clf.predict(x_test)"
   ]
  },
  {
   "cell_type": "code",
   "execution_count": 52,
   "metadata": {},
   "outputs": [],
   "source": [
    "# comment out for now as it keep erroring out\n",
    "\n",
    "#results = pd.DataFrame([evaluate(y_test, predictions[key]) for key in models.keys()], index=models.keys())\n",
    "#results.sort_values('AUROC', ascending=False)"
   ]
  },
  {
   "cell_type": "markdown",
   "metadata": {},
   "source": [
    "**Performance metrics tailored for imbalanced data**"
   ]
  },
  {
   "cell_type": "markdown",
   "metadata": {},
   "source": [
    "https://imbalanced-learn.org/stable/references/metrics.html#module-imblearn.metrics"
   ]
  },
  {
   "cell_type": "code",
   "execution_count": 43,
   "metadata": {},
   "outputs": [],
   "source": [
    "from sklearn.metrics import balanced_accuracy_score\n",
    "from imblearn.metrics import sensitivity_specificity_support\n",
    "from imblearn.metrics import sensitivity_score\n",
    "from imblearn.metrics import specificity_score\n",
    "from imblearn.metrics import geometric_mean_score\n",
    "from imblearn.metrics import classification_report_imbalanced\n",
    "from imblearn.metrics import macro_averaged_mean_absolute_error"
   ]
  },
  {
   "cell_type": "code",
   "execution_count": 44,
   "metadata": {},
   "outputs": [],
   "source": [
    "def evaluate_imbalanced(y_test, y_pred):\n",
    "    output = dict()\n",
    "    output[\"Balanced Accuracy\"] = balanced_accuracy_score(y_test, y_pred)\n",
    "    output[\"Sensitivity\"] = sensitivity_score(y_test, y_pred, average='weighted') ## high indicates low false negative\n",
    "    output[\"Specificity\"] = specificity_score(y_test, y_pred, average='weighted') ## high indicates low false positive\n",
    "    output[\"AUROC\"] = roc_auc_score(y_test, y_pred) ##TPR\n",
    "    output[\"F1\"] = f1_score(y_test, y_pred) ##weighted precision and recall (both positive dominated)\n",
    "    output[\"Geometric Mean\"] = geometric_mean_score(y_test, y_pred, average='weighted') ## class-wise sensitivity\n",
    "    output[\"Macro Average MAE\"] = macro_averaged_mean_absolute_error(y_test, y_pred)\n",
    "    return output"
   ]
  },
  {
   "cell_type": "markdown",
   "metadata": {},
   "source": [
    "The sensitivity is the ratio tp / (tp + fn) where tp is the number of true positives and fn the number of false negatives. \n",
    "The sensitivity quantifies the ability to avoid false negatives.\n",
    "The best value is 1 and the worst value is 0."
   ]
  },
  {
   "cell_type": "markdown",
   "metadata": {},
   "source": [
    "'weighted':\n",
    "Calculate metrics for each label, and find their average, weighted by support (the number of true instances for each label). This alters ‘macro’ to account for label imbalance; it can result in an F-score that is not between precision and recall."
   ]
  },
  {
   "cell_type": "markdown",
   "metadata": {},
   "source": [
    "The specificity is the ratio tn / (tn + fp) where tn is the number of true negatives and fp the number of false positives. The specificity quantifies the ability to avoid false positives. The best value is 1 and the worst value is 0."
   ]
  },
  {
   "cell_type": "markdown",
   "metadata": {},
   "source": [
    "The geometric mean (G-mean) is the root of the product of class-wise sensitivity. "
   ]
  },
  {
   "cell_type": "markdown",
   "metadata": {},
   "source": [
    "This function computes each MAE for each class and average them, giving an equal weight to each class."
   ]
  },
  {
   "cell_type": "markdown",
   "metadata": {},
   "source": [
    "## Feature selection"
   ]
  },
  {
   "cell_type": "markdown",
   "metadata": {},
   "source": [
    "https://www.kaggle.com/kanncaa1/feature-selection-and-data-visualization\n",
    "https://www.kaggle.com/prashant111/comprehensive-guide-on-feature-selection"
   ]
  },
  {
   "cell_type": "markdown",
   "metadata": {},
   "source": [
    "Conclusion draw from the above article:\n",
    "SelectKBest with Fisher Score\n",
    "Recursive Feature Elimination with Cross-Validation (RFECV)\n",
    "Correlation-matrix with heatmap\n",
    "Random-Forest Importance"
   ]
  },
  {
   "cell_type": "markdown",
   "metadata": {},
   "source": [
    "## Original performance without feature selection"
   ]
  },
  {
   "cell_type": "code",
   "execution_count": 45,
   "metadata": {},
   "outputs": [],
   "source": [
    "# prepare a df to store the results from each method\n",
    "# TO DO: random_state, most cases are 42 or 43 why?\n",
    "x_train, x_test, y_train, y_test = train_test_split(X_filled, y_filled, test_size=0.2, random_state=0)\n"
   ]
  },
  {
   "cell_type": "code",
   "execution_count": 46,
   "metadata": {},
   "outputs": [],
   "source": [
    "#random forest classifier with n_estimators=10 (default) tree-based model is well-suited for imbalanced data\n",
    "def make_y_pred(x_train, x_test, y_train):\n",
    "    model_ori = RandomForestClassifier(random_state=43)      \n",
    "    model_ori = model_ori.fit(x_train,y_train)\n",
    "    y_pred = model_ori.predict(x_test)\n",
    "    return y_pred"
   ]
  },
  {
   "cell_type": "code",
   "execution_count": 48,
   "metadata": {},
   "outputs": [],
   "source": [
    "y_pred = make_y_pred(x_train, x_test, y_train)"
   ]
  },
  {
   "cell_type": "code",
   "execution_count": 49,
   "metadata": {},
   "outputs": [
    {
     "data": {
      "text/html": [
       "<div>\n",
       "<style scoped>\n",
       "    .dataframe tbody tr th:only-of-type {\n",
       "        vertical-align: middle;\n",
       "    }\n",
       "\n",
       "    .dataframe tbody tr th {\n",
       "        vertical-align: top;\n",
       "    }\n",
       "\n",
       "    .dataframe thead th {\n",
       "        text-align: right;\n",
       "    }\n",
       "</style>\n",
       "<table border=\"1\" class=\"dataframe\">\n",
       "  <thead>\n",
       "    <tr style=\"text-align: right;\">\n",
       "      <th></th>\n",
       "      <th>Method</th>\n",
       "      <th>Original</th>\n",
       "    </tr>\n",
       "  </thead>\n",
       "  <tbody>\n",
       "    <tr>\n",
       "      <th>0</th>\n",
       "      <td>Balanced Accuracy</td>\n",
       "      <td>0.757924</td>\n",
       "    </tr>\n",
       "    <tr>\n",
       "      <th>1</th>\n",
       "      <td>Sensitivity</td>\n",
       "      <td>0.994292</td>\n",
       "    </tr>\n",
       "    <tr>\n",
       "      <th>2</th>\n",
       "      <td>Specificity</td>\n",
       "      <td>0.521556</td>\n",
       "    </tr>\n",
       "    <tr>\n",
       "      <th>3</th>\n",
       "      <td>AUROC</td>\n",
       "      <td>0.757924</td>\n",
       "    </tr>\n",
       "    <tr>\n",
       "      <th>4</th>\n",
       "      <td>F1</td>\n",
       "      <td>0.592241</td>\n",
       "    </tr>\n",
       "    <tr>\n",
       "      <th>5</th>\n",
       "      <td>Geometric Mean</td>\n",
       "      <td>0.720124</td>\n",
       "    </tr>\n",
       "    <tr>\n",
       "      <th>6</th>\n",
       "      <td>Macro Average MAE</td>\n",
       "      <td>0.242076</td>\n",
       "    </tr>\n",
       "  </tbody>\n",
       "</table>\n",
       "</div>"
      ],
      "text/plain": [
       "              Method  Original\n",
       "0  Balanced Accuracy  0.757924\n",
       "1        Sensitivity  0.994292\n",
       "2        Specificity  0.521556\n",
       "3              AUROC  0.757924\n",
       "4                 F1  0.592241\n",
       "5     Geometric Mean  0.720124\n",
       "6  Macro Average MAE  0.242076"
      ]
     },
     "execution_count": 49,
     "metadata": {},
     "output_type": "execute_result"
    }
   ],
   "source": [
    "results_1 = pd.DataFrame(evaluate_imbalanced(y_test, y_pred).items(),columns=[ 'Method', 'Original'])\n",
    "results_1"
   ]
  },
  {
   "cell_type": "code",
   "execution_count": 50,
   "metadata": {},
   "outputs": [],
   "source": [
    "def make_confusion_matrix(y_test,y_pred):\n",
    "    cf_matrix = confusion_matrix(y_test,y_pred)\n",
    "    fig, ax = plt.subplots(figsize=(5,5))         # Sample figsize in inches\n",
    "    sns.heatmap(cf_matrix/np.sum(cf_matrix), annot=True, \n",
    "            fmt='.2%', cmap='Greens', linewidths=.1, ax=ax);\n",
    "    ax.set_title('Confusion Matrix');"
   ]
  },
  {
   "cell_type": "code",
   "execution_count": 51,
   "metadata": {},
   "outputs": [
    {
     "data": {
      "image/png": "[encoded data removed]",
      "text/plain": [
       "<Figure size 360x360 with 2 Axes>"
      ]
     },
     "metadata": {},
     "output_type": "display_data"
    }
   ],
   "source": [
    "make_confusion_matrix(y_test,y_pred)"
   ]
  },
  {
   "cell_type": "markdown",
   "metadata": {},
   "source": [
    "## Feature selection--Filter method"
   ]
  },
  {
   "cell_type": "markdown",
   "metadata": {},
   "source": [
    "**1. Mutual Info between features and class label (drop date column for now)**"
   ]
  },
  {
   "cell_type": "code",
   "execution_count": 52,
   "metadata": {},
   "outputs": [],
   "source": [
    "from sklearn.feature_selection import mutual_info_regression\n",
    "from sklearn.feature_selection import mutual_info_classif\n",
    "from sklearn.metrics import mutual_info_score"
   ]
  },
  {
   "cell_type": "code",
   "execution_count": 53,
   "metadata": {},
   "outputs": [],
   "source": [
    "mi_reg = mutual_info_regression(X_filled, y_filled)\n",
    "mi_cla = mutual_info_regression(X_filled, y_filled)"
   ]
  },
  {
   "cell_type": "code",
   "execution_count": 55,
   "metadata": {},
   "outputs": [],
   "source": [
    "df_mi = pd.DataFrame(mi_reg, index=X_filled.columns, columns=['mutual_info_reg'])"
   ]
  },
  {
   "cell_type": "code",
   "execution_count": 56,
   "metadata": {},
   "outputs": [],
   "source": [
    "def highlight_top6(s):\n",
    "    \"\"\"Highlight the maximum in a Series green.\"\"\"\n",
    "    is_large = s.nlargest(6).values\n",
    "    return ['background-color: green' if v in is_large else '' for v in s ]"
   ]
  },
  {
   "cell_type": "code",
   "execution_count": 58,
   "metadata": {
    "scrolled": true
   },
   "outputs": [
    {
     "data": {
      "text/html": [
       "<style  type=\"text/css\" >\n",
       "#T_e3e319e4_f3ae_11eb_b32a_acde48001122row0_col0,#T_e3e319e4_f3ae_11eb_b32a_acde48001122row1_col0,#T_e3e319e4_f3ae_11eb_b32a_acde48001122row2_col0,#T_e3e319e4_f3ae_11eb_b32a_acde48001122row3_col0,#T_e3e319e4_f3ae_11eb_b32a_acde48001122row4_col0,#T_e3e319e4_f3ae_11eb_b32a_acde48001122row5_col0{\n",
       "            background-color:  green;\n",
       "        }</style><table id=\"T_e3e319e4_f3ae_11eb_b32a_acde48001122\" ><thead>    <tr>        <th class=\"blank level0\" ></th>        <th class=\"col_heading level0 col0\" >mutual_info_reg</th>    </tr></thead><tbody>\n",
       "                <tr>\n",
       "                        <th id=\"T_e3e319e4_f3ae_11eb_b32a_acde48001122level0_row0\" class=\"row_heading level0 row0\" >test_indication_Contact with confirmed</th>\n",
       "                        <td id=\"T_e3e319e4_f3ae_11eb_b32a_acde48001122row0_col0\" class=\"data row0 col0\" >0.012617</td>\n",
       "            </tr>\n",
       "            <tr>\n",
       "                        <th id=\"T_e3e319e4_f3ae_11eb_b32a_acde48001122level0_row1\" class=\"row_heading level0 row1\" >test_indication_Other</th>\n",
       "                        <td id=\"T_e3e319e4_f3ae_11eb_b32a_acde48001122row1_col0\" class=\"data row1 col0\" >0.012534</td>\n",
       "            </tr>\n",
       "            <tr>\n",
       "                        <th id=\"T_e3e319e4_f3ae_11eb_b32a_acde48001122level0_row2\" class=\"row_heading level0 row2\" >fever</th>\n",
       "                        <td id=\"T_e3e319e4_f3ae_11eb_b32a_acde48001122row2_col0\" class=\"data row2 col0\" >0.008028</td>\n",
       "            </tr>\n",
       "            <tr>\n",
       "                        <th id=\"T_e3e319e4_f3ae_11eb_b32a_acde48001122level0_row3\" class=\"row_heading level0 row3\" >head_ache</th>\n",
       "                        <td id=\"T_e3e319e4_f3ae_11eb_b32a_acde48001122row3_col0\" class=\"data row3 col0\" >0.006923</td>\n",
       "            </tr>\n",
       "            <tr>\n",
       "                        <th id=\"T_e3e319e4_f3ae_11eb_b32a_acde48001122level0_row4\" class=\"row_heading level0 row4\" >cough</th>\n",
       "                        <td id=\"T_e3e319e4_f3ae_11eb_b32a_acde48001122row4_col0\" class=\"data row4 col0\" >0.006077</td>\n",
       "            </tr>\n",
       "            <tr>\n",
       "                        <th id=\"T_e3e319e4_f3ae_11eb_b32a_acde48001122level0_row5\" class=\"row_heading level0 row5\" >sore_throat</th>\n",
       "                        <td id=\"T_e3e319e4_f3ae_11eb_b32a_acde48001122row5_col0\" class=\"data row5 col0\" >0.003294</td>\n",
       "            </tr>\n",
       "            <tr>\n",
       "                        <th id=\"T_e3e319e4_f3ae_11eb_b32a_acde48001122level0_row6\" class=\"row_heading level0 row6\" >age_Missing</th>\n",
       "                        <td id=\"T_e3e319e4_f3ae_11eb_b32a_acde48001122row6_col0\" class=\"data row6 col0\" >0.002600</td>\n",
       "            </tr>\n",
       "            <tr>\n",
       "                        <th id=\"T_e3e319e4_f3ae_11eb_b32a_acde48001122level0_row7\" class=\"row_heading level0 row7\" >age_No</th>\n",
       "                        <td id=\"T_e3e319e4_f3ae_11eb_b32a_acde48001122row7_col0\" class=\"data row7 col0\" >0.002495</td>\n",
       "            </tr>\n",
       "            <tr>\n",
       "                        <th id=\"T_e3e319e4_f3ae_11eb_b32a_acde48001122level0_row8\" class=\"row_heading level0 row8\" >test_indication_Abroad</th>\n",
       "                        <td id=\"T_e3e319e4_f3ae_11eb_b32a_acde48001122row8_col0\" class=\"data row8 col0\" >0.001526</td>\n",
       "            </tr>\n",
       "            <tr>\n",
       "                        <th id=\"T_e3e319e4_f3ae_11eb_b32a_acde48001122level0_row9\" class=\"row_heading level0 row9\" >age_Yes</th>\n",
       "                        <td id=\"T_e3e319e4_f3ae_11eb_b32a_acde48001122row9_col0\" class=\"data row9 col0\" >0.001079</td>\n",
       "            </tr>\n",
       "            <tr>\n",
       "                        <th id=\"T_e3e319e4_f3ae_11eb_b32a_acde48001122level0_row10\" class=\"row_heading level0 row10\" >shortness_of_breath</th>\n",
       "                        <td id=\"T_e3e319e4_f3ae_11eb_b32a_acde48001122row10_col0\" class=\"data row10 col0\" >0.000905</td>\n",
       "            </tr>\n",
       "            <tr>\n",
       "                        <th id=\"T_e3e319e4_f3ae_11eb_b32a_acde48001122level0_row11\" class=\"row_heading level0 row11\" >gender_Missing</th>\n",
       "                        <td id=\"T_e3e319e4_f3ae_11eb_b32a_acde48001122row11_col0\" class=\"data row11 col0\" >0.000201</td>\n",
       "            </tr>\n",
       "            <tr>\n",
       "                        <th id=\"T_e3e319e4_f3ae_11eb_b32a_acde48001122level0_row12\" class=\"row_heading level0 row12\" >gender_Male</th>\n",
       "                        <td id=\"T_e3e319e4_f3ae_11eb_b32a_acde48001122row12_col0\" class=\"data row12 col0\" >0.000179</td>\n",
       "            </tr>\n",
       "            <tr>\n",
       "                        <th id=\"T_e3e319e4_f3ae_11eb_b32a_acde48001122level0_row13\" class=\"row_heading level0 row13\" >gender_Female</th>\n",
       "                        <td id=\"T_e3e319e4_f3ae_11eb_b32a_acde48001122row13_col0\" class=\"data row13 col0\" >0.000007</td>\n",
       "            </tr>\n",
       "    </tbody></table>"
      ],
      "text/plain": [
       "<pandas.io.formats.style.Styler at 0x7f90af8e5640>"
      ]
     },
     "execution_count": 58,
     "metadata": {},
     "output_type": "execute_result"
    }
   ],
   "source": [
    "# top 6 are highlighted\n",
    "df_mi.sort_values(\"mutual_info_reg\", ascending=False).style.apply(highlight_top6)"
   ]
  },
  {
   "cell_type": "markdown",
   "metadata": {},
   "source": [
    "**Most features are nearly independent. No feature filtered out with this method**"
   ]
  },
  {
   "cell_type": "code",
   "execution_count": 59,
   "metadata": {},
   "outputs": [],
   "source": [
    "# for scoring only, need to combine with other methods\n",
    "from sklearn.feature_selection import f_regression, f_classif\n",
    "f_reg = f_regression(X_filled, y_filled)\n",
    "f_clasif = f_classif(X_filled, y_filled)"
   ]
  },
  {
   "cell_type": "markdown",
   "metadata": {},
   "source": [
    "**2. Correlation matrix with heatmap for features in X_filled (missing values filled)**"
   ]
  },
  {
   "cell_type": "code",
   "execution_count": 60,
   "metadata": {},
   "outputs": [],
   "source": [
    "# corr for mean\n",
    "corr1 = X_filled.corr();\n",
    "corr2 = X_dropped.corr();"
   ]
  },
  {
   "cell_type": "code",
   "execution_count": 61,
   "metadata": {},
   "outputs": [
    {
     "data": {
      "image/png": "[encoded data removed]",
      "text/plain": [
       "<Figure size 1080x1080 with 2 Axes>"
      ]
     },
     "metadata": {},
     "output_type": "display_data"
    }
   ],
   "source": [
    "plt.rc(\"figure\", figsize=(15, 15))\n",
    "grid=sns.heatmap(corr1,annot=True,cbar = True, square = True, cmap=sns.diverging_palette(220, 10, as_cmap=True))\n",
    "grid.set_xticklabels(corr1.columns,rotation=90)\n",
    "plt.subplots_adjust(left=0.3,right=1,bottom=0.35,top=0.9)\n",
    "plt.show()"
   ]
  },
  {
   "cell_type": "markdown",
   "metadata": {},
   "source": [
    "**Findings: The correlations between any two features are low. No correlation is higher than 0.9. No feature filtered out with this method**"
   ]
  },
  {
   "cell_type": "code",
   "execution_count": 79,
   "metadata": {},
   "outputs": [],
   "source": [
    "from sklearn.feature_selection import SelectKBest\n",
    "from sklearn.feature_selection import chi2"
   ]
  },
  {
   "cell_type": "code",
   "execution_count": 80,
   "metadata": {},
   "outputs": [],
   "source": [
    "# # refresher\n",
    "x_train, x_test, y_train, y_test = train_test_split(X_filled, y_filled, test_size=0.2, random_state=0)"
   ]
  },
  {
   "cell_type": "code",
   "execution_count": 81,
   "metadata": {
    "scrolled": true
   },
   "outputs": [
    {
     "data": {
      "text/html": [
       "<style  type=\"text/css\" >\n",
       "#T_938542f4_f3b0_11eb_b32a_acde48001122row0_col0,#T_938542f4_f3b0_11eb_b32a_acde48001122row1_col0,#T_938542f4_f3b0_11eb_b32a_acde48001122row2_col0,#T_938542f4_f3b0_11eb_b32a_acde48001122row3_col0,#T_938542f4_f3b0_11eb_b32a_acde48001122row4_col0,#T_938542f4_f3b0_11eb_b32a_acde48001122row5_col0{\n",
       "            background-color:  green;\n",
       "        }</style><table id=\"T_938542f4_f3b0_11eb_b32a_acde48001122\" ><thead>    <tr>        <th class=\"blank level0\" ></th>        <th class=\"col_heading level0 col0\" >SelectKBest-chi2</th>    </tr></thead><tbody>\n",
       "                <tr>\n",
       "                        <th id=\"T_938542f4_f3b0_11eb_b32a_acde48001122level0_row0\" class=\"row_heading level0 row0\" >test_indication_Contact with confirmed</th>\n",
       "                        <td id=\"T_938542f4_f3b0_11eb_b32a_acde48001122row0_col0\" class=\"data row0 col0\" >158010.337220</td>\n",
       "            </tr>\n",
       "            <tr>\n",
       "                        <th id=\"T_938542f4_f3b0_11eb_b32a_acde48001122level0_row1\" class=\"row_heading level0 row1\" >head_ache</th>\n",
       "                        <td id=\"T_938542f4_f3b0_11eb_b32a_acde48001122row1_col0\" class=\"data row1 col0\" >89718.672696</td>\n",
       "            </tr>\n",
       "            <tr>\n",
       "                        <th id=\"T_938542f4_f3b0_11eb_b32a_acde48001122level0_row2\" class=\"row_heading level0 row2\" >fever</th>\n",
       "                        <td id=\"T_938542f4_f3b0_11eb_b32a_acde48001122row2_col0\" class=\"data row2 col0\" >86302.881637</td>\n",
       "            </tr>\n",
       "            <tr>\n",
       "                        <th id=\"T_938542f4_f3b0_11eb_b32a_acde48001122level0_row3\" class=\"row_heading level0 row3\" >cough</th>\n",
       "                        <td id=\"T_938542f4_f3b0_11eb_b32a_acde48001122row3_col0\" class=\"data row3 col0\" >80836.920359</td>\n",
       "            </tr>\n",
       "            <tr>\n",
       "                        <th id=\"T_938542f4_f3b0_11eb_b32a_acde48001122level0_row4\" class=\"row_heading level0 row4\" >sore_throat</th>\n",
       "                        <td id=\"T_938542f4_f3b0_11eb_b32a_acde48001122row4_col0\" class=\"data row4 col0\" >49266.590647</td>\n",
       "            </tr>\n",
       "            <tr>\n",
       "                        <th id=\"T_938542f4_f3b0_11eb_b32a_acde48001122level0_row5\" class=\"row_heading level0 row5\" >shortness_of_breath</th>\n",
       "                        <td id=\"T_938542f4_f3b0_11eb_b32a_acde48001122row5_col0\" class=\"data row5 col0\" >10495.983972</td>\n",
       "            </tr>\n",
       "            <tr>\n",
       "                        <th id=\"T_938542f4_f3b0_11eb_b32a_acde48001122level0_row6\" class=\"row_heading level0 row6\" >test_indication_Abroad</th>\n",
       "                        <td id=\"T_938542f4_f3b0_11eb_b32a_acde48001122row6_col0\" class=\"data row6 col0\" >4337.282072</td>\n",
       "            </tr>\n",
       "            <tr>\n",
       "                        <th id=\"T_938542f4_f3b0_11eb_b32a_acde48001122level0_row7\" class=\"row_heading level0 row7\" >test_indication_Other</th>\n",
       "                        <td id=\"T_938542f4_f3b0_11eb_b32a_acde48001122row7_col0\" class=\"data row7 col0\" >1095.707971</td>\n",
       "            </tr>\n",
       "            <tr>\n",
       "                        <th id=\"T_938542f4_f3b0_11eb_b32a_acde48001122level0_row8\" class=\"row_heading level0 row8\" >age_Yes</th>\n",
       "                        <td id=\"T_938542f4_f3b0_11eb_b32a_acde48001122row8_col0\" class=\"data row8 col0\" >1004.287134</td>\n",
       "            </tr>\n",
       "            <tr>\n",
       "                        <th id=\"T_938542f4_f3b0_11eb_b32a_acde48001122level0_row9\" class=\"row_heading level0 row9\" >age_No</th>\n",
       "                        <td id=\"T_938542f4_f3b0_11eb_b32a_acde48001122row9_col0\" class=\"data row9 col0\" >860.610150</td>\n",
       "            </tr>\n",
       "            <tr>\n",
       "                        <th id=\"T_938542f4_f3b0_11eb_b32a_acde48001122level0_row10\" class=\"row_heading level0 row10\" >gender_Missing</th>\n",
       "                        <td id=\"T_938542f4_f3b0_11eb_b32a_acde48001122row10_col0\" class=\"data row10 col0\" >581.421392</td>\n",
       "            </tr>\n",
       "            <tr>\n",
       "                        <th id=\"T_938542f4_f3b0_11eb_b32a_acde48001122level0_row11\" class=\"row_heading level0 row11\" >age_Missing</th>\n",
       "                        <td id=\"T_938542f4_f3b0_11eb_b32a_acde48001122row11_col0\" class=\"data row11 col0\" >524.517834</td>\n",
       "            </tr>\n",
       "            <tr>\n",
       "                        <th id=\"T_938542f4_f3b0_11eb_b32a_acde48001122level0_row12\" class=\"row_heading level0 row12\" >gender_Female</th>\n",
       "                        <td id=\"T_938542f4_f3b0_11eb_b32a_acde48001122row12_col0\" class=\"data row12 col0\" >380.670823</td>\n",
       "            </tr>\n",
       "            <tr>\n",
       "                        <th id=\"T_938542f4_f3b0_11eb_b32a_acde48001122level0_row13\" class=\"row_heading level0 row13\" >gender_Male</th>\n",
       "                        <td id=\"T_938542f4_f3b0_11eb_b32a_acde48001122row13_col0\" class=\"data row13 col0\" >355.094611</td>\n",
       "            </tr>\n",
       "    </tbody></table>"
      ],
      "text/plain": [
       "<pandas.io.formats.style.Styler at 0x7f90af96dca0>"
      ]
     },
     "execution_count": 81,
     "metadata": {},
     "output_type": "execute_result"
    }
   ],
   "source": [
    "# find best scored 5 features\n",
    "selector = SelectKBest(chi2, k=5)\n",
    "select_feature = selector.fit(x_train, y_train)\n",
    "df_chi2 = pd.DataFrame(select_feature.scores_, index=x_train.columns, columns=['SelectKBest-chi2'])\n",
    "df_chi2.sort_values('SelectKBest-chi2', ascending=False).style.apply(highlight_top6)"
   ]
  },
  {
   "cell_type": "code",
   "execution_count": 82,
   "metadata": {},
   "outputs": [
    {
     "data": {
      "text/html": [
       "<style  type=\"text/css\" >\n",
       "#T_94c4b9ba_f3b0_11eb_b32a_acde48001122row0_col0,#T_94c4b9ba_f3b0_11eb_b32a_acde48001122row0_col1,#T_94c4b9ba_f3b0_11eb_b32a_acde48001122row1_col0,#T_94c4b9ba_f3b0_11eb_b32a_acde48001122row1_col1,#T_94c4b9ba_f3b0_11eb_b32a_acde48001122row2_col0,#T_94c4b9ba_f3b0_11eb_b32a_acde48001122row2_col1,#T_94c4b9ba_f3b0_11eb_b32a_acde48001122row3_col0,#T_94c4b9ba_f3b0_11eb_b32a_acde48001122row3_col1,#T_94c4b9ba_f3b0_11eb_b32a_acde48001122row4_col0,#T_94c4b9ba_f3b0_11eb_b32a_acde48001122row4_col1,#T_94c4b9ba_f3b0_11eb_b32a_acde48001122row5_col0,#T_94c4b9ba_f3b0_11eb_b32a_acde48001122row7_col1{\n",
       "            background-color:  green;\n",
       "        }</style><table id=\"T_94c4b9ba_f3b0_11eb_b32a_acde48001122\" ><thead>    <tr>        <th class=\"blank level0\" ></th>        <th class=\"col_heading level0 col0\" >SelectKBest-chi2</th>        <th class=\"col_heading level0 col1\" >mutual_info_reg</th>    </tr></thead><tbody>\n",
       "                <tr>\n",
       "                        <th id=\"T_94c4b9ba_f3b0_11eb_b32a_acde48001122level0_row0\" class=\"row_heading level0 row0\" >test_indication_Contact with confirmed</th>\n",
       "                        <td id=\"T_94c4b9ba_f3b0_11eb_b32a_acde48001122row0_col0\" class=\"data row0 col0\" >158010.337220</td>\n",
       "                        <td id=\"T_94c4b9ba_f3b0_11eb_b32a_acde48001122row0_col1\" class=\"data row0 col1\" >0.012617</td>\n",
       "            </tr>\n",
       "            <tr>\n",
       "                        <th id=\"T_94c4b9ba_f3b0_11eb_b32a_acde48001122level0_row1\" class=\"row_heading level0 row1\" >head_ache</th>\n",
       "                        <td id=\"T_94c4b9ba_f3b0_11eb_b32a_acde48001122row1_col0\" class=\"data row1 col0\" >89718.672696</td>\n",
       "                        <td id=\"T_94c4b9ba_f3b0_11eb_b32a_acde48001122row1_col1\" class=\"data row1 col1\" >0.006923</td>\n",
       "            </tr>\n",
       "            <tr>\n",
       "                        <th id=\"T_94c4b9ba_f3b0_11eb_b32a_acde48001122level0_row2\" class=\"row_heading level0 row2\" >fever</th>\n",
       "                        <td id=\"T_94c4b9ba_f3b0_11eb_b32a_acde48001122row2_col0\" class=\"data row2 col0\" >86302.881637</td>\n",
       "                        <td id=\"T_94c4b9ba_f3b0_11eb_b32a_acde48001122row2_col1\" class=\"data row2 col1\" >0.008028</td>\n",
       "            </tr>\n",
       "            <tr>\n",
       "                        <th id=\"T_94c4b9ba_f3b0_11eb_b32a_acde48001122level0_row3\" class=\"row_heading level0 row3\" >cough</th>\n",
       "                        <td id=\"T_94c4b9ba_f3b0_11eb_b32a_acde48001122row3_col0\" class=\"data row3 col0\" >80836.920359</td>\n",
       "                        <td id=\"T_94c4b9ba_f3b0_11eb_b32a_acde48001122row3_col1\" class=\"data row3 col1\" >0.006077</td>\n",
       "            </tr>\n",
       "            <tr>\n",
       "                        <th id=\"T_94c4b9ba_f3b0_11eb_b32a_acde48001122level0_row4\" class=\"row_heading level0 row4\" >sore_throat</th>\n",
       "                        <td id=\"T_94c4b9ba_f3b0_11eb_b32a_acde48001122row4_col0\" class=\"data row4 col0\" >49266.590647</td>\n",
       "                        <td id=\"T_94c4b9ba_f3b0_11eb_b32a_acde48001122row4_col1\" class=\"data row4 col1\" >0.003294</td>\n",
       "            </tr>\n",
       "            <tr>\n",
       "                        <th id=\"T_94c4b9ba_f3b0_11eb_b32a_acde48001122level0_row5\" class=\"row_heading level0 row5\" >shortness_of_breath</th>\n",
       "                        <td id=\"T_94c4b9ba_f3b0_11eb_b32a_acde48001122row5_col0\" class=\"data row5 col0\" >10495.983972</td>\n",
       "                        <td id=\"T_94c4b9ba_f3b0_11eb_b32a_acde48001122row5_col1\" class=\"data row5 col1\" >0.000905</td>\n",
       "            </tr>\n",
       "            <tr>\n",
       "                        <th id=\"T_94c4b9ba_f3b0_11eb_b32a_acde48001122level0_row6\" class=\"row_heading level0 row6\" >test_indication_Abroad</th>\n",
       "                        <td id=\"T_94c4b9ba_f3b0_11eb_b32a_acde48001122row6_col0\" class=\"data row6 col0\" >4337.282072</td>\n",
       "                        <td id=\"T_94c4b9ba_f3b0_11eb_b32a_acde48001122row6_col1\" class=\"data row6 col1\" >0.001526</td>\n",
       "            </tr>\n",
       "            <tr>\n",
       "                        <th id=\"T_94c4b9ba_f3b0_11eb_b32a_acde48001122level0_row7\" class=\"row_heading level0 row7\" >test_indication_Other</th>\n",
       "                        <td id=\"T_94c4b9ba_f3b0_11eb_b32a_acde48001122row7_col0\" class=\"data row7 col0\" >1095.707971</td>\n",
       "                        <td id=\"T_94c4b9ba_f3b0_11eb_b32a_acde48001122row7_col1\" class=\"data row7 col1\" >0.012534</td>\n",
       "            </tr>\n",
       "            <tr>\n",
       "                        <th id=\"T_94c4b9ba_f3b0_11eb_b32a_acde48001122level0_row8\" class=\"row_heading level0 row8\" >age_Yes</th>\n",
       "                        <td id=\"T_94c4b9ba_f3b0_11eb_b32a_acde48001122row8_col0\" class=\"data row8 col0\" >1004.287134</td>\n",
       "                        <td id=\"T_94c4b9ba_f3b0_11eb_b32a_acde48001122row8_col1\" class=\"data row8 col1\" >0.001079</td>\n",
       "            </tr>\n",
       "            <tr>\n",
       "                        <th id=\"T_94c4b9ba_f3b0_11eb_b32a_acde48001122level0_row9\" class=\"row_heading level0 row9\" >age_No</th>\n",
       "                        <td id=\"T_94c4b9ba_f3b0_11eb_b32a_acde48001122row9_col0\" class=\"data row9 col0\" >860.610150</td>\n",
       "                        <td id=\"T_94c4b9ba_f3b0_11eb_b32a_acde48001122row9_col1\" class=\"data row9 col1\" >0.002495</td>\n",
       "            </tr>\n",
       "            <tr>\n",
       "                        <th id=\"T_94c4b9ba_f3b0_11eb_b32a_acde48001122level0_row10\" class=\"row_heading level0 row10\" >gender_Missing</th>\n",
       "                        <td id=\"T_94c4b9ba_f3b0_11eb_b32a_acde48001122row10_col0\" class=\"data row10 col0\" >581.421392</td>\n",
       "                        <td id=\"T_94c4b9ba_f3b0_11eb_b32a_acde48001122row10_col1\" class=\"data row10 col1\" >0.000201</td>\n",
       "            </tr>\n",
       "            <tr>\n",
       "                        <th id=\"T_94c4b9ba_f3b0_11eb_b32a_acde48001122level0_row11\" class=\"row_heading level0 row11\" >age_Missing</th>\n",
       "                        <td id=\"T_94c4b9ba_f3b0_11eb_b32a_acde48001122row11_col0\" class=\"data row11 col0\" >524.517834</td>\n",
       "                        <td id=\"T_94c4b9ba_f3b0_11eb_b32a_acde48001122row11_col1\" class=\"data row11 col1\" >0.002600</td>\n",
       "            </tr>\n",
       "            <tr>\n",
       "                        <th id=\"T_94c4b9ba_f3b0_11eb_b32a_acde48001122level0_row12\" class=\"row_heading level0 row12\" >gender_Female</th>\n",
       "                        <td id=\"T_94c4b9ba_f3b0_11eb_b32a_acde48001122row12_col0\" class=\"data row12 col0\" >380.670823</td>\n",
       "                        <td id=\"T_94c4b9ba_f3b0_11eb_b32a_acde48001122row12_col1\" class=\"data row12 col1\" >0.000007</td>\n",
       "            </tr>\n",
       "            <tr>\n",
       "                        <th id=\"T_94c4b9ba_f3b0_11eb_b32a_acde48001122level0_row13\" class=\"row_heading level0 row13\" >gender_Male</th>\n",
       "                        <td id=\"T_94c4b9ba_f3b0_11eb_b32a_acde48001122row13_col0\" class=\"data row13 col0\" >355.094611</td>\n",
       "                        <td id=\"T_94c4b9ba_f3b0_11eb_b32a_acde48001122row13_col1\" class=\"data row13 col1\" >0.000179</td>\n",
       "            </tr>\n",
       "    </tbody></table>"
      ],
      "text/plain": [
       "<pandas.io.formats.style.Styler at 0x7f9117bcb880>"
      ]
     },
     "execution_count": 82,
     "metadata": {},
     "output_type": "execute_result"
    }
   ],
   "source": [
    "# side-by-side comparison with mi\n",
    "merged = df_chi2.join(df_mi)\n",
    "merged.sort_values('SelectKBest-chi2', ascending=False).style.apply(highlight_top6)"
   ]
  },
  {
   "cell_type": "code",
   "execution_count": 83,
   "metadata": {},
   "outputs": [],
   "source": [
    "x_train_2 = select_feature.transform(x_train)\n",
    "x_test_2 = select_feature.transform(x_test)\n",
    "\n",
    "y_pred = make_y_pred(x_train_2, x_test_2, y_train)"
   ]
  },
  {
   "cell_type": "code",
   "execution_count": 84,
   "metadata": {
    "scrolled": true
   },
   "outputs": [
    {
     "data": {
      "text/html": [
       "<div>\n",
       "<style scoped>\n",
       "    .dataframe tbody tr th:only-of-type {\n",
       "        vertical-align: middle;\n",
       "    }\n",
       "\n",
       "    .dataframe tbody tr th {\n",
       "        vertical-align: top;\n",
       "    }\n",
       "\n",
       "    .dataframe thead th {\n",
       "        text-align: right;\n",
       "    }\n",
       "</style>\n",
       "<table border=\"1\" class=\"dataframe\">\n",
       "  <thead>\n",
       "    <tr style=\"text-align: right;\">\n",
       "      <th></th>\n",
       "      <th>Method</th>\n",
       "      <th>SelectedKBest-chi2</th>\n",
       "    </tr>\n",
       "  </thead>\n",
       "  <tbody>\n",
       "    <tr>\n",
       "      <th>0</th>\n",
       "      <td>Balanced Accuracy</td>\n",
       "      <td>0.802716</td>\n",
       "    </tr>\n",
       "    <tr>\n",
       "      <th>1</th>\n",
       "      <td>Sensitivity</td>\n",
       "      <td>0.993436</td>\n",
       "    </tr>\n",
       "    <tr>\n",
       "      <th>2</th>\n",
       "      <td>Specificity</td>\n",
       "      <td>0.611996</td>\n",
       "    </tr>\n",
       "    <tr>\n",
       "      <th>3</th>\n",
       "      <td>AUROC</td>\n",
       "      <td>0.802716</td>\n",
       "    </tr>\n",
       "    <tr>\n",
       "      <th>4</th>\n",
       "      <td>F1</td>\n",
       "      <td>0.597633</td>\n",
       "    </tr>\n",
       "    <tr>\n",
       "      <th>5</th>\n",
       "      <td>Geometric Mean</td>\n",
       "      <td>0.779730</td>\n",
       "    </tr>\n",
       "    <tr>\n",
       "      <th>6</th>\n",
       "      <td>Macro Average MAE</td>\n",
       "      <td>0.197284</td>\n",
       "    </tr>\n",
       "  </tbody>\n",
       "</table>\n",
       "</div>"
      ],
      "text/plain": [
       "              Method  SelectedKBest-chi2\n",
       "0  Balanced Accuracy            0.802716\n",
       "1        Sensitivity            0.993436\n",
       "2        Specificity            0.611996\n",
       "3              AUROC            0.802716\n",
       "4                 F1            0.597633\n",
       "5     Geometric Mean            0.779730\n",
       "6  Macro Average MAE            0.197284"
      ]
     },
     "execution_count": 84,
     "metadata": {},
     "output_type": "execute_result"
    }
   ],
   "source": [
    "results_select = pd.DataFrame(evaluate_imbalanced(y_test, y_pred).items(),columns=[ 'Method', 'SelectedKBest-chi2'])\n",
    "results_select"
   ]
  },
  {
   "cell_type": "code",
   "execution_count": 101,
   "metadata": {
    "scrolled": true
   },
   "outputs": [
    {
     "data": {
      "text/html": [
       "<div>\n",
       "<style scoped>\n",
       "    .dataframe tbody tr th:only-of-type {\n",
       "        vertical-align: middle;\n",
       "    }\n",
       "\n",
       "    .dataframe tbody tr th {\n",
       "        vertical-align: top;\n",
       "    }\n",
       "\n",
       "    .dataframe thead th {\n",
       "        text-align: right;\n",
       "    }\n",
       "</style>\n",
       "<table border=\"1\" class=\"dataframe\">\n",
       "  <thead>\n",
       "    <tr style=\"text-align: right;\">\n",
       "      <th></th>\n",
       "      <th>Original</th>\n",
       "      <th>SelectedKBest-chi2</th>\n",
       "      <th>%</th>\n",
       "    </tr>\n",
       "    <tr>\n",
       "      <th>Method</th>\n",
       "      <th></th>\n",
       "      <th></th>\n",
       "      <th></th>\n",
       "    </tr>\n",
       "  </thead>\n",
       "  <tbody>\n",
       "    <tr>\n",
       "      <th>Balanced Accuracy</th>\n",
       "      <td>0.757924</td>\n",
       "      <td>0.802716</td>\n",
       "      <td>5.91%</td>\n",
       "    </tr>\n",
       "    <tr>\n",
       "      <th>Sensitivity</th>\n",
       "      <td>0.994292</td>\n",
       "      <td>0.993436</td>\n",
       "      <td>-0.09%</td>\n",
       "    </tr>\n",
       "    <tr>\n",
       "      <th>Specificity</th>\n",
       "      <td>0.521556</td>\n",
       "      <td>0.611996</td>\n",
       "      <td>17.34%</td>\n",
       "    </tr>\n",
       "    <tr>\n",
       "      <th>AUROC</th>\n",
       "      <td>0.757924</td>\n",
       "      <td>0.802716</td>\n",
       "      <td>5.91%</td>\n",
       "    </tr>\n",
       "    <tr>\n",
       "      <th>F1</th>\n",
       "      <td>0.592241</td>\n",
       "      <td>0.597633</td>\n",
       "      <td>0.91%</td>\n",
       "    </tr>\n",
       "    <tr>\n",
       "      <th>Geometric Mean</th>\n",
       "      <td>0.720124</td>\n",
       "      <td>0.779730</td>\n",
       "      <td>8.28%</td>\n",
       "    </tr>\n",
       "    <tr>\n",
       "      <th>Macro Average MAE</th>\n",
       "      <td>0.242076</td>\n",
       "      <td>0.197284</td>\n",
       "      <td>-18.5%</td>\n",
       "    </tr>\n",
       "  </tbody>\n",
       "</table>\n",
       "</div>"
      ],
      "text/plain": [
       "                   Original  SelectedKBest-chi2       %\n",
       "Method                                                 \n",
       "Balanced Accuracy  0.757924            0.802716   5.91%\n",
       "Sensitivity        0.994292            0.993436  -0.09%\n",
       "Specificity        0.521556            0.611996  17.34%\n",
       "AUROC              0.757924            0.802716   5.91%\n",
       "F1                 0.592241            0.597633   0.91%\n",
       "Geometric Mean     0.720124            0.779730   8.28%\n",
       "Macro Average MAE  0.242076            0.197284  -18.5%"
      ]
     },
     "execution_count": 101,
     "metadata": {},
     "output_type": "execute_result"
    }
   ],
   "source": [
    "results = results_1.set_index('Method').join(results_select.set_index('Method'))\n",
    "results['%'] = (((results['SelectedKBest-chi2'] - results['Original']) / results['Original'])*100 ).round(2).astype(str) + '%'\n",
    "results"
   ]
  },
  {
   "cell_type": "code",
   "execution_count": 86,
   "metadata": {},
   "outputs": [
    {
     "data": {
      "image/png": "[encoded data removed]",
      "text/plain": [
       "<Figure size 360x360 with 2 Axes>"
      ]
     },
     "metadata": {},
     "output_type": "display_data"
    }
   ],
   "source": [
    "make_confusion_matrix(y_test,y_pred)"
   ]
  },
  {
   "cell_type": "markdown",
   "metadata": {},
   "source": [
    "## Feature selection--Wrapper method"
   ]
  },
  {
   "cell_type": "markdown",
   "metadata": {},
   "source": [
    "**Recursive feature elimination (RFE) with random forest**"
   ]
  },
  {
   "cell_type": "code",
   "execution_count": 282,
   "metadata": {},
   "outputs": [],
   "source": [
    "from sklearn.feature_selection import RFE\n",
    "# Create the RFE object and rank each pixel\n",
    "# using the same classifer as original \n",
    "rfe = RFE(estimator=model_ori, n_features_to_select=6, step=1)\n",
    "rfe = rfe.fit(x_train, y_train)"
   ]
  },
  {
   "cell_type": "code",
   "execution_count": 286,
   "metadata": {
    "scrolled": false
   },
   "outputs": [
    {
     "data": {
      "text/html": [
       "<style  type=\"text/css\" >\n",
       "#T_fcad7eb2_f3a2_11eb_9370_acde48001122row0_col0,#T_fcad7eb2_f3a2_11eb_9370_acde48001122row1_col0,#T_fcad7eb2_f3a2_11eb_9370_acde48001122row2_col0,#T_fcad7eb2_f3a2_11eb_9370_acde48001122row3_col0,#T_fcad7eb2_f3a2_11eb_9370_acde48001122row4_col0,#T_fcad7eb2_f3a2_11eb_9370_acde48001122row5_col0{\n",
       "            background-color:  green;\n",
       "        }</style><table id=\"T_fcad7eb2_f3a2_11eb_9370_acde48001122\" ><thead>    <tr>        <th class=\"blank level0\" ></th>        <th class=\"col_heading level0 col0\" >RFE</th>    </tr></thead><tbody>\n",
       "                <tr>\n",
       "                        <th id=\"T_fcad7eb2_f3a2_11eb_9370_acde48001122level0_row0\" class=\"row_heading level0 row0\" >cough</th>\n",
       "                        <td id=\"T_fcad7eb2_f3a2_11eb_9370_acde48001122row0_col0\" class=\"data row0 col0\" >True</td>\n",
       "            </tr>\n",
       "            <tr>\n",
       "                        <th id=\"T_fcad7eb2_f3a2_11eb_9370_acde48001122level0_row1\" class=\"row_heading level0 row1\" >fever</th>\n",
       "                        <td id=\"T_fcad7eb2_f3a2_11eb_9370_acde48001122row1_col0\" class=\"data row1 col0\" >True</td>\n",
       "            </tr>\n",
       "            <tr>\n",
       "                        <th id=\"T_fcad7eb2_f3a2_11eb_9370_acde48001122level0_row2\" class=\"row_heading level0 row2\" >sore_throat</th>\n",
       "                        <td id=\"T_fcad7eb2_f3a2_11eb_9370_acde48001122row2_col0\" class=\"data row2 col0\" >True</td>\n",
       "            </tr>\n",
       "            <tr>\n",
       "                        <th id=\"T_fcad7eb2_f3a2_11eb_9370_acde48001122level0_row3\" class=\"row_heading level0 row3\" >head_ache</th>\n",
       "                        <td id=\"T_fcad7eb2_f3a2_11eb_9370_acde48001122row3_col0\" class=\"data row3 col0\" >True</td>\n",
       "            </tr>\n",
       "            <tr>\n",
       "                        <th id=\"T_fcad7eb2_f3a2_11eb_9370_acde48001122level0_row4\" class=\"row_heading level0 row4\" >test_indication_Contact with confirmed</th>\n",
       "                        <td id=\"T_fcad7eb2_f3a2_11eb_9370_acde48001122row4_col0\" class=\"data row4 col0\" >True</td>\n",
       "            </tr>\n",
       "            <tr>\n",
       "                        <th id=\"T_fcad7eb2_f3a2_11eb_9370_acde48001122level0_row5\" class=\"row_heading level0 row5\" >test_indication_Other</th>\n",
       "                        <td id=\"T_fcad7eb2_f3a2_11eb_9370_acde48001122row5_col0\" class=\"data row5 col0\" >True</td>\n",
       "            </tr>\n",
       "            <tr>\n",
       "                        <th id=\"T_fcad7eb2_f3a2_11eb_9370_acde48001122level0_row6\" class=\"row_heading level0 row6\" >shortness_of_breath</th>\n",
       "                        <td id=\"T_fcad7eb2_f3a2_11eb_9370_acde48001122row6_col0\" class=\"data row6 col0\" >False</td>\n",
       "            </tr>\n",
       "            <tr>\n",
       "                        <th id=\"T_fcad7eb2_f3a2_11eb_9370_acde48001122level0_row7\" class=\"row_heading level0 row7\" >age_Missing</th>\n",
       "                        <td id=\"T_fcad7eb2_f3a2_11eb_9370_acde48001122row7_col0\" class=\"data row7 col0\" >False</td>\n",
       "            </tr>\n",
       "            <tr>\n",
       "                        <th id=\"T_fcad7eb2_f3a2_11eb_9370_acde48001122level0_row8\" class=\"row_heading level0 row8\" >age_No</th>\n",
       "                        <td id=\"T_fcad7eb2_f3a2_11eb_9370_acde48001122row8_col0\" class=\"data row8 col0\" >False</td>\n",
       "            </tr>\n",
       "            <tr>\n",
       "                        <th id=\"T_fcad7eb2_f3a2_11eb_9370_acde48001122level0_row9\" class=\"row_heading level0 row9\" >age_Yes</th>\n",
       "                        <td id=\"T_fcad7eb2_f3a2_11eb_9370_acde48001122row9_col0\" class=\"data row9 col0\" >False</td>\n",
       "            </tr>\n",
       "            <tr>\n",
       "                        <th id=\"T_fcad7eb2_f3a2_11eb_9370_acde48001122level0_row10\" class=\"row_heading level0 row10\" >gender_Female</th>\n",
       "                        <td id=\"T_fcad7eb2_f3a2_11eb_9370_acde48001122row10_col0\" class=\"data row10 col0\" >False</td>\n",
       "            </tr>\n",
       "            <tr>\n",
       "                        <th id=\"T_fcad7eb2_f3a2_11eb_9370_acde48001122level0_row11\" class=\"row_heading level0 row11\" >gender_Male</th>\n",
       "                        <td id=\"T_fcad7eb2_f3a2_11eb_9370_acde48001122row11_col0\" class=\"data row11 col0\" >False</td>\n",
       "            </tr>\n",
       "            <tr>\n",
       "                        <th id=\"T_fcad7eb2_f3a2_11eb_9370_acde48001122level0_row12\" class=\"row_heading level0 row12\" >gender_Missing</th>\n",
       "                        <td id=\"T_fcad7eb2_f3a2_11eb_9370_acde48001122row12_col0\" class=\"data row12 col0\" >False</td>\n",
       "            </tr>\n",
       "            <tr>\n",
       "                        <th id=\"T_fcad7eb2_f3a2_11eb_9370_acde48001122level0_row13\" class=\"row_heading level0 row13\" >test_indication_Abroad</th>\n",
       "                        <td id=\"T_fcad7eb2_f3a2_11eb_9370_acde48001122row13_col0\" class=\"data row13 col0\" >False</td>\n",
       "            </tr>\n",
       "    </tbody></table>"
      ],
      "text/plain": [
       "<pandas.io.formats.style.Styler at 0x7fc85bd848e0>"
      ]
     },
     "execution_count": 286,
     "metadata": {},
     "output_type": "execute_result"
    }
   ],
   "source": [
    "df_rfe = pd.DataFrame(rfe.support_, index=x_train.columns, columns=['RFE'])\n",
    "df_rfe.sort_values('RFE', ascending=False).style.apply(highlight_top6)"
   ]
  },
  {
   "cell_type": "code",
   "execution_count": 300,
   "metadata": {},
   "outputs": [
    {
     "data": {
      "text/html": [
       "<style  type=\"text/css\" >\n",
       "#T_a0f3053c_f3a3_11eb_9370_acde48001122row0_col0,#T_a0f3053c_f3a3_11eb_9370_acde48001122row0_col1,#T_a0f3053c_f3a3_11eb_9370_acde48001122row0_col2,#T_a0f3053c_f3a3_11eb_9370_acde48001122row0_col3,#T_a0f3053c_f3a3_11eb_9370_acde48001122row1_col0,#T_a0f3053c_f3a3_11eb_9370_acde48001122row1_col1,#T_a0f3053c_f3a3_11eb_9370_acde48001122row1_col2,#T_a0f3053c_f3a3_11eb_9370_acde48001122row1_col3,#T_a0f3053c_f3a3_11eb_9370_acde48001122row2_col0,#T_a0f3053c_f3a3_11eb_9370_acde48001122row2_col1,#T_a0f3053c_f3a3_11eb_9370_acde48001122row2_col2,#T_a0f3053c_f3a3_11eb_9370_acde48001122row2_col3,#T_a0f3053c_f3a3_11eb_9370_acde48001122row3_col0,#T_a0f3053c_f3a3_11eb_9370_acde48001122row3_col1,#T_a0f3053c_f3a3_11eb_9370_acde48001122row3_col2,#T_a0f3053c_f3a3_11eb_9370_acde48001122row3_col3,#T_a0f3053c_f3a3_11eb_9370_acde48001122row4_col0,#T_a0f3053c_f3a3_11eb_9370_acde48001122row4_col1,#T_a0f3053c_f3a3_11eb_9370_acde48001122row4_col2,#T_a0f3053c_f3a3_11eb_9370_acde48001122row4_col3,#T_a0f3053c_f3a3_11eb_9370_acde48001122row5_col2,#T_a0f3053c_f3a3_11eb_9370_acde48001122row7_col0,#T_a0f3053c_f3a3_11eb_9370_acde48001122row7_col1,#T_a0f3053c_f3a3_11eb_9370_acde48001122row7_col3{\n",
       "            background-color:  green;\n",
       "        }</style><table id=\"T_a0f3053c_f3a3_11eb_9370_acde48001122\" ><thead>    <tr>        <th class=\"blank level0\" ></th>        <th class=\"col_heading level0 col0\" >mutual_info_reg</th>        <th class=\"col_heading level0 col1\" >mutual_info_cla</th>        <th class=\"col_heading level0 col2\" >SelectKBest-chi2</th>        <th class=\"col_heading level0 col3\" >RFE</th>    </tr></thead><tbody>\n",
       "                <tr>\n",
       "                        <th id=\"T_a0f3053c_f3a3_11eb_9370_acde48001122level0_row0\" class=\"row_heading level0 row0\" >test_indication_Contact with confirmed</th>\n",
       "                        <td id=\"T_a0f3053c_f3a3_11eb_9370_acde48001122row0_col0\" class=\"data row0 col0\" >0.013334</td>\n",
       "                        <td id=\"T_a0f3053c_f3a3_11eb_9370_acde48001122row0_col1\" class=\"data row0 col1\" >0.012935</td>\n",
       "                        <td id=\"T_a0f3053c_f3a3_11eb_9370_acde48001122row0_col2\" class=\"data row0 col2\" >158010.337220</td>\n",
       "                        <td id=\"T_a0f3053c_f3a3_11eb_9370_acde48001122row0_col3\" class=\"data row0 col3\" >True</td>\n",
       "            </tr>\n",
       "            <tr>\n",
       "                        <th id=\"T_a0f3053c_f3a3_11eb_9370_acde48001122level0_row1\" class=\"row_heading level0 row1\" >head_ache</th>\n",
       "                        <td id=\"T_a0f3053c_f3a3_11eb_9370_acde48001122row1_col0\" class=\"data row1 col0\" >0.006528</td>\n",
       "                        <td id=\"T_a0f3053c_f3a3_11eb_9370_acde48001122row1_col1\" class=\"data row1 col1\" >0.007470</td>\n",
       "                        <td id=\"T_a0f3053c_f3a3_11eb_9370_acde48001122row1_col2\" class=\"data row1 col2\" >89718.672696</td>\n",
       "                        <td id=\"T_a0f3053c_f3a3_11eb_9370_acde48001122row1_col3\" class=\"data row1 col3\" >True</td>\n",
       "            </tr>\n",
       "            <tr>\n",
       "                        <th id=\"T_a0f3053c_f3a3_11eb_9370_acde48001122level0_row2\" class=\"row_heading level0 row2\" >fever</th>\n",
       "                        <td id=\"T_a0f3053c_f3a3_11eb_9370_acde48001122row2_col0\" class=\"data row2 col0\" >0.007590</td>\n",
       "                        <td id=\"T_a0f3053c_f3a3_11eb_9370_acde48001122row2_col1\" class=\"data row2 col1\" >0.007850</td>\n",
       "                        <td id=\"T_a0f3053c_f3a3_11eb_9370_acde48001122row2_col2\" class=\"data row2 col2\" >86302.881637</td>\n",
       "                        <td id=\"T_a0f3053c_f3a3_11eb_9370_acde48001122row2_col3\" class=\"data row2 col3\" >True</td>\n",
       "            </tr>\n",
       "            <tr>\n",
       "                        <th id=\"T_a0f3053c_f3a3_11eb_9370_acde48001122level0_row3\" class=\"row_heading level0 row3\" >cough</th>\n",
       "                        <td id=\"T_a0f3053c_f3a3_11eb_9370_acde48001122row3_col0\" class=\"data row3 col0\" >0.007318</td>\n",
       "                        <td id=\"T_a0f3053c_f3a3_11eb_9370_acde48001122row3_col1\" class=\"data row3 col1\" >0.005212</td>\n",
       "                        <td id=\"T_a0f3053c_f3a3_11eb_9370_acde48001122row3_col2\" class=\"data row3 col2\" >80836.920359</td>\n",
       "                        <td id=\"T_a0f3053c_f3a3_11eb_9370_acde48001122row3_col3\" class=\"data row3 col3\" >True</td>\n",
       "            </tr>\n",
       "            <tr>\n",
       "                        <th id=\"T_a0f3053c_f3a3_11eb_9370_acde48001122level0_row4\" class=\"row_heading level0 row4\" >sore_throat</th>\n",
       "                        <td id=\"T_a0f3053c_f3a3_11eb_9370_acde48001122row4_col0\" class=\"data row4 col0\" >0.003716</td>\n",
       "                        <td id=\"T_a0f3053c_f3a3_11eb_9370_acde48001122row4_col1\" class=\"data row4 col1\" >0.003370</td>\n",
       "                        <td id=\"T_a0f3053c_f3a3_11eb_9370_acde48001122row4_col2\" class=\"data row4 col2\" >49266.590647</td>\n",
       "                        <td id=\"T_a0f3053c_f3a3_11eb_9370_acde48001122row4_col3\" class=\"data row4 col3\" >True</td>\n",
       "            </tr>\n",
       "            <tr>\n",
       "                        <th id=\"T_a0f3053c_f3a3_11eb_9370_acde48001122level0_row5\" class=\"row_heading level0 row5\" >shortness_of_breath</th>\n",
       "                        <td id=\"T_a0f3053c_f3a3_11eb_9370_acde48001122row5_col0\" class=\"data row5 col0\" >0.002267</td>\n",
       "                        <td id=\"T_a0f3053c_f3a3_11eb_9370_acde48001122row5_col1\" class=\"data row5 col1\" >0.002890</td>\n",
       "                        <td id=\"T_a0f3053c_f3a3_11eb_9370_acde48001122row5_col2\" class=\"data row5 col2\" >10495.983972</td>\n",
       "                        <td id=\"T_a0f3053c_f3a3_11eb_9370_acde48001122row5_col3\" class=\"data row5 col3\" >False</td>\n",
       "            </tr>\n",
       "            <tr>\n",
       "                        <th id=\"T_a0f3053c_f3a3_11eb_9370_acde48001122level0_row6\" class=\"row_heading level0 row6\" >test_indication_Abroad</th>\n",
       "                        <td id=\"T_a0f3053c_f3a3_11eb_9370_acde48001122row6_col0\" class=\"data row6 col0\" >0.001621</td>\n",
       "                        <td id=\"T_a0f3053c_f3a3_11eb_9370_acde48001122row6_col1\" class=\"data row6 col1\" >0.002119</td>\n",
       "                        <td id=\"T_a0f3053c_f3a3_11eb_9370_acde48001122row6_col2\" class=\"data row6 col2\" >4337.282072</td>\n",
       "                        <td id=\"T_a0f3053c_f3a3_11eb_9370_acde48001122row6_col3\" class=\"data row6 col3\" >False</td>\n",
       "            </tr>\n",
       "            <tr>\n",
       "                        <th id=\"T_a0f3053c_f3a3_11eb_9370_acde48001122level0_row7\" class=\"row_heading level0 row7\" >test_indication_Other</th>\n",
       "                        <td id=\"T_a0f3053c_f3a3_11eb_9370_acde48001122row7_col0\" class=\"data row7 col0\" >0.013476</td>\n",
       "                        <td id=\"T_a0f3053c_f3a3_11eb_9370_acde48001122row7_col1\" class=\"data row7 col1\" >0.014993</td>\n",
       "                        <td id=\"T_a0f3053c_f3a3_11eb_9370_acde48001122row7_col2\" class=\"data row7 col2\" >1095.707971</td>\n",
       "                        <td id=\"T_a0f3053c_f3a3_11eb_9370_acde48001122row7_col3\" class=\"data row7 col3\" >True</td>\n",
       "            </tr>\n",
       "            <tr>\n",
       "                        <th id=\"T_a0f3053c_f3a3_11eb_9370_acde48001122level0_row8\" class=\"row_heading level0 row8\" >age_Yes</th>\n",
       "                        <td id=\"T_a0f3053c_f3a3_11eb_9370_acde48001122row8_col0\" class=\"data row8 col0\" >0.000000</td>\n",
       "                        <td id=\"T_a0f3053c_f3a3_11eb_9370_acde48001122row8_col1\" class=\"data row8 col1\" >0.000000</td>\n",
       "                        <td id=\"T_a0f3053c_f3a3_11eb_9370_acde48001122row8_col2\" class=\"data row8 col2\" >1004.287134</td>\n",
       "                        <td id=\"T_a0f3053c_f3a3_11eb_9370_acde48001122row8_col3\" class=\"data row8 col3\" >False</td>\n",
       "            </tr>\n",
       "            <tr>\n",
       "                        <th id=\"T_a0f3053c_f3a3_11eb_9370_acde48001122level0_row9\" class=\"row_heading level0 row9\" >age_No</th>\n",
       "                        <td id=\"T_a0f3053c_f3a3_11eb_9370_acde48001122row9_col0\" class=\"data row9 col0\" >0.001154</td>\n",
       "                        <td id=\"T_a0f3053c_f3a3_11eb_9370_acde48001122row9_col1\" class=\"data row9 col1\" >0.000000</td>\n",
       "                        <td id=\"T_a0f3053c_f3a3_11eb_9370_acde48001122row9_col2\" class=\"data row9 col2\" >860.610150</td>\n",
       "                        <td id=\"T_a0f3053c_f3a3_11eb_9370_acde48001122row9_col3\" class=\"data row9 col3\" >False</td>\n",
       "            </tr>\n",
       "            <tr>\n",
       "                        <th id=\"T_a0f3053c_f3a3_11eb_9370_acde48001122level0_row10\" class=\"row_heading level0 row10\" >gender_Missing</th>\n",
       "                        <td id=\"T_a0f3053c_f3a3_11eb_9370_acde48001122row10_col0\" class=\"data row10 col0\" >0.000000</td>\n",
       "                        <td id=\"T_a0f3053c_f3a3_11eb_9370_acde48001122row10_col1\" class=\"data row10 col1\" >0.000636</td>\n",
       "                        <td id=\"T_a0f3053c_f3a3_11eb_9370_acde48001122row10_col2\" class=\"data row10 col2\" >581.421392</td>\n",
       "                        <td id=\"T_a0f3053c_f3a3_11eb_9370_acde48001122row10_col3\" class=\"data row10 col3\" >False</td>\n",
       "            </tr>\n",
       "            <tr>\n",
       "                        <th id=\"T_a0f3053c_f3a3_11eb_9370_acde48001122level0_row11\" class=\"row_heading level0 row11\" >age_Missing</th>\n",
       "                        <td id=\"T_a0f3053c_f3a3_11eb_9370_acde48001122row11_col0\" class=\"data row11 col0\" >0.000000</td>\n",
       "                        <td id=\"T_a0f3053c_f3a3_11eb_9370_acde48001122row11_col1\" class=\"data row11 col1\" >0.002688</td>\n",
       "                        <td id=\"T_a0f3053c_f3a3_11eb_9370_acde48001122row11_col2\" class=\"data row11 col2\" >524.517834</td>\n",
       "                        <td id=\"T_a0f3053c_f3a3_11eb_9370_acde48001122row11_col3\" class=\"data row11 col3\" >False</td>\n",
       "            </tr>\n",
       "            <tr>\n",
       "                        <th id=\"T_a0f3053c_f3a3_11eb_9370_acde48001122level0_row12\" class=\"row_heading level0 row12\" >gender_Female</th>\n",
       "                        <td id=\"T_a0f3053c_f3a3_11eb_9370_acde48001122row12_col0\" class=\"data row12 col0\" >0.000474</td>\n",
       "                        <td id=\"T_a0f3053c_f3a3_11eb_9370_acde48001122row12_col1\" class=\"data row12 col1\" >0.001179</td>\n",
       "                        <td id=\"T_a0f3053c_f3a3_11eb_9370_acde48001122row12_col2\" class=\"data row12 col2\" >380.670823</td>\n",
       "                        <td id=\"T_a0f3053c_f3a3_11eb_9370_acde48001122row12_col3\" class=\"data row12 col3\" >False</td>\n",
       "            </tr>\n",
       "            <tr>\n",
       "                        <th id=\"T_a0f3053c_f3a3_11eb_9370_acde48001122level0_row13\" class=\"row_heading level0 row13\" >gender_Male</th>\n",
       "                        <td id=\"T_a0f3053c_f3a3_11eb_9370_acde48001122row13_col0\" class=\"data row13 col0\" >0.001113</td>\n",
       "                        <td id=\"T_a0f3053c_f3a3_11eb_9370_acde48001122row13_col1\" class=\"data row13 col1\" >0.000000</td>\n",
       "                        <td id=\"T_a0f3053c_f3a3_11eb_9370_acde48001122row13_col2\" class=\"data row13 col2\" >355.094611</td>\n",
       "                        <td id=\"T_a0f3053c_f3a3_11eb_9370_acde48001122row13_col3\" class=\"data row13 col3\" >False</td>\n",
       "            </tr>\n",
       "    </tbody></table>"
      ],
      "text/plain": [
       "<pandas.io.formats.style.Styler at 0x7fc8594eb9d0>"
      ]
     },
     "execution_count": 300,
     "metadata": {},
     "output_type": "execute_result"
    }
   ],
   "source": [
    "merged = df_mi.join(df_chi2.join(df_rfe))\n",
    "merged.sort_values('SelectKBest-chi2', ascending=False).style.apply(highlight_top6)"
   ]
  },
  {
   "cell_type": "markdown",
   "metadata": {},
   "source": [
    "**Findings: align mostly with SelectedKBest and the same as MI**"
   ]
  },
  {
   "cell_type": "code",
   "execution_count": 302,
   "metadata": {},
   "outputs": [],
   "source": [
    "# TO DO:\n",
    "# Why MI and RFE have test_indication_other"
   ]
  },
  {
   "cell_type": "markdown",
   "metadata": {},
   "source": [
    "## <font color='red'> DO NOT RUN THE SECTION BELOW THROUGH THE RFECV TABLE, THIS WILL TAKE FOREVER</font> \n",
    "\n"
   ]
  },
  {
   "cell_type": "markdown",
   "metadata": {},
   "source": [
    "**Recursive feature elimination with cross validation and random forest classification**"
   ]
  },
  {
   "cell_type": "code",
   "execution_count": 324,
   "metadata": {},
   "outputs": [],
   "source": [
    "from sklearn.feature_selection import RFECV\n",
    "\n",
    "# The \"accuracy\" scoring is proportional to the number of correct classifications\n",
    "# using the same classifer as original \n",
    "rfecv = RFECV(estimator=model_ori, step=1, cv=5,scoring='accuracy')   #5-fold cross-validation\n",
    "rfecv = rfecv.fit(x_train, y_train)"
   ]
  },
  {
   "cell_type": "code",
   "execution_count": 305,
   "metadata": {},
   "outputs": [
    {
     "data": {
      "text/html": [
       "<style  type=\"text/css\" >\n",
       "#T_15395930_f3a6_11eb_9370_acde48001122row0_col0,#T_15395930_f3a6_11eb_9370_acde48001122row1_col0,#T_15395930_f3a6_11eb_9370_acde48001122row2_col0,#T_15395930_f3a6_11eb_9370_acde48001122row3_col0,#T_15395930_f3a6_11eb_9370_acde48001122row4_col0,#T_15395930_f3a6_11eb_9370_acde48001122row5_col0,#T_15395930_f3a6_11eb_9370_acde48001122row6_col0,#T_15395930_f3a6_11eb_9370_acde48001122row7_col0,#T_15395930_f3a6_11eb_9370_acde48001122row8_col0,#T_15395930_f3a6_11eb_9370_acde48001122row9_col0,#T_15395930_f3a6_11eb_9370_acde48001122row10_col0,#T_15395930_f3a6_11eb_9370_acde48001122row11_col0,#T_15395930_f3a6_11eb_9370_acde48001122row12_col0,#T_15395930_f3a6_11eb_9370_acde48001122row13_col0{\n",
       "            background-color:  green;\n",
       "        }</style><table id=\"T_15395930_f3a6_11eb_9370_acde48001122\" ><thead>    <tr>        <th class=\"blank level0\" ></th>        <th class=\"col_heading level0 col0\" >RFECV</th>    </tr></thead><tbody>\n",
       "                <tr>\n",
       "                        <th id=\"T_15395930_f3a6_11eb_9370_acde48001122level0_row0\" class=\"row_heading level0 row0\" >cough</th>\n",
       "                        <td id=\"T_15395930_f3a6_11eb_9370_acde48001122row0_col0\" class=\"data row0 col0\" >11</td>\n",
       "            </tr>\n",
       "            <tr>\n",
       "                        <th id=\"T_15395930_f3a6_11eb_9370_acde48001122level0_row1\" class=\"row_heading level0 row1\" >fever</th>\n",
       "                        <td id=\"T_15395930_f3a6_11eb_9370_acde48001122row1_col0\" class=\"data row1 col0\" >11</td>\n",
       "            </tr>\n",
       "            <tr>\n",
       "                        <th id=\"T_15395930_f3a6_11eb_9370_acde48001122level0_row2\" class=\"row_heading level0 row2\" >sore_throat</th>\n",
       "                        <td id=\"T_15395930_f3a6_11eb_9370_acde48001122row2_col0\" class=\"data row2 col0\" >11</td>\n",
       "            </tr>\n",
       "            <tr>\n",
       "                        <th id=\"T_15395930_f3a6_11eb_9370_acde48001122level0_row3\" class=\"row_heading level0 row3\" >shortness_of_breath</th>\n",
       "                        <td id=\"T_15395930_f3a6_11eb_9370_acde48001122row3_col0\" class=\"data row3 col0\" >11</td>\n",
       "            </tr>\n",
       "            <tr>\n",
       "                        <th id=\"T_15395930_f3a6_11eb_9370_acde48001122level0_row4\" class=\"row_heading level0 row4\" >head_ache</th>\n",
       "                        <td id=\"T_15395930_f3a6_11eb_9370_acde48001122row4_col0\" class=\"data row4 col0\" >11</td>\n",
       "            </tr>\n",
       "            <tr>\n",
       "                        <th id=\"T_15395930_f3a6_11eb_9370_acde48001122level0_row5\" class=\"row_heading level0 row5\" >age_Missing</th>\n",
       "                        <td id=\"T_15395930_f3a6_11eb_9370_acde48001122row5_col0\" class=\"data row5 col0\" >11</td>\n",
       "            </tr>\n",
       "            <tr>\n",
       "                        <th id=\"T_15395930_f3a6_11eb_9370_acde48001122level0_row6\" class=\"row_heading level0 row6\" >age_No</th>\n",
       "                        <td id=\"T_15395930_f3a6_11eb_9370_acde48001122row6_col0\" class=\"data row6 col0\" >11</td>\n",
       "            </tr>\n",
       "            <tr>\n",
       "                        <th id=\"T_15395930_f3a6_11eb_9370_acde48001122level0_row7\" class=\"row_heading level0 row7\" >age_Yes</th>\n",
       "                        <td id=\"T_15395930_f3a6_11eb_9370_acde48001122row7_col0\" class=\"data row7 col0\" >11</td>\n",
       "            </tr>\n",
       "            <tr>\n",
       "                        <th id=\"T_15395930_f3a6_11eb_9370_acde48001122level0_row8\" class=\"row_heading level0 row8\" >gender_Female</th>\n",
       "                        <td id=\"T_15395930_f3a6_11eb_9370_acde48001122row8_col0\" class=\"data row8 col0\" >11</td>\n",
       "            </tr>\n",
       "            <tr>\n",
       "                        <th id=\"T_15395930_f3a6_11eb_9370_acde48001122level0_row9\" class=\"row_heading level0 row9\" >gender_Male</th>\n",
       "                        <td id=\"T_15395930_f3a6_11eb_9370_acde48001122row9_col0\" class=\"data row9 col0\" >11</td>\n",
       "            </tr>\n",
       "            <tr>\n",
       "                        <th id=\"T_15395930_f3a6_11eb_9370_acde48001122level0_row10\" class=\"row_heading level0 row10\" >gender_Missing</th>\n",
       "                        <td id=\"T_15395930_f3a6_11eb_9370_acde48001122row10_col0\" class=\"data row10 col0\" >11</td>\n",
       "            </tr>\n",
       "            <tr>\n",
       "                        <th id=\"T_15395930_f3a6_11eb_9370_acde48001122level0_row11\" class=\"row_heading level0 row11\" >test_indication_Abroad</th>\n",
       "                        <td id=\"T_15395930_f3a6_11eb_9370_acde48001122row11_col0\" class=\"data row11 col0\" >11</td>\n",
       "            </tr>\n",
       "            <tr>\n",
       "                        <th id=\"T_15395930_f3a6_11eb_9370_acde48001122level0_row12\" class=\"row_heading level0 row12\" >test_indication_Contact with confirmed</th>\n",
       "                        <td id=\"T_15395930_f3a6_11eb_9370_acde48001122row12_col0\" class=\"data row12 col0\" >11</td>\n",
       "            </tr>\n",
       "            <tr>\n",
       "                        <th id=\"T_15395930_f3a6_11eb_9370_acde48001122level0_row13\" class=\"row_heading level0 row13\" >test_indication_Other</th>\n",
       "                        <td id=\"T_15395930_f3a6_11eb_9370_acde48001122row13_col0\" class=\"data row13 col0\" >11</td>\n",
       "            </tr>\n",
       "    </tbody></table>"
      ],
      "text/plain": [
       "<pandas.io.formats.style.Styler at 0x7fc85a1a6c10>"
      ]
     },
     "execution_count": 305,
     "metadata": {},
     "output_type": "execute_result"
    }
   ],
   "source": [
    "df_RFECV = pd.DataFrame(rfecv.n_features_, index=x_train.columns, columns=['RFECV'])\n",
    "df_RFECV.sort_values('RFECV', ascending=False).style.apply(highlight_top6)"
   ]
  },
  {
   "cell_type": "markdown",
   "metadata": {},
   "source": [
    "grid_scores_ : array of shape [n_subsets_of_features]\n",
    "The cross-validation scores such that grid_scores_[i] corresponds to the CV score of the i-th subset of features."
   ]
  },
  {
   "cell_type": "code",
   "execution_count": 306,
   "metadata": {
    "scrolled": false
   },
   "outputs": [
    {
     "data": {
      "image/png": "[encoded data removed]",
      "text/plain": [
       "<Figure size 1080x1080 with 1 Axes>"
      ]
     },
     "metadata": {},
     "output_type": "display_data"
    }
   ],
   "source": [
    "# Plot number of features VS. cross-validation scores\n",
    "import matplotlib.pyplot as plt\n",
    "plt.figure()\n",
    "plt.xlabel(\"Number of features selected\")\n",
    "plt.ylabel(\"Cross validation score of number of selected features\")\n",
    "plt.plot(range(1, len(rfecv.grid_scores_) + 1), rfecv.grid_scores_)\n",
    "plt.show()"
   ]
  },
  {
   "cell_type": "markdown",
   "metadata": {},
   "source": [
    "**Findings: we can the validation score peaks at 8 features**"
   ]
  },
  {
   "cell_type": "markdown",
   "metadata": {},
   "source": [
    "## Embedded Methods"
   ]
  },
  {
   "cell_type": "markdown",
   "metadata": {},
   "source": [
    "**Random Forest Importance**"
   ]
  },
  {
   "cell_type": "code",
   "execution_count": 323,
   "metadata": {},
   "outputs": [],
   "source": [
    "clf_rf_5 = RandomForestClassifier()      \n",
    "clr_rf_5 = clf_rf_5.fit(x_train,y_train)\n",
    "importances = clr_rf_5.feature_importances_\n",
    "std = np.std([tree.feature_importances_ for tree in clf_rf.estimators_],\n",
    "             axis=0)\n",
    "indices = np.argsort(importances)[::-1]"
   ]
  },
  {
   "cell_type": "code",
   "execution_count": 320,
   "metadata": {
    "scrolled": false
   },
   "outputs": [
    {
     "data": {
      "text/html": [
       "<style  type=\"text/css\" >\n",
       "#T_02f598b2_f3a9_11eb_9370_acde48001122row0_col0,#T_02f598b2_f3a9_11eb_9370_acde48001122row1_col0,#T_02f598b2_f3a9_11eb_9370_acde48001122row2_col0,#T_02f598b2_f3a9_11eb_9370_acde48001122row3_col0,#T_02f598b2_f3a9_11eb_9370_acde48001122row4_col0,#T_02f598b2_f3a9_11eb_9370_acde48001122row5_col0{\n",
       "            background-color:  green;\n",
       "        }</style><table id=\"T_02f598b2_f3a9_11eb_9370_acde48001122\" ><thead>    <tr>        <th class=\"blank level0\" ></th>        <th class=\"col_heading level0 col0\" >RF_importance</th>    </tr></thead><tbody>\n",
       "                <tr>\n",
       "                        <th id=\"T_02f598b2_f3a9_11eb_9370_acde48001122level0_row0\" class=\"row_heading level0 row0\" >test_indication_Contact with confirmed</th>\n",
       "                        <td id=\"T_02f598b2_f3a9_11eb_9370_acde48001122row0_col0\" class=\"data row0 col0\" >0.228877</td>\n",
       "            </tr>\n",
       "            <tr>\n",
       "                        <th id=\"T_02f598b2_f3a9_11eb_9370_acde48001122level0_row1\" class=\"row_heading level0 row1\" >test_indication_Other</th>\n",
       "                        <td id=\"T_02f598b2_f3a9_11eb_9370_acde48001122row1_col0\" class=\"data row1 col0\" >0.210352</td>\n",
       "            </tr>\n",
       "            <tr>\n",
       "                        <th id=\"T_02f598b2_f3a9_11eb_9370_acde48001122level0_row2\" class=\"row_heading level0 row2\" >fever</th>\n",
       "                        <td id=\"T_02f598b2_f3a9_11eb_9370_acde48001122row2_col0\" class=\"data row2 col0\" >0.143851</td>\n",
       "            </tr>\n",
       "            <tr>\n",
       "                        <th id=\"T_02f598b2_f3a9_11eb_9370_acde48001122level0_row3\" class=\"row_heading level0 row3\" >head_ache</th>\n",
       "                        <td id=\"T_02f598b2_f3a9_11eb_9370_acde48001122row3_col0\" class=\"data row3 col0\" >0.128759</td>\n",
       "            </tr>\n",
       "            <tr>\n",
       "                        <th id=\"T_02f598b2_f3a9_11eb_9370_acde48001122level0_row4\" class=\"row_heading level0 row4\" >cough</th>\n",
       "                        <td id=\"T_02f598b2_f3a9_11eb_9370_acde48001122row4_col0\" class=\"data row4 col0\" >0.109994</td>\n",
       "            </tr>\n",
       "            <tr>\n",
       "                        <th id=\"T_02f598b2_f3a9_11eb_9370_acde48001122level0_row5\" class=\"row_heading level0 row5\" >sore_throat</th>\n",
       "                        <td id=\"T_02f598b2_f3a9_11eb_9370_acde48001122row5_col0\" class=\"data row5 col0\" >0.063201</td>\n",
       "            </tr>\n",
       "            <tr>\n",
       "                        <th id=\"T_02f598b2_f3a9_11eb_9370_acde48001122level0_row6\" class=\"row_heading level0 row6\" >age_Missing</th>\n",
       "                        <td id=\"T_02f598b2_f3a9_11eb_9370_acde48001122row6_col0\" class=\"data row6 col0\" >0.026405</td>\n",
       "            </tr>\n",
       "            <tr>\n",
       "                        <th id=\"T_02f598b2_f3a9_11eb_9370_acde48001122level0_row7\" class=\"row_heading level0 row7\" >test_indication_Abroad</th>\n",
       "                        <td id=\"T_02f598b2_f3a9_11eb_9370_acde48001122row7_col0\" class=\"data row7 col0\" >0.025798</td>\n",
       "            </tr>\n",
       "            <tr>\n",
       "                        <th id=\"T_02f598b2_f3a9_11eb_9370_acde48001122level0_row8\" class=\"row_heading level0 row8\" >shortness_of_breath</th>\n",
       "                        <td id=\"T_02f598b2_f3a9_11eb_9370_acde48001122row8_col0\" class=\"data row8 col0\" >0.016707</td>\n",
       "            </tr>\n",
       "            <tr>\n",
       "                        <th id=\"T_02f598b2_f3a9_11eb_9370_acde48001122level0_row9\" class=\"row_heading level0 row9\" >gender_Missing</th>\n",
       "                        <td id=\"T_02f598b2_f3a9_11eb_9370_acde48001122row9_col0\" class=\"data row9 col0\" >0.012650</td>\n",
       "            </tr>\n",
       "            <tr>\n",
       "                        <th id=\"T_02f598b2_f3a9_11eb_9370_acde48001122level0_row10\" class=\"row_heading level0 row10\" >age_Yes</th>\n",
       "                        <td id=\"T_02f598b2_f3a9_11eb_9370_acde48001122row10_col0\" class=\"data row10 col0\" >0.011820</td>\n",
       "            </tr>\n",
       "            <tr>\n",
       "                        <th id=\"T_02f598b2_f3a9_11eb_9370_acde48001122level0_row11\" class=\"row_heading level0 row11\" >age_No</th>\n",
       "                        <td id=\"T_02f598b2_f3a9_11eb_9370_acde48001122row11_col0\" class=\"data row11 col0\" >0.011077</td>\n",
       "            </tr>\n",
       "            <tr>\n",
       "                        <th id=\"T_02f598b2_f3a9_11eb_9370_acde48001122level0_row12\" class=\"row_heading level0 row12\" >gender_Female</th>\n",
       "                        <td id=\"T_02f598b2_f3a9_11eb_9370_acde48001122row12_col0\" class=\"data row12 col0\" >0.005664</td>\n",
       "            </tr>\n",
       "            <tr>\n",
       "                        <th id=\"T_02f598b2_f3a9_11eb_9370_acde48001122level0_row13\" class=\"row_heading level0 row13\" >gender_Male</th>\n",
       "                        <td id=\"T_02f598b2_f3a9_11eb_9370_acde48001122row13_col0\" class=\"data row13 col0\" >0.004846</td>\n",
       "            </tr>\n",
       "    </tbody></table>"
      ],
      "text/plain": [
       "<pandas.io.formats.style.Styler at 0x7fc865076160>"
      ]
     },
     "execution_count": 320,
     "metadata": {},
     "output_type": "execute_result"
    }
   ],
   "source": [
    "df_RF_importance = pd.DataFrame(clr_rf_5.feature_importances_, index=x_train.columns, columns=['RF_importance'])\n",
    "df_RF_importance.sort_values('RF_importance', ascending=False).style.apply(highlight_top6)"
   ]
  },
  {
   "cell_type": "code",
   "execution_count": 321,
   "metadata": {},
   "outputs": [
    {
     "data": {
      "text/html": [
       "<style  type=\"text/css\" >\n",
       "#T_062177cc_f3a9_11eb_9370_acde48001122row0_col0,#T_062177cc_f3a9_11eb_9370_acde48001122row0_col1,#T_062177cc_f3a9_11eb_9370_acde48001122row0_col2,#T_062177cc_f3a9_11eb_9370_acde48001122row0_col3,#T_062177cc_f3a9_11eb_9370_acde48001122row0_col4,#T_062177cc_f3a9_11eb_9370_acde48001122row0_col5,#T_062177cc_f3a9_11eb_9370_acde48001122row1_col0,#T_062177cc_f3a9_11eb_9370_acde48001122row1_col1,#T_062177cc_f3a9_11eb_9370_acde48001122row1_col2,#T_062177cc_f3a9_11eb_9370_acde48001122row1_col3,#T_062177cc_f3a9_11eb_9370_acde48001122row1_col4,#T_062177cc_f3a9_11eb_9370_acde48001122row1_col5,#T_062177cc_f3a9_11eb_9370_acde48001122row2_col0,#T_062177cc_f3a9_11eb_9370_acde48001122row2_col1,#T_062177cc_f3a9_11eb_9370_acde48001122row2_col2,#T_062177cc_f3a9_11eb_9370_acde48001122row2_col3,#T_062177cc_f3a9_11eb_9370_acde48001122row2_col4,#T_062177cc_f3a9_11eb_9370_acde48001122row2_col5,#T_062177cc_f3a9_11eb_9370_acde48001122row3_col0,#T_062177cc_f3a9_11eb_9370_acde48001122row3_col1,#T_062177cc_f3a9_11eb_9370_acde48001122row3_col2,#T_062177cc_f3a9_11eb_9370_acde48001122row3_col3,#T_062177cc_f3a9_11eb_9370_acde48001122row3_col4,#T_062177cc_f3a9_11eb_9370_acde48001122row3_col5,#T_062177cc_f3a9_11eb_9370_acde48001122row4_col0,#T_062177cc_f3a9_11eb_9370_acde48001122row4_col1,#T_062177cc_f3a9_11eb_9370_acde48001122row4_col2,#T_062177cc_f3a9_11eb_9370_acde48001122row4_col3,#T_062177cc_f3a9_11eb_9370_acde48001122row4_col4,#T_062177cc_f3a9_11eb_9370_acde48001122row4_col5,#T_062177cc_f3a9_11eb_9370_acde48001122row5_col2,#T_062177cc_f3a9_11eb_9370_acde48001122row7_col0,#T_062177cc_f3a9_11eb_9370_acde48001122row7_col1,#T_062177cc_f3a9_11eb_9370_acde48001122row7_col3,#T_062177cc_f3a9_11eb_9370_acde48001122row7_col4,#T_062177cc_f3a9_11eb_9370_acde48001122row7_col5{\n",
       "            background-color:  green;\n",
       "        }</style><table id=\"T_062177cc_f3a9_11eb_9370_acde48001122\" ><thead>    <tr>        <th class=\"blank level0\" ></th>        <th class=\"col_heading level0 col0\" >mutual_info_reg</th>        <th class=\"col_heading level0 col1\" >mutual_info_cla</th>        <th class=\"col_heading level0 col2\" >SelectKBest-chi2</th>        <th class=\"col_heading level0 col3\" >RFE</th>        <th class=\"col_heading level0 col4\" >RFECV</th>        <th class=\"col_heading level0 col5\" >RF_importance</th>    </tr></thead><tbody>\n",
       "                <tr>\n",
       "                        <th id=\"T_062177cc_f3a9_11eb_9370_acde48001122level0_row0\" class=\"row_heading level0 row0\" >test_indication_Contact with confirmed</th>\n",
       "                        <td id=\"T_062177cc_f3a9_11eb_9370_acde48001122row0_col0\" class=\"data row0 col0\" >0.013334</td>\n",
       "                        <td id=\"T_062177cc_f3a9_11eb_9370_acde48001122row0_col1\" class=\"data row0 col1\" >0.012935</td>\n",
       "                        <td id=\"T_062177cc_f3a9_11eb_9370_acde48001122row0_col2\" class=\"data row0 col2\" >158010.337220</td>\n",
       "                        <td id=\"T_062177cc_f3a9_11eb_9370_acde48001122row0_col3\" class=\"data row0 col3\" >True</td>\n",
       "                        <td id=\"T_062177cc_f3a9_11eb_9370_acde48001122row0_col4\" class=\"data row0 col4\" >0.229420</td>\n",
       "                        <td id=\"T_062177cc_f3a9_11eb_9370_acde48001122row0_col5\" class=\"data row0 col5\" >0.228877</td>\n",
       "            </tr>\n",
       "            <tr>\n",
       "                        <th id=\"T_062177cc_f3a9_11eb_9370_acde48001122level0_row1\" class=\"row_heading level0 row1\" >head_ache</th>\n",
       "                        <td id=\"T_062177cc_f3a9_11eb_9370_acde48001122row1_col0\" class=\"data row1 col0\" >0.006528</td>\n",
       "                        <td id=\"T_062177cc_f3a9_11eb_9370_acde48001122row1_col1\" class=\"data row1 col1\" >0.007470</td>\n",
       "                        <td id=\"T_062177cc_f3a9_11eb_9370_acde48001122row1_col2\" class=\"data row1 col2\" >89718.672696</td>\n",
       "                        <td id=\"T_062177cc_f3a9_11eb_9370_acde48001122row1_col3\" class=\"data row1 col3\" >True</td>\n",
       "                        <td id=\"T_062177cc_f3a9_11eb_9370_acde48001122row1_col4\" class=\"data row1 col4\" >0.148273</td>\n",
       "                        <td id=\"T_062177cc_f3a9_11eb_9370_acde48001122row1_col5\" class=\"data row1 col5\" >0.128759</td>\n",
       "            </tr>\n",
       "            <tr>\n",
       "                        <th id=\"T_062177cc_f3a9_11eb_9370_acde48001122level0_row2\" class=\"row_heading level0 row2\" >fever</th>\n",
       "                        <td id=\"T_062177cc_f3a9_11eb_9370_acde48001122row2_col0\" class=\"data row2 col0\" >0.007590</td>\n",
       "                        <td id=\"T_062177cc_f3a9_11eb_9370_acde48001122row2_col1\" class=\"data row2 col1\" >0.007850</td>\n",
       "                        <td id=\"T_062177cc_f3a9_11eb_9370_acde48001122row2_col2\" class=\"data row2 col2\" >86302.881637</td>\n",
       "                        <td id=\"T_062177cc_f3a9_11eb_9370_acde48001122row2_col3\" class=\"data row2 col3\" >True</td>\n",
       "                        <td id=\"T_062177cc_f3a9_11eb_9370_acde48001122row2_col4\" class=\"data row2 col4\" >0.147349</td>\n",
       "                        <td id=\"T_062177cc_f3a9_11eb_9370_acde48001122row2_col5\" class=\"data row2 col5\" >0.143851</td>\n",
       "            </tr>\n",
       "            <tr>\n",
       "                        <th id=\"T_062177cc_f3a9_11eb_9370_acde48001122level0_row3\" class=\"row_heading level0 row3\" >cough</th>\n",
       "                        <td id=\"T_062177cc_f3a9_11eb_9370_acde48001122row3_col0\" class=\"data row3 col0\" >0.007318</td>\n",
       "                        <td id=\"T_062177cc_f3a9_11eb_9370_acde48001122row3_col1\" class=\"data row3 col1\" >0.005212</td>\n",
       "                        <td id=\"T_062177cc_f3a9_11eb_9370_acde48001122row3_col2\" class=\"data row3 col2\" >80836.920359</td>\n",
       "                        <td id=\"T_062177cc_f3a9_11eb_9370_acde48001122row3_col3\" class=\"data row3 col3\" >True</td>\n",
       "                        <td id=\"T_062177cc_f3a9_11eb_9370_acde48001122row3_col4\" class=\"data row3 col4\" >0.107414</td>\n",
       "                        <td id=\"T_062177cc_f3a9_11eb_9370_acde48001122row3_col5\" class=\"data row3 col5\" >0.109994</td>\n",
       "            </tr>\n",
       "            <tr>\n",
       "                        <th id=\"T_062177cc_f3a9_11eb_9370_acde48001122level0_row4\" class=\"row_heading level0 row4\" >sore_throat</th>\n",
       "                        <td id=\"T_062177cc_f3a9_11eb_9370_acde48001122row4_col0\" class=\"data row4 col0\" >0.003716</td>\n",
       "                        <td id=\"T_062177cc_f3a9_11eb_9370_acde48001122row4_col1\" class=\"data row4 col1\" >0.003370</td>\n",
       "                        <td id=\"T_062177cc_f3a9_11eb_9370_acde48001122row4_col2\" class=\"data row4 col2\" >49266.590647</td>\n",
       "                        <td id=\"T_062177cc_f3a9_11eb_9370_acde48001122row4_col3\" class=\"data row4 col3\" >True</td>\n",
       "                        <td id=\"T_062177cc_f3a9_11eb_9370_acde48001122row4_col4\" class=\"data row4 col4\" >0.053000</td>\n",
       "                        <td id=\"T_062177cc_f3a9_11eb_9370_acde48001122row4_col5\" class=\"data row4 col5\" >0.063201</td>\n",
       "            </tr>\n",
       "            <tr>\n",
       "                        <th id=\"T_062177cc_f3a9_11eb_9370_acde48001122level0_row5\" class=\"row_heading level0 row5\" >shortness_of_breath</th>\n",
       "                        <td id=\"T_062177cc_f3a9_11eb_9370_acde48001122row5_col0\" class=\"data row5 col0\" >0.002267</td>\n",
       "                        <td id=\"T_062177cc_f3a9_11eb_9370_acde48001122row5_col1\" class=\"data row5 col1\" >0.002890</td>\n",
       "                        <td id=\"T_062177cc_f3a9_11eb_9370_acde48001122row5_col2\" class=\"data row5 col2\" >10495.983972</td>\n",
       "                        <td id=\"T_062177cc_f3a9_11eb_9370_acde48001122row5_col3\" class=\"data row5 col3\" >False</td>\n",
       "                        <td id=\"T_062177cc_f3a9_11eb_9370_acde48001122row5_col4\" class=\"data row5 col4\" >0.016229</td>\n",
       "                        <td id=\"T_062177cc_f3a9_11eb_9370_acde48001122row5_col5\" class=\"data row5 col5\" >0.016707</td>\n",
       "            </tr>\n",
       "            <tr>\n",
       "                        <th id=\"T_062177cc_f3a9_11eb_9370_acde48001122level0_row6\" class=\"row_heading level0 row6\" >test_indication_Abroad</th>\n",
       "                        <td id=\"T_062177cc_f3a9_11eb_9370_acde48001122row6_col0\" class=\"data row6 col0\" >0.001621</td>\n",
       "                        <td id=\"T_062177cc_f3a9_11eb_9370_acde48001122row6_col1\" class=\"data row6 col1\" >0.002119</td>\n",
       "                        <td id=\"T_062177cc_f3a9_11eb_9370_acde48001122row6_col2\" class=\"data row6 col2\" >4337.282072</td>\n",
       "                        <td id=\"T_062177cc_f3a9_11eb_9370_acde48001122row6_col3\" class=\"data row6 col3\" >False</td>\n",
       "                        <td id=\"T_062177cc_f3a9_11eb_9370_acde48001122row6_col4\" class=\"data row6 col4\" >0.025789</td>\n",
       "                        <td id=\"T_062177cc_f3a9_11eb_9370_acde48001122row6_col5\" class=\"data row6 col5\" >0.025798</td>\n",
       "            </tr>\n",
       "            <tr>\n",
       "                        <th id=\"T_062177cc_f3a9_11eb_9370_acde48001122level0_row7\" class=\"row_heading level0 row7\" >test_indication_Other</th>\n",
       "                        <td id=\"T_062177cc_f3a9_11eb_9370_acde48001122row7_col0\" class=\"data row7 col0\" >0.013476</td>\n",
       "                        <td id=\"T_062177cc_f3a9_11eb_9370_acde48001122row7_col1\" class=\"data row7 col1\" >0.014993</td>\n",
       "                        <td id=\"T_062177cc_f3a9_11eb_9370_acde48001122row7_col2\" class=\"data row7 col2\" >1095.707971</td>\n",
       "                        <td id=\"T_062177cc_f3a9_11eb_9370_acde48001122row7_col3\" class=\"data row7 col3\" >True</td>\n",
       "                        <td id=\"T_062177cc_f3a9_11eb_9370_acde48001122row7_col4\" class=\"data row7 col4\" >0.201812</td>\n",
       "                        <td id=\"T_062177cc_f3a9_11eb_9370_acde48001122row7_col5\" class=\"data row7 col5\" >0.210352</td>\n",
       "            </tr>\n",
       "            <tr>\n",
       "                        <th id=\"T_062177cc_f3a9_11eb_9370_acde48001122level0_row8\" class=\"row_heading level0 row8\" >age_Yes</th>\n",
       "                        <td id=\"T_062177cc_f3a9_11eb_9370_acde48001122row8_col0\" class=\"data row8 col0\" >0.000000</td>\n",
       "                        <td id=\"T_062177cc_f3a9_11eb_9370_acde48001122row8_col1\" class=\"data row8 col1\" >0.000000</td>\n",
       "                        <td id=\"T_062177cc_f3a9_11eb_9370_acde48001122row8_col2\" class=\"data row8 col2\" >1004.287134</td>\n",
       "                        <td id=\"T_062177cc_f3a9_11eb_9370_acde48001122row8_col3\" class=\"data row8 col3\" >False</td>\n",
       "                        <td id=\"T_062177cc_f3a9_11eb_9370_acde48001122row8_col4\" class=\"data row8 col4\" >0.012045</td>\n",
       "                        <td id=\"T_062177cc_f3a9_11eb_9370_acde48001122row8_col5\" class=\"data row8 col5\" >0.011820</td>\n",
       "            </tr>\n",
       "            <tr>\n",
       "                        <th id=\"T_062177cc_f3a9_11eb_9370_acde48001122level0_row9\" class=\"row_heading level0 row9\" >age_No</th>\n",
       "                        <td id=\"T_062177cc_f3a9_11eb_9370_acde48001122row9_col0\" class=\"data row9 col0\" >0.001154</td>\n",
       "                        <td id=\"T_062177cc_f3a9_11eb_9370_acde48001122row9_col1\" class=\"data row9 col1\" >0.000000</td>\n",
       "                        <td id=\"T_062177cc_f3a9_11eb_9370_acde48001122row9_col2\" class=\"data row9 col2\" >860.610150</td>\n",
       "                        <td id=\"T_062177cc_f3a9_11eb_9370_acde48001122row9_col3\" class=\"data row9 col3\" >False</td>\n",
       "                        <td id=\"T_062177cc_f3a9_11eb_9370_acde48001122row9_col4\" class=\"data row9 col4\" >0.012359</td>\n",
       "                        <td id=\"T_062177cc_f3a9_11eb_9370_acde48001122row9_col5\" class=\"data row9 col5\" >0.011077</td>\n",
       "            </tr>\n",
       "            <tr>\n",
       "                        <th id=\"T_062177cc_f3a9_11eb_9370_acde48001122level0_row10\" class=\"row_heading level0 row10\" >gender_Missing</th>\n",
       "                        <td id=\"T_062177cc_f3a9_11eb_9370_acde48001122row10_col0\" class=\"data row10 col0\" >0.000000</td>\n",
       "                        <td id=\"T_062177cc_f3a9_11eb_9370_acde48001122row10_col1\" class=\"data row10 col1\" >0.000636</td>\n",
       "                        <td id=\"T_062177cc_f3a9_11eb_9370_acde48001122row10_col2\" class=\"data row10 col2\" >581.421392</td>\n",
       "                        <td id=\"T_062177cc_f3a9_11eb_9370_acde48001122row10_col3\" class=\"data row10 col3\" >False</td>\n",
       "                        <td id=\"T_062177cc_f3a9_11eb_9370_acde48001122row10_col4\" class=\"data row10 col4\" >0.012150</td>\n",
       "                        <td id=\"T_062177cc_f3a9_11eb_9370_acde48001122row10_col5\" class=\"data row10 col5\" >0.012650</td>\n",
       "            </tr>\n",
       "            <tr>\n",
       "                        <th id=\"T_062177cc_f3a9_11eb_9370_acde48001122level0_row11\" class=\"row_heading level0 row11\" >age_Missing</th>\n",
       "                        <td id=\"T_062177cc_f3a9_11eb_9370_acde48001122row11_col0\" class=\"data row11 col0\" >0.000000</td>\n",
       "                        <td id=\"T_062177cc_f3a9_11eb_9370_acde48001122row11_col1\" class=\"data row11 col1\" >0.002688</td>\n",
       "                        <td id=\"T_062177cc_f3a9_11eb_9370_acde48001122row11_col2\" class=\"data row11 col2\" >524.517834</td>\n",
       "                        <td id=\"T_062177cc_f3a9_11eb_9370_acde48001122row11_col3\" class=\"data row11 col3\" >False</td>\n",
       "                        <td id=\"T_062177cc_f3a9_11eb_9370_acde48001122row11_col4\" class=\"data row11 col4\" >0.023671</td>\n",
       "                        <td id=\"T_062177cc_f3a9_11eb_9370_acde48001122row11_col5\" class=\"data row11 col5\" >0.026405</td>\n",
       "            </tr>\n",
       "            <tr>\n",
       "                        <th id=\"T_062177cc_f3a9_11eb_9370_acde48001122level0_row12\" class=\"row_heading level0 row12\" >gender_Female</th>\n",
       "                        <td id=\"T_062177cc_f3a9_11eb_9370_acde48001122row12_col0\" class=\"data row12 col0\" >0.000474</td>\n",
       "                        <td id=\"T_062177cc_f3a9_11eb_9370_acde48001122row12_col1\" class=\"data row12 col1\" >0.001179</td>\n",
       "                        <td id=\"T_062177cc_f3a9_11eb_9370_acde48001122row12_col2\" class=\"data row12 col2\" >380.670823</td>\n",
       "                        <td id=\"T_062177cc_f3a9_11eb_9370_acde48001122row12_col3\" class=\"data row12 col3\" >False</td>\n",
       "                        <td id=\"T_062177cc_f3a9_11eb_9370_acde48001122row12_col4\" class=\"data row12 col4\" >0.005532</td>\n",
       "                        <td id=\"T_062177cc_f3a9_11eb_9370_acde48001122row12_col5\" class=\"data row12 col5\" >0.005664</td>\n",
       "            </tr>\n",
       "            <tr>\n",
       "                        <th id=\"T_062177cc_f3a9_11eb_9370_acde48001122level0_row13\" class=\"row_heading level0 row13\" >gender_Male</th>\n",
       "                        <td id=\"T_062177cc_f3a9_11eb_9370_acde48001122row13_col0\" class=\"data row13 col0\" >0.001113</td>\n",
       "                        <td id=\"T_062177cc_f3a9_11eb_9370_acde48001122row13_col1\" class=\"data row13 col1\" >0.000000</td>\n",
       "                        <td id=\"T_062177cc_f3a9_11eb_9370_acde48001122row13_col2\" class=\"data row13 col2\" >355.094611</td>\n",
       "                        <td id=\"T_062177cc_f3a9_11eb_9370_acde48001122row13_col3\" class=\"data row13 col3\" >False</td>\n",
       "                        <td id=\"T_062177cc_f3a9_11eb_9370_acde48001122row13_col4\" class=\"data row13 col4\" >0.004955</td>\n",
       "                        <td id=\"T_062177cc_f3a9_11eb_9370_acde48001122row13_col5\" class=\"data row13 col5\" >0.004846</td>\n",
       "            </tr>\n",
       "    </tbody></table>"
      ],
      "text/plain": [
       "<pandas.io.formats.style.Styler at 0x7fc85d17a400>"
      ]
     },
     "execution_count": 321,
     "metadata": {},
     "output_type": "execute_result"
    }
   ],
   "source": [
    "merged = merged.join(df_RF_importance)\n",
    "merged.sort_values('SelectKBest-chi2', ascending=False).style.apply(highlight_top6)"
   ]
  },
  {
   "cell_type": "code",
   "execution_count": 322,
   "metadata": {},
   "outputs": [
    {
     "data": {
      "image/png": "[encoded data removed]",
      "text/plain": [
       "<Figure size 1008x936 with 1 Axes>"
      ]
     },
     "metadata": {},
     "output_type": "display_data"
    }
   ],
   "source": [
    "#  to determine how many should be selected\n",
    "\n",
    "# Plot the feature importances of the forest\n",
    "plt.figure(1, figsize=(14, 13))\n",
    "plt.title(\"Feature importances\")\n",
    "plt.bar(range(x_train.shape[1]), importances[indices],\n",
    "     color=\"g\", yerr=std[indices], align=\"center\")\n",
    "plt.xticks(range(x_train.shape[1]), x_train.columns[indices],rotation=90)\n",
    "plt.xlim([-1, x_train.shape[1]])\n",
    "plt.show()"
   ]
  },
  {
   "cell_type": "markdown",
   "metadata": {},
   "source": [
    "**Feature Extraction with PCA**"
   ]
  },
  {
   "cell_type": "code",
   "execution_count": 311,
   "metadata": {
    "scrolled": false
   },
   "outputs": [
    {
     "data": {
      "image/png": "[encoded data removed]",
      "text/plain": [
       "<Figure size 1008x936 with 1 Axes>"
      ]
     },
     "metadata": {},
     "output_type": "display_data"
    }
   ],
   "source": [
    "#  to determine how many should be selected\n",
    "from sklearn.decomposition import PCA\n",
    "pca = PCA()\n",
    "pca.fit(x_train)\n",
    "\n",
    "plt.figure(1, figsize=(14, 13))\n",
    "plt.clf()\n",
    "plt.axes([.2, .2, .7, .7])\n",
    "plt.plot(pca.explained_variance_ratio_, linewidth=2)\n",
    "plt.axis('tight')\n",
    "plt.xlabel('n_components')\n",
    "plt.ylabel('explained_variance_ratio_');"
   ]
  },
  {
   "cell_type": "markdown",
   "metadata": {},
   "source": [
    "6 features are definitely enough"
   ]
  },
  {
   "cell_type": "markdown",
   "metadata": {},
   "source": [
    "**Conclusion: We believe it's safe to select the top 6 features: \n",
    "'test_indication_Contact with confirmed', 'head_ache', 'fever', 'cough','sore_throat','shortness_of_breath'"
   ]
  },
  {
   "cell_type": "markdown",
   "metadata": {},
   "source": [
    "**TO DO:\n",
    "    validate if test_indication_Other should be dropped"
   ]
  },
  {
   "cell_type": "code",
   "execution_count": 95,
   "metadata": {},
   "outputs": [],
   "source": [
    "#prepare the selected dataset with the 6th being test_indication_Other\n",
    "selected_columns = ['test_indication_Contact with confirmed', 'head_ache', 'fever', 'cough','sore_throat','test_indication_Other']\n",
    "# X_selected = X_filled.drop(\"corona_result\", axis = 1)\n",
    "X_selected = X_filled[X_filled.columns[X_filled.columns.isin(selected_columns)]]"
   ]
  },
  {
   "cell_type": "code",
   "execution_count": 96,
   "metadata": {},
   "outputs": [],
   "source": [
    "# update the train and test split\n",
    "x_train, x_test, y_train, y_test = train_test_split(X_selected, y_filled, test_size=0.2, random_state=0)"
   ]
  },
  {
   "cell_type": "code",
   "execution_count": 97,
   "metadata": {},
   "outputs": [],
   "source": [
    "y_pred = make_y_pred(x_train, x_test, y_train)"
   ]
  },
  {
   "cell_type": "code",
   "execution_count": 98,
   "metadata": {
    "scrolled": true
   },
   "outputs": [
    {
     "data": {
      "text/html": [
       "<div>\n",
       "<style scoped>\n",
       "    .dataframe tbody tr th:only-of-type {\n",
       "        vertical-align: middle;\n",
       "    }\n",
       "\n",
       "    .dataframe tbody tr th {\n",
       "        vertical-align: top;\n",
       "    }\n",
       "\n",
       "    .dataframe thead th {\n",
       "        text-align: right;\n",
       "    }\n",
       "</style>\n",
       "<table border=\"1\" class=\"dataframe\">\n",
       "  <thead>\n",
       "    <tr style=\"text-align: right;\">\n",
       "      <th></th>\n",
       "      <th>Method</th>\n",
       "      <th>All other 5 methods</th>\n",
       "    </tr>\n",
       "  </thead>\n",
       "  <tbody>\n",
       "    <tr>\n",
       "      <th>0</th>\n",
       "      <td>Balanced Accuracy</td>\n",
       "      <td>0.803585</td>\n",
       "    </tr>\n",
       "    <tr>\n",
       "      <th>1</th>\n",
       "      <td>Sensitivity</td>\n",
       "      <td>0.993677</td>\n",
       "    </tr>\n",
       "    <tr>\n",
       "      <th>2</th>\n",
       "      <td>Specificity</td>\n",
       "      <td>0.613493</td>\n",
       "    </tr>\n",
       "    <tr>\n",
       "      <th>3</th>\n",
       "      <td>AUROC</td>\n",
       "      <td>0.803585</td>\n",
       "    </tr>\n",
       "    <tr>\n",
       "      <th>4</th>\n",
       "      <td>F1</td>\n",
       "      <td>0.607196</td>\n",
       "    </tr>\n",
       "    <tr>\n",
       "      <th>5</th>\n",
       "      <td>Geometric Mean</td>\n",
       "      <td>0.780778</td>\n",
       "    </tr>\n",
       "    <tr>\n",
       "      <th>6</th>\n",
       "      <td>Macro Average MAE</td>\n",
       "      <td>0.196415</td>\n",
       "    </tr>\n",
       "  </tbody>\n",
       "</table>\n",
       "</div>"
      ],
      "text/plain": [
       "              Method  All other 5 methods\n",
       "0  Balanced Accuracy             0.803585\n",
       "1        Sensitivity             0.993677\n",
       "2        Specificity             0.613493\n",
       "3              AUROC             0.803585\n",
       "4                 F1             0.607196\n",
       "5     Geometric Mean             0.780778\n",
       "6  Macro Average MAE             0.196415"
      ]
     },
     "execution_count": 98,
     "metadata": {},
     "output_type": "execute_result"
    }
   ],
   "source": [
    "results_other = pd.DataFrame(evaluate_imbalanced(y_test, y_pred).items(),columns=['Method', 'All other 5 methods'])\n",
    "results_other"
   ]
  },
  {
   "cell_type": "code",
   "execution_count": 105,
   "metadata": {},
   "outputs": [
    {
     "data": {
      "text/html": [
       "<div>\n",
       "<style scoped>\n",
       "    .dataframe tbody tr th:only-of-type {\n",
       "        vertical-align: middle;\n",
       "    }\n",
       "\n",
       "    .dataframe tbody tr th {\n",
       "        vertical-align: top;\n",
       "    }\n",
       "\n",
       "    .dataframe thead th {\n",
       "        text-align: right;\n",
       "    }\n",
       "</style>\n",
       "<table border=\"1\" class=\"dataframe\">\n",
       "  <thead>\n",
       "    <tr style=\"text-align: right;\">\n",
       "      <th></th>\n",
       "      <th>Original</th>\n",
       "      <th>SelectedKBest-chi2</th>\n",
       "      <th>All other 5 methods</th>\n",
       "      <th>original vs other 5 %</th>\n",
       "      <th>original sel-chi2 %</th>\n",
       "    </tr>\n",
       "    <tr>\n",
       "      <th>Method</th>\n",
       "      <th></th>\n",
       "      <th></th>\n",
       "      <th></th>\n",
       "      <th></th>\n",
       "      <th></th>\n",
       "    </tr>\n",
       "  </thead>\n",
       "  <tbody>\n",
       "    <tr>\n",
       "      <th>Balanced Accuracy</th>\n",
       "      <td>0.757924</td>\n",
       "      <td>0.802716</td>\n",
       "      <td>0.803585</td>\n",
       "      <td>6.02%</td>\n",
       "      <td>5.91%</td>\n",
       "    </tr>\n",
       "    <tr>\n",
       "      <th>Sensitivity</th>\n",
       "      <td>0.994292</td>\n",
       "      <td>0.993436</td>\n",
       "      <td>0.993677</td>\n",
       "      <td>-0.06%</td>\n",
       "      <td>-0.09%</td>\n",
       "    </tr>\n",
       "    <tr>\n",
       "      <th>Specificity</th>\n",
       "      <td>0.521556</td>\n",
       "      <td>0.611996</td>\n",
       "      <td>0.613493</td>\n",
       "      <td>17.63%</td>\n",
       "      <td>17.34%</td>\n",
       "    </tr>\n",
       "    <tr>\n",
       "      <th>AUROC</th>\n",
       "      <td>0.757924</td>\n",
       "      <td>0.802716</td>\n",
       "      <td>0.803585</td>\n",
       "      <td>6.02%</td>\n",
       "      <td>5.91%</td>\n",
       "    </tr>\n",
       "    <tr>\n",
       "      <th>F1</th>\n",
       "      <td>0.592241</td>\n",
       "      <td>0.597633</td>\n",
       "      <td>0.607196</td>\n",
       "      <td>2.53%</td>\n",
       "      <td>0.91%</td>\n",
       "    </tr>\n",
       "    <tr>\n",
       "      <th>Geometric Mean</th>\n",
       "      <td>0.720124</td>\n",
       "      <td>0.779730</td>\n",
       "      <td>0.780778</td>\n",
       "      <td>8.42%</td>\n",
       "      <td>8.28%</td>\n",
       "    </tr>\n",
       "    <tr>\n",
       "      <th>Macro Average MAE</th>\n",
       "      <td>0.242076</td>\n",
       "      <td>0.197284</td>\n",
       "      <td>0.196415</td>\n",
       "      <td>-18.86%</td>\n",
       "      <td>-18.5%</td>\n",
       "    </tr>\n",
       "  </tbody>\n",
       "</table>\n",
       "</div>"
      ],
      "text/plain": [
       "                   Original  SelectedKBest-chi2  All other 5 methods  \\\n",
       "Method                                                                 \n",
       "Balanced Accuracy  0.757924            0.802716             0.803585   \n",
       "Sensitivity        0.994292            0.993436             0.993677   \n",
       "Specificity        0.521556            0.611996             0.613493   \n",
       "AUROC              0.757924            0.802716             0.803585   \n",
       "F1                 0.592241            0.597633             0.607196   \n",
       "Geometric Mean     0.720124            0.779730             0.780778   \n",
       "Macro Average MAE  0.242076            0.197284             0.196415   \n",
       "\n",
       "                  original vs other 5 % original sel-chi2 %  \n",
       "Method                                                       \n",
       "Balanced Accuracy                 6.02%               5.91%  \n",
       "Sensitivity                      -0.06%              -0.09%  \n",
       "Specificity                      17.63%              17.34%  \n",
       "AUROC                             6.02%               5.91%  \n",
       "F1                                2.53%               0.91%  \n",
       "Geometric Mean                    8.42%               8.28%  \n",
       "Macro Average MAE               -18.86%              -18.5%  "
      ]
     },
     "execution_count": 105,
     "metadata": {},
     "output_type": "execute_result"
    }
   ],
   "source": [
    "# results = results.set_index('Method').join(results_other.set_index('Method'))\n",
    "results = results_1.set_index('Method').join(results_select.set_index('Method')).join(results_other.set_index('Method'))\n",
    "results['original vs other 5 %'] = (((results['All other 5 methods'] - results['Original']) / results['Original'])*100 ).round(2).astype(str) + '%'\n",
    "results['original sel-chi2 %'] = (((results['SelectedKBest-chi2'] - results['Original']) / results['Original'])*100 ).round(2).astype(str) + '%'\n",
    "\n",
    "results"
   ]
  },
  {
   "cell_type": "markdown",
   "metadata": {},
   "source": [
    "**TO DO:\n",
    "    selecting a subset from df.copy() may need to redo the normalization"
   ]
  },
  {
   "cell_type": "code",
   "execution_count": 332,
   "metadata": {},
   "outputs": [],
   "source": [
    "#prepare the selected dataset with the 6th feature being shortness_of_breath\n",
    "selected_columns = ['test_indication_Contact with confirmed', 'head_ache', 'fever', 'cough','sore_throat','shortness_of_breath']\n",
    "df_copy = df.copy()\n",
    "X_selected = df.copy().drop(\"corona_result\", axis = 1)\n",
    "X_selected = X_selected[X_selected .columns[X_selected .columns.isin(selected_columns)]]"
   ]
  },
  {
   "cell_type": "code",
   "execution_count": 331,
   "metadata": {},
   "outputs": [],
   "source": [
    "# update the train and test split\n",
    "x_train, x_test, y_train, y_test = train_test_split(X_selected, y_filled, test_size=0.2, random_state=0)"
   ]
  },
  {
   "cell_type": "markdown",
   "metadata": {},
   "source": [
    "## Imbalanced sampling"
   ]
  },
  {
   "cell_type": "markdown",
   "metadata": {},
   "source": [
    "https://imbalanced-learn.org/stable/over_sampling.html#naive-random-over-sampling"
   ]
  },
  {
   "cell_type": "markdown",
   "metadata": {},
   "source": [
    "pip install imbalanced-learn"
   ]
  },
  {
   "cell_type": "code",
   "execution_count": 54,
   "metadata": {
    "scrolled": false
   },
   "outputs": [
    {
     "name": "stdout",
     "output_type": "stream",
     "text": [
      "<class 'pandas.core.frame.DataFrame'>\n",
      "Int64Index: 828717 entries, 0 to 852373\n",
      "Data columns (total 9 columns):\n",
      " #   Column               Non-Null Count   Dtype \n",
      "---  ------               --------------   ----- \n",
      " 0   cough                828717 non-null  int64 \n",
      " 1   fever                828717 non-null  int64 \n",
      " 2   sore_throat          828717 non-null  int64 \n",
      " 3   shortness_of_breath  828717 non-null  int64 \n",
      " 4   head_ache            828717 non-null  int64 \n",
      " 5   corona_result        828717 non-null  object\n",
      " 6   age                  205769 non-null  object\n",
      " 7   gender               365717 non-null  object\n",
      " 8   test_indication      828717 non-null  object\n",
      "dtypes: int64(5), object(4)\n",
      "memory usage: 63.2+ MB\n"
     ]
    }
   ],
   "source": [
    "# imbalance is just a tempt DF so I can test all the imbalance sampling methods\n",
    "\n",
    "imbalance = df.copy()\n",
    "imbalance.info()"
   ]
  },
  {
   "cell_type": "code",
   "execution_count": 55,
   "metadata": {},
   "outputs": [
    {
     "name": "stdout",
     "output_type": "stream",
     "text": [
      "(828717, 8)\n",
      "(828717,)\n"
     ]
    }
   ],
   "source": [
    "columns = imbalance.columns.tolist()\n",
    "columns = [c for c in columns if c not in [\"corona_result\"]]\n",
    "# Store the variable we are predicting \n",
    "target = \"corona_result\"\n",
    "\n",
    "X = imbalance[columns]\n",
    "Y = imbalance[target]\n",
    "\n",
    "print(X.shape)\n",
    "print(Y.shape)"
   ]
  },
  {
   "cell_type": "code",
   "execution_count": 56,
   "metadata": {},
   "outputs": [
    {
     "name": "stdout",
     "output_type": "stream",
     "text": [
      "(6469, 9) (822248, 9)\n"
     ]
    }
   ],
   "source": [
    "Positive = df[df['corona_result']=='Positive']\n",
    "Negative = df[df['corona_result']=='Negative']\n",
    "print(Positive.shape,Negative.shape)"
   ]
  },
  {
   "cell_type": "markdown",
   "metadata": {},
   "source": [
    "**Oversampling: Naive random over-sampling to increase the sample size of under-represented data by replication**"
   ]
  },
  {
   "cell_type": "code",
   "execution_count": 57,
   "metadata": {},
   "outputs": [
    {
     "name": "stdout",
     "output_type": "stream",
     "text": [
      "Original Counter({'Negative': 822248, 'Positive': 6469})\n",
      "Resampled Counter({'Negative': 822248, 'Positive': 822248})\n"
     ]
    }
   ],
   "source": [
    "from imblearn.over_sampling import RandomOverSampler\n",
    "ros = RandomOverSampler(random_state=0)\n",
    "X_resampled, y_resampled = ros.fit_resample(X, Y)\n",
    "\n",
    "print('Original {}'.format(Counter(Y)))\n",
    "print('Resampled {}'.format(Counter(y_resampled)))"
   ]
  },
  {
   "cell_type": "markdown",
   "metadata": {},
   "source": [
    "**Oversampling:SMOTE based on KNN and generating new samples**"
   ]
  },
  {
   "cell_type": "markdown",
   "metadata": {},
   "source": [
    "** to be delete ** ADASYN focuses on generating samples next to the original samples which are wrongly classified using a k-Nearest Neighbors classifier while the basic implementation of SMOTE will not make any distinction between easy and hard samples to be classified using the nearest neighbors rule"
   ]
  },
  {
   "cell_type": "code",
   "execution_count": 58,
   "metadata": {},
   "outputs": [
    {
     "name": "stdout",
     "output_type": "stream",
     "text": [
      "Original Counter({'0': 822248, '1': 6469})\n",
      "Resampled Counter({'0': 822248, '1': 822248})\n"
     ]
    }
   ],
   "source": [
    "# not including ADASYN because it's takes forever to run\n",
    "\n",
    "from imblearn.over_sampling import SMOTE\n",
    "\n",
    "imbalance_smte = imbalance.copy()\n",
    "imbalance_smte['corona_result'] = imbalance_smte['corona_result'].str.replace('Positive', '1')\n",
    "imbalance_smte['corona_result'] = imbalance_smte['corona_result'].str.replace('Negative', '0')\n",
    "\n",
    "# this is so that SMOTE can be use as it only accepts interge\n",
    "imbalance_smte = imbalance_smte.drop(['age', 'gender', 'test_indication'], axis=1)\n",
    "\n",
    "#imbalance_smt = imbalance_smt[:1000]\n",
    "\n",
    "columns = imbalance_smte.columns.tolist()\n",
    "columns = [c for c in columns if c not in [\"corona_result\"]]\n",
    "# Store the variable we are predicting \n",
    "target = \"corona_result\"\n",
    "\n",
    "Xsmte = imbalance_smte[columns]\n",
    "Ysmte = imbalance_smte[target]\n",
    "\n",
    "X_resampled, y_resampled = SMOTE().fit_resample(Xsmte, Ysmte)\n",
    "\n",
    "#clf_smote = LinearSVC().fit(X_resampled, y_resampled)\n",
    "\n",
    "print('Original {}'.format(Counter(Ysmte)))\n",
    "print('Resampled {}'.format(Counter(y_resampled)))\n",
    "\n"
   ]
  },
  {
   "cell_type": "markdown",
   "metadata": {},
   "source": [
    "**Under-sampling:RandomUnderSampler is a fast and easy way to balance the data by randomly selecting a subset of data for the targeted classes**"
   ]
  },
  {
   "cell_type": "code",
   "execution_count": 59,
   "metadata": {},
   "outputs": [
    {
     "name": "stdout",
     "output_type": "stream",
     "text": [
      "Original Counter({'Negative': 822248, 'Positive': 6469})\n",
      "Resampled Counter({'Negative': 6469, 'Positive': 6469})\n"
     ]
    }
   ],
   "source": [
    "from imblearn.under_sampling import RandomUnderSampler\n",
    "rus = RandomUnderSampler(random_state=0)\n",
    "X_resampled, y_resampled = rus.fit_resample(X, Y)\n",
    "\n",
    "\n",
    "print('Original {}'.format(Counter(Y)))\n",
    "print('Resampled {}'.format(Counter(y_resampled)))\n"
   ]
  },
  {
   "cell_type": "markdown",
   "metadata": {},
   "source": [
    "(delete after review) **Mixture - SMOTETomek and SMOTEENN** Probably not going to be used as it takes too long to run on the entire dataset\n",
    "\n",
    "SMOTETomek is somewhere upsampling and downsampling. SMOTETomek is a hybrid method which is a mixture of the above two methods, it uses an under-sampling method (Tomek) with an oversampling method (SMOTE). This is present within imblearn.combine module."
   ]
  },
  {
   "cell_type": "code",
   "execution_count": 71,
   "metadata": {},
   "outputs": [
    {
     "name": "stdout",
     "output_type": "stream",
     "text": [
      "(1000, 5)\n",
      "(1000,)\n",
      "Original Counter({'0': 985, '1': 15})\n",
      "Resampled Counter({'0': 985, '1': 83})\n",
      "Original Counter({'0': 985, '1': 15})\n",
      "Resampled Counter({'0': 985, '1': 985})\n"
     ]
    }
   ],
   "source": [
    "#https://analyticsindiamag.com/handling-imbalanced-datasets-a-guide-with-hands-on-implementation/\n",
    "# this is for demo ONLY since it still running after 30min\n",
    "# need to be deleted unless disagreed\n",
    "\n",
    "\n",
    "from imblearn.combine import SMOTETomek \n",
    "\n",
    "imbalance_smt = imbalance.copy()\n",
    "\n",
    "\n",
    "imbalance_smt['corona_result'] = imbalance_smt['corona_result'].str.replace('Positive', '1')\n",
    "imbalance_smt['corona_result'] = imbalance_smt['corona_result'].str.replace('Negative', '0')\n",
    "\n",
    "# this is so that SMOTETomek can be use as it only accepts int\n",
    "imbalance_smt = imbalance_smt.drop(['age', 'gender', 'test_indication'], axis=1)\n",
    "\n",
    "#limit to 1000 record to ensure the below is ran\n",
    "imbalance_smt = imbalance_smt[:1000]\n",
    "\n",
    "columns = imbalance_smt.columns.tolist()\n",
    "columns = [c for c in columns if c not in [\"corona_result\"]]\n",
    "# Store the variable we are predicting \n",
    "target = \"corona_result\"\n",
    "\n",
    "Xsmt = imbalance_smt[columns]\n",
    "Ysmt = imbalance_smt[target]\n",
    "\n",
    "print(Xsmt.shape)\n",
    "print(Ysmt.shape)\n",
    "\n",
    "from imblearn.combine import SMOTEENN\n",
    "smote_enn = SMOTEENN(random_state=0)\n",
    "X_resampled, y_resampled = smote_enn.fit_resample(Xsmt, Ysmt)\n",
    "\n",
    "print('Original {}'.format(Counter(Ysmt)))\n",
    "print('Resampled {}'.format(Counter(y_resampled)))\n",
    "\n",
    "\n",
    "smt = SMOTETomek()\n",
    "X_resampled, y_resampled=smt.fit_resample(Xsmt,Ysmt)\n",
    "\n",
    "print('Original {}'.format(Counter(Ysmt)))\n",
    "print('Resampled {}'.format(Counter(y_resampled)))"
   ]
  },
  {
   "cell_type": "markdown",
   "metadata": {},
   "source": [
    "**Stratified Kfold for imbalance data**\n",
    "\n",
    "https://machinelearningmastery.com/cross-validation-for-imbalanced-classification/\n",
    "\n",
    "Fix Cross-Validation for Imbalanced Classification\n",
    "The solution is to not split the data randomly when using k-fold cross-validation or a train-test split.\n",
    "\n",
    "Specifically, we can split a dataset randomly, although in such a way that maintains the same class distribution in each subset. This is called stratification or stratified sampling and the target variable (y), the class, is used to control the sampling process.\n",
    "\n",
    "For example, we can use a version of k-fold cross-validation that preserves the imbalanced class distribution in each fold. It is called stratified k-fold cross-validation and will enforce the class distribution in each split of the data to match the distribution in the complete training dataset.\n"
   ]
  },
  {
   "cell_type": "code",
   "execution_count": 72,
   "metadata": {},
   "outputs": [
    {
     "name": "stdout",
     "output_type": "stream",
     "text": [
      "TRAIN: [     0      1      2 ... 828714 828715 828716] TEST: [     9     15     16 ... 828665 828668 828686]\n",
      "TRAIN: [     0      1      2 ... 828712 828715 828716] TEST: [    40     51     56 ... 828710 828713 828714]\n",
      "TRAIN: [     0      1      2 ... 828714 828715 828716] TEST: [     8     23     32 ... 828681 828687 828703]\n",
      "TRAIN: [     0      2      3 ... 828713 828714 828715] TEST: [     1      4     10 ... 828704 828711 828716]\n",
      "TRAIN: [     1      2      3 ... 828714 828715 828716] TEST: [     0     12     14 ... 828699 828707 828712]\n",
      "TRAIN: [     0      1      2 ... 828713 828714 828716] TEST: [     3      5     20 ... 828694 828708 828715]\n",
      "TRAIN: [     0      1      2 ... 828714 828715 828716] TEST: [     7     11     21 ... 828688 828693 828701]\n",
      "TRAIN: [     0      1      2 ... 828714 828715 828716] TEST: [     6     17     19 ... 828696 828702 828709]\n",
      "TRAIN: [     0      1      2 ... 828714 828715 828716] TEST: [    13     72    122 ... 828700 828705 828706]\n",
      "TRAIN: [     0      1      3 ... 828714 828715 828716] TEST: [     2     62     86 ... 828662 828683 828698]\n"
     ]
    }
   ],
   "source": [
    "n_splits = 10\n",
    "    \n",
    "skf = StratifiedKFold(n_splits=n_splits, shuffle=True, random_state=0)\n",
    "\n",
    "for train_index, test_index in skf.split(X, Y):\n",
    "    #need to replace below with model\n",
    "    print(\"TRAIN:\", train_index, \"TEST:\", test_index)\n"
   ]
  },
  {
   "cell_type": "markdown",
   "metadata": {},
   "source": [
    "https://imbalanced-learn.org/stable/auto_examples/evaluation/plot_classification_report.html#sphx-glr-auto-examples-evaluation-plot-classification-report-py"
   ]
  },
  {
   "cell_type": "code",
   "execution_count": 1,
   "metadata": {},
   "outputs": [
    {
     "ename": "NameError",
     "evalue": "name 'RandomOverSampler' is not defined",
     "output_type": "error",
     "traceback": [
      "\u001b[0;31m---------------------------------------------------------------------------\u001b[0m",
      "\u001b[0;31mNameError\u001b[0m                                 Traceback (most recent call last)",
      "\u001b[0;32m<ipython-input-1-46733e862d58>\u001b[0m in \u001b[0;36m<module>\u001b[0;34m\u001b[0m\n\u001b[1;32m      2\u001b[0m \u001b[0;32mfrom\u001b[0m \u001b[0mimblearn\u001b[0m\u001b[0;34m.\u001b[0m\u001b[0mpipeline\u001b[0m \u001b[0;32mimport\u001b[0m \u001b[0mmake_pipeline\u001b[0m \u001b[0;32mas\u001b[0m \u001b[0mmake_pipeline_imb\u001b[0m\u001b[0;34m\u001b[0m\u001b[0;34m\u001b[0m\u001b[0m\n\u001b[1;32m      3\u001b[0m \u001b[0;34m\u001b[0m\u001b[0m\n\u001b[0;32m----> 4\u001b[0;31m model = make_pipeline_imb(RandomOverSampler(random_state=0), \n\u001b[0m\u001b[1;32m      5\u001b[0m                           \u001b[0mRandomUnderSampler\u001b[0m\u001b[0;34m(\u001b[0m\u001b[0mrandom_state\u001b[0m\u001b[0;34m=\u001b[0m\u001b[0;36m0\u001b[0m\u001b[0;34m)\u001b[0m\u001b[0;34m,\u001b[0m\u001b[0;34m\u001b[0m\u001b[0;34m\u001b[0m\u001b[0m\n\u001b[1;32m      6\u001b[0m                           RandomForestClassifier(random_state=0))\n",
      "\u001b[0;31mNameError\u001b[0m: name 'RandomOverSampler' is not defined"
     ]
    }
   ],
   "source": [
    "# trying to compare\n",
    "from imblearn.pipeline import make_pipeline as make_pipeline_imb\n",
    "\n",
    "model = make_pipeline_imb(RandomOverSampler(random_state=0), \n",
    "                          RandomUnderSampler(random_state=0), \n",
    "                          RandomForestClassifier(random_state=0))\n",
    "\n",
    "model.fit(X_train, y_train)\n",
    "y_pred = model.predict(X_test)"
   ]
  },
  {
   "cell_type": "code",
   "execution_count": null,
   "metadata": {},
   "outputs": [],
   "source": [
    "pipeline = pl.make_pipeline(\n",
    "    os.SMOTE(random_state=RANDOM_STATE), LinearSVC(random_state=RANDOM_STATE)\n",
    ")\n",
    "\n",
    "# Split the data\n",
    "X_train, X_test, y_train, y_test = train_test_split(X, y, random_state=RANDOM_STATE)\n",
    "\n",
    "# Train the classifier with balancing\n",
    "pipeline.fit(X_train, y_train)\n",
    "\n",
    "# Test the classifier and get the prediction\n",
    "y_pred_bal = pipeline.predict(X_test)\n",
    "\n",
    "# Show the classification report\n",
    "print(classification_report_imbalanced(y_test, y_pred_bal))"
   ]
  },
  {
   "cell_type": "code",
   "execution_count": null,
   "metadata": {},
   "outputs": [],
   "source": []
  },
  {
   "cell_type": "markdown",
   "metadata": {},
   "source": [
    "**Remaining work**\n",
    "1. How to handle the imbalanced data (most of data is negative labeled)\n",
    "2. Tuning the parameters of the classifiers\n",
    "3. Feature selection(eg: Gender has the least mutual info with class value). If it is possible to improve performance  by removing these features\n",
    "4. Sampling strategies (imbalanced sampling)\n",
    "5. More data visualization\n",
    "6. Try to classify with X_dropped (no missing value)\n",
    "7. Try neurual network\n"
   ]
  },
  {
   "cell_type": "markdown",
   "metadata": {},
   "source": [
    "8. can we track the improvement % for each sampling method, feature selection/deletion, models modification"
   ]
  }
 ],
 "metadata": {
  "kernelspec": {
   "display_name": "Python 3",
   "language": "python",
   "name": "python3"
  },
  "language_info": {
   "codemirror_mode": {
    "name": "ipython",
    "version": 3
   },
   "file_extension": ".py",
   "mimetype": "text/x-python",
   "name": "python",
   "nbconvert_exporter": "python",
   "pygments_lexer": "ipython3",
   "version": "3.8.8"
  }
 },
 "nbformat": 4,
 "nbformat_minor": 4
}
