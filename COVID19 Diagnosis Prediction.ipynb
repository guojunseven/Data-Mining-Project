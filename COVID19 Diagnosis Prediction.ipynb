{
 "cells": [
  {
   "cell_type": "code",
   "execution_count": 1,
   "metadata": {},
   "outputs": [],
   "source": [
    "import numpy as np\n",
    "import pandas as pd\n",
    "import matplotlib.pyplot as plt \n",
    "import seaborn as sns\n",
    "from sklearn.preprocessing import LabelEncoder\n",
    "import warnings\n",
    "# ignore all warnings\n",
    "warnings.filterwarnings('ignore')\n",
    "from sklearn.model_selection import train_test_split\n",
    "from sklearn.dummy import DummyClassifier\n",
    "from sklearn.ensemble import RandomForestClassifier, GradientBoostingClassifier\n",
    "from sklearn.linear_model import Perceptron\n",
    "from sklearn.tree import DecisionTreeClassifier\n",
    "from sklearn.neighbors import KNeighborsClassifier\n",
    "from sklearn.naive_bayes import GaussianNB, BernoulliNB, MultinomialNB\n",
    "from sklearn.metrics import f1_score,confusion_matrix, roc_auc_score\n",
    "from sklearn.metrics import accuracy_score\n",
    "from xgboost import XGBClassifier\n",
    "import matplotlib\n",
    "import matplotlib.pyplot as plt\n",
    "from collections import Counter\n",
    "from sklearn.model_selection import StratifiedKFold"
   ]
  },
  {
   "cell_type": "markdown",
   "metadata": {},
   "source": [
    "## 1 Load the data set"
   ]
  },
  {
   "cell_type": "code",
   "execution_count": 2,
   "metadata": {},
   "outputs": [],
   "source": [
    "df = pd.read_csv(\"~/downloads/corona_tested_individuals_ver_00166.csv\", header=0, parse_dates = ['test_date']) ## load the date in local\n",
    "# df_np = np.loadtxt('corona_tested_individuals_ver_00166.csv', delimiter=',', skiprows=1,\n",
    "#                           usecols= (1,7), unpack=True)\n",
    "# df = pd.DataFrame(df)\n",
    "df.columns = ['date','cough','fever','sore_throat','shortness_of_breath','head_ache','corona_result','age','gender','test_indication']"
   ]
  },
  {
   "cell_type": "markdown",
   "metadata": {},
   "source": [
    "## 2 Data Exploration¶"
   ]
  },
  {
   "cell_type": "markdown",
   "metadata": {},
   "source": [
    "Explanation of the data:\n",
    "https://data.gov.il/dataset/covid-19/resource/0ac4cffc-3746-473a-8d4a-ab874b8d8d62\n",
    "\n",
    "Gender: appears from March 22nd 2020\n",
    "\n",
    "Corona_result: Results of first Covid-19 test, by category:\n",
    "    a.Positive – carrying Covid-19\n",
    "    b.Negative – not carrying Covid-19\n",
    "    c.Other – Not tested, in testing, inconclusive\n",
    "\n",
    "Age_60_and_above: Indicator of the test taker's age - 60 or over (1) or below 60 (0). Appears from March 17th 2020.\n",
    "\n",
    "Test_indication: What is the indication for testing? Abroad – arrived from abroad, contact_with_confirmed – contact with a confirmed case, other – other indication or not specified\n",
    "\n",
    "Symptoms (whether developed before testing):\n",
    "cough, fever, sore_throat, shortness of breath, headache: 1 – Yes, 0 – No, NULL – Unknown\n",
    "\n",
    "The corona_result is the label class."
   ]
  },
  {
   "cell_type": "code",
   "execution_count": 3,
   "metadata": {},
   "outputs": [],
   "source": [
    "df = df[df[\"date\"] > \"2021-05-30\"] # for simplicity and computability for a laptop, use data after 2021-05-30"
   ]
  },
  {
   "cell_type": "code",
   "execution_count": 4,
   "metadata": {},
   "outputs": [
    {
     "data": {
      "text/html": [
       "<div>\n",
       "<style scoped>\n",
       "    .dataframe tbody tr th:only-of-type {\n",
       "        vertical-align: middle;\n",
       "    }\n",
       "\n",
       "    .dataframe tbody tr th {\n",
       "        vertical-align: top;\n",
       "    }\n",
       "\n",
       "    .dataframe thead th {\n",
       "        text-align: right;\n",
       "    }\n",
       "</style>\n",
       "<table border=\"1\" class=\"dataframe\">\n",
       "  <thead>\n",
       "    <tr style=\"text-align: right;\">\n",
       "      <th></th>\n",
       "      <th>date</th>\n",
       "      <th>cough</th>\n",
       "      <th>fever</th>\n",
       "      <th>sore_throat</th>\n",
       "      <th>shortness_of_breath</th>\n",
       "      <th>head_ache</th>\n",
       "      <th>corona_result</th>\n",
       "      <th>age</th>\n",
       "      <th>gender</th>\n",
       "      <th>test_indication</th>\n",
       "    </tr>\n",
       "  </thead>\n",
       "  <tbody>\n",
       "    <tr>\n",
       "      <th>0</th>\n",
       "      <td>2021-07-25</td>\n",
       "      <td>0</td>\n",
       "      <td>0</td>\n",
       "      <td>0</td>\n",
       "      <td>0</td>\n",
       "      <td>0</td>\n",
       "      <td>שלילי</td>\n",
       "      <td>No</td>\n",
       "      <td>נקבה</td>\n",
       "      <td>Other</td>\n",
       "    </tr>\n",
       "    <tr>\n",
       "      <th>1</th>\n",
       "      <td>2021-07-25</td>\n",
       "      <td>0</td>\n",
       "      <td>0</td>\n",
       "      <td>0</td>\n",
       "      <td>0</td>\n",
       "      <td>0</td>\n",
       "      <td>שלילי</td>\n",
       "      <td>No</td>\n",
       "      <td>נקבה</td>\n",
       "      <td>Other</td>\n",
       "    </tr>\n",
       "    <tr>\n",
       "      <th>2</th>\n",
       "      <td>2021-07-25</td>\n",
       "      <td>1</td>\n",
       "      <td>1</td>\n",
       "      <td>1</td>\n",
       "      <td>0</td>\n",
       "      <td>1</td>\n",
       "      <td>אחר</td>\n",
       "      <td>No</td>\n",
       "      <td>נקבה</td>\n",
       "      <td>Abroad</td>\n",
       "    </tr>\n",
       "    <tr>\n",
       "      <th>3</th>\n",
       "      <td>2021-07-25</td>\n",
       "      <td>0</td>\n",
       "      <td>0</td>\n",
       "      <td>0</td>\n",
       "      <td>0</td>\n",
       "      <td>0</td>\n",
       "      <td>שלילי</td>\n",
       "      <td>No</td>\n",
       "      <td>זכר</td>\n",
       "      <td>Other</td>\n",
       "    </tr>\n",
       "    <tr>\n",
       "      <th>4</th>\n",
       "      <td>2021-07-25</td>\n",
       "      <td>0</td>\n",
       "      <td>0</td>\n",
       "      <td>0</td>\n",
       "      <td>0</td>\n",
       "      <td>0</td>\n",
       "      <td>שלילי</td>\n",
       "      <td>No</td>\n",
       "      <td>נקבה</td>\n",
       "      <td>Other</td>\n",
       "    </tr>\n",
       "  </tbody>\n",
       "</table>\n",
       "</div>"
      ],
      "text/plain": [
       "        date  cough  fever  sore_throat  shortness_of_breath  head_ache  \\\n",
       "0 2021-07-25      0      0            0                    0          0   \n",
       "1 2021-07-25      0      0            0                    0          0   \n",
       "2 2021-07-25      1      1            1                    0          1   \n",
       "3 2021-07-25      0      0            0                    0          0   \n",
       "4 2021-07-25      0      0            0                    0          0   \n",
       "\n",
       "  corona_result age gender test_indication  \n",
       "0         שלילי  No   נקבה           Other  \n",
       "1         שלילי  No   נקבה           Other  \n",
       "2           אחר  No   נקבה          Abroad  \n",
       "3         שלילי  No    זכר           Other  \n",
       "4         שלילי  No   נקבה           Other  "
      ]
     },
     "execution_count": 4,
     "metadata": {},
     "output_type": "execute_result"
    }
   ],
   "source": [
    "df.head()"
   ]
  },
  {
   "cell_type": "code",
   "execution_count": 5,
   "metadata": {},
   "outputs": [
    {
     "data": {
      "text/plain": [
       "(486659, 10)"
      ]
     },
     "execution_count": 5,
     "metadata": {},
     "output_type": "execute_result"
    }
   ],
   "source": [
    "df.shape"
   ]
  },
  {
   "cell_type": "code",
   "execution_count": 6,
   "metadata": {},
   "outputs": [
    {
     "name": "stdout",
     "output_type": "stream",
     "text": [
      "<class 'pandas.core.frame.DataFrame'>\n",
      "Int64Index: 486659 entries, 0 to 486658\n",
      "Data columns (total 10 columns):\n",
      " #   Column               Non-Null Count   Dtype         \n",
      "---  ------               --------------   -----         \n",
      " 0   date                 486659 non-null  datetime64[ns]\n",
      " 1   cough                486659 non-null  int64         \n",
      " 2   fever                486659 non-null  int64         \n",
      " 3   sore_throat          486659 non-null  int64         \n",
      " 4   shortness_of_breath  486659 non-null  int64         \n",
      " 5   head_ache            486659 non-null  int64         \n",
      " 6   corona_result        486659 non-null  object        \n",
      " 7   age                  201480 non-null  object        \n",
      " 8   gender               271191 non-null  object        \n",
      " 9   test_indication      486659 non-null  object        \n",
      "dtypes: datetime64[ns](1), int64(5), object(4)\n",
      "memory usage: 40.8+ MB\n"
     ]
    }
   ],
   "source": [
    "df.info()"
   ]
  },
  {
   "cell_type": "code",
   "execution_count": 7,
   "metadata": {},
   "outputs": [
    {
     "data": {
      "text/plain": [
       "date                        0\n",
       "cough                       0\n",
       "fever                       0\n",
       "sore_throat                 0\n",
       "shortness_of_breath         0\n",
       "head_ache                   0\n",
       "corona_result               0\n",
       "age                    285179\n",
       "gender                 215468\n",
       "test_indication             0\n",
       "dtype: int64"
      ]
     },
     "execution_count": 7,
     "metadata": {},
     "output_type": "execute_result"
    }
   ],
   "source": [
    "df.isnull().sum()"
   ]
  },
  {
   "cell_type": "markdown",
   "metadata": {},
   "source": [
    "According to the offical documents, testing for the virus started in February. However,due to privacy concerns:\n",
    "1. The information is available from 11 March 2020.\n",
    "2. Ages have been divided to under 60 and 60 and over, and are published from 17 March until 14 April (before 17 March until 14 April age equals NULL)\n",
    "3. Sex is published from 22 March (before the date, sex was represented as NULL)"
   ]
  },
  {
   "cell_type": "code",
   "execution_count": 8,
   "metadata": {},
   "outputs": [
    {
     "data": {
      "image/png": "[encoded data removed]",
      "text/plain": [
       "<Figure size 432x288 with 1 Axes>"
      ]
     },
     "metadata": {
      "needs_background": "light"
     },
     "output_type": "display_data"
    }
   ],
   "source": [
    "plt.hist(df[df[\"gender\"].isnull()]['date'], bins = 10)\n",
    "plt.xticks(rotation='vertical');"
   ]
  },
  {
   "cell_type": "code",
   "execution_count": 9,
   "metadata": {},
   "outputs": [
    {
     "data": {
      "image/png": "[encoded data removed]",
      "text/plain": [
       "<Figure size 432x288 with 1 Axes>"
      ]
     },
     "metadata": {
      "needs_background": "light"
     },
     "output_type": "display_data"
    }
   ],
   "source": [
    "plt.hist(df[df[\"age\"].isnull()]['date'], bins = 10)\n",
    "plt.xticks(rotation='vertical');"
   ]
  },
  {
   "cell_type": "code",
   "execution_count": 10,
   "metadata": {},
   "outputs": [
    {
     "data": {
      "text/html": [
       "<div>\n",
       "<style scoped>\n",
       "    .dataframe tbody tr th:only-of-type {\n",
       "        vertical-align: middle;\n",
       "    }\n",
       "\n",
       "    .dataframe tbody tr th {\n",
       "        vertical-align: top;\n",
       "    }\n",
       "\n",
       "    .dataframe thead th {\n",
       "        text-align: right;\n",
       "    }\n",
       "</style>\n",
       "<table border=\"1\" class=\"dataframe\">\n",
       "  <thead>\n",
       "    <tr style=\"text-align: right;\">\n",
       "      <th></th>\n",
       "      <th>cough</th>\n",
       "      <th>fever</th>\n",
       "      <th>sore_throat</th>\n",
       "      <th>shortness_of_breath</th>\n",
       "      <th>head_ache</th>\n",
       "      <th>date</th>\n",
       "      <th>corona_result</th>\n",
       "      <th>age</th>\n",
       "      <th>gender</th>\n",
       "      <th>test_indication</th>\n",
       "    </tr>\n",
       "  </thead>\n",
       "  <tbody>\n",
       "    <tr>\n",
       "      <th>count</th>\n",
       "      <td>486659.000000</td>\n",
       "      <td>486659.000000</td>\n",
       "      <td>486659.000000</td>\n",
       "      <td>486659.000000</td>\n",
       "      <td>486659.000000</td>\n",
       "      <td>NaN</td>\n",
       "      <td>NaN</td>\n",
       "      <td>NaN</td>\n",
       "      <td>NaN</td>\n",
       "      <td>NaN</td>\n",
       "    </tr>\n",
       "    <tr>\n",
       "      <th>mean</th>\n",
       "      <td>0.005190</td>\n",
       "      <td>0.004886</td>\n",
       "      <td>0.001942</td>\n",
       "      <td>0.000271</td>\n",
       "      <td>0.003339</td>\n",
       "      <td>NaN</td>\n",
       "      <td>NaN</td>\n",
       "      <td>NaN</td>\n",
       "      <td>NaN</td>\n",
       "      <td>NaN</td>\n",
       "    </tr>\n",
       "    <tr>\n",
       "      <th>std</th>\n",
       "      <td>0.071858</td>\n",
       "      <td>0.069732</td>\n",
       "      <td>0.044023</td>\n",
       "      <td>0.016467</td>\n",
       "      <td>0.057688</td>\n",
       "      <td>NaN</td>\n",
       "      <td>NaN</td>\n",
       "      <td>NaN</td>\n",
       "      <td>NaN</td>\n",
       "      <td>NaN</td>\n",
       "    </tr>\n",
       "    <tr>\n",
       "      <th>min</th>\n",
       "      <td>0.000000</td>\n",
       "      <td>0.000000</td>\n",
       "      <td>0.000000</td>\n",
       "      <td>0.000000</td>\n",
       "      <td>0.000000</td>\n",
       "      <td>NaN</td>\n",
       "      <td>NaN</td>\n",
       "      <td>NaN</td>\n",
       "      <td>NaN</td>\n",
       "      <td>NaN</td>\n",
       "    </tr>\n",
       "    <tr>\n",
       "      <th>25%</th>\n",
       "      <td>0.000000</td>\n",
       "      <td>0.000000</td>\n",
       "      <td>0.000000</td>\n",
       "      <td>0.000000</td>\n",
       "      <td>0.000000</td>\n",
       "      <td>NaN</td>\n",
       "      <td>NaN</td>\n",
       "      <td>NaN</td>\n",
       "      <td>NaN</td>\n",
       "      <td>NaN</td>\n",
       "    </tr>\n",
       "    <tr>\n",
       "      <th>50%</th>\n",
       "      <td>0.000000</td>\n",
       "      <td>0.000000</td>\n",
       "      <td>0.000000</td>\n",
       "      <td>0.000000</td>\n",
       "      <td>0.000000</td>\n",
       "      <td>NaN</td>\n",
       "      <td>NaN</td>\n",
       "      <td>NaN</td>\n",
       "      <td>NaN</td>\n",
       "      <td>NaN</td>\n",
       "    </tr>\n",
       "    <tr>\n",
       "      <th>75%</th>\n",
       "      <td>0.000000</td>\n",
       "      <td>0.000000</td>\n",
       "      <td>0.000000</td>\n",
       "      <td>0.000000</td>\n",
       "      <td>0.000000</td>\n",
       "      <td>NaN</td>\n",
       "      <td>NaN</td>\n",
       "      <td>NaN</td>\n",
       "      <td>NaN</td>\n",
       "      <td>NaN</td>\n",
       "    </tr>\n",
       "    <tr>\n",
       "      <th>max</th>\n",
       "      <td>1.000000</td>\n",
       "      <td>1.000000</td>\n",
       "      <td>1.000000</td>\n",
       "      <td>1.000000</td>\n",
       "      <td>1.000000</td>\n",
       "      <td>NaN</td>\n",
       "      <td>NaN</td>\n",
       "      <td>NaN</td>\n",
       "      <td>NaN</td>\n",
       "      <td>NaN</td>\n",
       "    </tr>\n",
       "    <tr>\n",
       "      <th>mad</th>\n",
       "      <td>0.010327</td>\n",
       "      <td>0.009725</td>\n",
       "      <td>0.003876</td>\n",
       "      <td>0.000542</td>\n",
       "      <td>0.006656</td>\n",
       "      <td>NaN</td>\n",
       "      <td>NaN</td>\n",
       "      <td>NaN</td>\n",
       "      <td>NaN</td>\n",
       "      <td>NaN</td>\n",
       "    </tr>\n",
       "    <tr>\n",
       "      <th>skew</th>\n",
       "      <td>13.771940</td>\n",
       "      <td>14.200588</td>\n",
       "      <td>22.627156</td>\n",
       "      <td>60.694593</td>\n",
       "      <td>17.218816</td>\n",
       "      <td>NaN</td>\n",
       "      <td>NaN</td>\n",
       "      <td>NaN</td>\n",
       "      <td>NaN</td>\n",
       "      <td>NaN</td>\n",
       "    </tr>\n",
       "    <tr>\n",
       "      <th>kurt</th>\n",
       "      <td>187.667095</td>\n",
       "      <td>199.657521</td>\n",
       "      <td>509.990266</td>\n",
       "      <td>3681.848717</td>\n",
       "      <td>294.488850</td>\n",
       "      <td>NaN</td>\n",
       "      <td>NaN</td>\n",
       "      <td>NaN</td>\n",
       "      <td>NaN</td>\n",
       "      <td>NaN</td>\n",
       "    </tr>\n",
       "    <tr>\n",
       "      <th>nunique</th>\n",
       "      <td>2.000000</td>\n",
       "      <td>2.000000</td>\n",
       "      <td>2.000000</td>\n",
       "      <td>2.000000</td>\n",
       "      <td>2.000000</td>\n",
       "      <td>56.0</td>\n",
       "      <td>3.0</td>\n",
       "      <td>2.0</td>\n",
       "      <td>2.0</td>\n",
       "      <td>3.0</td>\n",
       "    </tr>\n",
       "  </tbody>\n",
       "</table>\n",
       "</div>"
      ],
      "text/plain": [
       "                 cough          fever    sore_throat  shortness_of_breath  \\\n",
       "count    486659.000000  486659.000000  486659.000000        486659.000000   \n",
       "mean          0.005190       0.004886       0.001942             0.000271   \n",
       "std           0.071858       0.069732       0.044023             0.016467   \n",
       "min           0.000000       0.000000       0.000000             0.000000   \n",
       "25%           0.000000       0.000000       0.000000             0.000000   \n",
       "50%           0.000000       0.000000       0.000000             0.000000   \n",
       "75%           0.000000       0.000000       0.000000             0.000000   \n",
       "max           1.000000       1.000000       1.000000             1.000000   \n",
       "mad           0.010327       0.009725       0.003876             0.000542   \n",
       "skew         13.771940      14.200588      22.627156            60.694593   \n",
       "kurt        187.667095     199.657521     509.990266          3681.848717   \n",
       "nunique       2.000000       2.000000       2.000000             2.000000   \n",
       "\n",
       "             head_ache  date  corona_result  age  gender  test_indication  \n",
       "count    486659.000000   NaN            NaN  NaN     NaN              NaN  \n",
       "mean          0.003339   NaN            NaN  NaN     NaN              NaN  \n",
       "std           0.057688   NaN            NaN  NaN     NaN              NaN  \n",
       "min           0.000000   NaN            NaN  NaN     NaN              NaN  \n",
       "25%           0.000000   NaN            NaN  NaN     NaN              NaN  \n",
       "50%           0.000000   NaN            NaN  NaN     NaN              NaN  \n",
       "75%           0.000000   NaN            NaN  NaN     NaN              NaN  \n",
       "max           1.000000   NaN            NaN  NaN     NaN              NaN  \n",
       "mad           0.006656   NaN            NaN  NaN     NaN              NaN  \n",
       "skew         17.218816   NaN            NaN  NaN     NaN              NaN  \n",
       "kurt        294.488850   NaN            NaN  NaN     NaN              NaN  \n",
       "nunique       2.000000  56.0            3.0  2.0     2.0              3.0  "
      ]
     },
     "execution_count": 10,
     "metadata": {},
     "output_type": "execute_result"
    }
   ],
   "source": [
    "pd.concat([\n",
    "    df.describe().T,\n",
    "    df.mad().rename('mad'),\n",
    "    df.skew().rename('skew'),\n",
    "    df.kurt().rename('kurt'),\n",
    "    df.nunique().rename('nunique')\n",
    "], axis=1).T"
   ]
  },
  {
   "cell_type": "code",
   "execution_count": 11,
   "metadata": {},
   "outputs": [
    {
     "data": {
      "text/plain": [
       "array(['שלילי', 'אחר', 'חיובי'], dtype=object)"
      ]
     },
     "execution_count": 11,
     "metadata": {},
     "output_type": "execute_result"
    }
   ],
   "source": [
    "df['corona_result'].unique() "
   ]
  },
  {
   "cell_type": "code",
   "execution_count": 12,
   "metadata": {},
   "outputs": [],
   "source": [
    "# replacing all the characters in Hebrew by English\n",
    "df['corona_result'] = df['corona_result'].str.replace('חיובי','Positive')\n",
    "df['corona_result'] = df['corona_result'].str.replace('אחר','Other')\n",
    "df['corona_result'] = df['corona_result'].str.replace('שלילי','Negative')\n",
    "\n",
    "df['gender'] = df['gender'].str.replace('נקבה','Female')\n",
    "df['gender'] = df['gender'].str.replace('זכר','Male')"
   ]
  },
  {
   "cell_type": "markdown",
   "metadata": {},
   "source": [
    "## 3 Data Understanding"
   ]
  },
  {
   "cell_type": "markdown",
   "metadata": {},
   "source": [
    "**BreakDown of Class**"
   ]
  },
  {
   "cell_type": "code",
   "execution_count": 13,
   "metadata": {},
   "outputs": [
    {
     "data": {
      "image/png": "[encoded data removed]",
      "text/plain": [
       "<Figure size 360x360 with 1 Axes>"
      ]
     },
     "metadata": {
      "needs_background": "light"
     },
     "output_type": "display_data"
    }
   ],
   "source": [
    "plt.figure(figsize=(5,5))\n",
    "corona_result = sns.countplot(df['corona_result'],label=\"Count\")\n",
    "\n",
    "for p in corona_result.patches:\n",
    "    height = p.get_height()\n",
    "    corona_result.text(p.get_x()+p.get_width()/2., height + 0.1,height ,ha=\"center\")"
   ]
  },
  {
   "cell_type": "markdown",
   "metadata": {},
   "source": [
    "The class lable is highly imbalanced. The proportion of positive instances is less than **1%**. We need to be cautious about this."
   ]
  },
  {
   "cell_type": "markdown",
   "metadata": {},
   "source": [
    "**BreakDown of feature distribution**"
   ]
  },
  {
   "cell_type": "code",
   "execution_count": 14,
   "metadata": {},
   "outputs": [
    {
     "data": {
      "image/png": "[encoded data removed]",
      "text/plain": [
       "<Figure size 360x216 with 1 Axes>"
      ]
     },
     "metadata": {
      "needs_background": "light"
     },
     "output_type": "display_data"
    }
   ],
   "source": [
    "df.plot.box(figsize=(5, 3)) # visualize the feature distribution\n",
    "plt.xticks(rotation='vertical');\n",
    "# the value distribution of 5 numeric features are highly skewed with over 75% being 0."
   ]
  },
  {
   "cell_type": "markdown",
   "metadata": {},
   "source": [
    "**BreakDown of cough**"
   ]
  },
  {
   "cell_type": "code",
   "execution_count": 15,
   "metadata": {},
   "outputs": [
    {
     "data": {
      "image/png": "[encoded data removed]",
      "text/plain": [
       "<Figure size 360x360 with 1 Axes>"
      ]
     },
     "metadata": {
      "needs_background": "light"
     },
     "output_type": "display_data"
    }
   ],
   "source": [
    "plt.figure(figsize=(5,5))\n",
    "cough = sns.countplot(data=df, x=\"cough\")\n",
    "\n",
    "for p in cough.patches:\n",
    "    height = p.get_height()\n",
    "    cough.text(p.get_x()+p.get_width()/2., height + 0.1,height ,ha=\"center\")"
   ]
  },
  {
   "cell_type": "code",
   "execution_count": 16,
   "metadata": {},
   "outputs": [
    {
     "data": {
      "image/png": "[encoded data removed]",
      "text/plain": [
       "<Figure size 1512x360 with 3 Axes>"
      ]
     },
     "metadata": {
      "needs_background": "light"
     },
     "output_type": "display_data"
    }
   ],
   "source": [
    "f, axes = plt.subplots(1, 3, figsize=(21,5))\n",
    "positive = sns.countplot(df[df['corona_result'] == 'Positive'][\"cough\"], ax=axes[0]) \n",
    "axes[0].set_title(\"Positive Corona Results versus Cough\")\n",
    "for p in positive.patches:\n",
    "    height = p.get_height()\n",
    "    positive.text(p.get_x()+p.get_width()/2., height + 0.1,height ,ha=\"center\")\n",
    "\n",
    "# we don't need kernel desity estimate because the feature is discrete.\n",
    "negative = sns.countplot(df[df['corona_result'] == 'Negative'][\"cough\"], ax=axes[1])\n",
    "axes[1].set_title('Negative Corona Results versus Cough')\n",
    "for p in negative.patches:\n",
    "    height = p.get_height()\n",
    "    negative.text(p.get_x()+p.get_width()/2., height + 0.1,height ,ha=\"center\")\n",
    "\n",
    "other = sns.countplot(df[df['corona_result'] == 'Other'][\"cough\"], ax=axes[2])\n",
    "axes[2].set_title('Other Corona Results versus Cough')\n",
    "for p in other.patches:\n",
    "    height = p.get_height()\n",
    "    other.text(p.get_x()+p.get_width()/2., height + 0.1,height ,ha=\"center\")\n",
    "\n",
    "plt.show()\n"
   ]
  },
  {
   "cell_type": "markdown",
   "metadata": {},
   "source": [
    "**BreakDown of fever**"
   ]
  },
  {
   "cell_type": "code",
   "execution_count": 17,
   "metadata": {
    "scrolled": false
   },
   "outputs": [
    {
     "data": {
      "image/png": "[encoded data removed]",
      "text/plain": [
       "<Figure size 360x360 with 1 Axes>"
      ]
     },
     "metadata": {
      "needs_background": "light"
     },
     "output_type": "display_data"
    }
   ],
   "source": [
    "plt.figure(figsize=(5,5))\n",
    "fever = sns.countplot(data=df, x=\"fever\")\n",
    "\n",
    "for p in fever.patches:\n",
    "    height = p.get_height()\n",
    "    fever.text(p.get_x()+p.get_width()/2., height + 0.1,height ,ha=\"center\")"
   ]
  },
  {
   "cell_type": "code",
   "execution_count": 18,
   "metadata": {},
   "outputs": [
    {
     "data": {
      "image/png": "[encoded data removed]",
      "text/plain": [
       "<Figure size 1512x360 with 3 Axes>"
      ]
     },
     "metadata": {
      "needs_background": "light"
     },
     "output_type": "display_data"
    }
   ],
   "source": [
    "f, axes = plt.subplots(1, 3, figsize=(21,5))\n",
    "\n",
    "positive = sns.countplot(df[df['corona_result'] == 'Positive'][\"fever\"], ax=axes[0]) \n",
    "axes[0].set_title(\"Positive Corona Results versus fever\")\n",
    "for p in positive.patches:\n",
    "    height = p.get_height()\n",
    "    positive.text(p.get_x()+p.get_width()/2., height + 0.1,height ,ha=\"center\")\n",
    "\n",
    "# we don't need kernel desity estimate because the feature is discrete.\n",
    "negative = sns.countplot(df[df['corona_result'] == 'Negative'][\"fever\"], ax=axes[1])\n",
    "axes[1].set_title('Negative Corona Results versus fever')\n",
    "for p in negative.patches:\n",
    "    height = p.get_height()\n",
    "    negative.text(p.get_x()+p.get_width()/2., height + 0.1,height ,ha=\"center\")\n",
    "\n",
    "other = sns.countplot(df[df['corona_result'] == 'Other'][\"fever\"], ax=axes[2])\n",
    "axes[2].set_title('Other Corona Results versus fever')\n",
    "for p in other.patches:\n",
    "    height = p.get_height()\n",
    "    other.text(p.get_x()+p.get_width()/2., height + 0.1,height ,ha=\"center\")\n",
    "\n",
    "plt.show()\n"
   ]
  },
  {
   "cell_type": "markdown",
   "metadata": {},
   "source": [
    "**BreakDown of sore_throat**"
   ]
  },
  {
   "cell_type": "code",
   "execution_count": 19,
   "metadata": {},
   "outputs": [
    {
     "data": {
      "image/png": "[encoded data removed]",
      "text/plain": [
       "<Figure size 360x360 with 1 Axes>"
      ]
     },
     "metadata": {
      "needs_background": "light"
     },
     "output_type": "display_data"
    }
   ],
   "source": [
    "plt.figure(figsize=(5,5))\n",
    "sore_throat = sns.countplot(data=df, x=\"sore_throat\")\n",
    "\n",
    "for p in sore_throat.patches:\n",
    "    height = p.get_height()\n",
    "    sore_throat.text(p.get_x()+p.get_width()/2., height + 0.1,height ,ha=\"center\")\n",
    "\n"
   ]
  },
  {
   "cell_type": "code",
   "execution_count": 20,
   "metadata": {},
   "outputs": [
    {
     "data": {
      "image/png": "[encoded data removed]",
      "text/plain": [
       "<Figure size 1512x360 with 3 Axes>"
      ]
     },
     "metadata": {
      "needs_background": "light"
     },
     "output_type": "display_data"
    }
   ],
   "source": [
    "f, axes = plt.subplots(1, 3, figsize=(21,5))\n",
    "\n",
    "positive = sns.countplot(df[df['corona_result'] == 'Positive'][\"sore_throat\"], ax=axes[0]) \n",
    "axes[0].set_title(\"Positive Corona Results versus sore_throat\")\n",
    "for p in positive.patches:\n",
    "    height = p.get_height()\n",
    "    positive.text(p.get_x()+p.get_width()/2., height + 0.1,height ,ha=\"center\")\n",
    "\n",
    "# we don't need kernel desity estimate because the feature is discrete.\n",
    "negative = sns.countplot(df[df['corona_result'] == 'Negative'][\"sore_throat\"], ax=axes[1])\n",
    "axes[1].set_title('Negative Corona Results versus sore_throat')\n",
    "for p in negative.patches:\n",
    "    height = p.get_height()\n",
    "    negative.text(p.get_x()+p.get_width()/2., height + 0.1,height ,ha=\"center\")\n",
    "\n",
    "other = sns.countplot(df[df['corona_result'] == 'Other'][\"sore_throat\"], ax=axes[2])\n",
    "axes[2].set_title('Other Corona Results versus sore_throat')\n",
    "for p in other.patches:\n",
    "    height = p.get_height()\n",
    "    other.text(p.get_x()+p.get_width()/2., height + 0.1,height ,ha=\"center\")\n",
    "\n",
    "plt.show()\n"
   ]
  },
  {
   "cell_type": "markdown",
   "metadata": {},
   "source": [
    "**BreakDown of shortness_of_breath**"
   ]
  },
  {
   "cell_type": "code",
   "execution_count": 21,
   "metadata": {},
   "outputs": [
    {
     "data": {
      "image/png": "[encoded data removed]",
      "text/plain": [
       "<Figure size 360x360 with 1 Axes>"
      ]
     },
     "metadata": {
      "needs_background": "light"
     },
     "output_type": "display_data"
    }
   ],
   "source": [
    "plt.figure(figsize=(5,5))\n",
    "shortness_of_breath = sns.countplot(data=df, x=\"shortness_of_breath\")\n",
    "\n",
    "for p in shortness_of_breath.patches:\n",
    "    height = p.get_height()\n",
    "    shortness_of_breath.text(p.get_x()+p.get_width()/2., height + 0.1,height ,ha=\"center\")\n",
    "plt.show()"
   ]
  },
  {
   "cell_type": "code",
   "execution_count": 22,
   "metadata": {},
   "outputs": [
    {
     "data": {
      "image/png": "[encoded data removed]",
      "text/plain": [
       "<Figure size 1512x360 with 3 Axes>"
      ]
     },
     "metadata": {
      "needs_background": "light"
     },
     "output_type": "display_data"
    }
   ],
   "source": [
    "f, axes = plt.subplots(1, 3, figsize=(21,5))\n",
    "\n",
    "positive = sns.countplot(df[df['corona_result'] == 'Positive'][\"shortness_of_breath\"], ax=axes[0]) \n",
    "axes[0].set_title(\"Positive Corona Results versus shortness_of_breath\")\n",
    "for p in positive.patches:\n",
    "    height = p.get_height()\n",
    "    positive.text(p.get_x()+p.get_width()/2., height + 0.1,height ,ha=\"center\")\n",
    "\n",
    "# we don't need kernel desity estimate because the feature is discrete.\n",
    "negative = sns.countplot(df[df['corona_result'] == 'Negative'][\"shortness_of_breath\"], ax=axes[1])\n",
    "axes[1].set_title('Negative Corona Results versus shortness_of_breath')\n",
    "for p in negative.patches:\n",
    "    height = p.get_height()\n",
    "    negative.text(p.get_x()+p.get_width()/2., height + 0.1,height ,ha=\"center\")\n",
    "\n",
    "other = sns.countplot(df[df['corona_result'] == 'Other'][\"shortness_of_breath\"], ax=axes[2])\n",
    "axes[2].set_title('Other Corona Results versus shortness_of_breath')\n",
    "for p in other.patches:\n",
    "    height = p.get_height()\n",
    "    other.text(p.get_x()+p.get_width()/2., height + 0.1,height ,ha=\"center\")\n",
    "\n",
    "plt.show()\n"
   ]
  },
  {
   "cell_type": "markdown",
   "metadata": {},
   "source": [
    "**BreakDown of head_ache**"
   ]
  },
  {
   "cell_type": "code",
   "execution_count": 23,
   "metadata": {},
   "outputs": [
    {
     "data": {
      "image/png": "[encoded data removed]",
      "text/plain": [
       "<Figure size 360x360 with 1 Axes>"
      ]
     },
     "metadata": {
      "needs_background": "light"
     },
     "output_type": "display_data"
    }
   ],
   "source": [
    "plt.figure(figsize=(5,5))\n",
    "head_ache = sns.countplot(data=df, x=\"head_ache\")\n",
    "\n",
    "for p in head_ache.patches:\n",
    "    height = p.get_height()\n",
    "    head_ache.text(p.get_x()+p.get_width()/2., height + 0.1,height ,ha=\"center\")\n",
    "plt.show()"
   ]
  },
  {
   "cell_type": "code",
   "execution_count": 24,
   "metadata": {},
   "outputs": [
    {
     "data": {
      "image/png": "[encoded data removed]",
      "text/plain": [
       "<Figure size 1512x360 with 3 Axes>"
      ]
     },
     "metadata": {
      "needs_background": "light"
     },
     "output_type": "display_data"
    }
   ],
   "source": [
    "f, axes = plt.subplots(1, 3, figsize=(21,5))\n",
    "\n",
    "positive = sns.countplot(df[df['corona_result'] == 'Positive'][\"head_ache\"], ax=axes[0]) \n",
    "axes[0].set_title(\"Positive Corona Results versus head_ache\")\n",
    "for p in positive.patches:\n",
    "    height = p.get_height()\n",
    "    positive.text(p.get_x()+p.get_width()/2., height + 0.1,height ,ha=\"center\")\n",
    "\n",
    "# we don't need kernel desity estimate because the feature is discrete.\n",
    "negative = sns.countplot(df[df['corona_result'] == 'Negative'][\"head_ache\"], ax=axes[1])\n",
    "axes[1].set_title('Negative Corona Results versus head_ache')\n",
    "for p in negative.patches:\n",
    "    height = p.get_height()\n",
    "    negative.text(p.get_x()+p.get_width()/2., height + 0.1,height ,ha=\"center\")\n",
    "\n",
    "other = sns.countplot(df[df['corona_result'] == 'Other'][\"head_ache\"], ax=axes[2])\n",
    "axes[2].set_title('Other Corona Results versus head_ache')\n",
    "for p in other.patches:\n",
    "    height = p.get_height()\n",
    "    other.text(p.get_x()+p.get_width()/2., height + 0.1,height ,ha=\"center\")\n",
    "\n",
    "plt.show()"
   ]
  },
  {
   "cell_type": "markdown",
   "metadata": {},
   "source": [
    "**Corona Result along with time**"
   ]
  },
  {
   "cell_type": "code",
   "execution_count": 25,
   "metadata": {},
   "outputs": [],
   "source": [
    "matplotlib.style.use('seaborn-white')"
   ]
  },
  {
   "cell_type": "code",
   "execution_count": 26,
   "metadata": {},
   "outputs": [
    {
     "data": {
      "text/html": [
       "<div>\n",
       "<style scoped>\n",
       "    .dataframe tbody tr th:only-of-type {\n",
       "        vertical-align: middle;\n",
       "    }\n",
       "\n",
       "    .dataframe tbody tr th {\n",
       "        vertical-align: top;\n",
       "    }\n",
       "\n",
       "    .dataframe thead th {\n",
       "        text-align: right;\n",
       "    }\n",
       "</style>\n",
       "<table border=\"1\" class=\"dataframe\">\n",
       "  <thead>\n",
       "    <tr style=\"text-align: right;\">\n",
       "      <th></th>\n",
       "      <th>date</th>\n",
       "      <th>cough</th>\n",
       "      <th>fever</th>\n",
       "      <th>sore_throat</th>\n",
       "      <th>shortness_of_breath</th>\n",
       "      <th>head_ache</th>\n",
       "      <th>corona_result</th>\n",
       "      <th>age</th>\n",
       "      <th>gender</th>\n",
       "      <th>test_indication</th>\n",
       "    </tr>\n",
       "  </thead>\n",
       "  <tbody>\n",
       "    <tr>\n",
       "      <th>0</th>\n",
       "      <td>2021-07-25</td>\n",
       "      <td>0</td>\n",
       "      <td>0</td>\n",
       "      <td>0</td>\n",
       "      <td>0</td>\n",
       "      <td>0</td>\n",
       "      <td>Negative</td>\n",
       "      <td>No</td>\n",
       "      <td>Female</td>\n",
       "      <td>Other</td>\n",
       "    </tr>\n",
       "    <tr>\n",
       "      <th>1</th>\n",
       "      <td>2021-07-25</td>\n",
       "      <td>0</td>\n",
       "      <td>0</td>\n",
       "      <td>0</td>\n",
       "      <td>0</td>\n",
       "      <td>0</td>\n",
       "      <td>Negative</td>\n",
       "      <td>No</td>\n",
       "      <td>Female</td>\n",
       "      <td>Other</td>\n",
       "    </tr>\n",
       "    <tr>\n",
       "      <th>2</th>\n",
       "      <td>2021-07-25</td>\n",
       "      <td>1</td>\n",
       "      <td>1</td>\n",
       "      <td>1</td>\n",
       "      <td>0</td>\n",
       "      <td>1</td>\n",
       "      <td>Other</td>\n",
       "      <td>No</td>\n",
       "      <td>Female</td>\n",
       "      <td>Abroad</td>\n",
       "    </tr>\n",
       "    <tr>\n",
       "      <th>3</th>\n",
       "      <td>2021-07-25</td>\n",
       "      <td>0</td>\n",
       "      <td>0</td>\n",
       "      <td>0</td>\n",
       "      <td>0</td>\n",
       "      <td>0</td>\n",
       "      <td>Negative</td>\n",
       "      <td>No</td>\n",
       "      <td>Male</td>\n",
       "      <td>Other</td>\n",
       "    </tr>\n",
       "    <tr>\n",
       "      <th>4</th>\n",
       "      <td>2021-07-25</td>\n",
       "      <td>0</td>\n",
       "      <td>0</td>\n",
       "      <td>0</td>\n",
       "      <td>0</td>\n",
       "      <td>0</td>\n",
       "      <td>Negative</td>\n",
       "      <td>No</td>\n",
       "      <td>Female</td>\n",
       "      <td>Other</td>\n",
       "    </tr>\n",
       "    <tr>\n",
       "      <th>...</th>\n",
       "      <td>...</td>\n",
       "      <td>...</td>\n",
       "      <td>...</td>\n",
       "      <td>...</td>\n",
       "      <td>...</td>\n",
       "      <td>...</td>\n",
       "      <td>...</td>\n",
       "      <td>...</td>\n",
       "      <td>...</td>\n",
       "      <td>...</td>\n",
       "    </tr>\n",
       "    <tr>\n",
       "      <th>486654</th>\n",
       "      <td>2021-05-31</td>\n",
       "      <td>0</td>\n",
       "      <td>0</td>\n",
       "      <td>0</td>\n",
       "      <td>0</td>\n",
       "      <td>0</td>\n",
       "      <td>Negative</td>\n",
       "      <td>NaN</td>\n",
       "      <td>NaN</td>\n",
       "      <td>Other</td>\n",
       "    </tr>\n",
       "    <tr>\n",
       "      <th>486655</th>\n",
       "      <td>2021-05-31</td>\n",
       "      <td>0</td>\n",
       "      <td>0</td>\n",
       "      <td>0</td>\n",
       "      <td>0</td>\n",
       "      <td>0</td>\n",
       "      <td>Negative</td>\n",
       "      <td>NaN</td>\n",
       "      <td>NaN</td>\n",
       "      <td>Other</td>\n",
       "    </tr>\n",
       "    <tr>\n",
       "      <th>486656</th>\n",
       "      <td>2021-05-31</td>\n",
       "      <td>0</td>\n",
       "      <td>0</td>\n",
       "      <td>0</td>\n",
       "      <td>0</td>\n",
       "      <td>0</td>\n",
       "      <td>Negative</td>\n",
       "      <td>NaN</td>\n",
       "      <td>NaN</td>\n",
       "      <td>Other</td>\n",
       "    </tr>\n",
       "    <tr>\n",
       "      <th>486657</th>\n",
       "      <td>2021-05-31</td>\n",
       "      <td>0</td>\n",
       "      <td>0</td>\n",
       "      <td>0</td>\n",
       "      <td>0</td>\n",
       "      <td>0</td>\n",
       "      <td>Negative</td>\n",
       "      <td>NaN</td>\n",
       "      <td>NaN</td>\n",
       "      <td>Other</td>\n",
       "    </tr>\n",
       "    <tr>\n",
       "      <th>486658</th>\n",
       "      <td>2021-05-31</td>\n",
       "      <td>0</td>\n",
       "      <td>0</td>\n",
       "      <td>0</td>\n",
       "      <td>0</td>\n",
       "      <td>0</td>\n",
       "      <td>Negative</td>\n",
       "      <td>NaN</td>\n",
       "      <td>NaN</td>\n",
       "      <td>Other</td>\n",
       "    </tr>\n",
       "  </tbody>\n",
       "</table>\n",
       "<p>486659 rows × 10 columns</p>\n",
       "</div>"
      ],
      "text/plain": [
       "             date  cough  fever  sore_throat  shortness_of_breath  head_ache  \\\n",
       "0      2021-07-25      0      0            0                    0          0   \n",
       "1      2021-07-25      0      0            0                    0          0   \n",
       "2      2021-07-25      1      1            1                    0          1   \n",
       "3      2021-07-25      0      0            0                    0          0   \n",
       "4      2021-07-25      0      0            0                    0          0   \n",
       "...           ...    ...    ...          ...                  ...        ...   \n",
       "486654 2021-05-31      0      0            0                    0          0   \n",
       "486655 2021-05-31      0      0            0                    0          0   \n",
       "486656 2021-05-31      0      0            0                    0          0   \n",
       "486657 2021-05-31      0      0            0                    0          0   \n",
       "486658 2021-05-31      0      0            0                    0          0   \n",
       "\n",
       "       corona_result  age  gender test_indication  \n",
       "0           Negative   No  Female           Other  \n",
       "1           Negative   No  Female           Other  \n",
       "2              Other   No  Female          Abroad  \n",
       "3           Negative   No    Male           Other  \n",
       "4           Negative   No  Female           Other  \n",
       "...              ...  ...     ...             ...  \n",
       "486654      Negative  NaN     NaN           Other  \n",
       "486655      Negative  NaN     NaN           Other  \n",
       "486656      Negative  NaN     NaN           Other  \n",
       "486657      Negative  NaN     NaN           Other  \n",
       "486658      Negative  NaN     NaN           Other  \n",
       "\n",
       "[486659 rows x 10 columns]"
      ]
     },
     "execution_count": 26,
     "metadata": {},
     "output_type": "execute_result"
    }
   ],
   "source": [
    "df"
   ]
  },
  {
   "cell_type": "code",
   "execution_count": 1,
   "metadata": {
    "scrolled": true
   },
   "outputs": [
    {
     "ename": "NameError",
     "evalue": "name 'df' is not defined",
     "output_type": "error",
     "traceback": [
      "\u001b[0;31m---------------------------------------------------------------------------\u001b[0m",
      "\u001b[0;31mNameError\u001b[0m                                 Traceback (most recent call last)",
      "\u001b[0;32m<ipython-input-1-b89f0f9bcfdc>\u001b[0m in \u001b[0;36m<module>\u001b[0;34m\u001b[0m\n\u001b[0;32m----> 1\u001b[0;31m \u001b[0mdf\u001b[0m\u001b[0;34m[\u001b[0m\u001b[0mdf\u001b[0m\u001b[0;34m[\u001b[0m\u001b[0;34m'corona_result'\u001b[0m\u001b[0;34m]\u001b[0m \u001b[0;34m==\u001b[0m \u001b[0;34m\"Positive\"\u001b[0m\u001b[0;34m]\u001b[0m\u001b[0;34m.\u001b[0m\u001b[0mgroupby\u001b[0m\u001b[0;34m(\u001b[0m\u001b[0;34m'date'\u001b[0m\u001b[0;34m)\u001b[0m\u001b[0;34m.\u001b[0m\u001b[0msize\u001b[0m\u001b[0;34m(\u001b[0m\u001b[0;34m)\u001b[0m\u001b[0;34m.\u001b[0m\u001b[0mplot\u001b[0m\u001b[0;34m(\u001b[0m\u001b[0mfigsize\u001b[0m\u001b[0;34m=\u001b[0m\u001b[0;34m(\u001b[0m\u001b[0;36m20\u001b[0m\u001b[0;34m,\u001b[0m \u001b[0;36m5\u001b[0m\u001b[0;34m)\u001b[0m\u001b[0;34m,\u001b[0m \u001b[0mtitle\u001b[0m\u001b[0;34m=\u001b[0m\u001b[0;34m\"Number of Positive COVID Test\"\u001b[0m\u001b[0;34m)\u001b[0m\u001b[0;34m;\u001b[0m\u001b[0;34m\u001b[0m\u001b[0;34m\u001b[0m\u001b[0m\n\u001b[0m",
      "\u001b[0;31mNameError\u001b[0m: name 'df' is not defined"
     ]
    }
   ],
   "source": [
    "df[df['corona_result'] == \"Positive\"].groupby('date').size().plot(figsize=(20, 5), title=\"Number of Positive COVID Test\");\n"
   ]
  },
  {
   "cell_type": "code",
   "execution_count": 28,
   "metadata": {},
   "outputs": [
    {
     "data": {
      "image/png": "[encoded data removed]",
      "text/plain": [
       "<Figure size 1440x360 with 1 Axes>"
      ]
     },
     "metadata": {},
     "output_type": "display_data"
    }
   ],
   "source": [
    "df[df['corona_result'] == \"Negative\"].groupby('date').size().plot(figsize=(20, 5), title=\"Number of Negative COVID Test\");"
   ]
  },
  {
   "cell_type": "code",
   "execution_count": 29,
   "metadata": {
    "scrolled": true
   },
   "outputs": [
    {
     "data": {
      "image/png": "[encoded data removed]",
      "text/plain": [
       "<Figure size 1440x360 with 1 Axes>"
      ]
     },
     "metadata": {},
     "output_type": "display_data"
    }
   ],
   "source": [
    "df[df['corona_result'] == \"Other\"].groupby('date').size().plot(figsize=(20, 5), title=\"Number of Other COVID Test\");"
   ]
  },
  {
   "cell_type": "code",
   "execution_count": 30,
   "metadata": {},
   "outputs": [
    {
     "data": {
      "image/png": "[encoded data removed]",
      "text/plain": [
       "<Figure size 1440x360 with 1 Axes>"
      ]
     },
     "metadata": {},
     "output_type": "display_data"
    }
   ],
   "source": [
    "import pandas as pd, datetime as dt\n",
    "\n",
    "df_weekly = pd.DataFrame(df.apply(lambda row: row['date'] - dt.timedelta(days=row['date'].weekday()), axis=1), columns = ['WeekDate'])\n",
    "df_weekly['WeekDate'] = pd.to_datetime(df_weekly['WeekDate']).dt.date\n",
    "\n",
    "perweek = df_weekly['WeekDate'].groupby(df_weekly['WeekDate']).count()\n",
    "perweek.plot(kind=\"bar\", figsize=(20, 5));\n",
    "plt.title(\"Total COVID Test Per Week\")\n",
    "plt.xlabel(\"Week Date\")\n",
    "plt.ylabel(\"Test Counts\")\n",
    "plt.show()"
   ]
  },
  {
   "cell_type": "markdown",
   "metadata": {},
   "source": [
    "Combining what we have analyzed above, the volume of test cases varies week by week but is generally trending upwards."
   ]
  },
  {
   "cell_type": "markdown",
   "metadata": {},
   "source": [
    "## 4 Data Preprocessing"
   ]
  },
  {
   "cell_type": "markdown",
   "metadata": {},
   "source": [
    "**Remove the instances with results of *Others* (not tested, testing)**"
   ]
  },
  {
   "cell_type": "code",
   "execution_count": 31,
   "metadata": {},
   "outputs": [],
   "source": [
    "df = df[df['corona_result'] != 'Other']\n",
    "df = df.drop(\"date\", axis = 1)"
   ]
  },
  {
   "cell_type": "markdown",
   "metadata": {},
   "source": [
    "### Imputation"
   ]
  },
  {
   "cell_type": "code",
   "execution_count": 32,
   "metadata": {},
   "outputs": [
    {
     "data": {
      "text/plain": [
       "'2 features have missing values.'"
      ]
     },
     "execution_count": 32,
     "metadata": {},
     "output_type": "execute_result"
    }
   ],
   "source": [
    "# How many features have missing values?\n",
    "n_missing = len(df.columns[df.isnull().any()])\n",
    "\"{} features have missing values.\".format(n_missing)"
   ]
  },
  {
   "cell_type": "code",
   "execution_count": 33,
   "metadata": {
    "scrolled": true
   },
   "outputs": [
    {
     "data": {
      "text/html": [
       "<div>\n",
       "<style scoped>\n",
       "    .dataframe tbody tr th:only-of-type {\n",
       "        vertical-align: middle;\n",
       "    }\n",
       "\n",
       "    .dataframe tbody tr th {\n",
       "        vertical-align: top;\n",
       "    }\n",
       "\n",
       "    .dataframe thead th {\n",
       "        text-align: right;\n",
       "    }\n",
       "</style>\n",
       "<table border=\"1\" class=\"dataframe\">\n",
       "  <thead>\n",
       "    <tr style=\"text-align: right;\">\n",
       "      <th></th>\n",
       "      <th>Total</th>\n",
       "      <th>Percent</th>\n",
       "    </tr>\n",
       "  </thead>\n",
       "  <tbody>\n",
       "    <tr>\n",
       "      <th>age</th>\n",
       "      <td>275466</td>\n",
       "      <td>0.592103</td>\n",
       "    </tr>\n",
       "    <tr>\n",
       "      <th>gender</th>\n",
       "      <td>208245</td>\n",
       "      <td>0.447614</td>\n",
       "    </tr>\n",
       "  </tbody>\n",
       "</table>\n",
       "</div>"
      ],
      "text/plain": [
       "         Total   Percent\n",
       "age     275466  0.592103\n",
       "gender  208245  0.447614"
      ]
     },
     "execution_count": 33,
     "metadata": {},
     "output_type": "execute_result"
    }
   ],
   "source": [
    "keys = ['Total', 'Percent']\n",
    "\n",
    "null_total = df.isnull().sum().sort_values(ascending=False)\n",
    "null_percent = (df.isnull().sum() /df.isnull().count())\n",
    "\n",
    "df_missing = pd.concat([null_total, null_percent], axis=1, keys=keys, sort=False)\n",
    "df_missing = df_missing.sort_values(by='Percent', ascending=False)\n",
    "df_missing.head(n_missing)"
   ]
  },
  {
   "cell_type": "markdown",
   "metadata": {},
   "source": [
    "The percentage of the missing values is large. We will test on filled and dropped datasets and see if one improves the accuracy"
   ]
  },
  {
   "cell_type": "code",
   "execution_count": 34,
   "metadata": {},
   "outputs": [
    {
     "data": {
      "text/html": [
       "<div>\n",
       "<style scoped>\n",
       "    .dataframe tbody tr th:only-of-type {\n",
       "        vertical-align: middle;\n",
       "    }\n",
       "\n",
       "    .dataframe tbody tr th {\n",
       "        vertical-align: top;\n",
       "    }\n",
       "\n",
       "    .dataframe thead th {\n",
       "        text-align: right;\n",
       "    }\n",
       "</style>\n",
       "<table border=\"1\" class=\"dataframe\">\n",
       "  <thead>\n",
       "    <tr style=\"text-align: right;\">\n",
       "      <th></th>\n",
       "      <th>cough</th>\n",
       "      <th>fever</th>\n",
       "      <th>sore_throat</th>\n",
       "      <th>shortness_of_breath</th>\n",
       "      <th>head_ache</th>\n",
       "      <th>age</th>\n",
       "      <th>gender</th>\n",
       "      <th>test_indication</th>\n",
       "    </tr>\n",
       "  </thead>\n",
       "  <tbody>\n",
       "    <tr>\n",
       "      <th>0</th>\n",
       "      <td>0</td>\n",
       "      <td>0</td>\n",
       "      <td>0</td>\n",
       "      <td>0</td>\n",
       "      <td>0</td>\n",
       "      <td>No</td>\n",
       "      <td>Female</td>\n",
       "      <td>Other</td>\n",
       "    </tr>\n",
       "    <tr>\n",
       "      <th>1</th>\n",
       "      <td>0</td>\n",
       "      <td>0</td>\n",
       "      <td>0</td>\n",
       "      <td>0</td>\n",
       "      <td>0</td>\n",
       "      <td>No</td>\n",
       "      <td>Female</td>\n",
       "      <td>Other</td>\n",
       "    </tr>\n",
       "    <tr>\n",
       "      <th>3</th>\n",
       "      <td>0</td>\n",
       "      <td>0</td>\n",
       "      <td>0</td>\n",
       "      <td>0</td>\n",
       "      <td>0</td>\n",
       "      <td>No</td>\n",
       "      <td>Male</td>\n",
       "      <td>Other</td>\n",
       "    </tr>\n",
       "    <tr>\n",
       "      <th>4</th>\n",
       "      <td>0</td>\n",
       "      <td>0</td>\n",
       "      <td>0</td>\n",
       "      <td>0</td>\n",
       "      <td>0</td>\n",
       "      <td>No</td>\n",
       "      <td>Female</td>\n",
       "      <td>Other</td>\n",
       "    </tr>\n",
       "    <tr>\n",
       "      <th>5</th>\n",
       "      <td>0</td>\n",
       "      <td>0</td>\n",
       "      <td>0</td>\n",
       "      <td>0</td>\n",
       "      <td>0</td>\n",
       "      <td>No</td>\n",
       "      <td>Missing</td>\n",
       "      <td>Other</td>\n",
       "    </tr>\n",
       "  </tbody>\n",
       "</table>\n",
       "</div>"
      ],
      "text/plain": [
       "   cough  fever  sore_throat  shortness_of_breath  head_ache age   gender  \\\n",
       "0      0      0            0                    0          0  No   Female   \n",
       "1      0      0            0                    0          0  No   Female   \n",
       "3      0      0            0                    0          0  No     Male   \n",
       "4      0      0            0                    0          0  No   Female   \n",
       "5      0      0            0                    0          0  No  Missing   \n",
       "\n",
       "  test_indication  \n",
       "0           Other  \n",
       "1           Other  \n",
       "3           Other  \n",
       "4           Other  \n",
       "5           Other  "
      ]
     },
     "execution_count": 34,
     "metadata": {},
     "output_type": "execute_result"
    }
   ],
   "source": [
    "# replace the missing value\n",
    "X_filled = df.copy().drop(\"corona_result\", axis = 1)\n",
    "y_filled = df.copy()[\"corona_result\"]\n",
    "X_filled_nom = X_filled.select_dtypes(include=[object])\n",
    "X_filled_num = X_filled.select_dtypes(include=[np.number])\n",
    "\n",
    "X_filled[X_filled_nom.columns] = X_filled_nom.fillna('Missing')\n",
    "X_filled.head()"
   ]
  },
  {
   "cell_type": "code",
   "execution_count": 35,
   "metadata": {},
   "outputs": [],
   "source": [
    "# drop the rows with missing value\n",
    "df_dropped = df.dropna(how = 'any', axis=0)\n",
    "X_dropped = df_dropped.drop(\"corona_result\", axis = 1)\n",
    "y_dropped = df_dropped[\"corona_result\"]"
   ]
  },
  {
   "cell_type": "code",
   "execution_count": 36,
   "metadata": {},
   "outputs": [
    {
     "data": {
      "text/plain": [
       "'0 features have missing values.'"
      ]
     },
     "execution_count": 36,
     "metadata": {},
     "output_type": "execute_result"
    }
   ],
   "source": [
    "n_missing = len(X_dropped.columns[X_dropped.isnull().any()])\n",
    "\"{} features have missing values.\".format(n_missing)"
   ]
  },
  {
   "cell_type": "markdown",
   "metadata": {},
   "source": [
    "### Encoding"
   ]
  },
  {
   "cell_type": "code",
   "execution_count": 37,
   "metadata": {},
   "outputs": [],
   "source": [
    "X_filled_nom_trans = pd.get_dummies(X_filled[X_filled_nom.columns])"
   ]
  },
  {
   "cell_type": "code",
   "execution_count": 38,
   "metadata": {},
   "outputs": [],
   "source": [
    "X_filled = pd.concat([X_filled_num, X_filled_nom_trans], axis = 1)"
   ]
  },
  {
   "cell_type": "code",
   "execution_count": 39,
   "metadata": {},
   "outputs": [
    {
     "data": {
      "text/html": [
       "<div>\n",
       "<style scoped>\n",
       "    .dataframe tbody tr th:only-of-type {\n",
       "        vertical-align: middle;\n",
       "    }\n",
       "\n",
       "    .dataframe tbody tr th {\n",
       "        vertical-align: top;\n",
       "    }\n",
       "\n",
       "    .dataframe thead th {\n",
       "        text-align: right;\n",
       "    }\n",
       "</style>\n",
       "<table border=\"1\" class=\"dataframe\">\n",
       "  <thead>\n",
       "    <tr style=\"text-align: right;\">\n",
       "      <th></th>\n",
       "      <th>cough</th>\n",
       "      <th>fever</th>\n",
       "      <th>sore_throat</th>\n",
       "      <th>shortness_of_breath</th>\n",
       "      <th>head_ache</th>\n",
       "      <th>age_Missing</th>\n",
       "      <th>age_No</th>\n",
       "      <th>age_Yes</th>\n",
       "      <th>gender_Female</th>\n",
       "      <th>gender_Male</th>\n",
       "      <th>gender_Missing</th>\n",
       "      <th>test_indication_Abroad</th>\n",
       "      <th>test_indication_Contact with confirmed</th>\n",
       "      <th>test_indication_Other</th>\n",
       "    </tr>\n",
       "  </thead>\n",
       "  <tbody>\n",
       "    <tr>\n",
       "      <th>0</th>\n",
       "      <td>0</td>\n",
       "      <td>0</td>\n",
       "      <td>0</td>\n",
       "      <td>0</td>\n",
       "      <td>0</td>\n",
       "      <td>0</td>\n",
       "      <td>1</td>\n",
       "      <td>0</td>\n",
       "      <td>1</td>\n",
       "      <td>0</td>\n",
       "      <td>0</td>\n",
       "      <td>0</td>\n",
       "      <td>0</td>\n",
       "      <td>1</td>\n",
       "    </tr>\n",
       "    <tr>\n",
       "      <th>1</th>\n",
       "      <td>0</td>\n",
       "      <td>0</td>\n",
       "      <td>0</td>\n",
       "      <td>0</td>\n",
       "      <td>0</td>\n",
       "      <td>0</td>\n",
       "      <td>1</td>\n",
       "      <td>0</td>\n",
       "      <td>1</td>\n",
       "      <td>0</td>\n",
       "      <td>0</td>\n",
       "      <td>0</td>\n",
       "      <td>0</td>\n",
       "      <td>1</td>\n",
       "    </tr>\n",
       "    <tr>\n",
       "      <th>3</th>\n",
       "      <td>0</td>\n",
       "      <td>0</td>\n",
       "      <td>0</td>\n",
       "      <td>0</td>\n",
       "      <td>0</td>\n",
       "      <td>0</td>\n",
       "      <td>1</td>\n",
       "      <td>0</td>\n",
       "      <td>0</td>\n",
       "      <td>1</td>\n",
       "      <td>0</td>\n",
       "      <td>0</td>\n",
       "      <td>0</td>\n",
       "      <td>1</td>\n",
       "    </tr>\n",
       "    <tr>\n",
       "      <th>4</th>\n",
       "      <td>0</td>\n",
       "      <td>0</td>\n",
       "      <td>0</td>\n",
       "      <td>0</td>\n",
       "      <td>0</td>\n",
       "      <td>0</td>\n",
       "      <td>1</td>\n",
       "      <td>0</td>\n",
       "      <td>1</td>\n",
       "      <td>0</td>\n",
       "      <td>0</td>\n",
       "      <td>0</td>\n",
       "      <td>0</td>\n",
       "      <td>1</td>\n",
       "    </tr>\n",
       "    <tr>\n",
       "      <th>5</th>\n",
       "      <td>0</td>\n",
       "      <td>0</td>\n",
       "      <td>0</td>\n",
       "      <td>0</td>\n",
       "      <td>0</td>\n",
       "      <td>0</td>\n",
       "      <td>1</td>\n",
       "      <td>0</td>\n",
       "      <td>0</td>\n",
       "      <td>0</td>\n",
       "      <td>1</td>\n",
       "      <td>0</td>\n",
       "      <td>0</td>\n",
       "      <td>1</td>\n",
       "    </tr>\n",
       "  </tbody>\n",
       "</table>\n",
       "</div>"
      ],
      "text/plain": [
       "   cough  fever  sore_throat  shortness_of_breath  head_ache  age_Missing  \\\n",
       "0      0      0            0                    0          0            0   \n",
       "1      0      0            0                    0          0            0   \n",
       "3      0      0            0                    0          0            0   \n",
       "4      0      0            0                    0          0            0   \n",
       "5      0      0            0                    0          0            0   \n",
       "\n",
       "   age_No  age_Yes  gender_Female  gender_Male  gender_Missing  \\\n",
       "0       1        0              1            0               0   \n",
       "1       1        0              1            0               0   \n",
       "3       1        0              0            1               0   \n",
       "4       1        0              1            0               0   \n",
       "5       1        0              0            0               1   \n",
       "\n",
       "   test_indication_Abroad  test_indication_Contact with confirmed  \\\n",
       "0                       0                                       0   \n",
       "1                       0                                       0   \n",
       "3                       0                                       0   \n",
       "4                       0                                       0   \n",
       "5                       0                                       0   \n",
       "\n",
       "   test_indication_Other  \n",
       "0                      1  \n",
       "1                      1  \n",
       "3                      1  \n",
       "4                      1  \n",
       "5                      1  "
      ]
     },
     "execution_count": 39,
     "metadata": {},
     "output_type": "execute_result"
    }
   ],
   "source": [
    "X_filled.head()"
   ]
  },
  {
   "cell_type": "markdown",
   "metadata": {},
   "source": [
    "**When dropping the missing value, the two nominal features (gender and age) are all binary feature. Thus we can encode these features as 0 and 1**"
   ]
  },
  {
   "cell_type": "code",
   "execution_count": 40,
   "metadata": {},
   "outputs": [],
   "source": [
    "# gender and age features are binary so use labelEncoder to be consistent with the syndrome features (binary)\n",
    "le = LabelEncoder()\n",
    "le.fit(X_dropped[\"gender\"])\n",
    "X_dropped[\"gender\"] = le.transform(X_dropped[\"gender\"])\n",
    "le.fit(X_dropped[\"age\"])\n",
    "X_dropped[\"age\"] = le.transform(X_dropped[\"age\"])\n",
    "# X_indication have multi variable so use get dummies instead. OneHotEncoder can't convert df with some string\n",
    "X_indication = pd.get_dummies(X_dropped[\"test_indication\"])\n",
    "X_dropped = pd.concat([X_dropped.drop(\"test_indication\", axis=1), X_indication], axis=1)"
   ]
  },
  {
   "cell_type": "code",
   "execution_count": 41,
   "metadata": {},
   "outputs": [
    {
     "data": {
      "text/html": [
       "<div>\n",
       "<style scoped>\n",
       "    .dataframe tbody tr th:only-of-type {\n",
       "        vertical-align: middle;\n",
       "    }\n",
       "\n",
       "    .dataframe tbody tr th {\n",
       "        vertical-align: top;\n",
       "    }\n",
       "\n",
       "    .dataframe thead th {\n",
       "        text-align: right;\n",
       "    }\n",
       "</style>\n",
       "<table border=\"1\" class=\"dataframe\">\n",
       "  <thead>\n",
       "    <tr style=\"text-align: right;\">\n",
       "      <th></th>\n",
       "      <th>cough</th>\n",
       "      <th>fever</th>\n",
       "      <th>sore_throat</th>\n",
       "      <th>shortness_of_breath</th>\n",
       "      <th>head_ache</th>\n",
       "      <th>age</th>\n",
       "      <th>gender</th>\n",
       "      <th>Abroad</th>\n",
       "      <th>Contact with confirmed</th>\n",
       "      <th>Other</th>\n",
       "    </tr>\n",
       "  </thead>\n",
       "  <tbody>\n",
       "    <tr>\n",
       "      <th>0</th>\n",
       "      <td>0</td>\n",
       "      <td>0</td>\n",
       "      <td>0</td>\n",
       "      <td>0</td>\n",
       "      <td>0</td>\n",
       "      <td>0</td>\n",
       "      <td>0</td>\n",
       "      <td>0</td>\n",
       "      <td>0</td>\n",
       "      <td>1</td>\n",
       "    </tr>\n",
       "    <tr>\n",
       "      <th>1</th>\n",
       "      <td>0</td>\n",
       "      <td>0</td>\n",
       "      <td>0</td>\n",
       "      <td>0</td>\n",
       "      <td>0</td>\n",
       "      <td>0</td>\n",
       "      <td>0</td>\n",
       "      <td>0</td>\n",
       "      <td>0</td>\n",
       "      <td>1</td>\n",
       "    </tr>\n",
       "    <tr>\n",
       "      <th>3</th>\n",
       "      <td>0</td>\n",
       "      <td>0</td>\n",
       "      <td>0</td>\n",
       "      <td>0</td>\n",
       "      <td>0</td>\n",
       "      <td>0</td>\n",
       "      <td>1</td>\n",
       "      <td>0</td>\n",
       "      <td>0</td>\n",
       "      <td>1</td>\n",
       "    </tr>\n",
       "    <tr>\n",
       "      <th>4</th>\n",
       "      <td>0</td>\n",
       "      <td>0</td>\n",
       "      <td>0</td>\n",
       "      <td>0</td>\n",
       "      <td>0</td>\n",
       "      <td>0</td>\n",
       "      <td>0</td>\n",
       "      <td>0</td>\n",
       "      <td>0</td>\n",
       "      <td>1</td>\n",
       "    </tr>\n",
       "    <tr>\n",
       "      <th>6</th>\n",
       "      <td>0</td>\n",
       "      <td>0</td>\n",
       "      <td>0</td>\n",
       "      <td>0</td>\n",
       "      <td>0</td>\n",
       "      <td>0</td>\n",
       "      <td>1</td>\n",
       "      <td>0</td>\n",
       "      <td>0</td>\n",
       "      <td>1</td>\n",
       "    </tr>\n",
       "  </tbody>\n",
       "</table>\n",
       "</div>"
      ],
      "text/plain": [
       "   cough  fever  sore_throat  shortness_of_breath  head_ache  age  gender  \\\n",
       "0      0      0            0                    0          0    0       0   \n",
       "1      0      0            0                    0          0    0       0   \n",
       "3      0      0            0                    0          0    0       1   \n",
       "4      0      0            0                    0          0    0       0   \n",
       "6      0      0            0                    0          0    0       1   \n",
       "\n",
       "   Abroad  Contact with confirmed  Other  \n",
       "0       0                       0      1  \n",
       "1       0                       0      1  \n",
       "3       0                       0      1  \n",
       "4       0                       0      1  \n",
       "6       0                       0      1  "
      ]
     },
     "execution_count": 41,
     "metadata": {},
     "output_type": "execute_result"
    }
   ],
   "source": [
    "X_dropped.head()"
   ]
  },
  {
   "cell_type": "markdown",
   "metadata": {},
   "source": [
    "**Encoding the class label value**"
   ]
  },
  {
   "cell_type": "code",
   "execution_count": 42,
   "metadata": {},
   "outputs": [],
   "source": [
    "le.fit(y_dropped)\n",
    "y_dropped = le.transform(y_dropped)\n",
    "le.fit(y_filled)\n",
    "y_filled = le.transform(y_filled)"
   ]
  },
  {
   "cell_type": "markdown",
   "metadata": {},
   "source": [
    "NOTE: moved feature selection to after modeling as we want to see the baseline performance scores and some features selections are based on models"
   ]
  },
  {
   "cell_type": "markdown",
   "metadata": {},
   "source": [
    "<!-- **Correlation between features in X_dropped (missing values dropped)** -->"
   ]
  },
  {
   "cell_type": "markdown",
   "metadata": {},
   "source": [
    "## Feature selection"
   ]
  },
  {
   "cell_type": "markdown",
   "metadata": {},
   "source": [
    "https://www.kaggle.com/kanncaa1/feature-selection-and-data-visualization\n",
    "https://www.kaggle.com/prashant111/comprehensive-guide-on-feature-selection"
   ]
  },
  {
   "cell_type": "markdown",
   "metadata": {},
   "source": [
    "Conclusion drawn from the above article:\n",
    "SelectKBest with Fisher Score\n",
    "Recursive Feature Elimination with Cross-Validation (RFECV)\n",
    "Correlation-matrix with heatmap\n",
    "Random-Forest Importance"
   ]
  },
  {
   "cell_type": "markdown",
   "metadata": {},
   "source": [
    "**Performance metrics tailored for imbalanced data**"
   ]
  },
  {
   "cell_type": "markdown",
   "metadata": {},
   "source": [
    "https://imbalanced-learn.org/stable/references/metrics.html#module-imblearn.metrics"
   ]
  },
  {
   "cell_type": "code",
   "execution_count": 43,
   "metadata": {},
   "outputs": [],
   "source": [
    "from sklearn.metrics import balanced_accuracy_score\n",
    "from imblearn.metrics import sensitivity_specificity_support\n",
    "from imblearn.metrics import sensitivity_score\n",
    "from imblearn.metrics import specificity_score\n",
    "from imblearn.metrics import geometric_mean_score\n",
    "from imblearn.metrics import classification_report_imbalanced\n",
    "from imblearn.metrics import macro_averaged_mean_absolute_error"
   ]
  },
  {
   "cell_type": "code",
   "execution_count": 44,
   "metadata": {},
   "outputs": [],
   "source": [
    "def evaluate_imbalanced(y_test, y_pred):\n",
    "    output = dict()\n",
    "    output[\"Balanced Accuracy\"] = balanced_accuracy_score(y_test, y_pred)\n",
    "    output[\"Sensitivity\"] = sensitivity_score(y_test, y_pred, average='weighted') ## high indicates low false negative\n",
    "    output[\"Specificity\"] = specificity_score(y_test, y_pred, average='weighted') ## high indicates low false positive\n",
    "    output[\"AUROC\"] = roc_auc_score(y_test, y_pred) ##TPR\n",
    "    output[\"F1\"] = f1_score(y_test, y_pred, average=\"binary\") ##weighted precision and recall (both positive dominated)\n",
    "    output[\"Geometric Mean\"] = geometric_mean_score(y_test, y_pred, average='weighted') ## class-wise sensitivity\n",
    "    output[\"Macro Average MAE\"] = macro_averaged_mean_absolute_error(y_test, y_pred)\n",
    "    return output"
   ]
  },
  {
   "cell_type": "markdown",
   "metadata": {},
   "source": [
    "1. The sensitivity is the ratio tp / (tp + fn) where tp is the number of true positives and fn the number of false negatives. The sensitivity quantifies the ability to avoid false negatives. The best value is 1 and the worst value is 0."
   ]
  },
  {
   "cell_type": "markdown",
   "metadata": {},
   "source": [
    "2. 'weighted':\n",
    "Calculate metrics for each label, and find their average, weighted by support (the number of true instances for each label). This alters ‘macro’ to account for label imbalance; it can result in an F-score that is not between precision and recall."
   ]
  },
  {
   "cell_type": "markdown",
   "metadata": {},
   "source": [
    "3. The specificity is the ratio tn / (tn + fp) where tn is the number of true negatives and fp the number of false positives. The specificity quantifies the ability to avoid false positives. The best value is 1 and the worst value is 0."
   ]
  },
  {
   "cell_type": "markdown",
   "metadata": {},
   "source": [
    "4. The geometric mean (G-mean) is the root of the product of class-wise sensitivity. "
   ]
  },
  {
   "cell_type": "markdown",
   "metadata": {},
   "source": [
    "5. This function computes each MAE for each class and average them, giving an equal weight to each class."
   ]
  },
  {
   "cell_type": "markdown",
   "metadata": {},
   "source": [
    "## Original performance without feature selection"
   ]
  },
  {
   "cell_type": "code",
   "execution_count": 45,
   "metadata": {},
   "outputs": [],
   "source": [
    "# prepare a df to store the results from each method\n",
    "# TO DO: random_state, most cases are 42 or 43 why?\n",
    "x_train, x_test, y_train, y_test = train_test_split(X_filled, y_filled, test_size=0.2, random_state=0)\n"
   ]
  },
  {
   "cell_type": "code",
   "execution_count": 46,
   "metadata": {},
   "outputs": [],
   "source": [
    "#random forest classifier with n_estimators=10 (default) tree-based model is well-suited for imbalanced data\n",
    "def make_y_pred(x_train, x_test, y_train):\n",
    "    model_ori = RandomForestClassifier(random_state=43)      \n",
    "    model_ori = model_ori.fit(x_train,y_train)\n",
    "    y_pred = model_ori.predict(x_test)\n",
    "    return y_pred"
   ]
  },
  {
   "cell_type": "code",
   "execution_count": 47,
   "metadata": {},
   "outputs": [],
   "source": [
    "y_pred = make_y_pred(x_train, x_test, y_train)"
   ]
  },
  {
   "cell_type": "code",
   "execution_count": 48,
   "metadata": {},
   "outputs": [
    {
     "data": {
      "text/html": [
       "<div>\n",
       "<style scoped>\n",
       "    .dataframe tbody tr th:only-of-type {\n",
       "        vertical-align: middle;\n",
       "    }\n",
       "\n",
       "    .dataframe tbody tr th {\n",
       "        vertical-align: top;\n",
       "    }\n",
       "\n",
       "    .dataframe thead th {\n",
       "        text-align: right;\n",
       "    }\n",
       "</style>\n",
       "<table border=\"1\" class=\"dataframe\">\n",
       "  <thead>\n",
       "    <tr style=\"text-align: right;\">\n",
       "      <th></th>\n",
       "      <th>Method</th>\n",
       "      <th>Original</th>\n",
       "    </tr>\n",
       "  </thead>\n",
       "  <tbody>\n",
       "    <tr>\n",
       "      <th>0</th>\n",
       "      <td>Balanced Accuracy</td>\n",
       "      <td>0.824516</td>\n",
       "    </tr>\n",
       "    <tr>\n",
       "      <th>1</th>\n",
       "      <td>Sensitivity</td>\n",
       "      <td>0.994691</td>\n",
       "    </tr>\n",
       "    <tr>\n",
       "      <th>2</th>\n",
       "      <td>Specificity</td>\n",
       "      <td>0.654340</td>\n",
       "    </tr>\n",
       "    <tr>\n",
       "      <th>3</th>\n",
       "      <td>AUROC</td>\n",
       "      <td>0.824516</td>\n",
       "    </tr>\n",
       "    <tr>\n",
       "      <th>4</th>\n",
       "      <td>F1</td>\n",
       "      <td>0.684547</td>\n",
       "    </tr>\n",
       "    <tr>\n",
       "      <th>5</th>\n",
       "      <td>Geometric Mean</td>\n",
       "      <td>0.806763</td>\n",
       "    </tr>\n",
       "    <tr>\n",
       "      <th>6</th>\n",
       "      <td>Macro Average MAE</td>\n",
       "      <td>0.175484</td>\n",
       "    </tr>\n",
       "  </tbody>\n",
       "</table>\n",
       "</div>"
      ],
      "text/plain": [
       "              Method  Original\n",
       "0  Balanced Accuracy  0.824516\n",
       "1        Sensitivity  0.994691\n",
       "2        Specificity  0.654340\n",
       "3              AUROC  0.824516\n",
       "4                 F1  0.684547\n",
       "5     Geometric Mean  0.806763\n",
       "6  Macro Average MAE  0.175484"
      ]
     },
     "execution_count": 48,
     "metadata": {},
     "output_type": "execute_result"
    }
   ],
   "source": [
    "results_1 = pd.DataFrame(evaluate_imbalanced(y_test, y_pred).items(),columns=[ 'Method', 'Original'])\n",
    "results_1"
   ]
  },
  {
   "cell_type": "code",
   "execution_count": 49,
   "metadata": {},
   "outputs": [],
   "source": [
    "def make_confusion_matrix(y_test,y_pred):\n",
    "    cf_matrix = confusion_matrix(y_test,y_pred)\n",
    "    fig, ax = plt.subplots(figsize=(5,5))         # Sample figsize in inches\n",
    "    sns.heatmap(cf_matrix/np.sum(cf_matrix), annot=True, \n",
    "            fmt='.2%', cmap='Greens', linewidths=.1, ax=ax);\n",
    "    ax.set_title('Confusion Matrix');"
   ]
  },
  {
   "cell_type": "code",
   "execution_count": 50,
   "metadata": {},
   "outputs": [
    {
     "data": {
      "image/png": "[encoded data removed]",
      "text/plain": [
       "<Figure size 360x360 with 2 Axes>"
      ]
     },
     "metadata": {},
     "output_type": "display_data"
    }
   ],
   "source": [
    "make_confusion_matrix(y_test,y_pred)"
   ]
  },
  {
   "cell_type": "markdown",
   "metadata": {},
   "source": [
    "## Feature selection--Filter method"
   ]
  },
  {
   "cell_type": "markdown",
   "metadata": {},
   "source": [
    "**1. Mutual Info between features and class label (drop date column for now)**"
   ]
  },
  {
   "cell_type": "code",
   "execution_count": 51,
   "metadata": {},
   "outputs": [],
   "source": [
    "from sklearn.feature_selection import mutual_info_regression\n",
    "from sklearn.feature_selection import mutual_info_classif\n",
    "from sklearn.metrics import mutual_info_score"
   ]
  },
  {
   "cell_type": "code",
   "execution_count": 52,
   "metadata": {},
   "outputs": [],
   "source": [
    "mi_reg = mutual_info_regression(X_filled, y_filled)\n",
    "mi_cla = mutual_info_regression(X_filled, y_filled)"
   ]
  },
  {
   "cell_type": "code",
   "execution_count": 53,
   "metadata": {},
   "outputs": [],
   "source": [
    "df_mi = pd.DataFrame(mi_reg, index=X_filled.columns, columns=['mutual_info_reg'])"
   ]
  },
  {
   "cell_type": "code",
   "execution_count": 54,
   "metadata": {},
   "outputs": [],
   "source": [
    "def highlight_top6(s):\n",
    "    \"\"\"Highlight the maximum in a Series green.\"\"\"\n",
    "    is_large = s.nlargest(6).values\n",
    "    return ['background-color: green' if v in is_large else '' for v in s ]"
   ]
  },
  {
   "cell_type": "code",
   "execution_count": 55,
   "metadata": {
    "scrolled": true
   },
   "outputs": [
    {
     "data": {
      "text/html": [
       "<style  type=\"text/css\" >\n",
       "#T_1ee90e00_fca0_11eb_95d7_acde48001122row0_col0,#T_1ee90e00_fca0_11eb_95d7_acde48001122row1_col0,#T_1ee90e00_fca0_11eb_95d7_acde48001122row2_col0,#T_1ee90e00_fca0_11eb_95d7_acde48001122row3_col0,#T_1ee90e00_fca0_11eb_95d7_acde48001122row4_col0,#T_1ee90e00_fca0_11eb_95d7_acde48001122row5_col0{\n",
       "            background-color:  green;\n",
       "        }</style><table id=\"T_1ee90e00_fca0_11eb_95d7_acde48001122\" ><thead>    <tr>        <th class=\"blank level0\" ></th>        <th class=\"col_heading level0 col0\" >mutual_info_reg</th>    </tr></thead><tbody>\n",
       "                <tr>\n",
       "                        <th id=\"T_1ee90e00_fca0_11eb_95d7_acde48001122level0_row0\" class=\"row_heading level0 row0\" >test_indication_Other</th>\n",
       "                        <td id=\"T_1ee90e00_fca0_11eb_95d7_acde48001122row0_col0\" class=\"data row0 col0\" >0.016551</td>\n",
       "            </tr>\n",
       "            <tr>\n",
       "                        <th id=\"T_1ee90e00_fca0_11eb_95d7_acde48001122level0_row1\" class=\"row_heading level0 row1\" >test_indication_Contact with confirmed</th>\n",
       "                        <td id=\"T_1ee90e00_fca0_11eb_95d7_acde48001122row1_col0\" class=\"data row1 col0\" >0.014649</td>\n",
       "            </tr>\n",
       "            <tr>\n",
       "                        <th id=\"T_1ee90e00_fca0_11eb_95d7_acde48001122level0_row2\" class=\"row_heading level0 row2\" >fever</th>\n",
       "                        <td id=\"T_1ee90e00_fca0_11eb_95d7_acde48001122row2_col0\" class=\"data row2 col0\" >0.010479</td>\n",
       "            </tr>\n",
       "            <tr>\n",
       "                        <th id=\"T_1ee90e00_fca0_11eb_95d7_acde48001122level0_row3\" class=\"row_heading level0 row3\" >head_ache</th>\n",
       "                        <td id=\"T_1ee90e00_fca0_11eb_95d7_acde48001122row3_col0\" class=\"data row3 col0\" >0.008842</td>\n",
       "            </tr>\n",
       "            <tr>\n",
       "                        <th id=\"T_1ee90e00_fca0_11eb_95d7_acde48001122level0_row4\" class=\"row_heading level0 row4\" >cough</th>\n",
       "                        <td id=\"T_1ee90e00_fca0_11eb_95d7_acde48001122row4_col0\" class=\"data row4 col0\" >0.008024</td>\n",
       "            </tr>\n",
       "            <tr>\n",
       "                        <th id=\"T_1ee90e00_fca0_11eb_95d7_acde48001122level0_row5\" class=\"row_heading level0 row5\" >age_Missing</th>\n",
       "                        <td id=\"T_1ee90e00_fca0_11eb_95d7_acde48001122row5_col0\" class=\"data row5 col0\" >0.003642</td>\n",
       "            </tr>\n",
       "            <tr>\n",
       "                        <th id=\"T_1ee90e00_fca0_11eb_95d7_acde48001122level0_row6\" class=\"row_heading level0 row6\" >sore_throat</th>\n",
       "                        <td id=\"T_1ee90e00_fca0_11eb_95d7_acde48001122row6_col0\" class=\"data row6 col0\" >0.003315</td>\n",
       "            </tr>\n",
       "            <tr>\n",
       "                        <th id=\"T_1ee90e00_fca0_11eb_95d7_acde48001122level0_row7\" class=\"row_heading level0 row7\" >shortness_of_breath</th>\n",
       "                        <td id=\"T_1ee90e00_fca0_11eb_95d7_acde48001122row7_col0\" class=\"data row7 col0\" >0.001459</td>\n",
       "            </tr>\n",
       "            <tr>\n",
       "                        <th id=\"T_1ee90e00_fca0_11eb_95d7_acde48001122level0_row8\" class=\"row_heading level0 row8\" >gender_Missing</th>\n",
       "                        <td id=\"T_1ee90e00_fca0_11eb_95d7_acde48001122row8_col0\" class=\"data row8 col0\" >0.001267</td>\n",
       "            </tr>\n",
       "            <tr>\n",
       "                        <th id=\"T_1ee90e00_fca0_11eb_95d7_acde48001122level0_row9\" class=\"row_heading level0 row9\" >age_No</th>\n",
       "                        <td id=\"T_1ee90e00_fca0_11eb_95d7_acde48001122row9_col0\" class=\"data row9 col0\" >0.000855</td>\n",
       "            </tr>\n",
       "            <tr>\n",
       "                        <th id=\"T_1ee90e00_fca0_11eb_95d7_acde48001122level0_row10\" class=\"row_heading level0 row10\" >age_Yes</th>\n",
       "                        <td id=\"T_1ee90e00_fca0_11eb_95d7_acde48001122row10_col0\" class=\"data row10 col0\" >0.000000</td>\n",
       "            </tr>\n",
       "            <tr>\n",
       "                        <th id=\"T_1ee90e00_fca0_11eb_95d7_acde48001122level0_row11\" class=\"row_heading level0 row11\" >gender_Female</th>\n",
       "                        <td id=\"T_1ee90e00_fca0_11eb_95d7_acde48001122row11_col0\" class=\"data row11 col0\" >0.000000</td>\n",
       "            </tr>\n",
       "            <tr>\n",
       "                        <th id=\"T_1ee90e00_fca0_11eb_95d7_acde48001122level0_row12\" class=\"row_heading level0 row12\" >gender_Male</th>\n",
       "                        <td id=\"T_1ee90e00_fca0_11eb_95d7_acde48001122row12_col0\" class=\"data row12 col0\" >0.000000</td>\n",
       "            </tr>\n",
       "            <tr>\n",
       "                        <th id=\"T_1ee90e00_fca0_11eb_95d7_acde48001122level0_row13\" class=\"row_heading level0 row13\" >test_indication_Abroad</th>\n",
       "                        <td id=\"T_1ee90e00_fca0_11eb_95d7_acde48001122row13_col0\" class=\"data row13 col0\" >0.000000</td>\n",
       "            </tr>\n",
       "    </tbody></table>"
      ],
      "text/plain": [
       "<pandas.io.formats.style.Styler at 0x7fc7850b82e0>"
      ]
     },
     "execution_count": 55,
     "metadata": {},
     "output_type": "execute_result"
    }
   ],
   "source": [
    "# top 6 are highlighted\n",
    "df_mi.sort_values(\"mutual_info_reg\", ascending=False).style.apply(highlight_top6)"
   ]
  },
  {
   "cell_type": "markdown",
   "metadata": {},
   "source": [
    "**Most features are nearly independent. No feature filtered out with this method**"
   ]
  },
  {
   "cell_type": "code",
   "execution_count": 56,
   "metadata": {},
   "outputs": [],
   "source": [
    "# for scoring only, need to combine with other methods\n",
    "from sklearn.feature_selection import f_regression, f_classif\n",
    "f_reg = f_regression(X_filled, y_filled)\n",
    "f_clasif = f_classif(X_filled, y_filled)"
   ]
  },
  {
   "cell_type": "markdown",
   "metadata": {},
   "source": [
    "**2. Correlation matrix with heatmap for features in X_filled (missing values filled)**"
   ]
  },
  {
   "cell_type": "code",
   "execution_count": 57,
   "metadata": {},
   "outputs": [],
   "source": [
    "# corr for mean\n",
    "corr1 = X_filled.corr();\n",
    "corr2 = X_dropped.corr();"
   ]
  },
  {
   "cell_type": "code",
   "execution_count": 58,
   "metadata": {},
   "outputs": [
    {
     "data": {
      "image/png": "[encoded data removed]",
      "text/plain": [
       "<Figure size 1080x1080 with 2 Axes>"
      ]
     },
     "metadata": {},
     "output_type": "display_data"
    }
   ],
   "source": [
    "plt.rc(\"figure\", figsize=(15, 15))\n",
    "grid=sns.heatmap(corr1,annot=True,cbar = True, square = True, cmap=sns.diverging_palette(220, 10, as_cmap=True))\n",
    "grid.set_xticklabels(corr1.columns,rotation=90)\n",
    "plt.subplots_adjust(left=0.3,right=1,bottom=0.35,top=0.9)\n",
    "plt.show()"
   ]
  },
  {
   "cell_type": "markdown",
   "metadata": {},
   "source": [
    "**Findings: The correlations between any two features are low. No correlation is higher than 0.9. No feature filtered out with this method**"
   ]
  },
  {
   "cell_type": "code",
   "execution_count": 59,
   "metadata": {},
   "outputs": [],
   "source": [
    "from sklearn.feature_selection import SelectKBest\n",
    "from sklearn.feature_selection import chi2"
   ]
  },
  {
   "cell_type": "code",
   "execution_count": 60,
   "metadata": {},
   "outputs": [],
   "source": [
    "# # refresher\n",
    "x_train, x_test, y_train, y_test = train_test_split(X_filled, y_filled, test_size=0.2, random_state=0)"
   ]
  },
  {
   "cell_type": "code",
   "execution_count": 61,
   "metadata": {
    "scrolled": true
   },
   "outputs": [
    {
     "data": {
      "text/html": [
       "<style  type=\"text/css\" >\n",
       "#T_1fe9cd8a_fca0_11eb_95d7_acde48001122row0_col0,#T_1fe9cd8a_fca0_11eb_95d7_acde48001122row1_col0,#T_1fe9cd8a_fca0_11eb_95d7_acde48001122row2_col0,#T_1fe9cd8a_fca0_11eb_95d7_acde48001122row3_col0,#T_1fe9cd8a_fca0_11eb_95d7_acde48001122row4_col0,#T_1fe9cd8a_fca0_11eb_95d7_acde48001122row5_col0{\n",
       "            background-color:  green;\n",
       "        }</style><table id=\"T_1fe9cd8a_fca0_11eb_95d7_acde48001122\" ><thead>    <tr>        <th class=\"blank level0\" ></th>        <th class=\"col_heading level0 col0\" >SelectKBest-chi2</th>    </tr></thead><tbody>\n",
       "                <tr>\n",
       "                        <th id=\"T_1fe9cd8a_fca0_11eb_95d7_acde48001122level0_row0\" class=\"row_heading level0 row0\" >test_indication_Contact with confirmed</th>\n",
       "                        <td id=\"T_1fe9cd8a_fca0_11eb_95d7_acde48001122row0_col0\" class=\"data row0 col0\" >97792.214762</td>\n",
       "            </tr>\n",
       "            <tr>\n",
       "                        <th id=\"T_1fe9cd8a_fca0_11eb_95d7_acde48001122level0_row1\" class=\"row_heading level0 row1\" >fever</th>\n",
       "                        <td id=\"T_1fe9cd8a_fca0_11eb_95d7_acde48001122row1_col0\" class=\"data row1 col0\" >70120.384480</td>\n",
       "            </tr>\n",
       "            <tr>\n",
       "                        <th id=\"T_1fe9cd8a_fca0_11eb_95d7_acde48001122level0_row2\" class=\"row_heading level0 row2\" >head_ache</th>\n",
       "                        <td id=\"T_1fe9cd8a_fca0_11eb_95d7_acde48001122row2_col0\" class=\"data row2 col0\" >62286.259488</td>\n",
       "            </tr>\n",
       "            <tr>\n",
       "                        <th id=\"T_1fe9cd8a_fca0_11eb_95d7_acde48001122level0_row3\" class=\"row_heading level0 row3\" >cough</th>\n",
       "                        <td id=\"T_1fe9cd8a_fca0_11eb_95d7_acde48001122row3_col0\" class=\"data row3 col0\" >56200.021071</td>\n",
       "            </tr>\n",
       "            <tr>\n",
       "                        <th id=\"T_1fe9cd8a_fca0_11eb_95d7_acde48001122level0_row4\" class=\"row_heading level0 row4\" >sore_throat</th>\n",
       "                        <td id=\"T_1fe9cd8a_fca0_11eb_95d7_acde48001122row4_col0\" class=\"data row4 col0\" >30008.323534</td>\n",
       "            </tr>\n",
       "            <tr>\n",
       "                        <th id=\"T_1fe9cd8a_fca0_11eb_95d7_acde48001122level0_row5\" class=\"row_heading level0 row5\" >shortness_of_breath</th>\n",
       "                        <td id=\"T_1fe9cd8a_fca0_11eb_95d7_acde48001122row5_col0\" class=\"data row5 col0\" >4462.521708</td>\n",
       "            </tr>\n",
       "            <tr>\n",
       "                        <th id=\"T_1fe9cd8a_fca0_11eb_95d7_acde48001122level0_row6\" class=\"row_heading level0 row6\" >age_Yes</th>\n",
       "                        <td id=\"T_1fe9cd8a_fca0_11eb_95d7_acde48001122row6_col0\" class=\"data row6 col0\" >754.507236</td>\n",
       "            </tr>\n",
       "            <tr>\n",
       "                        <th id=\"T_1fe9cd8a_fca0_11eb_95d7_acde48001122level0_row7\" class=\"row_heading level0 row7\" >test_indication_Other</th>\n",
       "                        <td id=\"T_1fe9cd8a_fca0_11eb_95d7_acde48001122row7_col0\" class=\"data row7 col0\" >710.261205</td>\n",
       "            </tr>\n",
       "            <tr>\n",
       "                        <th id=\"T_1fe9cd8a_fca0_11eb_95d7_acde48001122level0_row8\" class=\"row_heading level0 row8\" >gender_Missing</th>\n",
       "                        <td id=\"T_1fe9cd8a_fca0_11eb_95d7_acde48001122row8_col0\" class=\"data row8 col0\" >661.563719</td>\n",
       "            </tr>\n",
       "            <tr>\n",
       "                        <th id=\"T_1fe9cd8a_fca0_11eb_95d7_acde48001122level0_row9\" class=\"row_heading level0 row9\" >age_Missing</th>\n",
       "                        <td id=\"T_1fe9cd8a_fca0_11eb_95d7_acde48001122row9_col0\" class=\"data row9 col0\" >598.631176</td>\n",
       "            </tr>\n",
       "            <tr>\n",
       "                        <th id=\"T_1fe9cd8a_fca0_11eb_95d7_acde48001122level0_row10\" class=\"row_heading level0 row10\" >test_indication_Abroad</th>\n",
       "                        <td id=\"T_1fe9cd8a_fca0_11eb_95d7_acde48001122row10_col0\" class=\"data row10 col0\" >550.946819</td>\n",
       "            </tr>\n",
       "            <tr>\n",
       "                        <th id=\"T_1fe9cd8a_fca0_11eb_95d7_acde48001122level0_row11\" class=\"row_heading level0 row11\" >age_No</th>\n",
       "                        <td id=\"T_1fe9cd8a_fca0_11eb_95d7_acde48001122row11_col0\" class=\"data row11 col0\" >393.129661</td>\n",
       "            </tr>\n",
       "            <tr>\n",
       "                        <th id=\"T_1fe9cd8a_fca0_11eb_95d7_acde48001122level0_row12\" class=\"row_heading level0 row12\" >gender_Male</th>\n",
       "                        <td id=\"T_1fe9cd8a_fca0_11eb_95d7_acde48001122row12_col0\" class=\"data row12 col0\" >340.249068</td>\n",
       "            </tr>\n",
       "            <tr>\n",
       "                        <th id=\"T_1fe9cd8a_fca0_11eb_95d7_acde48001122level0_row13\" class=\"row_heading level0 row13\" >gender_Female</th>\n",
       "                        <td id=\"T_1fe9cd8a_fca0_11eb_95d7_acde48001122row13_col0\" class=\"data row13 col0\" >209.165600</td>\n",
       "            </tr>\n",
       "    </tbody></table>"
      ],
      "text/plain": [
       "<pandas.io.formats.style.Styler at 0x7fc7895ff970>"
      ]
     },
     "execution_count": 61,
     "metadata": {},
     "output_type": "execute_result"
    }
   ],
   "source": [
    "# find best scored 5 features\n",
    "selector = SelectKBest(chi2, k=5)\n",
    "select_feature = selector.fit(x_train, y_train)\n",
    "df_chi2 = pd.DataFrame(select_feature.scores_, index=x_train.columns, columns=['SelectKBest-chi2'])\n",
    "df_chi2.sort_values('SelectKBest-chi2', ascending=False).style.apply(highlight_top6)"
   ]
  },
  {
   "cell_type": "code",
   "execution_count": 62,
   "metadata": {},
   "outputs": [
    {
     "data": {
      "text/html": [
       "<style  type=\"text/css\" >\n",
       "#T_1febda8a_fca0_11eb_95d7_acde48001122row0_col0,#T_1febda8a_fca0_11eb_95d7_acde48001122row0_col1,#T_1febda8a_fca0_11eb_95d7_acde48001122row1_col0,#T_1febda8a_fca0_11eb_95d7_acde48001122row1_col1,#T_1febda8a_fca0_11eb_95d7_acde48001122row2_col0,#T_1febda8a_fca0_11eb_95d7_acde48001122row2_col1,#T_1febda8a_fca0_11eb_95d7_acde48001122row3_col0,#T_1febda8a_fca0_11eb_95d7_acde48001122row3_col1,#T_1febda8a_fca0_11eb_95d7_acde48001122row4_col0,#T_1febda8a_fca0_11eb_95d7_acde48001122row5_col0,#T_1febda8a_fca0_11eb_95d7_acde48001122row7_col1,#T_1febda8a_fca0_11eb_95d7_acde48001122row9_col1{\n",
       "            background-color:  green;\n",
       "        }</style><table id=\"T_1febda8a_fca0_11eb_95d7_acde48001122\" ><thead>    <tr>        <th class=\"blank level0\" ></th>        <th class=\"col_heading level0 col0\" >SelectKBest-chi2</th>        <th class=\"col_heading level0 col1\" >mutual_info_reg</th>    </tr></thead><tbody>\n",
       "                <tr>\n",
       "                        <th id=\"T_1febda8a_fca0_11eb_95d7_acde48001122level0_row0\" class=\"row_heading level0 row0\" >test_indication_Contact with confirmed</th>\n",
       "                        <td id=\"T_1febda8a_fca0_11eb_95d7_acde48001122row0_col0\" class=\"data row0 col0\" >97792.214762</td>\n",
       "                        <td id=\"T_1febda8a_fca0_11eb_95d7_acde48001122row0_col1\" class=\"data row0 col1\" >0.014649</td>\n",
       "            </tr>\n",
       "            <tr>\n",
       "                        <th id=\"T_1febda8a_fca0_11eb_95d7_acde48001122level0_row1\" class=\"row_heading level0 row1\" >fever</th>\n",
       "                        <td id=\"T_1febda8a_fca0_11eb_95d7_acde48001122row1_col0\" class=\"data row1 col0\" >70120.384480</td>\n",
       "                        <td id=\"T_1febda8a_fca0_11eb_95d7_acde48001122row1_col1\" class=\"data row1 col1\" >0.010479</td>\n",
       "            </tr>\n",
       "            <tr>\n",
       "                        <th id=\"T_1febda8a_fca0_11eb_95d7_acde48001122level0_row2\" class=\"row_heading level0 row2\" >head_ache</th>\n",
       "                        <td id=\"T_1febda8a_fca0_11eb_95d7_acde48001122row2_col0\" class=\"data row2 col0\" >62286.259488</td>\n",
       "                        <td id=\"T_1febda8a_fca0_11eb_95d7_acde48001122row2_col1\" class=\"data row2 col1\" >0.008842</td>\n",
       "            </tr>\n",
       "            <tr>\n",
       "                        <th id=\"T_1febda8a_fca0_11eb_95d7_acde48001122level0_row3\" class=\"row_heading level0 row3\" >cough</th>\n",
       "                        <td id=\"T_1febda8a_fca0_11eb_95d7_acde48001122row3_col0\" class=\"data row3 col0\" >56200.021071</td>\n",
       "                        <td id=\"T_1febda8a_fca0_11eb_95d7_acde48001122row3_col1\" class=\"data row3 col1\" >0.008024</td>\n",
       "            </tr>\n",
       "            <tr>\n",
       "                        <th id=\"T_1febda8a_fca0_11eb_95d7_acde48001122level0_row4\" class=\"row_heading level0 row4\" >sore_throat</th>\n",
       "                        <td id=\"T_1febda8a_fca0_11eb_95d7_acde48001122row4_col0\" class=\"data row4 col0\" >30008.323534</td>\n",
       "                        <td id=\"T_1febda8a_fca0_11eb_95d7_acde48001122row4_col1\" class=\"data row4 col1\" >0.003315</td>\n",
       "            </tr>\n",
       "            <tr>\n",
       "                        <th id=\"T_1febda8a_fca0_11eb_95d7_acde48001122level0_row5\" class=\"row_heading level0 row5\" >shortness_of_breath</th>\n",
       "                        <td id=\"T_1febda8a_fca0_11eb_95d7_acde48001122row5_col0\" class=\"data row5 col0\" >4462.521708</td>\n",
       "                        <td id=\"T_1febda8a_fca0_11eb_95d7_acde48001122row5_col1\" class=\"data row5 col1\" >0.001459</td>\n",
       "            </tr>\n",
       "            <tr>\n",
       "                        <th id=\"T_1febda8a_fca0_11eb_95d7_acde48001122level0_row6\" class=\"row_heading level0 row6\" >age_Yes</th>\n",
       "                        <td id=\"T_1febda8a_fca0_11eb_95d7_acde48001122row6_col0\" class=\"data row6 col0\" >754.507236</td>\n",
       "                        <td id=\"T_1febda8a_fca0_11eb_95d7_acde48001122row6_col1\" class=\"data row6 col1\" >0.000000</td>\n",
       "            </tr>\n",
       "            <tr>\n",
       "                        <th id=\"T_1febda8a_fca0_11eb_95d7_acde48001122level0_row7\" class=\"row_heading level0 row7\" >test_indication_Other</th>\n",
       "                        <td id=\"T_1febda8a_fca0_11eb_95d7_acde48001122row7_col0\" class=\"data row7 col0\" >710.261205</td>\n",
       "                        <td id=\"T_1febda8a_fca0_11eb_95d7_acde48001122row7_col1\" class=\"data row7 col1\" >0.016551</td>\n",
       "            </tr>\n",
       "            <tr>\n",
       "                        <th id=\"T_1febda8a_fca0_11eb_95d7_acde48001122level0_row8\" class=\"row_heading level0 row8\" >gender_Missing</th>\n",
       "                        <td id=\"T_1febda8a_fca0_11eb_95d7_acde48001122row8_col0\" class=\"data row8 col0\" >661.563719</td>\n",
       "                        <td id=\"T_1febda8a_fca0_11eb_95d7_acde48001122row8_col1\" class=\"data row8 col1\" >0.001267</td>\n",
       "            </tr>\n",
       "            <tr>\n",
       "                        <th id=\"T_1febda8a_fca0_11eb_95d7_acde48001122level0_row9\" class=\"row_heading level0 row9\" >age_Missing</th>\n",
       "                        <td id=\"T_1febda8a_fca0_11eb_95d7_acde48001122row9_col0\" class=\"data row9 col0\" >598.631176</td>\n",
       "                        <td id=\"T_1febda8a_fca0_11eb_95d7_acde48001122row9_col1\" class=\"data row9 col1\" >0.003642</td>\n",
       "            </tr>\n",
       "            <tr>\n",
       "                        <th id=\"T_1febda8a_fca0_11eb_95d7_acde48001122level0_row10\" class=\"row_heading level0 row10\" >test_indication_Abroad</th>\n",
       "                        <td id=\"T_1febda8a_fca0_11eb_95d7_acde48001122row10_col0\" class=\"data row10 col0\" >550.946819</td>\n",
       "                        <td id=\"T_1febda8a_fca0_11eb_95d7_acde48001122row10_col1\" class=\"data row10 col1\" >0.000000</td>\n",
       "            </tr>\n",
       "            <tr>\n",
       "                        <th id=\"T_1febda8a_fca0_11eb_95d7_acde48001122level0_row11\" class=\"row_heading level0 row11\" >age_No</th>\n",
       "                        <td id=\"T_1febda8a_fca0_11eb_95d7_acde48001122row11_col0\" class=\"data row11 col0\" >393.129661</td>\n",
       "                        <td id=\"T_1febda8a_fca0_11eb_95d7_acde48001122row11_col1\" class=\"data row11 col1\" >0.000855</td>\n",
       "            </tr>\n",
       "            <tr>\n",
       "                        <th id=\"T_1febda8a_fca0_11eb_95d7_acde48001122level0_row12\" class=\"row_heading level0 row12\" >gender_Male</th>\n",
       "                        <td id=\"T_1febda8a_fca0_11eb_95d7_acde48001122row12_col0\" class=\"data row12 col0\" >340.249068</td>\n",
       "                        <td id=\"T_1febda8a_fca0_11eb_95d7_acde48001122row12_col1\" class=\"data row12 col1\" >0.000000</td>\n",
       "            </tr>\n",
       "            <tr>\n",
       "                        <th id=\"T_1febda8a_fca0_11eb_95d7_acde48001122level0_row13\" class=\"row_heading level0 row13\" >gender_Female</th>\n",
       "                        <td id=\"T_1febda8a_fca0_11eb_95d7_acde48001122row13_col0\" class=\"data row13 col0\" >209.165600</td>\n",
       "                        <td id=\"T_1febda8a_fca0_11eb_95d7_acde48001122row13_col1\" class=\"data row13 col1\" >0.000000</td>\n",
       "            </tr>\n",
       "    </tbody></table>"
      ],
      "text/plain": [
       "<pandas.io.formats.style.Styler at 0x7fc786622c40>"
      ]
     },
     "execution_count": 62,
     "metadata": {},
     "output_type": "execute_result"
    }
   ],
   "source": [
    "# side-by-side comparison with mi\n",
    "merged = df_chi2.join(df_mi)\n",
    "merged.sort_values('SelectKBest-chi2', ascending=False).style.apply(highlight_top6)"
   ]
  },
  {
   "cell_type": "code",
   "execution_count": 63,
   "metadata": {},
   "outputs": [],
   "source": [
    "x_train_2 = select_feature.transform(x_train)\n",
    "x_test_2 = select_feature.transform(x_test)\n",
    "\n",
    "y_pred = make_y_pred(x_train_2, x_test_2, y_train)"
   ]
  },
  {
   "cell_type": "code",
   "execution_count": 64,
   "metadata": {
    "scrolled": true
   },
   "outputs": [
    {
     "data": {
      "text/html": [
       "<div>\n",
       "<style scoped>\n",
       "    .dataframe tbody tr th:only-of-type {\n",
       "        vertical-align: middle;\n",
       "    }\n",
       "\n",
       "    .dataframe tbody tr th {\n",
       "        vertical-align: top;\n",
       "    }\n",
       "\n",
       "    .dataframe thead th {\n",
       "        text-align: right;\n",
       "    }\n",
       "</style>\n",
       "<table border=\"1\" class=\"dataframe\">\n",
       "  <thead>\n",
       "    <tr style=\"text-align: right;\">\n",
       "      <th></th>\n",
       "      <th>Method</th>\n",
       "      <th>SelectedKBest-chi2</th>\n",
       "    </tr>\n",
       "  </thead>\n",
       "  <tbody>\n",
       "    <tr>\n",
       "      <th>0</th>\n",
       "      <td>Balanced Accuracy</td>\n",
       "      <td>0.831920</td>\n",
       "    </tr>\n",
       "    <tr>\n",
       "      <th>1</th>\n",
       "      <td>Sensitivity</td>\n",
       "      <td>0.993853</td>\n",
       "    </tr>\n",
       "    <tr>\n",
       "      <th>2</th>\n",
       "      <td>Specificity</td>\n",
       "      <td>0.669988</td>\n",
       "    </tr>\n",
       "    <tr>\n",
       "      <th>3</th>\n",
       "      <td>AUROC</td>\n",
       "      <td>0.831920</td>\n",
       "    </tr>\n",
       "    <tr>\n",
       "      <th>4</th>\n",
       "      <td>F1</td>\n",
       "      <td>0.657485</td>\n",
       "    </tr>\n",
       "    <tr>\n",
       "      <th>5</th>\n",
       "      <td>Geometric Mean</td>\n",
       "      <td>0.816008</td>\n",
       "    </tr>\n",
       "    <tr>\n",
       "      <th>6</th>\n",
       "      <td>Macro Average MAE</td>\n",
       "      <td>0.168080</td>\n",
       "    </tr>\n",
       "  </tbody>\n",
       "</table>\n",
       "</div>"
      ],
      "text/plain": [
       "              Method  SelectedKBest-chi2\n",
       "0  Balanced Accuracy            0.831920\n",
       "1        Sensitivity            0.993853\n",
       "2        Specificity            0.669988\n",
       "3              AUROC            0.831920\n",
       "4                 F1            0.657485\n",
       "5     Geometric Mean            0.816008\n",
       "6  Macro Average MAE            0.168080"
      ]
     },
     "execution_count": 64,
     "metadata": {},
     "output_type": "execute_result"
    }
   ],
   "source": [
    "results_select = pd.DataFrame(evaluate_imbalanced(y_test, y_pred).items(),columns=[ 'Method', 'SelectedKBest-chi2'])\n",
    "results_select"
   ]
  },
  {
   "cell_type": "code",
   "execution_count": 65,
   "metadata": {
    "scrolled": true
   },
   "outputs": [
    {
     "data": {
      "text/html": [
       "<div>\n",
       "<style scoped>\n",
       "    .dataframe tbody tr th:only-of-type {\n",
       "        vertical-align: middle;\n",
       "    }\n",
       "\n",
       "    .dataframe tbody tr th {\n",
       "        vertical-align: top;\n",
       "    }\n",
       "\n",
       "    .dataframe thead th {\n",
       "        text-align: right;\n",
       "    }\n",
       "</style>\n",
       "<table border=\"1\" class=\"dataframe\">\n",
       "  <thead>\n",
       "    <tr style=\"text-align: right;\">\n",
       "      <th></th>\n",
       "      <th>Original</th>\n",
       "      <th>SelectedKBest-chi2</th>\n",
       "      <th>%</th>\n",
       "    </tr>\n",
       "    <tr>\n",
       "      <th>Method</th>\n",
       "      <th></th>\n",
       "      <th></th>\n",
       "      <th></th>\n",
       "    </tr>\n",
       "  </thead>\n",
       "  <tbody>\n",
       "    <tr>\n",
       "      <th>Balanced Accuracy</th>\n",
       "      <td>0.824516</td>\n",
       "      <td>0.831920</td>\n",
       "      <td>0.9%</td>\n",
       "    </tr>\n",
       "    <tr>\n",
       "      <th>Sensitivity</th>\n",
       "      <td>0.994691</td>\n",
       "      <td>0.993853</td>\n",
       "      <td>-0.08%</td>\n",
       "    </tr>\n",
       "    <tr>\n",
       "      <th>Specificity</th>\n",
       "      <td>0.654340</td>\n",
       "      <td>0.669988</td>\n",
       "      <td>2.39%</td>\n",
       "    </tr>\n",
       "    <tr>\n",
       "      <th>AUROC</th>\n",
       "      <td>0.824516</td>\n",
       "      <td>0.831920</td>\n",
       "      <td>0.9%</td>\n",
       "    </tr>\n",
       "    <tr>\n",
       "      <th>F1</th>\n",
       "      <td>0.684547</td>\n",
       "      <td>0.657485</td>\n",
       "      <td>-3.95%</td>\n",
       "    </tr>\n",
       "    <tr>\n",
       "      <th>Geometric Mean</th>\n",
       "      <td>0.806763</td>\n",
       "      <td>0.816008</td>\n",
       "      <td>1.15%</td>\n",
       "    </tr>\n",
       "    <tr>\n",
       "      <th>Macro Average MAE</th>\n",
       "      <td>0.175484</td>\n",
       "      <td>0.168080</td>\n",
       "      <td>-4.22%</td>\n",
       "    </tr>\n",
       "  </tbody>\n",
       "</table>\n",
       "</div>"
      ],
      "text/plain": [
       "                   Original  SelectedKBest-chi2       %\n",
       "Method                                                 \n",
       "Balanced Accuracy  0.824516            0.831920    0.9%\n",
       "Sensitivity        0.994691            0.993853  -0.08%\n",
       "Specificity        0.654340            0.669988   2.39%\n",
       "AUROC              0.824516            0.831920    0.9%\n",
       "F1                 0.684547            0.657485  -3.95%\n",
       "Geometric Mean     0.806763            0.816008   1.15%\n",
       "Macro Average MAE  0.175484            0.168080  -4.22%"
      ]
     },
     "execution_count": 65,
     "metadata": {},
     "output_type": "execute_result"
    }
   ],
   "source": [
    "results = results_1.set_index('Method').join(results_select.set_index('Method'))\n",
    "results['%'] = (((results['SelectedKBest-chi2'] - results['Original']) / results['Original'])*100 ).round(2).astype(str) + '%'\n",
    "results"
   ]
  },
  {
   "cell_type": "code",
   "execution_count": 66,
   "metadata": {},
   "outputs": [
    {
     "data": {
      "image/png": "[encoded data removed]",
      "text/plain": [
       "<Figure size 360x360 with 2 Axes>"
      ]
     },
     "metadata": {},
     "output_type": "display_data"
    }
   ],
   "source": [
    "make_confusion_matrix(y_test,y_pred)"
   ]
  },
  {
   "cell_type": "markdown",
   "metadata": {},
   "source": [
    "## Feature selection--Wrapper method"
   ]
  },
  {
   "cell_type": "markdown",
   "metadata": {},
   "source": [
    "**Recursive feature elimination (RFE) with random forest**"
   ]
  },
  {
   "cell_type": "code",
   "execution_count": 67,
   "metadata": {},
   "outputs": [],
   "source": [
    "from sklearn.feature_selection import RFE\n",
    "# Create the RFE object and rank each pixel\n",
    "# using the same classifer as original \n",
    "model_ori = RandomForestClassifier(random_state=43)\n",
    "rfe = RFE(estimator=model_ori, n_features_to_select=6, step=1)\n",
    "rfe = rfe.fit(x_train, y_train)"
   ]
  },
  {
   "cell_type": "code",
   "execution_count": 68,
   "metadata": {
    "scrolled": false
   },
   "outputs": [
    {
     "data": {
      "text/html": [
       "<style  type=\"text/css\" >\n",
       "#T_4c210e18_fca0_11eb_95d7_acde48001122row0_col0,#T_4c210e18_fca0_11eb_95d7_acde48001122row1_col0,#T_4c210e18_fca0_11eb_95d7_acde48001122row2_col0,#T_4c210e18_fca0_11eb_95d7_acde48001122row3_col0,#T_4c210e18_fca0_11eb_95d7_acde48001122row4_col0,#T_4c210e18_fca0_11eb_95d7_acde48001122row5_col0{\n",
       "            background-color:  green;\n",
       "        }</style><table id=\"T_4c210e18_fca0_11eb_95d7_acde48001122\" ><thead>    <tr>        <th class=\"blank level0\" ></th>        <th class=\"col_heading level0 col0\" >RFE</th>    </tr></thead><tbody>\n",
       "                <tr>\n",
       "                        <th id=\"T_4c210e18_fca0_11eb_95d7_acde48001122level0_row0\" class=\"row_heading level0 row0\" >cough</th>\n",
       "                        <td id=\"T_4c210e18_fca0_11eb_95d7_acde48001122row0_col0\" class=\"data row0 col0\" >True</td>\n",
       "            </tr>\n",
       "            <tr>\n",
       "                        <th id=\"T_4c210e18_fca0_11eb_95d7_acde48001122level0_row1\" class=\"row_heading level0 row1\" >fever</th>\n",
       "                        <td id=\"T_4c210e18_fca0_11eb_95d7_acde48001122row1_col0\" class=\"data row1 col0\" >True</td>\n",
       "            </tr>\n",
       "            <tr>\n",
       "                        <th id=\"T_4c210e18_fca0_11eb_95d7_acde48001122level0_row2\" class=\"row_heading level0 row2\" >sore_throat</th>\n",
       "                        <td id=\"T_4c210e18_fca0_11eb_95d7_acde48001122row2_col0\" class=\"data row2 col0\" >True</td>\n",
       "            </tr>\n",
       "            <tr>\n",
       "                        <th id=\"T_4c210e18_fca0_11eb_95d7_acde48001122level0_row3\" class=\"row_heading level0 row3\" >head_ache</th>\n",
       "                        <td id=\"T_4c210e18_fca0_11eb_95d7_acde48001122row3_col0\" class=\"data row3 col0\" >True</td>\n",
       "            </tr>\n",
       "            <tr>\n",
       "                        <th id=\"T_4c210e18_fca0_11eb_95d7_acde48001122level0_row4\" class=\"row_heading level0 row4\" >test_indication_Contact with confirmed</th>\n",
       "                        <td id=\"T_4c210e18_fca0_11eb_95d7_acde48001122row4_col0\" class=\"data row4 col0\" >True</td>\n",
       "            </tr>\n",
       "            <tr>\n",
       "                        <th id=\"T_4c210e18_fca0_11eb_95d7_acde48001122level0_row5\" class=\"row_heading level0 row5\" >test_indication_Other</th>\n",
       "                        <td id=\"T_4c210e18_fca0_11eb_95d7_acde48001122row5_col0\" class=\"data row5 col0\" >True</td>\n",
       "            </tr>\n",
       "            <tr>\n",
       "                        <th id=\"T_4c210e18_fca0_11eb_95d7_acde48001122level0_row6\" class=\"row_heading level0 row6\" >shortness_of_breath</th>\n",
       "                        <td id=\"T_4c210e18_fca0_11eb_95d7_acde48001122row6_col0\" class=\"data row6 col0\" >False</td>\n",
       "            </tr>\n",
       "            <tr>\n",
       "                        <th id=\"T_4c210e18_fca0_11eb_95d7_acde48001122level0_row7\" class=\"row_heading level0 row7\" >age_Missing</th>\n",
       "                        <td id=\"T_4c210e18_fca0_11eb_95d7_acde48001122row7_col0\" class=\"data row7 col0\" >False</td>\n",
       "            </tr>\n",
       "            <tr>\n",
       "                        <th id=\"T_4c210e18_fca0_11eb_95d7_acde48001122level0_row8\" class=\"row_heading level0 row8\" >age_No</th>\n",
       "                        <td id=\"T_4c210e18_fca0_11eb_95d7_acde48001122row8_col0\" class=\"data row8 col0\" >False</td>\n",
       "            </tr>\n",
       "            <tr>\n",
       "                        <th id=\"T_4c210e18_fca0_11eb_95d7_acde48001122level0_row9\" class=\"row_heading level0 row9\" >age_Yes</th>\n",
       "                        <td id=\"T_4c210e18_fca0_11eb_95d7_acde48001122row9_col0\" class=\"data row9 col0\" >False</td>\n",
       "            </tr>\n",
       "            <tr>\n",
       "                        <th id=\"T_4c210e18_fca0_11eb_95d7_acde48001122level0_row10\" class=\"row_heading level0 row10\" >gender_Female</th>\n",
       "                        <td id=\"T_4c210e18_fca0_11eb_95d7_acde48001122row10_col0\" class=\"data row10 col0\" >False</td>\n",
       "            </tr>\n",
       "            <tr>\n",
       "                        <th id=\"T_4c210e18_fca0_11eb_95d7_acde48001122level0_row11\" class=\"row_heading level0 row11\" >gender_Male</th>\n",
       "                        <td id=\"T_4c210e18_fca0_11eb_95d7_acde48001122row11_col0\" class=\"data row11 col0\" >False</td>\n",
       "            </tr>\n",
       "            <tr>\n",
       "                        <th id=\"T_4c210e18_fca0_11eb_95d7_acde48001122level0_row12\" class=\"row_heading level0 row12\" >gender_Missing</th>\n",
       "                        <td id=\"T_4c210e18_fca0_11eb_95d7_acde48001122row12_col0\" class=\"data row12 col0\" >False</td>\n",
       "            </tr>\n",
       "            <tr>\n",
       "                        <th id=\"T_4c210e18_fca0_11eb_95d7_acde48001122level0_row13\" class=\"row_heading level0 row13\" >test_indication_Abroad</th>\n",
       "                        <td id=\"T_4c210e18_fca0_11eb_95d7_acde48001122row13_col0\" class=\"data row13 col0\" >False</td>\n",
       "            </tr>\n",
       "    </tbody></table>"
      ],
      "text/plain": [
       "<pandas.io.formats.style.Styler at 0x7fc7899ccdf0>"
      ]
     },
     "execution_count": 68,
     "metadata": {},
     "output_type": "execute_result"
    }
   ],
   "source": [
    "df_rfe = pd.DataFrame(rfe.support_, index=x_train.columns, columns=['RFE'])\n",
    "df_rfe.sort_values('RFE', ascending=False).style.apply(highlight_top6)"
   ]
  },
  {
   "cell_type": "code",
   "execution_count": 69,
   "metadata": {},
   "outputs": [
    {
     "data": {
      "text/html": [
       "<style  type=\"text/css\" >\n",
       "#T_4c237388_fca0_11eb_95d7_acde48001122row0_col0,#T_4c237388_fca0_11eb_95d7_acde48001122row0_col1,#T_4c237388_fca0_11eb_95d7_acde48001122row0_col2,#T_4c237388_fca0_11eb_95d7_acde48001122row1_col0,#T_4c237388_fca0_11eb_95d7_acde48001122row1_col1,#T_4c237388_fca0_11eb_95d7_acde48001122row1_col2,#T_4c237388_fca0_11eb_95d7_acde48001122row2_col0,#T_4c237388_fca0_11eb_95d7_acde48001122row2_col1,#T_4c237388_fca0_11eb_95d7_acde48001122row2_col2,#T_4c237388_fca0_11eb_95d7_acde48001122row3_col0,#T_4c237388_fca0_11eb_95d7_acde48001122row3_col1,#T_4c237388_fca0_11eb_95d7_acde48001122row3_col2,#T_4c237388_fca0_11eb_95d7_acde48001122row4_col1,#T_4c237388_fca0_11eb_95d7_acde48001122row4_col2,#T_4c237388_fca0_11eb_95d7_acde48001122row5_col1,#T_4c237388_fca0_11eb_95d7_acde48001122row7_col0,#T_4c237388_fca0_11eb_95d7_acde48001122row7_col2,#T_4c237388_fca0_11eb_95d7_acde48001122row9_col0{\n",
       "            background-color:  green;\n",
       "        }</style><table id=\"T_4c237388_fca0_11eb_95d7_acde48001122\" ><thead>    <tr>        <th class=\"blank level0\" ></th>        <th class=\"col_heading level0 col0\" >mutual_info_reg</th>        <th class=\"col_heading level0 col1\" >SelectKBest-chi2</th>        <th class=\"col_heading level0 col2\" >RFE</th>    </tr></thead><tbody>\n",
       "                <tr>\n",
       "                        <th id=\"T_4c237388_fca0_11eb_95d7_acde48001122level0_row0\" class=\"row_heading level0 row0\" >test_indication_Contact with confirmed</th>\n",
       "                        <td id=\"T_4c237388_fca0_11eb_95d7_acde48001122row0_col0\" class=\"data row0 col0\" >0.014649</td>\n",
       "                        <td id=\"T_4c237388_fca0_11eb_95d7_acde48001122row0_col1\" class=\"data row0 col1\" >97792.214762</td>\n",
       "                        <td id=\"T_4c237388_fca0_11eb_95d7_acde48001122row0_col2\" class=\"data row0 col2\" >True</td>\n",
       "            </tr>\n",
       "            <tr>\n",
       "                        <th id=\"T_4c237388_fca0_11eb_95d7_acde48001122level0_row1\" class=\"row_heading level0 row1\" >fever</th>\n",
       "                        <td id=\"T_4c237388_fca0_11eb_95d7_acde48001122row1_col0\" class=\"data row1 col0\" >0.010479</td>\n",
       "                        <td id=\"T_4c237388_fca0_11eb_95d7_acde48001122row1_col1\" class=\"data row1 col1\" >70120.384480</td>\n",
       "                        <td id=\"T_4c237388_fca0_11eb_95d7_acde48001122row1_col2\" class=\"data row1 col2\" >True</td>\n",
       "            </tr>\n",
       "            <tr>\n",
       "                        <th id=\"T_4c237388_fca0_11eb_95d7_acde48001122level0_row2\" class=\"row_heading level0 row2\" >head_ache</th>\n",
       "                        <td id=\"T_4c237388_fca0_11eb_95d7_acde48001122row2_col0\" class=\"data row2 col0\" >0.008842</td>\n",
       "                        <td id=\"T_4c237388_fca0_11eb_95d7_acde48001122row2_col1\" class=\"data row2 col1\" >62286.259488</td>\n",
       "                        <td id=\"T_4c237388_fca0_11eb_95d7_acde48001122row2_col2\" class=\"data row2 col2\" >True</td>\n",
       "            </tr>\n",
       "            <tr>\n",
       "                        <th id=\"T_4c237388_fca0_11eb_95d7_acde48001122level0_row3\" class=\"row_heading level0 row3\" >cough</th>\n",
       "                        <td id=\"T_4c237388_fca0_11eb_95d7_acde48001122row3_col0\" class=\"data row3 col0\" >0.008024</td>\n",
       "                        <td id=\"T_4c237388_fca0_11eb_95d7_acde48001122row3_col1\" class=\"data row3 col1\" >56200.021071</td>\n",
       "                        <td id=\"T_4c237388_fca0_11eb_95d7_acde48001122row3_col2\" class=\"data row3 col2\" >True</td>\n",
       "            </tr>\n",
       "            <tr>\n",
       "                        <th id=\"T_4c237388_fca0_11eb_95d7_acde48001122level0_row4\" class=\"row_heading level0 row4\" >sore_throat</th>\n",
       "                        <td id=\"T_4c237388_fca0_11eb_95d7_acde48001122row4_col0\" class=\"data row4 col0\" >0.003315</td>\n",
       "                        <td id=\"T_4c237388_fca0_11eb_95d7_acde48001122row4_col1\" class=\"data row4 col1\" >30008.323534</td>\n",
       "                        <td id=\"T_4c237388_fca0_11eb_95d7_acde48001122row4_col2\" class=\"data row4 col2\" >True</td>\n",
       "            </tr>\n",
       "            <tr>\n",
       "                        <th id=\"T_4c237388_fca0_11eb_95d7_acde48001122level0_row5\" class=\"row_heading level0 row5\" >shortness_of_breath</th>\n",
       "                        <td id=\"T_4c237388_fca0_11eb_95d7_acde48001122row5_col0\" class=\"data row5 col0\" >0.001459</td>\n",
       "                        <td id=\"T_4c237388_fca0_11eb_95d7_acde48001122row5_col1\" class=\"data row5 col1\" >4462.521708</td>\n",
       "                        <td id=\"T_4c237388_fca0_11eb_95d7_acde48001122row5_col2\" class=\"data row5 col2\" >False</td>\n",
       "            </tr>\n",
       "            <tr>\n",
       "                        <th id=\"T_4c237388_fca0_11eb_95d7_acde48001122level0_row6\" class=\"row_heading level0 row6\" >age_Yes</th>\n",
       "                        <td id=\"T_4c237388_fca0_11eb_95d7_acde48001122row6_col0\" class=\"data row6 col0\" >0.000000</td>\n",
       "                        <td id=\"T_4c237388_fca0_11eb_95d7_acde48001122row6_col1\" class=\"data row6 col1\" >754.507236</td>\n",
       "                        <td id=\"T_4c237388_fca0_11eb_95d7_acde48001122row6_col2\" class=\"data row6 col2\" >False</td>\n",
       "            </tr>\n",
       "            <tr>\n",
       "                        <th id=\"T_4c237388_fca0_11eb_95d7_acde48001122level0_row7\" class=\"row_heading level0 row7\" >test_indication_Other</th>\n",
       "                        <td id=\"T_4c237388_fca0_11eb_95d7_acde48001122row7_col0\" class=\"data row7 col0\" >0.016551</td>\n",
       "                        <td id=\"T_4c237388_fca0_11eb_95d7_acde48001122row7_col1\" class=\"data row7 col1\" >710.261205</td>\n",
       "                        <td id=\"T_4c237388_fca0_11eb_95d7_acde48001122row7_col2\" class=\"data row7 col2\" >True</td>\n",
       "            </tr>\n",
       "            <tr>\n",
       "                        <th id=\"T_4c237388_fca0_11eb_95d7_acde48001122level0_row8\" class=\"row_heading level0 row8\" >gender_Missing</th>\n",
       "                        <td id=\"T_4c237388_fca0_11eb_95d7_acde48001122row8_col0\" class=\"data row8 col0\" >0.001267</td>\n",
       "                        <td id=\"T_4c237388_fca0_11eb_95d7_acde48001122row8_col1\" class=\"data row8 col1\" >661.563719</td>\n",
       "                        <td id=\"T_4c237388_fca0_11eb_95d7_acde48001122row8_col2\" class=\"data row8 col2\" >False</td>\n",
       "            </tr>\n",
       "            <tr>\n",
       "                        <th id=\"T_4c237388_fca0_11eb_95d7_acde48001122level0_row9\" class=\"row_heading level0 row9\" >age_Missing</th>\n",
       "                        <td id=\"T_4c237388_fca0_11eb_95d7_acde48001122row9_col0\" class=\"data row9 col0\" >0.003642</td>\n",
       "                        <td id=\"T_4c237388_fca0_11eb_95d7_acde48001122row9_col1\" class=\"data row9 col1\" >598.631176</td>\n",
       "                        <td id=\"T_4c237388_fca0_11eb_95d7_acde48001122row9_col2\" class=\"data row9 col2\" >False</td>\n",
       "            </tr>\n",
       "            <tr>\n",
       "                        <th id=\"T_4c237388_fca0_11eb_95d7_acde48001122level0_row10\" class=\"row_heading level0 row10\" >test_indication_Abroad</th>\n",
       "                        <td id=\"T_4c237388_fca0_11eb_95d7_acde48001122row10_col0\" class=\"data row10 col0\" >0.000000</td>\n",
       "                        <td id=\"T_4c237388_fca0_11eb_95d7_acde48001122row10_col1\" class=\"data row10 col1\" >550.946819</td>\n",
       "                        <td id=\"T_4c237388_fca0_11eb_95d7_acde48001122row10_col2\" class=\"data row10 col2\" >False</td>\n",
       "            </tr>\n",
       "            <tr>\n",
       "                        <th id=\"T_4c237388_fca0_11eb_95d7_acde48001122level0_row11\" class=\"row_heading level0 row11\" >age_No</th>\n",
       "                        <td id=\"T_4c237388_fca0_11eb_95d7_acde48001122row11_col0\" class=\"data row11 col0\" >0.000855</td>\n",
       "                        <td id=\"T_4c237388_fca0_11eb_95d7_acde48001122row11_col1\" class=\"data row11 col1\" >393.129661</td>\n",
       "                        <td id=\"T_4c237388_fca0_11eb_95d7_acde48001122row11_col2\" class=\"data row11 col2\" >False</td>\n",
       "            </tr>\n",
       "            <tr>\n",
       "                        <th id=\"T_4c237388_fca0_11eb_95d7_acde48001122level0_row12\" class=\"row_heading level0 row12\" >gender_Male</th>\n",
       "                        <td id=\"T_4c237388_fca0_11eb_95d7_acde48001122row12_col0\" class=\"data row12 col0\" >0.000000</td>\n",
       "                        <td id=\"T_4c237388_fca0_11eb_95d7_acde48001122row12_col1\" class=\"data row12 col1\" >340.249068</td>\n",
       "                        <td id=\"T_4c237388_fca0_11eb_95d7_acde48001122row12_col2\" class=\"data row12 col2\" >False</td>\n",
       "            </tr>\n",
       "            <tr>\n",
       "                        <th id=\"T_4c237388_fca0_11eb_95d7_acde48001122level0_row13\" class=\"row_heading level0 row13\" >gender_Female</th>\n",
       "                        <td id=\"T_4c237388_fca0_11eb_95d7_acde48001122row13_col0\" class=\"data row13 col0\" >0.000000</td>\n",
       "                        <td id=\"T_4c237388_fca0_11eb_95d7_acde48001122row13_col1\" class=\"data row13 col1\" >209.165600</td>\n",
       "                        <td id=\"T_4c237388_fca0_11eb_95d7_acde48001122row13_col2\" class=\"data row13 col2\" >False</td>\n",
       "            </tr>\n",
       "    </tbody></table>"
      ],
      "text/plain": [
       "<pandas.io.formats.style.Styler at 0x7fc7895ffac0>"
      ]
     },
     "execution_count": 69,
     "metadata": {},
     "output_type": "execute_result"
    }
   ],
   "source": [
    "merged = df_mi.join(df_chi2.join(df_rfe))\n",
    "merged.sort_values('SelectKBest-chi2', ascending=False).style.apply(highlight_top6)"
   ]
  },
  {
   "cell_type": "markdown",
   "metadata": {},
   "source": [
    "**Findings: align mostly with SelectedKBest and the same as MI**"
   ]
  },
  {
   "cell_type": "code",
   "execution_count": 70,
   "metadata": {},
   "outputs": [],
   "source": [
    "# TO DO:\n",
    "# Why MI and RFE have test_indication_other"
   ]
  },
  {
   "cell_type": "markdown",
   "metadata": {},
   "source": [
    "## <font color='red'> DO NOT RUN THE SECTION BELOW THROUGH THE RFECV TABLE, THIS WILL TAKE FOREVER</font> \n",
    "\n"
   ]
  },
  {
   "cell_type": "markdown",
   "metadata": {},
   "source": [
    "**Recursive feature elimination with cross validation and random forest classification**"
   ]
  },
  {
   "cell_type": "code",
   "execution_count": 79,
   "metadata": {},
   "outputs": [
    {
     "ename": "KeyboardInterrupt",
     "evalue": "",
     "output_type": "error",
     "traceback": [
      "\u001b[0;31m---------------------------------------------------------------------------\u001b[0m",
      "\u001b[0;31mKeyboardInterrupt\u001b[0m                         Traceback (most recent call last)",
      "\u001b[0;32m<ipython-input-79-904ea99b5d39>\u001b[0m in \u001b[0;36m<module>\u001b[0;34m\u001b[0m\n\u001b[1;32m      4\u001b[0m \u001b[0;31m# using the same classifer as original\u001b[0m\u001b[0;34m\u001b[0m\u001b[0;34m\u001b[0m\u001b[0;34m\u001b[0m\u001b[0m\n\u001b[1;32m      5\u001b[0m \u001b[0mrfecv\u001b[0m \u001b[0;34m=\u001b[0m \u001b[0mRFECV\u001b[0m\u001b[0;34m(\u001b[0m\u001b[0mestimator\u001b[0m\u001b[0;34m=\u001b[0m\u001b[0mmodel_ori\u001b[0m\u001b[0;34m,\u001b[0m \u001b[0mstep\u001b[0m\u001b[0;34m=\u001b[0m\u001b[0;36m1\u001b[0m\u001b[0;34m,\u001b[0m \u001b[0mcv\u001b[0m\u001b[0;34m=\u001b[0m\u001b[0;36m5\u001b[0m\u001b[0;34m,\u001b[0m\u001b[0mscoring\u001b[0m\u001b[0;34m=\u001b[0m\u001b[0;34m'accuracy'\u001b[0m\u001b[0;34m)\u001b[0m   \u001b[0;31m#5-fold cross-validation\u001b[0m\u001b[0;34m\u001b[0m\u001b[0;34m\u001b[0m\u001b[0m\n\u001b[0;32m----> 6\u001b[0;31m \u001b[0mrfecv\u001b[0m \u001b[0;34m=\u001b[0m \u001b[0mrfecv\u001b[0m\u001b[0;34m.\u001b[0m\u001b[0mfit\u001b[0m\u001b[0;34m(\u001b[0m\u001b[0mx_train\u001b[0m\u001b[0;34m,\u001b[0m \u001b[0my_train\u001b[0m\u001b[0;34m)\u001b[0m\u001b[0;34m\u001b[0m\u001b[0;34m\u001b[0m\u001b[0m\n\u001b[0m",
      "\u001b[0;32m~/opt/anaconda3/lib/python3.8/site-packages/sklearn/feature_selection/_rfe.py\u001b[0m in \u001b[0;36mfit\u001b[0;34m(self, X, y, groups)\u001b[0m\n\u001b[1;32m    603\u001b[0m             \u001b[0mfunc\u001b[0m \u001b[0;34m=\u001b[0m \u001b[0mdelayed\u001b[0m\u001b[0;34m(\u001b[0m\u001b[0m_rfe_single_fit\u001b[0m\u001b[0;34m)\u001b[0m\u001b[0;34m\u001b[0m\u001b[0;34m\u001b[0m\u001b[0m\n\u001b[1;32m    604\u001b[0m \u001b[0;34m\u001b[0m\u001b[0m\n\u001b[0;32m--> 605\u001b[0;31m         scores = parallel(\n\u001b[0m\u001b[1;32m    606\u001b[0m             \u001b[0mfunc\u001b[0m\u001b[0;34m(\u001b[0m\u001b[0mrfe\u001b[0m\u001b[0;34m,\u001b[0m \u001b[0mself\u001b[0m\u001b[0;34m.\u001b[0m\u001b[0mestimator\u001b[0m\u001b[0;34m,\u001b[0m \u001b[0mX\u001b[0m\u001b[0;34m,\u001b[0m \u001b[0my\u001b[0m\u001b[0;34m,\u001b[0m \u001b[0mtrain\u001b[0m\u001b[0;34m,\u001b[0m \u001b[0mtest\u001b[0m\u001b[0;34m,\u001b[0m \u001b[0mscorer\u001b[0m\u001b[0;34m)\u001b[0m\u001b[0;34m\u001b[0m\u001b[0;34m\u001b[0m\u001b[0m\n\u001b[1;32m    607\u001b[0m             for train, test in cv.split(X, y, groups))\n",
      "\u001b[0;32m~/opt/anaconda3/lib/python3.8/site-packages/sklearn/feature_selection/_rfe.py\u001b[0m in \u001b[0;36m<genexpr>\u001b[0;34m(.0)\u001b[0m\n\u001b[1;32m    604\u001b[0m \u001b[0;34m\u001b[0m\u001b[0m\n\u001b[1;32m    605\u001b[0m         scores = parallel(\n\u001b[0;32m--> 606\u001b[0;31m             \u001b[0mfunc\u001b[0m\u001b[0;34m(\u001b[0m\u001b[0mrfe\u001b[0m\u001b[0;34m,\u001b[0m \u001b[0mself\u001b[0m\u001b[0;34m.\u001b[0m\u001b[0mestimator\u001b[0m\u001b[0;34m,\u001b[0m \u001b[0mX\u001b[0m\u001b[0;34m,\u001b[0m \u001b[0my\u001b[0m\u001b[0;34m,\u001b[0m \u001b[0mtrain\u001b[0m\u001b[0;34m,\u001b[0m \u001b[0mtest\u001b[0m\u001b[0;34m,\u001b[0m \u001b[0mscorer\u001b[0m\u001b[0;34m)\u001b[0m\u001b[0;34m\u001b[0m\u001b[0;34m\u001b[0m\u001b[0m\n\u001b[0m\u001b[1;32m    607\u001b[0m             for train, test in cv.split(X, y, groups))\n\u001b[1;32m    608\u001b[0m \u001b[0;34m\u001b[0m\u001b[0m\n",
      "\u001b[0;32m~/opt/anaconda3/lib/python3.8/site-packages/sklearn/feature_selection/_rfe.py\u001b[0m in \u001b[0;36m_rfe_single_fit\u001b[0;34m(rfe, estimator, X, y, train, test, scorer)\u001b[0m\n\u001b[1;32m     35\u001b[0m     \u001b[0mX_train\u001b[0m\u001b[0;34m,\u001b[0m \u001b[0my_train\u001b[0m \u001b[0;34m=\u001b[0m \u001b[0m_safe_split\u001b[0m\u001b[0;34m(\u001b[0m\u001b[0mestimator\u001b[0m\u001b[0;34m,\u001b[0m \u001b[0mX\u001b[0m\u001b[0;34m,\u001b[0m \u001b[0my\u001b[0m\u001b[0;34m,\u001b[0m \u001b[0mtrain\u001b[0m\u001b[0;34m)\u001b[0m\u001b[0;34m\u001b[0m\u001b[0;34m\u001b[0m\u001b[0m\n\u001b[1;32m     36\u001b[0m     \u001b[0mX_test\u001b[0m\u001b[0;34m,\u001b[0m \u001b[0my_test\u001b[0m \u001b[0;34m=\u001b[0m \u001b[0m_safe_split\u001b[0m\u001b[0;34m(\u001b[0m\u001b[0mestimator\u001b[0m\u001b[0;34m,\u001b[0m \u001b[0mX\u001b[0m\u001b[0;34m,\u001b[0m \u001b[0my\u001b[0m\u001b[0;34m,\u001b[0m \u001b[0mtest\u001b[0m\u001b[0;34m,\u001b[0m \u001b[0mtrain\u001b[0m\u001b[0;34m)\u001b[0m\u001b[0;34m\u001b[0m\u001b[0;34m\u001b[0m\u001b[0m\n\u001b[0;32m---> 37\u001b[0;31m     return rfe._fit(\n\u001b[0m\u001b[1;32m     38\u001b[0m         \u001b[0mX_train\u001b[0m\u001b[0;34m,\u001b[0m \u001b[0my_train\u001b[0m\u001b[0;34m,\u001b[0m\u001b[0;34m\u001b[0m\u001b[0;34m\u001b[0m\u001b[0m\n\u001b[1;32m     39\u001b[0m         lambda estimator, features: _score(\n",
      "\u001b[0;32m~/opt/anaconda3/lib/python3.8/site-packages/sklearn/feature_selection/_rfe.py\u001b[0m in \u001b[0;36m_fit\u001b[0;34m(self, X, y, step_score)\u001b[0m\n\u001b[1;32m    257\u001b[0m             \u001b[0;31m# that have not been eliminated yet\u001b[0m\u001b[0;34m\u001b[0m\u001b[0;34m\u001b[0m\u001b[0;34m\u001b[0m\u001b[0m\n\u001b[1;32m    258\u001b[0m             \u001b[0;32mif\u001b[0m \u001b[0mstep_score\u001b[0m\u001b[0;34m:\u001b[0m\u001b[0;34m\u001b[0m\u001b[0;34m\u001b[0m\u001b[0m\n\u001b[0;32m--> 259\u001b[0;31m                 \u001b[0mself\u001b[0m\u001b[0;34m.\u001b[0m\u001b[0mscores_\u001b[0m\u001b[0;34m.\u001b[0m\u001b[0mappend\u001b[0m\u001b[0;34m(\u001b[0m\u001b[0mstep_score\u001b[0m\u001b[0;34m(\u001b[0m\u001b[0mestimator\u001b[0m\u001b[0;34m,\u001b[0m \u001b[0mfeatures\u001b[0m\u001b[0;34m)\u001b[0m\u001b[0;34m)\u001b[0m\u001b[0;34m\u001b[0m\u001b[0;34m\u001b[0m\u001b[0m\n\u001b[0m\u001b[1;32m    260\u001b[0m             \u001b[0msupport_\u001b[0m\u001b[0;34m[\u001b[0m\u001b[0mfeatures\u001b[0m\u001b[0;34m[\u001b[0m\u001b[0mranks\u001b[0m\u001b[0;34m]\u001b[0m\u001b[0;34m[\u001b[0m\u001b[0;34m:\u001b[0m\u001b[0mthreshold\u001b[0m\u001b[0;34m]\u001b[0m\u001b[0;34m]\u001b[0m \u001b[0;34m=\u001b[0m \u001b[0;32mFalse\u001b[0m\u001b[0;34m\u001b[0m\u001b[0;34m\u001b[0m\u001b[0m\n\u001b[1;32m    261\u001b[0m             \u001b[0mranking_\u001b[0m\u001b[0;34m[\u001b[0m\u001b[0mnp\u001b[0m\u001b[0;34m.\u001b[0m\u001b[0mlogical_not\u001b[0m\u001b[0;34m(\u001b[0m\u001b[0msupport_\u001b[0m\u001b[0;34m)\u001b[0m\u001b[0;34m]\u001b[0m \u001b[0;34m+=\u001b[0m \u001b[0;36m1\u001b[0m\u001b[0;34m\u001b[0m\u001b[0;34m\u001b[0m\u001b[0m\n",
      "\u001b[0;32m~/opt/anaconda3/lib/python3.8/site-packages/sklearn/feature_selection/_rfe.py\u001b[0m in \u001b[0;36m<lambda>\u001b[0;34m(estimator, features)\u001b[0m\n\u001b[1;32m     37\u001b[0m     return rfe._fit(\n\u001b[1;32m     38\u001b[0m         \u001b[0mX_train\u001b[0m\u001b[0;34m,\u001b[0m \u001b[0my_train\u001b[0m\u001b[0;34m,\u001b[0m\u001b[0;34m\u001b[0m\u001b[0;34m\u001b[0m\u001b[0m\n\u001b[0;32m---> 39\u001b[0;31m         lambda estimator, features: _score(\n\u001b[0m\u001b[1;32m     40\u001b[0m             \u001b[0mestimator\u001b[0m\u001b[0;34m,\u001b[0m \u001b[0mX_test\u001b[0m\u001b[0;34m[\u001b[0m\u001b[0;34m:\u001b[0m\u001b[0;34m,\u001b[0m \u001b[0mfeatures\u001b[0m\u001b[0;34m]\u001b[0m\u001b[0;34m,\u001b[0m \u001b[0my_test\u001b[0m\u001b[0;34m,\u001b[0m \u001b[0mscorer\u001b[0m\u001b[0;34m\u001b[0m\u001b[0;34m\u001b[0m\u001b[0m\n\u001b[1;32m     41\u001b[0m         )).scores_\n",
      "\u001b[0;32m~/opt/anaconda3/lib/python3.8/site-packages/sklearn/model_selection/_validation.py\u001b[0m in \u001b[0;36m_score\u001b[0;34m(estimator, X_test, y_test, scorer, error_score)\u001b[0m\n\u001b[1;32m    685\u001b[0m             \u001b[0mscores\u001b[0m \u001b[0;34m=\u001b[0m \u001b[0mscorer\u001b[0m\u001b[0;34m(\u001b[0m\u001b[0mestimator\u001b[0m\u001b[0;34m,\u001b[0m \u001b[0mX_test\u001b[0m\u001b[0;34m)\u001b[0m\u001b[0;34m\u001b[0m\u001b[0;34m\u001b[0m\u001b[0m\n\u001b[1;32m    686\u001b[0m         \u001b[0;32melse\u001b[0m\u001b[0;34m:\u001b[0m\u001b[0;34m\u001b[0m\u001b[0;34m\u001b[0m\u001b[0m\n\u001b[0;32m--> 687\u001b[0;31m             \u001b[0mscores\u001b[0m \u001b[0;34m=\u001b[0m \u001b[0mscorer\u001b[0m\u001b[0;34m(\u001b[0m\u001b[0mestimator\u001b[0m\u001b[0;34m,\u001b[0m \u001b[0mX_test\u001b[0m\u001b[0;34m,\u001b[0m \u001b[0my_test\u001b[0m\u001b[0;34m)\u001b[0m\u001b[0;34m\u001b[0m\u001b[0;34m\u001b[0m\u001b[0m\n\u001b[0m\u001b[1;32m    688\u001b[0m     \u001b[0;32mexcept\u001b[0m \u001b[0mException\u001b[0m\u001b[0;34m:\u001b[0m\u001b[0;34m\u001b[0m\u001b[0;34m\u001b[0m\u001b[0m\n\u001b[1;32m    689\u001b[0m         \u001b[0;32mif\u001b[0m \u001b[0merror_score\u001b[0m \u001b[0;34m==\u001b[0m \u001b[0;34m'raise'\u001b[0m\u001b[0;34m:\u001b[0m\u001b[0;34m\u001b[0m\u001b[0;34m\u001b[0m\u001b[0m\n",
      "\u001b[0;32m~/opt/anaconda3/lib/python3.8/site-packages/sklearn/metrics/_scorer.py\u001b[0m in \u001b[0;36m__call__\u001b[0;34m(self, estimator, X, y_true, sample_weight)\u001b[0m\n\u001b[1;32m    197\u001b[0m             \u001b[0mScore\u001b[0m \u001b[0mfunction\u001b[0m \u001b[0mapplied\u001b[0m \u001b[0mto\u001b[0m \u001b[0mprediction\u001b[0m \u001b[0mof\u001b[0m \u001b[0mestimator\u001b[0m \u001b[0mon\u001b[0m \u001b[0mX\u001b[0m\u001b[0;34m.\u001b[0m\u001b[0;34m\u001b[0m\u001b[0;34m\u001b[0m\u001b[0m\n\u001b[1;32m    198\u001b[0m         \"\"\"\n\u001b[0;32m--> 199\u001b[0;31m         return self._score(partial(_cached_call, None), estimator, X, y_true,\n\u001b[0m\u001b[1;32m    200\u001b[0m                            sample_weight=sample_weight)\n\u001b[1;32m    201\u001b[0m \u001b[0;34m\u001b[0m\u001b[0m\n",
      "\u001b[0;32m~/opt/anaconda3/lib/python3.8/site-packages/sklearn/metrics/_scorer.py\u001b[0m in \u001b[0;36m_score\u001b[0;34m(self, method_caller, estimator, X, y_true, sample_weight)\u001b[0m\n\u001b[1;32m    234\u001b[0m         \"\"\"\n\u001b[1;32m    235\u001b[0m \u001b[0;34m\u001b[0m\u001b[0m\n\u001b[0;32m--> 236\u001b[0;31m         \u001b[0my_pred\u001b[0m \u001b[0;34m=\u001b[0m \u001b[0mmethod_caller\u001b[0m\u001b[0;34m(\u001b[0m\u001b[0mestimator\u001b[0m\u001b[0;34m,\u001b[0m \u001b[0;34m\"predict\"\u001b[0m\u001b[0;34m,\u001b[0m \u001b[0mX\u001b[0m\u001b[0;34m)\u001b[0m\u001b[0;34m\u001b[0m\u001b[0;34m\u001b[0m\u001b[0m\n\u001b[0m\u001b[1;32m    237\u001b[0m         \u001b[0;32mif\u001b[0m \u001b[0msample_weight\u001b[0m \u001b[0;32mis\u001b[0m \u001b[0;32mnot\u001b[0m \u001b[0;32mNone\u001b[0m\u001b[0;34m:\u001b[0m\u001b[0;34m\u001b[0m\u001b[0;34m\u001b[0m\u001b[0m\n\u001b[1;32m    238\u001b[0m             return self._sign * self._score_func(y_true, y_pred,\n",
      "\u001b[0;32m~/opt/anaconda3/lib/python3.8/site-packages/sklearn/metrics/_scorer.py\u001b[0m in \u001b[0;36m_cached_call\u001b[0;34m(cache, estimator, method, *args, **kwargs)\u001b[0m\n\u001b[1;32m     51\u001b[0m     \u001b[0;34m\"\"\"Call estimator with method and args and kwargs.\"\"\"\u001b[0m\u001b[0;34m\u001b[0m\u001b[0;34m\u001b[0m\u001b[0m\n\u001b[1;32m     52\u001b[0m     \u001b[0;32mif\u001b[0m \u001b[0mcache\u001b[0m \u001b[0;32mis\u001b[0m \u001b[0;32mNone\u001b[0m\u001b[0;34m:\u001b[0m\u001b[0;34m\u001b[0m\u001b[0;34m\u001b[0m\u001b[0m\n\u001b[0;32m---> 53\u001b[0;31m         \u001b[0;32mreturn\u001b[0m \u001b[0mgetattr\u001b[0m\u001b[0;34m(\u001b[0m\u001b[0mestimator\u001b[0m\u001b[0;34m,\u001b[0m \u001b[0mmethod\u001b[0m\u001b[0;34m)\u001b[0m\u001b[0;34m(\u001b[0m\u001b[0;34m*\u001b[0m\u001b[0margs\u001b[0m\u001b[0;34m,\u001b[0m \u001b[0;34m**\u001b[0m\u001b[0mkwargs\u001b[0m\u001b[0;34m)\u001b[0m\u001b[0;34m\u001b[0m\u001b[0;34m\u001b[0m\u001b[0m\n\u001b[0m\u001b[1;32m     54\u001b[0m \u001b[0;34m\u001b[0m\u001b[0m\n\u001b[1;32m     55\u001b[0m     \u001b[0;32mtry\u001b[0m\u001b[0;34m:\u001b[0m\u001b[0;34m\u001b[0m\u001b[0;34m\u001b[0m\u001b[0m\n",
      "\u001b[0;32m~/opt/anaconda3/lib/python3.8/site-packages/sklearn/ensemble/_forest.py\u001b[0m in \u001b[0;36mpredict\u001b[0;34m(self, X)\u001b[0m\n\u001b[1;32m    628\u001b[0m             \u001b[0mThe\u001b[0m \u001b[0mpredicted\u001b[0m \u001b[0mclasses\u001b[0m\u001b[0;34m.\u001b[0m\u001b[0;34m\u001b[0m\u001b[0;34m\u001b[0m\u001b[0m\n\u001b[1;32m    629\u001b[0m         \"\"\"\n\u001b[0;32m--> 630\u001b[0;31m         \u001b[0mproba\u001b[0m \u001b[0;34m=\u001b[0m \u001b[0mself\u001b[0m\u001b[0;34m.\u001b[0m\u001b[0mpredict_proba\u001b[0m\u001b[0;34m(\u001b[0m\u001b[0mX\u001b[0m\u001b[0;34m)\u001b[0m\u001b[0;34m\u001b[0m\u001b[0;34m\u001b[0m\u001b[0m\n\u001b[0m\u001b[1;32m    631\u001b[0m \u001b[0;34m\u001b[0m\u001b[0m\n\u001b[1;32m    632\u001b[0m         \u001b[0;32mif\u001b[0m \u001b[0mself\u001b[0m\u001b[0;34m.\u001b[0m\u001b[0mn_outputs_\u001b[0m \u001b[0;34m==\u001b[0m \u001b[0;36m1\u001b[0m\u001b[0;34m:\u001b[0m\u001b[0;34m\u001b[0m\u001b[0;34m\u001b[0m\u001b[0m\n",
      "\u001b[0;32m~/opt/anaconda3/lib/python3.8/site-packages/sklearn/ensemble/_forest.py\u001b[0m in \u001b[0;36mpredict_proba\u001b[0;34m(self, X)\u001b[0m\n\u001b[1;32m    681\u001b[0m                      for j in np.atleast_1d(self.n_classes_)]\n\u001b[1;32m    682\u001b[0m         \u001b[0mlock\u001b[0m \u001b[0;34m=\u001b[0m \u001b[0mthreading\u001b[0m\u001b[0;34m.\u001b[0m\u001b[0mLock\u001b[0m\u001b[0;34m(\u001b[0m\u001b[0;34m)\u001b[0m\u001b[0;34m\u001b[0m\u001b[0;34m\u001b[0m\u001b[0m\n\u001b[0;32m--> 683\u001b[0;31m         Parallel(n_jobs=n_jobs, verbose=self.verbose,\n\u001b[0m\u001b[1;32m    684\u001b[0m                  \u001b[0;34m**\u001b[0m\u001b[0m_joblib_parallel_args\u001b[0m\u001b[0;34m(\u001b[0m\u001b[0mrequire\u001b[0m\u001b[0;34m=\u001b[0m\u001b[0;34m\"sharedmem\"\u001b[0m\u001b[0;34m)\u001b[0m\u001b[0;34m)\u001b[0m\u001b[0;34m(\u001b[0m\u001b[0;34m\u001b[0m\u001b[0;34m\u001b[0m\u001b[0m\n\u001b[1;32m    685\u001b[0m             delayed(_accumulate_prediction)(e.predict_proba, X, all_proba,\n",
      "\u001b[0;32m~/opt/anaconda3/lib/python3.8/site-packages/joblib/parallel.py\u001b[0m in \u001b[0;36m__call__\u001b[0;34m(self, iterable)\u001b[0m\n\u001b[1;32m   1049\u001b[0m                 \u001b[0mself\u001b[0m\u001b[0;34m.\u001b[0m\u001b[0m_iterating\u001b[0m \u001b[0;34m=\u001b[0m \u001b[0mself\u001b[0m\u001b[0;34m.\u001b[0m\u001b[0m_original_iterator\u001b[0m \u001b[0;32mis\u001b[0m \u001b[0;32mnot\u001b[0m \u001b[0;32mNone\u001b[0m\u001b[0;34m\u001b[0m\u001b[0;34m\u001b[0m\u001b[0m\n\u001b[1;32m   1050\u001b[0m \u001b[0;34m\u001b[0m\u001b[0m\n\u001b[0;32m-> 1051\u001b[0;31m             \u001b[0;32mwhile\u001b[0m \u001b[0mself\u001b[0m\u001b[0;34m.\u001b[0m\u001b[0mdispatch_one_batch\u001b[0m\u001b[0;34m(\u001b[0m\u001b[0miterator\u001b[0m\u001b[0;34m)\u001b[0m\u001b[0;34m:\u001b[0m\u001b[0;34m\u001b[0m\u001b[0;34m\u001b[0m\u001b[0m\n\u001b[0m\u001b[1;32m   1052\u001b[0m                 \u001b[0;32mpass\u001b[0m\u001b[0;34m\u001b[0m\u001b[0;34m\u001b[0m\u001b[0m\n\u001b[1;32m   1053\u001b[0m \u001b[0;34m\u001b[0m\u001b[0m\n",
      "\u001b[0;32m~/opt/anaconda3/lib/python3.8/site-packages/joblib/parallel.py\u001b[0m in \u001b[0;36mdispatch_one_batch\u001b[0;34m(self, iterator)\u001b[0m\n\u001b[1;32m    864\u001b[0m                 \u001b[0;32mreturn\u001b[0m \u001b[0;32mFalse\u001b[0m\u001b[0;34m\u001b[0m\u001b[0;34m\u001b[0m\u001b[0m\n\u001b[1;32m    865\u001b[0m             \u001b[0;32melse\u001b[0m\u001b[0;34m:\u001b[0m\u001b[0;34m\u001b[0m\u001b[0;34m\u001b[0m\u001b[0m\n\u001b[0;32m--> 866\u001b[0;31m                 \u001b[0mself\u001b[0m\u001b[0;34m.\u001b[0m\u001b[0m_dispatch\u001b[0m\u001b[0;34m(\u001b[0m\u001b[0mtasks\u001b[0m\u001b[0;34m)\u001b[0m\u001b[0;34m\u001b[0m\u001b[0;34m\u001b[0m\u001b[0m\n\u001b[0m\u001b[1;32m    867\u001b[0m                 \u001b[0;32mreturn\u001b[0m \u001b[0;32mTrue\u001b[0m\u001b[0;34m\u001b[0m\u001b[0;34m\u001b[0m\u001b[0m\n\u001b[1;32m    868\u001b[0m \u001b[0;34m\u001b[0m\u001b[0m\n",
      "\u001b[0;32m~/opt/anaconda3/lib/python3.8/site-packages/joblib/parallel.py\u001b[0m in \u001b[0;36m_dispatch\u001b[0;34m(self, batch)\u001b[0m\n\u001b[1;32m    782\u001b[0m         \u001b[0;32mwith\u001b[0m \u001b[0mself\u001b[0m\u001b[0;34m.\u001b[0m\u001b[0m_lock\u001b[0m\u001b[0;34m:\u001b[0m\u001b[0;34m\u001b[0m\u001b[0;34m\u001b[0m\u001b[0m\n\u001b[1;32m    783\u001b[0m             \u001b[0mjob_idx\u001b[0m \u001b[0;34m=\u001b[0m \u001b[0mlen\u001b[0m\u001b[0;34m(\u001b[0m\u001b[0mself\u001b[0m\u001b[0;34m.\u001b[0m\u001b[0m_jobs\u001b[0m\u001b[0;34m)\u001b[0m\u001b[0;34m\u001b[0m\u001b[0;34m\u001b[0m\u001b[0m\n\u001b[0;32m--> 784\u001b[0;31m             \u001b[0mjob\u001b[0m \u001b[0;34m=\u001b[0m \u001b[0mself\u001b[0m\u001b[0;34m.\u001b[0m\u001b[0m_backend\u001b[0m\u001b[0;34m.\u001b[0m\u001b[0mapply_async\u001b[0m\u001b[0;34m(\u001b[0m\u001b[0mbatch\u001b[0m\u001b[0;34m,\u001b[0m \u001b[0mcallback\u001b[0m\u001b[0;34m=\u001b[0m\u001b[0mcb\u001b[0m\u001b[0;34m)\u001b[0m\u001b[0;34m\u001b[0m\u001b[0;34m\u001b[0m\u001b[0m\n\u001b[0m\u001b[1;32m    785\u001b[0m             \u001b[0;31m# A job can complete so quickly than its callback is\u001b[0m\u001b[0;34m\u001b[0m\u001b[0;34m\u001b[0m\u001b[0;34m\u001b[0m\u001b[0m\n\u001b[1;32m    786\u001b[0m             \u001b[0;31m# called before we get here, causing self._jobs to\u001b[0m\u001b[0;34m\u001b[0m\u001b[0;34m\u001b[0m\u001b[0;34m\u001b[0m\u001b[0m\n",
      "\u001b[0;32m~/opt/anaconda3/lib/python3.8/site-packages/joblib/_parallel_backends.py\u001b[0m in \u001b[0;36mapply_async\u001b[0;34m(self, func, callback)\u001b[0m\n\u001b[1;32m    206\u001b[0m     \u001b[0;32mdef\u001b[0m \u001b[0mapply_async\u001b[0m\u001b[0;34m(\u001b[0m\u001b[0mself\u001b[0m\u001b[0;34m,\u001b[0m \u001b[0mfunc\u001b[0m\u001b[0;34m,\u001b[0m \u001b[0mcallback\u001b[0m\u001b[0;34m=\u001b[0m\u001b[0;32mNone\u001b[0m\u001b[0;34m)\u001b[0m\u001b[0;34m:\u001b[0m\u001b[0;34m\u001b[0m\u001b[0;34m\u001b[0m\u001b[0m\n\u001b[1;32m    207\u001b[0m         \u001b[0;34m\"\"\"Schedule a func to be run\"\"\"\u001b[0m\u001b[0;34m\u001b[0m\u001b[0;34m\u001b[0m\u001b[0m\n\u001b[0;32m--> 208\u001b[0;31m         \u001b[0mresult\u001b[0m \u001b[0;34m=\u001b[0m \u001b[0mImmediateResult\u001b[0m\u001b[0;34m(\u001b[0m\u001b[0mfunc\u001b[0m\u001b[0;34m)\u001b[0m\u001b[0;34m\u001b[0m\u001b[0;34m\u001b[0m\u001b[0m\n\u001b[0m\u001b[1;32m    209\u001b[0m         \u001b[0;32mif\u001b[0m \u001b[0mcallback\u001b[0m\u001b[0;34m:\u001b[0m\u001b[0;34m\u001b[0m\u001b[0;34m\u001b[0m\u001b[0m\n\u001b[1;32m    210\u001b[0m             \u001b[0mcallback\u001b[0m\u001b[0;34m(\u001b[0m\u001b[0mresult\u001b[0m\u001b[0;34m)\u001b[0m\u001b[0;34m\u001b[0m\u001b[0;34m\u001b[0m\u001b[0m\n",
      "\u001b[0;32m~/opt/anaconda3/lib/python3.8/site-packages/joblib/_parallel_backends.py\u001b[0m in \u001b[0;36m__init__\u001b[0;34m(self, batch)\u001b[0m\n\u001b[1;32m    570\u001b[0m         \u001b[0;31m# Don't delay the application, to avoid keeping the input\u001b[0m\u001b[0;34m\u001b[0m\u001b[0;34m\u001b[0m\u001b[0;34m\u001b[0m\u001b[0m\n\u001b[1;32m    571\u001b[0m         \u001b[0;31m# arguments in memory\u001b[0m\u001b[0;34m\u001b[0m\u001b[0;34m\u001b[0m\u001b[0;34m\u001b[0m\u001b[0m\n\u001b[0;32m--> 572\u001b[0;31m         \u001b[0mself\u001b[0m\u001b[0;34m.\u001b[0m\u001b[0mresults\u001b[0m \u001b[0;34m=\u001b[0m \u001b[0mbatch\u001b[0m\u001b[0;34m(\u001b[0m\u001b[0;34m)\u001b[0m\u001b[0;34m\u001b[0m\u001b[0;34m\u001b[0m\u001b[0m\n\u001b[0m\u001b[1;32m    573\u001b[0m \u001b[0;34m\u001b[0m\u001b[0m\n\u001b[1;32m    574\u001b[0m     \u001b[0;32mdef\u001b[0m \u001b[0mget\u001b[0m\u001b[0;34m(\u001b[0m\u001b[0mself\u001b[0m\u001b[0;34m)\u001b[0m\u001b[0;34m:\u001b[0m\u001b[0;34m\u001b[0m\u001b[0;34m\u001b[0m\u001b[0m\n",
      "\u001b[0;32m~/opt/anaconda3/lib/python3.8/site-packages/joblib/parallel.py\u001b[0m in \u001b[0;36m__call__\u001b[0;34m(self)\u001b[0m\n\u001b[1;32m    260\u001b[0m         \u001b[0;31m# change the default number of processes to -1\u001b[0m\u001b[0;34m\u001b[0m\u001b[0;34m\u001b[0m\u001b[0;34m\u001b[0m\u001b[0m\n\u001b[1;32m    261\u001b[0m         \u001b[0;32mwith\u001b[0m \u001b[0mparallel_backend\u001b[0m\u001b[0;34m(\u001b[0m\u001b[0mself\u001b[0m\u001b[0;34m.\u001b[0m\u001b[0m_backend\u001b[0m\u001b[0;34m,\u001b[0m \u001b[0mn_jobs\u001b[0m\u001b[0;34m=\u001b[0m\u001b[0mself\u001b[0m\u001b[0;34m.\u001b[0m\u001b[0m_n_jobs\u001b[0m\u001b[0;34m)\u001b[0m\u001b[0;34m:\u001b[0m\u001b[0;34m\u001b[0m\u001b[0;34m\u001b[0m\u001b[0m\n\u001b[0;32m--> 262\u001b[0;31m             return [func(*args, **kwargs)\n\u001b[0m\u001b[1;32m    263\u001b[0m                     for func, args, kwargs in self.items]\n\u001b[1;32m    264\u001b[0m \u001b[0;34m\u001b[0m\u001b[0m\n",
      "\u001b[0;32m~/opt/anaconda3/lib/python3.8/site-packages/joblib/parallel.py\u001b[0m in \u001b[0;36m<listcomp>\u001b[0;34m(.0)\u001b[0m\n\u001b[1;32m    260\u001b[0m         \u001b[0;31m# change the default number of processes to -1\u001b[0m\u001b[0;34m\u001b[0m\u001b[0;34m\u001b[0m\u001b[0;34m\u001b[0m\u001b[0m\n\u001b[1;32m    261\u001b[0m         \u001b[0;32mwith\u001b[0m \u001b[0mparallel_backend\u001b[0m\u001b[0;34m(\u001b[0m\u001b[0mself\u001b[0m\u001b[0;34m.\u001b[0m\u001b[0m_backend\u001b[0m\u001b[0;34m,\u001b[0m \u001b[0mn_jobs\u001b[0m\u001b[0;34m=\u001b[0m\u001b[0mself\u001b[0m\u001b[0;34m.\u001b[0m\u001b[0m_n_jobs\u001b[0m\u001b[0;34m)\u001b[0m\u001b[0;34m:\u001b[0m\u001b[0;34m\u001b[0m\u001b[0;34m\u001b[0m\u001b[0m\n\u001b[0;32m--> 262\u001b[0;31m             return [func(*args, **kwargs)\n\u001b[0m\u001b[1;32m    263\u001b[0m                     for func, args, kwargs in self.items]\n\u001b[1;32m    264\u001b[0m \u001b[0;34m\u001b[0m\u001b[0m\n",
      "\u001b[0;32m~/opt/anaconda3/lib/python3.8/site-packages/sklearn/utils/fixes.py\u001b[0m in \u001b[0;36m__call__\u001b[0;34m(self, *args, **kwargs)\u001b[0m\n\u001b[1;32m    220\u001b[0m     \u001b[0;32mdef\u001b[0m \u001b[0m__call__\u001b[0m\u001b[0;34m(\u001b[0m\u001b[0mself\u001b[0m\u001b[0;34m,\u001b[0m \u001b[0;34m*\u001b[0m\u001b[0margs\u001b[0m\u001b[0;34m,\u001b[0m \u001b[0;34m**\u001b[0m\u001b[0mkwargs\u001b[0m\u001b[0;34m)\u001b[0m\u001b[0;34m:\u001b[0m\u001b[0;34m\u001b[0m\u001b[0;34m\u001b[0m\u001b[0m\n\u001b[1;32m    221\u001b[0m         \u001b[0;32mwith\u001b[0m \u001b[0mconfig_context\u001b[0m\u001b[0;34m(\u001b[0m\u001b[0;34m**\u001b[0m\u001b[0mself\u001b[0m\u001b[0;34m.\u001b[0m\u001b[0mconfig\u001b[0m\u001b[0;34m)\u001b[0m\u001b[0;34m:\u001b[0m\u001b[0;34m\u001b[0m\u001b[0;34m\u001b[0m\u001b[0m\n\u001b[0;32m--> 222\u001b[0;31m             \u001b[0;32mreturn\u001b[0m \u001b[0mself\u001b[0m\u001b[0;34m.\u001b[0m\u001b[0mfunction\u001b[0m\u001b[0;34m(\u001b[0m\u001b[0;34m*\u001b[0m\u001b[0margs\u001b[0m\u001b[0;34m,\u001b[0m \u001b[0;34m**\u001b[0m\u001b[0mkwargs\u001b[0m\u001b[0;34m)\u001b[0m\u001b[0;34m\u001b[0m\u001b[0;34m\u001b[0m\u001b[0m\n\u001b[0m",
      "\u001b[0;32m~/opt/anaconda3/lib/python3.8/site-packages/sklearn/ensemble/_forest.py\u001b[0m in \u001b[0;36m_accumulate_prediction\u001b[0;34m(predict, X, out, lock)\u001b[0m\n\u001b[1;32m    465\u001b[0m     \u001b[0mcomplains\u001b[0m \u001b[0mthat\u001b[0m \u001b[0mit\u001b[0m \u001b[0mcannot\u001b[0m \u001b[0mpickle\u001b[0m \u001b[0mit\u001b[0m \u001b[0mwhen\u001b[0m \u001b[0mplaced\u001b[0m \u001b[0mthere\u001b[0m\u001b[0;34m.\u001b[0m\u001b[0;34m\u001b[0m\u001b[0;34m\u001b[0m\u001b[0m\n\u001b[1;32m    466\u001b[0m     \"\"\"\n\u001b[0;32m--> 467\u001b[0;31m     \u001b[0mprediction\u001b[0m \u001b[0;34m=\u001b[0m \u001b[0mpredict\u001b[0m\u001b[0;34m(\u001b[0m\u001b[0mX\u001b[0m\u001b[0;34m,\u001b[0m \u001b[0mcheck_input\u001b[0m\u001b[0;34m=\u001b[0m\u001b[0;32mFalse\u001b[0m\u001b[0;34m)\u001b[0m\u001b[0;34m\u001b[0m\u001b[0;34m\u001b[0m\u001b[0m\n\u001b[0m\u001b[1;32m    468\u001b[0m     \u001b[0;32mwith\u001b[0m \u001b[0mlock\u001b[0m\u001b[0;34m:\u001b[0m\u001b[0;34m\u001b[0m\u001b[0;34m\u001b[0m\u001b[0m\n\u001b[1;32m    469\u001b[0m         \u001b[0;32mif\u001b[0m \u001b[0mlen\u001b[0m\u001b[0;34m(\u001b[0m\u001b[0mout\u001b[0m\u001b[0;34m)\u001b[0m \u001b[0;34m==\u001b[0m \u001b[0;36m1\u001b[0m\u001b[0;34m:\u001b[0m\u001b[0;34m\u001b[0m\u001b[0;34m\u001b[0m\u001b[0m\n",
      "\u001b[0;32m~/opt/anaconda3/lib/python3.8/site-packages/sklearn/tree/_classes.py\u001b[0m in \u001b[0;36mpredict_proba\u001b[0;34m(self, X, check_input)\u001b[0m\n\u001b[1;32m    940\u001b[0m             \u001b[0mnormalizer\u001b[0m \u001b[0;34m=\u001b[0m \u001b[0mproba\u001b[0m\u001b[0;34m.\u001b[0m\u001b[0msum\u001b[0m\u001b[0;34m(\u001b[0m\u001b[0maxis\u001b[0m\u001b[0;34m=\u001b[0m\u001b[0;36m1\u001b[0m\u001b[0;34m)\u001b[0m\u001b[0;34m[\u001b[0m\u001b[0;34m:\u001b[0m\u001b[0;34m,\u001b[0m \u001b[0mnp\u001b[0m\u001b[0;34m.\u001b[0m\u001b[0mnewaxis\u001b[0m\u001b[0;34m]\u001b[0m\u001b[0;34m\u001b[0m\u001b[0;34m\u001b[0m\u001b[0m\n\u001b[1;32m    941\u001b[0m             \u001b[0mnormalizer\u001b[0m\u001b[0;34m[\u001b[0m\u001b[0mnormalizer\u001b[0m \u001b[0;34m==\u001b[0m \u001b[0;36m0.0\u001b[0m\u001b[0;34m]\u001b[0m \u001b[0;34m=\u001b[0m \u001b[0;36m1.0\u001b[0m\u001b[0;34m\u001b[0m\u001b[0;34m\u001b[0m\u001b[0m\n\u001b[0;32m--> 942\u001b[0;31m             \u001b[0mproba\u001b[0m \u001b[0;34m/=\u001b[0m \u001b[0mnormalizer\u001b[0m\u001b[0;34m\u001b[0m\u001b[0;34m\u001b[0m\u001b[0m\n\u001b[0m\u001b[1;32m    943\u001b[0m \u001b[0;34m\u001b[0m\u001b[0m\n\u001b[1;32m    944\u001b[0m             \u001b[0;32mreturn\u001b[0m \u001b[0mproba\u001b[0m\u001b[0;34m\u001b[0m\u001b[0;34m\u001b[0m\u001b[0m\n",
      "\u001b[0;31mKeyboardInterrupt\u001b[0m: "
     ]
    }
   ],
   "source": [
    "from sklearn.feature_selection import RFECV\n",
    "\n",
    "# The \"accuracy\" scoring is proportional to the number of correct classifications\n",
    "# using the same classifer as original \n",
    "# rfecv = RFECV(estimator=model_ori, step=1, cv=5,scoring='accuracy')   #5-fold cross-validation\n",
    "# rfecv = rfecv.fit(x_train, y_train)"
   ]
  },
  {
   "cell_type": "code",
   "execution_count": null,
   "metadata": {},
   "outputs": [],
   "source": [
    "# df_RFECV = pd.DataFrame(rfecv.n_features_, index=x_train.columns, columns=['RFECV'])\n",
    "# df_RFECV.sort_values('RFECV', ascending=False).style.apply(highlight_top6)"
   ]
  },
  {
   "cell_type": "markdown",
   "metadata": {},
   "source": [
    "grid_scores_ : array of shape [n_subsets_of_features]\n",
    "The cross-validation scores such that grid_scores_[i] corresponds to the CV score of the i-th subset of features."
   ]
  },
  {
   "cell_type": "code",
   "execution_count": 306,
   "metadata": {
    "scrolled": false
   },
   "outputs": [
    {
     "data": {
      "image/png": "[encoded data removed]",
      "text/plain": [
       "<Figure size 1080x1080 with 1 Axes>"
      ]
     },
     "metadata": {},
     "output_type": "display_data"
    }
   ],
   "source": [
    "# Plot number of features VS. cross-validation scores\n",
    "# import matplotlib.pyplot as plt\n",
    "# plt.figure()\n",
    "# plt.xlabel(\"Number of features selected\")\n",
    "# plt.ylabel(\"Cross validation score of number of selected features\")\n",
    "# plt.plot(range(1, len(rfecv.grid_scores_) + 1), rfecv.grid_scores_)\n",
    "# plt.show()"
   ]
  },
  {
   "cell_type": "markdown",
   "metadata": {},
   "source": [
    "**Findings: we can observe the validation score peaks at 8 features**"
   ]
  },
  {
   "cell_type": "markdown",
   "metadata": {},
   "source": [
    "## Embedded Methods"
   ]
  },
  {
   "cell_type": "markdown",
   "metadata": {},
   "source": [
    "**Random Forest Importance**"
   ]
  },
  {
   "cell_type": "code",
   "execution_count": 71,
   "metadata": {},
   "outputs": [],
   "source": [
    "clf_rf_5 = RandomForestClassifier()      \n",
    "clr_rf_5 = clf_rf_5.fit(x_train,y_train)\n",
    "importances = clr_rf_5.feature_importances_\n",
    "std = np.std([tree.feature_importances_ for tree in clf_rf_5.estimators_],\n",
    "             axis=0)\n",
    "indices = np.argsort(importances)[::-1]"
   ]
  },
  {
   "cell_type": "code",
   "execution_count": 72,
   "metadata": {
    "scrolled": false
   },
   "outputs": [
    {
     "data": {
      "text/html": [
       "<style  type=\"text/css\" >\n",
       "#T_51db4fee_fca0_11eb_95d7_acde48001122row0_col0,#T_51db4fee_fca0_11eb_95d7_acde48001122row1_col0,#T_51db4fee_fca0_11eb_95d7_acde48001122row2_col0,#T_51db4fee_fca0_11eb_95d7_acde48001122row3_col0,#T_51db4fee_fca0_11eb_95d7_acde48001122row4_col0,#T_51db4fee_fca0_11eb_95d7_acde48001122row5_col0{\n",
       "            background-color:  green;\n",
       "        }</style><table id=\"T_51db4fee_fca0_11eb_95d7_acde48001122\" ><thead>    <tr>        <th class=\"blank level0\" ></th>        <th class=\"col_heading level0 col0\" >RF_importance</th>    </tr></thead><tbody>\n",
       "                <tr>\n",
       "                        <th id=\"T_51db4fee_fca0_11eb_95d7_acde48001122level0_row0\" class=\"row_heading level0 row0\" >test_indication_Contact with confirmed</th>\n",
       "                        <td id=\"T_51db4fee_fca0_11eb_95d7_acde48001122row0_col0\" class=\"data row0 col0\" >0.239727</td>\n",
       "            </tr>\n",
       "            <tr>\n",
       "                        <th id=\"T_51db4fee_fca0_11eb_95d7_acde48001122level0_row1\" class=\"row_heading level0 row1\" >fever</th>\n",
       "                        <td id=\"T_51db4fee_fca0_11eb_95d7_acde48001122row1_col0\" class=\"data row1 col0\" >0.199386</td>\n",
       "            </tr>\n",
       "            <tr>\n",
       "                        <th id=\"T_51db4fee_fca0_11eb_95d7_acde48001122level0_row2\" class=\"row_heading level0 row2\" >test_indication_Other</th>\n",
       "                        <td id=\"T_51db4fee_fca0_11eb_95d7_acde48001122row2_col0\" class=\"data row2 col0\" >0.146535</td>\n",
       "            </tr>\n",
       "            <tr>\n",
       "                        <th id=\"T_51db4fee_fca0_11eb_95d7_acde48001122level0_row3\" class=\"row_heading level0 row3\" >head_ache</th>\n",
       "                        <td id=\"T_51db4fee_fca0_11eb_95d7_acde48001122row3_col0\" class=\"data row3 col0\" >0.131284</td>\n",
       "            </tr>\n",
       "            <tr>\n",
       "                        <th id=\"T_51db4fee_fca0_11eb_95d7_acde48001122level0_row4\" class=\"row_heading level0 row4\" >cough</th>\n",
       "                        <td id=\"T_51db4fee_fca0_11eb_95d7_acde48001122row4_col0\" class=\"data row4 col0\" >0.119568</td>\n",
       "            </tr>\n",
       "            <tr>\n",
       "                        <th id=\"T_51db4fee_fca0_11eb_95d7_acde48001122level0_row5\" class=\"row_heading level0 row5\" >sore_throat</th>\n",
       "                        <td id=\"T_51db4fee_fca0_11eb_95d7_acde48001122row5_col0\" class=\"data row5 col0\" >0.059920</td>\n",
       "            </tr>\n",
       "            <tr>\n",
       "                        <th id=\"T_51db4fee_fca0_11eb_95d7_acde48001122level0_row6\" class=\"row_heading level0 row6\" >test_indication_Abroad</th>\n",
       "                        <td id=\"T_51db4fee_fca0_11eb_95d7_acde48001122row6_col0\" class=\"data row6 col0\" >0.023079</td>\n",
       "            </tr>\n",
       "            <tr>\n",
       "                        <th id=\"T_51db4fee_fca0_11eb_95d7_acde48001122level0_row7\" class=\"row_heading level0 row7\" >age_Missing</th>\n",
       "                        <td id=\"T_51db4fee_fca0_11eb_95d7_acde48001122row7_col0\" class=\"data row7 col0\" >0.021544</td>\n",
       "            </tr>\n",
       "            <tr>\n",
       "                        <th id=\"T_51db4fee_fca0_11eb_95d7_acde48001122level0_row8\" class=\"row_heading level0 row8\" >gender_Missing</th>\n",
       "                        <td id=\"T_51db4fee_fca0_11eb_95d7_acde48001122row8_col0\" class=\"data row8 col0\" >0.014949</td>\n",
       "            </tr>\n",
       "            <tr>\n",
       "                        <th id=\"T_51db4fee_fca0_11eb_95d7_acde48001122level0_row9\" class=\"row_heading level0 row9\" >age_Yes</th>\n",
       "                        <td id=\"T_51db4fee_fca0_11eb_95d7_acde48001122row9_col0\" class=\"data row9 col0\" >0.012246</td>\n",
       "            </tr>\n",
       "            <tr>\n",
       "                        <th id=\"T_51db4fee_fca0_11eb_95d7_acde48001122level0_row10\" class=\"row_heading level0 row10\" >shortness_of_breath</th>\n",
       "                        <td id=\"T_51db4fee_fca0_11eb_95d7_acde48001122row10_col0\" class=\"data row10 col0\" >0.010190</td>\n",
       "            </tr>\n",
       "            <tr>\n",
       "                        <th id=\"T_51db4fee_fca0_11eb_95d7_acde48001122level0_row11\" class=\"row_heading level0 row11\" >age_No</th>\n",
       "                        <td id=\"T_51db4fee_fca0_11eb_95d7_acde48001122row11_col0\" class=\"data row11 col0\" >0.008676</td>\n",
       "            </tr>\n",
       "            <tr>\n",
       "                        <th id=\"T_51db4fee_fca0_11eb_95d7_acde48001122level0_row12\" class=\"row_heading level0 row12\" >gender_Male</th>\n",
       "                        <td id=\"T_51db4fee_fca0_11eb_95d7_acde48001122row12_col0\" class=\"data row12 col0\" >0.006630</td>\n",
       "            </tr>\n",
       "            <tr>\n",
       "                        <th id=\"T_51db4fee_fca0_11eb_95d7_acde48001122level0_row13\" class=\"row_heading level0 row13\" >gender_Female</th>\n",
       "                        <td id=\"T_51db4fee_fca0_11eb_95d7_acde48001122row13_col0\" class=\"data row13 col0\" >0.006266</td>\n",
       "            </tr>\n",
       "    </tbody></table>"
      ],
      "text/plain": [
       "<pandas.io.formats.style.Styler at 0x7fc789630c70>"
      ]
     },
     "execution_count": 72,
     "metadata": {},
     "output_type": "execute_result"
    }
   ],
   "source": [
    "df_RF_importance = pd.DataFrame(clr_rf_5.feature_importances_, index=x_train.columns, columns=['RF_importance'])\n",
    "df_RF_importance.sort_values('RF_importance', ascending=False).style.apply(highlight_top6)"
   ]
  },
  {
   "cell_type": "code",
   "execution_count": 73,
   "metadata": {},
   "outputs": [
    {
     "data": {
      "text/html": [
       "<style  type=\"text/css\" >\n",
       "#T_51dd93f8_fca0_11eb_95d7_acde48001122row0_col0,#T_51dd93f8_fca0_11eb_95d7_acde48001122row0_col1,#T_51dd93f8_fca0_11eb_95d7_acde48001122row0_col2,#T_51dd93f8_fca0_11eb_95d7_acde48001122row0_col3,#T_51dd93f8_fca0_11eb_95d7_acde48001122row1_col0,#T_51dd93f8_fca0_11eb_95d7_acde48001122row1_col1,#T_51dd93f8_fca0_11eb_95d7_acde48001122row1_col2,#T_51dd93f8_fca0_11eb_95d7_acde48001122row1_col3,#T_51dd93f8_fca0_11eb_95d7_acde48001122row2_col0,#T_51dd93f8_fca0_11eb_95d7_acde48001122row2_col1,#T_51dd93f8_fca0_11eb_95d7_acde48001122row2_col2,#T_51dd93f8_fca0_11eb_95d7_acde48001122row2_col3,#T_51dd93f8_fca0_11eb_95d7_acde48001122row3_col0,#T_51dd93f8_fca0_11eb_95d7_acde48001122row3_col1,#T_51dd93f8_fca0_11eb_95d7_acde48001122row3_col2,#T_51dd93f8_fca0_11eb_95d7_acde48001122row3_col3,#T_51dd93f8_fca0_11eb_95d7_acde48001122row4_col1,#T_51dd93f8_fca0_11eb_95d7_acde48001122row4_col2,#T_51dd93f8_fca0_11eb_95d7_acde48001122row4_col3,#T_51dd93f8_fca0_11eb_95d7_acde48001122row5_col1,#T_51dd93f8_fca0_11eb_95d7_acde48001122row7_col0,#T_51dd93f8_fca0_11eb_95d7_acde48001122row7_col2,#T_51dd93f8_fca0_11eb_95d7_acde48001122row7_col3,#T_51dd93f8_fca0_11eb_95d7_acde48001122row9_col0{\n",
       "            background-color:  green;\n",
       "        }</style><table id=\"T_51dd93f8_fca0_11eb_95d7_acde48001122\" ><thead>    <tr>        <th class=\"blank level0\" ></th>        <th class=\"col_heading level0 col0\" >mutual_info_reg</th>        <th class=\"col_heading level0 col1\" >SelectKBest-chi2</th>        <th class=\"col_heading level0 col2\" >RFE</th>        <th class=\"col_heading level0 col3\" >RF_importance</th>    </tr></thead><tbody>\n",
       "                <tr>\n",
       "                        <th id=\"T_51dd93f8_fca0_11eb_95d7_acde48001122level0_row0\" class=\"row_heading level0 row0\" >test_indication_Contact with confirmed</th>\n",
       "                        <td id=\"T_51dd93f8_fca0_11eb_95d7_acde48001122row0_col0\" class=\"data row0 col0\" >0.014649</td>\n",
       "                        <td id=\"T_51dd93f8_fca0_11eb_95d7_acde48001122row0_col1\" class=\"data row0 col1\" >97792.214762</td>\n",
       "                        <td id=\"T_51dd93f8_fca0_11eb_95d7_acde48001122row0_col2\" class=\"data row0 col2\" >True</td>\n",
       "                        <td id=\"T_51dd93f8_fca0_11eb_95d7_acde48001122row0_col3\" class=\"data row0 col3\" >0.239727</td>\n",
       "            </tr>\n",
       "            <tr>\n",
       "                        <th id=\"T_51dd93f8_fca0_11eb_95d7_acde48001122level0_row1\" class=\"row_heading level0 row1\" >fever</th>\n",
       "                        <td id=\"T_51dd93f8_fca0_11eb_95d7_acde48001122row1_col0\" class=\"data row1 col0\" >0.010479</td>\n",
       "                        <td id=\"T_51dd93f8_fca0_11eb_95d7_acde48001122row1_col1\" class=\"data row1 col1\" >70120.384480</td>\n",
       "                        <td id=\"T_51dd93f8_fca0_11eb_95d7_acde48001122row1_col2\" class=\"data row1 col2\" >True</td>\n",
       "                        <td id=\"T_51dd93f8_fca0_11eb_95d7_acde48001122row1_col3\" class=\"data row1 col3\" >0.199386</td>\n",
       "            </tr>\n",
       "            <tr>\n",
       "                        <th id=\"T_51dd93f8_fca0_11eb_95d7_acde48001122level0_row2\" class=\"row_heading level0 row2\" >head_ache</th>\n",
       "                        <td id=\"T_51dd93f8_fca0_11eb_95d7_acde48001122row2_col0\" class=\"data row2 col0\" >0.008842</td>\n",
       "                        <td id=\"T_51dd93f8_fca0_11eb_95d7_acde48001122row2_col1\" class=\"data row2 col1\" >62286.259488</td>\n",
       "                        <td id=\"T_51dd93f8_fca0_11eb_95d7_acde48001122row2_col2\" class=\"data row2 col2\" >True</td>\n",
       "                        <td id=\"T_51dd93f8_fca0_11eb_95d7_acde48001122row2_col3\" class=\"data row2 col3\" >0.131284</td>\n",
       "            </tr>\n",
       "            <tr>\n",
       "                        <th id=\"T_51dd93f8_fca0_11eb_95d7_acde48001122level0_row3\" class=\"row_heading level0 row3\" >cough</th>\n",
       "                        <td id=\"T_51dd93f8_fca0_11eb_95d7_acde48001122row3_col0\" class=\"data row3 col0\" >0.008024</td>\n",
       "                        <td id=\"T_51dd93f8_fca0_11eb_95d7_acde48001122row3_col1\" class=\"data row3 col1\" >56200.021071</td>\n",
       "                        <td id=\"T_51dd93f8_fca0_11eb_95d7_acde48001122row3_col2\" class=\"data row3 col2\" >True</td>\n",
       "                        <td id=\"T_51dd93f8_fca0_11eb_95d7_acde48001122row3_col3\" class=\"data row3 col3\" >0.119568</td>\n",
       "            </tr>\n",
       "            <tr>\n",
       "                        <th id=\"T_51dd93f8_fca0_11eb_95d7_acde48001122level0_row4\" class=\"row_heading level0 row4\" >sore_throat</th>\n",
       "                        <td id=\"T_51dd93f8_fca0_11eb_95d7_acde48001122row4_col0\" class=\"data row4 col0\" >0.003315</td>\n",
       "                        <td id=\"T_51dd93f8_fca0_11eb_95d7_acde48001122row4_col1\" class=\"data row4 col1\" >30008.323534</td>\n",
       "                        <td id=\"T_51dd93f8_fca0_11eb_95d7_acde48001122row4_col2\" class=\"data row4 col2\" >True</td>\n",
       "                        <td id=\"T_51dd93f8_fca0_11eb_95d7_acde48001122row4_col3\" class=\"data row4 col3\" >0.059920</td>\n",
       "            </tr>\n",
       "            <tr>\n",
       "                        <th id=\"T_51dd93f8_fca0_11eb_95d7_acde48001122level0_row5\" class=\"row_heading level0 row5\" >shortness_of_breath</th>\n",
       "                        <td id=\"T_51dd93f8_fca0_11eb_95d7_acde48001122row5_col0\" class=\"data row5 col0\" >0.001459</td>\n",
       "                        <td id=\"T_51dd93f8_fca0_11eb_95d7_acde48001122row5_col1\" class=\"data row5 col1\" >4462.521708</td>\n",
       "                        <td id=\"T_51dd93f8_fca0_11eb_95d7_acde48001122row5_col2\" class=\"data row5 col2\" >False</td>\n",
       "                        <td id=\"T_51dd93f8_fca0_11eb_95d7_acde48001122row5_col3\" class=\"data row5 col3\" >0.010190</td>\n",
       "            </tr>\n",
       "            <tr>\n",
       "                        <th id=\"T_51dd93f8_fca0_11eb_95d7_acde48001122level0_row6\" class=\"row_heading level0 row6\" >age_Yes</th>\n",
       "                        <td id=\"T_51dd93f8_fca0_11eb_95d7_acde48001122row6_col0\" class=\"data row6 col0\" >0.000000</td>\n",
       "                        <td id=\"T_51dd93f8_fca0_11eb_95d7_acde48001122row6_col1\" class=\"data row6 col1\" >754.507236</td>\n",
       "                        <td id=\"T_51dd93f8_fca0_11eb_95d7_acde48001122row6_col2\" class=\"data row6 col2\" >False</td>\n",
       "                        <td id=\"T_51dd93f8_fca0_11eb_95d7_acde48001122row6_col3\" class=\"data row6 col3\" >0.012246</td>\n",
       "            </tr>\n",
       "            <tr>\n",
       "                        <th id=\"T_51dd93f8_fca0_11eb_95d7_acde48001122level0_row7\" class=\"row_heading level0 row7\" >test_indication_Other</th>\n",
       "                        <td id=\"T_51dd93f8_fca0_11eb_95d7_acde48001122row7_col0\" class=\"data row7 col0\" >0.016551</td>\n",
       "                        <td id=\"T_51dd93f8_fca0_11eb_95d7_acde48001122row7_col1\" class=\"data row7 col1\" >710.261205</td>\n",
       "                        <td id=\"T_51dd93f8_fca0_11eb_95d7_acde48001122row7_col2\" class=\"data row7 col2\" >True</td>\n",
       "                        <td id=\"T_51dd93f8_fca0_11eb_95d7_acde48001122row7_col3\" class=\"data row7 col3\" >0.146535</td>\n",
       "            </tr>\n",
       "            <tr>\n",
       "                        <th id=\"T_51dd93f8_fca0_11eb_95d7_acde48001122level0_row8\" class=\"row_heading level0 row8\" >gender_Missing</th>\n",
       "                        <td id=\"T_51dd93f8_fca0_11eb_95d7_acde48001122row8_col0\" class=\"data row8 col0\" >0.001267</td>\n",
       "                        <td id=\"T_51dd93f8_fca0_11eb_95d7_acde48001122row8_col1\" class=\"data row8 col1\" >661.563719</td>\n",
       "                        <td id=\"T_51dd93f8_fca0_11eb_95d7_acde48001122row8_col2\" class=\"data row8 col2\" >False</td>\n",
       "                        <td id=\"T_51dd93f8_fca0_11eb_95d7_acde48001122row8_col3\" class=\"data row8 col3\" >0.014949</td>\n",
       "            </tr>\n",
       "            <tr>\n",
       "                        <th id=\"T_51dd93f8_fca0_11eb_95d7_acde48001122level0_row9\" class=\"row_heading level0 row9\" >age_Missing</th>\n",
       "                        <td id=\"T_51dd93f8_fca0_11eb_95d7_acde48001122row9_col0\" class=\"data row9 col0\" >0.003642</td>\n",
       "                        <td id=\"T_51dd93f8_fca0_11eb_95d7_acde48001122row9_col1\" class=\"data row9 col1\" >598.631176</td>\n",
       "                        <td id=\"T_51dd93f8_fca0_11eb_95d7_acde48001122row9_col2\" class=\"data row9 col2\" >False</td>\n",
       "                        <td id=\"T_51dd93f8_fca0_11eb_95d7_acde48001122row9_col3\" class=\"data row9 col3\" >0.021544</td>\n",
       "            </tr>\n",
       "            <tr>\n",
       "                        <th id=\"T_51dd93f8_fca0_11eb_95d7_acde48001122level0_row10\" class=\"row_heading level0 row10\" >test_indication_Abroad</th>\n",
       "                        <td id=\"T_51dd93f8_fca0_11eb_95d7_acde48001122row10_col0\" class=\"data row10 col0\" >0.000000</td>\n",
       "                        <td id=\"T_51dd93f8_fca0_11eb_95d7_acde48001122row10_col1\" class=\"data row10 col1\" >550.946819</td>\n",
       "                        <td id=\"T_51dd93f8_fca0_11eb_95d7_acde48001122row10_col2\" class=\"data row10 col2\" >False</td>\n",
       "                        <td id=\"T_51dd93f8_fca0_11eb_95d7_acde48001122row10_col3\" class=\"data row10 col3\" >0.023079</td>\n",
       "            </tr>\n",
       "            <tr>\n",
       "                        <th id=\"T_51dd93f8_fca0_11eb_95d7_acde48001122level0_row11\" class=\"row_heading level0 row11\" >age_No</th>\n",
       "                        <td id=\"T_51dd93f8_fca0_11eb_95d7_acde48001122row11_col0\" class=\"data row11 col0\" >0.000855</td>\n",
       "                        <td id=\"T_51dd93f8_fca0_11eb_95d7_acde48001122row11_col1\" class=\"data row11 col1\" >393.129661</td>\n",
       "                        <td id=\"T_51dd93f8_fca0_11eb_95d7_acde48001122row11_col2\" class=\"data row11 col2\" >False</td>\n",
       "                        <td id=\"T_51dd93f8_fca0_11eb_95d7_acde48001122row11_col3\" class=\"data row11 col3\" >0.008676</td>\n",
       "            </tr>\n",
       "            <tr>\n",
       "                        <th id=\"T_51dd93f8_fca0_11eb_95d7_acde48001122level0_row12\" class=\"row_heading level0 row12\" >gender_Male</th>\n",
       "                        <td id=\"T_51dd93f8_fca0_11eb_95d7_acde48001122row12_col0\" class=\"data row12 col0\" >0.000000</td>\n",
       "                        <td id=\"T_51dd93f8_fca0_11eb_95d7_acde48001122row12_col1\" class=\"data row12 col1\" >340.249068</td>\n",
       "                        <td id=\"T_51dd93f8_fca0_11eb_95d7_acde48001122row12_col2\" class=\"data row12 col2\" >False</td>\n",
       "                        <td id=\"T_51dd93f8_fca0_11eb_95d7_acde48001122row12_col3\" class=\"data row12 col3\" >0.006630</td>\n",
       "            </tr>\n",
       "            <tr>\n",
       "                        <th id=\"T_51dd93f8_fca0_11eb_95d7_acde48001122level0_row13\" class=\"row_heading level0 row13\" >gender_Female</th>\n",
       "                        <td id=\"T_51dd93f8_fca0_11eb_95d7_acde48001122row13_col0\" class=\"data row13 col0\" >0.000000</td>\n",
       "                        <td id=\"T_51dd93f8_fca0_11eb_95d7_acde48001122row13_col1\" class=\"data row13 col1\" >209.165600</td>\n",
       "                        <td id=\"T_51dd93f8_fca0_11eb_95d7_acde48001122row13_col2\" class=\"data row13 col2\" >False</td>\n",
       "                        <td id=\"T_51dd93f8_fca0_11eb_95d7_acde48001122row13_col3\" class=\"data row13 col3\" >0.006266</td>\n",
       "            </tr>\n",
       "    </tbody></table>"
      ],
      "text/plain": [
       "<pandas.io.formats.style.Styler at 0x7fc7899c8b20>"
      ]
     },
     "execution_count": 73,
     "metadata": {},
     "output_type": "execute_result"
    }
   ],
   "source": [
    "merged = merged.join(df_RF_importance)\n",
    "merged.sort_values('SelectKBest-chi2', ascending=False).style.apply(highlight_top6)"
   ]
  },
  {
   "cell_type": "code",
   "execution_count": 74,
   "metadata": {},
   "outputs": [
    {
     "data": {
      "image/png": "[encoded data removed]",
      "text/plain": [
       "<Figure size 1008x936 with 1 Axes>"
      ]
     },
     "metadata": {},
     "output_type": "display_data"
    }
   ],
   "source": [
    "#  to determine how many should be selected\n",
    "\n",
    "# Plot the feature importances of the forest\n",
    "plt.figure(1, figsize=(14, 13))\n",
    "plt.title(\"Feature importances\")\n",
    "plt.bar(range(x_train.shape[1]), importances[indices],\n",
    "     color=\"g\", yerr=std[indices], align=\"center\")\n",
    "plt.xticks(range(x_train.shape[1]), x_train.columns[indices],rotation=90)\n",
    "plt.xlim([-1, x_train.shape[1]])\n",
    "plt.show()"
   ]
  },
  {
   "cell_type": "markdown",
   "metadata": {},
   "source": [
    "**Feature Extraction with PCA**"
   ]
  },
  {
   "cell_type": "code",
   "execution_count": 75,
   "metadata": {
    "scrolled": false
   },
   "outputs": [
    {
     "data": {
      "image/png": "[encoded data removed]",
      "text/plain": [
       "<Figure size 1008x936 with 1 Axes>"
      ]
     },
     "metadata": {},
     "output_type": "display_data"
    }
   ],
   "source": [
    "#  to determine how many should be selected\n",
    "from sklearn.decomposition import PCA\n",
    "pca = PCA()\n",
    "pca.fit(x_train)\n",
    "\n",
    "plt.figure(1, figsize=(14, 13))\n",
    "plt.clf()\n",
    "plt.axes([.2, .2, .7, .7])\n",
    "plt.plot(pca.explained_variance_ratio_, linewidth=2)\n",
    "plt.axis('tight')\n",
    "plt.xlabel('n_components')\n",
    "plt.ylabel('explained_variance_ratio_');"
   ]
  },
  {
   "cell_type": "markdown",
   "metadata": {},
   "source": [
    "6 features are definitely enough"
   ]
  },
  {
   "cell_type": "markdown",
   "metadata": {},
   "source": [
    "**Conclusion: We believe it's safe to select the top 6 features: \n",
    "'test_indication_Contact with confirmed', 'head_ache', 'fever', 'cough','sore_throat','shortness_of_breath'"
   ]
  },
  {
   "cell_type": "markdown",
   "metadata": {},
   "source": [
    "**TO DO:\n",
    "    validate if test_indication_Other should be dropped"
   ]
  },
  {
   "cell_type": "code",
   "execution_count": 76,
   "metadata": {},
   "outputs": [],
   "source": [
    "#prepare the selected dataset with the 6th being test_indication_Other\n",
    "selected_columns = ['test_indication_Contact with confirmed', 'head_ache', 'fever', 'cough','sore_throat','test_indication_Other']\n",
    "# X_selected = X_filled.drop(\"corona_result\", axis = 1)\n",
    "X_selected = X_filled[X_filled.columns[X_filled.columns.isin(selected_columns)]]"
   ]
  },
  {
   "cell_type": "code",
   "execution_count": 77,
   "metadata": {},
   "outputs": [],
   "source": [
    "# update the train and test split\n",
    "x_train, x_test, y_train, y_test = train_test_split(X_selected, y_filled, test_size=0.2, random_state=0)"
   ]
  },
  {
   "cell_type": "code",
   "execution_count": 78,
   "metadata": {},
   "outputs": [],
   "source": [
    "y_pred = make_y_pred(x_train, x_test, y_train)"
   ]
  },
  {
   "cell_type": "code",
   "execution_count": 79,
   "metadata": {
    "scrolled": true
   },
   "outputs": [
    {
     "data": {
      "text/html": [
       "<div>\n",
       "<style scoped>\n",
       "    .dataframe tbody tr th:only-of-type {\n",
       "        vertical-align: middle;\n",
       "    }\n",
       "\n",
       "    .dataframe tbody tr th {\n",
       "        vertical-align: top;\n",
       "    }\n",
       "\n",
       "    .dataframe thead th {\n",
       "        text-align: right;\n",
       "    }\n",
       "</style>\n",
       "<table border=\"1\" class=\"dataframe\">\n",
       "  <thead>\n",
       "    <tr style=\"text-align: right;\">\n",
       "      <th></th>\n",
       "      <th>Method</th>\n",
       "      <th>All other 5 methods</th>\n",
       "    </tr>\n",
       "  </thead>\n",
       "  <tbody>\n",
       "    <tr>\n",
       "      <th>0</th>\n",
       "      <td>Balanced Accuracy</td>\n",
       "      <td>0.855055</td>\n",
       "    </tr>\n",
       "    <tr>\n",
       "      <th>1</th>\n",
       "      <td>Sensitivity</td>\n",
       "      <td>0.994358</td>\n",
       "    </tr>\n",
       "    <tr>\n",
       "      <th>2</th>\n",
       "      <td>Specificity</td>\n",
       "      <td>0.715753</td>\n",
       "    </tr>\n",
       "    <tr>\n",
       "      <th>3</th>\n",
       "      <td>AUROC</td>\n",
       "      <td>0.855055</td>\n",
       "    </tr>\n",
       "    <tr>\n",
       "      <th>4</th>\n",
       "      <td>F1</td>\n",
       "      <td>0.690995</td>\n",
       "    </tr>\n",
       "    <tr>\n",
       "      <th>5</th>\n",
       "      <td>Geometric Mean</td>\n",
       "      <td>0.843632</td>\n",
       "    </tr>\n",
       "    <tr>\n",
       "      <th>6</th>\n",
       "      <td>Macro Average MAE</td>\n",
       "      <td>0.144945</td>\n",
       "    </tr>\n",
       "  </tbody>\n",
       "</table>\n",
       "</div>"
      ],
      "text/plain": [
       "              Method  All other 5 methods\n",
       "0  Balanced Accuracy             0.855055\n",
       "1        Sensitivity             0.994358\n",
       "2        Specificity             0.715753\n",
       "3              AUROC             0.855055\n",
       "4                 F1             0.690995\n",
       "5     Geometric Mean             0.843632\n",
       "6  Macro Average MAE             0.144945"
      ]
     },
     "execution_count": 79,
     "metadata": {},
     "output_type": "execute_result"
    }
   ],
   "source": [
    "results_other = pd.DataFrame(evaluate_imbalanced(y_test, y_pred).items(),columns=['Method', 'All other 5 methods'])\n",
    "results_other"
   ]
  },
  {
   "cell_type": "code",
   "execution_count": 80,
   "metadata": {},
   "outputs": [
    {
     "data": {
      "text/html": [
       "<div>\n",
       "<style scoped>\n",
       "    .dataframe tbody tr th:only-of-type {\n",
       "        vertical-align: middle;\n",
       "    }\n",
       "\n",
       "    .dataframe tbody tr th {\n",
       "        vertical-align: top;\n",
       "    }\n",
       "\n",
       "    .dataframe thead th {\n",
       "        text-align: right;\n",
       "    }\n",
       "</style>\n",
       "<table border=\"1\" class=\"dataframe\">\n",
       "  <thead>\n",
       "    <tr style=\"text-align: right;\">\n",
       "      <th></th>\n",
       "      <th>Original</th>\n",
       "      <th>SelectedKBest-chi2</th>\n",
       "      <th>All other 5 methods</th>\n",
       "      <th>original vs other 5 %</th>\n",
       "      <th>original sel-chi2 %</th>\n",
       "    </tr>\n",
       "    <tr>\n",
       "      <th>Method</th>\n",
       "      <th></th>\n",
       "      <th></th>\n",
       "      <th></th>\n",
       "      <th></th>\n",
       "      <th></th>\n",
       "    </tr>\n",
       "  </thead>\n",
       "  <tbody>\n",
       "    <tr>\n",
       "      <th>Balanced Accuracy</th>\n",
       "      <td>0.824516</td>\n",
       "      <td>0.831920</td>\n",
       "      <td>0.855055</td>\n",
       "      <td>3.7%</td>\n",
       "      <td>0.9%</td>\n",
       "    </tr>\n",
       "    <tr>\n",
       "      <th>Sensitivity</th>\n",
       "      <td>0.994691</td>\n",
       "      <td>0.993853</td>\n",
       "      <td>0.994358</td>\n",
       "      <td>-0.03%</td>\n",
       "      <td>-0.08%</td>\n",
       "    </tr>\n",
       "    <tr>\n",
       "      <th>Specificity</th>\n",
       "      <td>0.654340</td>\n",
       "      <td>0.669988</td>\n",
       "      <td>0.715753</td>\n",
       "      <td>9.39%</td>\n",
       "      <td>2.39%</td>\n",
       "    </tr>\n",
       "    <tr>\n",
       "      <th>AUROC</th>\n",
       "      <td>0.824516</td>\n",
       "      <td>0.831920</td>\n",
       "      <td>0.855055</td>\n",
       "      <td>3.7%</td>\n",
       "      <td>0.9%</td>\n",
       "    </tr>\n",
       "    <tr>\n",
       "      <th>F1</th>\n",
       "      <td>0.684547</td>\n",
       "      <td>0.657485</td>\n",
       "      <td>0.690995</td>\n",
       "      <td>0.94%</td>\n",
       "      <td>-3.95%</td>\n",
       "    </tr>\n",
       "    <tr>\n",
       "      <th>Geometric Mean</th>\n",
       "      <td>0.806763</td>\n",
       "      <td>0.816008</td>\n",
       "      <td>0.843632</td>\n",
       "      <td>4.57%</td>\n",
       "      <td>1.15%</td>\n",
       "    </tr>\n",
       "    <tr>\n",
       "      <th>Macro Average MAE</th>\n",
       "      <td>0.175484</td>\n",
       "      <td>0.168080</td>\n",
       "      <td>0.144945</td>\n",
       "      <td>-17.4%</td>\n",
       "      <td>-4.22%</td>\n",
       "    </tr>\n",
       "  </tbody>\n",
       "</table>\n",
       "</div>"
      ],
      "text/plain": [
       "                   Original  SelectedKBest-chi2  All other 5 methods  \\\n",
       "Method                                                                 \n",
       "Balanced Accuracy  0.824516            0.831920             0.855055   \n",
       "Sensitivity        0.994691            0.993853             0.994358   \n",
       "Specificity        0.654340            0.669988             0.715753   \n",
       "AUROC              0.824516            0.831920             0.855055   \n",
       "F1                 0.684547            0.657485             0.690995   \n",
       "Geometric Mean     0.806763            0.816008             0.843632   \n",
       "Macro Average MAE  0.175484            0.168080             0.144945   \n",
       "\n",
       "                  original vs other 5 % original sel-chi2 %  \n",
       "Method                                                       \n",
       "Balanced Accuracy                  3.7%                0.9%  \n",
       "Sensitivity                      -0.03%              -0.08%  \n",
       "Specificity                       9.39%               2.39%  \n",
       "AUROC                              3.7%                0.9%  \n",
       "F1                                0.94%              -3.95%  \n",
       "Geometric Mean                    4.57%               1.15%  \n",
       "Macro Average MAE                -17.4%              -4.22%  "
      ]
     },
     "execution_count": 80,
     "metadata": {},
     "output_type": "execute_result"
    }
   ],
   "source": [
    "# results = results.set_index('Method').join(results_other.set_index('Method'))\n",
    "results = results_1.set_index('Method').join(results_select.set_index('Method')).join(results_other.set_index('Method'))\n",
    "results['original vs other 5 %'] = (((results['All other 5 methods'] - results['Original']) / results['Original'])*100 ).round(2).astype(str) + '%'\n",
    "results['original sel-chi2 %'] = (((results['SelectedKBest-chi2'] - results['Original']) / results['Original'])*100 ).round(2).astype(str) + '%'\n",
    "\n",
    "results"
   ]
  },
  {
   "cell_type": "markdown",
   "metadata": {},
   "source": [
    "**test_indication_other has a positive effect on the performance metrics. We decide to add it as the seventh feature**"
   ]
  },
  {
   "cell_type": "markdown",
   "metadata": {},
   "source": [
    "**TO DO:\n",
    "    selecting a subset from df.copy() may need to redo the normalization"
   ]
  },
  {
   "cell_type": "code",
   "execution_count": 81,
   "metadata": {},
   "outputs": [],
   "source": [
    "# prepare the selected dataset with the 6th feature being shortness_of_breath and 7th feature being test_indication_Other\n",
    "selected_columns = ['test_indication_Contact with confirmed', 'head_ache', 'fever', 'cough','sore_throat','shortness_of_breath', 'test_indication_Other']\n",
    "X_selected = X_filled[X_filled.columns[X_filled.columns.isin(selected_columns)]]\n",
    "y_selected = y_filled"
   ]
  },
  {
   "cell_type": "code",
   "execution_count": 82,
   "metadata": {},
   "outputs": [],
   "source": [
    "# update the train and test split\n",
    "x_train, x_test, y_train, y_test = train_test_split(X_selected, y_filled, test_size=0.2, random_state=0)"
   ]
  },
  {
   "cell_type": "markdown",
   "metadata": {},
   "source": [
    "## Imbalanced sampling"
   ]
  },
  {
   "cell_type": "markdown",
   "metadata": {},
   "source": [
    "https://imbalanced-learn.org/stable/over_sampling.html#naive-random-over-sampling"
   ]
  },
  {
   "cell_type": "markdown",
   "metadata": {},
   "source": [
    "pip install imbalanced-learn"
   ]
  },
  {
   "cell_type": "code",
   "execution_count": 83,
   "metadata": {},
   "outputs": [
    {
     "name": "stdout",
     "output_type": "stream",
     "text": [
      "(465233, 7)\n",
      "(465233,)\n"
     ]
    }
   ],
   "source": [
    "X = X_selected.copy()\n",
    "Y = y_selected.copy()\n",
    "print(X.shape)\n",
    "print(Y.shape)"
   ]
  },
  {
   "cell_type": "markdown",
   "metadata": {},
   "source": [
    "**Oversampling: Naive Random Over-Sampling (ROS) to increase the sample size of under-represented data by replication with replacement**"
   ]
  },
  {
   "cell_type": "code",
   "execution_count": 84,
   "metadata": {},
   "outputs": [],
   "source": [
    "from imblearn.over_sampling import RandomOverSampler\n",
    "def oversample(X, Y):\n",
    "    ros = RandomOverSampler(random_state=0)\n",
    "    return ros.fit_resample(X, Y)"
   ]
  },
  {
   "cell_type": "markdown",
   "metadata": {},
   "source": [
    "**Oversampling:SMOTE based on KNN and generating new samples**"
   ]
  },
  {
   "cell_type": "code",
   "execution_count": 85,
   "metadata": {},
   "outputs": [],
   "source": [
    "from imblearn.over_sampling import SMOTE\n",
    "def oversample_smote(X, Y):\n",
    "    return SMOTE().fit_resample(X, Y)"
   ]
  },
  {
   "cell_type": "markdown",
   "metadata": {},
   "source": [
    "**Under-sampling:Random Under-Sampler (RUS) is a fast and easy way to balance the data by randomly selecting a subset of data for the targeted classes**"
   ]
  },
  {
   "cell_type": "code",
   "execution_count": 86,
   "metadata": {},
   "outputs": [],
   "source": [
    "from imblearn.under_sampling import RandomUnderSampler\n",
    "def undersample(X, Y):\n",
    "    rus = RandomUnderSampler(random_state=0)\n",
    "    return rus.fit_resample(X, Y)"
   ]
  },
  {
   "cell_type": "markdown",
   "metadata": {},
   "source": [
    "## Modeling"
   ]
  },
  {
   "cell_type": "markdown",
   "metadata": {},
   "source": [
    "**the paramter of all classifier are tested and determined to be optimal by prior demos.**"
   ]
  },
  {
   "cell_type": "code",
   "execution_count": 87,
   "metadata": {},
   "outputs": [],
   "source": [
    "models = {\n",
    "    \"Dummy Classifier\" : DummyClassifier(strategy='uniform'), # dummy classifier to predict randomly\n",
    "    \"Most Frequent Clasifier\" : DummyClassifier(strategy='most_frequent'), # dummy classifier to always predict the majority\n",
    "    \"Perceptron\": Perceptron(alpha = 0.1),\n",
    "    \"Decision Tree (max_depth=None)\": DecisionTreeClassifier(max_depth=None, random_state=0),\n",
    "    \"GNB\": GaussianNB(),\n",
    "    \"RandomForest\": RandomForestClassifier(random_state=0, n_estimators = 101),\n",
    "    \"GradientBoostingForest\": GradientBoostingClassifier(random_state=0, n_estimators = 101),\n",
    "    \"XGBoost\": XGBClassifier(n_estimators=1000, tree_method='hist', random_state=0, eval_metric='mlogloss')\n",
    "}"
   ]
  },
  {
   "cell_type": "markdown",
   "metadata": {},
   "source": [
    "**Apply Neural Netword model to the dataset**"
   ]
  },
  {
   "cell_type": "code",
   "execution_count": 88,
   "metadata": {},
   "outputs": [],
   "source": [
    "from keras.models import Sequential\n",
    "from keras.layers import Dense\n",
    "from sklearn.metrics import roc_curve\n",
    "from numpy import sqrt\n",
    "from numpy import argmax\n",
    "# define the keras model\n",
    "nmodel = Sequential()\n",
    "# add layers\n",
    "nmodel.add(Dense(12, input_dim=7, activation='relu'))\n",
    "nmodel.add(Dense(7, activation='relu'))\n",
    "nmodel.add(Dense(1, activation='sigmoid'))\n",
    "nmodel.compile(loss='binary_crossentropy', optimizer='adam', metrics=['binary_accuracy', 'AUC'])\n",
    "models['Neural Network'] = nmodel"
   ]
  },
  {
   "cell_type": "code",
   "execution_count": 89,
   "metadata": {},
   "outputs": [],
   "source": [
    "def thresholding(pred, y): # threasholding the continuous predicted value to binary labels\n",
    "    # calculate roc curves\n",
    "    fpr, tpr, thresholds = roc_curve(y, pred)\n",
    "    # use gemans to select the optimal threshold\n",
    "    gmeans = sqrt(tpr * (1-fpr))\n",
    "    # locate the index of the largest g-mean\n",
    "    ix = argmax(gmeans)\n",
    "    threshold = thresholds[ix]\n",
    "    for i in range(len(y)):\n",
    "        pred[i] = 1 if pred[i] >= threshold else 0\n",
    "    return pred"
   ]
  },
  {
   "cell_type": "markdown",
   "metadata": {},
   "source": [
    "### original sampling"
   ]
  },
  {
   "cell_type": "code",
   "execution_count": 351,
   "metadata": {
    "scrolled": true
   },
   "outputs": [
    {
     "name": "stdout",
     "output_type": "stream",
     "text": [
      "13085/13085 [==============================] - 10s 726us/step - loss: 0.0230 - binary_accuracy: 0.9937 - auc: 0.8778\n",
      "13085/13085 [==============================] - 9s 676us/step - loss: 0.0230 - binary_accuracy: 0.9937 - auc: 0.8776\n",
      "13085/13085 [==============================] - 9s 685us/step - loss: 0.0230 - binary_accuracy: 0.9938 - auc: 0.8762\n",
      "13085/13085 [==============================] - 9s 674us/step - loss: 0.0229 - binary_accuracy: 0.9938 - auc: 0.8770\n",
      "13085/13085 [==============================] - 9s 695us/step - loss: 0.0229 - binary_accuracy: 0.9939 - auc: 0.8771\n",
      "13085/13085 [==============================] - 9s 679us/step - loss: 0.0230 - binary_accuracy: 0.9938 - auc: 0.8767\n",
      "13085/13085 [==============================] - 9s 719us/step - loss: 0.0227 - binary_accuracy: 0.9938 - auc: 0.8790\n",
      "13085/13085 [==============================] - 9s 709us/step - loss: 0.0228 - binary_accuracy: 0.9938 - auc: 0.8775\n",
      "13085/13085 [==============================] - 9s 687us/step - loss: 0.0227 - binary_accuracy: 0.9938 - auc: 0.8783\n",
      "13085/13085 [==============================] - 9s 704us/step - loss: 0.0226 - binary_accuracy: 0.9938 - auc: 0.8794\n"
     ]
    }
   ],
   "source": [
    "n_splits = 10;\n",
    "skf = StratifiedKFold(n_splits=n_splits, shuffle=True, random_state=0)\n",
    "prediction = dict() # store the metrics\n",
    "prediction_train = dict() # store the metrics for the trainning set\n",
    "for train_index, test_index in skf.split(X, Y):\n",
    "    \n",
    "    X_train, X_test = X.iloc[train_index], X.iloc[test_index]\n",
    "    y_train, y_test = Y[train_index], Y[test_index]\n",
    "    for classif_name in models.keys():\n",
    "        classif = models[classif_name]\n",
    "        classif.fit(X_train, y_train)\n",
    "        y_pred = classif.predict(X_test) # test\n",
    "        # threasholding the continuous predicted value to binary labels\n",
    "        y_pred = thresholding(y_pred, y_test)\n",
    "        output = evaluate_imbalanced(y_test, y_pred)\n",
    "        y_pred_train = classif.predict(X_train) # train\n",
    "        # threasholding the continuous predicted value to binary labels\n",
    "        y_pred_train = thresholding(y_pred_train, y_train)\n",
    "        output_train = evaluate_imbalanced(y_train, y_pred_train)\n",
    "        ## store the metrics in a dict\n",
    "        if classif_name in prediction:\n",
    "            for metric in prediction[classif_name].keys():\n",
    "                prediction[classif_name][metric] += output[metric]\n",
    "                prediction_train[classif_name][metric] += output_train[metric]\n",
    "        else:\n",
    "            prediction[classif_name] = output\n",
    "            prediction_train[classif_name] = output_train"
   ]
  },
  {
   "cell_type": "code",
   "execution_count": 352,
   "metadata": {},
   "outputs": [],
   "source": [
    "# calculate the avereage of metrics for k-folds\n",
    "for classif_name in prediction.keys():\n",
    "    for metric in prediction[classif_name].keys():\n",
    "        prediction[classif_name][metric] /= n_splits\n",
    "        prediction_train[classif_name][metric] /= n_splits"
   ]
  },
  {
   "cell_type": "code",
   "execution_count": 353,
   "metadata": {
    "scrolled": true
   },
   "outputs": [
    {
     "data": {
      "text/html": [
       "<div>\n",
       "<style scoped>\n",
       "    .dataframe tbody tr th:only-of-type {\n",
       "        vertical-align: middle;\n",
       "    }\n",
       "\n",
       "    .dataframe tbody tr th {\n",
       "        vertical-align: top;\n",
       "    }\n",
       "\n",
       "    .dataframe thead th {\n",
       "        text-align: right;\n",
       "    }\n",
       "</style>\n",
       "<table border=\"1\" class=\"dataframe\">\n",
       "  <thead>\n",
       "    <tr style=\"text-align: right;\">\n",
       "      <th></th>\n",
       "      <th>Sensitivity</th>\n",
       "      <th>Specificity</th>\n",
       "      <th>AUROC</th>\n",
       "      <th>F1</th>\n",
       "      <th>Geometric Mean</th>\n",
       "      <th>Macro Average MAE</th>\n",
       "    </tr>\n",
       "  </thead>\n",
       "  <tbody>\n",
       "    <tr>\n",
       "      <th>Neural Network</th>\n",
       "      <td>0.992997</td>\n",
       "      <td>0.761198</td>\n",
       "      <td>0.877097</td>\n",
       "      <td>0.663236</td>\n",
       "      <td>0.869349</td>\n",
       "      <td>0.122903</td>\n",
       "    </tr>\n",
       "    <tr>\n",
       "      <th>GNB</th>\n",
       "      <td>0.992614</td>\n",
       "      <td>0.761194</td>\n",
       "      <td>0.876904</td>\n",
       "      <td>0.651144</td>\n",
       "      <td>0.869180</td>\n",
       "      <td>0.123096</td>\n",
       "    </tr>\n",
       "    <tr>\n",
       "      <th>RandomForest</th>\n",
       "      <td>0.993857</td>\n",
       "      <td>0.701814</td>\n",
       "      <td>0.847835</td>\n",
       "      <td>0.673829</td>\n",
       "      <td>0.835112</td>\n",
       "      <td>0.152165</td>\n",
       "    </tr>\n",
       "    <tr>\n",
       "      <th>XGBoost</th>\n",
       "      <td>0.993859</td>\n",
       "      <td>0.701344</td>\n",
       "      <td>0.847602</td>\n",
       "      <td>0.673744</td>\n",
       "      <td>0.834829</td>\n",
       "      <td>0.152398</td>\n",
       "    </tr>\n",
       "    <tr>\n",
       "      <th>Decision Tree (max_depth=None)</th>\n",
       "      <td>0.993855</td>\n",
       "      <td>0.700875</td>\n",
       "      <td>0.847365</td>\n",
       "      <td>0.673435</td>\n",
       "      <td>0.834544</td>\n",
       "      <td>0.152635</td>\n",
       "    </tr>\n",
       "    <tr>\n",
       "      <th>GradientBoostingForest</th>\n",
       "      <td>0.993713</td>\n",
       "      <td>0.686787</td>\n",
       "      <td>0.840250</td>\n",
       "      <td>0.663839</td>\n",
       "      <td>0.826048</td>\n",
       "      <td>0.159750</td>\n",
       "    </tr>\n",
       "    <tr>\n",
       "      <th>Perceptron_a_0.1</th>\n",
       "      <td>0.992056</td>\n",
       "      <td>0.265482</td>\n",
       "      <td>0.628769</td>\n",
       "      <td>0.338347</td>\n",
       "      <td>0.470218</td>\n",
       "      <td>0.371231</td>\n",
       "    </tr>\n",
       "    <tr>\n",
       "      <th>Dummy Classifier</th>\n",
       "      <td>0.499614</td>\n",
       "      <td>0.503402</td>\n",
       "      <td>0.501508</td>\n",
       "      <td>0.017929</td>\n",
       "      <td>0.501347</td>\n",
       "      <td>0.498492</td>\n",
       "    </tr>\n",
       "    <tr>\n",
       "      <th>Most Frequent Clasifier</th>\n",
       "      <td>0.990927</td>\n",
       "      <td>0.009073</td>\n",
       "      <td>0.500000</td>\n",
       "      <td>0.000000</td>\n",
       "      <td>0.094819</td>\n",
       "      <td>0.500000</td>\n",
       "    </tr>\n",
       "  </tbody>\n",
       "</table>\n",
       "</div>"
      ],
      "text/plain": [
       "                                Sensitivity  Specificity     AUROC        F1  \\\n",
       "Neural Network                     0.992997     0.761198  0.877097  0.663236   \n",
       "GNB                                0.992614     0.761194  0.876904  0.651144   \n",
       "RandomForest                       0.993857     0.701814  0.847835  0.673829   \n",
       "XGBoost                            0.993859     0.701344  0.847602  0.673744   \n",
       "Decision Tree (max_depth=None)     0.993855     0.700875  0.847365  0.673435   \n",
       "GradientBoostingForest             0.993713     0.686787  0.840250  0.663839   \n",
       "Perceptron_a_0.1                   0.992056     0.265482  0.628769  0.338347   \n",
       "Dummy Classifier                   0.499614     0.503402  0.501508  0.017929   \n",
       "Most Frequent Clasifier            0.990927     0.009073  0.500000  0.000000   \n",
       "\n",
       "                                Geometric Mean  Macro Average MAE  \n",
       "Neural Network                        0.869349           0.122903  \n",
       "GNB                                   0.869180           0.123096  \n",
       "RandomForest                          0.835112           0.152165  \n",
       "XGBoost                               0.834829           0.152398  \n",
       "Decision Tree (max_depth=None)        0.834544           0.152635  \n",
       "GradientBoostingForest                0.826048           0.159750  \n",
       "Perceptron_a_0.1                      0.470218           0.371231  \n",
       "Dummy Classifier                      0.501347           0.498492  \n",
       "Most Frequent Clasifier               0.094819           0.500000  "
      ]
     },
     "execution_count": 353,
     "metadata": {},
     "output_type": "execute_result"
    }
   ],
   "source": [
    "results = pd.DataFrame([prediction[name] for name in models.keys()], index=models.keys())\n",
    "results.sort_values('AUROC', ascending=False)"
   ]
  },
  {
   "cell_type": "code",
   "execution_count": 354,
   "metadata": {},
   "outputs": [
    {
     "data": {
      "text/html": [
       "<div>\n",
       "<style scoped>\n",
       "    .dataframe tbody tr th:only-of-type {\n",
       "        vertical-align: middle;\n",
       "    }\n",
       "\n",
       "    .dataframe tbody tr th {\n",
       "        vertical-align: top;\n",
       "    }\n",
       "\n",
       "    .dataframe thead th {\n",
       "        text-align: right;\n",
       "    }\n",
       "</style>\n",
       "<table border=\"1\" class=\"dataframe\">\n",
       "  <thead>\n",
       "    <tr style=\"text-align: right;\">\n",
       "      <th></th>\n",
       "      <th>Sensitivity</th>\n",
       "      <th>Specificity</th>\n",
       "      <th>AUROC</th>\n",
       "      <th>F1</th>\n",
       "      <th>Geometric Mean</th>\n",
       "      <th>Macro Average MAE</th>\n",
       "    </tr>\n",
       "  </thead>\n",
       "  <tbody>\n",
       "    <tr>\n",
       "      <th>Neural Network</th>\n",
       "      <td>0.992997</td>\n",
       "      <td>0.761198</td>\n",
       "      <td>0.877097</td>\n",
       "      <td>0.663236</td>\n",
       "      <td>0.869349</td>\n",
       "      <td>0.122903</td>\n",
       "    </tr>\n",
       "    <tr>\n",
       "      <th>GNB</th>\n",
       "      <td>0.992614</td>\n",
       "      <td>0.761194</td>\n",
       "      <td>0.876904</td>\n",
       "      <td>0.651144</td>\n",
       "      <td>0.869180</td>\n",
       "      <td>0.123096</td>\n",
       "    </tr>\n",
       "    <tr>\n",
       "      <th>RandomForest</th>\n",
       "      <td>0.993857</td>\n",
       "      <td>0.701814</td>\n",
       "      <td>0.847835</td>\n",
       "      <td>0.673829</td>\n",
       "      <td>0.835112</td>\n",
       "      <td>0.152165</td>\n",
       "    </tr>\n",
       "    <tr>\n",
       "      <th>XGBoost</th>\n",
       "      <td>0.993859</td>\n",
       "      <td>0.701344</td>\n",
       "      <td>0.847602</td>\n",
       "      <td>0.673744</td>\n",
       "      <td>0.834829</td>\n",
       "      <td>0.152398</td>\n",
       "    </tr>\n",
       "    <tr>\n",
       "      <th>Decision Tree (max_depth=None)</th>\n",
       "      <td>0.993855</td>\n",
       "      <td>0.700875</td>\n",
       "      <td>0.847365</td>\n",
       "      <td>0.673435</td>\n",
       "      <td>0.834544</td>\n",
       "      <td>0.152635</td>\n",
       "    </tr>\n",
       "    <tr>\n",
       "      <th>GradientBoostingForest</th>\n",
       "      <td>0.993713</td>\n",
       "      <td>0.686787</td>\n",
       "      <td>0.840250</td>\n",
       "      <td>0.663839</td>\n",
       "      <td>0.826048</td>\n",
       "      <td>0.159750</td>\n",
       "    </tr>\n",
       "    <tr>\n",
       "      <th>Perceptron_a_0.1</th>\n",
       "      <td>0.992056</td>\n",
       "      <td>0.265482</td>\n",
       "      <td>0.628769</td>\n",
       "      <td>0.338347</td>\n",
       "      <td>0.470218</td>\n",
       "      <td>0.371231</td>\n",
       "    </tr>\n",
       "    <tr>\n",
       "      <th>Dummy Classifier</th>\n",
       "      <td>0.499614</td>\n",
       "      <td>0.503402</td>\n",
       "      <td>0.501508</td>\n",
       "      <td>0.017929</td>\n",
       "      <td>0.501347</td>\n",
       "      <td>0.498492</td>\n",
       "    </tr>\n",
       "    <tr>\n",
       "      <th>Most Frequent Clasifier</th>\n",
       "      <td>0.990927</td>\n",
       "      <td>0.009073</td>\n",
       "      <td>0.500000</td>\n",
       "      <td>0.000000</td>\n",
       "      <td>0.094819</td>\n",
       "      <td>0.500000</td>\n",
       "    </tr>\n",
       "  </tbody>\n",
       "</table>\n",
       "</div>"
      ],
      "text/plain": [
       "                                Sensitivity  Specificity     AUROC        F1  \\\n",
       "Neural Network                     0.992997     0.761198  0.877097  0.663236   \n",
       "GNB                                0.992614     0.761194  0.876904  0.651144   \n",
       "RandomForest                       0.993857     0.701814  0.847835  0.673829   \n",
       "XGBoost                            0.993859     0.701344  0.847602  0.673744   \n",
       "Decision Tree (max_depth=None)     0.993855     0.700875  0.847365  0.673435   \n",
       "GradientBoostingForest             0.993713     0.686787  0.840250  0.663839   \n",
       "Perceptron_a_0.1                   0.992056     0.265482  0.628769  0.338347   \n",
       "Dummy Classifier                   0.499614     0.503402  0.501508  0.017929   \n",
       "Most Frequent Clasifier            0.990927     0.009073  0.500000  0.000000   \n",
       "\n",
       "                                Geometric Mean  Macro Average MAE  \n",
       "Neural Network                        0.869349           0.122903  \n",
       "GNB                                   0.869180           0.123096  \n",
       "RandomForest                          0.835112           0.152165  \n",
       "XGBoost                               0.834829           0.152398  \n",
       "Decision Tree (max_depth=None)        0.834544           0.152635  \n",
       "GradientBoostingForest                0.826048           0.159750  \n",
       "Perceptron_a_0.1                      0.470218           0.371231  \n",
       "Dummy Classifier                      0.501347           0.498492  \n",
       "Most Frequent Clasifier               0.094819           0.500000  "
      ]
     },
     "execution_count": 354,
     "metadata": {},
     "output_type": "execute_result"
    }
   ],
   "source": [
    "results_train = pd.DataFrame([prediction_train[name] for name in models.keys()], index=models.keys())\n",
    "results.sort_values('AUROC', ascending=False)"
   ]
  },
  {
   "cell_type": "markdown",
   "metadata": {},
   "source": [
    "### over sampling"
   ]
  },
  {
   "cell_type": "code",
   "execution_count": 91,
   "metadata": {},
   "outputs": [
    {
     "name": "stdout",
     "output_type": "stream",
     "text": [
      "25932/25932 [==============================] - 19s 699us/step - loss: 0.3237 - binary_accuracy: 0.8755 - auc: 0.8774\n",
      "25932/25932 [==============================] - 17s 665us/step - loss: 0.3205 - binary_accuracy: 0.8766 - auc: 0.8775\n",
      "25932/25932 [==============================] - 18s 689us/step - loss: 0.3215 - binary_accuracy: 0.8758 - auc: 0.8767\n",
      "25932/25932 [==============================] - 17s 666us/step - loss: 0.3192 - binary_accuracy: 0.8772 - auc: 0.8778\n",
      "25932/25932 [==============================] - 17s 666us/step - loss: 0.3207 - binary_accuracy: 0.8762 - auc: 0.8768\n",
      "25932/25932 [==============================] - 16s 635us/step - loss: 0.3212 - binary_accuracy: 0.8759 - auc: 0.8767\n",
      "25932/25932 [==============================] - 17s 647us/step - loss: 0.3171 - binary_accuracy: 0.8784 - auc: 0.8791\n",
      "25932/25932 [==============================] - 17s 654us/step - loss: 0.3190 - binary_accuracy: 0.8772 - auc: 0.8776\n",
      "25932/25932 [==============================] - 18s 682us/step - loss: 0.3188 - binary_accuracy: 0.8772 - auc: 0.8783\n",
      "25932/25932 [==============================] - 16s 627us/step - loss: 0.3162 - binary_accuracy: 0.8789 - auc: 0.8792\n"
     ]
    }
   ],
   "source": [
    "n_splits = 10;\n",
    "skf = StratifiedKFold(n_splits=n_splits, shuffle=True, random_state=0)\n",
    "prediction = dict() # store the metrics\n",
    "prediction_train = dict() # store the metrics for the trainning set\n",
    "for train_index, test_index in skf.split(X, Y):\n",
    "    X_train, X_test = X.iloc[train_index], X.iloc[test_index]\n",
    "    y_train, y_test = Y[train_index], Y[test_index]\n",
    "    X_train, y_train = oversample(X_train, y_train)\n",
    "    for classif_name in models.keys():\n",
    "        classif = models[classif_name]\n",
    "        classif.fit(X_train, y_train)\n",
    "        y_pred = classif.predict(X_test) # test\n",
    "        # threasholding the continuous predicted value to binary labels\n",
    "        y_pred = thresholding(y_pred, y_test)\n",
    "        output = evaluate_imbalanced(y_test, y_pred)\n",
    "        y_pred_train = classif.predict(X_train) # train\n",
    "        # threasholding the continuous predicted value to binary labels\n",
    "        y_pred_train = thresholding(y_pred_train, y_train)\n",
    "        output_train = evaluate_imbalanced(y_train, y_pred_train)\n",
    "        ## store the metrics in a dict\n",
    "        if classif_name in prediction:\n",
    "            for metric in prediction[classif_name].keys():\n",
    "                prediction[classif_name][metric] += output[metric]\n",
    "                prediction_train[classif_name][metric] += output_train[metric]\n",
    "        else:\n",
    "            prediction[classif_name] = output\n",
    "            prediction_train[classif_name] = output_train"
   ]
  },
  {
   "cell_type": "code",
   "execution_count": 92,
   "metadata": {},
   "outputs": [],
   "source": [
    "# calculate the avereage of metrics for k-folds\n",
    "for classif_name in prediction.keys():\n",
    "    for metric in prediction[classif_name].keys():\n",
    "        prediction[classif_name][metric] /= n_splits\n",
    "        prediction_train[classif_name][metric] /= n_splits"
   ]
  },
  {
   "cell_type": "code",
   "execution_count": 93,
   "metadata": {},
   "outputs": [
    {
     "data": {
      "text/html": [
       "<div>\n",
       "<style scoped>\n",
       "    .dataframe tbody tr th:only-of-type {\n",
       "        vertical-align: middle;\n",
       "    }\n",
       "\n",
       "    .dataframe tbody tr th {\n",
       "        vertical-align: top;\n",
       "    }\n",
       "\n",
       "    .dataframe thead th {\n",
       "        text-align: right;\n",
       "    }\n",
       "</style>\n",
       "<table border=\"1\" class=\"dataframe\">\n",
       "  <thead>\n",
       "    <tr style=\"text-align: right;\">\n",
       "      <th></th>\n",
       "      <th>Balanced Accuracy</th>\n",
       "      <th>Sensitivity</th>\n",
       "      <th>Specificity</th>\n",
       "      <th>AUROC</th>\n",
       "      <th>F1</th>\n",
       "      <th>Geometric Mean</th>\n",
       "      <th>Macro Average MAE</th>\n",
       "    </tr>\n",
       "  </thead>\n",
       "  <tbody>\n",
       "    <tr>\n",
       "      <th>Neural Network</th>\n",
       "      <td>0.877095</td>\n",
       "      <td>0.992993</td>\n",
       "      <td>0.761198</td>\n",
       "      <td>0.877095</td>\n",
       "      <td>0.663176</td>\n",
       "      <td>0.869347</td>\n",
       "      <td>0.122905</td>\n",
       "    </tr>\n",
       "    <tr>\n",
       "      <th>GradientBoostingForest</th>\n",
       "      <td>0.876909</td>\n",
       "      <td>0.992623</td>\n",
       "      <td>0.761194</td>\n",
       "      <td>0.876909</td>\n",
       "      <td>0.651411</td>\n",
       "      <td>0.869184</td>\n",
       "      <td>0.123091</td>\n",
       "    </tr>\n",
       "    <tr>\n",
       "      <th>GNB</th>\n",
       "      <td>0.876904</td>\n",
       "      <td>0.992614</td>\n",
       "      <td>0.761194</td>\n",
       "      <td>0.876904</td>\n",
       "      <td>0.651144</td>\n",
       "      <td>0.869180</td>\n",
       "      <td>0.123096</td>\n",
       "    </tr>\n",
       "    <tr>\n",
       "      <th>XGBoost</th>\n",
       "      <td>0.876254</td>\n",
       "      <td>0.992722</td>\n",
       "      <td>0.759787</td>\n",
       "      <td>0.876254</td>\n",
       "      <td>0.654009</td>\n",
       "      <td>0.868419</td>\n",
       "      <td>0.123746</td>\n",
       "    </tr>\n",
       "    <tr>\n",
       "      <th>RandomForest</th>\n",
       "      <td>0.876249</td>\n",
       "      <td>0.992711</td>\n",
       "      <td>0.759787</td>\n",
       "      <td>0.876249</td>\n",
       "      <td>0.653678</td>\n",
       "      <td>0.868414</td>\n",
       "      <td>0.123751</td>\n",
       "    </tr>\n",
       "    <tr>\n",
       "      <th>Decision Tree (max_depth=None)</th>\n",
       "      <td>0.876133</td>\n",
       "      <td>0.992713</td>\n",
       "      <td>0.759552</td>\n",
       "      <td>0.876133</td>\n",
       "      <td>0.653675</td>\n",
       "      <td>0.868282</td>\n",
       "      <td>0.123867</td>\n",
       "    </tr>\n",
       "    <tr>\n",
       "      <th>Perceptron</th>\n",
       "      <td>0.873292</td>\n",
       "      <td>0.992668</td>\n",
       "      <td>0.753916</td>\n",
       "      <td>0.873292</td>\n",
       "      <td>0.650594</td>\n",
       "      <td>0.864954</td>\n",
       "      <td>0.126708</td>\n",
       "    </tr>\n",
       "    <tr>\n",
       "      <th>Most Frequent Clasifier</th>\n",
       "      <td>0.500000</td>\n",
       "      <td>0.990927</td>\n",
       "      <td>0.009073</td>\n",
       "      <td>0.500000</td>\n",
       "      <td>0.000000</td>\n",
       "      <td>0.094819</td>\n",
       "      <td>0.500000</td>\n",
       "    </tr>\n",
       "    <tr>\n",
       "      <th>Dummy Classifier</th>\n",
       "      <td>0.497964</td>\n",
       "      <td>0.499567</td>\n",
       "      <td>0.496360</td>\n",
       "      <td>0.497964</td>\n",
       "      <td>0.017679</td>\n",
       "      <td>0.497892</td>\n",
       "      <td>0.502036</td>\n",
       "    </tr>\n",
       "  </tbody>\n",
       "</table>\n",
       "</div>"
      ],
      "text/plain": [
       "                                Balanced Accuracy  Sensitivity  Specificity  \\\n",
       "Neural Network                           0.877095     0.992993     0.761198   \n",
       "GradientBoostingForest                   0.876909     0.992623     0.761194   \n",
       "GNB                                      0.876904     0.992614     0.761194   \n",
       "XGBoost                                  0.876254     0.992722     0.759787   \n",
       "RandomForest                             0.876249     0.992711     0.759787   \n",
       "Decision Tree (max_depth=None)           0.876133     0.992713     0.759552   \n",
       "Perceptron                               0.873292     0.992668     0.753916   \n",
       "Most Frequent Clasifier                  0.500000     0.990927     0.009073   \n",
       "Dummy Classifier                         0.497964     0.499567     0.496360   \n",
       "\n",
       "                                   AUROC        F1  Geometric Mean  \\\n",
       "Neural Network                  0.877095  0.663176        0.869347   \n",
       "GradientBoostingForest          0.876909  0.651411        0.869184   \n",
       "GNB                             0.876904  0.651144        0.869180   \n",
       "XGBoost                         0.876254  0.654009        0.868419   \n",
       "RandomForest                    0.876249  0.653678        0.868414   \n",
       "Decision Tree (max_depth=None)  0.876133  0.653675        0.868282   \n",
       "Perceptron                      0.873292  0.650594        0.864954   \n",
       "Most Frequent Clasifier         0.500000  0.000000        0.094819   \n",
       "Dummy Classifier                0.497964  0.017679        0.497892   \n",
       "\n",
       "                                Macro Average MAE  \n",
       "Neural Network                           0.122905  \n",
       "GradientBoostingForest                   0.123091  \n",
       "GNB                                      0.123096  \n",
       "XGBoost                                  0.123746  \n",
       "RandomForest                             0.123751  \n",
       "Decision Tree (max_depth=None)           0.123867  \n",
       "Perceptron                               0.126708  \n",
       "Most Frequent Clasifier                  0.500000  \n",
       "Dummy Classifier                         0.502036  "
      ]
     },
     "execution_count": 93,
     "metadata": {},
     "output_type": "execute_result"
    }
   ],
   "source": [
    "results = pd.DataFrame([prediction[name] for name in models.keys()], index=models.keys())\n",
    "results.sort_values('AUROC', ascending=False)"
   ]
  },
  {
   "cell_type": "code",
   "execution_count": 94,
   "metadata": {},
   "outputs": [
    {
     "data": {
      "text/html": [
       "<div>\n",
       "<style scoped>\n",
       "    .dataframe tbody tr th:only-of-type {\n",
       "        vertical-align: middle;\n",
       "    }\n",
       "\n",
       "    .dataframe tbody tr th {\n",
       "        vertical-align: top;\n",
       "    }\n",
       "\n",
       "    .dataframe thead th {\n",
       "        text-align: right;\n",
       "    }\n",
       "</style>\n",
       "<table border=\"1\" class=\"dataframe\">\n",
       "  <thead>\n",
       "    <tr style=\"text-align: right;\">\n",
       "      <th></th>\n",
       "      <th>Balanced Accuracy</th>\n",
       "      <th>Sensitivity</th>\n",
       "      <th>Specificity</th>\n",
       "      <th>AUROC</th>\n",
       "      <th>F1</th>\n",
       "      <th>Geometric Mean</th>\n",
       "      <th>Macro Average MAE</th>\n",
       "    </tr>\n",
       "  </thead>\n",
       "  <tbody>\n",
       "    <tr>\n",
       "      <th>Decision Tree (max_depth=None)</th>\n",
       "      <td>0.877086</td>\n",
       "      <td>0.877086</td>\n",
       "      <td>0.877086</td>\n",
       "      <td>0.877086</td>\n",
       "      <td>0.860673</td>\n",
       "      <td>0.877086</td>\n",
       "      <td>0.122914</td>\n",
       "    </tr>\n",
       "    <tr>\n",
       "      <th>RandomForest</th>\n",
       "      <td>0.877086</td>\n",
       "      <td>0.877086</td>\n",
       "      <td>0.877086</td>\n",
       "      <td>0.877086</td>\n",
       "      <td>0.860673</td>\n",
       "      <td>0.877086</td>\n",
       "      <td>0.122914</td>\n",
       "    </tr>\n",
       "    <tr>\n",
       "      <th>XGBoost</th>\n",
       "      <td>0.877086</td>\n",
       "      <td>0.877086</td>\n",
       "      <td>0.877086</td>\n",
       "      <td>0.877086</td>\n",
       "      <td>0.860673</td>\n",
       "      <td>0.877086</td>\n",
       "      <td>0.122914</td>\n",
       "    </tr>\n",
       "    <tr>\n",
       "      <th>GradientBoostingForest</th>\n",
       "      <td>0.877026</td>\n",
       "      <td>0.877026</td>\n",
       "      <td>0.877026</td>\n",
       "      <td>0.877026</td>\n",
       "      <td>0.860615</td>\n",
       "      <td>0.877026</td>\n",
       "      <td>0.122974</td>\n",
       "    </tr>\n",
       "    <tr>\n",
       "      <th>Neural Network</th>\n",
       "      <td>0.877025</td>\n",
       "      <td>0.877025</td>\n",
       "      <td>0.877025</td>\n",
       "      <td>0.877025</td>\n",
       "      <td>0.860614</td>\n",
       "      <td>0.877025</td>\n",
       "      <td>0.122975</td>\n",
       "    </tr>\n",
       "    <tr>\n",
       "      <th>GNB</th>\n",
       "      <td>0.877023</td>\n",
       "      <td>0.877023</td>\n",
       "      <td>0.877023</td>\n",
       "      <td>0.877023</td>\n",
       "      <td>0.860612</td>\n",
       "      <td>0.877023</td>\n",
       "      <td>0.122977</td>\n",
       "    </tr>\n",
       "    <tr>\n",
       "      <th>Perceptron</th>\n",
       "      <td>0.873065</td>\n",
       "      <td>0.873065</td>\n",
       "      <td>0.873065</td>\n",
       "      <td>0.873065</td>\n",
       "      <td>0.855297</td>\n",
       "      <td>0.873065</td>\n",
       "      <td>0.126935</td>\n",
       "    </tr>\n",
       "    <tr>\n",
       "      <th>Dummy Classifier</th>\n",
       "      <td>0.500541</td>\n",
       "      <td>0.500541</td>\n",
       "      <td>0.500541</td>\n",
       "      <td>0.500541</td>\n",
       "      <td>0.500501</td>\n",
       "      <td>0.500541</td>\n",
       "      <td>0.499459</td>\n",
       "    </tr>\n",
       "    <tr>\n",
       "      <th>Most Frequent Clasifier</th>\n",
       "      <td>0.500000</td>\n",
       "      <td>0.500000</td>\n",
       "      <td>0.500000</td>\n",
       "      <td>0.500000</td>\n",
       "      <td>0.000000</td>\n",
       "      <td>0.500000</td>\n",
       "      <td>0.500000</td>\n",
       "    </tr>\n",
       "  </tbody>\n",
       "</table>\n",
       "</div>"
      ],
      "text/plain": [
       "                                Balanced Accuracy  Sensitivity  Specificity  \\\n",
       "Decision Tree (max_depth=None)           0.877086     0.877086     0.877086   \n",
       "RandomForest                             0.877086     0.877086     0.877086   \n",
       "XGBoost                                  0.877086     0.877086     0.877086   \n",
       "GradientBoostingForest                   0.877026     0.877026     0.877026   \n",
       "Neural Network                           0.877025     0.877025     0.877025   \n",
       "GNB                                      0.877023     0.877023     0.877023   \n",
       "Perceptron                               0.873065     0.873065     0.873065   \n",
       "Dummy Classifier                         0.500541     0.500541     0.500541   \n",
       "Most Frequent Clasifier                  0.500000     0.500000     0.500000   \n",
       "\n",
       "                                   AUROC        F1  Geometric Mean  \\\n",
       "Decision Tree (max_depth=None)  0.877086  0.860673        0.877086   \n",
       "RandomForest                    0.877086  0.860673        0.877086   \n",
       "XGBoost                         0.877086  0.860673        0.877086   \n",
       "GradientBoostingForest          0.877026  0.860615        0.877026   \n",
       "Neural Network                  0.877025  0.860614        0.877025   \n",
       "GNB                             0.877023  0.860612        0.877023   \n",
       "Perceptron                      0.873065  0.855297        0.873065   \n",
       "Dummy Classifier                0.500541  0.500501        0.500541   \n",
       "Most Frequent Clasifier         0.500000  0.000000        0.500000   \n",
       "\n",
       "                                Macro Average MAE  \n",
       "Decision Tree (max_depth=None)           0.122914  \n",
       "RandomForest                             0.122914  \n",
       "XGBoost                                  0.122914  \n",
       "GradientBoostingForest                   0.122974  \n",
       "Neural Network                           0.122975  \n",
       "GNB                                      0.122977  \n",
       "Perceptron                               0.126935  \n",
       "Dummy Classifier                         0.499459  \n",
       "Most Frequent Clasifier                  0.500000  "
      ]
     },
     "execution_count": 94,
     "metadata": {},
     "output_type": "execute_result"
    }
   ],
   "source": [
    "results = pd.DataFrame([prediction_train[name] for name in models.keys()], index=models.keys())\n",
    "results.sort_values('AUROC', ascending=False)"
   ]
  },
  {
   "cell_type": "markdown",
   "metadata": {},
   "source": [
    "### over sampling with SMOTE"
   ]
  },
  {
   "cell_type": "code",
   "execution_count": 98,
   "metadata": {},
   "outputs": [
    {
     "name": "stdout",
     "output_type": "stream",
     "text": [
      "25932/25932 [==============================] - 18s 682us/step - loss: 0.3192 - binary_accuracy: 0.8769 - auc: 0.8781\n",
      "25932/25932 [==============================] - 18s 684us/step - loss: 0.3202 - binary_accuracy: 0.8764 - auc: 0.8771\n",
      "25932/25932 [==============================] - 18s 687us/step - loss: 0.3214 - binary_accuracy: 0.8756 - auc: 0.8766\n",
      "25932/25932 [==============================] - 17s 656us/step - loss: 0.3203 - binary_accuracy: 0.8762 - auc: 0.8768\n",
      "25932/25932 [==============================] - 18s 676us/step - loss: 0.3201 - binary_accuracy: 0.8763 - auc: 0.8772\n",
      "25932/25932 [==============================] - 17s 653us/step - loss: 0.3217 - binary_accuracy: 0.8754 - auc: 0.8762\n",
      "25932/25932 [==============================] - 17s 648us/step - loss: 0.3163 - binary_accuracy: 0.8787 - auc: 0.8794\n",
      "25932/25932 [==============================] - 16s 632us/step - loss: 0.3190 - binary_accuracy: 0.8770 - auc: 0.8781\n",
      "25932/25932 [==============================] - 17s 649us/step - loss: 0.3179 - binary_accuracy: 0.8776 - auc: 0.8784\n",
      "25932/25932 [==============================] - 16s 634us/step - loss: 0.3163 - binary_accuracy: 0.8786 - auc: 0.8798\n"
     ]
    }
   ],
   "source": [
    "n_splits = 10;\n",
    "skf = StratifiedKFold(n_splits=n_splits, shuffle=True, random_state=0)\n",
    "prediction = dict() # store the metrics\n",
    "prediction_train = dict() # store the metrics for the trainning set\n",
    "for train_index, test_index in skf.split(X, Y):\n",
    "    X_train, X_test = X.iloc[train_index], X.iloc[test_index]\n",
    "    y_train, y_test = Y[train_index], Y[test_index]\n",
    "    X_train, y_train = oversample_smote(X_train, y_train)\n",
    "    for classif_name in models.keys():\n",
    "        classif = models[classif_name]\n",
    "        classif.fit(X_train, y_train)\n",
    "        y_pred = classif.predict(X_test) # test\n",
    "        # threasholding the continuous predicted value to binary labels\n",
    "        y_pred = thresholding(y_pred, y_test)\n",
    "        output = evaluate_imbalanced(y_test, y_pred)\n",
    "        y_pred_train = classif.predict(X_train) # train\n",
    "        # threasholding the continuous predicted value to binary labels\n",
    "        y_pred_train = thresholding(y_pred_train, y_train)\n",
    "        output_train = evaluate_imbalanced(y_train, y_pred_train)\n",
    "        ## store the metrics in a dict\n",
    "        if classif_name in prediction:\n",
    "            for metric in prediction[classif_name].keys():\n",
    "                prediction[classif_name][metric] += output[metric]\n",
    "                prediction_train[classif_name][metric] += output_train[metric]\n",
    "        else:\n",
    "            prediction[classif_name] = output\n",
    "            prediction_train[classif_name] = output_train"
   ]
  },
  {
   "cell_type": "code",
   "execution_count": 99,
   "metadata": {},
   "outputs": [],
   "source": [
    "# calculate the avereage of metrics for k-folds\n",
    "for classif_name in prediction.keys():\n",
    "    for metric in prediction[classif_name].keys():\n",
    "        prediction[classif_name][metric] /= n_splits\n",
    "        prediction_train[classif_name][metric] /= n_splits"
   ]
  },
  {
   "cell_type": "code",
   "execution_count": 100,
   "metadata": {},
   "outputs": [
    {
     "data": {
      "text/html": [
       "<div>\n",
       "<style scoped>\n",
       "    .dataframe tbody tr th:only-of-type {\n",
       "        vertical-align: middle;\n",
       "    }\n",
       "\n",
       "    .dataframe tbody tr th {\n",
       "        vertical-align: top;\n",
       "    }\n",
       "\n",
       "    .dataframe thead th {\n",
       "        text-align: right;\n",
       "    }\n",
       "</style>\n",
       "<table border=\"1\" class=\"dataframe\">\n",
       "  <thead>\n",
       "    <tr style=\"text-align: right;\">\n",
       "      <th></th>\n",
       "      <th>Balanced Accuracy</th>\n",
       "      <th>Sensitivity</th>\n",
       "      <th>Specificity</th>\n",
       "      <th>AUROC</th>\n",
       "      <th>F1</th>\n",
       "      <th>Geometric Mean</th>\n",
       "      <th>Macro Average MAE</th>\n",
       "    </tr>\n",
       "  </thead>\n",
       "  <tbody>\n",
       "    <tr>\n",
       "      <th>Neural Network</th>\n",
       "      <td>0.877122</td>\n",
       "      <td>0.993046</td>\n",
       "      <td>0.761198</td>\n",
       "      <td>0.877122</td>\n",
       "      <td>0.664819</td>\n",
       "      <td>0.869371</td>\n",
       "      <td>0.122878</td>\n",
       "    </tr>\n",
       "    <tr>\n",
       "      <th>GNB</th>\n",
       "      <td>0.876904</td>\n",
       "      <td>0.992614</td>\n",
       "      <td>0.761194</td>\n",
       "      <td>0.876904</td>\n",
       "      <td>0.651144</td>\n",
       "      <td>0.869180</td>\n",
       "      <td>0.123096</td>\n",
       "    </tr>\n",
       "    <tr>\n",
       "      <th>GradientBoostingForest</th>\n",
       "      <td>0.876444</td>\n",
       "      <td>0.992634</td>\n",
       "      <td>0.760255</td>\n",
       "      <td>0.876444</td>\n",
       "      <td>0.651450</td>\n",
       "      <td>0.868649</td>\n",
       "      <td>0.123556</td>\n",
       "    </tr>\n",
       "    <tr>\n",
       "      <th>RandomForest</th>\n",
       "      <td>0.875831</td>\n",
       "      <td>0.992812</td>\n",
       "      <td>0.758849</td>\n",
       "      <td>0.875831</td>\n",
       "      <td>0.656621</td>\n",
       "      <td>0.867924</td>\n",
       "      <td>0.124169</td>\n",
       "    </tr>\n",
       "    <tr>\n",
       "      <th>Decision Tree (max_depth=None)</th>\n",
       "      <td>0.875480</td>\n",
       "      <td>0.992814</td>\n",
       "      <td>0.758145</td>\n",
       "      <td>0.875480</td>\n",
       "      <td>0.656464</td>\n",
       "      <td>0.867516</td>\n",
       "      <td>0.124520</td>\n",
       "    </tr>\n",
       "    <tr>\n",
       "      <th>XGBoost</th>\n",
       "      <td>0.875463</td>\n",
       "      <td>0.992782</td>\n",
       "      <td>0.758144</td>\n",
       "      <td>0.875463</td>\n",
       "      <td>0.655423</td>\n",
       "      <td>0.867502</td>\n",
       "      <td>0.124537</td>\n",
       "    </tr>\n",
       "    <tr>\n",
       "      <th>Perceptron</th>\n",
       "      <td>0.866761</td>\n",
       "      <td>0.992754</td>\n",
       "      <td>0.740768</td>\n",
       "      <td>0.866761</td>\n",
       "      <td>0.648789</td>\n",
       "      <td>0.857069</td>\n",
       "      <td>0.133239</td>\n",
       "    </tr>\n",
       "    <tr>\n",
       "      <th>Dummy Classifier</th>\n",
       "      <td>0.504399</td>\n",
       "      <td>0.500457</td>\n",
       "      <td>0.508341</td>\n",
       "      <td>0.504399</td>\n",
       "      <td>0.018132</td>\n",
       "      <td>0.504287</td>\n",
       "      <td>0.495601</td>\n",
       "    </tr>\n",
       "    <tr>\n",
       "      <th>Most Frequent Clasifier</th>\n",
       "      <td>0.500000</td>\n",
       "      <td>0.990927</td>\n",
       "      <td>0.009073</td>\n",
       "      <td>0.500000</td>\n",
       "      <td>0.000000</td>\n",
       "      <td>0.094819</td>\n",
       "      <td>0.500000</td>\n",
       "    </tr>\n",
       "  </tbody>\n",
       "</table>\n",
       "</div>"
      ],
      "text/plain": [
       "                                Balanced Accuracy  Sensitivity  Specificity  \\\n",
       "Neural Network                           0.877122     0.993046     0.761198   \n",
       "GNB                                      0.876904     0.992614     0.761194   \n",
       "GradientBoostingForest                   0.876444     0.992634     0.760255   \n",
       "RandomForest                             0.875831     0.992812     0.758849   \n",
       "Decision Tree (max_depth=None)           0.875480     0.992814     0.758145   \n",
       "XGBoost                                  0.875463     0.992782     0.758144   \n",
       "Perceptron                               0.866761     0.992754     0.740768   \n",
       "Dummy Classifier                         0.504399     0.500457     0.508341   \n",
       "Most Frequent Clasifier                  0.500000     0.990927     0.009073   \n",
       "\n",
       "                                   AUROC        F1  Geometric Mean  \\\n",
       "Neural Network                  0.877122  0.664819        0.869371   \n",
       "GNB                             0.876904  0.651144        0.869180   \n",
       "GradientBoostingForest          0.876444  0.651450        0.868649   \n",
       "RandomForest                    0.875831  0.656621        0.867924   \n",
       "Decision Tree (max_depth=None)  0.875480  0.656464        0.867516   \n",
       "XGBoost                         0.875463  0.655423        0.867502   \n",
       "Perceptron                      0.866761  0.648789        0.857069   \n",
       "Dummy Classifier                0.504399  0.018132        0.504287   \n",
       "Most Frequent Clasifier         0.500000  0.000000        0.094819   \n",
       "\n",
       "                                Macro Average MAE  \n",
       "Neural Network                           0.122878  \n",
       "GNB                                      0.123096  \n",
       "GradientBoostingForest                   0.123556  \n",
       "RandomForest                             0.124169  \n",
       "Decision Tree (max_depth=None)           0.124520  \n",
       "XGBoost                                  0.124537  \n",
       "Perceptron                               0.133239  \n",
       "Dummy Classifier                         0.495601  \n",
       "Most Frequent Clasifier                  0.500000  "
      ]
     },
     "execution_count": 100,
     "metadata": {},
     "output_type": "execute_result"
    }
   ],
   "source": [
    "results = pd.DataFrame([prediction[name] for name in models.keys()], index=models.keys())\n",
    "results.sort_values('AUROC', ascending=False)"
   ]
  },
  {
   "cell_type": "code",
   "execution_count": 101,
   "metadata": {},
   "outputs": [
    {
     "data": {
      "text/html": [
       "<div>\n",
       "<style scoped>\n",
       "    .dataframe tbody tr th:only-of-type {\n",
       "        vertical-align: middle;\n",
       "    }\n",
       "\n",
       "    .dataframe tbody tr th {\n",
       "        vertical-align: top;\n",
       "    }\n",
       "\n",
       "    .dataframe thead th {\n",
       "        text-align: right;\n",
       "    }\n",
       "</style>\n",
       "<table border=\"1\" class=\"dataframe\">\n",
       "  <thead>\n",
       "    <tr style=\"text-align: right;\">\n",
       "      <th></th>\n",
       "      <th>Balanced Accuracy</th>\n",
       "      <th>Sensitivity</th>\n",
       "      <th>Specificity</th>\n",
       "      <th>AUROC</th>\n",
       "      <th>F1</th>\n",
       "      <th>Geometric Mean</th>\n",
       "      <th>Macro Average MAE</th>\n",
       "    </tr>\n",
       "  </thead>\n",
       "  <tbody>\n",
       "    <tr>\n",
       "      <th>RandomForest</th>\n",
       "      <td>0.876935</td>\n",
       "      <td>0.876935</td>\n",
       "      <td>0.876935</td>\n",
       "      <td>0.876935</td>\n",
       "      <td>0.860461</td>\n",
       "      <td>0.876935</td>\n",
       "      <td>0.123065</td>\n",
       "    </tr>\n",
       "    <tr>\n",
       "      <th>XGBoost</th>\n",
       "      <td>0.876935</td>\n",
       "      <td>0.876935</td>\n",
       "      <td>0.876935</td>\n",
       "      <td>0.876935</td>\n",
       "      <td>0.860465</td>\n",
       "      <td>0.876935</td>\n",
       "      <td>0.123065</td>\n",
       "    </tr>\n",
       "    <tr>\n",
       "      <th>Decision Tree (max_depth=None)</th>\n",
       "      <td>0.876935</td>\n",
       "      <td>0.876935</td>\n",
       "      <td>0.876935</td>\n",
       "      <td>0.876935</td>\n",
       "      <td>0.860460</td>\n",
       "      <td>0.876935</td>\n",
       "      <td>0.123065</td>\n",
       "    </tr>\n",
       "    <tr>\n",
       "      <th>Neural Network</th>\n",
       "      <td>0.876908</td>\n",
       "      <td>0.876908</td>\n",
       "      <td>0.876908</td>\n",
       "      <td>0.876908</td>\n",
       "      <td>0.860438</td>\n",
       "      <td>0.876908</td>\n",
       "      <td>0.123092</td>\n",
       "    </tr>\n",
       "    <tr>\n",
       "      <th>GradientBoostingForest</th>\n",
       "      <td>0.876852</td>\n",
       "      <td>0.876852</td>\n",
       "      <td>0.876852</td>\n",
       "      <td>0.876852</td>\n",
       "      <td>0.860386</td>\n",
       "      <td>0.876852</td>\n",
       "      <td>0.123148</td>\n",
       "    </tr>\n",
       "    <tr>\n",
       "      <th>GNB</th>\n",
       "      <td>0.876848</td>\n",
       "      <td>0.876848</td>\n",
       "      <td>0.876848</td>\n",
       "      <td>0.876848</td>\n",
       "      <td>0.860385</td>\n",
       "      <td>0.876848</td>\n",
       "      <td>0.123152</td>\n",
       "    </tr>\n",
       "    <tr>\n",
       "      <th>Perceptron</th>\n",
       "      <td>0.866210</td>\n",
       "      <td>0.866210</td>\n",
       "      <td>0.866210</td>\n",
       "      <td>0.866210</td>\n",
       "      <td>0.845829</td>\n",
       "      <td>0.866210</td>\n",
       "      <td>0.133790</td>\n",
       "    </tr>\n",
       "    <tr>\n",
       "      <th>Dummy Classifier</th>\n",
       "      <td>0.500064</td>\n",
       "      <td>0.500064</td>\n",
       "      <td>0.500064</td>\n",
       "      <td>0.500064</td>\n",
       "      <td>0.500014</td>\n",
       "      <td>0.500064</td>\n",
       "      <td>0.499936</td>\n",
       "    </tr>\n",
       "    <tr>\n",
       "      <th>Most Frequent Clasifier</th>\n",
       "      <td>0.500000</td>\n",
       "      <td>0.500000</td>\n",
       "      <td>0.500000</td>\n",
       "      <td>0.500000</td>\n",
       "      <td>0.000000</td>\n",
       "      <td>0.500000</td>\n",
       "      <td>0.500000</td>\n",
       "    </tr>\n",
       "  </tbody>\n",
       "</table>\n",
       "</div>"
      ],
      "text/plain": [
       "                                Balanced Accuracy  Sensitivity  Specificity  \\\n",
       "RandomForest                             0.876935     0.876935     0.876935   \n",
       "XGBoost                                  0.876935     0.876935     0.876935   \n",
       "Decision Tree (max_depth=None)           0.876935     0.876935     0.876935   \n",
       "Neural Network                           0.876908     0.876908     0.876908   \n",
       "GradientBoostingForest                   0.876852     0.876852     0.876852   \n",
       "GNB                                      0.876848     0.876848     0.876848   \n",
       "Perceptron                               0.866210     0.866210     0.866210   \n",
       "Dummy Classifier                         0.500064     0.500064     0.500064   \n",
       "Most Frequent Clasifier                  0.500000     0.500000     0.500000   \n",
       "\n",
       "                                   AUROC        F1  Geometric Mean  \\\n",
       "RandomForest                    0.876935  0.860461        0.876935   \n",
       "XGBoost                         0.876935  0.860465        0.876935   \n",
       "Decision Tree (max_depth=None)  0.876935  0.860460        0.876935   \n",
       "Neural Network                  0.876908  0.860438        0.876908   \n",
       "GradientBoostingForest          0.876852  0.860386        0.876852   \n",
       "GNB                             0.876848  0.860385        0.876848   \n",
       "Perceptron                      0.866210  0.845829        0.866210   \n",
       "Dummy Classifier                0.500064  0.500014        0.500064   \n",
       "Most Frequent Clasifier         0.500000  0.000000        0.500000   \n",
       "\n",
       "                                Macro Average MAE  \n",
       "RandomForest                             0.123065  \n",
       "XGBoost                                  0.123065  \n",
       "Decision Tree (max_depth=None)           0.123065  \n",
       "Neural Network                           0.123092  \n",
       "GradientBoostingForest                   0.123148  \n",
       "GNB                                      0.123152  \n",
       "Perceptron                               0.133790  \n",
       "Dummy Classifier                         0.499936  \n",
       "Most Frequent Clasifier                  0.500000  "
      ]
     },
     "execution_count": 101,
     "metadata": {},
     "output_type": "execute_result"
    }
   ],
   "source": [
    "results = pd.DataFrame([prediction_train[name] for name in models.keys()], index=models.keys())\n",
    "results.sort_values('AUROC', ascending=False)"
   ]
  },
  {
   "cell_type": "markdown",
   "metadata": {},
   "source": [
    "### under sampling"
   ]
  },
  {
   "cell_type": "code",
   "execution_count": 102,
   "metadata": {},
   "outputs": [
    {
     "ename": "NameError",
     "evalue": "name 'X_undersampled' is not defined",
     "output_type": "error",
     "traceback": [
      "\u001b[0;31m---------------------------------------------------------------------------\u001b[0m",
      "\u001b[0;31mNameError\u001b[0m                                 Traceback (most recent call last)",
      "\u001b[0;32m<ipython-input-102-f9a10937124d>\u001b[0m in \u001b[0;36m<module>\u001b[0;34m\u001b[0m\n\u001b[1;32m      3\u001b[0m \u001b[0mprediction\u001b[0m \u001b[0;34m=\u001b[0m \u001b[0mdict\u001b[0m\u001b[0;34m(\u001b[0m\u001b[0;34m)\u001b[0m \u001b[0;31m# store the metrics\u001b[0m\u001b[0;34m\u001b[0m\u001b[0;34m\u001b[0m\u001b[0m\n\u001b[1;32m      4\u001b[0m \u001b[0mprediction_train\u001b[0m \u001b[0;34m=\u001b[0m \u001b[0mdict\u001b[0m\u001b[0;34m(\u001b[0m\u001b[0;34m)\u001b[0m \u001b[0;31m# store the metrics for the trainning set\u001b[0m\u001b[0;34m\u001b[0m\u001b[0;34m\u001b[0m\u001b[0m\n\u001b[0;32m----> 5\u001b[0;31m \u001b[0;32mfor\u001b[0m \u001b[0mtrain_index\u001b[0m\u001b[0;34m,\u001b[0m \u001b[0mtest_index\u001b[0m \u001b[0;32min\u001b[0m \u001b[0mskf\u001b[0m\u001b[0;34m.\u001b[0m\u001b[0msplit\u001b[0m\u001b[0;34m(\u001b[0m\u001b[0mX_undersampled\u001b[0m\u001b[0;34m,\u001b[0m \u001b[0my_undersampled\u001b[0m\u001b[0;34m)\u001b[0m\u001b[0;34m:\u001b[0m\u001b[0;34m\u001b[0m\u001b[0;34m\u001b[0m\u001b[0m\n\u001b[0m\u001b[1;32m      6\u001b[0m     \u001b[0mX_train\u001b[0m\u001b[0;34m,\u001b[0m \u001b[0mX_test\u001b[0m \u001b[0;34m=\u001b[0m \u001b[0mX\u001b[0m\u001b[0;34m.\u001b[0m\u001b[0miloc\u001b[0m\u001b[0;34m[\u001b[0m\u001b[0mtrain_index\u001b[0m\u001b[0;34m]\u001b[0m\u001b[0;34m,\u001b[0m \u001b[0mX\u001b[0m\u001b[0;34m.\u001b[0m\u001b[0miloc\u001b[0m\u001b[0;34m[\u001b[0m\u001b[0mtest_index\u001b[0m\u001b[0;34m]\u001b[0m\u001b[0;34m\u001b[0m\u001b[0;34m\u001b[0m\u001b[0m\n\u001b[1;32m      7\u001b[0m     \u001b[0my_train\u001b[0m\u001b[0;34m,\u001b[0m \u001b[0my_test\u001b[0m \u001b[0;34m=\u001b[0m \u001b[0mY\u001b[0m\u001b[0;34m[\u001b[0m\u001b[0mtrain_index\u001b[0m\u001b[0;34m]\u001b[0m\u001b[0;34m,\u001b[0m \u001b[0mY\u001b[0m\u001b[0;34m[\u001b[0m\u001b[0mtest_index\u001b[0m\u001b[0;34m]\u001b[0m\u001b[0;34m\u001b[0m\u001b[0;34m\u001b[0m\u001b[0m\n",
      "\u001b[0;31mNameError\u001b[0m: name 'X_undersampled' is not defined"
     ]
    }
   ],
   "source": [
    "n_splits = 10;\n",
    "skf = StratifiedKFold(n_splits=n_splits, shuffle=True, random_state=0)\n",
    "prediction = dict() # store the metrics\n",
    "prediction_train = dict() # store the metrics for the trainning set\n",
    "for train_index, test_index in skf.split(X_undersampled, y_undersampled):\n",
    "    X_train, X_test = X.iloc[train_index], X.iloc[test_index]\n",
    "    y_train, y_test = Y[train_index], Y[test_index]\n",
    "    X_train, y_train = undersample(X_train, y_train)\n",
    "    for classif_name in models.keys():\n",
    "        classif = models[classif_name]\n",
    "        classif.fit(X_train, y_train)\n",
    "        y_pred = classif.predict(X_test) # test\n",
    "        # threasholding the continuous predicted value to binary labels\n",
    "        y_pred = thresholding(y_pred, y_test)\n",
    "        output = evaluate_imbalanced(y_test, y_pred)\n",
    "        y_pred_train = classif.predict(X_train) # train\n",
    "        # threasholding the continuous predicted value to binary labels\n",
    "        y_pred_train = thresholding(y_pred_train, y_train)\n",
    "        output_train = evaluate_imbalanced(y_train, y_pred_train)\n",
    "        ## store the metrics in a dict\n",
    "        if classif_name in prediction:\n",
    "            for metric in prediction[classif_name].keys():\n",
    "                prediction[classif_name][metric] += output[metric]\n",
    "                prediction_train[classif_name][metric] += output_train[metric]\n",
    "        else:\n",
    "            prediction[classif_name] = output\n",
    "            prediction_train[classif_name] = output_train"
   ]
  },
  {
   "cell_type": "code",
   "execution_count": null,
   "metadata": {},
   "outputs": [],
   "source": [
    "# calculate the avereage of metrics for k-folds\n",
    "for classif_name in prediction.keys():\n",
    "    for metric in prediction[classif_name].keys():\n",
    "        prediction[classif_name][metric] /= n_splits\n",
    "        prediction_train[classif_name][metric] /= n_splits"
   ]
  },
  {
   "cell_type": "code",
   "execution_count": null,
   "metadata": {},
   "outputs": [],
   "source": [
    "results = pd.DataFrame([prediction[name] for name in models.keys()], index=models.keys())\n",
    "results.sort_values('AUROC', ascending=False)"
   ]
  },
  {
   "cell_type": "code",
   "execution_count": null,
   "metadata": {},
   "outputs": [],
   "source": [
    "results = pd.DataFrame([prediction_train[name] for name in models.keys()], index=models.keys())\n",
    "results.sort_values('AUROC', ascending=False)"
   ]
  }
 ],
 "metadata": {
  "kernelspec": {
   "display_name": "Python 3",
   "language": "python",
   "name": "python3"
  },
  "language_info": {
   "codemirror_mode": {
    "name": "ipython",
    "version": 3
   },
   "file_extension": ".py",
   "mimetype": "text/x-python",
   "name": "python",
   "nbconvert_exporter": "python",
   "pygments_lexer": "ipython3",
   "version": "3.8.8"
  }
 },
 "nbformat": 4,
 "nbformat_minor": 4
}
