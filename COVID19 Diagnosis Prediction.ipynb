{
 "cells": [
  {
   "cell_type": "code",
   "execution_count": 1,
   "metadata": {},
   "outputs": [],
   "source": [
    "import numpy as np\n",
    "import pandas as pd\n",
    "import matplotlib.pyplot as plt \n",
    "import seaborn as sns\n",
    "from sklearn.preprocessing import LabelEncoder\n",
    "import warnings\n",
    "# ignore all warnings\n",
    "warnings.filterwarnings('ignore')\n",
    "from sklearn.model_selection import train_test_split\n",
    "from sklearn.dummy import DummyClassifier\n",
    "from sklearn.ensemble import RandomForestClassifier, GradientBoostingClassifier\n",
    "from sklearn.linear_model import Perceptron\n",
    "from sklearn.tree import DecisionTreeClassifier\n",
    "from sklearn.neighbors import KNeighborsClassifier\n",
    "from sklearn.naive_bayes import GaussianNB, BernoulliNB, MultinomialNB\n",
    "from sklearn.metrics import f1_score,confusion_matrix, roc_auc_score\n",
    "from sklearn.metrics import accuracy_score\n",
    "from xgboost import XGBClassifier\n",
    "import matplotlib\n",
    "import matplotlib.pyplot as plt\n",
    "from collections import Counter\n",
    "from sklearn.model_selection import StratifiedKFold"
   ]
  },
  {
   "cell_type": "markdown",
   "metadata": {},
   "source": [
    "## 1 Load the data set"
   ]
  },
  {
   "cell_type": "code",
   "execution_count": 2,
   "metadata": {},
   "outputs": [],
   "source": [
    "df = pd.read_csv(\"~/downloads/corona_tested_individuals_ver_00166.csv\", header=0, parse_dates = ['test_date']) ## load the date in local\n",
    "# df_np = np.loadtxt('corona_tested_individuals_ver_00166.csv', delimiter=',', skiprows=1,\n",
    "#                           usecols= (1,7), unpack=True)\n",
    "# df = pd.DataFrame(df)\n",
    "df.columns = ['date','cough','fever','sore_throat','shortness_of_breath','head_ache','corona_result','age','gender','test_indication']"
   ]
  },
  {
   "cell_type": "markdown",
   "metadata": {},
   "source": [
    "## 2 Data Exploration¶"
   ]
  },
  {
   "cell_type": "markdown",
   "metadata": {},
   "source": [
    "Explanation of the data:\n",
    "https://data.gov.il/dataset/covid-19/resource/0ac4cffc-3746-473a-8d4a-ab874b8d8d62\n",
    "\n",
    "Gender: appears from March 22nd 2020\n",
    "\n",
    "Corona_result: Results of first Covid-19 test, by category:\n",
    "    a.Positive – carrying Covid-19\n",
    "    b.Negative – not carrying Covid-19\n",
    "    c.Other – Not tested, in testing, inconclusive\n",
    "\n",
    "Age_60_and_above: Indicator of the test taker's age - 60 or over (1) or below 60 (0). Appears from March 17th 2020.\n",
    "\n",
    "Test_indication: What is the indication for testing? Abroad – arrived from abroad, contact_with_confirmed – contact with a confirmed case, other – other indication or not specified\n",
    "\n",
    "Symptoms (whether developed before testing):\n",
    "cough, fever, sore_throat, shortness of breath, headache: 1 – Yes, 0 – No, NULL – Unknown\n",
    "\n",
    "The corona_result is the label class."
   ]
  },
  {
   "cell_type": "code",
   "execution_count": 3,
   "metadata": {},
   "outputs": [],
   "source": [
    "df = df[df[\"date\"] > \"2021-05-30\"] # for simplicity and computability for a laptop, use data after 2021-05-30"
   ]
  },
  {
   "cell_type": "code",
   "execution_count": 4,
   "metadata": {},
   "outputs": [
    {
     "data": {
      "text/html": [
       "<div>\n",
       "<style scoped>\n",
       "    .dataframe tbody tr th:only-of-type {\n",
       "        vertical-align: middle;\n",
       "    }\n",
       "\n",
       "    .dataframe tbody tr th {\n",
       "        vertical-align: top;\n",
       "    }\n",
       "\n",
       "    .dataframe thead th {\n",
       "        text-align: right;\n",
       "    }\n",
       "</style>\n",
       "<table border=\"1\" class=\"dataframe\">\n",
       "  <thead>\n",
       "    <tr style=\"text-align: right;\">\n",
       "      <th></th>\n",
       "      <th>date</th>\n",
       "      <th>cough</th>\n",
       "      <th>fever</th>\n",
       "      <th>sore_throat</th>\n",
       "      <th>shortness_of_breath</th>\n",
       "      <th>head_ache</th>\n",
       "      <th>corona_result</th>\n",
       "      <th>age</th>\n",
       "      <th>gender</th>\n",
       "      <th>test_indication</th>\n",
       "    </tr>\n",
       "  </thead>\n",
       "  <tbody>\n",
       "    <tr>\n",
       "      <th>0</th>\n",
       "      <td>2021-07-25</td>\n",
       "      <td>0</td>\n",
       "      <td>0</td>\n",
       "      <td>0</td>\n",
       "      <td>0</td>\n",
       "      <td>0</td>\n",
       "      <td>שלילי</td>\n",
       "      <td>No</td>\n",
       "      <td>נקבה</td>\n",
       "      <td>Other</td>\n",
       "    </tr>\n",
       "    <tr>\n",
       "      <th>1</th>\n",
       "      <td>2021-07-25</td>\n",
       "      <td>0</td>\n",
       "      <td>0</td>\n",
       "      <td>0</td>\n",
       "      <td>0</td>\n",
       "      <td>0</td>\n",
       "      <td>שלילי</td>\n",
       "      <td>No</td>\n",
       "      <td>נקבה</td>\n",
       "      <td>Other</td>\n",
       "    </tr>\n",
       "    <tr>\n",
       "      <th>2</th>\n",
       "      <td>2021-07-25</td>\n",
       "      <td>1</td>\n",
       "      <td>1</td>\n",
       "      <td>1</td>\n",
       "      <td>0</td>\n",
       "      <td>1</td>\n",
       "      <td>אחר</td>\n",
       "      <td>No</td>\n",
       "      <td>נקבה</td>\n",
       "      <td>Abroad</td>\n",
       "    </tr>\n",
       "    <tr>\n",
       "      <th>3</th>\n",
       "      <td>2021-07-25</td>\n",
       "      <td>0</td>\n",
       "      <td>0</td>\n",
       "      <td>0</td>\n",
       "      <td>0</td>\n",
       "      <td>0</td>\n",
       "      <td>שלילי</td>\n",
       "      <td>No</td>\n",
       "      <td>זכר</td>\n",
       "      <td>Other</td>\n",
       "    </tr>\n",
       "    <tr>\n",
       "      <th>4</th>\n",
       "      <td>2021-07-25</td>\n",
       "      <td>0</td>\n",
       "      <td>0</td>\n",
       "      <td>0</td>\n",
       "      <td>0</td>\n",
       "      <td>0</td>\n",
       "      <td>שלילי</td>\n",
       "      <td>No</td>\n",
       "      <td>נקבה</td>\n",
       "      <td>Other</td>\n",
       "    </tr>\n",
       "  </tbody>\n",
       "</table>\n",
       "</div>"
      ],
      "text/plain": [
       "        date  cough  fever  sore_throat  shortness_of_breath  head_ache  \\\n",
       "0 2021-07-25      0      0            0                    0          0   \n",
       "1 2021-07-25      0      0            0                    0          0   \n",
       "2 2021-07-25      1      1            1                    0          1   \n",
       "3 2021-07-25      0      0            0                    0          0   \n",
       "4 2021-07-25      0      0            0                    0          0   \n",
       "\n",
       "  corona_result age gender test_indication  \n",
       "0         שלילי  No   נקבה           Other  \n",
       "1         שלילי  No   נקבה           Other  \n",
       "2           אחר  No   נקבה          Abroad  \n",
       "3         שלילי  No    זכר           Other  \n",
       "4         שלילי  No   נקבה           Other  "
      ]
     },
     "execution_count": 4,
     "metadata": {},
     "output_type": "execute_result"
    }
   ],
   "source": [
    "df.head()"
   ]
  },
  {
   "cell_type": "code",
   "execution_count": 5,
   "metadata": {},
   "outputs": [
    {
     "data": {
      "text/plain": [
       "(486659, 10)"
      ]
     },
     "execution_count": 5,
     "metadata": {},
     "output_type": "execute_result"
    }
   ],
   "source": [
    "df.shape"
   ]
  },
  {
   "cell_type": "code",
   "execution_count": 6,
   "metadata": {},
   "outputs": [
    {
     "name": "stdout",
     "output_type": "stream",
     "text": [
      "<class 'pandas.core.frame.DataFrame'>\n",
      "Int64Index: 486659 entries, 0 to 486658\n",
      "Data columns (total 10 columns):\n",
      " #   Column               Non-Null Count   Dtype         \n",
      "---  ------               --------------   -----         \n",
      " 0   date                 486659 non-null  datetime64[ns]\n",
      " 1   cough                486659 non-null  int64         \n",
      " 2   fever                486659 non-null  int64         \n",
      " 3   sore_throat          486659 non-null  int64         \n",
      " 4   shortness_of_breath  486659 non-null  int64         \n",
      " 5   head_ache            486659 non-null  int64         \n",
      " 6   corona_result        486659 non-null  object        \n",
      " 7   age                  201480 non-null  object        \n",
      " 8   gender               271191 non-null  object        \n",
      " 9   test_indication      486659 non-null  object        \n",
      "dtypes: datetime64[ns](1), int64(5), object(4)\n",
      "memory usage: 40.8+ MB\n"
     ]
    }
   ],
   "source": [
    "df.info()"
   ]
  },
  {
   "cell_type": "code",
   "execution_count": 7,
   "metadata": {},
   "outputs": [
    {
     "data": {
      "text/plain": [
       "date                        0\n",
       "cough                       0\n",
       "fever                       0\n",
       "sore_throat                 0\n",
       "shortness_of_breath         0\n",
       "head_ache                   0\n",
       "corona_result               0\n",
       "age                    285179\n",
       "gender                 215468\n",
       "test_indication             0\n",
       "dtype: int64"
      ]
     },
     "execution_count": 7,
     "metadata": {},
     "output_type": "execute_result"
    }
   ],
   "source": [
    "df.isnull().sum()"
   ]
  },
  {
   "cell_type": "markdown",
   "metadata": {},
   "source": [
    "According to the offical documents, testing for the virus started in February. However,due to privacy concerns:\n",
    "1. The information is available from 11 March 2020.\n",
    "2. Ages have been divided to under 60 and 60 and over, and are published from 17 March until 14 April (before 17 March until 14 April age equals NULL)\n",
    "3. Sex is published from 22 March (before the date, sex was represented as NULL)"
   ]
  },
  {
   "cell_type": "code",
   "execution_count": 8,
   "metadata": {},
   "outputs": [
    {
     "data": {
      "image/png": "[encoded data removed]",
      "text/plain": [
       "<Figure size 432x288 with 1 Axes>"
      ]
     },
     "metadata": {
      "needs_background": "light"
     },
     "output_type": "display_data"
    }
   ],
   "source": [
    "plt.hist(df[df[\"gender\"].isnull()]['date'], bins = 10)\n",
    "plt.xticks(rotation='vertical');"
   ]
  },
  {
   "cell_type": "code",
   "execution_count": 9,
   "metadata": {},
   "outputs": [
    {
     "data": {
      "image/png": "[encoded data removed]",
      "text/plain": [
       "<Figure size 432x288 with 1 Axes>"
      ]
     },
     "metadata": {
      "needs_background": "light"
     },
     "output_type": "display_data"
    }
   ],
   "source": [
    "plt.hist(df[df[\"age\"].isnull()]['date'], bins = 10)\n",
    "plt.xticks(rotation='vertical');"
   ]
  },
  {
   "cell_type": "code",
   "execution_count": 10,
   "metadata": {},
   "outputs": [
    {
     "data": {
      "text/html": [
       "<div>\n",
       "<style scoped>\n",
       "    .dataframe tbody tr th:only-of-type {\n",
       "        vertical-align: middle;\n",
       "    }\n",
       "\n",
       "    .dataframe tbody tr th {\n",
       "        vertical-align: top;\n",
       "    }\n",
       "\n",
       "    .dataframe thead th {\n",
       "        text-align: right;\n",
       "    }\n",
       "</style>\n",
       "<table border=\"1\" class=\"dataframe\">\n",
       "  <thead>\n",
       "    <tr style=\"text-align: right;\">\n",
       "      <th></th>\n",
       "      <th>cough</th>\n",
       "      <th>fever</th>\n",
       "      <th>sore_throat</th>\n",
       "      <th>shortness_of_breath</th>\n",
       "      <th>head_ache</th>\n",
       "      <th>date</th>\n",
       "      <th>corona_result</th>\n",
       "      <th>age</th>\n",
       "      <th>gender</th>\n",
       "      <th>test_indication</th>\n",
       "    </tr>\n",
       "  </thead>\n",
       "  <tbody>\n",
       "    <tr>\n",
       "      <th>count</th>\n",
       "      <td>486659.000000</td>\n",
       "      <td>486659.000000</td>\n",
       "      <td>486659.000000</td>\n",
       "      <td>486659.000000</td>\n",
       "      <td>486659.000000</td>\n",
       "      <td>NaN</td>\n",
       "      <td>NaN</td>\n",
       "      <td>NaN</td>\n",
       "      <td>NaN</td>\n",
       "      <td>NaN</td>\n",
       "    </tr>\n",
       "    <tr>\n",
       "      <th>mean</th>\n",
       "      <td>0.005190</td>\n",
       "      <td>0.004886</td>\n",
       "      <td>0.001942</td>\n",
       "      <td>0.000271</td>\n",
       "      <td>0.003339</td>\n",
       "      <td>NaN</td>\n",
       "      <td>NaN</td>\n",
       "      <td>NaN</td>\n",
       "      <td>NaN</td>\n",
       "      <td>NaN</td>\n",
       "    </tr>\n",
       "    <tr>\n",
       "      <th>std</th>\n",
       "      <td>0.071858</td>\n",
       "      <td>0.069732</td>\n",
       "      <td>0.044023</td>\n",
       "      <td>0.016467</td>\n",
       "      <td>0.057688</td>\n",
       "      <td>NaN</td>\n",
       "      <td>NaN</td>\n",
       "      <td>NaN</td>\n",
       "      <td>NaN</td>\n",
       "      <td>NaN</td>\n",
       "    </tr>\n",
       "    <tr>\n",
       "      <th>min</th>\n",
       "      <td>0.000000</td>\n",
       "      <td>0.000000</td>\n",
       "      <td>0.000000</td>\n",
       "      <td>0.000000</td>\n",
       "      <td>0.000000</td>\n",
       "      <td>NaN</td>\n",
       "      <td>NaN</td>\n",
       "      <td>NaN</td>\n",
       "      <td>NaN</td>\n",
       "      <td>NaN</td>\n",
       "    </tr>\n",
       "    <tr>\n",
       "      <th>25%</th>\n",
       "      <td>0.000000</td>\n",
       "      <td>0.000000</td>\n",
       "      <td>0.000000</td>\n",
       "      <td>0.000000</td>\n",
       "      <td>0.000000</td>\n",
       "      <td>NaN</td>\n",
       "      <td>NaN</td>\n",
       "      <td>NaN</td>\n",
       "      <td>NaN</td>\n",
       "      <td>NaN</td>\n",
       "    </tr>\n",
       "    <tr>\n",
       "      <th>50%</th>\n",
       "      <td>0.000000</td>\n",
       "      <td>0.000000</td>\n",
       "      <td>0.000000</td>\n",
       "      <td>0.000000</td>\n",
       "      <td>0.000000</td>\n",
       "      <td>NaN</td>\n",
       "      <td>NaN</td>\n",
       "      <td>NaN</td>\n",
       "      <td>NaN</td>\n",
       "      <td>NaN</td>\n",
       "    </tr>\n",
       "    <tr>\n",
       "      <th>75%</th>\n",
       "      <td>0.000000</td>\n",
       "      <td>0.000000</td>\n",
       "      <td>0.000000</td>\n",
       "      <td>0.000000</td>\n",
       "      <td>0.000000</td>\n",
       "      <td>NaN</td>\n",
       "      <td>NaN</td>\n",
       "      <td>NaN</td>\n",
       "      <td>NaN</td>\n",
       "      <td>NaN</td>\n",
       "    </tr>\n",
       "    <tr>\n",
       "      <th>max</th>\n",
       "      <td>1.000000</td>\n",
       "      <td>1.000000</td>\n",
       "      <td>1.000000</td>\n",
       "      <td>1.000000</td>\n",
       "      <td>1.000000</td>\n",
       "      <td>NaN</td>\n",
       "      <td>NaN</td>\n",
       "      <td>NaN</td>\n",
       "      <td>NaN</td>\n",
       "      <td>NaN</td>\n",
       "    </tr>\n",
       "    <tr>\n",
       "      <th>mad</th>\n",
       "      <td>0.010327</td>\n",
       "      <td>0.009725</td>\n",
       "      <td>0.003876</td>\n",
       "      <td>0.000542</td>\n",
       "      <td>0.006656</td>\n",
       "      <td>NaN</td>\n",
       "      <td>NaN</td>\n",
       "      <td>NaN</td>\n",
       "      <td>NaN</td>\n",
       "      <td>NaN</td>\n",
       "    </tr>\n",
       "    <tr>\n",
       "      <th>skew</th>\n",
       "      <td>13.771940</td>\n",
       "      <td>14.200588</td>\n",
       "      <td>22.627156</td>\n",
       "      <td>60.694593</td>\n",
       "      <td>17.218816</td>\n",
       "      <td>NaN</td>\n",
       "      <td>NaN</td>\n",
       "      <td>NaN</td>\n",
       "      <td>NaN</td>\n",
       "      <td>NaN</td>\n",
       "    </tr>\n",
       "    <tr>\n",
       "      <th>kurt</th>\n",
       "      <td>187.667095</td>\n",
       "      <td>199.657521</td>\n",
       "      <td>509.990266</td>\n",
       "      <td>3681.848717</td>\n",
       "      <td>294.488850</td>\n",
       "      <td>NaN</td>\n",
       "      <td>NaN</td>\n",
       "      <td>NaN</td>\n",
       "      <td>NaN</td>\n",
       "      <td>NaN</td>\n",
       "    </tr>\n",
       "    <tr>\n",
       "      <th>nunique</th>\n",
       "      <td>2.000000</td>\n",
       "      <td>2.000000</td>\n",
       "      <td>2.000000</td>\n",
       "      <td>2.000000</td>\n",
       "      <td>2.000000</td>\n",
       "      <td>56.0</td>\n",
       "      <td>3.0</td>\n",
       "      <td>2.0</td>\n",
       "      <td>2.0</td>\n",
       "      <td>3.0</td>\n",
       "    </tr>\n",
       "  </tbody>\n",
       "</table>\n",
       "</div>"
      ],
      "text/plain": [
       "                 cough          fever    sore_throat  shortness_of_breath  \\\n",
       "count    486659.000000  486659.000000  486659.000000        486659.000000   \n",
       "mean          0.005190       0.004886       0.001942             0.000271   \n",
       "std           0.071858       0.069732       0.044023             0.016467   \n",
       "min           0.000000       0.000000       0.000000             0.000000   \n",
       "25%           0.000000       0.000000       0.000000             0.000000   \n",
       "50%           0.000000       0.000000       0.000000             0.000000   \n",
       "75%           0.000000       0.000000       0.000000             0.000000   \n",
       "max           1.000000       1.000000       1.000000             1.000000   \n",
       "mad           0.010327       0.009725       0.003876             0.000542   \n",
       "skew         13.771940      14.200588      22.627156            60.694593   \n",
       "kurt        187.667095     199.657521     509.990266          3681.848717   \n",
       "nunique       2.000000       2.000000       2.000000             2.000000   \n",
       "\n",
       "             head_ache  date  corona_result  age  gender  test_indication  \n",
       "count    486659.000000   NaN            NaN  NaN     NaN              NaN  \n",
       "mean          0.003339   NaN            NaN  NaN     NaN              NaN  \n",
       "std           0.057688   NaN            NaN  NaN     NaN              NaN  \n",
       "min           0.000000   NaN            NaN  NaN     NaN              NaN  \n",
       "25%           0.000000   NaN            NaN  NaN     NaN              NaN  \n",
       "50%           0.000000   NaN            NaN  NaN     NaN              NaN  \n",
       "75%           0.000000   NaN            NaN  NaN     NaN              NaN  \n",
       "max           1.000000   NaN            NaN  NaN     NaN              NaN  \n",
       "mad           0.006656   NaN            NaN  NaN     NaN              NaN  \n",
       "skew         17.218816   NaN            NaN  NaN     NaN              NaN  \n",
       "kurt        294.488850   NaN            NaN  NaN     NaN              NaN  \n",
       "nunique       2.000000  56.0            3.0  2.0     2.0              3.0  "
      ]
     },
     "execution_count": 10,
     "metadata": {},
     "output_type": "execute_result"
    }
   ],
   "source": [
    "pd.concat([\n",
    "    df.describe().T,\n",
    "    df.mad().rename('mad'),\n",
    "    df.skew().rename('skew'),\n",
    "    df.kurt().rename('kurt'),\n",
    "    df.nunique().rename('nunique')\n",
    "], axis=1).T"
   ]
  },
  {
   "cell_type": "code",
   "execution_count": 11,
   "metadata": {},
   "outputs": [
    {
     "data": {
      "text/plain": [
       "array(['שלילי', 'אחר', 'חיובי'], dtype=object)"
      ]
     },
     "execution_count": 11,
     "metadata": {},
     "output_type": "execute_result"
    }
   ],
   "source": [
    "df['corona_result'].unique() "
   ]
  },
  {
   "cell_type": "code",
   "execution_count": 12,
   "metadata": {},
   "outputs": [],
   "source": [
    "# replacing all the characters in Hebrew by English\n",
    "df['corona_result'] = df['corona_result'].str.replace('חיובי','Positive')\n",
    "df['corona_result'] = df['corona_result'].str.replace('אחר','Other')\n",
    "df['corona_result'] = df['corona_result'].str.replace('שלילי','Negative')\n",
    "\n",
    "df['gender'] = df['gender'].str.replace('נקבה','Female')\n",
    "df['gender'] = df['gender'].str.replace('זכר','Male')"
   ]
  },
  {
   "cell_type": "markdown",
   "metadata": {},
   "source": [
    "## 3 Data Understanding"
   ]
  },
  {
   "cell_type": "markdown",
   "metadata": {},
   "source": [
    "**BreakDown of Class**"
   ]
  },
  {
   "cell_type": "code",
   "execution_count": 13,
   "metadata": {},
   "outputs": [
    {
     "data": {
      "image/png": "[encoded data removed]",
      "text/plain": [
       "<Figure size 360x360 with 1 Axes>"
      ]
     },
     "metadata": {
      "needs_background": "light"
     },
     "output_type": "display_data"
    }
   ],
   "source": [
    "plt.figure(figsize=(5,5))\n",
    "corona_result = sns.countplot(df['corona_result'],label=\"Count\")\n",
    "\n",
    "for p in corona_result.patches:\n",
    "    height = p.get_height()\n",
    "    corona_result.text(p.get_x()+p.get_width()/2., height + 0.1,height ,ha=\"center\")"
   ]
  },
  {
   "cell_type": "markdown",
   "metadata": {},
   "source": [
    "The class lable is highly imbalanced. The proportion of positive instances is less than **1%**. We need to be cautious about this."
   ]
  },
  {
   "cell_type": "markdown",
   "metadata": {},
   "source": [
    "**BreakDown of feature distribution**"
   ]
  },
  {
   "cell_type": "code",
   "execution_count": 14,
   "metadata": {},
   "outputs": [
    {
     "data": {
      "image/png": "[encoded data removed]",
      "text/plain": [
       "<Figure size 360x216 with 1 Axes>"
      ]
     },
     "metadata": {
      "needs_background": "light"
     },
     "output_type": "display_data"
    }
   ],
   "source": [
    "df.plot.box(figsize=(5, 3)) # visualize the feature distribution\n",
    "plt.xticks(rotation='vertical');\n",
    "# the value distribution of 5 numeric features are highly skewed with over 75% being 0."
   ]
  },
  {
   "cell_type": "markdown",
   "metadata": {},
   "source": [
    "**BreakDown of cough**"
   ]
  },
  {
   "cell_type": "code",
   "execution_count": 15,
   "metadata": {},
   "outputs": [
    {
     "data": {
      "image/png": "[encoded data removed]",
      "text/plain": [
       "<Figure size 360x360 with 1 Axes>"
      ]
     },
     "metadata": {
      "needs_background": "light"
     },
     "output_type": "display_data"
    }
   ],
   "source": [
    "plt.figure(figsize=(5,5))\n",
    "cough = sns.countplot(data=df, x=\"cough\")\n",
    "\n",
    "for p in cough.patches:\n",
    "    height = p.get_height()\n",
    "    cough.text(p.get_x()+p.get_width()/2., height + 0.1,height ,ha=\"center\")"
   ]
  },
  {
   "cell_type": "code",
   "execution_count": 16,
   "metadata": {},
   "outputs": [
    {
     "data": {
      "image/png": "[encoded data removed]",
      "text/plain": [
       "<Figure size 1512x360 with 3 Axes>"
      ]
     },
     "metadata": {
      "needs_background": "light"
     },
     "output_type": "display_data"
    }
   ],
   "source": [
    "f, axes = plt.subplots(1, 3, figsize=(21,5))\n",
    "positive = sns.countplot(df[df['corona_result'] == 'Positive'][\"cough\"], ax=axes[0]) \n",
    "axes[0].set_title(\"Positive Corona Results versus Cough\")\n",
    "for p in positive.patches:\n",
    "    height = p.get_height()\n",
    "    positive.text(p.get_x()+p.get_width()/2., height + 0.1,height ,ha=\"center\")\n",
    "\n",
    "# we don't need kernel desity estimate because the feature is discrete.\n",
    "negative = sns.countplot(df[df['corona_result'] == 'Negative'][\"cough\"], ax=axes[1])\n",
    "axes[1].set_title('Negative Corona Results versus Cough')\n",
    "for p in negative.patches:\n",
    "    height = p.get_height()\n",
    "    negative.text(p.get_x()+p.get_width()/2., height + 0.1,height ,ha=\"center\")\n",
    "\n",
    "other = sns.countplot(df[df['corona_result'] == 'Other'][\"cough\"], ax=axes[2])\n",
    "axes[2].set_title('Other Corona Results versus Cough')\n",
    "for p in other.patches:\n",
    "    height = p.get_height()\n",
    "    other.text(p.get_x()+p.get_width()/2., height + 0.1,height ,ha=\"center\")\n",
    "\n",
    "plt.show()\n"
   ]
  },
  {
   "cell_type": "markdown",
   "metadata": {},
   "source": [
    "**BreakDown of fever**"
   ]
  },
  {
   "cell_type": "code",
   "execution_count": 17,
   "metadata": {
    "scrolled": false
   },
   "outputs": [
    {
     "data": {
      "image/png": "[encoded data removed]",
      "text/plain": [
       "<Figure size 360x360 with 1 Axes>"
      ]
     },
     "metadata": {
      "needs_background": "light"
     },
     "output_type": "display_data"
    }
   ],
   "source": [
    "plt.figure(figsize=(5,5))\n",
    "fever = sns.countplot(data=df, x=\"fever\")\n",
    "\n",
    "for p in fever.patches:\n",
    "    height = p.get_height()\n",
    "    fever.text(p.get_x()+p.get_width()/2., height + 0.1,height ,ha=\"center\")"
   ]
  },
  {
   "cell_type": "code",
   "execution_count": 18,
   "metadata": {},
   "outputs": [
    {
     "data": {
      "image/png": "[encoded data removed]",
      "text/plain": [
       "<Figure size 1512x360 with 3 Axes>"
      ]
     },
     "metadata": {
      "needs_background": "light"
     },
     "output_type": "display_data"
    }
   ],
   "source": [
    "f, axes = plt.subplots(1, 3, figsize=(21,5))\n",
    "\n",
    "positive = sns.countplot(df[df['corona_result'] == 'Positive'][\"fever\"], ax=axes[0]) \n",
    "axes[0].set_title(\"Positive Corona Results versus fever\")\n",
    "for p in positive.patches:\n",
    "    height = p.get_height()\n",
    "    positive.text(p.get_x()+p.get_width()/2., height + 0.1,height ,ha=\"center\")\n",
    "\n",
    "# we don't need kernel desity estimate because the feature is discrete.\n",
    "negative = sns.countplot(df[df['corona_result'] == 'Negative'][\"fever\"], ax=axes[1])\n",
    "axes[1].set_title('Negative Corona Results versus fever')\n",
    "for p in negative.patches:\n",
    "    height = p.get_height()\n",
    "    negative.text(p.get_x()+p.get_width()/2., height + 0.1,height ,ha=\"center\")\n",
    "\n",
    "other = sns.countplot(df[df['corona_result'] == 'Other'][\"fever\"], ax=axes[2])\n",
    "axes[2].set_title('Other Corona Results versus fever')\n",
    "for p in other.patches:\n",
    "    height = p.get_height()\n",
    "    other.text(p.get_x()+p.get_width()/2., height + 0.1,height ,ha=\"center\")\n",
    "\n",
    "plt.show()\n"
   ]
  },
  {
   "cell_type": "markdown",
   "metadata": {},
   "source": [
    "**BreakDown of sore_throat**"
   ]
  },
  {
   "cell_type": "code",
   "execution_count": 19,
   "metadata": {},
   "outputs": [
    {
     "data": {
      "image/png": "[encoded data removed]",
      "text/plain": [
       "<Figure size 360x360 with 1 Axes>"
      ]
     },
     "metadata": {
      "needs_background": "light"
     },
     "output_type": "display_data"
    }
   ],
   "source": [
    "plt.figure(figsize=(5,5))\n",
    "sore_throat = sns.countplot(data=df, x=\"sore_throat\")\n",
    "\n",
    "for p in sore_throat.patches:\n",
    "    height = p.get_height()\n",
    "    sore_throat.text(p.get_x()+p.get_width()/2., height + 0.1,height ,ha=\"center\")\n",
    "\n"
   ]
  },
  {
   "cell_type": "code",
   "execution_count": 20,
   "metadata": {},
   "outputs": [
    {
     "data": {
      "image/png": "[encoded data removed]",
      "text/plain": [
       "<Figure size 1512x360 with 3 Axes>"
      ]
     },
     "metadata": {
      "needs_background": "light"
     },
     "output_type": "display_data"
    }
   ],
   "source": [
    "f, axes = plt.subplots(1, 3, figsize=(21,5))\n",
    "\n",
    "positive = sns.countplot(df[df['corona_result'] == 'Positive'][\"sore_throat\"], ax=axes[0]) \n",
    "axes[0].set_title(\"Positive Corona Results versus sore_throat\")\n",
    "for p in positive.patches:\n",
    "    height = p.get_height()\n",
    "    positive.text(p.get_x()+p.get_width()/2., height + 0.1,height ,ha=\"center\")\n",
    "\n",
    "# we don't need kernel desity estimate because the feature is discrete.\n",
    "negative = sns.countplot(df[df['corona_result'] == 'Negative'][\"sore_throat\"], ax=axes[1])\n",
    "axes[1].set_title('Negative Corona Results versus sore_throat')\n",
    "for p in negative.patches:\n",
    "    height = p.get_height()\n",
    "    negative.text(p.get_x()+p.get_width()/2., height + 0.1,height ,ha=\"center\")\n",
    "\n",
    "other = sns.countplot(df[df['corona_result'] == 'Other'][\"sore_throat\"], ax=axes[2])\n",
    "axes[2].set_title('Other Corona Results versus sore_throat')\n",
    "for p in other.patches:\n",
    "    height = p.get_height()\n",
    "    other.text(p.get_x()+p.get_width()/2., height + 0.1,height ,ha=\"center\")\n",
    "\n",
    "plt.show()\n"
   ]
  },
  {
   "cell_type": "markdown",
   "metadata": {},
   "source": [
    "**BreakDown of shortness_of_breath**"
   ]
  },
  {
   "cell_type": "code",
   "execution_count": 21,
   "metadata": {},
   "outputs": [
    {
     "data": {
      "image/png": "[encoded data removed]",
      "text/plain": [
       "<Figure size 360x360 with 1 Axes>"
      ]
     },
     "metadata": {
      "needs_background": "light"
     },
     "output_type": "display_data"
    }
   ],
   "source": [
    "plt.figure(figsize=(5,5))\n",
    "shortness_of_breath = sns.countplot(data=df, x=\"shortness_of_breath\")\n",
    "\n",
    "for p in shortness_of_breath.patches:\n",
    "    height = p.get_height()\n",
    "    shortness_of_breath.text(p.get_x()+p.get_width()/2., height + 0.1,height ,ha=\"center\")\n",
    "plt.show()"
   ]
  },
  {
   "cell_type": "code",
   "execution_count": 22,
   "metadata": {},
   "outputs": [
    {
     "data": {
      "image/png": "[encoded data removed]",
      "text/plain": [
       "<Figure size 1512x360 with 3 Axes>"
      ]
     },
     "metadata": {
      "needs_background": "light"
     },
     "output_type": "display_data"
    }
   ],
   "source": [
    "f, axes = plt.subplots(1, 3, figsize=(21,5))\n",
    "\n",
    "positive = sns.countplot(df[df['corona_result'] == 'Positive'][\"shortness_of_breath\"], ax=axes[0]) \n",
    "axes[0].set_title(\"Positive Corona Results versus shortness_of_breath\")\n",
    "for p in positive.patches:\n",
    "    height = p.get_height()\n",
    "    positive.text(p.get_x()+p.get_width()/2., height + 0.1,height ,ha=\"center\")\n",
    "\n",
    "# we don't need kernel desity estimate because the feature is discrete.\n",
    "negative = sns.countplot(df[df['corona_result'] == 'Negative'][\"shortness_of_breath\"], ax=axes[1])\n",
    "axes[1].set_title('Negative Corona Results versus shortness_of_breath')\n",
    "for p in negative.patches:\n",
    "    height = p.get_height()\n",
    "    negative.text(p.get_x()+p.get_width()/2., height + 0.1,height ,ha=\"center\")\n",
    "\n",
    "other = sns.countplot(df[df['corona_result'] == 'Other'][\"shortness_of_breath\"], ax=axes[2])\n",
    "axes[2].set_title('Other Corona Results versus shortness_of_breath')\n",
    "for p in other.patches:\n",
    "    height = p.get_height()\n",
    "    other.text(p.get_x()+p.get_width()/2., height + 0.1,height ,ha=\"center\")\n",
    "\n",
    "plt.show()\n"
   ]
  },
  {
   "cell_type": "markdown",
   "metadata": {},
   "source": [
    "**BreakDown of head_ache**"
   ]
  },
  {
   "cell_type": "code",
   "execution_count": 23,
   "metadata": {},
   "outputs": [
    {
     "data": {
      "image/png": "[encoded data removed]",
      "text/plain": [
       "<Figure size 360x360 with 1 Axes>"
      ]
     },
     "metadata": {
      "needs_background": "light"
     },
     "output_type": "display_data"
    }
   ],
   "source": [
    "plt.figure(figsize=(5,5))\n",
    "head_ache = sns.countplot(data=df, x=\"head_ache\")\n",
    "\n",
    "for p in head_ache.patches:\n",
    "    height = p.get_height()\n",
    "    head_ache.text(p.get_x()+p.get_width()/2., height + 0.1,height ,ha=\"center\")\n",
    "plt.show()"
   ]
  },
  {
   "cell_type": "code",
   "execution_count": 24,
   "metadata": {},
   "outputs": [
    {
     "data": {
      "image/png": "[encoded data removed]",
      "text/plain": [
       "<Figure size 1512x360 with 3 Axes>"
      ]
     },
     "metadata": {
      "needs_background": "light"
     },
     "output_type": "display_data"
    }
   ],
   "source": [
    "f, axes = plt.subplots(1, 3, figsize=(21,5))\n",
    "\n",
    "positive = sns.countplot(df[df['corona_result'] == 'Positive'][\"head_ache\"], ax=axes[0]) \n",
    "axes[0].set_title(\"Positive Corona Results versus head_ache\")\n",
    "for p in positive.patches:\n",
    "    height = p.get_height()\n",
    "    positive.text(p.get_x()+p.get_width()/2., height + 0.1,height ,ha=\"center\")\n",
    "\n",
    "# we don't need kernel desity estimate because the feature is discrete.\n",
    "negative = sns.countplot(df[df['corona_result'] == 'Negative'][\"head_ache\"], ax=axes[1])\n",
    "axes[1].set_title('Negative Corona Results versus head_ache')\n",
    "for p in negative.patches:\n",
    "    height = p.get_height()\n",
    "    negative.text(p.get_x()+p.get_width()/2., height + 0.1,height ,ha=\"center\")\n",
    "\n",
    "other = sns.countplot(df[df['corona_result'] == 'Other'][\"head_ache\"], ax=axes[2])\n",
    "axes[2].set_title('Other Corona Results versus head_ache')\n",
    "for p in other.patches:\n",
    "    height = p.get_height()\n",
    "    other.text(p.get_x()+p.get_width()/2., height + 0.1,height ,ha=\"center\")\n",
    "\n",
    "plt.show()"
   ]
  },
  {
   "cell_type": "markdown",
   "metadata": {},
   "source": [
    "**Corona Result along with time**"
   ]
  },
  {
   "cell_type": "code",
   "execution_count": 25,
   "metadata": {},
   "outputs": [],
   "source": [
    "matplotlib.style.use('seaborn-white')"
   ]
  },
  {
   "cell_type": "code",
   "execution_count": 26,
   "metadata": {},
   "outputs": [
    {
     "data": {
      "text/html": [
       "<div>\n",
       "<style scoped>\n",
       "    .dataframe tbody tr th:only-of-type {\n",
       "        vertical-align: middle;\n",
       "    }\n",
       "\n",
       "    .dataframe tbody tr th {\n",
       "        vertical-align: top;\n",
       "    }\n",
       "\n",
       "    .dataframe thead th {\n",
       "        text-align: right;\n",
       "    }\n",
       "</style>\n",
       "<table border=\"1\" class=\"dataframe\">\n",
       "  <thead>\n",
       "    <tr style=\"text-align: right;\">\n",
       "      <th></th>\n",
       "      <th>date</th>\n",
       "      <th>cough</th>\n",
       "      <th>fever</th>\n",
       "      <th>sore_throat</th>\n",
       "      <th>shortness_of_breath</th>\n",
       "      <th>head_ache</th>\n",
       "      <th>corona_result</th>\n",
       "      <th>age</th>\n",
       "      <th>gender</th>\n",
       "      <th>test_indication</th>\n",
       "    </tr>\n",
       "  </thead>\n",
       "  <tbody>\n",
       "    <tr>\n",
       "      <th>0</th>\n",
       "      <td>2021-07-25</td>\n",
       "      <td>0</td>\n",
       "      <td>0</td>\n",
       "      <td>0</td>\n",
       "      <td>0</td>\n",
       "      <td>0</td>\n",
       "      <td>Negative</td>\n",
       "      <td>No</td>\n",
       "      <td>Female</td>\n",
       "      <td>Other</td>\n",
       "    </tr>\n",
       "    <tr>\n",
       "      <th>1</th>\n",
       "      <td>2021-07-25</td>\n",
       "      <td>0</td>\n",
       "      <td>0</td>\n",
       "      <td>0</td>\n",
       "      <td>0</td>\n",
       "      <td>0</td>\n",
       "      <td>Negative</td>\n",
       "      <td>No</td>\n",
       "      <td>Female</td>\n",
       "      <td>Other</td>\n",
       "    </tr>\n",
       "    <tr>\n",
       "      <th>2</th>\n",
       "      <td>2021-07-25</td>\n",
       "      <td>1</td>\n",
       "      <td>1</td>\n",
       "      <td>1</td>\n",
       "      <td>0</td>\n",
       "      <td>1</td>\n",
       "      <td>Other</td>\n",
       "      <td>No</td>\n",
       "      <td>Female</td>\n",
       "      <td>Abroad</td>\n",
       "    </tr>\n",
       "    <tr>\n",
       "      <th>3</th>\n",
       "      <td>2021-07-25</td>\n",
       "      <td>0</td>\n",
       "      <td>0</td>\n",
       "      <td>0</td>\n",
       "      <td>0</td>\n",
       "      <td>0</td>\n",
       "      <td>Negative</td>\n",
       "      <td>No</td>\n",
       "      <td>Male</td>\n",
       "      <td>Other</td>\n",
       "    </tr>\n",
       "    <tr>\n",
       "      <th>4</th>\n",
       "      <td>2021-07-25</td>\n",
       "      <td>0</td>\n",
       "      <td>0</td>\n",
       "      <td>0</td>\n",
       "      <td>0</td>\n",
       "      <td>0</td>\n",
       "      <td>Negative</td>\n",
       "      <td>No</td>\n",
       "      <td>Female</td>\n",
       "      <td>Other</td>\n",
       "    </tr>\n",
       "    <tr>\n",
       "      <th>...</th>\n",
       "      <td>...</td>\n",
       "      <td>...</td>\n",
       "      <td>...</td>\n",
       "      <td>...</td>\n",
       "      <td>...</td>\n",
       "      <td>...</td>\n",
       "      <td>...</td>\n",
       "      <td>...</td>\n",
       "      <td>...</td>\n",
       "      <td>...</td>\n",
       "    </tr>\n",
       "    <tr>\n",
       "      <th>486654</th>\n",
       "      <td>2021-05-31</td>\n",
       "      <td>0</td>\n",
       "      <td>0</td>\n",
       "      <td>0</td>\n",
       "      <td>0</td>\n",
       "      <td>0</td>\n",
       "      <td>Negative</td>\n",
       "      <td>NaN</td>\n",
       "      <td>NaN</td>\n",
       "      <td>Other</td>\n",
       "    </tr>\n",
       "    <tr>\n",
       "      <th>486655</th>\n",
       "      <td>2021-05-31</td>\n",
       "      <td>0</td>\n",
       "      <td>0</td>\n",
       "      <td>0</td>\n",
       "      <td>0</td>\n",
       "      <td>0</td>\n",
       "      <td>Negative</td>\n",
       "      <td>NaN</td>\n",
       "      <td>NaN</td>\n",
       "      <td>Other</td>\n",
       "    </tr>\n",
       "    <tr>\n",
       "      <th>486656</th>\n",
       "      <td>2021-05-31</td>\n",
       "      <td>0</td>\n",
       "      <td>0</td>\n",
       "      <td>0</td>\n",
       "      <td>0</td>\n",
       "      <td>0</td>\n",
       "      <td>Negative</td>\n",
       "      <td>NaN</td>\n",
       "      <td>NaN</td>\n",
       "      <td>Other</td>\n",
       "    </tr>\n",
       "    <tr>\n",
       "      <th>486657</th>\n",
       "      <td>2021-05-31</td>\n",
       "      <td>0</td>\n",
       "      <td>0</td>\n",
       "      <td>0</td>\n",
       "      <td>0</td>\n",
       "      <td>0</td>\n",
       "      <td>Negative</td>\n",
       "      <td>NaN</td>\n",
       "      <td>NaN</td>\n",
       "      <td>Other</td>\n",
       "    </tr>\n",
       "    <tr>\n",
       "      <th>486658</th>\n",
       "      <td>2021-05-31</td>\n",
       "      <td>0</td>\n",
       "      <td>0</td>\n",
       "      <td>0</td>\n",
       "      <td>0</td>\n",
       "      <td>0</td>\n",
       "      <td>Negative</td>\n",
       "      <td>NaN</td>\n",
       "      <td>NaN</td>\n",
       "      <td>Other</td>\n",
       "    </tr>\n",
       "  </tbody>\n",
       "</table>\n",
       "<p>486659 rows × 10 columns</p>\n",
       "</div>"
      ],
      "text/plain": [
       "             date  cough  fever  sore_throat  shortness_of_breath  head_ache  \\\n",
       "0      2021-07-25      0      0            0                    0          0   \n",
       "1      2021-07-25      0      0            0                    0          0   \n",
       "2      2021-07-25      1      1            1                    0          1   \n",
       "3      2021-07-25      0      0            0                    0          0   \n",
       "4      2021-07-25      0      0            0                    0          0   \n",
       "...           ...    ...    ...          ...                  ...        ...   \n",
       "486654 2021-05-31      0      0            0                    0          0   \n",
       "486655 2021-05-31      0      0            0                    0          0   \n",
       "486656 2021-05-31      0      0            0                    0          0   \n",
       "486657 2021-05-31      0      0            0                    0          0   \n",
       "486658 2021-05-31      0      0            0                    0          0   \n",
       "\n",
       "       corona_result  age  gender test_indication  \n",
       "0           Negative   No  Female           Other  \n",
       "1           Negative   No  Female           Other  \n",
       "2              Other   No  Female          Abroad  \n",
       "3           Negative   No    Male           Other  \n",
       "4           Negative   No  Female           Other  \n",
       "...              ...  ...     ...             ...  \n",
       "486654      Negative  NaN     NaN           Other  \n",
       "486655      Negative  NaN     NaN           Other  \n",
       "486656      Negative  NaN     NaN           Other  \n",
       "486657      Negative  NaN     NaN           Other  \n",
       "486658      Negative  NaN     NaN           Other  \n",
       "\n",
       "[486659 rows x 10 columns]"
      ]
     },
     "execution_count": 26,
     "metadata": {},
     "output_type": "execute_result"
    }
   ],
   "source": [
    "df"
   ]
  },
  {
   "cell_type": "code",
   "execution_count": 27,
   "metadata": {
    "scrolled": true
   },
   "outputs": [
    {
     "data": {
      "image/png": "[encoded data removed]",
      "text/plain": [
       "<Figure size 1440x360 with 1 Axes>"
      ]
     },
     "metadata": {},
     "output_type": "display_data"
    }
   ],
   "source": [
    "df[df['corona_result'] == \"Positive\"].groupby('date').size().plot(figsize=(20, 5), title=\"Number of Positive COVID Test\");"
   ]
  },
  {
   "cell_type": "code",
   "execution_count": 28,
   "metadata": {},
   "outputs": [
    {
     "data": {
      "image/png": "[encoded data removed]",
      "text/plain": [
       "<Figure size 1440x360 with 1 Axes>"
      ]
     },
     "metadata": {},
     "output_type": "display_data"
    }
   ],
   "source": [
    "df[df['corona_result'] == \"Negative\"].groupby('date').size().plot(figsize=(20, 5), title=\"Number of Negative COVID Test\");"
   ]
  },
  {
   "cell_type": "code",
   "execution_count": 29,
   "metadata": {
    "scrolled": true
   },
   "outputs": [
    {
     "data": {
      "image/png": "[encoded data removed]",
      "text/plain": [
       "<Figure size 1440x360 with 1 Axes>"
      ]
     },
     "metadata": {},
     "output_type": "display_data"
    }
   ],
   "source": [
    "df[df['corona_result'] == \"Other\"].groupby('date').size().plot(figsize=(20, 5), title=\"Number of Other COVID Test\");"
   ]
  },
  {
   "cell_type": "code",
   "execution_count": 30,
   "metadata": {},
   "outputs": [
    {
     "data": {
      "image/png": "[encoded data removed]",
      "text/plain": [
       "<Figure size 1440x360 with 1 Axes>"
      ]
     },
     "metadata": {},
     "output_type": "display_data"
    }
   ],
   "source": [
    "import pandas as pd, datetime as dt\n",
    "\n",
    "df_weekly = pd.DataFrame(df.apply(lambda row: row['date'] - dt.timedelta(days=row['date'].weekday()), axis=1), columns = ['WeekDate'])\n",
    "df_weekly['WeekDate'] = pd.to_datetime(df_weekly['WeekDate']).dt.date\n",
    "\n",
    "perweek = df_weekly['WeekDate'].groupby(df_weekly['WeekDate']).count()\n",
    "perweek.plot(kind=\"bar\", figsize=(20, 5));\n",
    "plt.title(\"Total COVID Test Per Week\")\n",
    "plt.xlabel(\"Week Date\")\n",
    "plt.ylabel(\"Test Counts\")\n",
    "plt.show()"
   ]
  },
  {
   "cell_type": "markdown",
   "metadata": {},
   "source": [
    "Combining what we have analyzed above, the volume of test cases varies week by week but is generally trending upwards."
   ]
  },
  {
   "cell_type": "markdown",
   "metadata": {},
   "source": [
    "## 4 Data Preprocessing"
   ]
  },
  {
   "cell_type": "markdown",
   "metadata": {},
   "source": [
    "**Remove the instances with results of *Others* (not tested, testing)**"
   ]
  },
  {
   "cell_type": "code",
   "execution_count": 31,
   "metadata": {},
   "outputs": [],
   "source": [
    "df = df[df['corona_result'] != 'Other']\n",
    "df = df.drop(\"date\", axis = 1)"
   ]
  },
  {
   "cell_type": "markdown",
   "metadata": {},
   "source": [
    "### Imputation"
   ]
  },
  {
   "cell_type": "code",
   "execution_count": 32,
   "metadata": {},
   "outputs": [
    {
     "data": {
      "text/plain": [
       "'2 features have missing values.'"
      ]
     },
     "execution_count": 32,
     "metadata": {},
     "output_type": "execute_result"
    }
   ],
   "source": [
    "# How many features have missing values?\n",
    "n_missing = len(df.columns[df.isnull().any()])\n",
    "\"{} features have missing values.\".format(n_missing)"
   ]
  },
  {
   "cell_type": "code",
   "execution_count": 33,
   "metadata": {
    "scrolled": true
   },
   "outputs": [
    {
     "data": {
      "text/html": [
       "<div>\n",
       "<style scoped>\n",
       "    .dataframe tbody tr th:only-of-type {\n",
       "        vertical-align: middle;\n",
       "    }\n",
       "\n",
       "    .dataframe tbody tr th {\n",
       "        vertical-align: top;\n",
       "    }\n",
       "\n",
       "    .dataframe thead th {\n",
       "        text-align: right;\n",
       "    }\n",
       "</style>\n",
       "<table border=\"1\" class=\"dataframe\">\n",
       "  <thead>\n",
       "    <tr style=\"text-align: right;\">\n",
       "      <th></th>\n",
       "      <th>Total</th>\n",
       "      <th>Percent</th>\n",
       "    </tr>\n",
       "  </thead>\n",
       "  <tbody>\n",
       "    <tr>\n",
       "      <th>age</th>\n",
       "      <td>275466</td>\n",
       "      <td>0.592103</td>\n",
       "    </tr>\n",
       "    <tr>\n",
       "      <th>gender</th>\n",
       "      <td>208245</td>\n",
       "      <td>0.447614</td>\n",
       "    </tr>\n",
       "  </tbody>\n",
       "</table>\n",
       "</div>"
      ],
      "text/plain": [
       "         Total   Percent\n",
       "age     275466  0.592103\n",
       "gender  208245  0.447614"
      ]
     },
     "execution_count": 33,
     "metadata": {},
     "output_type": "execute_result"
    }
   ],
   "source": [
    "keys = ['Total', 'Percent']\n",
    "\n",
    "null_total = df.isnull().sum().sort_values(ascending=False)\n",
    "null_percent = (df.isnull().sum() /df.isnull().count())\n",
    "\n",
    "df_missing = pd.concat([null_total, null_percent], axis=1, keys=keys, sort=False)\n",
    "df_missing = df_missing.sort_values(by='Percent', ascending=False)\n",
    "df_missing.head(n_missing)"
   ]
  },
  {
   "cell_type": "markdown",
   "metadata": {},
   "source": [
    "The percentage of the missing values is large. We will test on filled and dropped datasets and see if one improves the accuracy"
   ]
  },
  {
   "cell_type": "code",
   "execution_count": 34,
   "metadata": {},
   "outputs": [
    {
     "data": {
      "text/html": [
       "<div>\n",
       "<style scoped>\n",
       "    .dataframe tbody tr th:only-of-type {\n",
       "        vertical-align: middle;\n",
       "    }\n",
       "\n",
       "    .dataframe tbody tr th {\n",
       "        vertical-align: top;\n",
       "    }\n",
       "\n",
       "    .dataframe thead th {\n",
       "        text-align: right;\n",
       "    }\n",
       "</style>\n",
       "<table border=\"1\" class=\"dataframe\">\n",
       "  <thead>\n",
       "    <tr style=\"text-align: right;\">\n",
       "      <th></th>\n",
       "      <th>cough</th>\n",
       "      <th>fever</th>\n",
       "      <th>sore_throat</th>\n",
       "      <th>shortness_of_breath</th>\n",
       "      <th>head_ache</th>\n",
       "      <th>age</th>\n",
       "      <th>gender</th>\n",
       "      <th>test_indication</th>\n",
       "    </tr>\n",
       "  </thead>\n",
       "  <tbody>\n",
       "    <tr>\n",
       "      <th>0</th>\n",
       "      <td>0</td>\n",
       "      <td>0</td>\n",
       "      <td>0</td>\n",
       "      <td>0</td>\n",
       "      <td>0</td>\n",
       "      <td>No</td>\n",
       "      <td>Female</td>\n",
       "      <td>Other</td>\n",
       "    </tr>\n",
       "    <tr>\n",
       "      <th>1</th>\n",
       "      <td>0</td>\n",
       "      <td>0</td>\n",
       "      <td>0</td>\n",
       "      <td>0</td>\n",
       "      <td>0</td>\n",
       "      <td>No</td>\n",
       "      <td>Female</td>\n",
       "      <td>Other</td>\n",
       "    </tr>\n",
       "    <tr>\n",
       "      <th>3</th>\n",
       "      <td>0</td>\n",
       "      <td>0</td>\n",
       "      <td>0</td>\n",
       "      <td>0</td>\n",
       "      <td>0</td>\n",
       "      <td>No</td>\n",
       "      <td>Male</td>\n",
       "      <td>Other</td>\n",
       "    </tr>\n",
       "    <tr>\n",
       "      <th>4</th>\n",
       "      <td>0</td>\n",
       "      <td>0</td>\n",
       "      <td>0</td>\n",
       "      <td>0</td>\n",
       "      <td>0</td>\n",
       "      <td>No</td>\n",
       "      <td>Female</td>\n",
       "      <td>Other</td>\n",
       "    </tr>\n",
       "    <tr>\n",
       "      <th>5</th>\n",
       "      <td>0</td>\n",
       "      <td>0</td>\n",
       "      <td>0</td>\n",
       "      <td>0</td>\n",
       "      <td>0</td>\n",
       "      <td>No</td>\n",
       "      <td>Missing</td>\n",
       "      <td>Other</td>\n",
       "    </tr>\n",
       "  </tbody>\n",
       "</table>\n",
       "</div>"
      ],
      "text/plain": [
       "   cough  fever  sore_throat  shortness_of_breath  head_ache age   gender  \\\n",
       "0      0      0            0                    0          0  No   Female   \n",
       "1      0      0            0                    0          0  No   Female   \n",
       "3      0      0            0                    0          0  No     Male   \n",
       "4      0      0            0                    0          0  No   Female   \n",
       "5      0      0            0                    0          0  No  Missing   \n",
       "\n",
       "  test_indication  \n",
       "0           Other  \n",
       "1           Other  \n",
       "3           Other  \n",
       "4           Other  \n",
       "5           Other  "
      ]
     },
     "execution_count": 34,
     "metadata": {},
     "output_type": "execute_result"
    }
   ],
   "source": [
    "# replace the missing value\n",
    "X_filled = df.copy().drop(\"corona_result\", axis = 1)\n",
    "y_filled = df.copy()[\"corona_result\"]\n",
    "X_filled_nom = X_filled.select_dtypes(include=[object])\n",
    "X_filled_num = X_filled.select_dtypes(include=[np.number])\n",
    "\n",
    "X_filled[X_filled_nom.columns] = X_filled_nom.fillna('Missing')\n",
    "X_filled.head()"
   ]
  },
  {
   "cell_type": "code",
   "execution_count": 35,
   "metadata": {},
   "outputs": [],
   "source": [
    "# drop the rows with missing value\n",
    "df_dropped = df.dropna(how = 'any', axis=0)\n",
    "X_dropped = df_dropped.drop(\"corona_result\", axis = 1)\n",
    "y_dropped = df_dropped[\"corona_result\"]"
   ]
  },
  {
   "cell_type": "code",
   "execution_count": 36,
   "metadata": {},
   "outputs": [
    {
     "data": {
      "text/plain": [
       "'0 features have missing values.'"
      ]
     },
     "execution_count": 36,
     "metadata": {},
     "output_type": "execute_result"
    }
   ],
   "source": [
    "n_missing = len(X_dropped.columns[X_dropped.isnull().any()])\n",
    "\"{} features have missing values.\".format(n_missing)"
   ]
  },
  {
   "cell_type": "markdown",
   "metadata": {},
   "source": [
    "### Encoding"
   ]
  },
  {
   "cell_type": "code",
   "execution_count": 37,
   "metadata": {},
   "outputs": [],
   "source": [
    "X_filled_nom_trans = pd.get_dummies(X_filled[X_filled_nom.columns])"
   ]
  },
  {
   "cell_type": "code",
   "execution_count": 38,
   "metadata": {},
   "outputs": [],
   "source": [
    "X_filled = pd.concat([X_filled_num, X_filled_nom_trans], axis = 1)"
   ]
  },
  {
   "cell_type": "code",
   "execution_count": 39,
   "metadata": {},
   "outputs": [
    {
     "data": {
      "text/html": [
       "<div>\n",
       "<style scoped>\n",
       "    .dataframe tbody tr th:only-of-type {\n",
       "        vertical-align: middle;\n",
       "    }\n",
       "\n",
       "    .dataframe tbody tr th {\n",
       "        vertical-align: top;\n",
       "    }\n",
       "\n",
       "    .dataframe thead th {\n",
       "        text-align: right;\n",
       "    }\n",
       "</style>\n",
       "<table border=\"1\" class=\"dataframe\">\n",
       "  <thead>\n",
       "    <tr style=\"text-align: right;\">\n",
       "      <th></th>\n",
       "      <th>cough</th>\n",
       "      <th>fever</th>\n",
       "      <th>sore_throat</th>\n",
       "      <th>shortness_of_breath</th>\n",
       "      <th>head_ache</th>\n",
       "      <th>age_Missing</th>\n",
       "      <th>age_No</th>\n",
       "      <th>age_Yes</th>\n",
       "      <th>gender_Female</th>\n",
       "      <th>gender_Male</th>\n",
       "      <th>gender_Missing</th>\n",
       "      <th>test_indication_Abroad</th>\n",
       "      <th>test_indication_Contact with confirmed</th>\n",
       "      <th>test_indication_Other</th>\n",
       "    </tr>\n",
       "  </thead>\n",
       "  <tbody>\n",
       "    <tr>\n",
       "      <th>0</th>\n",
       "      <td>0</td>\n",
       "      <td>0</td>\n",
       "      <td>0</td>\n",
       "      <td>0</td>\n",
       "      <td>0</td>\n",
       "      <td>0</td>\n",
       "      <td>1</td>\n",
       "      <td>0</td>\n",
       "      <td>1</td>\n",
       "      <td>0</td>\n",
       "      <td>0</td>\n",
       "      <td>0</td>\n",
       "      <td>0</td>\n",
       "      <td>1</td>\n",
       "    </tr>\n",
       "    <tr>\n",
       "      <th>1</th>\n",
       "      <td>0</td>\n",
       "      <td>0</td>\n",
       "      <td>0</td>\n",
       "      <td>0</td>\n",
       "      <td>0</td>\n",
       "      <td>0</td>\n",
       "      <td>1</td>\n",
       "      <td>0</td>\n",
       "      <td>1</td>\n",
       "      <td>0</td>\n",
       "      <td>0</td>\n",
       "      <td>0</td>\n",
       "      <td>0</td>\n",
       "      <td>1</td>\n",
       "    </tr>\n",
       "    <tr>\n",
       "      <th>3</th>\n",
       "      <td>0</td>\n",
       "      <td>0</td>\n",
       "      <td>0</td>\n",
       "      <td>0</td>\n",
       "      <td>0</td>\n",
       "      <td>0</td>\n",
       "      <td>1</td>\n",
       "      <td>0</td>\n",
       "      <td>0</td>\n",
       "      <td>1</td>\n",
       "      <td>0</td>\n",
       "      <td>0</td>\n",
       "      <td>0</td>\n",
       "      <td>1</td>\n",
       "    </tr>\n",
       "    <tr>\n",
       "      <th>4</th>\n",
       "      <td>0</td>\n",
       "      <td>0</td>\n",
       "      <td>0</td>\n",
       "      <td>0</td>\n",
       "      <td>0</td>\n",
       "      <td>0</td>\n",
       "      <td>1</td>\n",
       "      <td>0</td>\n",
       "      <td>1</td>\n",
       "      <td>0</td>\n",
       "      <td>0</td>\n",
       "      <td>0</td>\n",
       "      <td>0</td>\n",
       "      <td>1</td>\n",
       "    </tr>\n",
       "    <tr>\n",
       "      <th>5</th>\n",
       "      <td>0</td>\n",
       "      <td>0</td>\n",
       "      <td>0</td>\n",
       "      <td>0</td>\n",
       "      <td>0</td>\n",
       "      <td>0</td>\n",
       "      <td>1</td>\n",
       "      <td>0</td>\n",
       "      <td>0</td>\n",
       "      <td>0</td>\n",
       "      <td>1</td>\n",
       "      <td>0</td>\n",
       "      <td>0</td>\n",
       "      <td>1</td>\n",
       "    </tr>\n",
       "  </tbody>\n",
       "</table>\n",
       "</div>"
      ],
      "text/plain": [
       "   cough  fever  sore_throat  shortness_of_breath  head_ache  age_Missing  \\\n",
       "0      0      0            0                    0          0            0   \n",
       "1      0      0            0                    0          0            0   \n",
       "3      0      0            0                    0          0            0   \n",
       "4      0      0            0                    0          0            0   \n",
       "5      0      0            0                    0          0            0   \n",
       "\n",
       "   age_No  age_Yes  gender_Female  gender_Male  gender_Missing  \\\n",
       "0       1        0              1            0               0   \n",
       "1       1        0              1            0               0   \n",
       "3       1        0              0            1               0   \n",
       "4       1        0              1            0               0   \n",
       "5       1        0              0            0               1   \n",
       "\n",
       "   test_indication_Abroad  test_indication_Contact with confirmed  \\\n",
       "0                       0                                       0   \n",
       "1                       0                                       0   \n",
       "3                       0                                       0   \n",
       "4                       0                                       0   \n",
       "5                       0                                       0   \n",
       "\n",
       "   test_indication_Other  \n",
       "0                      1  \n",
       "1                      1  \n",
       "3                      1  \n",
       "4                      1  \n",
       "5                      1  "
      ]
     },
     "execution_count": 39,
     "metadata": {},
     "output_type": "execute_result"
    }
   ],
   "source": [
    "X_filled.head()"
   ]
  },
  {
   "cell_type": "markdown",
   "metadata": {},
   "source": [
    "**When dropping the missing value, the two nominal features (gender and age) are all binary feature. Thus we can encode these features as 0 and 1**"
   ]
  },
  {
   "cell_type": "code",
   "execution_count": 40,
   "metadata": {},
   "outputs": [],
   "source": [
    "# gender and age features are binary so use labelEncoder to be consistent with the syndrome features (binary)\n",
    "le = LabelEncoder()\n",
    "le.fit(X_dropped[\"gender\"])\n",
    "X_dropped[\"gender\"] = le.transform(X_dropped[\"gender\"])\n",
    "le.fit(X_dropped[\"age\"])\n",
    "X_dropped[\"age\"] = le.transform(X_dropped[\"age\"])\n",
    "# X_indication have multi variable so use get dummies instead. OneHotEncoder can't convert df with some string\n",
    "X_indication = pd.get_dummies(X_dropped[\"test_indication\"])\n",
    "X_dropped = pd.concat([X_dropped.drop(\"test_indication\", axis=1), X_indication], axis=1)"
   ]
  },
  {
   "cell_type": "code",
   "execution_count": 41,
   "metadata": {},
   "outputs": [
    {
     "data": {
      "text/html": [
       "<div>\n",
       "<style scoped>\n",
       "    .dataframe tbody tr th:only-of-type {\n",
       "        vertical-align: middle;\n",
       "    }\n",
       "\n",
       "    .dataframe tbody tr th {\n",
       "        vertical-align: top;\n",
       "    }\n",
       "\n",
       "    .dataframe thead th {\n",
       "        text-align: right;\n",
       "    }\n",
       "</style>\n",
       "<table border=\"1\" class=\"dataframe\">\n",
       "  <thead>\n",
       "    <tr style=\"text-align: right;\">\n",
       "      <th></th>\n",
       "      <th>cough</th>\n",
       "      <th>fever</th>\n",
       "      <th>sore_throat</th>\n",
       "      <th>shortness_of_breath</th>\n",
       "      <th>head_ache</th>\n",
       "      <th>age</th>\n",
       "      <th>gender</th>\n",
       "      <th>Abroad</th>\n",
       "      <th>Contact with confirmed</th>\n",
       "      <th>Other</th>\n",
       "    </tr>\n",
       "  </thead>\n",
       "  <tbody>\n",
       "    <tr>\n",
       "      <th>0</th>\n",
       "      <td>0</td>\n",
       "      <td>0</td>\n",
       "      <td>0</td>\n",
       "      <td>0</td>\n",
       "      <td>0</td>\n",
       "      <td>0</td>\n",
       "      <td>0</td>\n",
       "      <td>0</td>\n",
       "      <td>0</td>\n",
       "      <td>1</td>\n",
       "    </tr>\n",
       "    <tr>\n",
       "      <th>1</th>\n",
       "      <td>0</td>\n",
       "      <td>0</td>\n",
       "      <td>0</td>\n",
       "      <td>0</td>\n",
       "      <td>0</td>\n",
       "      <td>0</td>\n",
       "      <td>0</td>\n",
       "      <td>0</td>\n",
       "      <td>0</td>\n",
       "      <td>1</td>\n",
       "    </tr>\n",
       "    <tr>\n",
       "      <th>3</th>\n",
       "      <td>0</td>\n",
       "      <td>0</td>\n",
       "      <td>0</td>\n",
       "      <td>0</td>\n",
       "      <td>0</td>\n",
       "      <td>0</td>\n",
       "      <td>1</td>\n",
       "      <td>0</td>\n",
       "      <td>0</td>\n",
       "      <td>1</td>\n",
       "    </tr>\n",
       "    <tr>\n",
       "      <th>4</th>\n",
       "      <td>0</td>\n",
       "      <td>0</td>\n",
       "      <td>0</td>\n",
       "      <td>0</td>\n",
       "      <td>0</td>\n",
       "      <td>0</td>\n",
       "      <td>0</td>\n",
       "      <td>0</td>\n",
       "      <td>0</td>\n",
       "      <td>1</td>\n",
       "    </tr>\n",
       "    <tr>\n",
       "      <th>6</th>\n",
       "      <td>0</td>\n",
       "      <td>0</td>\n",
       "      <td>0</td>\n",
       "      <td>0</td>\n",
       "      <td>0</td>\n",
       "      <td>0</td>\n",
       "      <td>1</td>\n",
       "      <td>0</td>\n",
       "      <td>0</td>\n",
       "      <td>1</td>\n",
       "    </tr>\n",
       "  </tbody>\n",
       "</table>\n",
       "</div>"
      ],
      "text/plain": [
       "   cough  fever  sore_throat  shortness_of_breath  head_ache  age  gender  \\\n",
       "0      0      0            0                    0          0    0       0   \n",
       "1      0      0            0                    0          0    0       0   \n",
       "3      0      0            0                    0          0    0       1   \n",
       "4      0      0            0                    0          0    0       0   \n",
       "6      0      0            0                    0          0    0       1   \n",
       "\n",
       "   Abroad  Contact with confirmed  Other  \n",
       "0       0                       0      1  \n",
       "1       0                       0      1  \n",
       "3       0                       0      1  \n",
       "4       0                       0      1  \n",
       "6       0                       0      1  "
      ]
     },
     "execution_count": 41,
     "metadata": {},
     "output_type": "execute_result"
    }
   ],
   "source": [
    "X_dropped.head()"
   ]
  },
  {
   "cell_type": "markdown",
   "metadata": {},
   "source": [
    "**Encoding the class label value**"
   ]
  },
  {
   "cell_type": "code",
   "execution_count": 42,
   "metadata": {},
   "outputs": [],
   "source": [
    "le.fit(y_dropped)\n",
    "y_dropped = le.transform(y_dropped)\n",
    "le.fit(y_filled)\n",
    "y_filled = le.transform(y_filled)"
   ]
  },
  {
   "cell_type": "markdown",
   "metadata": {},
   "source": [
    "## 5. Feature selection"
   ]
  },
  {
   "cell_type": "markdown",
   "metadata": {},
   "source": [
    "https://www.kaggle.com/kanncaa1/feature-selection-and-data-visualization\n",
    "https://www.kaggle.com/prashant111/comprehensive-guide-on-feature-selection"
   ]
  },
  {
   "cell_type": "markdown",
   "metadata": {},
   "source": [
    "Conclusion drawn from the above article:\n",
    "SelectKBest with Fisher Score\n",
    "Recursive Feature Elimination with Cross-Validation (RFECV)\n",
    "Correlation-matrix with heatmap\n",
    "Random-Forest Importance"
   ]
  },
  {
   "cell_type": "markdown",
   "metadata": {},
   "source": [
    "### 5.1 Performance metrics tailored for imbalanced data"
   ]
  },
  {
   "cell_type": "markdown",
   "metadata": {},
   "source": [
    "https://imbalanced-learn.org/stable/references/metrics.html#module-imblearn.metrics"
   ]
  },
  {
   "cell_type": "code",
   "execution_count": 43,
   "metadata": {},
   "outputs": [],
   "source": [
    "from sklearn.metrics import balanced_accuracy_score\n",
    "from imblearn.metrics import sensitivity_specificity_support\n",
    "from imblearn.metrics import sensitivity_score\n",
    "from imblearn.metrics import specificity_score\n",
    "from imblearn.metrics import geometric_mean_score\n",
    "from imblearn.metrics import classification_report_imbalanced\n",
    "from imblearn.metrics import macro_averaged_mean_absolute_error"
   ]
  },
  {
   "cell_type": "code",
   "execution_count": 44,
   "metadata": {},
   "outputs": [],
   "source": [
    "def evaluate_imbalanced(y_test, y_pred):\n",
    "    output = dict()\n",
    "    output[\"Balanced Accuracy\"] = balanced_accuracy_score(y_test, y_pred)\n",
    "    output[\"Sensitivity\"] = sensitivity_score(y_test, y_pred, average='weighted') ## high indicates low false negative\n",
    "    output[\"Specificity\"] = specificity_score(y_test, y_pred, average='weighted') ## high indicates low false positive\n",
    "    output[\"AUROC\"] = roc_auc_score(y_test, y_pred) ##TPR\n",
    "    output[\"F1\"] = f1_score(y_test, y_pred, average=\"binary\") ##weighted precision and recall (both positive dominated)\n",
    "    output[\"Geometric Mean\"] = geometric_mean_score(y_test, y_pred, average='weighted') ## class-wise sensitivity\n",
    "    output[\"Macro Average MAE\"] = macro_averaged_mean_absolute_error(y_test, y_pred)\n",
    "    return output"
   ]
  },
  {
   "cell_type": "markdown",
   "metadata": {},
   "source": [
    "1. The sensitivity is the ratio tp / (tp + fn) where tp is the number of true positives and fn the number of false negatives. The sensitivity quantifies the ability to avoid false negatives. The best value is 1 and the worst value is 0."
   ]
  },
  {
   "cell_type": "markdown",
   "metadata": {},
   "source": [
    "2. 'weighted':\n",
    "Calculate metrics for each label, and find their average, weighted by support (the number of true instances for each label). This alters ‘macro’ to account for label imbalance; it can result in an F-score that is not between precision and recall."
   ]
  },
  {
   "cell_type": "markdown",
   "metadata": {},
   "source": [
    "3. The specificity is the ratio tn / (tn + fp) where tn is the number of true negatives and fp the number of false positives. The specificity quantifies the ability to avoid false positives. The best value is 1 and the worst value is 0."
   ]
  },
  {
   "cell_type": "markdown",
   "metadata": {},
   "source": [
    "4. The geometric mean (G-mean) is the root of the product of class-wise sensitivity. "
   ]
  },
  {
   "cell_type": "markdown",
   "metadata": {},
   "source": [
    "5. This function computes each MAE for each class and average them, giving an equal weight to each class."
   ]
  },
  {
   "cell_type": "markdown",
   "metadata": {},
   "source": [
    "### 5.2 Original performance without feature selection"
   ]
  },
  {
   "cell_type": "code",
   "execution_count": 45,
   "metadata": {},
   "outputs": [],
   "source": [
    "# prepare a df to store the results from each method\n",
    "# TO DO: random_state, most cases are 42 or 43 why?\n",
    "x_train, x_test, y_train, y_test = train_test_split(X_filled, y_filled, test_size=0.2, random_state=0)\n"
   ]
  },
  {
   "cell_type": "code",
   "execution_count": 46,
   "metadata": {},
   "outputs": [],
   "source": [
    "#random forest classifier with n_estimators=10 (default) tree-based model is well-suited for imbalanced data\n",
    "def make_y_pred(x_train, x_test, y_train):\n",
    "    model_ori = RandomForestClassifier(random_state=43)      \n",
    "    model_ori = model_ori.fit(x_train,y_train)\n",
    "    y_pred = model_ori.predict(x_test)\n",
    "    return y_pred"
   ]
  },
  {
   "cell_type": "code",
   "execution_count": 47,
   "metadata": {},
   "outputs": [],
   "source": [
    "y_pred = make_y_pred(x_train, x_test, y_train)"
   ]
  },
  {
   "cell_type": "code",
   "execution_count": 48,
   "metadata": {},
   "outputs": [
    {
     "data": {
      "text/html": [
       "<div>\n",
       "<style scoped>\n",
       "    .dataframe tbody tr th:only-of-type {\n",
       "        vertical-align: middle;\n",
       "    }\n",
       "\n",
       "    .dataframe tbody tr th {\n",
       "        vertical-align: top;\n",
       "    }\n",
       "\n",
       "    .dataframe thead th {\n",
       "        text-align: right;\n",
       "    }\n",
       "</style>\n",
       "<table border=\"1\" class=\"dataframe\">\n",
       "  <thead>\n",
       "    <tr style=\"text-align: right;\">\n",
       "      <th></th>\n",
       "      <th>Method</th>\n",
       "      <th>Original</th>\n",
       "    </tr>\n",
       "  </thead>\n",
       "  <tbody>\n",
       "    <tr>\n",
       "      <th>0</th>\n",
       "      <td>Balanced Accuracy</td>\n",
       "      <td>0.824516</td>\n",
       "    </tr>\n",
       "    <tr>\n",
       "      <th>1</th>\n",
       "      <td>Sensitivity</td>\n",
       "      <td>0.994691</td>\n",
       "    </tr>\n",
       "    <tr>\n",
       "      <th>2</th>\n",
       "      <td>Specificity</td>\n",
       "      <td>0.654340</td>\n",
       "    </tr>\n",
       "    <tr>\n",
       "      <th>3</th>\n",
       "      <td>AUROC</td>\n",
       "      <td>0.824516</td>\n",
       "    </tr>\n",
       "    <tr>\n",
       "      <th>4</th>\n",
       "      <td>F1</td>\n",
       "      <td>0.684547</td>\n",
       "    </tr>\n",
       "    <tr>\n",
       "      <th>5</th>\n",
       "      <td>Geometric Mean</td>\n",
       "      <td>0.806763</td>\n",
       "    </tr>\n",
       "    <tr>\n",
       "      <th>6</th>\n",
       "      <td>Macro Average MAE</td>\n",
       "      <td>0.175484</td>\n",
       "    </tr>\n",
       "  </tbody>\n",
       "</table>\n",
       "</div>"
      ],
      "text/plain": [
       "              Method  Original\n",
       "0  Balanced Accuracy  0.824516\n",
       "1        Sensitivity  0.994691\n",
       "2        Specificity  0.654340\n",
       "3              AUROC  0.824516\n",
       "4                 F1  0.684547\n",
       "5     Geometric Mean  0.806763\n",
       "6  Macro Average MAE  0.175484"
      ]
     },
     "execution_count": 48,
     "metadata": {},
     "output_type": "execute_result"
    }
   ],
   "source": [
    "results_ori = pd.DataFrame(evaluate_imbalanced(y_test, y_pred).items(),columns=[ 'Method', 'Original'])\n",
    "results_ori"
   ]
  },
  {
   "cell_type": "code",
   "execution_count": 49,
   "metadata": {},
   "outputs": [],
   "source": [
    "def make_confusion_matrix(y_test,y_pred):\n",
    "    cf_matrix = confusion_matrix(y_test,y_pred)\n",
    "    fig, ax = plt.subplots(figsize=(5,5))         # Sample figsize in inches\n",
    "    sns.heatmap(cf_matrix/np.sum(cf_matrix), annot=True, \n",
    "            fmt='.2%', cmap='Greens', linewidths=.1, ax=ax);\n",
    "    ax.set_title('Confusion Matrix');"
   ]
  },
  {
   "cell_type": "code",
   "execution_count": 50,
   "metadata": {},
   "outputs": [
    {
     "data": {
      "image/png": "[encoded data removed]",
      "text/plain": [
       "<Figure size 360x360 with 2 Axes>"
      ]
     },
     "metadata": {},
     "output_type": "display_data"
    }
   ],
   "source": [
    "make_confusion_matrix(y_test,y_pred)"
   ]
  },
  {
   "cell_type": "markdown",
   "metadata": {},
   "source": [
    "## 5.3.1 Feature selection--Filter method"
   ]
  },
  {
   "cell_type": "markdown",
   "metadata": {},
   "source": [
    "**1. Mutual Info between features and class label (drop date column for now)**"
   ]
  },
  {
   "cell_type": "code",
   "execution_count": 51,
   "metadata": {},
   "outputs": [],
   "source": [
    "from sklearn.feature_selection import mutual_info_regression\n",
    "from sklearn.feature_selection import mutual_info_classif\n",
    "from sklearn.metrics import mutual_info_score"
   ]
  },
  {
   "cell_type": "code",
   "execution_count": 52,
   "metadata": {},
   "outputs": [],
   "source": [
    "mi_reg = mutual_info_regression(X_filled, y_filled)\n",
    "mi_cla = mutual_info_classif(X_filled, y_filled)"
   ]
  },
  {
   "cell_type": "code",
   "execution_count": 53,
   "metadata": {},
   "outputs": [],
   "source": [
    "df_mi = pd.DataFrame(mi_reg, index=X_filled.columns, columns=['mutual_info_reg'])"
   ]
  },
  {
   "cell_type": "code",
   "execution_count": 54,
   "metadata": {},
   "outputs": [],
   "source": [
    "def highlight_top6(s):\n",
    "    \"\"\"Highlight the maximum in a Series green.\"\"\"\n",
    "    is_large = s.nlargest(6).values\n",
    "    return ['background-color: green' if v in is_large else '' for v in s ]"
   ]
  },
  {
   "cell_type": "code",
   "execution_count": 55,
   "metadata": {
    "scrolled": false
   },
   "outputs": [
    {
     "data": {
      "text/html": [
       "<style  type=\"text/css\" >\n",
       "#T_89a5b46c_fde7_11eb_94f3_acde48001122row0_col0,#T_89a5b46c_fde7_11eb_94f3_acde48001122row1_col0,#T_89a5b46c_fde7_11eb_94f3_acde48001122row2_col0,#T_89a5b46c_fde7_11eb_94f3_acde48001122row3_col0,#T_89a5b46c_fde7_11eb_94f3_acde48001122row4_col0,#T_89a5b46c_fde7_11eb_94f3_acde48001122row5_col0{\n",
       "            background-color:  green;\n",
       "        }</style><table id=\"T_89a5b46c_fde7_11eb_94f3_acde48001122\" ><thead>    <tr>        <th class=\"blank level0\" ></th>        <th class=\"col_heading level0 col0\" >mutual_info_reg</th>    </tr></thead><tbody>\n",
       "                <tr>\n",
       "                        <th id=\"T_89a5b46c_fde7_11eb_94f3_acde48001122level0_row0\" class=\"row_heading level0 row0\" >test_indication_Contact with confirmed</th>\n",
       "                        <td id=\"T_89a5b46c_fde7_11eb_94f3_acde48001122row0_col0\" class=\"data row0 col0\" >0.016277</td>\n",
       "            </tr>\n",
       "            <tr>\n",
       "                        <th id=\"T_89a5b46c_fde7_11eb_94f3_acde48001122level0_row1\" class=\"row_heading level0 row1\" >test_indication_Other</th>\n",
       "                        <td id=\"T_89a5b46c_fde7_11eb_94f3_acde48001122row1_col0\" class=\"data row1 col0\" >0.016214</td>\n",
       "            </tr>\n",
       "            <tr>\n",
       "                        <th id=\"T_89a5b46c_fde7_11eb_94f3_acde48001122level0_row2\" class=\"row_heading level0 row2\" >fever</th>\n",
       "                        <td id=\"T_89a5b46c_fde7_11eb_94f3_acde48001122row2_col0\" class=\"data row2 col0\" >0.011105</td>\n",
       "            </tr>\n",
       "            <tr>\n",
       "                        <th id=\"T_89a5b46c_fde7_11eb_94f3_acde48001122level0_row3\" class=\"row_heading level0 row3\" >head_ache</th>\n",
       "                        <td id=\"T_89a5b46c_fde7_11eb_94f3_acde48001122row3_col0\" class=\"data row3 col0\" >0.008253</td>\n",
       "            </tr>\n",
       "            <tr>\n",
       "                        <th id=\"T_89a5b46c_fde7_11eb_94f3_acde48001122level0_row4\" class=\"row_heading level0 row4\" >cough</th>\n",
       "                        <td id=\"T_89a5b46c_fde7_11eb_94f3_acde48001122row4_col0\" class=\"data row4 col0\" >0.008175</td>\n",
       "            </tr>\n",
       "            <tr>\n",
       "                        <th id=\"T_89a5b46c_fde7_11eb_94f3_acde48001122level0_row5\" class=\"row_heading level0 row5\" >sore_throat</th>\n",
       "                        <td id=\"T_89a5b46c_fde7_11eb_94f3_acde48001122row5_col0\" class=\"data row5 col0\" >0.003738</td>\n",
       "            </tr>\n",
       "            <tr>\n",
       "                        <th id=\"T_89a5b46c_fde7_11eb_94f3_acde48001122level0_row6\" class=\"row_heading level0 row6\" >age_Missing</th>\n",
       "                        <td id=\"T_89a5b46c_fde7_11eb_94f3_acde48001122row6_col0\" class=\"data row6 col0\" >0.002993</td>\n",
       "            </tr>\n",
       "            <tr>\n",
       "                        <th id=\"T_89a5b46c_fde7_11eb_94f3_acde48001122level0_row7\" class=\"row_heading level0 row7\" >gender_Male</th>\n",
       "                        <td id=\"T_89a5b46c_fde7_11eb_94f3_acde48001122row7_col0\" class=\"data row7 col0\" >0.002069</td>\n",
       "            </tr>\n",
       "            <tr>\n",
       "                        <th id=\"T_89a5b46c_fde7_11eb_94f3_acde48001122level0_row8\" class=\"row_heading level0 row8\" >gender_Missing</th>\n",
       "                        <td id=\"T_89a5b46c_fde7_11eb_94f3_acde48001122row8_col0\" class=\"data row8 col0\" >0.001693</td>\n",
       "            </tr>\n",
       "            <tr>\n",
       "                        <th id=\"T_89a5b46c_fde7_11eb_94f3_acde48001122level0_row9\" class=\"row_heading level0 row9\" >shortness_of_breath</th>\n",
       "                        <td id=\"T_89a5b46c_fde7_11eb_94f3_acde48001122row9_col0\" class=\"data row9 col0\" >0.001474</td>\n",
       "            </tr>\n",
       "            <tr>\n",
       "                        <th id=\"T_89a5b46c_fde7_11eb_94f3_acde48001122level0_row10\" class=\"row_heading level0 row10\" >gender_Female</th>\n",
       "                        <td id=\"T_89a5b46c_fde7_11eb_94f3_acde48001122row10_col0\" class=\"data row10 col0\" >0.000787</td>\n",
       "            </tr>\n",
       "            <tr>\n",
       "                        <th id=\"T_89a5b46c_fde7_11eb_94f3_acde48001122level0_row11\" class=\"row_heading level0 row11\" >test_indication_Abroad</th>\n",
       "                        <td id=\"T_89a5b46c_fde7_11eb_94f3_acde48001122row11_col0\" class=\"data row11 col0\" >0.000215</td>\n",
       "            </tr>\n",
       "            <tr>\n",
       "                        <th id=\"T_89a5b46c_fde7_11eb_94f3_acde48001122level0_row12\" class=\"row_heading level0 row12\" >age_Yes</th>\n",
       "                        <td id=\"T_89a5b46c_fde7_11eb_94f3_acde48001122row12_col0\" class=\"data row12 col0\" >0.000206</td>\n",
       "            </tr>\n",
       "            <tr>\n",
       "                        <th id=\"T_89a5b46c_fde7_11eb_94f3_acde48001122level0_row13\" class=\"row_heading level0 row13\" >age_No</th>\n",
       "                        <td id=\"T_89a5b46c_fde7_11eb_94f3_acde48001122row13_col0\" class=\"data row13 col0\" >0.000000</td>\n",
       "            </tr>\n",
       "    </tbody></table>"
      ],
      "text/plain": [
       "<pandas.io.formats.style.Styler at 0x7fc6b3f9c9d0>"
      ]
     },
     "execution_count": 55,
     "metadata": {},
     "output_type": "execute_result"
    }
   ],
   "source": [
    "# top 6 are highlighted\n",
    "df_mi.sort_values(\"mutual_info_reg\", ascending=False).style.apply(highlight_top6)"
   ]
  },
  {
   "cell_type": "markdown",
   "metadata": {},
   "source": [
    "**Most features are nearly independent. No feature filtered out with this method**"
   ]
  },
  {
   "cell_type": "code",
   "execution_count": 56,
   "metadata": {},
   "outputs": [],
   "source": [
    "# for scoring only, need to combine with other methods\n",
    "from sklearn.feature_selection import f_regression, f_classif\n",
    "f_reg = f_regression(X_filled, y_filled)\n",
    "f_clasif = f_classif(X_filled, y_filled)"
   ]
  },
  {
   "cell_type": "markdown",
   "metadata": {},
   "source": [
    "**2. Correlation matrix with heatmap for features in X_filled (missing values filled)**"
   ]
  },
  {
   "cell_type": "code",
   "execution_count": 57,
   "metadata": {},
   "outputs": [],
   "source": [
    "# corr for mean\n",
    "corr1 = X_filled.corr();\n",
    "corr2 = X_dropped.corr();"
   ]
  },
  {
   "cell_type": "code",
   "execution_count": 58,
   "metadata": {},
   "outputs": [
    {
     "data": {
      "image/png": "[encoded data removed]",
      "text/plain": [
       "<Figure size 1080x1080 with 2 Axes>"
      ]
     },
     "metadata": {},
     "output_type": "display_data"
    }
   ],
   "source": [
    "plt.rc(\"figure\", figsize=(15, 15))\n",
    "grid=sns.heatmap(corr1,annot=True,cbar = True, square = True, cmap=sns.diverging_palette(220, 10, as_cmap=True))\n",
    "grid.set_xticklabels(corr1.columns,rotation=90)\n",
    "plt.subplots_adjust(left=0.3,right=1,bottom=0.35,top=0.9)\n",
    "plt.show()"
   ]
  },
  {
   "cell_type": "markdown",
   "metadata": {},
   "source": [
    "**Findings: The correlations between any two features are low. No correlation is higher than 0.9. No feature filtered out with this method**"
   ]
  },
  {
   "cell_type": "code",
   "execution_count": 59,
   "metadata": {},
   "outputs": [],
   "source": [
    "from sklearn.feature_selection import SelectKBest\n",
    "from sklearn.feature_selection import chi2"
   ]
  },
  {
   "cell_type": "code",
   "execution_count": 60,
   "metadata": {},
   "outputs": [],
   "source": [
    "# # refresher\n",
    "x_train, x_test, y_train, y_test = train_test_split(X_filled, y_filled, test_size=0.2, random_state=0)"
   ]
  },
  {
   "cell_type": "code",
   "execution_count": 61,
   "metadata": {
    "scrolled": true
   },
   "outputs": [
    {
     "data": {
      "text/html": [
       "<style  type=\"text/css\" >\n",
       "#T_8a948dd0_fde7_11eb_94f3_acde48001122row0_col0,#T_8a948dd0_fde7_11eb_94f3_acde48001122row1_col0,#T_8a948dd0_fde7_11eb_94f3_acde48001122row2_col0,#T_8a948dd0_fde7_11eb_94f3_acde48001122row3_col0,#T_8a948dd0_fde7_11eb_94f3_acde48001122row4_col0,#T_8a948dd0_fde7_11eb_94f3_acde48001122row5_col0{\n",
       "            background-color:  green;\n",
       "        }</style><table id=\"T_8a948dd0_fde7_11eb_94f3_acde48001122\" ><thead>    <tr>        <th class=\"blank level0\" ></th>        <th class=\"col_heading level0 col0\" >SelectKBest-chi2</th>    </tr></thead><tbody>\n",
       "                <tr>\n",
       "                        <th id=\"T_8a948dd0_fde7_11eb_94f3_acde48001122level0_row0\" class=\"row_heading level0 row0\" >test_indication_Contact with confirmed</th>\n",
       "                        <td id=\"T_8a948dd0_fde7_11eb_94f3_acde48001122row0_col0\" class=\"data row0 col0\" >97792.214762</td>\n",
       "            </tr>\n",
       "            <tr>\n",
       "                        <th id=\"T_8a948dd0_fde7_11eb_94f3_acde48001122level0_row1\" class=\"row_heading level0 row1\" >fever</th>\n",
       "                        <td id=\"T_8a948dd0_fde7_11eb_94f3_acde48001122row1_col0\" class=\"data row1 col0\" >70120.384480</td>\n",
       "            </tr>\n",
       "            <tr>\n",
       "                        <th id=\"T_8a948dd0_fde7_11eb_94f3_acde48001122level0_row2\" class=\"row_heading level0 row2\" >head_ache</th>\n",
       "                        <td id=\"T_8a948dd0_fde7_11eb_94f3_acde48001122row2_col0\" class=\"data row2 col0\" >62286.259488</td>\n",
       "            </tr>\n",
       "            <tr>\n",
       "                        <th id=\"T_8a948dd0_fde7_11eb_94f3_acde48001122level0_row3\" class=\"row_heading level0 row3\" >cough</th>\n",
       "                        <td id=\"T_8a948dd0_fde7_11eb_94f3_acde48001122row3_col0\" class=\"data row3 col0\" >56200.021071</td>\n",
       "            </tr>\n",
       "            <tr>\n",
       "                        <th id=\"T_8a948dd0_fde7_11eb_94f3_acde48001122level0_row4\" class=\"row_heading level0 row4\" >sore_throat</th>\n",
       "                        <td id=\"T_8a948dd0_fde7_11eb_94f3_acde48001122row4_col0\" class=\"data row4 col0\" >30008.323534</td>\n",
       "            </tr>\n",
       "            <tr>\n",
       "                        <th id=\"T_8a948dd0_fde7_11eb_94f3_acde48001122level0_row5\" class=\"row_heading level0 row5\" >shortness_of_breath</th>\n",
       "                        <td id=\"T_8a948dd0_fde7_11eb_94f3_acde48001122row5_col0\" class=\"data row5 col0\" >4462.521708</td>\n",
       "            </tr>\n",
       "            <tr>\n",
       "                        <th id=\"T_8a948dd0_fde7_11eb_94f3_acde48001122level0_row6\" class=\"row_heading level0 row6\" >age_Yes</th>\n",
       "                        <td id=\"T_8a948dd0_fde7_11eb_94f3_acde48001122row6_col0\" class=\"data row6 col0\" >754.507236</td>\n",
       "            </tr>\n",
       "            <tr>\n",
       "                        <th id=\"T_8a948dd0_fde7_11eb_94f3_acde48001122level0_row7\" class=\"row_heading level0 row7\" >test_indication_Other</th>\n",
       "                        <td id=\"T_8a948dd0_fde7_11eb_94f3_acde48001122row7_col0\" class=\"data row7 col0\" >710.261205</td>\n",
       "            </tr>\n",
       "            <tr>\n",
       "                        <th id=\"T_8a948dd0_fde7_11eb_94f3_acde48001122level0_row8\" class=\"row_heading level0 row8\" >gender_Missing</th>\n",
       "                        <td id=\"T_8a948dd0_fde7_11eb_94f3_acde48001122row8_col0\" class=\"data row8 col0\" >661.563719</td>\n",
       "            </tr>\n",
       "            <tr>\n",
       "                        <th id=\"T_8a948dd0_fde7_11eb_94f3_acde48001122level0_row9\" class=\"row_heading level0 row9\" >age_Missing</th>\n",
       "                        <td id=\"T_8a948dd0_fde7_11eb_94f3_acde48001122row9_col0\" class=\"data row9 col0\" >598.631176</td>\n",
       "            </tr>\n",
       "            <tr>\n",
       "                        <th id=\"T_8a948dd0_fde7_11eb_94f3_acde48001122level0_row10\" class=\"row_heading level0 row10\" >test_indication_Abroad</th>\n",
       "                        <td id=\"T_8a948dd0_fde7_11eb_94f3_acde48001122row10_col0\" class=\"data row10 col0\" >550.946819</td>\n",
       "            </tr>\n",
       "            <tr>\n",
       "                        <th id=\"T_8a948dd0_fde7_11eb_94f3_acde48001122level0_row11\" class=\"row_heading level0 row11\" >age_No</th>\n",
       "                        <td id=\"T_8a948dd0_fde7_11eb_94f3_acde48001122row11_col0\" class=\"data row11 col0\" >393.129661</td>\n",
       "            </tr>\n",
       "            <tr>\n",
       "                        <th id=\"T_8a948dd0_fde7_11eb_94f3_acde48001122level0_row12\" class=\"row_heading level0 row12\" >gender_Male</th>\n",
       "                        <td id=\"T_8a948dd0_fde7_11eb_94f3_acde48001122row12_col0\" class=\"data row12 col0\" >340.249068</td>\n",
       "            </tr>\n",
       "            <tr>\n",
       "                        <th id=\"T_8a948dd0_fde7_11eb_94f3_acde48001122level0_row13\" class=\"row_heading level0 row13\" >gender_Female</th>\n",
       "                        <td id=\"T_8a948dd0_fde7_11eb_94f3_acde48001122row13_col0\" class=\"data row13 col0\" >209.165600</td>\n",
       "            </tr>\n",
       "    </tbody></table>"
      ],
      "text/plain": [
       "<pandas.io.formats.style.Styler at 0x7fc6b4664c70>"
      ]
     },
     "execution_count": 61,
     "metadata": {},
     "output_type": "execute_result"
    }
   ],
   "source": [
    "# find best scored 5 features\n",
    "selector = SelectKBest(chi2, k=5)\n",
    "select_feature = selector.fit(x_train, y_train)\n",
    "df_chi2 = pd.DataFrame(select_feature.scores_, index=x_train.columns, columns=['SelectKBest-chi2'])\n",
    "df_chi2.sort_values('SelectKBest-chi2', ascending=False).style.apply(highlight_top6)"
   ]
  },
  {
   "cell_type": "code",
   "execution_count": 62,
   "metadata": {},
   "outputs": [
    {
     "data": {
      "text/html": [
       "<style  type=\"text/css\" >\n",
       "#T_8a96b11e_fde7_11eb_94f3_acde48001122row0_col0,#T_8a96b11e_fde7_11eb_94f3_acde48001122row0_col1,#T_8a96b11e_fde7_11eb_94f3_acde48001122row1_col0,#T_8a96b11e_fde7_11eb_94f3_acde48001122row1_col1,#T_8a96b11e_fde7_11eb_94f3_acde48001122row2_col0,#T_8a96b11e_fde7_11eb_94f3_acde48001122row2_col1,#T_8a96b11e_fde7_11eb_94f3_acde48001122row3_col0,#T_8a96b11e_fde7_11eb_94f3_acde48001122row3_col1,#T_8a96b11e_fde7_11eb_94f3_acde48001122row4_col0,#T_8a96b11e_fde7_11eb_94f3_acde48001122row4_col1,#T_8a96b11e_fde7_11eb_94f3_acde48001122row5_col0,#T_8a96b11e_fde7_11eb_94f3_acde48001122row7_col1{\n",
       "            background-color:  green;\n",
       "        }</style><table id=\"T_8a96b11e_fde7_11eb_94f3_acde48001122\" ><thead>    <tr>        <th class=\"blank level0\" ></th>        <th class=\"col_heading level0 col0\" >SelectKBest-chi2</th>        <th class=\"col_heading level0 col1\" >mutual_info_reg</th>    </tr></thead><tbody>\n",
       "                <tr>\n",
       "                        <th id=\"T_8a96b11e_fde7_11eb_94f3_acde48001122level0_row0\" class=\"row_heading level0 row0\" >test_indication_Contact with confirmed</th>\n",
       "                        <td id=\"T_8a96b11e_fde7_11eb_94f3_acde48001122row0_col0\" class=\"data row0 col0\" >97792.214762</td>\n",
       "                        <td id=\"T_8a96b11e_fde7_11eb_94f3_acde48001122row0_col1\" class=\"data row0 col1\" >0.016277</td>\n",
       "            </tr>\n",
       "            <tr>\n",
       "                        <th id=\"T_8a96b11e_fde7_11eb_94f3_acde48001122level0_row1\" class=\"row_heading level0 row1\" >fever</th>\n",
       "                        <td id=\"T_8a96b11e_fde7_11eb_94f3_acde48001122row1_col0\" class=\"data row1 col0\" >70120.384480</td>\n",
       "                        <td id=\"T_8a96b11e_fde7_11eb_94f3_acde48001122row1_col1\" class=\"data row1 col1\" >0.011105</td>\n",
       "            </tr>\n",
       "            <tr>\n",
       "                        <th id=\"T_8a96b11e_fde7_11eb_94f3_acde48001122level0_row2\" class=\"row_heading level0 row2\" >head_ache</th>\n",
       "                        <td id=\"T_8a96b11e_fde7_11eb_94f3_acde48001122row2_col0\" class=\"data row2 col0\" >62286.259488</td>\n",
       "                        <td id=\"T_8a96b11e_fde7_11eb_94f3_acde48001122row2_col1\" class=\"data row2 col1\" >0.008253</td>\n",
       "            </tr>\n",
       "            <tr>\n",
       "                        <th id=\"T_8a96b11e_fde7_11eb_94f3_acde48001122level0_row3\" class=\"row_heading level0 row3\" >cough</th>\n",
       "                        <td id=\"T_8a96b11e_fde7_11eb_94f3_acde48001122row3_col0\" class=\"data row3 col0\" >56200.021071</td>\n",
       "                        <td id=\"T_8a96b11e_fde7_11eb_94f3_acde48001122row3_col1\" class=\"data row3 col1\" >0.008175</td>\n",
       "            </tr>\n",
       "            <tr>\n",
       "                        <th id=\"T_8a96b11e_fde7_11eb_94f3_acde48001122level0_row4\" class=\"row_heading level0 row4\" >sore_throat</th>\n",
       "                        <td id=\"T_8a96b11e_fde7_11eb_94f3_acde48001122row4_col0\" class=\"data row4 col0\" >30008.323534</td>\n",
       "                        <td id=\"T_8a96b11e_fde7_11eb_94f3_acde48001122row4_col1\" class=\"data row4 col1\" >0.003738</td>\n",
       "            </tr>\n",
       "            <tr>\n",
       "                        <th id=\"T_8a96b11e_fde7_11eb_94f3_acde48001122level0_row5\" class=\"row_heading level0 row5\" >shortness_of_breath</th>\n",
       "                        <td id=\"T_8a96b11e_fde7_11eb_94f3_acde48001122row5_col0\" class=\"data row5 col0\" >4462.521708</td>\n",
       "                        <td id=\"T_8a96b11e_fde7_11eb_94f3_acde48001122row5_col1\" class=\"data row5 col1\" >0.001474</td>\n",
       "            </tr>\n",
       "            <tr>\n",
       "                        <th id=\"T_8a96b11e_fde7_11eb_94f3_acde48001122level0_row6\" class=\"row_heading level0 row6\" >age_Yes</th>\n",
       "                        <td id=\"T_8a96b11e_fde7_11eb_94f3_acde48001122row6_col0\" class=\"data row6 col0\" >754.507236</td>\n",
       "                        <td id=\"T_8a96b11e_fde7_11eb_94f3_acde48001122row6_col1\" class=\"data row6 col1\" >0.000206</td>\n",
       "            </tr>\n",
       "            <tr>\n",
       "                        <th id=\"T_8a96b11e_fde7_11eb_94f3_acde48001122level0_row7\" class=\"row_heading level0 row7\" >test_indication_Other</th>\n",
       "                        <td id=\"T_8a96b11e_fde7_11eb_94f3_acde48001122row7_col0\" class=\"data row7 col0\" >710.261205</td>\n",
       "                        <td id=\"T_8a96b11e_fde7_11eb_94f3_acde48001122row7_col1\" class=\"data row7 col1\" >0.016214</td>\n",
       "            </tr>\n",
       "            <tr>\n",
       "                        <th id=\"T_8a96b11e_fde7_11eb_94f3_acde48001122level0_row8\" class=\"row_heading level0 row8\" >gender_Missing</th>\n",
       "                        <td id=\"T_8a96b11e_fde7_11eb_94f3_acde48001122row8_col0\" class=\"data row8 col0\" >661.563719</td>\n",
       "                        <td id=\"T_8a96b11e_fde7_11eb_94f3_acde48001122row8_col1\" class=\"data row8 col1\" >0.001693</td>\n",
       "            </tr>\n",
       "            <tr>\n",
       "                        <th id=\"T_8a96b11e_fde7_11eb_94f3_acde48001122level0_row9\" class=\"row_heading level0 row9\" >age_Missing</th>\n",
       "                        <td id=\"T_8a96b11e_fde7_11eb_94f3_acde48001122row9_col0\" class=\"data row9 col0\" >598.631176</td>\n",
       "                        <td id=\"T_8a96b11e_fde7_11eb_94f3_acde48001122row9_col1\" class=\"data row9 col1\" >0.002993</td>\n",
       "            </tr>\n",
       "            <tr>\n",
       "                        <th id=\"T_8a96b11e_fde7_11eb_94f3_acde48001122level0_row10\" class=\"row_heading level0 row10\" >test_indication_Abroad</th>\n",
       "                        <td id=\"T_8a96b11e_fde7_11eb_94f3_acde48001122row10_col0\" class=\"data row10 col0\" >550.946819</td>\n",
       "                        <td id=\"T_8a96b11e_fde7_11eb_94f3_acde48001122row10_col1\" class=\"data row10 col1\" >0.000215</td>\n",
       "            </tr>\n",
       "            <tr>\n",
       "                        <th id=\"T_8a96b11e_fde7_11eb_94f3_acde48001122level0_row11\" class=\"row_heading level0 row11\" >age_No</th>\n",
       "                        <td id=\"T_8a96b11e_fde7_11eb_94f3_acde48001122row11_col0\" class=\"data row11 col0\" >393.129661</td>\n",
       "                        <td id=\"T_8a96b11e_fde7_11eb_94f3_acde48001122row11_col1\" class=\"data row11 col1\" >0.000000</td>\n",
       "            </tr>\n",
       "            <tr>\n",
       "                        <th id=\"T_8a96b11e_fde7_11eb_94f3_acde48001122level0_row12\" class=\"row_heading level0 row12\" >gender_Male</th>\n",
       "                        <td id=\"T_8a96b11e_fde7_11eb_94f3_acde48001122row12_col0\" class=\"data row12 col0\" >340.249068</td>\n",
       "                        <td id=\"T_8a96b11e_fde7_11eb_94f3_acde48001122row12_col1\" class=\"data row12 col1\" >0.002069</td>\n",
       "            </tr>\n",
       "            <tr>\n",
       "                        <th id=\"T_8a96b11e_fde7_11eb_94f3_acde48001122level0_row13\" class=\"row_heading level0 row13\" >gender_Female</th>\n",
       "                        <td id=\"T_8a96b11e_fde7_11eb_94f3_acde48001122row13_col0\" class=\"data row13 col0\" >209.165600</td>\n",
       "                        <td id=\"T_8a96b11e_fde7_11eb_94f3_acde48001122row13_col1\" class=\"data row13 col1\" >0.000787</td>\n",
       "            </tr>\n",
       "    </tbody></table>"
      ],
      "text/plain": [
       "<pandas.io.formats.style.Styler at 0x7fc6b757c640>"
      ]
     },
     "execution_count": 62,
     "metadata": {},
     "output_type": "execute_result"
    }
   ],
   "source": [
    "# side-by-side comparison with mi\n",
    "merged = df_chi2.join(df_mi)\n",
    "merged.sort_values('SelectKBest-chi2', ascending=False).style.apply(highlight_top6)"
   ]
  },
  {
   "cell_type": "code",
   "execution_count": 63,
   "metadata": {},
   "outputs": [],
   "source": [
    "x_train_2 = select_feature.transform(x_train)\n",
    "x_test_2 = select_feature.transform(x_test)\n",
    "\n",
    "y_pred = make_y_pred(x_train_2, x_test_2, y_train)"
   ]
  },
  {
   "cell_type": "code",
   "execution_count": 64,
   "metadata": {
    "scrolled": true
   },
   "outputs": [
    {
     "data": {
      "text/html": [
       "<div>\n",
       "<style scoped>\n",
       "    .dataframe tbody tr th:only-of-type {\n",
       "        vertical-align: middle;\n",
       "    }\n",
       "\n",
       "    .dataframe tbody tr th {\n",
       "        vertical-align: top;\n",
       "    }\n",
       "\n",
       "    .dataframe thead th {\n",
       "        text-align: right;\n",
       "    }\n",
       "</style>\n",
       "<table border=\"1\" class=\"dataframe\">\n",
       "  <thead>\n",
       "    <tr style=\"text-align: right;\">\n",
       "      <th></th>\n",
       "      <th>Method</th>\n",
       "      <th>SelectedKBest-chi2</th>\n",
       "    </tr>\n",
       "  </thead>\n",
       "  <tbody>\n",
       "    <tr>\n",
       "      <th>0</th>\n",
       "      <td>Balanced Accuracy</td>\n",
       "      <td>0.831920</td>\n",
       "    </tr>\n",
       "    <tr>\n",
       "      <th>1</th>\n",
       "      <td>Sensitivity</td>\n",
       "      <td>0.993853</td>\n",
       "    </tr>\n",
       "    <tr>\n",
       "      <th>2</th>\n",
       "      <td>Specificity</td>\n",
       "      <td>0.669988</td>\n",
       "    </tr>\n",
       "    <tr>\n",
       "      <th>3</th>\n",
       "      <td>AUROC</td>\n",
       "      <td>0.831920</td>\n",
       "    </tr>\n",
       "    <tr>\n",
       "      <th>4</th>\n",
       "      <td>F1</td>\n",
       "      <td>0.657485</td>\n",
       "    </tr>\n",
       "    <tr>\n",
       "      <th>5</th>\n",
       "      <td>Geometric Mean</td>\n",
       "      <td>0.816008</td>\n",
       "    </tr>\n",
       "    <tr>\n",
       "      <th>6</th>\n",
       "      <td>Macro Average MAE</td>\n",
       "      <td>0.168080</td>\n",
       "    </tr>\n",
       "  </tbody>\n",
       "</table>\n",
       "</div>"
      ],
      "text/plain": [
       "              Method  SelectedKBest-chi2\n",
       "0  Balanced Accuracy            0.831920\n",
       "1        Sensitivity            0.993853\n",
       "2        Specificity            0.669988\n",
       "3              AUROC            0.831920\n",
       "4                 F1            0.657485\n",
       "5     Geometric Mean            0.816008\n",
       "6  Macro Average MAE            0.168080"
      ]
     },
     "execution_count": 64,
     "metadata": {},
     "output_type": "execute_result"
    }
   ],
   "source": [
    "results_select = pd.DataFrame(evaluate_imbalanced(y_test, y_pred).items(),columns=[ 'Method', 'SelectedKBest-chi2'])\n",
    "results_select"
   ]
  },
  {
   "cell_type": "code",
   "execution_count": 65,
   "metadata": {
    "scrolled": true
   },
   "outputs": [
    {
     "data": {
      "text/html": [
       "<div>\n",
       "<style scoped>\n",
       "    .dataframe tbody tr th:only-of-type {\n",
       "        vertical-align: middle;\n",
       "    }\n",
       "\n",
       "    .dataframe tbody tr th {\n",
       "        vertical-align: top;\n",
       "    }\n",
       "\n",
       "    .dataframe thead th {\n",
       "        text-align: right;\n",
       "    }\n",
       "</style>\n",
       "<table border=\"1\" class=\"dataframe\">\n",
       "  <thead>\n",
       "    <tr style=\"text-align: right;\">\n",
       "      <th></th>\n",
       "      <th>Original</th>\n",
       "      <th>SelectedKBest-chi2</th>\n",
       "      <th>%</th>\n",
       "    </tr>\n",
       "    <tr>\n",
       "      <th>Method</th>\n",
       "      <th></th>\n",
       "      <th></th>\n",
       "      <th></th>\n",
       "    </tr>\n",
       "  </thead>\n",
       "  <tbody>\n",
       "    <tr>\n",
       "      <th>Balanced Accuracy</th>\n",
       "      <td>0.824516</td>\n",
       "      <td>0.831920</td>\n",
       "      <td>0.9%</td>\n",
       "    </tr>\n",
       "    <tr>\n",
       "      <th>Sensitivity</th>\n",
       "      <td>0.994691</td>\n",
       "      <td>0.993853</td>\n",
       "      <td>-0.08%</td>\n",
       "    </tr>\n",
       "    <tr>\n",
       "      <th>Specificity</th>\n",
       "      <td>0.654340</td>\n",
       "      <td>0.669988</td>\n",
       "      <td>2.39%</td>\n",
       "    </tr>\n",
       "    <tr>\n",
       "      <th>AUROC</th>\n",
       "      <td>0.824516</td>\n",
       "      <td>0.831920</td>\n",
       "      <td>0.9%</td>\n",
       "    </tr>\n",
       "    <tr>\n",
       "      <th>F1</th>\n",
       "      <td>0.684547</td>\n",
       "      <td>0.657485</td>\n",
       "      <td>-3.95%</td>\n",
       "    </tr>\n",
       "    <tr>\n",
       "      <th>Geometric Mean</th>\n",
       "      <td>0.806763</td>\n",
       "      <td>0.816008</td>\n",
       "      <td>1.15%</td>\n",
       "    </tr>\n",
       "    <tr>\n",
       "      <th>Macro Average MAE</th>\n",
       "      <td>0.175484</td>\n",
       "      <td>0.168080</td>\n",
       "      <td>-4.22%</td>\n",
       "    </tr>\n",
       "  </tbody>\n",
       "</table>\n",
       "</div>"
      ],
      "text/plain": [
       "                   Original  SelectedKBest-chi2       %\n",
       "Method                                                 \n",
       "Balanced Accuracy  0.824516            0.831920    0.9%\n",
       "Sensitivity        0.994691            0.993853  -0.08%\n",
       "Specificity        0.654340            0.669988   2.39%\n",
       "AUROC              0.824516            0.831920    0.9%\n",
       "F1                 0.684547            0.657485  -3.95%\n",
       "Geometric Mean     0.806763            0.816008   1.15%\n",
       "Macro Average MAE  0.175484            0.168080  -4.22%"
      ]
     },
     "execution_count": 65,
     "metadata": {},
     "output_type": "execute_result"
    }
   ],
   "source": [
    "results = results_ori.set_index('Method').join(results_select.set_index('Method'))\n",
    "results['%'] = (((results['SelectedKBest-chi2'] - results['Original']) / results['Original'])*100 ).round(2).astype(str) + '%'\n",
    "results"
   ]
  },
  {
   "cell_type": "code",
   "execution_count": 66,
   "metadata": {},
   "outputs": [
    {
     "data": {
      "image/png": "[encoded data removed]",
      "text/plain": [
       "<Figure size 360x360 with 2 Axes>"
      ]
     },
     "metadata": {},
     "output_type": "display_data"
    }
   ],
   "source": [
    "make_confusion_matrix(y_test,y_pred)"
   ]
  },
  {
   "cell_type": "markdown",
   "metadata": {},
   "source": [
    "### 5.3.2 Feature selection--Wrapper method"
   ]
  },
  {
   "cell_type": "markdown",
   "metadata": {},
   "source": [
    "**Recursive feature elimination (RFE) with random forest**"
   ]
  },
  {
   "cell_type": "code",
   "execution_count": 67,
   "metadata": {},
   "outputs": [],
   "source": [
    "from sklearn.feature_selection import RFE\n",
    "# Create the RFE object and rank each pixel\n",
    "# using the same classifer as original \n",
    "model_ori = RandomForestClassifier(random_state=43)\n",
    "rfe = RFE(estimator=model_ori, n_features_to_select=6, step=1)\n",
    "rfe = rfe.fit(x_train, y_train)"
   ]
  },
  {
   "cell_type": "code",
   "execution_count": 68,
   "metadata": {
    "scrolled": false
   },
   "outputs": [
    {
     "data": {
      "text/html": [
       "<style  type=\"text/css\" >\n",
       "#T_b4a3066a_fde7_11eb_94f3_acde48001122row0_col0,#T_b4a3066a_fde7_11eb_94f3_acde48001122row1_col0,#T_b4a3066a_fde7_11eb_94f3_acde48001122row2_col0,#T_b4a3066a_fde7_11eb_94f3_acde48001122row3_col0,#T_b4a3066a_fde7_11eb_94f3_acde48001122row4_col0,#T_b4a3066a_fde7_11eb_94f3_acde48001122row5_col0{\n",
       "            background-color:  green;\n",
       "        }</style><table id=\"T_b4a3066a_fde7_11eb_94f3_acde48001122\" ><thead>    <tr>        <th class=\"blank level0\" ></th>        <th class=\"col_heading level0 col0\" >RFE</th>    </tr></thead><tbody>\n",
       "                <tr>\n",
       "                        <th id=\"T_b4a3066a_fde7_11eb_94f3_acde48001122level0_row0\" class=\"row_heading level0 row0\" >cough</th>\n",
       "                        <td id=\"T_b4a3066a_fde7_11eb_94f3_acde48001122row0_col0\" class=\"data row0 col0\" >True</td>\n",
       "            </tr>\n",
       "            <tr>\n",
       "                        <th id=\"T_b4a3066a_fde7_11eb_94f3_acde48001122level0_row1\" class=\"row_heading level0 row1\" >fever</th>\n",
       "                        <td id=\"T_b4a3066a_fde7_11eb_94f3_acde48001122row1_col0\" class=\"data row1 col0\" >True</td>\n",
       "            </tr>\n",
       "            <tr>\n",
       "                        <th id=\"T_b4a3066a_fde7_11eb_94f3_acde48001122level0_row2\" class=\"row_heading level0 row2\" >sore_throat</th>\n",
       "                        <td id=\"T_b4a3066a_fde7_11eb_94f3_acde48001122row2_col0\" class=\"data row2 col0\" >True</td>\n",
       "            </tr>\n",
       "            <tr>\n",
       "                        <th id=\"T_b4a3066a_fde7_11eb_94f3_acde48001122level0_row3\" class=\"row_heading level0 row3\" >head_ache</th>\n",
       "                        <td id=\"T_b4a3066a_fde7_11eb_94f3_acde48001122row3_col0\" class=\"data row3 col0\" >True</td>\n",
       "            </tr>\n",
       "            <tr>\n",
       "                        <th id=\"T_b4a3066a_fde7_11eb_94f3_acde48001122level0_row4\" class=\"row_heading level0 row4\" >test_indication_Contact with confirmed</th>\n",
       "                        <td id=\"T_b4a3066a_fde7_11eb_94f3_acde48001122row4_col0\" class=\"data row4 col0\" >True</td>\n",
       "            </tr>\n",
       "            <tr>\n",
       "                        <th id=\"T_b4a3066a_fde7_11eb_94f3_acde48001122level0_row5\" class=\"row_heading level0 row5\" >test_indication_Other</th>\n",
       "                        <td id=\"T_b4a3066a_fde7_11eb_94f3_acde48001122row5_col0\" class=\"data row5 col0\" >True</td>\n",
       "            </tr>\n",
       "            <tr>\n",
       "                        <th id=\"T_b4a3066a_fde7_11eb_94f3_acde48001122level0_row6\" class=\"row_heading level0 row6\" >shortness_of_breath</th>\n",
       "                        <td id=\"T_b4a3066a_fde7_11eb_94f3_acde48001122row6_col0\" class=\"data row6 col0\" >False</td>\n",
       "            </tr>\n",
       "            <tr>\n",
       "                        <th id=\"T_b4a3066a_fde7_11eb_94f3_acde48001122level0_row7\" class=\"row_heading level0 row7\" >age_Missing</th>\n",
       "                        <td id=\"T_b4a3066a_fde7_11eb_94f3_acde48001122row7_col0\" class=\"data row7 col0\" >False</td>\n",
       "            </tr>\n",
       "            <tr>\n",
       "                        <th id=\"T_b4a3066a_fde7_11eb_94f3_acde48001122level0_row8\" class=\"row_heading level0 row8\" >age_No</th>\n",
       "                        <td id=\"T_b4a3066a_fde7_11eb_94f3_acde48001122row8_col0\" class=\"data row8 col0\" >False</td>\n",
       "            </tr>\n",
       "            <tr>\n",
       "                        <th id=\"T_b4a3066a_fde7_11eb_94f3_acde48001122level0_row9\" class=\"row_heading level0 row9\" >age_Yes</th>\n",
       "                        <td id=\"T_b4a3066a_fde7_11eb_94f3_acde48001122row9_col0\" class=\"data row9 col0\" >False</td>\n",
       "            </tr>\n",
       "            <tr>\n",
       "                        <th id=\"T_b4a3066a_fde7_11eb_94f3_acde48001122level0_row10\" class=\"row_heading level0 row10\" >gender_Female</th>\n",
       "                        <td id=\"T_b4a3066a_fde7_11eb_94f3_acde48001122row10_col0\" class=\"data row10 col0\" >False</td>\n",
       "            </tr>\n",
       "            <tr>\n",
       "                        <th id=\"T_b4a3066a_fde7_11eb_94f3_acde48001122level0_row11\" class=\"row_heading level0 row11\" >gender_Male</th>\n",
       "                        <td id=\"T_b4a3066a_fde7_11eb_94f3_acde48001122row11_col0\" class=\"data row11 col0\" >False</td>\n",
       "            </tr>\n",
       "            <tr>\n",
       "                        <th id=\"T_b4a3066a_fde7_11eb_94f3_acde48001122level0_row12\" class=\"row_heading level0 row12\" >gender_Missing</th>\n",
       "                        <td id=\"T_b4a3066a_fde7_11eb_94f3_acde48001122row12_col0\" class=\"data row12 col0\" >False</td>\n",
       "            </tr>\n",
       "            <tr>\n",
       "                        <th id=\"T_b4a3066a_fde7_11eb_94f3_acde48001122level0_row13\" class=\"row_heading level0 row13\" >test_indication_Abroad</th>\n",
       "                        <td id=\"T_b4a3066a_fde7_11eb_94f3_acde48001122row13_col0\" class=\"data row13 col0\" >False</td>\n",
       "            </tr>\n",
       "    </tbody></table>"
      ],
      "text/plain": [
       "<pandas.io.formats.style.Styler at 0x7fc6b61bffd0>"
      ]
     },
     "execution_count": 68,
     "metadata": {},
     "output_type": "execute_result"
    }
   ],
   "source": [
    "df_rfe = pd.DataFrame(rfe.support_, index=x_train.columns, columns=['RFE'])\n",
    "df_rfe.sort_values('RFE', ascending=False).style.apply(highlight_top6)"
   ]
  },
  {
   "cell_type": "code",
   "execution_count": 69,
   "metadata": {},
   "outputs": [
    {
     "data": {
      "text/html": [
       "<style  type=\"text/css\" >\n",
       "#T_b4a5ba68_fde7_11eb_94f3_acde48001122row0_col0,#T_b4a5ba68_fde7_11eb_94f3_acde48001122row0_col1,#T_b4a5ba68_fde7_11eb_94f3_acde48001122row0_col2,#T_b4a5ba68_fde7_11eb_94f3_acde48001122row1_col0,#T_b4a5ba68_fde7_11eb_94f3_acde48001122row1_col1,#T_b4a5ba68_fde7_11eb_94f3_acde48001122row1_col2,#T_b4a5ba68_fde7_11eb_94f3_acde48001122row2_col0,#T_b4a5ba68_fde7_11eb_94f3_acde48001122row2_col1,#T_b4a5ba68_fde7_11eb_94f3_acde48001122row2_col2,#T_b4a5ba68_fde7_11eb_94f3_acde48001122row3_col0,#T_b4a5ba68_fde7_11eb_94f3_acde48001122row3_col1,#T_b4a5ba68_fde7_11eb_94f3_acde48001122row3_col2,#T_b4a5ba68_fde7_11eb_94f3_acde48001122row4_col0,#T_b4a5ba68_fde7_11eb_94f3_acde48001122row4_col1,#T_b4a5ba68_fde7_11eb_94f3_acde48001122row4_col2,#T_b4a5ba68_fde7_11eb_94f3_acde48001122row5_col1,#T_b4a5ba68_fde7_11eb_94f3_acde48001122row7_col0,#T_b4a5ba68_fde7_11eb_94f3_acde48001122row7_col2{\n",
       "            background-color:  green;\n",
       "        }</style><table id=\"T_b4a5ba68_fde7_11eb_94f3_acde48001122\" ><thead>    <tr>        <th class=\"blank level0\" ></th>        <th class=\"col_heading level0 col0\" >mutual_info_reg</th>        <th class=\"col_heading level0 col1\" >SelectKBest-chi2</th>        <th class=\"col_heading level0 col2\" >RFE</th>    </tr></thead><tbody>\n",
       "                <tr>\n",
       "                        <th id=\"T_b4a5ba68_fde7_11eb_94f3_acde48001122level0_row0\" class=\"row_heading level0 row0\" >test_indication_Contact with confirmed</th>\n",
       "                        <td id=\"T_b4a5ba68_fde7_11eb_94f3_acde48001122row0_col0\" class=\"data row0 col0\" >0.016277</td>\n",
       "                        <td id=\"T_b4a5ba68_fde7_11eb_94f3_acde48001122row0_col1\" class=\"data row0 col1\" >97792.214762</td>\n",
       "                        <td id=\"T_b4a5ba68_fde7_11eb_94f3_acde48001122row0_col2\" class=\"data row0 col2\" >True</td>\n",
       "            </tr>\n",
       "            <tr>\n",
       "                        <th id=\"T_b4a5ba68_fde7_11eb_94f3_acde48001122level0_row1\" class=\"row_heading level0 row1\" >fever</th>\n",
       "                        <td id=\"T_b4a5ba68_fde7_11eb_94f3_acde48001122row1_col0\" class=\"data row1 col0\" >0.011105</td>\n",
       "                        <td id=\"T_b4a5ba68_fde7_11eb_94f3_acde48001122row1_col1\" class=\"data row1 col1\" >70120.384480</td>\n",
       "                        <td id=\"T_b4a5ba68_fde7_11eb_94f3_acde48001122row1_col2\" class=\"data row1 col2\" >True</td>\n",
       "            </tr>\n",
       "            <tr>\n",
       "                        <th id=\"T_b4a5ba68_fde7_11eb_94f3_acde48001122level0_row2\" class=\"row_heading level0 row2\" >head_ache</th>\n",
       "                        <td id=\"T_b4a5ba68_fde7_11eb_94f3_acde48001122row2_col0\" class=\"data row2 col0\" >0.008253</td>\n",
       "                        <td id=\"T_b4a5ba68_fde7_11eb_94f3_acde48001122row2_col1\" class=\"data row2 col1\" >62286.259488</td>\n",
       "                        <td id=\"T_b4a5ba68_fde7_11eb_94f3_acde48001122row2_col2\" class=\"data row2 col2\" >True</td>\n",
       "            </tr>\n",
       "            <tr>\n",
       "                        <th id=\"T_b4a5ba68_fde7_11eb_94f3_acde48001122level0_row3\" class=\"row_heading level0 row3\" >cough</th>\n",
       "                        <td id=\"T_b4a5ba68_fde7_11eb_94f3_acde48001122row3_col0\" class=\"data row3 col0\" >0.008175</td>\n",
       "                        <td id=\"T_b4a5ba68_fde7_11eb_94f3_acde48001122row3_col1\" class=\"data row3 col1\" >56200.021071</td>\n",
       "                        <td id=\"T_b4a5ba68_fde7_11eb_94f3_acde48001122row3_col2\" class=\"data row3 col2\" >True</td>\n",
       "            </tr>\n",
       "            <tr>\n",
       "                        <th id=\"T_b4a5ba68_fde7_11eb_94f3_acde48001122level0_row4\" class=\"row_heading level0 row4\" >sore_throat</th>\n",
       "                        <td id=\"T_b4a5ba68_fde7_11eb_94f3_acde48001122row4_col0\" class=\"data row4 col0\" >0.003738</td>\n",
       "                        <td id=\"T_b4a5ba68_fde7_11eb_94f3_acde48001122row4_col1\" class=\"data row4 col1\" >30008.323534</td>\n",
       "                        <td id=\"T_b4a5ba68_fde7_11eb_94f3_acde48001122row4_col2\" class=\"data row4 col2\" >True</td>\n",
       "            </tr>\n",
       "            <tr>\n",
       "                        <th id=\"T_b4a5ba68_fde7_11eb_94f3_acde48001122level0_row5\" class=\"row_heading level0 row5\" >shortness_of_breath</th>\n",
       "                        <td id=\"T_b4a5ba68_fde7_11eb_94f3_acde48001122row5_col0\" class=\"data row5 col0\" >0.001474</td>\n",
       "                        <td id=\"T_b4a5ba68_fde7_11eb_94f3_acde48001122row5_col1\" class=\"data row5 col1\" >4462.521708</td>\n",
       "                        <td id=\"T_b4a5ba68_fde7_11eb_94f3_acde48001122row5_col2\" class=\"data row5 col2\" >False</td>\n",
       "            </tr>\n",
       "            <tr>\n",
       "                        <th id=\"T_b4a5ba68_fde7_11eb_94f3_acde48001122level0_row6\" class=\"row_heading level0 row6\" >age_Yes</th>\n",
       "                        <td id=\"T_b4a5ba68_fde7_11eb_94f3_acde48001122row6_col0\" class=\"data row6 col0\" >0.000206</td>\n",
       "                        <td id=\"T_b4a5ba68_fde7_11eb_94f3_acde48001122row6_col1\" class=\"data row6 col1\" >754.507236</td>\n",
       "                        <td id=\"T_b4a5ba68_fde7_11eb_94f3_acde48001122row6_col2\" class=\"data row6 col2\" >False</td>\n",
       "            </tr>\n",
       "            <tr>\n",
       "                        <th id=\"T_b4a5ba68_fde7_11eb_94f3_acde48001122level0_row7\" class=\"row_heading level0 row7\" >test_indication_Other</th>\n",
       "                        <td id=\"T_b4a5ba68_fde7_11eb_94f3_acde48001122row7_col0\" class=\"data row7 col0\" >0.016214</td>\n",
       "                        <td id=\"T_b4a5ba68_fde7_11eb_94f3_acde48001122row7_col1\" class=\"data row7 col1\" >710.261205</td>\n",
       "                        <td id=\"T_b4a5ba68_fde7_11eb_94f3_acde48001122row7_col2\" class=\"data row7 col2\" >True</td>\n",
       "            </tr>\n",
       "            <tr>\n",
       "                        <th id=\"T_b4a5ba68_fde7_11eb_94f3_acde48001122level0_row8\" class=\"row_heading level0 row8\" >gender_Missing</th>\n",
       "                        <td id=\"T_b4a5ba68_fde7_11eb_94f3_acde48001122row8_col0\" class=\"data row8 col0\" >0.001693</td>\n",
       "                        <td id=\"T_b4a5ba68_fde7_11eb_94f3_acde48001122row8_col1\" class=\"data row8 col1\" >661.563719</td>\n",
       "                        <td id=\"T_b4a5ba68_fde7_11eb_94f3_acde48001122row8_col2\" class=\"data row8 col2\" >False</td>\n",
       "            </tr>\n",
       "            <tr>\n",
       "                        <th id=\"T_b4a5ba68_fde7_11eb_94f3_acde48001122level0_row9\" class=\"row_heading level0 row9\" >age_Missing</th>\n",
       "                        <td id=\"T_b4a5ba68_fde7_11eb_94f3_acde48001122row9_col0\" class=\"data row9 col0\" >0.002993</td>\n",
       "                        <td id=\"T_b4a5ba68_fde7_11eb_94f3_acde48001122row9_col1\" class=\"data row9 col1\" >598.631176</td>\n",
       "                        <td id=\"T_b4a5ba68_fde7_11eb_94f3_acde48001122row9_col2\" class=\"data row9 col2\" >False</td>\n",
       "            </tr>\n",
       "            <tr>\n",
       "                        <th id=\"T_b4a5ba68_fde7_11eb_94f3_acde48001122level0_row10\" class=\"row_heading level0 row10\" >test_indication_Abroad</th>\n",
       "                        <td id=\"T_b4a5ba68_fde7_11eb_94f3_acde48001122row10_col0\" class=\"data row10 col0\" >0.000215</td>\n",
       "                        <td id=\"T_b4a5ba68_fde7_11eb_94f3_acde48001122row10_col1\" class=\"data row10 col1\" >550.946819</td>\n",
       "                        <td id=\"T_b4a5ba68_fde7_11eb_94f3_acde48001122row10_col2\" class=\"data row10 col2\" >False</td>\n",
       "            </tr>\n",
       "            <tr>\n",
       "                        <th id=\"T_b4a5ba68_fde7_11eb_94f3_acde48001122level0_row11\" class=\"row_heading level0 row11\" >age_No</th>\n",
       "                        <td id=\"T_b4a5ba68_fde7_11eb_94f3_acde48001122row11_col0\" class=\"data row11 col0\" >0.000000</td>\n",
       "                        <td id=\"T_b4a5ba68_fde7_11eb_94f3_acde48001122row11_col1\" class=\"data row11 col1\" >393.129661</td>\n",
       "                        <td id=\"T_b4a5ba68_fde7_11eb_94f3_acde48001122row11_col2\" class=\"data row11 col2\" >False</td>\n",
       "            </tr>\n",
       "            <tr>\n",
       "                        <th id=\"T_b4a5ba68_fde7_11eb_94f3_acde48001122level0_row12\" class=\"row_heading level0 row12\" >gender_Male</th>\n",
       "                        <td id=\"T_b4a5ba68_fde7_11eb_94f3_acde48001122row12_col0\" class=\"data row12 col0\" >0.002069</td>\n",
       "                        <td id=\"T_b4a5ba68_fde7_11eb_94f3_acde48001122row12_col1\" class=\"data row12 col1\" >340.249068</td>\n",
       "                        <td id=\"T_b4a5ba68_fde7_11eb_94f3_acde48001122row12_col2\" class=\"data row12 col2\" >False</td>\n",
       "            </tr>\n",
       "            <tr>\n",
       "                        <th id=\"T_b4a5ba68_fde7_11eb_94f3_acde48001122level0_row13\" class=\"row_heading level0 row13\" >gender_Female</th>\n",
       "                        <td id=\"T_b4a5ba68_fde7_11eb_94f3_acde48001122row13_col0\" class=\"data row13 col0\" >0.000787</td>\n",
       "                        <td id=\"T_b4a5ba68_fde7_11eb_94f3_acde48001122row13_col1\" class=\"data row13 col1\" >209.165600</td>\n",
       "                        <td id=\"T_b4a5ba68_fde7_11eb_94f3_acde48001122row13_col2\" class=\"data row13 col2\" >False</td>\n",
       "            </tr>\n",
       "    </tbody></table>"
      ],
      "text/plain": [
       "<pandas.io.formats.style.Styler at 0x7fc6b7567250>"
      ]
     },
     "execution_count": 69,
     "metadata": {},
     "output_type": "execute_result"
    }
   ],
   "source": [
    "merged = df_mi.join(df_chi2.join(df_rfe))\n",
    "merged.sort_values('SelectKBest-chi2', ascending=False).style.apply(highlight_top6)"
   ]
  },
  {
   "cell_type": "markdown",
   "metadata": {},
   "source": [
    "**Findings: align mostly with SelectedKBest and the same as MI**"
   ]
  },
  {
   "cell_type": "code",
   "execution_count": 70,
   "metadata": {},
   "outputs": [],
   "source": [
    "# TO DO:\n",
    "# Why MI and RFE have test_indication_other"
   ]
  },
  {
   "cell_type": "markdown",
   "metadata": {},
   "source": [
    "**Recursive feature elimination with cross validation and random forest classification**"
   ]
  },
  {
   "cell_type": "code",
   "execution_count": 71,
   "metadata": {},
   "outputs": [],
   "source": [
    "from sklearn.feature_selection import RFECV\n",
    "\n",
    "# using the same classifer as original \n",
    "rfecv = RFECV(estimator=model_ori, step=1, cv=5,scoring='f1')   #5-fold cross-validation\n",
    "rfecv = rfecv.fit(x_train, y_train)"
   ]
  },
  {
   "cell_type": "code",
   "execution_count": 72,
   "metadata": {},
   "outputs": [
    {
     "data": {
      "text/html": [
       "<style  type=\"text/css\" >\n",
       "#T_cb427936_fde8_11eb_94f3_acde48001122row0_col0,#T_cb427936_fde8_11eb_94f3_acde48001122row1_col0,#T_cb427936_fde8_11eb_94f3_acde48001122row2_col0,#T_cb427936_fde8_11eb_94f3_acde48001122row3_col0,#T_cb427936_fde8_11eb_94f3_acde48001122row4_col0,#T_cb427936_fde8_11eb_94f3_acde48001122row5_col0,#T_cb427936_fde8_11eb_94f3_acde48001122row6_col0,#T_cb427936_fde8_11eb_94f3_acde48001122row7_col0,#T_cb427936_fde8_11eb_94f3_acde48001122row8_col0,#T_cb427936_fde8_11eb_94f3_acde48001122row9_col0,#T_cb427936_fde8_11eb_94f3_acde48001122row10_col0,#T_cb427936_fde8_11eb_94f3_acde48001122row11_col0,#T_cb427936_fde8_11eb_94f3_acde48001122row12_col0,#T_cb427936_fde8_11eb_94f3_acde48001122row13_col0{\n",
       "            background-color:  green;\n",
       "        }</style><table id=\"T_cb427936_fde8_11eb_94f3_acde48001122\" ><thead>    <tr>        <th class=\"blank level0\" ></th>        <th class=\"col_heading level0 col0\" >RFECV</th>    </tr></thead><tbody>\n",
       "                <tr>\n",
       "                        <th id=\"T_cb427936_fde8_11eb_94f3_acde48001122level0_row0\" class=\"row_heading level0 row0\" >cough</th>\n",
       "                        <td id=\"T_cb427936_fde8_11eb_94f3_acde48001122row0_col0\" class=\"data row0 col0\" >6</td>\n",
       "            </tr>\n",
       "            <tr>\n",
       "                        <th id=\"T_cb427936_fde8_11eb_94f3_acde48001122level0_row1\" class=\"row_heading level0 row1\" >fever</th>\n",
       "                        <td id=\"T_cb427936_fde8_11eb_94f3_acde48001122row1_col0\" class=\"data row1 col0\" >6</td>\n",
       "            </tr>\n",
       "            <tr>\n",
       "                        <th id=\"T_cb427936_fde8_11eb_94f3_acde48001122level0_row2\" class=\"row_heading level0 row2\" >sore_throat</th>\n",
       "                        <td id=\"T_cb427936_fde8_11eb_94f3_acde48001122row2_col0\" class=\"data row2 col0\" >6</td>\n",
       "            </tr>\n",
       "            <tr>\n",
       "                        <th id=\"T_cb427936_fde8_11eb_94f3_acde48001122level0_row3\" class=\"row_heading level0 row3\" >shortness_of_breath</th>\n",
       "                        <td id=\"T_cb427936_fde8_11eb_94f3_acde48001122row3_col0\" class=\"data row3 col0\" >6</td>\n",
       "            </tr>\n",
       "            <tr>\n",
       "                        <th id=\"T_cb427936_fde8_11eb_94f3_acde48001122level0_row4\" class=\"row_heading level0 row4\" >head_ache</th>\n",
       "                        <td id=\"T_cb427936_fde8_11eb_94f3_acde48001122row4_col0\" class=\"data row4 col0\" >6</td>\n",
       "            </tr>\n",
       "            <tr>\n",
       "                        <th id=\"T_cb427936_fde8_11eb_94f3_acde48001122level0_row5\" class=\"row_heading level0 row5\" >age_Missing</th>\n",
       "                        <td id=\"T_cb427936_fde8_11eb_94f3_acde48001122row5_col0\" class=\"data row5 col0\" >6</td>\n",
       "            </tr>\n",
       "            <tr>\n",
       "                        <th id=\"T_cb427936_fde8_11eb_94f3_acde48001122level0_row6\" class=\"row_heading level0 row6\" >age_No</th>\n",
       "                        <td id=\"T_cb427936_fde8_11eb_94f3_acde48001122row6_col0\" class=\"data row6 col0\" >6</td>\n",
       "            </tr>\n",
       "            <tr>\n",
       "                        <th id=\"T_cb427936_fde8_11eb_94f3_acde48001122level0_row7\" class=\"row_heading level0 row7\" >age_Yes</th>\n",
       "                        <td id=\"T_cb427936_fde8_11eb_94f3_acde48001122row7_col0\" class=\"data row7 col0\" >6</td>\n",
       "            </tr>\n",
       "            <tr>\n",
       "                        <th id=\"T_cb427936_fde8_11eb_94f3_acde48001122level0_row8\" class=\"row_heading level0 row8\" >gender_Female</th>\n",
       "                        <td id=\"T_cb427936_fde8_11eb_94f3_acde48001122row8_col0\" class=\"data row8 col0\" >6</td>\n",
       "            </tr>\n",
       "            <tr>\n",
       "                        <th id=\"T_cb427936_fde8_11eb_94f3_acde48001122level0_row9\" class=\"row_heading level0 row9\" >gender_Male</th>\n",
       "                        <td id=\"T_cb427936_fde8_11eb_94f3_acde48001122row9_col0\" class=\"data row9 col0\" >6</td>\n",
       "            </tr>\n",
       "            <tr>\n",
       "                        <th id=\"T_cb427936_fde8_11eb_94f3_acde48001122level0_row10\" class=\"row_heading level0 row10\" >gender_Missing</th>\n",
       "                        <td id=\"T_cb427936_fde8_11eb_94f3_acde48001122row10_col0\" class=\"data row10 col0\" >6</td>\n",
       "            </tr>\n",
       "            <tr>\n",
       "                        <th id=\"T_cb427936_fde8_11eb_94f3_acde48001122level0_row11\" class=\"row_heading level0 row11\" >test_indication_Abroad</th>\n",
       "                        <td id=\"T_cb427936_fde8_11eb_94f3_acde48001122row11_col0\" class=\"data row11 col0\" >6</td>\n",
       "            </tr>\n",
       "            <tr>\n",
       "                        <th id=\"T_cb427936_fde8_11eb_94f3_acde48001122level0_row12\" class=\"row_heading level0 row12\" >test_indication_Contact with confirmed</th>\n",
       "                        <td id=\"T_cb427936_fde8_11eb_94f3_acde48001122row12_col0\" class=\"data row12 col0\" >6</td>\n",
       "            </tr>\n",
       "            <tr>\n",
       "                        <th id=\"T_cb427936_fde8_11eb_94f3_acde48001122level0_row13\" class=\"row_heading level0 row13\" >test_indication_Other</th>\n",
       "                        <td id=\"T_cb427936_fde8_11eb_94f3_acde48001122row13_col0\" class=\"data row13 col0\" >6</td>\n",
       "            </tr>\n",
       "    </tbody></table>"
      ],
      "text/plain": [
       "<pandas.io.formats.style.Styler at 0x7fc6b614a280>"
      ]
     },
     "execution_count": 72,
     "metadata": {},
     "output_type": "execute_result"
    }
   ],
   "source": [
    "df_RFECV = pd.DataFrame(rfecv.n_features_, index=x_train.columns, columns=['RFECV'])\n",
    "df_RFECV.sort_values('RFECV', ascending=False).style.apply(highlight_top6)"
   ]
  },
  {
   "cell_type": "markdown",
   "metadata": {},
   "source": [
    "grid_scores_ : array of shape [n_subsets_of_features]\n",
    "The cross-validation scores such that grid_scores_[i] corresponds to the CV score of the i-th subset of features."
   ]
  },
  {
   "cell_type": "code",
   "execution_count": 73,
   "metadata": {
    "scrolled": false
   },
   "outputs": [
    {
     "data": {
      "image/png": "[encoded data removed]",
      "text/plain": [
       "<Figure size 1080x1080 with 1 Axes>"
      ]
     },
     "metadata": {},
     "output_type": "display_data"
    }
   ],
   "source": [
    "# Plot number of features VS. cross-validation scores\n",
    "import matplotlib.pyplot as plt\n",
    "plt.figure()\n",
    "plt.xlabel(\"Number of features selected\")\n",
    "plt.ylabel(\"Cross validation score of number of selected features\")\n",
    "plt.plot(range(1, len(rfecv.grid_scores_) + 1), rfecv.grid_scores_)\n",
    "plt.show()"
   ]
  },
  {
   "cell_type": "markdown",
   "metadata": {},
   "source": [
    "**Findings: we can observe the validation score peaks at 8 features**"
   ]
  },
  {
   "cell_type": "markdown",
   "metadata": {},
   "source": [
    "### 5.3.3 Feature Selection - Embedded Methods"
   ]
  },
  {
   "cell_type": "markdown",
   "metadata": {},
   "source": [
    "**Random Forest Importance**"
   ]
  },
  {
   "cell_type": "code",
   "execution_count": 74,
   "metadata": {},
   "outputs": [],
   "source": [
    "clf_rf_5 = RandomForestClassifier()      \n",
    "clr_rf_5 = clf_rf_5.fit(x_train,y_train)\n",
    "importances = clr_rf_5.feature_importances_\n",
    "std = np.std([tree.feature_importances_ for tree in clf_rf_5.estimators_],\n",
    "             axis=0)\n",
    "indices = np.argsort(importances)[::-1]"
   ]
  },
  {
   "cell_type": "code",
   "execution_count": 75,
   "metadata": {
    "scrolled": false
   },
   "outputs": [
    {
     "data": {
      "text/html": [
       "<style  type=\"text/css\" >\n",
       "#T_d109fa24_fde8_11eb_94f3_acde48001122row0_col0,#T_d109fa24_fde8_11eb_94f3_acde48001122row1_col0,#T_d109fa24_fde8_11eb_94f3_acde48001122row2_col0,#T_d109fa24_fde8_11eb_94f3_acde48001122row3_col0,#T_d109fa24_fde8_11eb_94f3_acde48001122row4_col0,#T_d109fa24_fde8_11eb_94f3_acde48001122row5_col0{\n",
       "            background-color:  green;\n",
       "        }</style><table id=\"T_d109fa24_fde8_11eb_94f3_acde48001122\" ><thead>    <tr>        <th class=\"blank level0\" ></th>        <th class=\"col_heading level0 col0\" >RF_importance</th>    </tr></thead><tbody>\n",
       "                <tr>\n",
       "                        <th id=\"T_d109fa24_fde8_11eb_94f3_acde48001122level0_row0\" class=\"row_heading level0 row0\" >test_indication_Contact with confirmed</th>\n",
       "                        <td id=\"T_d109fa24_fde8_11eb_94f3_acde48001122row0_col0\" class=\"data row0 col0\" >0.211744</td>\n",
       "            </tr>\n",
       "            <tr>\n",
       "                        <th id=\"T_d109fa24_fde8_11eb_94f3_acde48001122level0_row1\" class=\"row_heading level0 row1\" >fever</th>\n",
       "                        <td id=\"T_d109fa24_fde8_11eb_94f3_acde48001122row1_col0\" class=\"data row1 col0\" >0.185490</td>\n",
       "            </tr>\n",
       "            <tr>\n",
       "                        <th id=\"T_d109fa24_fde8_11eb_94f3_acde48001122level0_row2\" class=\"row_heading level0 row2\" >test_indication_Other</th>\n",
       "                        <td id=\"T_d109fa24_fde8_11eb_94f3_acde48001122row2_col0\" class=\"data row2 col0\" >0.181899</td>\n",
       "            </tr>\n",
       "            <tr>\n",
       "                        <th id=\"T_d109fa24_fde8_11eb_94f3_acde48001122level0_row3\" class=\"row_heading level0 row3\" >head_ache</th>\n",
       "                        <td id=\"T_d109fa24_fde8_11eb_94f3_acde48001122row3_col0\" class=\"data row3 col0\" >0.141699</td>\n",
       "            </tr>\n",
       "            <tr>\n",
       "                        <th id=\"T_d109fa24_fde8_11eb_94f3_acde48001122level0_row4\" class=\"row_heading level0 row4\" >cough</th>\n",
       "                        <td id=\"T_d109fa24_fde8_11eb_94f3_acde48001122row4_col0\" class=\"data row4 col0\" >0.119660</td>\n",
       "            </tr>\n",
       "            <tr>\n",
       "                        <th id=\"T_d109fa24_fde8_11eb_94f3_acde48001122level0_row5\" class=\"row_heading level0 row5\" >sore_throat</th>\n",
       "                        <td id=\"T_d109fa24_fde8_11eb_94f3_acde48001122row5_col0\" class=\"data row5 col0\" >0.054607</td>\n",
       "            </tr>\n",
       "            <tr>\n",
       "                        <th id=\"T_d109fa24_fde8_11eb_94f3_acde48001122level0_row6\" class=\"row_heading level0 row6\" >test_indication_Abroad</th>\n",
       "                        <td id=\"T_d109fa24_fde8_11eb_94f3_acde48001122row6_col0\" class=\"data row6 col0\" >0.024789</td>\n",
       "            </tr>\n",
       "            <tr>\n",
       "                        <th id=\"T_d109fa24_fde8_11eb_94f3_acde48001122level0_row7\" class=\"row_heading level0 row7\" >age_Missing</th>\n",
       "                        <td id=\"T_d109fa24_fde8_11eb_94f3_acde48001122row7_col0\" class=\"data row7 col0\" >0.020187</td>\n",
       "            </tr>\n",
       "            <tr>\n",
       "                        <th id=\"T_d109fa24_fde8_11eb_94f3_acde48001122level0_row8\" class=\"row_heading level0 row8\" >gender_Missing</th>\n",
       "                        <td id=\"T_d109fa24_fde8_11eb_94f3_acde48001122row8_col0\" class=\"data row8 col0\" >0.015581</td>\n",
       "            </tr>\n",
       "            <tr>\n",
       "                        <th id=\"T_d109fa24_fde8_11eb_94f3_acde48001122level0_row9\" class=\"row_heading level0 row9\" >age_Yes</th>\n",
       "                        <td id=\"T_d109fa24_fde8_11eb_94f3_acde48001122row9_col0\" class=\"data row9 col0\" >0.012047</td>\n",
       "            </tr>\n",
       "            <tr>\n",
       "                        <th id=\"T_d109fa24_fde8_11eb_94f3_acde48001122level0_row10\" class=\"row_heading level0 row10\" >shortness_of_breath</th>\n",
       "                        <td id=\"T_d109fa24_fde8_11eb_94f3_acde48001122row10_col0\" class=\"data row10 col0\" >0.010117</td>\n",
       "            </tr>\n",
       "            <tr>\n",
       "                        <th id=\"T_d109fa24_fde8_11eb_94f3_acde48001122level0_row11\" class=\"row_heading level0 row11\" >age_No</th>\n",
       "                        <td id=\"T_d109fa24_fde8_11eb_94f3_acde48001122row11_col0\" class=\"data row11 col0\" >0.008757</td>\n",
       "            </tr>\n",
       "            <tr>\n",
       "                        <th id=\"T_d109fa24_fde8_11eb_94f3_acde48001122level0_row12\" class=\"row_heading level0 row12\" >gender_Male</th>\n",
       "                        <td id=\"T_d109fa24_fde8_11eb_94f3_acde48001122row12_col0\" class=\"data row12 col0\" >0.007280</td>\n",
       "            </tr>\n",
       "            <tr>\n",
       "                        <th id=\"T_d109fa24_fde8_11eb_94f3_acde48001122level0_row13\" class=\"row_heading level0 row13\" >gender_Female</th>\n",
       "                        <td id=\"T_d109fa24_fde8_11eb_94f3_acde48001122row13_col0\" class=\"data row13 col0\" >0.006142</td>\n",
       "            </tr>\n",
       "    </tbody></table>"
      ],
      "text/plain": [
       "<pandas.io.formats.style.Styler at 0x7fc6b4ac1d90>"
      ]
     },
     "execution_count": 75,
     "metadata": {},
     "output_type": "execute_result"
    }
   ],
   "source": [
    "df_RF_importance = pd.DataFrame(clr_rf_5.feature_importances_, index=x_train.columns, columns=['RF_importance'])\n",
    "df_RF_importance.sort_values('RF_importance', ascending=False).style.apply(highlight_top6)"
   ]
  },
  {
   "cell_type": "code",
   "execution_count": 76,
   "metadata": {},
   "outputs": [
    {
     "data": {
      "text/html": [
       "<style  type=\"text/css\" >\n",
       "#T_d10c33fc_fde8_11eb_94f3_acde48001122row0_col0,#T_d10c33fc_fde8_11eb_94f3_acde48001122row0_col1,#T_d10c33fc_fde8_11eb_94f3_acde48001122row0_col2,#T_d10c33fc_fde8_11eb_94f3_acde48001122row0_col3,#T_d10c33fc_fde8_11eb_94f3_acde48001122row1_col0,#T_d10c33fc_fde8_11eb_94f3_acde48001122row1_col1,#T_d10c33fc_fde8_11eb_94f3_acde48001122row1_col2,#T_d10c33fc_fde8_11eb_94f3_acde48001122row1_col3,#T_d10c33fc_fde8_11eb_94f3_acde48001122row2_col0,#T_d10c33fc_fde8_11eb_94f3_acde48001122row2_col1,#T_d10c33fc_fde8_11eb_94f3_acde48001122row2_col2,#T_d10c33fc_fde8_11eb_94f3_acde48001122row2_col3,#T_d10c33fc_fde8_11eb_94f3_acde48001122row3_col0,#T_d10c33fc_fde8_11eb_94f3_acde48001122row3_col1,#T_d10c33fc_fde8_11eb_94f3_acde48001122row3_col2,#T_d10c33fc_fde8_11eb_94f3_acde48001122row3_col3,#T_d10c33fc_fde8_11eb_94f3_acde48001122row4_col0,#T_d10c33fc_fde8_11eb_94f3_acde48001122row4_col1,#T_d10c33fc_fde8_11eb_94f3_acde48001122row4_col2,#T_d10c33fc_fde8_11eb_94f3_acde48001122row4_col3,#T_d10c33fc_fde8_11eb_94f3_acde48001122row5_col1,#T_d10c33fc_fde8_11eb_94f3_acde48001122row7_col0,#T_d10c33fc_fde8_11eb_94f3_acde48001122row7_col2,#T_d10c33fc_fde8_11eb_94f3_acde48001122row7_col3{\n",
       "            background-color:  green;\n",
       "        }</style><table id=\"T_d10c33fc_fde8_11eb_94f3_acde48001122\" ><thead>    <tr>        <th class=\"blank level0\" ></th>        <th class=\"col_heading level0 col0\" >mutual_info_reg</th>        <th class=\"col_heading level0 col1\" >SelectKBest-chi2</th>        <th class=\"col_heading level0 col2\" >RFE</th>        <th class=\"col_heading level0 col3\" >RF_importance</th>    </tr></thead><tbody>\n",
       "                <tr>\n",
       "                        <th id=\"T_d10c33fc_fde8_11eb_94f3_acde48001122level0_row0\" class=\"row_heading level0 row0\" >test_indication_Contact with confirmed</th>\n",
       "                        <td id=\"T_d10c33fc_fde8_11eb_94f3_acde48001122row0_col0\" class=\"data row0 col0\" >0.016277</td>\n",
       "                        <td id=\"T_d10c33fc_fde8_11eb_94f3_acde48001122row0_col1\" class=\"data row0 col1\" >97792.214762</td>\n",
       "                        <td id=\"T_d10c33fc_fde8_11eb_94f3_acde48001122row0_col2\" class=\"data row0 col2\" >True</td>\n",
       "                        <td id=\"T_d10c33fc_fde8_11eb_94f3_acde48001122row0_col3\" class=\"data row0 col3\" >0.211744</td>\n",
       "            </tr>\n",
       "            <tr>\n",
       "                        <th id=\"T_d10c33fc_fde8_11eb_94f3_acde48001122level0_row1\" class=\"row_heading level0 row1\" >fever</th>\n",
       "                        <td id=\"T_d10c33fc_fde8_11eb_94f3_acde48001122row1_col0\" class=\"data row1 col0\" >0.011105</td>\n",
       "                        <td id=\"T_d10c33fc_fde8_11eb_94f3_acde48001122row1_col1\" class=\"data row1 col1\" >70120.384480</td>\n",
       "                        <td id=\"T_d10c33fc_fde8_11eb_94f3_acde48001122row1_col2\" class=\"data row1 col2\" >True</td>\n",
       "                        <td id=\"T_d10c33fc_fde8_11eb_94f3_acde48001122row1_col3\" class=\"data row1 col3\" >0.185490</td>\n",
       "            </tr>\n",
       "            <tr>\n",
       "                        <th id=\"T_d10c33fc_fde8_11eb_94f3_acde48001122level0_row2\" class=\"row_heading level0 row2\" >head_ache</th>\n",
       "                        <td id=\"T_d10c33fc_fde8_11eb_94f3_acde48001122row2_col0\" class=\"data row2 col0\" >0.008253</td>\n",
       "                        <td id=\"T_d10c33fc_fde8_11eb_94f3_acde48001122row2_col1\" class=\"data row2 col1\" >62286.259488</td>\n",
       "                        <td id=\"T_d10c33fc_fde8_11eb_94f3_acde48001122row2_col2\" class=\"data row2 col2\" >True</td>\n",
       "                        <td id=\"T_d10c33fc_fde8_11eb_94f3_acde48001122row2_col3\" class=\"data row2 col3\" >0.141699</td>\n",
       "            </tr>\n",
       "            <tr>\n",
       "                        <th id=\"T_d10c33fc_fde8_11eb_94f3_acde48001122level0_row3\" class=\"row_heading level0 row3\" >cough</th>\n",
       "                        <td id=\"T_d10c33fc_fde8_11eb_94f3_acde48001122row3_col0\" class=\"data row3 col0\" >0.008175</td>\n",
       "                        <td id=\"T_d10c33fc_fde8_11eb_94f3_acde48001122row3_col1\" class=\"data row3 col1\" >56200.021071</td>\n",
       "                        <td id=\"T_d10c33fc_fde8_11eb_94f3_acde48001122row3_col2\" class=\"data row3 col2\" >True</td>\n",
       "                        <td id=\"T_d10c33fc_fde8_11eb_94f3_acde48001122row3_col3\" class=\"data row3 col3\" >0.119660</td>\n",
       "            </tr>\n",
       "            <tr>\n",
       "                        <th id=\"T_d10c33fc_fde8_11eb_94f3_acde48001122level0_row4\" class=\"row_heading level0 row4\" >sore_throat</th>\n",
       "                        <td id=\"T_d10c33fc_fde8_11eb_94f3_acde48001122row4_col0\" class=\"data row4 col0\" >0.003738</td>\n",
       "                        <td id=\"T_d10c33fc_fde8_11eb_94f3_acde48001122row4_col1\" class=\"data row4 col1\" >30008.323534</td>\n",
       "                        <td id=\"T_d10c33fc_fde8_11eb_94f3_acde48001122row4_col2\" class=\"data row4 col2\" >True</td>\n",
       "                        <td id=\"T_d10c33fc_fde8_11eb_94f3_acde48001122row4_col3\" class=\"data row4 col3\" >0.054607</td>\n",
       "            </tr>\n",
       "            <tr>\n",
       "                        <th id=\"T_d10c33fc_fde8_11eb_94f3_acde48001122level0_row5\" class=\"row_heading level0 row5\" >shortness_of_breath</th>\n",
       "                        <td id=\"T_d10c33fc_fde8_11eb_94f3_acde48001122row5_col0\" class=\"data row5 col0\" >0.001474</td>\n",
       "                        <td id=\"T_d10c33fc_fde8_11eb_94f3_acde48001122row5_col1\" class=\"data row5 col1\" >4462.521708</td>\n",
       "                        <td id=\"T_d10c33fc_fde8_11eb_94f3_acde48001122row5_col2\" class=\"data row5 col2\" >False</td>\n",
       "                        <td id=\"T_d10c33fc_fde8_11eb_94f3_acde48001122row5_col3\" class=\"data row5 col3\" >0.010117</td>\n",
       "            </tr>\n",
       "            <tr>\n",
       "                        <th id=\"T_d10c33fc_fde8_11eb_94f3_acde48001122level0_row6\" class=\"row_heading level0 row6\" >age_Yes</th>\n",
       "                        <td id=\"T_d10c33fc_fde8_11eb_94f3_acde48001122row6_col0\" class=\"data row6 col0\" >0.000206</td>\n",
       "                        <td id=\"T_d10c33fc_fde8_11eb_94f3_acde48001122row6_col1\" class=\"data row6 col1\" >754.507236</td>\n",
       "                        <td id=\"T_d10c33fc_fde8_11eb_94f3_acde48001122row6_col2\" class=\"data row6 col2\" >False</td>\n",
       "                        <td id=\"T_d10c33fc_fde8_11eb_94f3_acde48001122row6_col3\" class=\"data row6 col3\" >0.012047</td>\n",
       "            </tr>\n",
       "            <tr>\n",
       "                        <th id=\"T_d10c33fc_fde8_11eb_94f3_acde48001122level0_row7\" class=\"row_heading level0 row7\" >test_indication_Other</th>\n",
       "                        <td id=\"T_d10c33fc_fde8_11eb_94f3_acde48001122row7_col0\" class=\"data row7 col0\" >0.016214</td>\n",
       "                        <td id=\"T_d10c33fc_fde8_11eb_94f3_acde48001122row7_col1\" class=\"data row7 col1\" >710.261205</td>\n",
       "                        <td id=\"T_d10c33fc_fde8_11eb_94f3_acde48001122row7_col2\" class=\"data row7 col2\" >True</td>\n",
       "                        <td id=\"T_d10c33fc_fde8_11eb_94f3_acde48001122row7_col3\" class=\"data row7 col3\" >0.181899</td>\n",
       "            </tr>\n",
       "            <tr>\n",
       "                        <th id=\"T_d10c33fc_fde8_11eb_94f3_acde48001122level0_row8\" class=\"row_heading level0 row8\" >gender_Missing</th>\n",
       "                        <td id=\"T_d10c33fc_fde8_11eb_94f3_acde48001122row8_col0\" class=\"data row8 col0\" >0.001693</td>\n",
       "                        <td id=\"T_d10c33fc_fde8_11eb_94f3_acde48001122row8_col1\" class=\"data row8 col1\" >661.563719</td>\n",
       "                        <td id=\"T_d10c33fc_fde8_11eb_94f3_acde48001122row8_col2\" class=\"data row8 col2\" >False</td>\n",
       "                        <td id=\"T_d10c33fc_fde8_11eb_94f3_acde48001122row8_col3\" class=\"data row8 col3\" >0.015581</td>\n",
       "            </tr>\n",
       "            <tr>\n",
       "                        <th id=\"T_d10c33fc_fde8_11eb_94f3_acde48001122level0_row9\" class=\"row_heading level0 row9\" >age_Missing</th>\n",
       "                        <td id=\"T_d10c33fc_fde8_11eb_94f3_acde48001122row9_col0\" class=\"data row9 col0\" >0.002993</td>\n",
       "                        <td id=\"T_d10c33fc_fde8_11eb_94f3_acde48001122row9_col1\" class=\"data row9 col1\" >598.631176</td>\n",
       "                        <td id=\"T_d10c33fc_fde8_11eb_94f3_acde48001122row9_col2\" class=\"data row9 col2\" >False</td>\n",
       "                        <td id=\"T_d10c33fc_fde8_11eb_94f3_acde48001122row9_col3\" class=\"data row9 col3\" >0.020187</td>\n",
       "            </tr>\n",
       "            <tr>\n",
       "                        <th id=\"T_d10c33fc_fde8_11eb_94f3_acde48001122level0_row10\" class=\"row_heading level0 row10\" >test_indication_Abroad</th>\n",
       "                        <td id=\"T_d10c33fc_fde8_11eb_94f3_acde48001122row10_col0\" class=\"data row10 col0\" >0.000215</td>\n",
       "                        <td id=\"T_d10c33fc_fde8_11eb_94f3_acde48001122row10_col1\" class=\"data row10 col1\" >550.946819</td>\n",
       "                        <td id=\"T_d10c33fc_fde8_11eb_94f3_acde48001122row10_col2\" class=\"data row10 col2\" >False</td>\n",
       "                        <td id=\"T_d10c33fc_fde8_11eb_94f3_acde48001122row10_col3\" class=\"data row10 col3\" >0.024789</td>\n",
       "            </tr>\n",
       "            <tr>\n",
       "                        <th id=\"T_d10c33fc_fde8_11eb_94f3_acde48001122level0_row11\" class=\"row_heading level0 row11\" >age_No</th>\n",
       "                        <td id=\"T_d10c33fc_fde8_11eb_94f3_acde48001122row11_col0\" class=\"data row11 col0\" >0.000000</td>\n",
       "                        <td id=\"T_d10c33fc_fde8_11eb_94f3_acde48001122row11_col1\" class=\"data row11 col1\" >393.129661</td>\n",
       "                        <td id=\"T_d10c33fc_fde8_11eb_94f3_acde48001122row11_col2\" class=\"data row11 col2\" >False</td>\n",
       "                        <td id=\"T_d10c33fc_fde8_11eb_94f3_acde48001122row11_col3\" class=\"data row11 col3\" >0.008757</td>\n",
       "            </tr>\n",
       "            <tr>\n",
       "                        <th id=\"T_d10c33fc_fde8_11eb_94f3_acde48001122level0_row12\" class=\"row_heading level0 row12\" >gender_Male</th>\n",
       "                        <td id=\"T_d10c33fc_fde8_11eb_94f3_acde48001122row12_col0\" class=\"data row12 col0\" >0.002069</td>\n",
       "                        <td id=\"T_d10c33fc_fde8_11eb_94f3_acde48001122row12_col1\" class=\"data row12 col1\" >340.249068</td>\n",
       "                        <td id=\"T_d10c33fc_fde8_11eb_94f3_acde48001122row12_col2\" class=\"data row12 col2\" >False</td>\n",
       "                        <td id=\"T_d10c33fc_fde8_11eb_94f3_acde48001122row12_col3\" class=\"data row12 col3\" >0.007280</td>\n",
       "            </tr>\n",
       "            <tr>\n",
       "                        <th id=\"T_d10c33fc_fde8_11eb_94f3_acde48001122level0_row13\" class=\"row_heading level0 row13\" >gender_Female</th>\n",
       "                        <td id=\"T_d10c33fc_fde8_11eb_94f3_acde48001122row13_col0\" class=\"data row13 col0\" >0.000787</td>\n",
       "                        <td id=\"T_d10c33fc_fde8_11eb_94f3_acde48001122row13_col1\" class=\"data row13 col1\" >209.165600</td>\n",
       "                        <td id=\"T_d10c33fc_fde8_11eb_94f3_acde48001122row13_col2\" class=\"data row13 col2\" >False</td>\n",
       "                        <td id=\"T_d10c33fc_fde8_11eb_94f3_acde48001122row13_col3\" class=\"data row13 col3\" >0.006142</td>\n",
       "            </tr>\n",
       "    </tbody></table>"
      ],
      "text/plain": [
       "<pandas.io.formats.style.Styler at 0x7fc6b61c7040>"
      ]
     },
     "execution_count": 76,
     "metadata": {},
     "output_type": "execute_result"
    }
   ],
   "source": [
    "merged = merged.join(df_RF_importance)\n",
    "merged.sort_values('SelectKBest-chi2', ascending=False).style.apply(highlight_top6)"
   ]
  },
  {
   "cell_type": "code",
   "execution_count": 77,
   "metadata": {},
   "outputs": [
    {
     "data": {
      "image/png": "[encoded data removed]",
      "text/plain": [
       "<Figure size 1008x936 with 1 Axes>"
      ]
     },
     "metadata": {},
     "output_type": "display_data"
    }
   ],
   "source": [
    "#  to determine how many should be selected\n",
    "\n",
    "# Plot the feature importances of the forest\n",
    "plt.figure(1, figsize=(14, 13))\n",
    "plt.title(\"Feature importances\")\n",
    "plt.bar(range(x_train.shape[1]), importances[indices],\n",
    "     color=\"g\", yerr=std[indices], align=\"center\")\n",
    "plt.xticks(range(x_train.shape[1]), x_train.columns[indices],rotation=90)\n",
    "plt.xlim([-1, x_train.shape[1]])\n",
    "plt.show()"
   ]
  },
  {
   "cell_type": "markdown",
   "metadata": {},
   "source": [
    "**Feature Extraction with PCA**"
   ]
  },
  {
   "cell_type": "code",
   "execution_count": 78,
   "metadata": {
    "scrolled": false
   },
   "outputs": [
    {
     "data": {
      "image/png": "[encoded data removed]",
      "text/plain": [
       "<Figure size 1008x936 with 1 Axes>"
      ]
     },
     "metadata": {},
     "output_type": "display_data"
    }
   ],
   "source": [
    "#  to determine how many should be selected\n",
    "from sklearn.decomposition import PCA\n",
    "pca = PCA()\n",
    "pca.fit(x_train)\n",
    "\n",
    "plt.figure(1, figsize=(14, 13))\n",
    "plt.clf()\n",
    "plt.axes([.2, .2, .7, .7])\n",
    "plt.plot(pca.explained_variance_ratio_, linewidth=2)\n",
    "plt.axis('tight')\n",
    "plt.xlabel('n_components')\n",
    "plt.ylabel('explained_variance_ratio_');"
   ]
  },
  {
   "cell_type": "markdown",
   "metadata": {},
   "source": [
    "6 features are definitely enough"
   ]
  },
  {
   "cell_type": "markdown",
   "metadata": {},
   "source": [
    "**Conclusion: We believe it's safe to select the top 6 features: \n",
    "'test_indication_Contact with confirmed', 'head_ache', 'fever', 'cough','sore_throat','shortness_of_breath'"
   ]
  },
  {
   "cell_type": "markdown",
   "metadata": {},
   "source": [
    "### 5.4.1 6-feature selection method comparison"
   ]
  },
  {
   "cell_type": "code",
   "execution_count": 79,
   "metadata": {},
   "outputs": [],
   "source": [
    "#prepare the selected dataset with the 6th being test_indication_Other\n",
    "selected_columns = ['test_indication_Contact with confirmed', 'head_ache', 'fever', 'cough','sore_throat','test_indication_Other']\n",
    "# X_selected = X_filled.drop(\"corona_result\", axis = 1)\n",
    "X_selected = X_filled[X_filled.columns[X_filled.columns.isin(selected_columns)]]"
   ]
  },
  {
   "cell_type": "code",
   "execution_count": 80,
   "metadata": {},
   "outputs": [],
   "source": [
    "# update the train and test split\n",
    "x_train, x_test, y_train, y_test = train_test_split(X_selected, y_filled, test_size=0.2, random_state=0)"
   ]
  },
  {
   "cell_type": "code",
   "execution_count": 81,
   "metadata": {},
   "outputs": [],
   "source": [
    "y_pred = make_y_pred(x_train, x_test, y_train)"
   ]
  },
  {
   "cell_type": "code",
   "execution_count": 82,
   "metadata": {
    "scrolled": true
   },
   "outputs": [
    {
     "data": {
      "text/html": [
       "<div>\n",
       "<style scoped>\n",
       "    .dataframe tbody tr th:only-of-type {\n",
       "        vertical-align: middle;\n",
       "    }\n",
       "\n",
       "    .dataframe tbody tr th {\n",
       "        vertical-align: top;\n",
       "    }\n",
       "\n",
       "    .dataframe thead th {\n",
       "        text-align: right;\n",
       "    }\n",
       "</style>\n",
       "<table border=\"1\" class=\"dataframe\">\n",
       "  <thead>\n",
       "    <tr style=\"text-align: right;\">\n",
       "      <th></th>\n",
       "      <th>Method</th>\n",
       "      <th>All other 3 methods</th>\n",
       "    </tr>\n",
       "  </thead>\n",
       "  <tbody>\n",
       "    <tr>\n",
       "      <th>0</th>\n",
       "      <td>Balanced Accuracy</td>\n",
       "      <td>0.855055</td>\n",
       "    </tr>\n",
       "    <tr>\n",
       "      <th>1</th>\n",
       "      <td>Sensitivity</td>\n",
       "      <td>0.994358</td>\n",
       "    </tr>\n",
       "    <tr>\n",
       "      <th>2</th>\n",
       "      <td>Specificity</td>\n",
       "      <td>0.715753</td>\n",
       "    </tr>\n",
       "    <tr>\n",
       "      <th>3</th>\n",
       "      <td>AUROC</td>\n",
       "      <td>0.855055</td>\n",
       "    </tr>\n",
       "    <tr>\n",
       "      <th>4</th>\n",
       "      <td>F1</td>\n",
       "      <td>0.690995</td>\n",
       "    </tr>\n",
       "    <tr>\n",
       "      <th>5</th>\n",
       "      <td>Geometric Mean</td>\n",
       "      <td>0.843632</td>\n",
       "    </tr>\n",
       "    <tr>\n",
       "      <th>6</th>\n",
       "      <td>Macro Average MAE</td>\n",
       "      <td>0.144945</td>\n",
       "    </tr>\n",
       "  </tbody>\n",
       "</table>\n",
       "</div>"
      ],
      "text/plain": [
       "              Method  All other 3 methods\n",
       "0  Balanced Accuracy             0.855055\n",
       "1        Sensitivity             0.994358\n",
       "2        Specificity             0.715753\n",
       "3              AUROC             0.855055\n",
       "4                 F1             0.690995\n",
       "5     Geometric Mean             0.843632\n",
       "6  Macro Average MAE             0.144945"
      ]
     },
     "execution_count": 82,
     "metadata": {},
     "output_type": "execute_result"
    }
   ],
   "source": [
    "results_other = pd.DataFrame(evaluate_imbalanced(y_test, y_pred).items(),columns=['Method', 'All other 3 methods'])\n",
    "results_other"
   ]
  },
  {
   "cell_type": "code",
   "execution_count": 83,
   "metadata": {},
   "outputs": [
    {
     "data": {
      "text/html": [
       "<div>\n",
       "<style scoped>\n",
       "    .dataframe tbody tr th:only-of-type {\n",
       "        vertical-align: middle;\n",
       "    }\n",
       "\n",
       "    .dataframe tbody tr th {\n",
       "        vertical-align: top;\n",
       "    }\n",
       "\n",
       "    .dataframe thead th {\n",
       "        text-align: right;\n",
       "    }\n",
       "</style>\n",
       "<table border=\"1\" class=\"dataframe\">\n",
       "  <thead>\n",
       "    <tr style=\"text-align: right;\">\n",
       "      <th></th>\n",
       "      <th>Original</th>\n",
       "      <th>SelectedKBest-chi2</th>\n",
       "      <th>All other 3 methods</th>\n",
       "      <th>original vs other 3 %</th>\n",
       "      <th>original vs sel-chi2 %</th>\n",
       "    </tr>\n",
       "    <tr>\n",
       "      <th>Method</th>\n",
       "      <th></th>\n",
       "      <th></th>\n",
       "      <th></th>\n",
       "      <th></th>\n",
       "      <th></th>\n",
       "    </tr>\n",
       "  </thead>\n",
       "  <tbody>\n",
       "    <tr>\n",
       "      <th>Balanced Accuracy</th>\n",
       "      <td>0.824516</td>\n",
       "      <td>0.831920</td>\n",
       "      <td>0.855055</td>\n",
       "      <td>3.7%</td>\n",
       "      <td>0.9%</td>\n",
       "    </tr>\n",
       "    <tr>\n",
       "      <th>Sensitivity</th>\n",
       "      <td>0.994691</td>\n",
       "      <td>0.993853</td>\n",
       "      <td>0.994358</td>\n",
       "      <td>-0.03%</td>\n",
       "      <td>-0.08%</td>\n",
       "    </tr>\n",
       "    <tr>\n",
       "      <th>Specificity</th>\n",
       "      <td>0.654340</td>\n",
       "      <td>0.669988</td>\n",
       "      <td>0.715753</td>\n",
       "      <td>9.39%</td>\n",
       "      <td>2.39%</td>\n",
       "    </tr>\n",
       "    <tr>\n",
       "      <th>AUROC</th>\n",
       "      <td>0.824516</td>\n",
       "      <td>0.831920</td>\n",
       "      <td>0.855055</td>\n",
       "      <td>3.7%</td>\n",
       "      <td>0.9%</td>\n",
       "    </tr>\n",
       "    <tr>\n",
       "      <th>F1</th>\n",
       "      <td>0.684547</td>\n",
       "      <td>0.657485</td>\n",
       "      <td>0.690995</td>\n",
       "      <td>0.94%</td>\n",
       "      <td>-3.95%</td>\n",
       "    </tr>\n",
       "    <tr>\n",
       "      <th>Geometric Mean</th>\n",
       "      <td>0.806763</td>\n",
       "      <td>0.816008</td>\n",
       "      <td>0.843632</td>\n",
       "      <td>4.57%</td>\n",
       "      <td>1.15%</td>\n",
       "    </tr>\n",
       "    <tr>\n",
       "      <th>Macro Average MAE</th>\n",
       "      <td>0.175484</td>\n",
       "      <td>0.168080</td>\n",
       "      <td>0.144945</td>\n",
       "      <td>-17.4%</td>\n",
       "      <td>-4.22%</td>\n",
       "    </tr>\n",
       "  </tbody>\n",
       "</table>\n",
       "</div>"
      ],
      "text/plain": [
       "                   Original  SelectedKBest-chi2  All other 3 methods  \\\n",
       "Method                                                                 \n",
       "Balanced Accuracy  0.824516            0.831920             0.855055   \n",
       "Sensitivity        0.994691            0.993853             0.994358   \n",
       "Specificity        0.654340            0.669988             0.715753   \n",
       "AUROC              0.824516            0.831920             0.855055   \n",
       "F1                 0.684547            0.657485             0.690995   \n",
       "Geometric Mean     0.806763            0.816008             0.843632   \n",
       "Macro Average MAE  0.175484            0.168080             0.144945   \n",
       "\n",
       "                  original vs other 3 % original vs sel-chi2 %  \n",
       "Method                                                          \n",
       "Balanced Accuracy                  3.7%                   0.9%  \n",
       "Sensitivity                      -0.03%                 -0.08%  \n",
       "Specificity                       9.39%                  2.39%  \n",
       "AUROC                              3.7%                   0.9%  \n",
       "F1                                0.94%                 -3.95%  \n",
       "Geometric Mean                    4.57%                  1.15%  \n",
       "Macro Average MAE                -17.4%                 -4.22%  "
      ]
     },
     "execution_count": 83,
     "metadata": {},
     "output_type": "execute_result"
    }
   ],
   "source": [
    "# results = results.set_index('Method').join(results_other.set_index('Method'))\n",
    "results = results_ori.set_index('Method').join(results_select.set_index('Method')).join(results_other.set_index('Method'))\n",
    "results['original vs other 3 %'] = (((results['All other 3 methods'] - results['Original']) / results['Original'])*100 ).round(2).astype(str) + '%'\n",
    "results['original vs sel-chi2 %'] = (((results['SelectedKBest-chi2'] - results['Original']) / results['Original'])*100 ).round(2).astype(str) + '%'\n",
    "\n",
    "results"
   ]
  },
  {
   "cell_type": "markdown",
   "metadata": {},
   "source": [
    "** The above comparison shows that selecting 6 features including test_indication_Other improves the performance more than selectKBest-chi2. \n",
    "<!-- test_indication_other has a positive effect on the performance metrics. We decide to add it as the seventh feature** -->"
   ]
  },
  {
   "cell_type": "markdown",
   "metadata": {},
   "source": [
    "### 5.4.2 dropped or filled comparison"
   ]
  },
  {
   "cell_type": "code",
   "execution_count": 84,
   "metadata": {},
   "outputs": [],
   "source": [
    "#prepare the selected dataset with the 6th being test_indication_Other\n",
    "selected_columns = ['test_indication_Contact with confirmed', 'head_ache', 'fever', 'cough','sore_throat','test_indication_Other']\n",
    "# X_selected = X_filled.drop(\"corona_result\", axis = 1)\n",
    "X_selected_dropped = X_dropped[X_dropped.columns[X_dropped.columns.isin(selected_columns)]]"
   ]
  },
  {
   "cell_type": "code",
   "execution_count": 85,
   "metadata": {},
   "outputs": [],
   "source": [
    "# update the train and test split\n",
    "x_train_d, x_test_d, y_train_d, y_test_d = train_test_split(X_selected_dropped, y_dropped, test_size=0.2, random_state=0)"
   ]
  },
  {
   "cell_type": "code",
   "execution_count": 86,
   "metadata": {},
   "outputs": [],
   "source": [
    "y_pred_d = make_y_pred(x_train_d, x_test_d, y_train_d)"
   ]
  },
  {
   "cell_type": "code",
   "execution_count": 87,
   "metadata": {},
   "outputs": [
    {
     "data": {
      "text/html": [
       "<div>\n",
       "<style scoped>\n",
       "    .dataframe tbody tr th:only-of-type {\n",
       "        vertical-align: middle;\n",
       "    }\n",
       "\n",
       "    .dataframe tbody tr th {\n",
       "        vertical-align: top;\n",
       "    }\n",
       "\n",
       "    .dataframe thead th {\n",
       "        text-align: right;\n",
       "    }\n",
       "</style>\n",
       "<table border=\"1\" class=\"dataframe\">\n",
       "  <thead>\n",
       "    <tr style=\"text-align: right;\">\n",
       "      <th></th>\n",
       "      <th>Method</th>\n",
       "      <th>All other 3 methods</th>\n",
       "    </tr>\n",
       "  </thead>\n",
       "  <tbody>\n",
       "    <tr>\n",
       "      <th>0</th>\n",
       "      <td>Balanced Accuracy</td>\n",
       "      <td>0.784831</td>\n",
       "    </tr>\n",
       "    <tr>\n",
       "      <th>1</th>\n",
       "      <td>Sensitivity</td>\n",
       "      <td>0.988189</td>\n",
       "    </tr>\n",
       "    <tr>\n",
       "      <th>2</th>\n",
       "      <td>Specificity</td>\n",
       "      <td>0.581473</td>\n",
       "    </tr>\n",
       "    <tr>\n",
       "      <th>3</th>\n",
       "      <td>AUROC</td>\n",
       "      <td>0.784831</td>\n",
       "    </tr>\n",
       "    <tr>\n",
       "      <th>4</th>\n",
       "      <td>F1</td>\n",
       "      <td>0.637591</td>\n",
       "    </tr>\n",
       "    <tr>\n",
       "      <th>5</th>\n",
       "      <td>Geometric Mean</td>\n",
       "      <td>0.758027</td>\n",
       "    </tr>\n",
       "    <tr>\n",
       "      <th>6</th>\n",
       "      <td>Macro Average MAE</td>\n",
       "      <td>0.215169</td>\n",
       "    </tr>\n",
       "  </tbody>\n",
       "</table>\n",
       "</div>"
      ],
      "text/plain": [
       "              Method  All other 3 methods\n",
       "0  Balanced Accuracy             0.784831\n",
       "1        Sensitivity             0.988189\n",
       "2        Specificity             0.581473\n",
       "3              AUROC             0.784831\n",
       "4                 F1             0.637591\n",
       "5     Geometric Mean             0.758027\n",
       "6  Macro Average MAE             0.215169"
      ]
     },
     "execution_count": 87,
     "metadata": {},
     "output_type": "execute_result"
    }
   ],
   "source": [
    "results_other_dropped = pd.DataFrame(evaluate_imbalanced(y_test_d, y_pred_d).items(),columns=['Method', 'All other 3 methods'])\n",
    "results_other_dropped"
   ]
  },
  {
   "cell_type": "code",
   "execution_count": 88,
   "metadata": {},
   "outputs": [
    {
     "data": {
      "text/html": [
       "<div>\n",
       "<style scoped>\n",
       "    .dataframe tbody tr th:only-of-type {\n",
       "        vertical-align: middle;\n",
       "    }\n",
       "\n",
       "    .dataframe tbody tr th {\n",
       "        vertical-align: top;\n",
       "    }\n",
       "\n",
       "    .dataframe thead th {\n",
       "        text-align: right;\n",
       "    }\n",
       "</style>\n",
       "<table border=\"1\" class=\"dataframe\">\n",
       "  <thead>\n",
       "    <tr style=\"text-align: right;\">\n",
       "      <th></th>\n",
       "      <th>Original</th>\n",
       "      <th>SelectedKBest-chi2</th>\n",
       "      <th>All other 3 methods</th>\n",
       "      <th>original vs other 3 %</th>\n",
       "      <th>original vs sel-chi2 %</th>\n",
       "    </tr>\n",
       "    <tr>\n",
       "      <th>Method</th>\n",
       "      <th></th>\n",
       "      <th></th>\n",
       "      <th></th>\n",
       "      <th></th>\n",
       "      <th></th>\n",
       "    </tr>\n",
       "  </thead>\n",
       "  <tbody>\n",
       "    <tr>\n",
       "      <th>Balanced Accuracy</th>\n",
       "      <td>0.824516</td>\n",
       "      <td>0.831920</td>\n",
       "      <td>0.855055</td>\n",
       "      <td>3.7%</td>\n",
       "      <td>0.9%</td>\n",
       "    </tr>\n",
       "    <tr>\n",
       "      <th>Sensitivity</th>\n",
       "      <td>0.994691</td>\n",
       "      <td>0.993853</td>\n",
       "      <td>0.994358</td>\n",
       "      <td>-0.03%</td>\n",
       "      <td>-0.08%</td>\n",
       "    </tr>\n",
       "    <tr>\n",
       "      <th>Specificity</th>\n",
       "      <td>0.654340</td>\n",
       "      <td>0.669988</td>\n",
       "      <td>0.715753</td>\n",
       "      <td>9.39%</td>\n",
       "      <td>2.39%</td>\n",
       "    </tr>\n",
       "    <tr>\n",
       "      <th>AUROC</th>\n",
       "      <td>0.824516</td>\n",
       "      <td>0.831920</td>\n",
       "      <td>0.855055</td>\n",
       "      <td>3.7%</td>\n",
       "      <td>0.9%</td>\n",
       "    </tr>\n",
       "    <tr>\n",
       "      <th>F1</th>\n",
       "      <td>0.684547</td>\n",
       "      <td>0.657485</td>\n",
       "      <td>0.690995</td>\n",
       "      <td>0.94%</td>\n",
       "      <td>-3.95%</td>\n",
       "    </tr>\n",
       "    <tr>\n",
       "      <th>Geometric Mean</th>\n",
       "      <td>0.806763</td>\n",
       "      <td>0.816008</td>\n",
       "      <td>0.843632</td>\n",
       "      <td>4.57%</td>\n",
       "      <td>1.15%</td>\n",
       "    </tr>\n",
       "    <tr>\n",
       "      <th>Macro Average MAE</th>\n",
       "      <td>0.175484</td>\n",
       "      <td>0.168080</td>\n",
       "      <td>0.144945</td>\n",
       "      <td>-17.4%</td>\n",
       "      <td>-4.22%</td>\n",
       "    </tr>\n",
       "  </tbody>\n",
       "</table>\n",
       "</div>"
      ],
      "text/plain": [
       "                   Original  SelectedKBest-chi2  All other 3 methods  \\\n",
       "Method                                                                 \n",
       "Balanced Accuracy  0.824516            0.831920             0.855055   \n",
       "Sensitivity        0.994691            0.993853             0.994358   \n",
       "Specificity        0.654340            0.669988             0.715753   \n",
       "AUROC              0.824516            0.831920             0.855055   \n",
       "F1                 0.684547            0.657485             0.690995   \n",
       "Geometric Mean     0.806763            0.816008             0.843632   \n",
       "Macro Average MAE  0.175484            0.168080             0.144945   \n",
       "\n",
       "                  original vs other 3 % original vs sel-chi2 %  \n",
       "Method                                                          \n",
       "Balanced Accuracy                  3.7%                   0.9%  \n",
       "Sensitivity                      -0.03%                 -0.08%  \n",
       "Specificity                       9.39%                  2.39%  \n",
       "AUROC                              3.7%                   0.9%  \n",
       "F1                                0.94%                 -3.95%  \n",
       "Geometric Mean                    4.57%                  1.15%  \n",
       "Macro Average MAE                -17.4%                 -4.22%  "
      ]
     },
     "execution_count": 88,
     "metadata": {},
     "output_type": "execute_result"
    }
   ],
   "source": [
    "results"
   ]
  },
  {
   "cell_type": "code",
   "execution_count": 89,
   "metadata": {},
   "outputs": [
    {
     "data": {
      "text/html": [
       "<div>\n",
       "<style scoped>\n",
       "    .dataframe tbody tr th:only-of-type {\n",
       "        vertical-align: middle;\n",
       "    }\n",
       "\n",
       "    .dataframe tbody tr th {\n",
       "        vertical-align: top;\n",
       "    }\n",
       "\n",
       "    .dataframe thead th {\n",
       "        text-align: right;\n",
       "    }\n",
       "</style>\n",
       "<table border=\"1\" class=\"dataframe\">\n",
       "  <thead>\n",
       "    <tr style=\"text-align: right;\">\n",
       "      <th></th>\n",
       "      <th>Method</th>\n",
       "      <th>All other 3 methods_filled</th>\n",
       "      <th>All other 3 methods_dropped</th>\n",
       "      <th>dropped vs filled</th>\n",
       "    </tr>\n",
       "  </thead>\n",
       "  <tbody>\n",
       "    <tr>\n",
       "      <th>0</th>\n",
       "      <td>Balanced Accuracy</td>\n",
       "      <td>0.855055</td>\n",
       "      <td>0.784831</td>\n",
       "      <td>-8.21%</td>\n",
       "    </tr>\n",
       "    <tr>\n",
       "      <th>1</th>\n",
       "      <td>Sensitivity</td>\n",
       "      <td>0.994358</td>\n",
       "      <td>0.988189</td>\n",
       "      <td>-0.62%</td>\n",
       "    </tr>\n",
       "    <tr>\n",
       "      <th>2</th>\n",
       "      <td>Specificity</td>\n",
       "      <td>0.715753</td>\n",
       "      <td>0.581473</td>\n",
       "      <td>-18.76%</td>\n",
       "    </tr>\n",
       "    <tr>\n",
       "      <th>3</th>\n",
       "      <td>AUROC</td>\n",
       "      <td>0.855055</td>\n",
       "      <td>0.784831</td>\n",
       "      <td>-8.21%</td>\n",
       "    </tr>\n",
       "    <tr>\n",
       "      <th>4</th>\n",
       "      <td>F1</td>\n",
       "      <td>0.690995</td>\n",
       "      <td>0.637591</td>\n",
       "      <td>-7.73%</td>\n",
       "    </tr>\n",
       "    <tr>\n",
       "      <th>5</th>\n",
       "      <td>Geometric Mean</td>\n",
       "      <td>0.843632</td>\n",
       "      <td>0.758027</td>\n",
       "      <td>-10.15%</td>\n",
       "    </tr>\n",
       "    <tr>\n",
       "      <th>6</th>\n",
       "      <td>Macro Average MAE</td>\n",
       "      <td>0.144945</td>\n",
       "      <td>0.215169</td>\n",
       "      <td>48.45%</td>\n",
       "    </tr>\n",
       "  </tbody>\n",
       "</table>\n",
       "</div>"
      ],
      "text/plain": [
       "              Method  All other 3 methods_filled  All other 3 methods_dropped  \\\n",
       "0  Balanced Accuracy                    0.855055                     0.784831   \n",
       "1        Sensitivity                    0.994358                     0.988189   \n",
       "2        Specificity                    0.715753                     0.581473   \n",
       "3              AUROC                    0.855055                     0.784831   \n",
       "4                 F1                    0.690995                     0.637591   \n",
       "5     Geometric Mean                    0.843632                     0.758027   \n",
       "6  Macro Average MAE                    0.144945                     0.215169   \n",
       "\n",
       "  dropped vs filled  \n",
       "0            -8.21%  \n",
       "1            -0.62%  \n",
       "2           -18.76%  \n",
       "3            -8.21%  \n",
       "4            -7.73%  \n",
       "5           -10.15%  \n",
       "6            48.45%  "
      ]
     },
     "execution_count": 89,
     "metadata": {},
     "output_type": "execute_result"
    }
   ],
   "source": [
    "results_d = results_other.merge(results_other_dropped, on='Method', how='left')\n",
    "results_d.columns=['Method','All other 3 methods_filled','All other 3 methods_dropped'] \n",
    "results_d['dropped vs filled'] = (((results_d['All other 3 methods_dropped'] - results_d['All other 3 methods_filled']) / results_d['All other 3 methods_filled'])*100 ).round(2).astype(str) + '%'\n",
    "results_d"
   ]
  },
  {
   "cell_type": "markdown",
   "metadata": {},
   "source": [
    "Conclusion: dropping instances with null values in age or gender feature does not improve the performance."
   ]
  },
  {
   "cell_type": "markdown",
   "metadata": {},
   "source": [
    "## Imbalanced sampling"
   ]
  },
  {
   "cell_type": "markdown",
   "metadata": {},
   "source": [
    "https://imbalanced-learn.org/stable/over_sampling.html#naive-random-over-sampling"
   ]
  },
  {
   "cell_type": "markdown",
   "metadata": {},
   "source": [
    "pip install imbalanced-learn"
   ]
  },
  {
   "cell_type": "code",
   "execution_count": 92,
   "metadata": {},
   "outputs": [
    {
     "name": "stdout",
     "output_type": "stream",
     "text": [
      "(465233, 6)\n",
      "(465233,)\n"
     ]
    }
   ],
   "source": [
    "X = X_selected.copy()\n",
    "Y = y_filled.copy()\n",
    "print(X.shape)\n",
    "print(Y.shape)"
   ]
  },
  {
   "cell_type": "markdown",
   "metadata": {},
   "source": [
    "**Oversampling: Naive Random Over-Sampling (ROS) to increase the sample size of under-represented data by replication with replacement**"
   ]
  },
  {
   "cell_type": "code",
   "execution_count": 93,
   "metadata": {},
   "outputs": [],
   "source": [
    "from imblearn.over_sampling import RandomOverSampler\n",
    "def oversample(X, Y):\n",
    "    ros = RandomOverSampler(random_state=0)\n",
    "    return ros.fit_resample(X, Y)"
   ]
  },
  {
   "cell_type": "markdown",
   "metadata": {},
   "source": [
    "**Oversampling:SMOTE based on KNN and generating new samples**"
   ]
  },
  {
   "cell_type": "code",
   "execution_count": 94,
   "metadata": {},
   "outputs": [],
   "source": [
    "from imblearn.over_sampling import SMOTE\n",
    "def oversample_smote(X, Y):\n",
    "    return SMOTE().fit_resample(X, Y)"
   ]
  },
  {
   "cell_type": "markdown",
   "metadata": {},
   "source": [
    "**Under-sampling:Random Under-Sampler (RUS) is a fast and easy way to balance the data by randomly selecting a subset of data for the targeted classes**"
   ]
  },
  {
   "cell_type": "code",
   "execution_count": 95,
   "metadata": {},
   "outputs": [],
   "source": [
    "from imblearn.under_sampling import RandomUnderSampler\n",
    "def undersample(X, Y):\n",
    "    rus = RandomUnderSampler(random_state=0)\n",
    "    return rus.fit_resample(X, Y)"
   ]
  },
  {
   "cell_type": "markdown",
   "metadata": {},
   "source": [
    "## Modeling"
   ]
  },
  {
   "cell_type": "markdown",
   "metadata": {},
   "source": [
    "**the paramter of all classifier are tested and determined to be optimal by prior demos.**"
   ]
  },
  {
   "cell_type": "code",
   "execution_count": 100,
   "metadata": {},
   "outputs": [],
   "source": [
    "models = {\n",
    "    \"Dummy Classifier\" : DummyClassifier(strategy='uniform'), # dummy classifier to predict randomly\n",
    "    \"Most Frequent Clasifier\" : DummyClassifier(strategy='most_frequent'), # dummy classifier to always predict the majority\n",
    "    \"Perceptron\": Perceptron(alpha = 0.1),\n",
    "    \"Decision Tree (max_depth=None)\": DecisionTreeClassifier(max_depth=None, random_state=0),\n",
    "    \"GNB\": GaussianNB(),\n",
    "    \"RandomForest\": RandomForestClassifier(random_state=0, n_estimators = 101),\n",
    "    \"GradientBoostingForest\": GradientBoostingClassifier(random_state=0, n_estimators = 101),\n",
    "    \"XGBoost\": XGBClassifier(n_estimators=1000, tree_method='hist', random_state=0, eval_metric='mlogloss')\n",
    "}"
   ]
  },
  {
   "cell_type": "markdown",
   "metadata": {},
   "source": [
    "**Apply Neural Netword model to the dataset**"
   ]
  },
  {
   "cell_type": "code",
   "execution_count": 104,
   "metadata": {},
   "outputs": [],
   "source": [
    "from keras.models import Sequential\n",
    "from keras.layers import Dense\n",
    "from sklearn.metrics import roc_curve\n",
    "from numpy import sqrt\n",
    "from numpy import argmax\n",
    "# define the keras model\n",
    "nmodel = Sequential()\n",
    "# add layers\n",
    "nmodel.add(Dense(12, input_dim=6, activation='relu'))\n",
    "nmodel.add(Dense(6, activation='relu'))\n",
    "nmodel.add(Dense(1, activation='sigmoid'))\n",
    "nmodel.compile(loss='binary_crossentropy', optimizer='adam', metrics=['binary_accuracy', 'AUC'])\n",
    "models['Neural Network'] = nmodel"
   ]
  },
  {
   "cell_type": "code",
   "execution_count": 105,
   "metadata": {},
   "outputs": [],
   "source": [
    "def thresholding(pred, y): # threasholding the continuous predicted value to binary labels\n",
    "    # calculate roc curves\n",
    "    fpr, tpr, thresholds = roc_curve(y, pred)\n",
    "    # use gemans to select the optimal threshold\n",
    "    gmeans = sqrt(tpr * (1-fpr))\n",
    "    # locate the index of the largest g-mean\n",
    "    ix = argmax(gmeans)\n",
    "    threshold = thresholds[ix]\n",
    "    for i in range(len(y)):\n",
    "        pred[i] = 1 if pred[i] >= threshold else 0\n",
    "    return pred"
   ]
  },
  {
   "cell_type": "markdown",
   "metadata": {},
   "source": [
    "### original sampling"
   ]
  },
  {
   "cell_type": "code",
   "execution_count": 106,
   "metadata": {
    "scrolled": true
   },
   "outputs": [
    {
     "name": "stdout",
     "output_type": "stream",
     "text": [
      "13085/13085 [==============================] - 9s 639us/step - loss: 0.0411 - binary_accuracy: 0.9890 - auc: 0.8726\n",
      "13085/13085 [==============================] - 9s 651us/step - loss: 0.0233 - binary_accuracy: 0.9937 - auc: 0.8767\n",
      "13085/13085 [==============================] - 8s 646us/step - loss: 0.0233 - binary_accuracy: 0.9938 - auc: 0.8754\n",
      "13085/13085 [==============================] - 8s 643us/step - loss: 0.0231 - binary_accuracy: 0.9938 - auc: 0.8763\n",
      "13085/13085 [==============================] - 9s 695us/step - loss: 0.0230 - binary_accuracy: 0.9938 - auc: 0.8763\n",
      "13085/13085 [==============================] - 10s 738us/step - loss: 0.0232 - binary_accuracy: 0.9937 - auc: 0.8759\n",
      "13085/13085 [==============================] - 9s 701us/step - loss: 0.0229 - binary_accuracy: 0.9938 - auc: 0.8783\n",
      "13085/13085 [==============================] - 9s 669us/step - loss: 0.0230 - binary_accuracy: 0.9938 - auc: 0.8767\n",
      "13085/13085 [==============================] - 8s 648us/step - loss: 0.0229 - binary_accuracy: 0.9939 - auc: 0.8773\n",
      "13085/13085 [==============================] - 9s 660us/step - loss: 0.0228 - binary_accuracy: 0.9938 - auc: 0.8788\n"
     ]
    }
   ],
   "source": [
    "n_splits = 10;\n",
    "skf = StratifiedKFold(n_splits=n_splits, shuffle=True, random_state=0)\n",
    "prediction = dict() # store the metrics\n",
    "prediction_train = dict() # store the metrics for the trainning set\n",
    "for train_index, test_index in skf.split(X, Y):\n",
    "    \n",
    "    X_train, X_test = X.iloc[train_index], X.iloc[test_index]\n",
    "    y_train, y_test = Y[train_index], Y[test_index]\n",
    "    for classif_name in models.keys():\n",
    "        classif = models[classif_name]\n",
    "        classif.fit(X_train, y_train)\n",
    "        y_pred = classif.predict(X_test) # test\n",
    "        # threasholding the continuous predicted value to binary labels\n",
    "        y_pred = thresholding(y_pred, y_test)\n",
    "        output = evaluate_imbalanced(y_test, y_pred)\n",
    "        y_pred_train = classif.predict(X_train) # train\n",
    "        # threasholding the continuous predicted value to binary labels\n",
    "        y_pred_train = thresholding(y_pred_train, y_train)\n",
    "        output_train = evaluate_imbalanced(y_train, y_pred_train)\n",
    "        ## store the metrics in a dict\n",
    "        if classif_name in prediction:\n",
    "            for metric in prediction[classif_name].keys():\n",
    "                prediction[classif_name][metric] += output[metric]\n",
    "                prediction_train[classif_name][metric] += output_train[metric]\n",
    "        else:\n",
    "            prediction[classif_name] = output\n",
    "            prediction_train[classif_name] = output_train"
   ]
  },
  {
   "cell_type": "code",
   "execution_count": 107,
   "metadata": {},
   "outputs": [],
   "source": [
    "# calculate the avereage of metrics for k-folds\n",
    "for classif_name in prediction.keys():\n",
    "    for metric in prediction[classif_name].keys():\n",
    "        prediction[classif_name][metric] /= n_splits\n",
    "        prediction_train[classif_name][metric] /= n_splits"
   ]
  },
  {
   "cell_type": "code",
   "execution_count": 108,
   "metadata": {
    "scrolled": true
   },
   "outputs": [
    {
     "data": {
      "text/html": [
       "<div>\n",
       "<style scoped>\n",
       "    .dataframe tbody tr th:only-of-type {\n",
       "        vertical-align: middle;\n",
       "    }\n",
       "\n",
       "    .dataframe tbody tr th {\n",
       "        vertical-align: top;\n",
       "    }\n",
       "\n",
       "    .dataframe thead th {\n",
       "        text-align: right;\n",
       "    }\n",
       "</style>\n",
       "<table border=\"1\" class=\"dataframe\">\n",
       "  <thead>\n",
       "    <tr style=\"text-align: right;\">\n",
       "      <th></th>\n",
       "      <th>Balanced Accuracy</th>\n",
       "      <th>Sensitivity</th>\n",
       "      <th>Specificity</th>\n",
       "      <th>AUROC</th>\n",
       "      <th>F1</th>\n",
       "      <th>Geometric Mean</th>\n",
       "      <th>Macro Average MAE</th>\n",
       "    </tr>\n",
       "  </thead>\n",
       "  <tbody>\n",
       "    <tr>\n",
       "      <th>GNB</th>\n",
       "      <td>0.876196</td>\n",
       "      <td>0.992606</td>\n",
       "      <td>0.759785</td>\n",
       "      <td>0.876196</td>\n",
       "      <td>0.650455</td>\n",
       "      <td>0.868369</td>\n",
       "      <td>0.123804</td>\n",
       "    </tr>\n",
       "    <tr>\n",
       "      <th>Neural Network</th>\n",
       "      <td>0.876196</td>\n",
       "      <td>0.992606</td>\n",
       "      <td>0.759785</td>\n",
       "      <td>0.876196</td>\n",
       "      <td>0.650455</td>\n",
       "      <td>0.868369</td>\n",
       "      <td>0.123804</td>\n",
       "    </tr>\n",
       "    <tr>\n",
       "      <th>Decision Tree (max_depth=None)</th>\n",
       "      <td>0.846892</td>\n",
       "      <td>0.993848</td>\n",
       "      <td>0.699935</td>\n",
       "      <td>0.846892</td>\n",
       "      <td>0.672924</td>\n",
       "      <td>0.833985</td>\n",
       "      <td>0.153108</td>\n",
       "    </tr>\n",
       "    <tr>\n",
       "      <th>RandomForest</th>\n",
       "      <td>0.846892</td>\n",
       "      <td>0.993848</td>\n",
       "      <td>0.699935</td>\n",
       "      <td>0.846892</td>\n",
       "      <td>0.672924</td>\n",
       "      <td>0.833985</td>\n",
       "      <td>0.153108</td>\n",
       "    </tr>\n",
       "    <tr>\n",
       "      <th>XGBoost</th>\n",
       "      <td>0.846892</td>\n",
       "      <td>0.993848</td>\n",
       "      <td>0.699935</td>\n",
       "      <td>0.846892</td>\n",
       "      <td>0.672924</td>\n",
       "      <td>0.833985</td>\n",
       "      <td>0.153108</td>\n",
       "    </tr>\n",
       "    <tr>\n",
       "      <th>GradientBoostingForest</th>\n",
       "      <td>0.837085</td>\n",
       "      <td>0.993719</td>\n",
       "      <td>0.680451</td>\n",
       "      <td>0.837085</td>\n",
       "      <td>0.661969</td>\n",
       "      <td>0.822250</td>\n",
       "      <td>0.162915</td>\n",
       "    </tr>\n",
       "    <tr>\n",
       "      <th>Perceptron</th>\n",
       "      <td>0.624147</td>\n",
       "      <td>0.991983</td>\n",
       "      <td>0.256311</td>\n",
       "      <td>0.624147</td>\n",
       "      <td>0.323432</td>\n",
       "      <td>0.456407</td>\n",
       "      <td>0.375853</td>\n",
       "    </tr>\n",
       "    <tr>\n",
       "      <th>Dummy Classifier</th>\n",
       "      <td>0.510758</td>\n",
       "      <td>0.500734</td>\n",
       "      <td>0.520782</td>\n",
       "      <td>0.510758</td>\n",
       "      <td>0.018583</td>\n",
       "      <td>0.510554</td>\n",
       "      <td>0.489242</td>\n",
       "    </tr>\n",
       "    <tr>\n",
       "      <th>Most Frequent Clasifier</th>\n",
       "      <td>0.500000</td>\n",
       "      <td>0.990927</td>\n",
       "      <td>0.009073</td>\n",
       "      <td>0.500000</td>\n",
       "      <td>0.000000</td>\n",
       "      <td>0.094819</td>\n",
       "      <td>0.500000</td>\n",
       "    </tr>\n",
       "  </tbody>\n",
       "</table>\n",
       "</div>"
      ],
      "text/plain": [
       "                                Balanced Accuracy  Sensitivity  Specificity  \\\n",
       "GNB                                      0.876196     0.992606     0.759785   \n",
       "Neural Network                           0.876196     0.992606     0.759785   \n",
       "Decision Tree (max_depth=None)           0.846892     0.993848     0.699935   \n",
       "RandomForest                             0.846892     0.993848     0.699935   \n",
       "XGBoost                                  0.846892     0.993848     0.699935   \n",
       "GradientBoostingForest                   0.837085     0.993719     0.680451   \n",
       "Perceptron                               0.624147     0.991983     0.256311   \n",
       "Dummy Classifier                         0.510758     0.500734     0.520782   \n",
       "Most Frequent Clasifier                  0.500000     0.990927     0.009073   \n",
       "\n",
       "                                   AUROC        F1  Geometric Mean  \\\n",
       "GNB                             0.876196  0.650455        0.868369   \n",
       "Neural Network                  0.876196  0.650455        0.868369   \n",
       "Decision Tree (max_depth=None)  0.846892  0.672924        0.833985   \n",
       "RandomForest                    0.846892  0.672924        0.833985   \n",
       "XGBoost                         0.846892  0.672924        0.833985   \n",
       "GradientBoostingForest          0.837085  0.661969        0.822250   \n",
       "Perceptron                      0.624147  0.323432        0.456407   \n",
       "Dummy Classifier                0.510758  0.018583        0.510554   \n",
       "Most Frequent Clasifier         0.500000  0.000000        0.094819   \n",
       "\n",
       "                                Macro Average MAE  \n",
       "GNB                                      0.123804  \n",
       "Neural Network                           0.123804  \n",
       "Decision Tree (max_depth=None)           0.153108  \n",
       "RandomForest                             0.153108  \n",
       "XGBoost                                  0.153108  \n",
       "GradientBoostingForest                   0.162915  \n",
       "Perceptron                               0.375853  \n",
       "Dummy Classifier                         0.489242  \n",
       "Most Frequent Clasifier                  0.500000  "
      ]
     },
     "execution_count": 108,
     "metadata": {},
     "output_type": "execute_result"
    }
   ],
   "source": [
    "results = pd.DataFrame([prediction[name] for name in models.keys()], index=models.keys())\n",
    "results.sort_values('AUROC', ascending=False)"
   ]
  },
  {
   "cell_type": "code",
   "execution_count": 109,
   "metadata": {},
   "outputs": [
    {
     "data": {
      "text/html": [
       "<div>\n",
       "<style scoped>\n",
       "    .dataframe tbody tr th:only-of-type {\n",
       "        vertical-align: middle;\n",
       "    }\n",
       "\n",
       "    .dataframe tbody tr th {\n",
       "        vertical-align: top;\n",
       "    }\n",
       "\n",
       "    .dataframe thead th {\n",
       "        text-align: right;\n",
       "    }\n",
       "</style>\n",
       "<table border=\"1\" class=\"dataframe\">\n",
       "  <thead>\n",
       "    <tr style=\"text-align: right;\">\n",
       "      <th></th>\n",
       "      <th>Balanced Accuracy</th>\n",
       "      <th>Sensitivity</th>\n",
       "      <th>Specificity</th>\n",
       "      <th>AUROC</th>\n",
       "      <th>F1</th>\n",
       "      <th>Geometric Mean</th>\n",
       "      <th>Macro Average MAE</th>\n",
       "    </tr>\n",
       "  </thead>\n",
       "  <tbody>\n",
       "    <tr>\n",
       "      <th>GNB</th>\n",
       "      <td>0.876196</td>\n",
       "      <td>0.992606</td>\n",
       "      <td>0.759785</td>\n",
       "      <td>0.876196</td>\n",
       "      <td>0.650455</td>\n",
       "      <td>0.868369</td>\n",
       "      <td>0.123804</td>\n",
       "    </tr>\n",
       "    <tr>\n",
       "      <th>Neural Network</th>\n",
       "      <td>0.876196</td>\n",
       "      <td>0.992606</td>\n",
       "      <td>0.759785</td>\n",
       "      <td>0.876196</td>\n",
       "      <td>0.650455</td>\n",
       "      <td>0.868369</td>\n",
       "      <td>0.123804</td>\n",
       "    </tr>\n",
       "    <tr>\n",
       "      <th>Decision Tree (max_depth=None)</th>\n",
       "      <td>0.846892</td>\n",
       "      <td>0.993848</td>\n",
       "      <td>0.699935</td>\n",
       "      <td>0.846892</td>\n",
       "      <td>0.672924</td>\n",
       "      <td>0.833985</td>\n",
       "      <td>0.153108</td>\n",
       "    </tr>\n",
       "    <tr>\n",
       "      <th>RandomForest</th>\n",
       "      <td>0.846892</td>\n",
       "      <td>0.993848</td>\n",
       "      <td>0.699935</td>\n",
       "      <td>0.846892</td>\n",
       "      <td>0.672924</td>\n",
       "      <td>0.833985</td>\n",
       "      <td>0.153108</td>\n",
       "    </tr>\n",
       "    <tr>\n",
       "      <th>XGBoost</th>\n",
       "      <td>0.846892</td>\n",
       "      <td>0.993848</td>\n",
       "      <td>0.699935</td>\n",
       "      <td>0.846892</td>\n",
       "      <td>0.672924</td>\n",
       "      <td>0.833985</td>\n",
       "      <td>0.153108</td>\n",
       "    </tr>\n",
       "    <tr>\n",
       "      <th>GradientBoostingForest</th>\n",
       "      <td>0.837085</td>\n",
       "      <td>0.993719</td>\n",
       "      <td>0.680451</td>\n",
       "      <td>0.837085</td>\n",
       "      <td>0.661969</td>\n",
       "      <td>0.822250</td>\n",
       "      <td>0.162915</td>\n",
       "    </tr>\n",
       "    <tr>\n",
       "      <th>Perceptron</th>\n",
       "      <td>0.624147</td>\n",
       "      <td>0.991983</td>\n",
       "      <td>0.256311</td>\n",
       "      <td>0.624147</td>\n",
       "      <td>0.323432</td>\n",
       "      <td>0.456407</td>\n",
       "      <td>0.375853</td>\n",
       "    </tr>\n",
       "    <tr>\n",
       "      <th>Dummy Classifier</th>\n",
       "      <td>0.510758</td>\n",
       "      <td>0.500734</td>\n",
       "      <td>0.520782</td>\n",
       "      <td>0.510758</td>\n",
       "      <td>0.018583</td>\n",
       "      <td>0.510554</td>\n",
       "      <td>0.489242</td>\n",
       "    </tr>\n",
       "    <tr>\n",
       "      <th>Most Frequent Clasifier</th>\n",
       "      <td>0.500000</td>\n",
       "      <td>0.990927</td>\n",
       "      <td>0.009073</td>\n",
       "      <td>0.500000</td>\n",
       "      <td>0.000000</td>\n",
       "      <td>0.094819</td>\n",
       "      <td>0.500000</td>\n",
       "    </tr>\n",
       "  </tbody>\n",
       "</table>\n",
       "</div>"
      ],
      "text/plain": [
       "                                Balanced Accuracy  Sensitivity  Specificity  \\\n",
       "GNB                                      0.876196     0.992606     0.759785   \n",
       "Neural Network                           0.876196     0.992606     0.759785   \n",
       "Decision Tree (max_depth=None)           0.846892     0.993848     0.699935   \n",
       "RandomForest                             0.846892     0.993848     0.699935   \n",
       "XGBoost                                  0.846892     0.993848     0.699935   \n",
       "GradientBoostingForest                   0.837085     0.993719     0.680451   \n",
       "Perceptron                               0.624147     0.991983     0.256311   \n",
       "Dummy Classifier                         0.510758     0.500734     0.520782   \n",
       "Most Frequent Clasifier                  0.500000     0.990927     0.009073   \n",
       "\n",
       "                                   AUROC        F1  Geometric Mean  \\\n",
       "GNB                             0.876196  0.650455        0.868369   \n",
       "Neural Network                  0.876196  0.650455        0.868369   \n",
       "Decision Tree (max_depth=None)  0.846892  0.672924        0.833985   \n",
       "RandomForest                    0.846892  0.672924        0.833985   \n",
       "XGBoost                         0.846892  0.672924        0.833985   \n",
       "GradientBoostingForest          0.837085  0.661969        0.822250   \n",
       "Perceptron                      0.624147  0.323432        0.456407   \n",
       "Dummy Classifier                0.510758  0.018583        0.510554   \n",
       "Most Frequent Clasifier         0.500000  0.000000        0.094819   \n",
       "\n",
       "                                Macro Average MAE  \n",
       "GNB                                      0.123804  \n",
       "Neural Network                           0.123804  \n",
       "Decision Tree (max_depth=None)           0.153108  \n",
       "RandomForest                             0.153108  \n",
       "XGBoost                                  0.153108  \n",
       "GradientBoostingForest                   0.162915  \n",
       "Perceptron                               0.375853  \n",
       "Dummy Classifier                         0.489242  \n",
       "Most Frequent Clasifier                  0.500000  "
      ]
     },
     "execution_count": 109,
     "metadata": {},
     "output_type": "execute_result"
    }
   ],
   "source": [
    "results_train = pd.DataFrame([prediction_train[name] for name in models.keys()], index=models.keys())\n",
    "results.sort_values('AUROC', ascending=False)"
   ]
  },
  {
   "cell_type": "markdown",
   "metadata": {},
   "source": [
    "### over sampling"
   ]
  },
  {
   "cell_type": "code",
   "execution_count": 110,
   "metadata": {},
   "outputs": [
    {
     "name": "stdout",
     "output_type": "stream",
     "text": [
      "25932/25932 [==============================] - 17s 648us/step - loss: 0.3213 - binary_accuracy: 0.8764 - auc: 0.8769\n",
      "25932/25932 [==============================] - 17s 651us/step - loss: 0.3216 - binary_accuracy: 0.8759 - auc: 0.8768\n",
      "25932/25932 [==============================] - 17s 645us/step - loss: 0.3228 - binary_accuracy: 0.8750 - auc: 0.8758\n",
      "25932/25932 [==============================] - 19s 733us/step - loss: 0.3204 - binary_accuracy: 0.8764 - auc: 0.8772\n",
      "25932/25932 [==============================] - 16s 604us/step - loss: 0.3214 - binary_accuracy: 0.8758 - auc: 0.8763\n",
      "25932/25932 [==============================] - 15s 597us/step - loss: 0.3224 - binary_accuracy: 0.8752 - auc: 0.8763\n",
      "25932/25932 [==============================] - 16s 612us/step - loss: 0.3184 - binary_accuracy: 0.8776 - auc: 0.8784\n",
      "25932/25932 [==============================] - 16s 615us/step - loss: 0.3203 - binary_accuracy: 0.8764 - auc: 0.8767\n",
      "25932/25932 [==============================] - 17s 646us/step - loss: 0.3201 - binary_accuracy: 0.8764 - auc: 0.8771\n",
      "25932/25932 [==============================] - 16s 622us/step - loss: 0.3173 - binary_accuracy: 0.8782 - auc: 0.8788\n"
     ]
    }
   ],
   "source": [
    "n_splits = 10;\n",
    "skf = StratifiedKFold(n_splits=n_splits, shuffle=True, random_state=0)\n",
    "prediction = dict() # store the metrics\n",
    "prediction_train = dict() # store the metrics for the trainning set\n",
    "for train_index, test_index in skf.split(X, Y):\n",
    "    X_train, X_test = X.iloc[train_index], X.iloc[test_index]\n",
    "    y_train, y_test = Y[train_index], Y[test_index]\n",
    "    X_train, y_train = oversample(X_train, y_train)\n",
    "    for classif_name in models.keys():\n",
    "        classif = models[classif_name]\n",
    "        classif.fit(X_train, y_train)\n",
    "        y_pred = classif.predict(X_test) # test\n",
    "        # threasholding the continuous predicted value to binary labels\n",
    "        y_pred = thresholding(y_pred, y_test)\n",
    "        output = evaluate_imbalanced(y_test, y_pred)\n",
    "        y_pred_train = classif.predict(X_train) # train\n",
    "        # threasholding the continuous predicted value to binary labels\n",
    "        y_pred_train = thresholding(y_pred_train, y_train)\n",
    "        output_train = evaluate_imbalanced(y_train, y_pred_train)\n",
    "        ## store the metrics in a dict\n",
    "        if classif_name in prediction:\n",
    "            for metric in prediction[classif_name].keys():\n",
    "                prediction[classif_name][metric] += output[metric]\n",
    "                prediction_train[classif_name][metric] += output_train[metric]\n",
    "        else:\n",
    "            prediction[classif_name] = output\n",
    "            prediction_train[classif_name] = output_train"
   ]
  },
  {
   "cell_type": "code",
   "execution_count": 111,
   "metadata": {},
   "outputs": [],
   "source": [
    "# calculate the avereage of metrics for k-folds\n",
    "for classif_name in prediction.keys():\n",
    "    for metric in prediction[classif_name].keys():\n",
    "        prediction[classif_name][metric] /= n_splits\n",
    "        prediction_train[classif_name][metric] /= n_splits"
   ]
  },
  {
   "cell_type": "code",
   "execution_count": 112,
   "metadata": {},
   "outputs": [
    {
     "data": {
      "text/html": [
       "<div>\n",
       "<style scoped>\n",
       "    .dataframe tbody tr th:only-of-type {\n",
       "        vertical-align: middle;\n",
       "    }\n",
       "\n",
       "    .dataframe tbody tr th {\n",
       "        vertical-align: top;\n",
       "    }\n",
       "\n",
       "    .dataframe thead th {\n",
       "        text-align: right;\n",
       "    }\n",
       "</style>\n",
       "<table border=\"1\" class=\"dataframe\">\n",
       "  <thead>\n",
       "    <tr style=\"text-align: right;\">\n",
       "      <th></th>\n",
       "      <th>Balanced Accuracy</th>\n",
       "      <th>Sensitivity</th>\n",
       "      <th>Specificity</th>\n",
       "      <th>AUROC</th>\n",
       "      <th>F1</th>\n",
       "      <th>Geometric Mean</th>\n",
       "      <th>Macro Average MAE</th>\n",
       "    </tr>\n",
       "  </thead>\n",
       "  <tbody>\n",
       "    <tr>\n",
       "      <th>Neural Network</th>\n",
       "      <td>0.876350</td>\n",
       "      <td>0.992911</td>\n",
       "      <td>0.759788</td>\n",
       "      <td>0.876350</td>\n",
       "      <td>0.660111</td>\n",
       "      <td>0.868504</td>\n",
       "      <td>0.123650</td>\n",
       "    </tr>\n",
       "    <tr>\n",
       "      <th>GradientBoostingForest</th>\n",
       "      <td>0.876205</td>\n",
       "      <td>0.992625</td>\n",
       "      <td>0.759785</td>\n",
       "      <td>0.876205</td>\n",
       "      <td>0.651057</td>\n",
       "      <td>0.868377</td>\n",
       "      <td>0.123795</td>\n",
       "    </tr>\n",
       "    <tr>\n",
       "      <th>GNB</th>\n",
       "      <td>0.876196</td>\n",
       "      <td>0.992606</td>\n",
       "      <td>0.759785</td>\n",
       "      <td>0.876196</td>\n",
       "      <td>0.650455</td>\n",
       "      <td>0.868369</td>\n",
       "      <td>0.123804</td>\n",
       "    </tr>\n",
       "    <tr>\n",
       "      <th>XGBoost</th>\n",
       "      <td>0.875883</td>\n",
       "      <td>0.992685</td>\n",
       "      <td>0.759082</td>\n",
       "      <td>0.875883</td>\n",
       "      <td>0.652677</td>\n",
       "      <td>0.868000</td>\n",
       "      <td>0.124117</td>\n",
       "    </tr>\n",
       "    <tr>\n",
       "      <th>Decision Tree (max_depth=None)</th>\n",
       "      <td>0.875882</td>\n",
       "      <td>0.992683</td>\n",
       "      <td>0.759082</td>\n",
       "      <td>0.875882</td>\n",
       "      <td>0.652609</td>\n",
       "      <td>0.867999</td>\n",
       "      <td>0.124118</td>\n",
       "    </tr>\n",
       "    <tr>\n",
       "      <th>RandomForest</th>\n",
       "      <td>0.875882</td>\n",
       "      <td>0.992683</td>\n",
       "      <td>0.759082</td>\n",
       "      <td>0.875882</td>\n",
       "      <td>0.652610</td>\n",
       "      <td>0.867999</td>\n",
       "      <td>0.124118</td>\n",
       "    </tr>\n",
       "    <tr>\n",
       "      <th>Perceptron</th>\n",
       "      <td>0.872702</td>\n",
       "      <td>0.992662</td>\n",
       "      <td>0.752742</td>\n",
       "      <td>0.872702</td>\n",
       "      <td>0.650019</td>\n",
       "      <td>0.864267</td>\n",
       "      <td>0.127298</td>\n",
       "    </tr>\n",
       "    <tr>\n",
       "      <th>Dummy Classifier</th>\n",
       "      <td>0.501012</td>\n",
       "      <td>0.500721</td>\n",
       "      <td>0.501303</td>\n",
       "      <td>0.501012</td>\n",
       "      <td>0.017893</td>\n",
       "      <td>0.500857</td>\n",
       "      <td>0.498988</td>\n",
       "    </tr>\n",
       "    <tr>\n",
       "      <th>Most Frequent Clasifier</th>\n",
       "      <td>0.500000</td>\n",
       "      <td>0.990927</td>\n",
       "      <td>0.009073</td>\n",
       "      <td>0.500000</td>\n",
       "      <td>0.000000</td>\n",
       "      <td>0.094819</td>\n",
       "      <td>0.500000</td>\n",
       "    </tr>\n",
       "  </tbody>\n",
       "</table>\n",
       "</div>"
      ],
      "text/plain": [
       "                                Balanced Accuracy  Sensitivity  Specificity  \\\n",
       "Neural Network                           0.876350     0.992911     0.759788   \n",
       "GradientBoostingForest                   0.876205     0.992625     0.759785   \n",
       "GNB                                      0.876196     0.992606     0.759785   \n",
       "XGBoost                                  0.875883     0.992685     0.759082   \n",
       "Decision Tree (max_depth=None)           0.875882     0.992683     0.759082   \n",
       "RandomForest                             0.875882     0.992683     0.759082   \n",
       "Perceptron                               0.872702     0.992662     0.752742   \n",
       "Dummy Classifier                         0.501012     0.500721     0.501303   \n",
       "Most Frequent Clasifier                  0.500000     0.990927     0.009073   \n",
       "\n",
       "                                   AUROC        F1  Geometric Mean  \\\n",
       "Neural Network                  0.876350  0.660111        0.868504   \n",
       "GradientBoostingForest          0.876205  0.651057        0.868377   \n",
       "GNB                             0.876196  0.650455        0.868369   \n",
       "XGBoost                         0.875883  0.652677        0.868000   \n",
       "Decision Tree (max_depth=None)  0.875882  0.652609        0.867999   \n",
       "RandomForest                    0.875882  0.652610        0.867999   \n",
       "Perceptron                      0.872702  0.650019        0.864267   \n",
       "Dummy Classifier                0.501012  0.017893        0.500857   \n",
       "Most Frequent Clasifier         0.500000  0.000000        0.094819   \n",
       "\n",
       "                                Macro Average MAE  \n",
       "Neural Network                           0.123650  \n",
       "GradientBoostingForest                   0.123795  \n",
       "GNB                                      0.123804  \n",
       "XGBoost                                  0.124117  \n",
       "Decision Tree (max_depth=None)           0.124118  \n",
       "RandomForest                             0.124118  \n",
       "Perceptron                               0.127298  \n",
       "Dummy Classifier                         0.498988  \n",
       "Most Frequent Clasifier                  0.500000  "
      ]
     },
     "execution_count": 112,
     "metadata": {},
     "output_type": "execute_result"
    }
   ],
   "source": [
    "results = pd.DataFrame([prediction[name] for name in models.keys()], index=models.keys())\n",
    "results.sort_values('AUROC', ascending=False)"
   ]
  },
  {
   "cell_type": "code",
   "execution_count": 113,
   "metadata": {},
   "outputs": [
    {
     "data": {
      "text/html": [
       "<div>\n",
       "<style scoped>\n",
       "    .dataframe tbody tr th:only-of-type {\n",
       "        vertical-align: middle;\n",
       "    }\n",
       "\n",
       "    .dataframe tbody tr th {\n",
       "        vertical-align: top;\n",
       "    }\n",
       "\n",
       "    .dataframe thead th {\n",
       "        text-align: right;\n",
       "    }\n",
       "</style>\n",
       "<table border=\"1\" class=\"dataframe\">\n",
       "  <thead>\n",
       "    <tr style=\"text-align: right;\">\n",
       "      <th></th>\n",
       "      <th>Balanced Accuracy</th>\n",
       "      <th>Sensitivity</th>\n",
       "      <th>Specificity</th>\n",
       "      <th>AUROC</th>\n",
       "      <th>F1</th>\n",
       "      <th>Geometric Mean</th>\n",
       "      <th>Macro Average MAE</th>\n",
       "    </tr>\n",
       "  </thead>\n",
       "  <tbody>\n",
       "    <tr>\n",
       "      <th>Decision Tree (max_depth=None)</th>\n",
       "      <td>0.876370</td>\n",
       "      <td>0.876370</td>\n",
       "      <td>0.876370</td>\n",
       "      <td>0.876370</td>\n",
       "      <td>0.859753</td>\n",
       "      <td>0.876370</td>\n",
       "      <td>0.123630</td>\n",
       "    </tr>\n",
       "    <tr>\n",
       "      <th>RandomForest</th>\n",
       "      <td>0.876370</td>\n",
       "      <td>0.876370</td>\n",
       "      <td>0.876370</td>\n",
       "      <td>0.876370</td>\n",
       "      <td>0.859753</td>\n",
       "      <td>0.876370</td>\n",
       "      <td>0.123630</td>\n",
       "    </tr>\n",
       "    <tr>\n",
       "      <th>XGBoost</th>\n",
       "      <td>0.876370</td>\n",
       "      <td>0.876370</td>\n",
       "      <td>0.876370</td>\n",
       "      <td>0.876370</td>\n",
       "      <td>0.859753</td>\n",
       "      <td>0.876370</td>\n",
       "      <td>0.123630</td>\n",
       "    </tr>\n",
       "    <tr>\n",
       "      <th>Neural Network</th>\n",
       "      <td>0.876343</td>\n",
       "      <td>0.876343</td>\n",
       "      <td>0.876343</td>\n",
       "      <td>0.876343</td>\n",
       "      <td>0.859727</td>\n",
       "      <td>0.876343</td>\n",
       "      <td>0.123657</td>\n",
       "    </tr>\n",
       "    <tr>\n",
       "      <th>GradientBoostingForest</th>\n",
       "      <td>0.876333</td>\n",
       "      <td>0.876333</td>\n",
       "      <td>0.876333</td>\n",
       "      <td>0.876333</td>\n",
       "      <td>0.859717</td>\n",
       "      <td>0.876333</td>\n",
       "      <td>0.123667</td>\n",
       "    </tr>\n",
       "    <tr>\n",
       "      <th>GNB</th>\n",
       "      <td>0.876326</td>\n",
       "      <td>0.876326</td>\n",
       "      <td>0.876326</td>\n",
       "      <td>0.876326</td>\n",
       "      <td>0.859711</td>\n",
       "      <td>0.876326</td>\n",
       "      <td>0.123674</td>\n",
       "    </tr>\n",
       "    <tr>\n",
       "      <th>Perceptron</th>\n",
       "      <td>0.872319</td>\n",
       "      <td>0.872319</td>\n",
       "      <td>0.872319</td>\n",
       "      <td>0.872319</td>\n",
       "      <td>0.854322</td>\n",
       "      <td>0.872319</td>\n",
       "      <td>0.127681</td>\n",
       "    </tr>\n",
       "    <tr>\n",
       "      <th>Most Frequent Clasifier</th>\n",
       "      <td>0.500000</td>\n",
       "      <td>0.500000</td>\n",
       "      <td>0.500000</td>\n",
       "      <td>0.500000</td>\n",
       "      <td>0.000000</td>\n",
       "      <td>0.500000</td>\n",
       "      <td>0.500000</td>\n",
       "    </tr>\n",
       "    <tr>\n",
       "      <th>Dummy Classifier</th>\n",
       "      <td>0.499952</td>\n",
       "      <td>0.499952</td>\n",
       "      <td>0.499952</td>\n",
       "      <td>0.499952</td>\n",
       "      <td>0.499976</td>\n",
       "      <td>0.499952</td>\n",
       "      <td>0.500048</td>\n",
       "    </tr>\n",
       "  </tbody>\n",
       "</table>\n",
       "</div>"
      ],
      "text/plain": [
       "                                Balanced Accuracy  Sensitivity  Specificity  \\\n",
       "Decision Tree (max_depth=None)           0.876370     0.876370     0.876370   \n",
       "RandomForest                             0.876370     0.876370     0.876370   \n",
       "XGBoost                                  0.876370     0.876370     0.876370   \n",
       "Neural Network                           0.876343     0.876343     0.876343   \n",
       "GradientBoostingForest                   0.876333     0.876333     0.876333   \n",
       "GNB                                      0.876326     0.876326     0.876326   \n",
       "Perceptron                               0.872319     0.872319     0.872319   \n",
       "Most Frequent Clasifier                  0.500000     0.500000     0.500000   \n",
       "Dummy Classifier                         0.499952     0.499952     0.499952   \n",
       "\n",
       "                                   AUROC        F1  Geometric Mean  \\\n",
       "Decision Tree (max_depth=None)  0.876370  0.859753        0.876370   \n",
       "RandomForest                    0.876370  0.859753        0.876370   \n",
       "XGBoost                         0.876370  0.859753        0.876370   \n",
       "Neural Network                  0.876343  0.859727        0.876343   \n",
       "GradientBoostingForest          0.876333  0.859717        0.876333   \n",
       "GNB                             0.876326  0.859711        0.876326   \n",
       "Perceptron                      0.872319  0.854322        0.872319   \n",
       "Most Frequent Clasifier         0.500000  0.000000        0.500000   \n",
       "Dummy Classifier                0.499952  0.499976        0.499952   \n",
       "\n",
       "                                Macro Average MAE  \n",
       "Decision Tree (max_depth=None)           0.123630  \n",
       "RandomForest                             0.123630  \n",
       "XGBoost                                  0.123630  \n",
       "Neural Network                           0.123657  \n",
       "GradientBoostingForest                   0.123667  \n",
       "GNB                                      0.123674  \n",
       "Perceptron                               0.127681  \n",
       "Most Frequent Clasifier                  0.500000  \n",
       "Dummy Classifier                         0.500048  "
      ]
     },
     "execution_count": 113,
     "metadata": {},
     "output_type": "execute_result"
    }
   ],
   "source": [
    "results = pd.DataFrame([prediction_train[name] for name in models.keys()], index=models.keys())\n",
    "results.sort_values('AUROC', ascending=False)"
   ]
  },
  {
   "cell_type": "markdown",
   "metadata": {},
   "source": [
    "### over sampling with SMOTE"
   ]
  },
  {
   "cell_type": "code",
   "execution_count": 114,
   "metadata": {},
   "outputs": [
    {
     "name": "stdout",
     "output_type": "stream",
     "text": [
      "25932/25932 [==============================] - 17s 648us/step - loss: 0.3202 - binary_accuracy: 0.8763 - auc: 0.8763\n",
      "25932/25932 [==============================] - 16s 630us/step - loss: 0.3200 - binary_accuracy: 0.8765 - auc: 0.8775\n",
      "25932/25932 [==============================] - 16s 630us/step - loss: 0.3230 - binary_accuracy: 0.8746 - auc: 0.8752\n",
      "25932/25932 [==============================] - 17s 650us/step - loss: 0.3211 - binary_accuracy: 0.8758 - auc: 0.8765\n",
      "25932/25932 [==============================] - 17s 638us/step - loss: 0.3204 - binary_accuracy: 0.8762 - auc: 0.8769\n",
      "25932/25932 [==============================] - 16s 618us/step - loss: 0.3214 - binary_accuracy: 0.8756 - auc: 0.8759\n",
      "25932/25932 [==============================] - 17s 649us/step - loss: 0.3186 - binary_accuracy: 0.8774 - auc: 0.8779\n",
      "25932/25932 [==============================] - 17s 656us/step - loss: 0.3209 - binary_accuracy: 0.8759 - auc: 0.8762\n",
      "25932/25932 [==============================] - 16s 609us/step - loss: 0.3187 - binary_accuracy: 0.8771 - auc: 0.8778\n",
      "25932/25932 [==============================] - 16s 600us/step - loss: 0.3175 - binary_accuracy: 0.8779 - auc: 0.8781\n"
     ]
    }
   ],
   "source": [
    "n_splits = 10;\n",
    "skf = StratifiedKFold(n_splits=n_splits, shuffle=True, random_state=0)\n",
    "prediction = dict() # store the metrics\n",
    "prediction_train = dict() # store the metrics for the trainning set\n",
    "for train_index, test_index in skf.split(X, Y):\n",
    "    X_train, X_test = X.iloc[train_index], X.iloc[test_index]\n",
    "    y_train, y_test = Y[train_index], Y[test_index]\n",
    "    X_train, y_train = oversample_smote(X_train, y_train)\n",
    "    for classif_name in models.keys():\n",
    "        classif = models[classif_name]\n",
    "        classif.fit(X_train, y_train)\n",
    "        y_pred = classif.predict(X_test) # test\n",
    "        # threasholding the continuous predicted value to binary labels\n",
    "        y_pred = thresholding(y_pred, y_test)\n",
    "        output = evaluate_imbalanced(y_test, y_pred)\n",
    "        y_pred_train = classif.predict(X_train) # train\n",
    "        # threasholding the continuous predicted value to binary labels\n",
    "        y_pred_train = thresholding(y_pred_train, y_train)\n",
    "        output_train = evaluate_imbalanced(y_train, y_pred_train)\n",
    "        ## store the metrics in a dict\n",
    "        if classif_name in prediction:\n",
    "            for metric in prediction[classif_name].keys():\n",
    "                prediction[classif_name][metric] += output[metric]\n",
    "                prediction_train[classif_name][metric] += output_train[metric]\n",
    "        else:\n",
    "            prediction[classif_name] = output\n",
    "            prediction_train[classif_name] = output_train"
   ]
  },
  {
   "cell_type": "code",
   "execution_count": 115,
   "metadata": {},
   "outputs": [],
   "source": [
    "# calculate the avereage of metrics for k-folds\n",
    "for classif_name in prediction.keys():\n",
    "    for metric in prediction[classif_name].keys():\n",
    "        prediction[classif_name][metric] /= n_splits\n",
    "        prediction_train[classif_name][metric] /= n_splits"
   ]
  },
  {
   "cell_type": "code",
   "execution_count": 116,
   "metadata": {},
   "outputs": [
    {
     "data": {
      "text/html": [
       "<div>\n",
       "<style scoped>\n",
       "    .dataframe tbody tr th:only-of-type {\n",
       "        vertical-align: middle;\n",
       "    }\n",
       "\n",
       "    .dataframe tbody tr th {\n",
       "        vertical-align: top;\n",
       "    }\n",
       "\n",
       "    .dataframe thead th {\n",
       "        text-align: right;\n",
       "    }\n",
       "</style>\n",
       "<table border=\"1\" class=\"dataframe\">\n",
       "  <thead>\n",
       "    <tr style=\"text-align: right;\">\n",
       "      <th></th>\n",
       "      <th>Balanced Accuracy</th>\n",
       "      <th>Sensitivity</th>\n",
       "      <th>Specificity</th>\n",
       "      <th>AUROC</th>\n",
       "      <th>F1</th>\n",
       "      <th>Geometric Mean</th>\n",
       "      <th>Macro Average MAE</th>\n",
       "    </tr>\n",
       "  </thead>\n",
       "  <tbody>\n",
       "    <tr>\n",
       "      <th>Neural Network</th>\n",
       "      <td>0.876383</td>\n",
       "      <td>0.992978</td>\n",
       "      <td>0.759789</td>\n",
       "      <td>0.876383</td>\n",
       "      <td>0.662245</td>\n",
       "      <td>0.868533</td>\n",
       "      <td>0.123617</td>\n",
       "    </tr>\n",
       "    <tr>\n",
       "      <th>GNB</th>\n",
       "      <td>0.876196</td>\n",
       "      <td>0.992606</td>\n",
       "      <td>0.759785</td>\n",
       "      <td>0.876196</td>\n",
       "      <td>0.650455</td>\n",
       "      <td>0.868369</td>\n",
       "      <td>0.123804</td>\n",
       "    </tr>\n",
       "    <tr>\n",
       "      <th>GradientBoostingForest</th>\n",
       "      <td>0.875975</td>\n",
       "      <td>0.992634</td>\n",
       "      <td>0.759316</td>\n",
       "      <td>0.875975</td>\n",
       "      <td>0.651184</td>\n",
       "      <td>0.868113</td>\n",
       "      <td>0.124025</td>\n",
       "    </tr>\n",
       "    <tr>\n",
       "      <th>Decision Tree (max_depth=None)</th>\n",
       "      <td>0.875883</td>\n",
       "      <td>0.992685</td>\n",
       "      <td>0.759082</td>\n",
       "      <td>0.875883</td>\n",
       "      <td>0.652677</td>\n",
       "      <td>0.868000</td>\n",
       "      <td>0.124117</td>\n",
       "    </tr>\n",
       "    <tr>\n",
       "      <th>XGBoost</th>\n",
       "      <td>0.875883</td>\n",
       "      <td>0.992685</td>\n",
       "      <td>0.759082</td>\n",
       "      <td>0.875883</td>\n",
       "      <td>0.652677</td>\n",
       "      <td>0.868000</td>\n",
       "      <td>0.124117</td>\n",
       "    </tr>\n",
       "    <tr>\n",
       "      <th>RandomForest</th>\n",
       "      <td>0.875882</td>\n",
       "      <td>0.992683</td>\n",
       "      <td>0.759082</td>\n",
       "      <td>0.875882</td>\n",
       "      <td>0.652610</td>\n",
       "      <td>0.867999</td>\n",
       "      <td>0.124118</td>\n",
       "    </tr>\n",
       "    <tr>\n",
       "      <th>Perceptron</th>\n",
       "      <td>0.872382</td>\n",
       "      <td>0.992726</td>\n",
       "      <td>0.752038</td>\n",
       "      <td>0.872382</td>\n",
       "      <td>0.651872</td>\n",
       "      <td>0.863884</td>\n",
       "      <td>0.127618</td>\n",
       "    </tr>\n",
       "    <tr>\n",
       "      <th>Dummy Classifier</th>\n",
       "      <td>0.500124</td>\n",
       "      <td>0.500594</td>\n",
       "      <td>0.499653</td>\n",
       "      <td>0.500124</td>\n",
       "      <td>0.017829</td>\n",
       "      <td>0.499965</td>\n",
       "      <td>0.499876</td>\n",
       "    </tr>\n",
       "    <tr>\n",
       "      <th>Most Frequent Clasifier</th>\n",
       "      <td>0.500000</td>\n",
       "      <td>0.990927</td>\n",
       "      <td>0.009073</td>\n",
       "      <td>0.500000</td>\n",
       "      <td>0.000000</td>\n",
       "      <td>0.094819</td>\n",
       "      <td>0.500000</td>\n",
       "    </tr>\n",
       "  </tbody>\n",
       "</table>\n",
       "</div>"
      ],
      "text/plain": [
       "                                Balanced Accuracy  Sensitivity  Specificity  \\\n",
       "Neural Network                           0.876383     0.992978     0.759789   \n",
       "GNB                                      0.876196     0.992606     0.759785   \n",
       "GradientBoostingForest                   0.875975     0.992634     0.759316   \n",
       "Decision Tree (max_depth=None)           0.875883     0.992685     0.759082   \n",
       "XGBoost                                  0.875883     0.992685     0.759082   \n",
       "RandomForest                             0.875882     0.992683     0.759082   \n",
       "Perceptron                               0.872382     0.992726     0.752038   \n",
       "Dummy Classifier                         0.500124     0.500594     0.499653   \n",
       "Most Frequent Clasifier                  0.500000     0.990927     0.009073   \n",
       "\n",
       "                                   AUROC        F1  Geometric Mean  \\\n",
       "Neural Network                  0.876383  0.662245        0.868533   \n",
       "GNB                             0.876196  0.650455        0.868369   \n",
       "GradientBoostingForest          0.875975  0.651184        0.868113   \n",
       "Decision Tree (max_depth=None)  0.875883  0.652677        0.868000   \n",
       "XGBoost                         0.875883  0.652677        0.868000   \n",
       "RandomForest                    0.875882  0.652610        0.867999   \n",
       "Perceptron                      0.872382  0.651872        0.863884   \n",
       "Dummy Classifier                0.500124  0.017829        0.499965   \n",
       "Most Frequent Clasifier         0.500000  0.000000        0.094819   \n",
       "\n",
       "                                Macro Average MAE  \n",
       "Neural Network                           0.123617  \n",
       "GNB                                      0.123804  \n",
       "GradientBoostingForest                   0.124025  \n",
       "Decision Tree (max_depth=None)           0.124117  \n",
       "XGBoost                                  0.124117  \n",
       "RandomForest                             0.124118  \n",
       "Perceptron                               0.127618  \n",
       "Dummy Classifier                         0.499876  \n",
       "Most Frequent Clasifier                  0.500000  "
      ]
     },
     "execution_count": 116,
     "metadata": {},
     "output_type": "execute_result"
    }
   ],
   "source": [
    "results = pd.DataFrame([prediction[name] for name in models.keys()], index=models.keys())\n",
    "results.sort_values('AUROC', ascending=False)"
   ]
  },
  {
   "cell_type": "code",
   "execution_count": 117,
   "metadata": {},
   "outputs": [
    {
     "data": {
      "text/html": [
       "<div>\n",
       "<style scoped>\n",
       "    .dataframe tbody tr th:only-of-type {\n",
       "        vertical-align: middle;\n",
       "    }\n",
       "\n",
       "    .dataframe tbody tr th {\n",
       "        vertical-align: top;\n",
       "    }\n",
       "\n",
       "    .dataframe thead th {\n",
       "        text-align: right;\n",
       "    }\n",
       "</style>\n",
       "<table border=\"1\" class=\"dataframe\">\n",
       "  <thead>\n",
       "    <tr style=\"text-align: right;\">\n",
       "      <th></th>\n",
       "      <th>Balanced Accuracy</th>\n",
       "      <th>Sensitivity</th>\n",
       "      <th>Specificity</th>\n",
       "      <th>AUROC</th>\n",
       "      <th>F1</th>\n",
       "      <th>Geometric Mean</th>\n",
       "      <th>Macro Average MAE</th>\n",
       "    </tr>\n",
       "  </thead>\n",
       "  <tbody>\n",
       "    <tr>\n",
       "      <th>Decision Tree (max_depth=None)</th>\n",
       "      <td>0.876366</td>\n",
       "      <td>0.876366</td>\n",
       "      <td>0.876366</td>\n",
       "      <td>0.876366</td>\n",
       "      <td>0.859748</td>\n",
       "      <td>0.876366</td>\n",
       "      <td>0.123634</td>\n",
       "    </tr>\n",
       "    <tr>\n",
       "      <th>RandomForest</th>\n",
       "      <td>0.876366</td>\n",
       "      <td>0.876366</td>\n",
       "      <td>0.876366</td>\n",
       "      <td>0.876366</td>\n",
       "      <td>0.859748</td>\n",
       "      <td>0.876366</td>\n",
       "      <td>0.123634</td>\n",
       "    </tr>\n",
       "    <tr>\n",
       "      <th>XGBoost</th>\n",
       "      <td>0.876366</td>\n",
       "      <td>0.876366</td>\n",
       "      <td>0.876366</td>\n",
       "      <td>0.876366</td>\n",
       "      <td>0.859748</td>\n",
       "      <td>0.876366</td>\n",
       "      <td>0.123634</td>\n",
       "    </tr>\n",
       "    <tr>\n",
       "      <th>Neural Network</th>\n",
       "      <td>0.876343</td>\n",
       "      <td>0.876343</td>\n",
       "      <td>0.876343</td>\n",
       "      <td>0.876343</td>\n",
       "      <td>0.859725</td>\n",
       "      <td>0.876343</td>\n",
       "      <td>0.123657</td>\n",
       "    </tr>\n",
       "    <tr>\n",
       "      <th>GradientBoostingForest</th>\n",
       "      <td>0.876329</td>\n",
       "      <td>0.876329</td>\n",
       "      <td>0.876329</td>\n",
       "      <td>0.876329</td>\n",
       "      <td>0.859708</td>\n",
       "      <td>0.876329</td>\n",
       "      <td>0.123671</td>\n",
       "    </tr>\n",
       "    <tr>\n",
       "      <th>GNB</th>\n",
       "      <td>0.876323</td>\n",
       "      <td>0.876323</td>\n",
       "      <td>0.876323</td>\n",
       "      <td>0.876323</td>\n",
       "      <td>0.859706</td>\n",
       "      <td>0.876323</td>\n",
       "      <td>0.123677</td>\n",
       "    </tr>\n",
       "    <tr>\n",
       "      <th>Perceptron</th>\n",
       "      <td>0.872208</td>\n",
       "      <td>0.872208</td>\n",
       "      <td>0.872208</td>\n",
       "      <td>0.872208</td>\n",
       "      <td>0.854205</td>\n",
       "      <td>0.872208</td>\n",
       "      <td>0.127792</td>\n",
       "    </tr>\n",
       "    <tr>\n",
       "      <th>Most Frequent Clasifier</th>\n",
       "      <td>0.500000</td>\n",
       "      <td>0.500000</td>\n",
       "      <td>0.500000</td>\n",
       "      <td>0.500000</td>\n",
       "      <td>0.000000</td>\n",
       "      <td>0.500000</td>\n",
       "      <td>0.500000</td>\n",
       "    </tr>\n",
       "    <tr>\n",
       "      <th>Dummy Classifier</th>\n",
       "      <td>0.499942</td>\n",
       "      <td>0.499942</td>\n",
       "      <td>0.499942</td>\n",
       "      <td>0.499942</td>\n",
       "      <td>0.499742</td>\n",
       "      <td>0.499942</td>\n",
       "      <td>0.500058</td>\n",
       "    </tr>\n",
       "  </tbody>\n",
       "</table>\n",
       "</div>"
      ],
      "text/plain": [
       "                                Balanced Accuracy  Sensitivity  Specificity  \\\n",
       "Decision Tree (max_depth=None)           0.876366     0.876366     0.876366   \n",
       "RandomForest                             0.876366     0.876366     0.876366   \n",
       "XGBoost                                  0.876366     0.876366     0.876366   \n",
       "Neural Network                           0.876343     0.876343     0.876343   \n",
       "GradientBoostingForest                   0.876329     0.876329     0.876329   \n",
       "GNB                                      0.876323     0.876323     0.876323   \n",
       "Perceptron                               0.872208     0.872208     0.872208   \n",
       "Most Frequent Clasifier                  0.500000     0.500000     0.500000   \n",
       "Dummy Classifier                         0.499942     0.499942     0.499942   \n",
       "\n",
       "                                   AUROC        F1  Geometric Mean  \\\n",
       "Decision Tree (max_depth=None)  0.876366  0.859748        0.876366   \n",
       "RandomForest                    0.876366  0.859748        0.876366   \n",
       "XGBoost                         0.876366  0.859748        0.876366   \n",
       "Neural Network                  0.876343  0.859725        0.876343   \n",
       "GradientBoostingForest          0.876329  0.859708        0.876329   \n",
       "GNB                             0.876323  0.859706        0.876323   \n",
       "Perceptron                      0.872208  0.854205        0.872208   \n",
       "Most Frequent Clasifier         0.500000  0.000000        0.500000   \n",
       "Dummy Classifier                0.499942  0.499742        0.499942   \n",
       "\n",
       "                                Macro Average MAE  \n",
       "Decision Tree (max_depth=None)           0.123634  \n",
       "RandomForest                             0.123634  \n",
       "XGBoost                                  0.123634  \n",
       "Neural Network                           0.123657  \n",
       "GradientBoostingForest                   0.123671  \n",
       "GNB                                      0.123677  \n",
       "Perceptron                               0.127792  \n",
       "Most Frequent Clasifier                  0.500000  \n",
       "Dummy Classifier                         0.500058  "
      ]
     },
     "execution_count": 117,
     "metadata": {},
     "output_type": "execute_result"
    }
   ],
   "source": [
    "results = pd.DataFrame([prediction_train[name] for name in models.keys()], index=models.keys())\n",
    "results.sort_values('AUROC', ascending=False)"
   ]
  },
  {
   "cell_type": "markdown",
   "metadata": {},
   "source": [
    "### under sampling"
   ]
  },
  {
   "cell_type": "code",
   "execution_count": 118,
   "metadata": {},
   "outputs": [
    {
     "name": "stdout",
     "output_type": "stream",
     "text": [
      "238/238 [==============================] - 0s 726us/step - loss: 0.3169 - binary_accuracy: 0.8772 - auc: 0.8737\n",
      "238/238 [==============================] - 0s 735us/step - loss: 0.3199 - binary_accuracy: 0.8764 - auc: 0.8731\n",
      "238/238 [==============================] - 0s 746us/step - loss: 0.3208 - binary_accuracy: 0.8751 - auc: 0.8726\n",
      "238/238 [==============================] - 0s 732us/step - loss: 0.3214 - binary_accuracy: 0.8755 - auc: 0.8752\n",
      "238/238 [==============================] - 0s 758us/step - loss: 0.3187 - binary_accuracy: 0.8763 - auc: 0.8751\n",
      "238/238 [==============================] - 0s 729us/step - loss: 0.3259 - binary_accuracy: 0.8742 - auc: 0.8720\n",
      "238/238 [==============================] - 0s 735us/step - loss: 0.3174 - binary_accuracy: 0.8777 - auc: 0.8752\n",
      "238/238 [==============================] - 0s 736us/step - loss: 0.3216 - binary_accuracy: 0.8758 - auc: 0.8755\n",
      "238/238 [==============================] - 0s 730us/step - loss: 0.3166 - binary_accuracy: 0.8773 - auc: 0.8740\n",
      "238/238 [==============================] - 0s 727us/step - loss: 0.3164 - binary_accuracy: 0.8781 - auc: 0.8758\n"
     ]
    }
   ],
   "source": [
    "n_splits = 10;\n",
    "skf = StratifiedKFold(n_splits=n_splits, shuffle=True, random_state=0)\n",
    "prediction = dict() # store the metrics\n",
    "prediction_train = dict() # store the metrics for the trainning set\n",
    "for train_index, test_index in skf.split(X, Y):\n",
    "    X_train, X_test = X.iloc[train_index], X.iloc[test_index]\n",
    "    y_train, y_test = Y[train_index], Y[test_index]\n",
    "    X_train, y_train = undersample(X_train, y_train)\n",
    "    for classif_name in models.keys():\n",
    "        classif = models[classif_name]\n",
    "        classif.fit(X_train, y_train)\n",
    "        y_pred = classif.predict(X_test) # test\n",
    "        # threasholding the continuous predicted value to binary labels\n",
    "        y_pred = thresholding(y_pred, y_test)\n",
    "        output = evaluate_imbalanced(y_test, y_pred)\n",
    "        y_pred_train = classif.predict(X_train) # train\n",
    "        # threasholding the continuous predicted value to binary labels\n",
    "        y_pred_train = thresholding(y_pred_train, y_train)\n",
    "        output_train = evaluate_imbalanced(y_train, y_pred_train)\n",
    "        ## store the metrics in a dict\n",
    "        if classif_name in prediction:\n",
    "            for metric in prediction[classif_name].keys():\n",
    "                prediction[classif_name][metric] += output[metric]\n",
    "                prediction_train[classif_name][metric] += output_train[metric]\n",
    "        else:\n",
    "            prediction[classif_name] = output\n",
    "            prediction_train[classif_name] = output_train"
   ]
  },
  {
   "cell_type": "code",
   "execution_count": 119,
   "metadata": {},
   "outputs": [],
   "source": [
    "# calculate the avereage of metrics for k-folds\n",
    "for classif_name in prediction.keys():\n",
    "    for metric in prediction[classif_name].keys():\n",
    "        prediction[classif_name][metric] /= n_splits\n",
    "        prediction_train[classif_name][metric] /= n_splits"
   ]
  },
  {
   "cell_type": "code",
   "execution_count": 120,
   "metadata": {},
   "outputs": [
    {
     "data": {
      "text/html": [
       "<div>\n",
       "<style scoped>\n",
       "    .dataframe tbody tr th:only-of-type {\n",
       "        vertical-align: middle;\n",
       "    }\n",
       "\n",
       "    .dataframe tbody tr th {\n",
       "        vertical-align: top;\n",
       "    }\n",
       "\n",
       "    .dataframe thead th {\n",
       "        text-align: right;\n",
       "    }\n",
       "</style>\n",
       "<table border=\"1\" class=\"dataframe\">\n",
       "  <thead>\n",
       "    <tr style=\"text-align: right;\">\n",
       "      <th></th>\n",
       "      <th>Balanced Accuracy</th>\n",
       "      <th>Sensitivity</th>\n",
       "      <th>Specificity</th>\n",
       "      <th>AUROC</th>\n",
       "      <th>F1</th>\n",
       "      <th>Geometric Mean</th>\n",
       "      <th>Macro Average MAE</th>\n",
       "    </tr>\n",
       "  </thead>\n",
       "  <tbody>\n",
       "    <tr>\n",
       "      <th>Neural Network</th>\n",
       "      <td>0.876386</td>\n",
       "      <td>0.992984</td>\n",
       "      <td>0.759789</td>\n",
       "      <td>0.876386</td>\n",
       "      <td>0.662435</td>\n",
       "      <td>0.868536</td>\n",
       "      <td>0.123614</td>\n",
       "    </tr>\n",
       "    <tr>\n",
       "      <th>XGBoost</th>\n",
       "      <td>0.876203</td>\n",
       "      <td>0.992621</td>\n",
       "      <td>0.759785</td>\n",
       "      <td>0.876203</td>\n",
       "      <td>0.650904</td>\n",
       "      <td>0.868375</td>\n",
       "      <td>0.123797</td>\n",
       "    </tr>\n",
       "    <tr>\n",
       "      <th>GNB</th>\n",
       "      <td>0.876196</td>\n",
       "      <td>0.992606</td>\n",
       "      <td>0.759785</td>\n",
       "      <td>0.876196</td>\n",
       "      <td>0.650455</td>\n",
       "      <td>0.868369</td>\n",
       "      <td>0.123804</td>\n",
       "    </tr>\n",
       "    <tr>\n",
       "      <th>RandomForest</th>\n",
       "      <td>0.876106</td>\n",
       "      <td>0.992662</td>\n",
       "      <td>0.759551</td>\n",
       "      <td>0.876106</td>\n",
       "      <td>0.652138</td>\n",
       "      <td>0.868259</td>\n",
       "      <td>0.123894</td>\n",
       "    </tr>\n",
       "    <tr>\n",
       "      <th>GradientBoostingForest</th>\n",
       "      <td>0.875974</td>\n",
       "      <td>0.992632</td>\n",
       "      <td>0.759316</td>\n",
       "      <td>0.875974</td>\n",
       "      <td>0.651100</td>\n",
       "      <td>0.868112</td>\n",
       "      <td>0.124026</td>\n",
       "    </tr>\n",
       "    <tr>\n",
       "      <th>Decision Tree (max_depth=None)</th>\n",
       "      <td>0.875882</td>\n",
       "      <td>0.992683</td>\n",
       "      <td>0.759082</td>\n",
       "      <td>0.875882</td>\n",
       "      <td>0.652663</td>\n",
       "      <td>0.868000</td>\n",
       "      <td>0.124118</td>\n",
       "    </tr>\n",
       "    <tr>\n",
       "      <th>Perceptron</th>\n",
       "      <td>0.796337</td>\n",
       "      <td>0.992320</td>\n",
       "      <td>0.600355</td>\n",
       "      <td>0.796337</td>\n",
       "      <td>0.518617</td>\n",
       "      <td>0.708035</td>\n",
       "      <td>0.203663</td>\n",
       "    </tr>\n",
       "    <tr>\n",
       "      <th>Dummy Classifier</th>\n",
       "      <td>0.508344</td>\n",
       "      <td>0.501542</td>\n",
       "      <td>0.515146</td>\n",
       "      <td>0.508344</td>\n",
       "      <td>0.018413</td>\n",
       "      <td>0.508109</td>\n",
       "      <td>0.491656</td>\n",
       "    </tr>\n",
       "    <tr>\n",
       "      <th>Most Frequent Clasifier</th>\n",
       "      <td>0.500000</td>\n",
       "      <td>0.990927</td>\n",
       "      <td>0.009073</td>\n",
       "      <td>0.500000</td>\n",
       "      <td>0.000000</td>\n",
       "      <td>0.094819</td>\n",
       "      <td>0.500000</td>\n",
       "    </tr>\n",
       "  </tbody>\n",
       "</table>\n",
       "</div>"
      ],
      "text/plain": [
       "                                Balanced Accuracy  Sensitivity  Specificity  \\\n",
       "Neural Network                           0.876386     0.992984     0.759789   \n",
       "XGBoost                                  0.876203     0.992621     0.759785   \n",
       "GNB                                      0.876196     0.992606     0.759785   \n",
       "RandomForest                             0.876106     0.992662     0.759551   \n",
       "GradientBoostingForest                   0.875974     0.992632     0.759316   \n",
       "Decision Tree (max_depth=None)           0.875882     0.992683     0.759082   \n",
       "Perceptron                               0.796337     0.992320     0.600355   \n",
       "Dummy Classifier                         0.508344     0.501542     0.515146   \n",
       "Most Frequent Clasifier                  0.500000     0.990927     0.009073   \n",
       "\n",
       "                                   AUROC        F1  Geometric Mean  \\\n",
       "Neural Network                  0.876386  0.662435        0.868536   \n",
       "XGBoost                         0.876203  0.650904        0.868375   \n",
       "GNB                             0.876196  0.650455        0.868369   \n",
       "RandomForest                    0.876106  0.652138        0.868259   \n",
       "GradientBoostingForest          0.875974  0.651100        0.868112   \n",
       "Decision Tree (max_depth=None)  0.875882  0.652663        0.868000   \n",
       "Perceptron                      0.796337  0.518617        0.708035   \n",
       "Dummy Classifier                0.508344  0.018413        0.508109   \n",
       "Most Frequent Clasifier         0.500000  0.000000        0.094819   \n",
       "\n",
       "                                Macro Average MAE  \n",
       "Neural Network                           0.123614  \n",
       "XGBoost                                  0.123797  \n",
       "GNB                                      0.123804  \n",
       "RandomForest                             0.123894  \n",
       "GradientBoostingForest                   0.124026  \n",
       "Decision Tree (max_depth=None)           0.124118  \n",
       "Perceptron                               0.203663  \n",
       "Dummy Classifier                         0.491656  \n",
       "Most Frequent Clasifier                  0.500000  "
      ]
     },
     "execution_count": 120,
     "metadata": {},
     "output_type": "execute_result"
    }
   ],
   "source": [
    "results = pd.DataFrame([prediction[name] for name in models.keys()], index=models.keys())\n",
    "results.sort_values('AUROC', ascending=False)"
   ]
  },
  {
   "cell_type": "code",
   "execution_count": 121,
   "metadata": {},
   "outputs": [
    {
     "data": {
      "text/html": [
       "<div>\n",
       "<style scoped>\n",
       "    .dataframe tbody tr th:only-of-type {\n",
       "        vertical-align: middle;\n",
       "    }\n",
       "\n",
       "    .dataframe tbody tr th {\n",
       "        vertical-align: top;\n",
       "    }\n",
       "\n",
       "    .dataframe thead th {\n",
       "        text-align: right;\n",
       "    }\n",
       "</style>\n",
       "<table border=\"1\" class=\"dataframe\">\n",
       "  <thead>\n",
       "    <tr style=\"text-align: right;\">\n",
       "      <th></th>\n",
       "      <th>Balanced Accuracy</th>\n",
       "      <th>Sensitivity</th>\n",
       "      <th>Specificity</th>\n",
       "      <th>AUROC</th>\n",
       "      <th>F1</th>\n",
       "      <th>Geometric Mean</th>\n",
       "      <th>Macro Average MAE</th>\n",
       "    </tr>\n",
       "  </thead>\n",
       "  <tbody>\n",
       "    <tr>\n",
       "      <th>Decision Tree (max_depth=None)</th>\n",
       "      <td>0.876412</td>\n",
       "      <td>0.876412</td>\n",
       "      <td>0.876412</td>\n",
       "      <td>0.876412</td>\n",
       "      <td>0.859715</td>\n",
       "      <td>0.876412</td>\n",
       "      <td>0.123588</td>\n",
       "    </tr>\n",
       "    <tr>\n",
       "      <th>RandomForest</th>\n",
       "      <td>0.876412</td>\n",
       "      <td>0.876412</td>\n",
       "      <td>0.876412</td>\n",
       "      <td>0.876412</td>\n",
       "      <td>0.859728</td>\n",
       "      <td>0.876412</td>\n",
       "      <td>0.123588</td>\n",
       "    </tr>\n",
       "    <tr>\n",
       "      <th>XGBoost</th>\n",
       "      <td>0.876398</td>\n",
       "      <td>0.876398</td>\n",
       "      <td>0.876398</td>\n",
       "      <td>0.876398</td>\n",
       "      <td>0.859732</td>\n",
       "      <td>0.876398</td>\n",
       "      <td>0.123602</td>\n",
       "    </tr>\n",
       "    <tr>\n",
       "      <th>GradientBoostingForest</th>\n",
       "      <td>0.876385</td>\n",
       "      <td>0.876385</td>\n",
       "      <td>0.876385</td>\n",
       "      <td>0.876385</td>\n",
       "      <td>0.859715</td>\n",
       "      <td>0.876385</td>\n",
       "      <td>0.123615</td>\n",
       "    </tr>\n",
       "    <tr>\n",
       "      <th>GNB</th>\n",
       "      <td>0.876359</td>\n",
       "      <td>0.876359</td>\n",
       "      <td>0.876359</td>\n",
       "      <td>0.876359</td>\n",
       "      <td>0.859702</td>\n",
       "      <td>0.876359</td>\n",
       "      <td>0.123641</td>\n",
       "    </tr>\n",
       "    <tr>\n",
       "      <th>Neural Network</th>\n",
       "      <td>0.876359</td>\n",
       "      <td>0.876359</td>\n",
       "      <td>0.876359</td>\n",
       "      <td>0.876359</td>\n",
       "      <td>0.859702</td>\n",
       "      <td>0.876359</td>\n",
       "      <td>0.123641</td>\n",
       "    </tr>\n",
       "    <tr>\n",
       "      <th>Perceptron</th>\n",
       "      <td>0.795535</td>\n",
       "      <td>0.795535</td>\n",
       "      <td>0.795535</td>\n",
       "      <td>0.795535</td>\n",
       "      <td>0.680207</td>\n",
       "      <td>0.795535</td>\n",
       "      <td>0.204465</td>\n",
       "    </tr>\n",
       "    <tr>\n",
       "      <th>Most Frequent Clasifier</th>\n",
       "      <td>0.500000</td>\n",
       "      <td>0.500000</td>\n",
       "      <td>0.500000</td>\n",
       "      <td>0.500000</td>\n",
       "      <td>0.000000</td>\n",
       "      <td>0.500000</td>\n",
       "      <td>0.500000</td>\n",
       "    </tr>\n",
       "    <tr>\n",
       "      <th>Dummy Classifier</th>\n",
       "      <td>0.499539</td>\n",
       "      <td>0.499539</td>\n",
       "      <td>0.499539</td>\n",
       "      <td>0.499539</td>\n",
       "      <td>0.498978</td>\n",
       "      <td>0.499539</td>\n",
       "      <td>0.500461</td>\n",
       "    </tr>\n",
       "  </tbody>\n",
       "</table>\n",
       "</div>"
      ],
      "text/plain": [
       "                                Balanced Accuracy  Sensitivity  Specificity  \\\n",
       "Decision Tree (max_depth=None)           0.876412     0.876412     0.876412   \n",
       "RandomForest                             0.876412     0.876412     0.876412   \n",
       "XGBoost                                  0.876398     0.876398     0.876398   \n",
       "GradientBoostingForest                   0.876385     0.876385     0.876385   \n",
       "GNB                                      0.876359     0.876359     0.876359   \n",
       "Neural Network                           0.876359     0.876359     0.876359   \n",
       "Perceptron                               0.795535     0.795535     0.795535   \n",
       "Most Frequent Clasifier                  0.500000     0.500000     0.500000   \n",
       "Dummy Classifier                         0.499539     0.499539     0.499539   \n",
       "\n",
       "                                   AUROC        F1  Geometric Mean  \\\n",
       "Decision Tree (max_depth=None)  0.876412  0.859715        0.876412   \n",
       "RandomForest                    0.876412  0.859728        0.876412   \n",
       "XGBoost                         0.876398  0.859732        0.876398   \n",
       "GradientBoostingForest          0.876385  0.859715        0.876385   \n",
       "GNB                             0.876359  0.859702        0.876359   \n",
       "Neural Network                  0.876359  0.859702        0.876359   \n",
       "Perceptron                      0.795535  0.680207        0.795535   \n",
       "Most Frequent Clasifier         0.500000  0.000000        0.500000   \n",
       "Dummy Classifier                0.499539  0.498978        0.499539   \n",
       "\n",
       "                                Macro Average MAE  \n",
       "Decision Tree (max_depth=None)           0.123588  \n",
       "RandomForest                             0.123588  \n",
       "XGBoost                                  0.123602  \n",
       "GradientBoostingForest                   0.123615  \n",
       "GNB                                      0.123641  \n",
       "Neural Network                           0.123641  \n",
       "Perceptron                               0.204465  \n",
       "Most Frequent Clasifier                  0.500000  \n",
       "Dummy Classifier                         0.500461  "
      ]
     },
     "execution_count": 121,
     "metadata": {},
     "output_type": "execute_result"
    }
   ],
   "source": [
    "results = pd.DataFrame([prediction_train[name] for name in models.keys()], index=models.keys())\n",
    "results.sort_values('AUROC', ascending=False)"
   ]
  }
 ],
 "metadata": {
  "kernelspec": {
   "display_name": "Python 3",
   "language": "python",
   "name": "python3"
  },
  "language_info": {
   "codemirror_mode": {
    "name": "ipython",
    "version": 3
   },
   "file_extension": ".py",
   "mimetype": "text/x-python",
   "name": "python",
   "nbconvert_exporter": "python",
   "pygments_lexer": "ipython3",
   "version": "3.8.5"
  }
 },
 "nbformat": 4,
 "nbformat_minor": 4
}
